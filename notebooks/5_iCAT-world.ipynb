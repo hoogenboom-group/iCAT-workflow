{
 "cells": [
  {
   "cell_type": "markdown",
   "metadata": {},
   "source": [
    "# iCAT world\n",
    "---\n",
    "\n",
    "#### Overview\n",
    "Notebook to create stacks of tile specifications in \"real-world\" or \"physical\" coordinate space (aka microns). This is to facilitate `5_iCAT-correlate.ipynb` as there is otherwise no way of knowing _a priori_ which high-mag EM tiles overlap with each low-mag EM tile."
   ]
  },
  {
   "cell_type": "markdown",
   "metadata": {},
   "source": [
    "#### Packages"
   ]
  },
  {
   "cell_type": "code",
   "execution_count": 3,
   "metadata": {},
   "outputs": [],
   "source": [
    "from pathlib import Path\n",
    "from tqdm.notebook import tqdm\n",
    "\n",
    "import numpy as np\n",
    "import pandas as pd\n",
    "import matplotlib.pyplot as plt\n",
    "\n",
    "import renderapi\n",
    "import icatapi"
   ]
  },
  {
   "cell_type": "markdown",
   "metadata": {},
   "source": [
    "#### Settings"
   ]
  },
  {
   "cell_type": "code",
   "execution_count": 2,
   "metadata": {},
   "outputs": [],
   "source": [
    "# pandas display settings\n",
    "pd.set_option('display.max_rows', 20)\n",
    "pd.set_option('display.width', None)\n",
    "pd.set_option('display.max_colwidth', 15)\n",
    "\n",
    "# Indirectly enable autocomplete\n",
    "%config Completer.use_jedi = False"
   ]
  },
  {
   "cell_type": "markdown",
   "metadata": {},
   "source": [
    "## Set up environment\n",
    "---"
   ]
  },
  {
   "cell_type": "code",
   "execution_count": 4,
   "metadata": {},
   "outputs": [
    {
     "data": {
      "text/plain": [
       "{'host': 'http://sonic.tnw.tudelft.nl',\n",
       " 'port': 8080,\n",
       " 'owner': 'rlane',\n",
       " 'project': 'ratpancreas_partial',\n",
       " 'client_scripts': '/home/catmaid/render/render-ws-java-client/src/main/scripts',\n",
       " 'client_script': '/home/catmaid/render/render-ws-java-client/src/main/scripts/run_ws_client.sh',\n",
       " 'memGB': '2G'}"
      ]
     },
     "execution_count": 4,
     "metadata": {},
     "output_type": "execute_result"
    }
   ],
   "source": [
    "# `render` project parameters\n",
    "# ---------------------------\n",
    "owner = 'rlane'\n",
    "project = 'ratpancreas_partial'\n",
    "\n",
    "# Create a renderapi.connect.Render object\n",
    "# ----------------------------------------\n",
    "render_connect_params = {\n",
    "    'host': 'sonic.tnw.tudelft.nl',\n",
    "    'port': 8080,\n",
    "    'owner': owner,\n",
    "    'project': project,\n",
    "    'client_scripts': '/home/catmaid/render/render-ws-java-client/src/main/scripts',\n",
    "    'memGB': '2G'\n",
    "}\n",
    "render = renderapi.connect(**render_connect_params)\n",
    "render.make_kwargs()"
   ]
  },
  {
   "cell_type": "code",
   "execution_count": 5,
   "metadata": {},
   "outputs": [
    {
     "name": "stdout",
     "output_type": "stream",
     "text": [
      "all stacks.......... ['EM_lomag_overlaid', 'exc_555nm_overlaid', 'exc_405nm_overlaid', 'EM_himag_aligned', 'EM_himag_aligned_fine', 'EM_himag_aligned_rough', 'EM_himag_dsmontages_aligned', 'EM_himag_dsmontages', 'EM_himag_stitched', 'EM_himag_montaged', 'exc_555nm', 'exc_405nm', 'EM_lomag', 'EM_himag']\n",
      "EM stacks........... ['EM_lomag_overlaid', 'EM_himag_aligned', 'EM_himag_aligned_fine', 'EM_himag_aligned_rough', 'EM_himag_dsmontages_aligned', 'EM_himag_dsmontages', 'EM_himag_stitched', 'EM_himag_montaged', 'EM_lomag', 'EM_himag']\n",
      "FM stacks........... ['exc_555nm_overlaid', 'exc_405nm_overlaid', 'exc_555nm', 'exc_405nm']\n",
      "...\n",
      "\n"
     ]
    },
    {
     "data": {
      "text/html": [
       "<div>\n",
       "<style scoped>\n",
       "    .dataframe tbody tr th:only-of-type {\n",
       "        vertical-align: middle;\n",
       "    }\n",
       "\n",
       "    .dataframe tbody tr th {\n",
       "        vertical-align: top;\n",
       "    }\n",
       "\n",
       "    .dataframe thead th {\n",
       "        text-align: right;\n",
       "    }\n",
       "</style>\n",
       "<table border=\"1\" class=\"dataframe\">\n",
       "  <thead>\n",
       "    <tr style=\"text-align: right;\">\n",
       "      <th></th>\n",
       "      <th></th>\n",
       "      <th>tileId</th>\n",
       "      <th>z</th>\n",
       "      <th>width</th>\n",
       "      <th>height</th>\n",
       "      <th>minint</th>\n",
       "      <th>maxint</th>\n",
       "      <th>imagePyramid</th>\n",
       "      <th>tforms</th>\n",
       "      <th>stack</th>\n",
       "      <th>sectionId</th>\n",
       "      <th>imageRow</th>\n",
       "      <th>imageCol</th>\n",
       "      <th>stageX</th>\n",
       "      <th>stageY</th>\n",
       "    </tr>\n",
       "    <tr>\n",
       "      <th>stack</th>\n",
       "      <th></th>\n",
       "      <th></th>\n",
       "      <th></th>\n",
       "      <th></th>\n",
       "      <th></th>\n",
       "      <th></th>\n",
       "      <th></th>\n",
       "      <th></th>\n",
       "      <th></th>\n",
       "      <th></th>\n",
       "      <th></th>\n",
       "      <th></th>\n",
       "      <th></th>\n",
       "      <th></th>\n",
       "      <th></th>\n",
       "    </tr>\n",
       "  </thead>\n",
       "  <tbody>\n",
       "    <tr>\n",
       "      <th rowspan=\"3\" valign=\"top\">EM_himag</th>\n",
       "      <th>12</th>\n",
       "      <td>aai_EM_hima...</td>\n",
       "      <td>0.0</td>\n",
       "      <td>4096.0</td>\n",
       "      <td>4096.0</td>\n",
       "      <td>31540.0</td>\n",
       "      <td>35118.0</td>\n",
       "      <td>[0, 1, 2, 3...</td>\n",
       "      <td>[M=[[1.0000...</td>\n",
       "      <td>EM_himag</td>\n",
       "      <td>S004</td>\n",
       "      <td>5</td>\n",
       "      <td>5</td>\n",
       "      <td>1061.681</td>\n",
       "      <td>6353.054</td>\n",
       "    </tr>\n",
       "    <tr>\n",
       "      <th>4</th>\n",
       "      <td>aaa_EM_hima...</td>\n",
       "      <td>0.0</td>\n",
       "      <td>4096.0</td>\n",
       "      <td>4096.0</td>\n",
       "      <td>31540.0</td>\n",
       "      <td>35118.0</td>\n",
       "      <td>[0, 1, 2, 3...</td>\n",
       "      <td>[M=[[1.0000...</td>\n",
       "      <td>EM_himag</td>\n",
       "      <td>S004</td>\n",
       "      <td>6</td>\n",
       "      <td>6</td>\n",
       "      <td>1078.477</td>\n",
       "      <td>6335.559</td>\n",
       "    </tr>\n",
       "    <tr>\n",
       "      <th>9</th>\n",
       "      <td>aaf_EM_hima...</td>\n",
       "      <td>0.0</td>\n",
       "      <td>4096.0</td>\n",
       "      <td>4096.0</td>\n",
       "      <td>31540.0</td>\n",
       "      <td>35118.0</td>\n",
       "      <td>[0, 1, 2, 3...</td>\n",
       "      <td>[M=[[1.0000...</td>\n",
       "      <td>EM_himag</td>\n",
       "      <td>S004</td>\n",
       "      <td>5</td>\n",
       "      <td>2</td>\n",
       "      <td>1009.028</td>\n",
       "      <td>6353.052</td>\n",
       "    </tr>\n",
       "    <tr>\n",
       "      <th rowspan=\"3\" valign=\"top\">EM_lomag</th>\n",
       "      <th>2</th>\n",
       "      <td>aaa_EM_loma...</td>\n",
       "      <td>2.0</td>\n",
       "      <td>4096.0</td>\n",
       "      <td>4096.0</td>\n",
       "      <td>31916.0</td>\n",
       "      <td>33768.0</td>\n",
       "      <td>[0, 1, 2, 3...</td>\n",
       "      <td>[M=[[1.0000...</td>\n",
       "      <td>EM_lomag</td>\n",
       "      <td>S006</td>\n",
       "      <td>1</td>\n",
       "      <td>1</td>\n",
       "      <td>2226.245</td>\n",
       "      <td>6381.133</td>\n",
       "    </tr>\n",
       "    <tr>\n",
       "      <th>0</th>\n",
       "      <td>aaa_EM_loma...</td>\n",
       "      <td>0.0</td>\n",
       "      <td>4096.0</td>\n",
       "      <td>4096.0</td>\n",
       "      <td>31841.0</td>\n",
       "      <td>33740.0</td>\n",
       "      <td>[0, 1, 2, 3...</td>\n",
       "      <td>[M=[[1.0000...</td>\n",
       "      <td>EM_lomag</td>\n",
       "      <td>S004</td>\n",
       "      <td>1</td>\n",
       "      <td>1</td>\n",
       "      <td>1021.110</td>\n",
       "      <td>6371.003</td>\n",
       "    </tr>\n",
       "    <tr>\n",
       "      <th>1</th>\n",
       "      <td>aaa_EM_loma...</td>\n",
       "      <td>1.0</td>\n",
       "      <td>4096.0</td>\n",
       "      <td>4096.0</td>\n",
       "      <td>31843.0</td>\n",
       "      <td>33776.0</td>\n",
       "      <td>[0, 1, 2, 3...</td>\n",
       "      <td>[M=[[1.0000...</td>\n",
       "      <td>EM_lomag</td>\n",
       "      <td>S005</td>\n",
       "      <td>1</td>\n",
       "      <td>1</td>\n",
       "      <td>1621.125</td>\n",
       "      <td>6381.079</td>\n",
       "    </tr>\n",
       "  </tbody>\n",
       "</table>\n",
       "</div>"
      ],
      "text/plain": [
       "                     tileId    z   width  height   minint   maxint  \\\n",
       "stack                                                                \n",
       "EM_himag 12  aai_EM_hima...  0.0  4096.0  4096.0  31540.0  35118.0   \n",
       "         4   aaa_EM_hima...  0.0  4096.0  4096.0  31540.0  35118.0   \n",
       "         9   aaf_EM_hima...  0.0  4096.0  4096.0  31540.0  35118.0   \n",
       "EM_lomag 2   aaa_EM_loma...  2.0  4096.0  4096.0  31916.0  33768.0   \n",
       "         0   aaa_EM_loma...  0.0  4096.0  4096.0  31841.0  33740.0   \n",
       "         1   aaa_EM_loma...  1.0  4096.0  4096.0  31843.0  33776.0   \n",
       "\n",
       "               imagePyramid          tforms     stack sectionId  imageRow  \\\n",
       "stack                                                                       \n",
       "EM_himag 12  [0, 1, 2, 3...  [M=[[1.0000...  EM_himag      S004         5   \n",
       "         4   [0, 1, 2, 3...  [M=[[1.0000...  EM_himag      S004         6   \n",
       "         9   [0, 1, 2, 3...  [M=[[1.0000...  EM_himag      S004         5   \n",
       "EM_lomag 2   [0, 1, 2, 3...  [M=[[1.0000...  EM_lomag      S006         1   \n",
       "         0   [0, 1, 2, 3...  [M=[[1.0000...  EM_lomag      S004         1   \n",
       "         1   [0, 1, 2, 3...  [M=[[1.0000...  EM_lomag      S005         1   \n",
       "\n",
       "             imageCol    stageX    stageY  \n",
       "stack                                      \n",
       "EM_himag 12         5  1061.681  6353.054  \n",
       "         4          6  1078.477  6335.559  \n",
       "         9          2  1009.028  6353.052  \n",
       "EM_lomag 2          1  2226.245  6381.133  \n",
       "         0          1  1021.110  6371.003  \n",
       "         1          1  1621.125  6381.079  "
      ]
     },
     "execution_count": 5,
     "metadata": {},
     "output_type": "execute_result"
    }
   ],
   "source": [
    "# Infer stack and section info\n",
    "# ----------------------------\n",
    "stacks = renderapi.render.get_stacks_by_owner_project(render=render)\n",
    "stacks_EM = [stack for stack in stacks if 'EM' in stack]\n",
    "stacks_FM = [stack for stack in stacks if 'EM' not in stack]\n",
    "\n",
    "# Output\n",
    "# ------\n",
    "out = f\"\"\"\\\n",
    "all stacks.......... {stacks}\n",
    "EM stacks........... {stacks_EM}\n",
    "FM stacks........... {stacks_FM}\n",
    "...\n",
    "\"\"\"\n",
    "print(out)\n",
    "\n",
    "# Create stacks DataFrame\n",
    "# ------------------------\n",
    "stacks = ['EM_lomag', 'EM_himag']\n",
    "df_project = icatapi.create_stacks_DataFrame(stacks=stacks,\n",
    "                                             render=render)\n",
    "df_project.groupby('stack')\\\n",
    "          .apply(lambda x: x.sample(3))"
   ]
  },
  {
   "cell_type": "markdown",
   "metadata": {},
   "source": [
    "## Create world stacks\n",
    "---"
   ]
  },
  {
   "cell_type": "code",
   "execution_count": 7,
   "metadata": {},
   "outputs": [],
   "source": [
    "from matplotlib.transforms import Affine2D as AffineMPL\n",
    "from renderapi.transform import AffineModel as AffineRender\n",
    "\n",
    "from icatapi.overlay import get_transform_metadata"
   ]
  },
  {
   "cell_type": "code",
   "execution_count": 16,
   "metadata": {},
   "outputs": [
    {
     "data": {
      "application/vnd.jupyter.widget-view+json": {
       "model_id": "aafbda83f4cd45a699b734dcd6688307",
       "version_major": 2,
       "version_minor": 0
      },
      "text/plain": [
       "  0%|          | 0/2 [00:00<?, ?it/s]"
      ]
     },
     "metadata": {},
     "output_type": "display_data"
    },
    {
     "name": "stdout",
     "output_type": "stream",
     "text": [
      "Creating tile specifications for \u001b[1mEM_himag_world\u001b[0m...\n",
      "Importing tile specifications to \u001b[1mEM_himag_world\u001b[0m...\n",
      "Stack \u001b[1mEM_himag_world\u001b[0m created successfully.\n",
      "Creating tile specifications for \u001b[1mEM_lomag_world\u001b[0m...\n",
      "Importing tile specifications to \u001b[1mEM_lomag_world\u001b[0m...\n",
      "Stack \u001b[1mEM_lomag_world\u001b[0m created successfully.\n"
     ]
    }
   ],
   "source": [
    "channel_map = {\n",
    "    'EM_lomag': 'Secondary electrons',\n",
    "    'EM_himag': 'Secondary electrons'\n",
    "}\n",
    "\n",
    "# Loop through stacks\n",
    "for stack, df_stack in tqdm(df_project.groupby('stack')):\n",
    "\n",
    "    # Loop through tiles\n",
    "    for i, tile in df_stack.iterrows():\n",
    "\n",
    "        # Get transform metadata\n",
    "        fp = Path(tile['imagePyramid'][0].imageUrl.split('.nl')[1])\n",
    "        tform_md = get_transform_metadata(fp)\n",
    "        channel_name = channel_map[stack]\n",
    "        pixelsize, rotation, shear, translation = tform_md[channel_name]\n",
    "\n",
    "        # Convert from metres to microns\n",
    "        pixelsize = [1e6*ps for ps in pixelsize]      # m --> um\n",
    "        translation = [1e6*tr for tr in translation]  # m --> um\n",
    "\n",
    "        # Create transform\n",
    "        w = tile['width']\n",
    "        h = tile['height']\n",
    "        T = AffineMPL().translate(-w/2, -h/2)\\\n",
    "                       .scale(*pixelsize)\\\n",
    "                       .rotate(rotation)\\\n",
    "                       .skew(shear, 0)\\\n",
    "                       .translate( translation[0],\n",
    "                                  -translation[1])\n",
    "        A = AffineRender()\n",
    "        A.M = T.get_matrix()\n",
    "\n",
    "        # Replace transform in DataFrame\n",
    "        df_stack.at[i, 'tforms'] = [A]\n",
    "\n",
    "    # Create world stack\n",
    "    stack_world = f\"{stack}_world\"\n",
    "    icatapi.upload_stack_DataFrame(df=df_stack,\n",
    "                                   name=stack_world,\n",
    "                                   render=render)"
   ]
  },
  {
   "cell_type": "markdown",
   "metadata": {},
   "source": [
    "## Inspect stacks\n",
    "---"
   ]
  },
  {
   "cell_type": "code",
   "execution_count": 17,
   "metadata": {},
   "outputs": [],
   "source": [
    "from icatapi.plotting import plot_tile_map, plot_stacks"
   ]
  },
  {
   "cell_type": "markdown",
   "metadata": {},
   "source": [
    "### Map out tiles in `render` space"
   ]
  },
  {
   "cell_type": "code",
   "execution_count": 19,
   "metadata": {},
   "outputs": [
    {
     "data": {
      "application/vnd.jupyter.widget-view+json": {
       "model_id": "d3293e4e206644eb865d1e9c247b49b1",
       "version_major": 2,
       "version_minor": 0
      },
      "text/plain": [
       "  0%|          | 0/4 [00:00<?, ?it/s]"
      ]
     },
     "metadata": {},
     "output_type": "display_data"
    },
    {
     "data": {
      "image/png": "[encoded data removed]",
      "text/plain": [
       "<Figure size 2304x576 with 4 Axes>"
      ]
     },
     "metadata": {
      "needs_background": "light"
     },
     "output_type": "display_data"
    }
   ],
   "source": [
    "# Set stacks to plot\n",
    "stacks_2_plot = [stack for stack in stacks if 'world' in stack]\n",
    "\n",
    "# Plot tile map\n",
    "plot_tile_map(stacks_2_plot, render=render)"
   ]
  }
 ],
 "metadata": {
  "kernelspec": {
   "display_name": "Python 3",
   "language": "python",
   "name": "python3"
  },
  "language_info": {
   "codemirror_mode": {
    "name": "ipython",
    "version": 3
   },
   "file_extension": ".py",
   "mimetype": "text/x-python",
   "name": "python",
   "nbconvert_exporter": "python",
   "pygments_lexer": "ipython3",
   "version": "3.8.10"
  }
 },
 "nbformat": 4,
 "nbformat_minor": 4
}
