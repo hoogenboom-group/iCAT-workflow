{
 "cells": [
  {
   "cell_type": "markdown",
   "metadata": {},
   "source": [
    "# iCAT world\n",
    "---\n",
    "\n",
    "#### Overview\n",
    "Notebook to create stacks of tile specifications in \"real-world\" or \"physical\" coordinate space (aka microns). This is to facilitate `5_iCAT-correlate.ipynb` as there is otherwise no way of knowing _a priori_ which high-mag EM tiles overlap with each low-mag EM tile."
   ]
  },
  {
   "cell_type": "markdown",
   "metadata": {},
   "source": [
    "#### Packages"
   ]
  },
  {
   "cell_type": "code",
   "execution_count": 17,
   "metadata": {},
   "outputs": [],
   "source": [
    "from pathlib import Path\n",
    "from tqdm.notebook import tqdm\n",
    "\n",
    "import numpy as np\n",
    "import pandas as pd\n",
    "import matplotlib.pyplot as plt\n",
    "\n",
    "import renderapi\n",
    "import icatapi"
   ]
  },
  {
   "cell_type": "markdown",
   "metadata": {},
   "source": [
    "#### Settings"
   ]
  },
  {
   "cell_type": "code",
   "execution_count": 18,
   "metadata": {},
   "outputs": [],
   "source": [
    "# pandas display settings\n",
    "pd.set_option('display.max_rows', 20)\n",
    "pd.set_option('display.width', None)\n",
    "pd.set_option('display.max_colwidth', 15)\n",
    "\n",
    "# Indirectly enable autocomplete\n",
    "%config Completer.use_jedi = False"
   ]
  },
  {
   "cell_type": "markdown",
   "metadata": {},
   "source": [
    "## Set up environment\n",
    "---"
   ]
  },
  {
   "cell_type": "code",
   "execution_count": 19,
   "metadata": {},
   "outputs": [
    {
     "data": {
      "text/plain": [
       "{'host': 'http://localhost',\n",
       " 'port': 8081,\n",
       " 'owner': 'skaracoban',\n",
       " 'project': '20240219_PD05_final_test',\n",
       " 'client_scripts': '/home/catmaid/render/render-ws-java-client/src/main/scripts',\n",
       " 'client_script': '/home/catmaid/render/render-ws-java-client/src/main/scripts/run_ws_client.sh',\n",
       " 'memGB': '2G'}"
      ]
     },
     "execution_count": 19,
     "metadata": {},
     "output_type": "execute_result"
    }
   ],
   "source": [
    "# `render` project parameters\n",
    "# ---------------------------\n",
    "owner = 'skaracoban'\n",
    "project = '20240219_PD05_final_test'\n",
    "\n",
    "# Create a renderapi.connect.Render object\n",
    "# ----------------------------------------\n",
    "render_connect_params = {\n",
    "    'host': 'http://localhost',\n",
    "    'port': 8081,\n",
    "    'owner': owner,\n",
    "    'project': project,\n",
    "    'client_scripts': '/home/catmaid/render/render-ws-java-client/src/main/scripts',\n",
    "    'memGB': '2G'\n",
    "}\n",
    "render = renderapi.connect(**render_connect_params)\n",
    "render.make_kwargs()"
   ]
  },
  {
   "cell_type": "code",
   "execution_count": 20,
   "metadata": {},
   "outputs": [
    {
     "name": "stdout",
     "output_type": "stream",
     "text": [
      "all stacks.......... ['EM_lomag_overlaid', 'exc_405nm_overlaid', 'EM_himag_stitched', 'EM_himag_montaged', 'exc_405nm', 'EM_lomag', 'EM_himag']\n",
      "EM stacks........... ['EM_lomag_overlaid', 'EM_himag_stitched', 'EM_himag_montaged', 'EM_lomag', 'EM_himag']\n",
      "FM stacks........... ['exc_405nm_overlaid', 'exc_405nm']\n",
      "...\n",
      "\n"
     ]
    },
    {
     "name": "stderr",
     "output_type": "stream",
     "text": [
      "/tmp/ipykernel_1500438/1607255090.py:23: DeprecationWarning: DataFrameGroupBy.apply operated on the grouping columns. This behavior is deprecated, and in a future version of pandas the grouping columns will be excluded from the operation. Either pass `include_groups=False` to exclude the groupings or explicitly select the grouping columns after groupby to silence this warning.\n",
      "  .apply(lambda x: x.sample(3))\n"
     ]
    },
    {
     "data": {
      "text/html": [
       "<div>\n",
       "<style scoped>\n",
       "    .dataframe tbody tr th:only-of-type {\n",
       "        vertical-align: middle;\n",
       "    }\n",
       "\n",
       "    .dataframe tbody tr th {\n",
       "        vertical-align: top;\n",
       "    }\n",
       "\n",
       "    .dataframe thead th {\n",
       "        text-align: right;\n",
       "    }\n",
       "</style>\n",
       "<table border=\"1\" class=\"dataframe\">\n",
       "  <thead>\n",
       "    <tr style=\"text-align: right;\">\n",
       "      <th></th>\n",
       "      <th></th>\n",
       "      <th>tileId</th>\n",
       "      <th>z</th>\n",
       "      <th>width</th>\n",
       "      <th>height</th>\n",
       "      <th>minint</th>\n",
       "      <th>maxint</th>\n",
       "      <th>imagePyramid</th>\n",
       "      <th>tforms</th>\n",
       "      <th>stack</th>\n",
       "      <th>sectionId</th>\n",
       "      <th>imageRow</th>\n",
       "      <th>imageCol</th>\n",
       "      <th>stageX</th>\n",
       "      <th>stageY</th>\n",
       "    </tr>\n",
       "    <tr>\n",
       "      <th>stack</th>\n",
       "      <th></th>\n",
       "      <th></th>\n",
       "      <th></th>\n",
       "      <th></th>\n",
       "      <th></th>\n",
       "      <th></th>\n",
       "      <th></th>\n",
       "      <th></th>\n",
       "      <th></th>\n",
       "      <th></th>\n",
       "      <th></th>\n",
       "      <th></th>\n",
       "      <th></th>\n",
       "      <th></th>\n",
       "      <th></th>\n",
       "    </tr>\n",
       "  </thead>\n",
       "  <tbody>\n",
       "    <tr>\n",
       "      <th rowspan=\"3\" valign=\"top\">EM_himag</th>\n",
       "      <th>60</th>\n",
       "      <td>abz_EM_hima...</td>\n",
       "      <td>0.0</td>\n",
       "      <td>4096.0</td>\n",
       "      <td>4096.0</td>\n",
       "      <td>32348.0</td>\n",
       "      <td>37075.0</td>\n",
       "      <td>[0, 1, 2, 3...</td>\n",
       "      <td>[M=[[1.0000...</td>\n",
       "      <td>EM_himag</td>\n",
       "      <td>S001</td>\n",
       "      <td>1</td>\n",
       "      <td>3</td>\n",
       "      <td>635.920</td>\n",
       "      <td>-2578.932</td>\n",
       "    </tr>\n",
       "    <tr>\n",
       "      <th>57</th>\n",
       "      <td>abw_EM_hima...</td>\n",
       "      <td>0.0</td>\n",
       "      <td>4096.0</td>\n",
       "      <td>4096.0</td>\n",
       "      <td>32348.0</td>\n",
       "      <td>37075.0</td>\n",
       "      <td>[0, 1, 2, 3...</td>\n",
       "      <td>[M=[[1.0000...</td>\n",
       "      <td>EM_himag</td>\n",
       "      <td>S001</td>\n",
       "      <td>1</td>\n",
       "      <td>0</td>\n",
       "      <td>604.816</td>\n",
       "      <td>-2578.929</td>\n",
       "    </tr>\n",
       "    <tr>\n",
       "      <th>66</th>\n",
       "      <td>acf_EM_hima...</td>\n",
       "      <td>0.0</td>\n",
       "      <td>4096.0</td>\n",
       "      <td>4096.0</td>\n",
       "      <td>32348.0</td>\n",
       "      <td>37075.0</td>\n",
       "      <td>[0, 1, 2, 3...</td>\n",
       "      <td>[M=[[1.0000...</td>\n",
       "      <td>EM_himag</td>\n",
       "      <td>S001</td>\n",
       "      <td>0</td>\n",
       "      <td>6</td>\n",
       "      <td>667.012</td>\n",
       "      <td>-2568.419</td>\n",
       "    </tr>\n",
       "    <tr>\n",
       "      <th rowspan=\"3\" valign=\"top\">EM_lomag</th>\n",
       "      <th>1</th>\n",
       "      <td>aab_EM_loma...</td>\n",
       "      <td>0.0</td>\n",
       "      <td>4096.0</td>\n",
       "      <td>4096.0</td>\n",
       "      <td>33394.0</td>\n",
       "      <td>37056.0</td>\n",
       "      <td>[0, 1, 2, 3...</td>\n",
       "      <td>[M=[[1.0000...</td>\n",
       "      <td>EM_lomag</td>\n",
       "      <td>S001</td>\n",
       "      <td>2</td>\n",
       "      <td>1</td>\n",
       "      <td>740.264</td>\n",
       "      <td>-2881.588</td>\n",
       "    </tr>\n",
       "    <tr>\n",
       "      <th>5</th>\n",
       "      <td>aaf_EM_loma...</td>\n",
       "      <td>0.0</td>\n",
       "      <td>4096.0</td>\n",
       "      <td>4096.0</td>\n",
       "      <td>33394.0</td>\n",
       "      <td>37056.0</td>\n",
       "      <td>[0, 1, 2, 3...</td>\n",
       "      <td>[M=[[1.0000...</td>\n",
       "      <td>EM_lomag</td>\n",
       "      <td>S001</td>\n",
       "      <td>1</td>\n",
       "      <td>2</td>\n",
       "      <td>918.972</td>\n",
       "      <td>-2700.333</td>\n",
       "    </tr>\n",
       "    <tr>\n",
       "      <th>4</th>\n",
       "      <td>aae_EM_loma...</td>\n",
       "      <td>0.0</td>\n",
       "      <td>4096.0</td>\n",
       "      <td>4096.0</td>\n",
       "      <td>33394.0</td>\n",
       "      <td>37056.0</td>\n",
       "      <td>[0, 1, 2, 3...</td>\n",
       "      <td>[M=[[1.0000...</td>\n",
       "      <td>EM_lomag</td>\n",
       "      <td>S001</td>\n",
       "      <td>1</td>\n",
       "      <td>1</td>\n",
       "      <td>740.259</td>\n",
       "      <td>-2700.292</td>\n",
       "    </tr>\n",
       "  </tbody>\n",
       "</table>\n",
       "</div>"
      ],
      "text/plain": [
       "                     tileId    z   width  height   minint   maxint  \\\n",
       "stack                                                                \n",
       "EM_himag 60  abz_EM_hima...  0.0  4096.0  4096.0  32348.0  37075.0   \n",
       "         57  abw_EM_hima...  0.0  4096.0  4096.0  32348.0  37075.0   \n",
       "         66  acf_EM_hima...  0.0  4096.0  4096.0  32348.0  37075.0   \n",
       "EM_lomag 1   aab_EM_loma...  0.0  4096.0  4096.0  33394.0  37056.0   \n",
       "         5   aaf_EM_loma...  0.0  4096.0  4096.0  33394.0  37056.0   \n",
       "         4   aae_EM_loma...  0.0  4096.0  4096.0  33394.0  37056.0   \n",
       "\n",
       "               imagePyramid          tforms     stack sectionId  imageRow  \\\n",
       "stack                                                                       \n",
       "EM_himag 60  [0, 1, 2, 3...  [M=[[1.0000...  EM_himag      S001         1   \n",
       "         57  [0, 1, 2, 3...  [M=[[1.0000...  EM_himag      S001         1   \n",
       "         66  [0, 1, 2, 3...  [M=[[1.0000...  EM_himag      S001         0   \n",
       "EM_lomag 1   [0, 1, 2, 3...  [M=[[1.0000...  EM_lomag      S001         2   \n",
       "         5   [0, 1, 2, 3...  [M=[[1.0000...  EM_lomag      S001         1   \n",
       "         4   [0, 1, 2, 3...  [M=[[1.0000...  EM_lomag      S001         1   \n",
       "\n",
       "             imageCol   stageX    stageY  \n",
       "stack                                     \n",
       "EM_himag 60         3  635.920 -2578.932  \n",
       "         57         0  604.816 -2578.929  \n",
       "         66         6  667.012 -2568.419  \n",
       "EM_lomag 1          1  740.264 -2881.588  \n",
       "         5          2  918.972 -2700.333  \n",
       "         4          1  740.259 -2700.292  "
      ]
     },
     "execution_count": 20,
     "metadata": {},
     "output_type": "execute_result"
    }
   ],
   "source": [
    "# Infer stack and section info\n",
    "# ----------------------------\n",
    "stacks = renderapi.render.get_stacks_by_owner_project(render=render)\n",
    "stacks_EM = [stack for stack in stacks if 'EM' in stack]\n",
    "stacks_FM = [stack for stack in stacks if 'EM' not in stack]\n",
    "\n",
    "# Output\n",
    "# ------\n",
    "out = f\"\"\"\\\n",
    "all stacks.......... {stacks}\n",
    "EM stacks........... {stacks_EM}\n",
    "FM stacks........... {stacks_FM}\n",
    "...\n",
    "\"\"\"\n",
    "print(out)\n",
    "\n",
    "# Create stacks DataFrame\n",
    "# ------------------------\n",
    "stacks = ['EM_lomag', 'EM_himag']\n",
    "df_project = icatapi.create_stacks_DataFrame(stacks=stacks,\n",
    "                                             render=render)\n",
    "df_project.groupby('stack')\\\n",
    "          .apply(lambda x: x.sample(3))"
   ]
  },
  {
   "cell_type": "markdown",
   "metadata": {},
   "source": [
    "## Create world stacks\n",
    "---"
   ]
  },
  {
   "cell_type": "code",
   "execution_count": 21,
   "metadata": {},
   "outputs": [],
   "source": [
    "from matplotlib.transforms import Affine2D as AffineMPL\n",
    "from renderapi.transform import AffineModel as AffineRender\n",
    "\n",
    "from icatapi.overlay import get_transform_metadata"
   ]
  },
  {
   "cell_type": "code",
   "execution_count": 22,
   "metadata": {},
   "outputs": [
    {
     "data": {
      "application/vnd.jupyter.widget-view+json": {
       "model_id": "337fb25a60614180a2d870b38314f162",
       "version_major": 2,
       "version_minor": 0
      },
      "text/plain": [
       "  0%|          | 0/2 [00:00<?, ?it/s]"
      ]
     },
     "metadata": {},
     "output_type": "display_data"
    },
    {
     "name": "stderr",
     "output_type": "stream",
     "text": [
      "/home/skaracoban/render_code/iCAT-workflow/icatapi/overlay.py:35: XMLParsedAsHTMLWarning: It looks like you're parsing an XML document using an HTML parser. If this really is an HTML document (maybe it's XHTML?), you can ignore or filter this warning. If it's XML, you should know that using an XML parser will be more reliable. To parse this document as XML, make sure you have the lxml package installed, and pass the keyword argument `features=\"xml\"` into the BeautifulSoup constructor.\n",
      "  metadata = Soup(xml_data, 'lxml')\n"
     ]
    },
    {
     "name": "stdout",
     "output_type": "stream",
     "text": [
      "EM_himag_world\n",
      "Creating tile specifications for \u001b[1mEM_himag_world\u001b[0m...\n",
      "Importing tile specifications to \u001b[1mEM_himag_world\u001b[0m...\n",
      "org.janelia.render.client.ImportJsonClient\n",
      "\n",
      "  Running: /home/catmaid/render/deploy/jdk1.8.0_131/bin/java -cp /home/catmaid/render/render-ws-java-client/target/render-ws-java-client-2.0.1-SNAPSHOT-standalone.jar -Xms2G -Xmx2G -Djava.awt.headless=true -XX:+UseSerialGC org.janelia.render.client.ImportJsonClient --baseDataUrl http://localhost:8081/render-ws/v1 --owner skaracoban --project 20240219_PD05_final_test --stack EM_himag_world /tmp/tmpjvuzfeym.json\n",
      "\n",
      "\n",
      "15:42:30.160 [main] INFO  [org.janelia.render.client.ClientRunner] run: entry\n",
      "15:42:30.367 [main] INFO  [org.janelia.render.client.ImportJsonClient] runClient: entry, parameters={\n",
      "  \"renderWeb\" : {\n",
      "    \"baseDataUrl\" : \"http://localhost:8081/render-ws/v1\",\n",
      "    \"owner\" : \"skaracoban\",\n",
      "    \"project\" : \"20240219_PD05_final_test\"\n",
      "  },\n",
      "  \"tileSpecValidator\" : { },\n",
      "  \"stack\" : \"EM_himag_world\",\n",
      "  \"tileFiles\" : [\n",
      "    \"/tmp/tmpjvuzfeym.json\"\n",
      "  ]\n",
      "}\n",
      "15:42:30.714 [main] INFO  [org.janelia.render.client.RenderDataClient] getStackMetaData: submitting GET http://localhost:8081/render-ws/v1/owner/skaracoban/project/20240219_PD05_final_test/stack/EM_himag_world\n",
      "15:42:30.822 [main] INFO  [org.janelia.render.client.RenderDataClient] ensureStackIsInLoadingState: EM_himag_world stack is already in the LOADING state\n",
      "15:42:30.822 [main] INFO  [org.janelia.render.client.ImportJsonClient] loadTransformData: exit, loaded 0 transform specs\n",
      "15:42:30.822 [main] INFO  [org.janelia.render.client.ImportJsonClient] importStackData: entry, tileFile=/tmp/tmpjvuzfeym.json\n",
      "15:42:30.822 [main] INFO  [org.janelia.render.client.ImportJsonClient] loadTileData: entry, path=/tmp/tmpjvuzfeym.json\n",
      "15:42:30.880 [main] INFO  [org.janelia.render.client.ImportJsonClient] loadTileData: exit, loaded 64 tile specs\n",
      "15:42:30.905 [main] INFO  [org.janelia.render.client.ImportJsonClient] importStackData: derived bounding box for 64 tiles, elapsedSeconds=0\n",
      "15:42:30.953 [main] INFO  [org.janelia.render.client.RenderDataClient] saveResolvedTiles: submitting PUT http://localhost:8081/render-ws/v1/owner/skaracoban/project/20240219_PD05_final_test/stack/EM_himag_world/resolvedTiles for 0 transforms and 64 tiles\n",
      "15:42:30.998 [main] INFO  [org.janelia.render.client.ImportJsonClient] importStackData: exit, saved tiles and transforms from /tmp/tmpjvuzfeym.json\n",
      "15:42:30.998 [main] INFO  [org.janelia.render.client.ClientRunner] run: exit, processing completed in 0 hours, 0 minutes, 0 seconds\n",
      "Stack \u001b[1mEM_himag_world\u001b[0m created successfully.\n",
      "EM_lomag_world\n",
      "Creating tile specifications for \u001b[1mEM_lomag_world\u001b[0m...\n",
      "Importing tile specifications to \u001b[1mEM_lomag_world\u001b[0m...\n",
      "org.janelia.render.client.ImportJsonClient\n",
      "\n",
      "  Running: /home/catmaid/render/deploy/jdk1.8.0_131/bin/java -cp /home/catmaid/render/render-ws-java-client/target/render-ws-java-client-2.0.1-SNAPSHOT-standalone.jar -Xms2G -Xmx2G -Djava.awt.headless=true -XX:+UseSerialGC org.janelia.render.client.ImportJsonClient --baseDataUrl http://localhost:8081/render-ws/v1 --owner skaracoban --project 20240219_PD05_final_test --stack EM_lomag_world /tmp/tmpddsfc980.json\n",
      "\n",
      "\n",
      "15:42:31.954 [main] INFO  [org.janelia.render.client.ClientRunner] run: entry\n",
      "15:42:32.187 [main] INFO  [org.janelia.render.client.ImportJsonClient] runClient: entry, parameters={\n",
      "  \"renderWeb\" : {\n",
      "    \"baseDataUrl\" : \"http://localhost:8081/render-ws/v1\",\n",
      "    \"owner\" : \"skaracoban\",\n",
      "    \"project\" : \"20240219_PD05_final_test\"\n",
      "  },\n",
      "  \"tileSpecValidator\" : { },\n",
      "  \"stack\" : \"EM_lomag_world\",\n",
      "  \"tileFiles\" : [\n",
      "    \"/tmp/tmpddsfc980.json\"\n",
      "  ]\n",
      "}\n",
      "15:42:32.560 [main] INFO  [org.janelia.render.client.RenderDataClient] getStackMetaData: submitting GET http://localhost:8081/render-ws/v1/owner/skaracoban/project/20240219_PD05_final_test/stack/EM_lomag_world\n",
      "15:42:32.717 [main] INFO  [org.janelia.render.client.RenderDataClient] ensureStackIsInLoadingState: EM_lomag_world stack is already in the LOADING state\n",
      "15:42:32.717 [main] INFO  [org.janelia.render.client.ImportJsonClient] loadTransformData: exit, loaded 0 transform specs\n",
      "15:42:32.718 [main] INFO  [org.janelia.render.client.ImportJsonClient] importStackData: entry, tileFile=/tmp/tmpddsfc980.json\n",
      "15:42:32.718 [main] INFO  [org.janelia.render.client.ImportJsonClient] loadTileData: entry, path=/tmp/tmpddsfc980.json\n",
      "15:42:32.786 [main] INFO  [org.janelia.render.client.ImportJsonClient] loadTileData: exit, loaded 9 tile specs\n",
      "15:42:32.826 [main] INFO  [org.janelia.render.client.ImportJsonClient] importStackData: derived bounding box for 9 tiles, elapsedSeconds=0\n",
      "15:42:32.876 [main] INFO  [org.janelia.render.client.RenderDataClient] saveResolvedTiles: submitting PUT http://localhost:8081/render-ws/v1/owner/skaracoban/project/20240219_PD05_final_test/stack/EM_lomag_world/resolvedTiles for 0 transforms and 9 tiles\n",
      "15:42:32.892 [main] INFO  [org.janelia.render.client.ImportJsonClient] importStackData: exit, saved tiles and transforms from /tmp/tmpddsfc980.json\n",
      "15:42:32.893 [main] INFO  [org.janelia.render.client.ClientRunner] run: exit, processing completed in 0 hours, 0 minutes, 0 seconds\n",
      "Stack \u001b[1mEM_lomag_world\u001b[0m created successfully.\n"
     ]
    }
   ],
   "source": [
    "channel_map = {\n",
    "    'EM_lomag': 'Secondary electrons',\n",
    "    'EM_himag': 'Secondary electrons'\n",
    "}\n",
    "\n",
    "# Loop through stacks\n",
    "for stack, df_stack in tqdm(df_project.groupby('stack')):\n",
    "\n",
    "    # Loop through tiles\n",
    "    for i, tile in df_stack.iterrows():\n",
    "\n",
    "        # Get transform metadata\n",
    "        fp = Path(tile['imagePyramid'][0].imageUrl.split('.nl')[1])\n",
    "        tform_md = get_transform_metadata(fp)\n",
    "        channel_name = channel_map[stack]\n",
    "        pixelsize, rotation, shear, translation = tform_md[channel_name]\n",
    "\n",
    "        # Convert from metres to microns\n",
    "        pixelsize = [1e6*ps for ps in pixelsize]      # m --> um\n",
    "        translation = [1e6*tr for tr in translation]  # m --> um\n",
    "\n",
    "        # Create transform\n",
    "        w = tile['width']\n",
    "        h = tile['height']\n",
    "        T = AffineMPL().translate(-w/2, -h/2)\\\n",
    "                       .scale(*pixelsize)\\\n",
    "                       .rotate(rotation)\\\n",
    "                       .skew(shear, 0)\\\n",
    "                       .translate( translation[0],\n",
    "                                  -translation[1])\n",
    "        A = AffineRender()\n",
    "        A.M = T.get_matrix()\n",
    "\n",
    "        # Replace transform in DataFrame\n",
    "        df_stack.at[i, 'tforms'] = [A]\n",
    "\n",
    "    # Create world stack\n",
    "    stack_world = f\"{stack}_world\"\n",
    "    stacks += [stack_world]\n",
    "    print(stack_world)\n",
    "    icatapi.upload_stack_DataFrame(df=df_stack,\n",
    "                                   name=stack_world,\n",
    "                                   render=render)"
   ]
  },
  {
   "cell_type": "markdown",
   "metadata": {},
   "source": [
    "## Inspect stacks\n",
    "---"
   ]
  },
  {
   "cell_type": "code",
   "execution_count": 23,
   "metadata": {},
   "outputs": [],
   "source": [
    "from icatapi.plotting import plot_tile_map, plot_stacks"
   ]
  },
  {
   "cell_type": "markdown",
   "metadata": {},
   "source": [
    "### Map out tiles in `render` space"
   ]
  },
  {
   "cell_type": "code",
   "execution_count": 24,
   "metadata": {},
   "outputs": [
    {
     "data": {
      "application/vnd.jupyter.widget-view+json": {
       "model_id": "c043a18d124442a197f50da5d36a673a",
       "version_major": 2,
       "version_minor": 0
      },
      "text/plain": [
       "  0%|          | 0/1 [00:00<?, ?it/s]"
      ]
     },
     "metadata": {},
     "output_type": "display_data"
    },
    {
     "data": {
      "image/png": "[encoded data removed]",
      "text/plain": [
       "<Figure size 800x800 with 1 Axes>"
      ]
     },
     "metadata": {},
     "output_type": "display_data"
    }
   ],
   "source": [
    "# Set stacks to plot\n",
    "stacks_2_plot = [stack for stack in stacks if 'world' in stack]\n",
    "\n",
    "# Plot tile map\n",
    "plot_tile_map(stacks_2_plot, render=render)"
   ]
  }
 ],
 "metadata": {
  "kernelspec": {
   "display_name": "Python 3",
   "language": "python",
   "name": "python3"
  },
  "language_info": {
   "codemirror_mode": {
    "name": "ipython",
    "version": 3
   },
   "file_extension": ".py",
   "mimetype": "text/x-python",
   "name": "python",
   "nbconvert_exporter": "python",
   "pygments_lexer": "ipython3",
   "version": "3.1.0"
  }
 },
 "nbformat": 4,
 "nbformat_minor": 4
}
