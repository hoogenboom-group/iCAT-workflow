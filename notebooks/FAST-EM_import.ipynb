{
 "cells": [
  {
   "cell_type": "markdown",
   "id": "0ea7fe8d-5763-4bea-8d91-2b7b2ec7ab9b",
   "metadata": {},
   "source": [
    "# FAST-EM import\n",
    "---\n",
    "**Author**: Ryan Lane  \n",
    "**Date**: 6 April 2022\n",
    "\n",
    "#### Overview\n",
    "Quickly imports a FAST-EM project to `render-ws`.\n",
    "\n",
    "Assumes data is stored as\n",
    "\n",
    "Stack | Filepath\n",
    "- | -\n",
    "raw | `/.../asm_service/{date}/{project}/{section}/{row}_{col}_{zoom}.tiff`\n",
    "corrected | `/.../asm_service/{date}/{stack}/{section}/corrected/{row}_{col}_{zoom}.tiff`\n",
    "\n",
    "and outputs mipmaps of each field's pyramidal tiff to\n",
    "\n",
    "Stack | Filepath\n",
    "- | -\n",
    "raw | `/.../{project}/raw/{section}/{row}_{col}/{zoom}.tif`\n",
    "corrected | `/.../{project}/corrected/{section}/{row}_{col}/{zoom}.tif`\n",
    "\n",
    "**Warning**:\n",
    "Check filepath tree carefully before executing."
   ]
  },
  {
   "cell_type": "code",
   "execution_count": 1,
   "id": "827b67c0-e466-46a6-bdb9-a98463ddd2a2",
   "metadata": {},
   "outputs": [],
   "source": [
    "from pathlib import Path\n",
    "import re\n",
    "from ruamel.yaml import YAML\n",
    "\n",
    "from tqdm.notebook import tqdm\n",
    "import numpy as np\n",
    "import pandas as pd\n",
    "from tifffile import TiffFile\n",
    "\n",
    "import renderapi\n",
    "from renderapi.transform import AffineModel"
   ]
  },
  {
   "cell_type": "code",
   "execution_count": 97,
   "id": "fe0d5109-1c52-4ee0-959e-c62432151c96",
   "metadata": {},
   "outputs": [],
   "source": [
    "# Indirectly enable autocomplete\n",
    "%config Completer.use_jedi = False\n",
    "\n",
    "# pandas display options\n",
    "pd.set_option('display.max_colwidth', 20)"
   ]
  },
  {
   "cell_type": "markdown",
   "id": "9612d950-c3af-49ef-bfb5-e5852ff6fdab",
   "metadata": {},
   "source": [
    "#### Connect to `render-ws`"
   ]
  },
  {
   "cell_type": "code",
   "execution_count": 3,
   "id": "dc4b81ce-1d0b-4f2e-a355-9689b9b01e06",
   "metadata": {},
   "outputs": [
    {
     "data": {
      "text/plain": [
       "{'host': 'http://sonic.tnw.tudelft.nl',\n",
       " 'port': 8080,\n",
       " 'owner': 'rlane',\n",
       " 'project': '20220404_02_demo_Brain_10us',\n",
       " 'client_scripts': '/home/catmaid/render/render-ws-java-client/src/main/scripts',\n",
       " 'client_script': '/home/catmaid/render/render-ws-java-client/src/main/scripts/run_ws_client.sh',\n",
       " 'memGB': '2G'}"
      ]
     },
     "execution_count": 3,
     "metadata": {},
     "output_type": "execute_result"
    }
   ],
   "source": [
    "# render parameters\n",
    "owner = 'rlane'\n",
    "project = '20220404_02_demo_Brain_10us'\n",
    "\n",
    "# Create a renderapi.connect.Render object\n",
    "render_connect_params = {\n",
    "    'host': 'sonic.tnw.tudelft.nl',\n",
    "    'port': 8080,\n",
    "    'owner': owner,\n",
    "    'project': project,\n",
    "    'client_scripts': '/home/catmaid/render/render-ws-java-client/src/main/scripts',\n",
    "    'memGB': '2G',\n",
    "}\n",
    "render = renderapi.connect(**render_connect_params)\n",
    "render.make_kwargs()"
   ]
  },
  {
   "cell_type": "markdown",
   "id": "c5cfabca-8aa3-4ebb-80cf-d395f07a2fbf",
   "metadata": {},
   "source": [
    "#### Import and export directories"
   ]
  },
  {
   "cell_type": "code",
   "execution_count": 5,
   "id": "e6669eda-114d-47eb-b88b-a0c4bf29a4ba",
   "metadata": {},
   "outputs": [
    {
     "name": "stdout",
     "output_type": "stream",
     "text": [
      "total 32\n",
      "drwxrwxrwx 3 asmftp asmftp  8192 Apr  4 20:55 Ribbon_1_section_3_ROA-1\n",
      "drwxrwxrwx 3 asmftp asmftp 16384 Apr  4 19:19 Ribbon_1_section_5_ROA-1\n"
     ]
    }
   ],
   "source": [
    "# Import from\n",
    "dir_FASTEM = Path('/long_term_storage/asm_storage/asm_service/2022-04-04/02_demo_Brain_10us')\n",
    "# Export to\n",
    "dir_project = Path(f\"/long_term_storage/{owner}/FAST-EM/projects/{project}/\")\n",
    "\n",
    "# Stack directory\n",
    "!ls -l $dir_FASTEM"
   ]
  },
  {
   "cell_type": "markdown",
   "id": "962d883f-c9b0-4828-82c6-8c06f24c6a5e",
   "metadata": {},
   "source": [
    "## 1) Create mipmaps\n",
    "---\n",
    "\n",
    "#### Filepath layout\n",
    "Mimaps of each FAST-EM field are output to\n",
    "`{dir_project}/{stack}/{sectionId}/{row}_{col}/{zoom}.tif` e.g."
   ]
  },
  {
   "cell_type": "code",
   "execution_count": 50,
   "id": "f0de4792-3989-4608-8843-698715df841a",
   "metadata": {},
   "outputs": [
    {
     "name": "stdout",
     "output_type": "stream",
     "text": [
      "total 106264\n",
      "-rw-rw-r-- 1 rlane rlane 81920688 Apr 13 11:43 0.tif\n",
      "-rw-rw-r-- 1 rlane rlane 20480688 Apr 13 11:43 1.tif\n",
      "-rw-rw-r-- 1 rlane rlane  5120688 Apr 13 11:43 2.tif\n",
      "-rw-rw-r-- 1 rlane rlane  1280688 Apr 13 11:43 3.tif\n"
     ]
    }
   ],
   "source": [
    "%%bash\n",
    "ls -l /long_term_storage/rlane/FAST-EM/projects/20220404_02_demo_Brain_10us/raw/Ribbon_1_section_3_ROA-1/003_004/"
   ]
  },
  {
   "cell_type": "code",
   "execution_count": 49,
   "id": "2ebeeb9d-c52b-42c5-bfe9-8463a1c944e9",
   "metadata": {},
   "outputs": [],
   "source": [
    "from tifffile import TiffWriter\n",
    "\n",
    "def create_mipmaps(tiff, dir_out, metadata):\n",
    "    \"\"\"Create mipmaps from multi-page tiff\"\"\"\n",
    "    # Unpack pages\n",
    "    for i, page in enumerate(tiff.pages):\n",
    "        # Grayscale uint16 image\n",
    "        image = page.asarray()\n",
    "        # Write tiff\n",
    "        fp = dir_out / f\"{i}.tif\"\n",
    "        with TiffWriter(fp.as_posix()) as tif:\n",
    "            tif.save(image, metadata=metadata)"
   ]
  },
  {
   "cell_type": "markdown",
   "id": "31e0a396-2a0e-45cc-a0db-da77ac6c5a74",
   "metadata": {},
   "source": [
    "#### Raw"
   ]
  },
  {
   "cell_type": "code",
   "execution_count": 34,
   "id": "f4743e34-db4d-4739-b92e-a9142bf7a017",
   "metadata": {},
   "outputs": [
    {
     "data": {
      "application/vnd.jupyter.widget-view+json": {
       "model_id": "1c5de07599f649d68bd302485904c872",
       "version_major": 2,
       "version_minor": 0
      },
      "text/plain": [
       "  0%|          | 0/2 [00:00<?, ?it/s]"
      ]
     },
     "metadata": {},
     "output_type": "display_data"
    },
    {
     "data": {
      "application/vnd.jupyter.widget-view+json": {
       "model_id": "014a7d458296466abcfa20bb40c2cc09",
       "version_major": 2,
       "version_minor": 0
      },
      "text/plain": [
       "  0%|          | 0/487 [00:00<?, ?it/s]"
      ]
     },
     "metadata": {},
     "output_type": "display_data"
    },
    {
     "data": {
      "application/vnd.jupyter.widget-view+json": {
       "model_id": "b6b233a510a544e3bd07e285092bfca6",
       "version_major": 2,
       "version_minor": 0
      },
      "text/plain": [
       "  0%|          | 0/156 [00:00<?, ?it/s]"
      ]
     },
     "metadata": {},
     "output_type": "display_data"
    }
   ],
   "source": [
    "# Assume subdirectories of FAST-EM directories are different sections (durr)\n",
    "dir_sections = [dir_ for dir_ in dir_FASTEM.iterdir() if dir_.is_dir()]\n",
    "\n",
    "# Loop through section directories\n",
    "for z, dir_section in tqdm(enumerate(dir_sections),\n",
    "                           total=len(dir_sections)):\n",
    "\n",
    "    # Loop through tiffs in each section\n",
    "    for fp in tqdm(list(dir_section.glob('[0-9]*_[0-9]*_0.tiff'))):\n",
    "\n",
    "        # Read tiff\n",
    "        tiff = TiffFile(fp)\n",
    "        # Extract metadata\n",
    "        metadata = {tag.name: tag.value for tag in tiff.pages[0].tags}\n",
    "        # Infer row, col\n",
    "        row, col = [int(i) for i in re.findall(r'\\d+', fp.stem)][:2]\n",
    "\n",
    "        # Set directory to output mipmaps\n",
    "        dir_mipmaps = dir_project / 'raw' / dir_section.name / f\"{row:03d}_{col:03d}\"\n",
    "        dir_mipmaps.mkdir(parents=True, exist_ok=True)\n",
    "        # Create mipmaps\n",
    "        create_mipmaps(tiff, dir_mipmaps, metadata)    "
   ]
  },
  {
   "cell_type": "markdown",
   "id": "0f28e17e-5b0f-4883-a334-de235b9bbdeb",
   "metadata": {},
   "source": [
    "#### Corrected"
   ]
  },
  {
   "cell_type": "code",
   "execution_count": 35,
   "id": "5d95e5d3-04f0-4a35-91d5-70259420a959",
   "metadata": {},
   "outputs": [
    {
     "data": {
      "application/vnd.jupyter.widget-view+json": {
       "model_id": "deac318866bb42cfb29607890d9060ca",
       "version_major": 2,
       "version_minor": 0
      },
      "text/plain": [
       "  0%|          | 0/2 [00:00<?, ?it/s]"
      ]
     },
     "metadata": {},
     "output_type": "display_data"
    },
    {
     "data": {
      "application/vnd.jupyter.widget-view+json": {
       "model_id": "751a8df947074243b033dfa378199346",
       "version_major": 2,
       "version_minor": 0
      },
      "text/plain": [
       "  0%|          | 0/487 [00:00<?, ?it/s]"
      ]
     },
     "metadata": {},
     "output_type": "display_data"
    },
    {
     "data": {
      "application/vnd.jupyter.widget-view+json": {
       "model_id": "57e5316e95a14d49894253deffe8a8c7",
       "version_major": 2,
       "version_minor": 0
      },
      "text/plain": [
       "  0%|          | 0/156 [00:00<?, ?it/s]"
      ]
     },
     "metadata": {},
     "output_type": "display_data"
    }
   ],
   "source": [
    "# Loop through section directories\n",
    "for z, dir_section in tqdm(enumerate(dir_sections),\n",
    "                           total=len(dir_sections)):\n",
    "\n",
    "    # Loop through tiffs in each section\n",
    "    for fp in tqdm(list(dir_section.glob('corrected/[0-9]*_[0-9]*_0.tiff'))):\n",
    "\n",
    "        # Read tiff\n",
    "        tiff = TiffFile(fp)\n",
    "        # Extract metadata\n",
    "        metadata = {tag.name: tag.value for tag in tiff.pages[0].tags}\n",
    "        # Infer row, col\n",
    "        row, col = [int(i) for i in re.findall(r'\\d+', fp.stem)[:2]]\n",
    "\n",
    "        # Set directory to output mipmaps\n",
    "        dir_mipmaps = dir_project / 'corrected' / dir_section.name / f\"{row:03d}_{col:03d}\"\n",
    "        dir_mipmaps.mkdir(parents=True, exist_ok=True)\n",
    "        # Create mipmaps\n",
    "        create_mipmaps(tiff, dir_mipmaps, metadata)    "
   ]
  },
  {
   "cell_type": "markdown",
   "id": "4f45ddd7-554a-40f1-bf4b-a2317a432ba0",
   "metadata": {},
   "source": [
    "## 2) Create tile specifications\n",
    "---\n",
    "\n",
    "#### Filepath layout\n",
    "Reminder that mimaps of each FAST-EM field are output to\n",
    "`{dir_project}/{stack}/{sectionId}/{row}_{col}/{zoom}.tif`"
   ]
  },
  {
   "cell_type": "code",
   "execution_count": 36,
   "id": "25e8b7b7-43f2-4c3a-b87d-a33ab51f2da5",
   "metadata": {},
   "outputs": [],
   "source": [
    "import json\n",
    "from renderapi.image_pyramid import ImagePyramid, MipMapLevel"
   ]
  },
  {
   "cell_type": "code",
   "execution_count": 103,
   "id": "7a045e86-fc06-49c3-8907-0e366117f425",
   "metadata": {},
   "outputs": [
    {
     "data": {
      "application/vnd.jupyter.widget-view+json": {
       "model_id": "1c5b94dd5dc64e7bba2a520c3185ced7",
       "version_major": 2,
       "version_minor": 0
      },
      "text/plain": [
       "  0%|          | 0/2 [00:00<?, ?it/s]"
      ]
     },
     "metadata": {},
     "output_type": "display_data"
    },
    {
     "data": {
      "application/vnd.jupyter.widget-view+json": {
       "model_id": "",
       "version_major": 2,
       "version_minor": 0
      },
      "text/plain": [
       "  0%|          | 0/2 [00:00<?, ?it/s]"
      ]
     },
     "metadata": {},
     "output_type": "display_data"
    },
    {
     "data": {
      "application/vnd.jupyter.widget-view+json": {
       "model_id": "",
       "version_major": 2,
       "version_minor": 0
      },
      "text/plain": [
       "  0%|          | 0/487 [00:00<?, ?it/s]"
      ]
     },
     "metadata": {},
     "output_type": "display_data"
    },
    {
     "data": {
      "application/vnd.jupyter.widget-view+json": {
       "model_id": "",
       "version_major": 2,
       "version_minor": 0
      },
      "text/plain": [
       "  0%|          | 0/156 [00:00<?, ?it/s]"
      ]
     },
     "metadata": {},
     "output_type": "display_data"
    },
    {
     "data": {
      "application/vnd.jupyter.widget-view+json": {
       "model_id": "",
       "version_major": 2,
       "version_minor": 0
      },
      "text/plain": [
       "  0%|          | 0/2 [00:00<?, ?it/s]"
      ]
     },
     "metadata": {},
     "output_type": "display_data"
    },
    {
     "data": {
      "application/vnd.jupyter.widget-view+json": {
       "model_id": "",
       "version_major": 2,
       "version_minor": 0
      },
      "text/plain": [
       "  0%|          | 0/487 [00:00<?, ?it/s]"
      ]
     },
     "metadata": {},
     "output_type": "display_data"
    },
    {
     "data": {
      "application/vnd.jupyter.widget-view+json": {
       "model_id": "",
       "version_major": 2,
       "version_minor": 0
      },
      "text/plain": [
       "  0%|          | 0/156 [00:00<?, ?it/s]"
      ]
     },
     "metadata": {},
     "output_type": "display_data"
    }
   ],
   "source": [
    "# Parameters\n",
    "overlap = 10  # % -- guess\n",
    "\n",
    "# Collect tile specifications\n",
    "tile_dicts = []\n",
    "# Loop through stack directories\n",
    "for dir_stack in tqdm(list(dir_project.iterdir())):\n",
    "    # Set stack name ('raw' or 'corrected')\n",
    "    stack = dir_stack.name\n",
    "\n",
    "    # Subdirectories are section directories\n",
    "    dir_sections = list(dir_stack.iterdir())\n",
    "    # Loop through section directories\n",
    "    for z, dir_section in tqdm(enumerate(dir_sections),\n",
    "                               total=len(dir_sections),\n",
    "                               leave=False):\n",
    "        # Set sectionId\n",
    "        sectionId = dir_section.name\n",
    "\n",
    "        # Loop through mipmap directories within each section\n",
    "        for dir_mipmap in tqdm(list(dir_section.glob('[0-9]*_[0-9]*')),\n",
    "                               leave=False):\n",
    "\n",
    "            # Read base-level tiff\n",
    "            fp = dir_mipmap / '0.tif'\n",
    "            tiff = TiffFile(fp)\n",
    "            # Parse tiff tags for metadata\n",
    "            md = json.loads(tiff.pages[0].description)\n",
    "            # Infer row, col\n",
    "            row, col = [int(i) for i in re.findall(r'\\d+', fp.parent.name)[:2]]\n",
    "            # Set translation based on overlap guess\n",
    "            x0 = col * (1 - overlap/100) * md['ImageWidth']\n",
    "            y0 = row * (1 - overlap/100) * md['ImageLength']\n",
    "\n",
    "            # Create nested MipMapLevels\n",
    "            mmls = []\n",
    "            for mmfp in sorted(dir_mipmap.glob('[0-9].tif')):\n",
    "                level = mmfp.stem\n",
    "                imageUrl = f\"https://sonic.tnw.tudelft.nl{mmfp.as_posix()}\"\n",
    "                mml = MipMapLevel(level, imageUrl=imageUrl)\n",
    "                mmls.append(mml)\n",
    "            # Create ImagePyramid from MipMapLevels\n",
    "            ip = ImagePyramid({m.level: m.mipmap for m in mmls})\n",
    "\n",
    "            # Handle missing DateTime metadata in corrected tiffs\n",
    "            try:\n",
    "                acqtime = pd.to_datetime(md['DateTime'])\n",
    "            except KeyError:\n",
    "                acqtime = -1\n",
    "\n",
    "            # Build up tile specification\n",
    "            ts = {}\n",
    "            ts['stack'] = stack\n",
    "            ts['sectionId'] = sectionId\n",
    "            ts['z'] = z\n",
    "            ts['tileId'] = f'{stack[:3]}-S{z:03d}-{row:03d}x{col:03d}'\n",
    "            ts['acqtime'] = acqtime\n",
    "            ts['width'] = md['ImageWidth']\n",
    "            ts['height'] = md['ImageLength']\n",
    "            ts['imageRow'] = row\n",
    "            ts['imageCol'] = col\n",
    "            ts['imagePyramid'] = ip\n",
    "            ts['minint'] = 0\n",
    "            ts['maxint'] = 65535\n",
    "            ts['tforms'] = [AffineModel(B0=x0, B1=y0)]\n",
    "            tile_dicts.append(ts)"
   ]
  },
  {
   "cell_type": "markdown",
   "id": "b1992e6e-9ae6-43a1-94d2-43c623e005ea",
   "metadata": {},
   "source": [
    "#### Create stack DataFrames"
   ]
  },
  {
   "cell_type": "code",
   "execution_count": 104,
   "id": "ae9e3bee-f666-446c-a049-7a51ffd821e3",
   "metadata": {},
   "outputs": [
    {
     "data": {
      "text/html": [
       "<div>\n",
       "<style scoped>\n",
       "    .dataframe tbody tr th:only-of-type {\n",
       "        vertical-align: middle;\n",
       "    }\n",
       "\n",
       "    .dataframe tbody tr th {\n",
       "        vertical-align: top;\n",
       "    }\n",
       "\n",
       "    .dataframe thead th {\n",
       "        text-align: right;\n",
       "    }\n",
       "</style>\n",
       "<table border=\"1\" class=\"dataframe\">\n",
       "  <thead>\n",
       "    <tr style=\"text-align: right;\">\n",
       "      <th></th>\n",
       "      <th></th>\n",
       "      <th>stack</th>\n",
       "      <th>sectionId</th>\n",
       "      <th>z</th>\n",
       "      <th>tileId</th>\n",
       "      <th>acqtime</th>\n",
       "      <th>width</th>\n",
       "      <th>height</th>\n",
       "      <th>imageRow</th>\n",
       "      <th>imageCol</th>\n",
       "      <th>imagePyramid</th>\n",
       "      <th>minint</th>\n",
       "      <th>maxint</th>\n",
       "      <th>tforms</th>\n",
       "    </tr>\n",
       "    <tr>\n",
       "      <th>stack</th>\n",
       "      <th></th>\n",
       "      <th></th>\n",
       "      <th></th>\n",
       "      <th></th>\n",
       "      <th></th>\n",
       "      <th></th>\n",
       "      <th></th>\n",
       "      <th></th>\n",
       "      <th></th>\n",
       "      <th></th>\n",
       "      <th></th>\n",
       "      <th></th>\n",
       "      <th></th>\n",
       "      <th></th>\n",
       "    </tr>\n",
       "  </thead>\n",
       "  <tbody>\n",
       "    <tr>\n",
       "      <th rowspan=\"3\" valign=\"top\">corrected</th>\n",
       "      <th>1059</th>\n",
       "      <td>corrected</td>\n",
       "      <td>Ribbon_1_section...</td>\n",
       "      <td>0</td>\n",
       "      <td>cor-S000-014x024</td>\n",
       "      <td>-1</td>\n",
       "      <td>6400</td>\n",
       "      <td>6400</td>\n",
       "      <td>14</td>\n",
       "      <td>24</td>\n",
       "      <td>[0, 1, 2, 3, 4]</td>\n",
       "      <td>0</td>\n",
       "      <td>65535</td>\n",
       "      <td>[M=[[1.000000,0....</td>\n",
       "    </tr>\n",
       "    <tr>\n",
       "      <th>1205</th>\n",
       "      <td>corrected</td>\n",
       "      <td>Ribbon_1_section...</td>\n",
       "      <td>1</td>\n",
       "      <td>cor-S001-005x010</td>\n",
       "      <td>-1</td>\n",
       "      <td>6400</td>\n",
       "      <td>6400</td>\n",
       "      <td>5</td>\n",
       "      <td>10</td>\n",
       "      <td>[0, 1, 2, 3, 4]</td>\n",
       "      <td>0</td>\n",
       "      <td>65535</td>\n",
       "      <td>[M=[[1.000000,0....</td>\n",
       "    </tr>\n",
       "    <tr>\n",
       "      <th>788</th>\n",
       "      <td>corrected</td>\n",
       "      <td>Ribbon_1_section...</td>\n",
       "      <td>0</td>\n",
       "      <td>cor-S000-005x005</td>\n",
       "      <td>-1</td>\n",
       "      <td>6400</td>\n",
       "      <td>6400</td>\n",
       "      <td>5</td>\n",
       "      <td>5</td>\n",
       "      <td>[0, 1, 2, 3, 4]</td>\n",
       "      <td>0</td>\n",
       "      <td>65535</td>\n",
       "      <td>[M=[[1.000000,0....</td>\n",
       "    </tr>\n",
       "    <tr>\n",
       "      <th rowspan=\"3\" valign=\"top\">raw</th>\n",
       "      <th>593</th>\n",
       "      <td>raw</td>\n",
       "      <td>Ribbon_1_section...</td>\n",
       "      <td>1</td>\n",
       "      <td>raw-S001-008x002</td>\n",
       "      <td>2022-04-04 16:53:07</td>\n",
       "      <td>6400</td>\n",
       "      <td>6400</td>\n",
       "      <td>8</td>\n",
       "      <td>2</td>\n",
       "      <td>[0, 1, 2, 3]</td>\n",
       "      <td>0</td>\n",
       "      <td>65535</td>\n",
       "      <td>[M=[[1.000000,0....</td>\n",
       "    </tr>\n",
       "    <tr>\n",
       "      <th>23</th>\n",
       "      <td>raw</td>\n",
       "      <td>Ribbon_1_section...</td>\n",
       "      <td>0</td>\n",
       "      <td>raw-S000-000x023</td>\n",
       "      <td>2022-04-04 15:28:10</td>\n",
       "      <td>6400</td>\n",
       "      <td>6400</td>\n",
       "      <td>0</td>\n",
       "      <td>23</td>\n",
       "      <td>[0, 1, 2, 3]</td>\n",
       "      <td>0</td>\n",
       "      <td>65535</td>\n",
       "      <td>[M=[[1.000000,0....</td>\n",
       "    </tr>\n",
       "    <tr>\n",
       "      <th>77</th>\n",
       "      <td>raw</td>\n",
       "      <td>Ribbon_1_section...</td>\n",
       "      <td>0</td>\n",
       "      <td>raw-S000-002x021</td>\n",
       "      <td>2022-04-04 15:36:06</td>\n",
       "      <td>6400</td>\n",
       "      <td>6400</td>\n",
       "      <td>2</td>\n",
       "      <td>21</td>\n",
       "      <td>[0, 1, 2, 3]</td>\n",
       "      <td>0</td>\n",
       "      <td>65535</td>\n",
       "      <td>[M=[[1.000000,0....</td>\n",
       "    </tr>\n",
       "  </tbody>\n",
       "</table>\n",
       "</div>"
      ],
      "text/plain": [
       "                    stack            sectionId  z            tileId  \\\n",
       "stack                                                                 \n",
       "corrected 1059  corrected  Ribbon_1_section...  0  cor-S000-014x024   \n",
       "          1205  corrected  Ribbon_1_section...  1  cor-S001-005x010   \n",
       "          788   corrected  Ribbon_1_section...  0  cor-S000-005x005   \n",
       "raw       593         raw  Ribbon_1_section...  1  raw-S001-008x002   \n",
       "          23          raw  Ribbon_1_section...  0  raw-S000-000x023   \n",
       "          77          raw  Ribbon_1_section...  0  raw-S000-002x021   \n",
       "\n",
       "                            acqtime  width  height  imageRow  imageCol  \\\n",
       "stack                                                                    \n",
       "corrected 1059                   -1   6400    6400        14        24   \n",
       "          1205                   -1   6400    6400         5        10   \n",
       "          788                    -1   6400    6400         5         5   \n",
       "raw       593   2022-04-04 16:53:07   6400    6400         8         2   \n",
       "          23    2022-04-04 15:28:10   6400    6400         0        23   \n",
       "          77    2022-04-04 15:36:06   6400    6400         2        21   \n",
       "\n",
       "                   imagePyramid  minint  maxint               tforms  \n",
       "stack                                                                 \n",
       "corrected 1059  [0, 1, 2, 3, 4]       0   65535  [M=[[1.000000,0....  \n",
       "          1205  [0, 1, 2, 3, 4]       0   65535  [M=[[1.000000,0....  \n",
       "          788   [0, 1, 2, 3, 4]       0   65535  [M=[[1.000000,0....  \n",
       "raw       593      [0, 1, 2, 3]       0   65535  [M=[[1.000000,0....  \n",
       "          23       [0, 1, 2, 3]       0   65535  [M=[[1.000000,0....  \n",
       "          77       [0, 1, 2, 3]       0   65535  [M=[[1.000000,0....  "
      ]
     },
     "execution_count": 104,
     "metadata": {},
     "output_type": "execute_result"
    }
   ],
   "source": [
    "# Create DataFrame from list of tile specifications\n",
    "df_stacks = pd.DataFrame(tile_dicts)\n",
    "\n",
    "# Sneak peak\n",
    "df_stacks.groupby('stack')\\\n",
    "         .apply(lambda x: x.sample(3))"
   ]
  },
  {
   "cell_type": "markdown",
   "id": "6720b5d5-a78d-4705-b38b-fc9c4dffda3b",
   "metadata": {},
   "source": [
    "#### Set intensity levels\n",
    "Sample `n` images/section to determine reasonable min/max intensity values."
   ]
  },
  {
   "cell_type": "code",
   "execution_count": 105,
   "id": "7bc7fe56-3b58-4f43-b97a-7758b232a137",
   "metadata": {},
   "outputs": [
    {
     "data": {
      "application/vnd.jupyter.widget-view+json": {
       "model_id": "db32fe66d25446c89d6d51aa5d1e69fd",
       "version_major": 2,
       "version_minor": 0
      },
      "text/plain": [
       "  0%|          | 0/2 [00:00<?, ?it/s]"
      ]
     },
     "metadata": {},
     "output_type": "display_data"
    },
    {
     "data": {
      "application/vnd.jupyter.widget-view+json": {
       "model_id": "",
       "version_major": 2,
       "version_minor": 0
      },
      "text/plain": [
       "  0%|          | 0/2 [00:00<?, ?it/s]"
      ]
     },
     "metadata": {},
     "output_type": "display_data"
    },
    {
     "data": {
      "application/vnd.jupyter.widget-view+json": {
       "model_id": "",
       "version_major": 2,
       "version_minor": 0
      },
      "text/plain": [
       "  0%|          | 0/10 [00:00<?, ?it/s]"
      ]
     },
     "metadata": {},
     "output_type": "display_data"
    },
    {
     "data": {
      "application/vnd.jupyter.widget-view+json": {
       "model_id": "",
       "version_major": 2,
       "version_minor": 0
      },
      "text/plain": [
       "  0%|          | 0/10 [00:00<?, ?it/s]"
      ]
     },
     "metadata": {},
     "output_type": "display_data"
    },
    {
     "data": {
      "application/vnd.jupyter.widget-view+json": {
       "model_id": "",
       "version_major": 2,
       "version_minor": 0
      },
      "text/plain": [
       "  0%|          | 0/2 [00:00<?, ?it/s]"
      ]
     },
     "metadata": {},
     "output_type": "display_data"
    },
    {
     "data": {
      "application/vnd.jupyter.widget-view+json": {
       "model_id": "",
       "version_major": 2,
       "version_minor": 0
      },
      "text/plain": [
       "  0%|          | 0/10 [00:00<?, ?it/s]"
      ]
     },
     "metadata": {},
     "output_type": "display_data"
    },
    {
     "data": {
      "application/vnd.jupyter.widget-view+json": {
       "model_id": "",
       "version_major": 2,
       "version_minor": 0
      },
      "text/plain": [
       "  0%|          | 0/10 [00:00<?, ?it/s]"
      ]
     },
     "metadata": {},
     "output_type": "display_data"
    },
    {
     "data": {
      "text/html": [
       "<div>\n",
       "<style scoped>\n",
       "    .dataframe tbody tr th:only-of-type {\n",
       "        vertical-align: middle;\n",
       "    }\n",
       "\n",
       "    .dataframe tbody tr th {\n",
       "        vertical-align: top;\n",
       "    }\n",
       "\n",
       "    .dataframe thead th {\n",
       "        text-align: right;\n",
       "    }\n",
       "</style>\n",
       "<table border=\"1\" class=\"dataframe\">\n",
       "  <thead>\n",
       "    <tr style=\"text-align: right;\">\n",
       "      <th></th>\n",
       "      <th></th>\n",
       "      <th>stack</th>\n",
       "      <th>sectionId</th>\n",
       "      <th>z</th>\n",
       "      <th>tileId</th>\n",
       "      <th>acqtime</th>\n",
       "      <th>width</th>\n",
       "      <th>height</th>\n",
       "      <th>imageRow</th>\n",
       "      <th>imageCol</th>\n",
       "      <th>imagePyramid</th>\n",
       "      <th>minint</th>\n",
       "      <th>maxint</th>\n",
       "      <th>tforms</th>\n",
       "    </tr>\n",
       "    <tr>\n",
       "      <th>stack</th>\n",
       "      <th></th>\n",
       "      <th></th>\n",
       "      <th></th>\n",
       "      <th></th>\n",
       "      <th></th>\n",
       "      <th></th>\n",
       "      <th></th>\n",
       "      <th></th>\n",
       "      <th></th>\n",
       "      <th></th>\n",
       "      <th></th>\n",
       "      <th></th>\n",
       "      <th></th>\n",
       "      <th></th>\n",
       "    </tr>\n",
       "  </thead>\n",
       "  <tbody>\n",
       "    <tr>\n",
       "      <th rowspan=\"4\" valign=\"top\">corrected</th>\n",
       "      <th>845</th>\n",
       "      <td>corrected</td>\n",
       "      <td>Ribbon_1_section...</td>\n",
       "      <td>0</td>\n",
       "      <td>cor-S000-007x006</td>\n",
       "      <td>-1</td>\n",
       "      <td>6400</td>\n",
       "      <td>6400</td>\n",
       "      <td>7</td>\n",
       "      <td>6</td>\n",
       "      <td>[0, 1, 2, 3, 4]</td>\n",
       "      <td>29659</td>\n",
       "      <td>35667</td>\n",
       "      <td>[M=[[1.000000,0....</td>\n",
       "    </tr>\n",
       "    <tr>\n",
       "      <th>863</th>\n",
       "      <td>corrected</td>\n",
       "      <td>Ribbon_1_section...</td>\n",
       "      <td>0</td>\n",
       "      <td>cor-S000-007x024</td>\n",
       "      <td>-1</td>\n",
       "      <td>6400</td>\n",
       "      <td>6400</td>\n",
       "      <td>7</td>\n",
       "      <td>24</td>\n",
       "      <td>[0, 1, 2, 3, 4]</td>\n",
       "      <td>29659</td>\n",
       "      <td>35667</td>\n",
       "      <td>[M=[[1.000000,0....</td>\n",
       "    </tr>\n",
       "    <tr>\n",
       "      <th>1266</th>\n",
       "      <td>corrected</td>\n",
       "      <td>Ribbon_1_section...</td>\n",
       "      <td>1</td>\n",
       "      <td>cor-S001-010x006</td>\n",
       "      <td>-1</td>\n",
       "      <td>6400</td>\n",
       "      <td>6400</td>\n",
       "      <td>10</td>\n",
       "      <td>6</td>\n",
       "      <td>[0, 1, 2, 3, 4]</td>\n",
       "      <td>29072</td>\n",
       "      <td>35591</td>\n",
       "      <td>[M=[[1.000000,0....</td>\n",
       "    </tr>\n",
       "    <tr>\n",
       "      <th>1252</th>\n",
       "      <td>corrected</td>\n",
       "      <td>Ribbon_1_section...</td>\n",
       "      <td>1</td>\n",
       "      <td>cor-S001-009x005</td>\n",
       "      <td>-1</td>\n",
       "      <td>6400</td>\n",
       "      <td>6400</td>\n",
       "      <td>9</td>\n",
       "      <td>5</td>\n",
       "      <td>[0, 1, 2, 3, 4]</td>\n",
       "      <td>29072</td>\n",
       "      <td>35591</td>\n",
       "      <td>[M=[[1.000000,0....</td>\n",
       "    </tr>\n",
       "    <tr>\n",
       "      <th rowspan=\"4\" valign=\"top\">raw</th>\n",
       "      <th>368</th>\n",
       "      <td>raw</td>\n",
       "      <td>Ribbon_1_section...</td>\n",
       "      <td>0</td>\n",
       "      <td>raw-S000-013x004</td>\n",
       "      <td>2022-04-04 16:18:49</td>\n",
       "      <td>6400</td>\n",
       "      <td>6400</td>\n",
       "      <td>13</td>\n",
       "      <td>4</td>\n",
       "      <td>[0, 1, 2, 3]</td>\n",
       "      <td>53784</td>\n",
       "      <td>60419</td>\n",
       "      <td>[M=[[1.000000,0....</td>\n",
       "    </tr>\n",
       "    <tr>\n",
       "      <th>582</th>\n",
       "      <td>raw</td>\n",
       "      <td>Ribbon_1_section...</td>\n",
       "      <td>1</td>\n",
       "      <td>raw-S001-007x004</td>\n",
       "      <td>2022-04-04 16:51:30</td>\n",
       "      <td>6400</td>\n",
       "      <td>6400</td>\n",
       "      <td>7</td>\n",
       "      <td>4</td>\n",
       "      <td>[0, 1, 2, 3]</td>\n",
       "      <td>53682</td>\n",
       "      <td>60674</td>\n",
       "      <td>[M=[[1.000000,0....</td>\n",
       "    </tr>\n",
       "    <tr>\n",
       "      <th>549</th>\n",
       "      <td>raw</td>\n",
       "      <td>Ribbon_1_section...</td>\n",
       "      <td>1</td>\n",
       "      <td>raw-S001-004x010</td>\n",
       "      <td>2022-04-04 16:46:39</td>\n",
       "      <td>6400</td>\n",
       "      <td>6400</td>\n",
       "      <td>4</td>\n",
       "      <td>10</td>\n",
       "      <td>[0, 1, 2, 3]</td>\n",
       "      <td>53682</td>\n",
       "      <td>60674</td>\n",
       "      <td>[M=[[1.000000,0....</td>\n",
       "    </tr>\n",
       "    <tr>\n",
       "      <th>605</th>\n",
       "      <td>raw</td>\n",
       "      <td>Ribbon_1_section...</td>\n",
       "      <td>1</td>\n",
       "      <td>raw-S001-009x001</td>\n",
       "      <td>2022-04-04 16:54:53</td>\n",
       "      <td>6400</td>\n",
       "      <td>6400</td>\n",
       "      <td>9</td>\n",
       "      <td>1</td>\n",
       "      <td>[0, 1, 2, 3]</td>\n",
       "      <td>53682</td>\n",
       "      <td>60674</td>\n",
       "      <td>[M=[[1.000000,0....</td>\n",
       "    </tr>\n",
       "  </tbody>\n",
       "</table>\n",
       "</div>"
      ],
      "text/plain": [
       "                    stack            sectionId  z            tileId  \\\n",
       "stack                                                                 \n",
       "corrected 845   corrected  Ribbon_1_section...  0  cor-S000-007x006   \n",
       "          863   corrected  Ribbon_1_section...  0  cor-S000-007x024   \n",
       "          1266  corrected  Ribbon_1_section...  1  cor-S001-010x006   \n",
       "          1252  corrected  Ribbon_1_section...  1  cor-S001-009x005   \n",
       "raw       368         raw  Ribbon_1_section...  0  raw-S000-013x004   \n",
       "          582         raw  Ribbon_1_section...  1  raw-S001-007x004   \n",
       "          549         raw  Ribbon_1_section...  1  raw-S001-004x010   \n",
       "          605         raw  Ribbon_1_section...  1  raw-S001-009x001   \n",
       "\n",
       "                            acqtime  width  height  imageRow  imageCol  \\\n",
       "stack                                                                    \n",
       "corrected 845                    -1   6400    6400         7         6   \n",
       "          863                    -1   6400    6400         7        24   \n",
       "          1266                   -1   6400    6400        10         6   \n",
       "          1252                   -1   6400    6400         9         5   \n",
       "raw       368   2022-04-04 16:18:49   6400    6400        13         4   \n",
       "          582   2022-04-04 16:51:30   6400    6400         7         4   \n",
       "          549   2022-04-04 16:46:39   6400    6400         4        10   \n",
       "          605   2022-04-04 16:54:53   6400    6400         9         1   \n",
       "\n",
       "                   imagePyramid  minint  maxint               tforms  \n",
       "stack                                                                 \n",
       "corrected 845   [0, 1, 2, 3, 4]   29659   35667  [M=[[1.000000,0....  \n",
       "          863   [0, 1, 2, 3, 4]   29659   35667  [M=[[1.000000,0....  \n",
       "          1266  [0, 1, 2, 3, 4]   29072   35591  [M=[[1.000000,0....  \n",
       "          1252  [0, 1, 2, 3, 4]   29072   35591  [M=[[1.000000,0....  \n",
       "raw       368      [0, 1, 2, 3]   53784   60419  [M=[[1.000000,0....  \n",
       "          582      [0, 1, 2, 3]   53682   60674  [M=[[1.000000,0....  \n",
       "          549      [0, 1, 2, 3]   53682   60674  [M=[[1.000000,0....  \n",
       "          605      [0, 1, 2, 3]   53682   60674  [M=[[1.000000,0....  "
      ]
     },
     "execution_count": 105,
     "metadata": {},
     "output_type": "execute_result"
    }
   ],
   "source": [
    "# Set parameters\n",
    "n = 10          # sample size (per section)\n",
    "pcts = (1, 99)  # % for intensity clipping\n",
    "stacks = df_stacks['stack'].unique().tolist()\n",
    "z_values = df_stacks['z'].unique().tolist()\n",
    "\n",
    "# Loop through stacks\n",
    "for stack, df_stack in tqdm(df_stacks.groupby('stack'),\n",
    "                            total=len(stacks)):\n",
    "\n",
    "    # Loop through sections\n",
    "    for z, tileset in tqdm(df_stack.groupby('z'),\n",
    "                           total=len(z_values),\n",
    "                           leave=False):\n",
    "\n",
    "        # Sample filepaths\n",
    "        fps = tileset.sample(n)['imagePyramid']\\\n",
    "                      .apply(lambda x: x[0]['imageUrl'])\\\n",
    "                      .tolist()\n",
    "\n",
    "        # Collect min/max intensity values\n",
    "        minints = []\n",
    "        maxints = []\n",
    "        # Loop through sample tiles\n",
    "        for fp in tqdm(fps, leave=False):\n",
    "\n",
    "            # Load tiff image\n",
    "            fp_tiff = fp.split('.nl')[1]\n",
    "            tiff = TiffFile(fp_tiff)\n",
    "            image = tiff.asarray()\n",
    "\n",
    "            # Get intensity percentiles\n",
    "            minint, maxint = np.percentile(image, pcts)\n",
    "            minints.append(minint)\n",
    "            maxints.append(maxint)\n",
    "\n",
    "        # Set min/max intensity\n",
    "        df_stacks.loc[(df_stacks['stack'] == stack) &\\\n",
    "                      (df_stacks['z'] == z), 'minint'] = np.mean(minints, dtype=int)\n",
    "        df_stacks.loc[(df_stacks['stack'] == stack) &\\\n",
    "                      (df_stacks['z'] == z), 'maxint'] = np.mean(maxints, dtype=int)\n",
    "\n",
    "# Sneak peak\n",
    "df_stacks.groupby('stack')\\\n",
    "         .apply(lambda x: x.sample(4))"
   ]
  },
  {
   "cell_type": "markdown",
   "id": "f3d06366-a709-44c5-a064-670c09fad158",
   "metadata": {},
   "source": [
    "## 3) Upload stack to `render-ws`"
   ]
  },
  {
   "cell_type": "code",
   "execution_count": 106,
   "id": "039aac09-2bfc-4199-b536-72ccf55ced3f",
   "metadata": {},
   "outputs": [],
   "source": [
    "from icatapi import create_stack_from_DataFrame"
   ]
  },
  {
   "cell_type": "code",
   "execution_count": 107,
   "id": "7c8b4065-8864-4baa-9bec-8b2061fc323b",
   "metadata": {},
   "outputs": [
    {
     "data": {
      "application/vnd.jupyter.widget-view+json": {
       "model_id": "f2e92d66ada0483ba0ebf3b254628084",
       "version_major": 2,
       "version_minor": 0
      },
      "text/plain": [
       "  0%|          | 0/2 [00:00<?, ?it/s]"
      ]
     },
     "metadata": {},
     "output_type": "display_data"
    },
    {
     "name": "stdout",
     "output_type": "stream",
     "text": [
      "Creating tile specifications for \u001b[1mcorrected\u001b[0m...\n",
      "Importing tile specifications to \u001b[1mcorrected\u001b[0m...\n",
      "Stack \u001b[1mcorrected\u001b[0m created successfully.\n",
      "Creating tile specifications for \u001b[1mraw\u001b[0m...\n",
      "Importing tile specifications to \u001b[1mraw\u001b[0m...\n",
      "Stack \u001b[1mraw\u001b[0m created successfully.\n"
     ]
    }
   ],
   "source": [
    "# Loop through stacks\n",
    "for stack, df_stack in tqdm(df_stacks.groupby('stack')):\n",
    "\n",
    "    # Set stack resolution\n",
    "    Rx = 4\n",
    "    Ry = 4\n",
    "    Rz = 100\n",
    "\n",
    "    # Create stacks\n",
    "    create_stack_from_DataFrame(df=df_stack,\n",
    "                                name=stack,\n",
    "                                stackResolutionX=Rx,\n",
    "                                stackResolutionY=Ry,\n",
    "                                stackResolutionZ=Rz,\n",
    "                                render=render)"
   ]
  }
 ],
 "metadata": {
  "kernelspec": {
   "display_name": "Python 3",
   "language": "python",
   "name": "python3"
  },
  "language_info": {
   "codemirror_mode": {
    "name": "ipython",
    "version": 3
   },
   "file_extension": ".py",
   "mimetype": "text/x-python",
   "name": "python",
   "nbconvert_exporter": "python",
   "pygments_lexer": "ipython3",
   "version": "3.8.10"
  }
 },
 "nbformat": 4,
 "nbformat_minor": 5
}
