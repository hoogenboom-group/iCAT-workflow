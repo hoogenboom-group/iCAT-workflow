{
 "cells": [
  {
   "cell_type": "markdown",
   "metadata": {},
   "source": [
    "# iCAT Alignment\n",
    "---\n",
    "Overview and interactive walkthrough of how to align (part of) an individual section using `render-python`. Assumes image data has already been imported following the [iCAT-import workflow](https://github.com/lanery/iCAT-workflow/blob/master/notebooks/iCAT-import.ipynb).\n",
    "\n",
    "## 1 Generate Point Matches\n",
    "---\n",
    "\n",
    "### 1.0 Imports"
   ]
  },
  {
   "cell_type": "code",
   "execution_count": 53,
   "metadata": {},
   "outputs": [],
   "source": [
    "# Libraries needed\n",
    "import re\n",
    "from functools import partial\n",
    "from pprint import pprint\n",
    "import numpy as np\n",
    "import matplotlib.pyplot as plt\n",
    "import seaborn as sns\n",
    "import renderapi"
   ]
  },
  {
   "cell_type": "markdown",
   "metadata": {},
   "source": [
    "### 1.1 Setup render Environment"
   ]
  },
  {
   "cell_type": "code",
   "execution_count": 2,
   "metadata": {},
   "outputs": [],
   "source": [
    "owner = 'rlane'  # replace with your name\n",
    "project = 'iCAT_align'\n",
    "\n",
    "# Create a renderapi.connect.Render object\n",
    "render_connect_params = {\n",
    "    'host': 'sonic',\n",
    "    'port': 8080,\n",
    "    'owner': owner,\n",
    "    'project': project,\n",
    "    'client_scripts': '/home/catmaid/render/render-ws-java-client/src/main/scripts',\n",
    "    'memGB': '2G'\n",
    "}\n",
    "\n",
    "render = renderapi.connect(**render_connect_params)\n",
    "stacks = renderapi.render.get_stacks_by_owner_project(render=render)\n",
    "match_collections = {}\n",
    "for stack in stacks:\n",
    "    match_collections[stack] = f'{stack}_points'"
   ]
  },
  {
   "cell_type": "markdown",
   "metadata": {},
   "source": [
    "### 1.2 Get Tile Pairs\n",
    "Tile pairs are any two tiles that overlap with each other (including diagonally). There are useful functions in the `renderapi` for generating lists of tile pairs."
   ]
  },
  {
   "cell_type": "code",
   "execution_count": 15,
   "metadata": {},
   "outputs": [
    {
     "data": {
      "text/plain": [
       "[('aaa_lil_EM-00000x00005', 'aan_lil_EM-00000x00004'),\n",
       " ('aaa_lil_EM-00000x00005', 'aab_lil_EM-00001x00005'),\n",
       " ('aab_lil_EM-00001x00005', 'aam_lil_EM-00001x00004'),\n",
       " ('aab_lil_EM-00001x00005', 'aac_lil_EM-00002x00005'),\n",
       " ('aac_lil_EM-00002x00005', 'aal_lil_EM-00002x00004'),\n",
       " ('aac_lil_EM-00002x00005', 'aad_lil_EM-00003x00005'),\n",
       " ('aad_lil_EM-00003x00005', 'aak_lil_EM-00003x00004'),\n",
       " ('aad_lil_EM-00003x00005', 'aae_lil_EM-00004x00005')]"
      ]
     },
     "execution_count": 15,
     "metadata": {},
     "output_type": "execute_result"
    }
   ],
   "source": [
    "# Initialize dicts\n",
    "stack_bounds = {}\n",
    "tile_pairs = {}\n",
    "tile_pair_lists = {}\n",
    "\n",
    "for stack in stacks:\n",
    "    \n",
    "    # Get positional bounds of image stack\n",
    "    stack_bound = renderapi.stack.get_stack_bounds(stack, render=render)\n",
    "    stack_bounds[stack] = stack_bound\n",
    "    \n",
    "    # Only attempt to get tile pairs if stack contains >1 tiles\n",
    "    N_tiles = len(renderapi.stack.get_stack_tileIds(stack, render=render))\n",
    "    if N_tiles > 1:\n",
    "        \n",
    "        # Generate tile pairs for input into point match generator\n",
    "        tile_pairs[stack] = renderapi.client.tilePairClient(stack,\n",
    "                                                            minz=stack_bounds[stack]['minZ'],\n",
    "                                                            maxz=stack_bounds[stack]['maxZ'],\n",
    "                                                            render=render)\n",
    "        \n",
    "        # Generate list of tile pairs    \n",
    "        tile_pair_list = [(tp['p']['id'], tp['q']['id']) for tp in tile_pairs[stack]['neighborPairs']]\n",
    "        tile_pair_lists[stack] = tile_pair_list\n",
    "        \n",
    "# Preview first several tile pairs\n",
    "tile_pair_lists['lil_EM'][:8]"
   ]
  },
  {
   "cell_type": "markdown",
   "metadata": {},
   "source": [
    "### 1.3 Run Point Match Client\n",
    "First create a wrapper for `renderapi.client.pointMatchClient` so that we can run the point match client on multiple threads with `renderapi.client.WithPool`."
   ]
  },
  {
   "cell_type": "code",
   "execution_count": 4,
   "metadata": {},
   "outputs": [],
   "source": [
    "def run_point_match_client(tile_pair_chunk, stack, collection, render):\n",
    "    \"\"\"\n",
    "    Point match client wrapper for use in multiprocessing\n",
    "    \"\"\"\n",
    "    renderapi.client.pointMatchClient(stack=stack,\n",
    "                                      collection=collection,\n",
    "                                      tile_pairs=tile_pair_chunk,\n",
    "                                      render=render)"
   ]
  },
  {
   "cell_type": "markdown",
   "metadata": {},
   "source": [
    "Now break the tile pairs into chunks to prevent a java heap space out of memory error."
   ]
  },
  {
   "cell_type": "code",
   "execution_count": 5,
   "metadata": {},
   "outputs": [],
   "source": [
    "chunk_size = 6\n",
    "tile_pair_chunks = {}\n",
    "\n",
    "for stack, tile_pair_list in tile_pair_lists.items():\n",
    "    tile_pair_chunks[stack] = []\n",
    "    \n",
    "    for i in range(0, len(tile_pair_list), chunk_size):\n",
    "        \n",
    "        tile_pair_chunk = tile_pair_list[i : i+chunk_size]\n",
    "        tile_pair_chunks[stack].append(tile_pair_chunk)"
   ]
  },
  {
   "cell_type": "markdown",
   "metadata": {},
   "source": [
    "Now run the point match client (the function that actually finds features and whatnot) over the chunks of tile pairs. Have to use `partial` with `WithPool` because otherwise it would be too easy. Not sure if it actually runs on multiple cores when run through a Jupyter notebook. Will have to do timing tests at some point. Adjust `N_cores` as necessary."
   ]
  },
  {
   "cell_type": "code",
   "execution_count": 6,
   "metadata": {},
   "outputs": [],
   "source": [
    "N_cores = 30\n",
    "\n",
    "for stack, tile_pair_chunk in tile_pair_chunks.items():\n",
    "    \n",
    "    point_match_client_partial = partial(run_point_match_client,\n",
    "                                         stack=stack,\n",
    "                                         collection=match_collections[stack],\n",
    "                                         render=render)\n",
    "    \n",
    "    with renderapi.client.WithPool(N_cores) as pool:\n",
    "        pool.map(point_match_client_partial, tile_pair_chunks[stack])"
   ]
  },
  {
   "cell_type": "markdown",
   "metadata": {},
   "source": [
    "### 1.4 Basic Point Match Analysis\n",
    "Loop over tile pairs to aggregate East-West and North-South point matches"
   ]
  },
  {
   "cell_type": "code",
   "execution_count": 74,
   "metadata": {},
   "outputs": [],
   "source": [
    "EW_point_matches = np.full([6, 7], -1)\n",
    "NS_point_matches = np.full([6, 7], -1)\n",
    "\n",
    "for stack, tile_pair_list in tile_pair_lists.items():\n",
    "    \n",
    "    for tile_pair in tile_pair_list:\n",
    "    \n",
    "        # Get group IDs\n",
    "        groupIds = renderapi.pointmatch.get_match_groupIds(match_collections[stack], render=render)\n",
    "\n",
    "        tile_pair_matches = renderapi.pointmatch.get_matches_from_tile_to_tile(\n",
    "                                match_collections[stack],\n",
    "                                pgroup=groupIds[0],\n",
    "                                pid=tile_pair[0],\n",
    "                                qgroup=groupIds[0],\n",
    "                                qid=tile_pair[1],\n",
    "                                render=render)\n",
    "        \n",
    "        # Suss out column and row number from tileId\n",
    "        pc, pr = [int(i) for i in re.findall('\\d+', tile_pair[0])]\n",
    "        qc, qr = [int(i) for i in re.findall('\\d+', tile_pair[1])]\n",
    "                                \n",
    "        try:\n",
    "            # Stuff matches into arrays\n",
    "            p_matches = np.array(tile_pair_matches[0]['matches']['p']).T\n",
    "            q_matches = np.array(tile_pair_matches[0]['matches']['q']).T\n",
    "            # Ensure p and q matches check out\n",
    "            assert len(p_matches) == len(q_matches)\n",
    "                        \n",
    "        except IndexError:\n",
    "            # No matches for this tile pair\n",
    "            p_matches = []\n",
    "            q_matches = []\n",
    "            \n",
    "        # East-West match (same row)\n",
    "        if pr == qr:\n",
    "            EW_point_matches[pr, min(pc, qc)] = len(p_matches)\n",
    "\n",
    "        # North-West match (same column)\n",
    "        else: #  pc == qc\n",
    "            NS_point_matches[min(pr, qr), pc] = len(p_matches)"
   ]
  },
  {
   "cell_type": "markdown",
   "metadata": {},
   "source": [
    "### 1.5 Plot Point Matches"
   ]
  },
  {
   "cell_type": "code",
   "execution_count": 78,
   "metadata": {
    "scrolled": true
   },
   "outputs": [
    {
     "data": {
      "image/png": "[encoded data removed]",
      "text/plain": [
       "<Figure size 1008x360 with 4 Axes>"
      ]
     },
     "metadata": {},
     "output_type": "display_data"
    }
   ],
   "source": [
    "fig, (ax1, ax2) = plt.subplots(ncols=2, figsize=(14, 5))\n",
    "\n",
    "sns.heatmap(EW_point_matches, ax=ax1, annot=True, fmt='.0f', robust=True);\n",
    "sns.heatmap(NS_point_matches, ax=ax2, annot=True, fmt='.0f', robust=True);\n",
    "ax1.set_title('EAST-WEST Matches');\n",
    "ax2.set_title('NORTH-SOUTH Matches');"
   ]
  },
  {
   "cell_type": "markdown",
   "metadata": {},
   "source": [
    "## Run EM Aligner"
   ]
  },
  {
   "cell_type": "code",
   "execution_count": null,
   "metadata": {},
   "outputs": [],
   "source": []
  }
 ],
 "metadata": {
  "kernelspec": {
   "display_name": "Python 3",
   "language": "python",
   "name": "python3"
  },
  "language_info": {
   "codemirror_mode": {
    "name": "ipython",
    "version": 3
   },
   "file_extension": ".py",
   "mimetype": "text/x-python",
   "name": "python",
   "nbconvert_exporter": "python",
   "pygments_lexer": "ipython3",
   "version": "3.6.6"
  }
 },
 "nbformat": 4,
 "nbformat_minor": 2
}
