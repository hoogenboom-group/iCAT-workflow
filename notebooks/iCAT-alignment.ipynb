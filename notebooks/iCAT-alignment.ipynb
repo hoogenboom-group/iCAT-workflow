{
 "cells": [
  {
   "cell_type": "markdown",
   "metadata": {},
   "source": [
    "# iCAT Alignment\n",
    "---\n",
    "Overview and interactive walkthrough of how to align (part of) an individual section using `render-python`. Assumes image data has already been imported following the [iCAT-import workflow](https://github.com/lanery/iCAT-workflow/blob/master/notebooks/iCAT-import.ipynb).\n",
    "\n",
    "## 1 Generate Point Matches\n",
    "---\n",
    "\n",
    "### 1.0 Imports"
   ]
  },
  {
   "cell_type": "code",
   "execution_count": null,
   "metadata": {},
   "outputs": [],
   "source": [
    "# Libraries needed\n",
    "import os\n",
    "from shutil import rmtree\n",
    "import subprocess\n",
    "from functools import partial\n",
    "import re\n",
    "from pathlib import Path\n",
    "import json\n",
    "\n",
    "import numpy as np\n",
    "import pandas as pd\n",
    "import matplotlib.pyplot as plt\n",
    "import seaborn as sns\n",
    "\n",
    "import renderapi\n",
    "from renderapi.client import (SiftPointMatchOptions,\n",
    "                              MatchDerivationParameters,\n",
    "                              FeatureExtractionParameters,\n",
    "                              ArgumentParameters)"
   ]
  },
  {
   "cell_type": "markdown",
   "metadata": {},
   "source": [
    "### 1.1 Setup render Environment"
   ]
  },
  {
   "cell_type": "code",
   "execution_count": null,
   "metadata": {},
   "outputs": [],
   "source": [
    "owner = '<user>'  # replace with your name\n",
    "project = 'iCAT_align'\n",
    "project_dir = Path(f'/long_term_storage/{owner}/SECOM/projects/{project}')\n",
    "export_dir = Path(f'/long_term_storage/{owner}/CATMAID/projects/{project}')\n",
    "\n",
    "# Create a renderapi.connect.Render object\n",
    "render_connect_params = {\n",
    "    'host': 'sonic',\n",
    "    'port': 8080,\n",
    "    'owner': owner,\n",
    "    'project': project,\n",
    "    'client_scripts': '/home/catmaid/render/render-ws-java-client/src/main/scripts',\n",
    "    'memGB': '2G'\n",
    "}\n",
    "\n",
    "render = renderapi.connect(**render_connect_params)\n",
    "stacks = renderapi.render.get_stacks_by_owner_project(render=render)\n",
    "match_collections = {}\n",
    "for stack in stacks:\n",
    "    match_collections[stack] = f'{project}_{stack}_points'\n",
    "    \n",
    "out = f\"\"\"\\\n",
    "stacks.............. {stacks}\n",
    "match collections... {match_collections}\n",
    "\"\"\"\n",
    "print(out)"
   ]
  },
  {
   "cell_type": "markdown",
   "metadata": {},
   "source": [
    "### 1.2 Get Tile Pairs\n",
    "Tile pairs are any two tiles that overlap with each other (including diagonally). There are useful functions in the `renderapi` for generating lists of tile pairs."
   ]
  },
  {
   "cell_type": "code",
   "execution_count": null,
   "metadata": {},
   "outputs": [],
   "source": [
    "# Initialize dicts\n",
    "stack_bounds = {}\n",
    "tile_pairs = {}\n",
    "tile_pair_lists = {}\n",
    "\n",
    "for stack in stacks:\n",
    "    \n",
    "    # Get positional bounds of image stack\n",
    "    stack_bound = renderapi.stack.get_stack_bounds(stack, render=render)\n",
    "    stack_bounds[stack] = stack_bound\n",
    "    \n",
    "    # Only attempt to get tile pairs if stack contains >1 tiles\n",
    "    N_tiles = len(renderapi.stack.get_stack_tileIds(stack, render=render))\n",
    "    if N_tiles > 1:\n",
    "        \n",
    "        # Generate tile pairs for input into point match generator\n",
    "        tile_pairs[stack] = renderapi.client.tilePairClient(stack,\n",
    "                                                            minz=stack_bounds[stack]['minZ'],\n",
    "                                                            maxz=stack_bounds[stack]['maxZ'],\n",
    "                                                            render=render)\n",
    "        \n",
    "        # Generate list of tile pairs    \n",
    "        tile_pair_list = [(tp['p']['id'], tp['q']['id']) for tp in tile_pairs[stack]['neighborPairs']]\n",
    "        tile_pair_lists[stack] = tile_pair_list\n",
    "        \n",
    "# Preview first several tile pairs\n",
    "tile_pair_lists['lil_EM'][:8]"
   ]
  },
  {
   "cell_type": "markdown",
   "metadata": {},
   "source": [
    "### 1.3 Run Point Match Client\n",
    "Set SIFT and RANSAC parameters."
   ]
  },
  {
   "cell_type": "code",
   "execution_count": null,
   "metadata": {},
   "outputs": [],
   "source": [
    "match_params = MatchDerivationParameters(matchIterations=None,\n",
    "                                         matchMaxEpsilon=25,        # maximal alignment error\n",
    "                                         matchMaxNumInliers=None,\n",
    "                                         matchMaxTrust=None,\n",
    "                                         matchMinInlierRatio=0.05,  # minimal inlier ratio\n",
    "                                         matchMinNumInliers=7,      # minimal number of inliers\n",
    "                                         matchModelType='RIGID',    # expected transformation\n",
    "                                         matchRod=0.92)             # closest/next closest ratio\n",
    "feature_params = FeatureExtractionParameters(SIFTfdSize=4,          # feature descriptor size\n",
    "                                             SIFTmaxScale=0.25,     # (width/height *) maximum image size\n",
    "                                             SIFTminScale=0.05,     # (width/height *) minimum image size\n",
    "                                             SIFTsteps=6,           # steps per scale octave\n",
    "                                             clipWidth=500,\n",
    "                                             clipHeight=500)\n",
    "\n",
    "sift_options = SiftPointMatchOptions(**{**match_params.__dict__,\n",
    "                                        **feature_params.__dict__})"
   ]
  },
  {
   "cell_type": "markdown",
   "metadata": {},
   "source": [
    "First create a wrapper for `renderapi.client.pointMatchClient` so that we can run the point match client on multiple threads with `renderapi.client.WithPool`."
   ]
  },
  {
   "cell_type": "code",
   "execution_count": null,
   "metadata": {},
   "outputs": [],
   "source": [
    "def run_point_match_client(tile_pair_chunk, stack, collection, render):\n",
    "    \"\"\"\n",
    "    Point match client wrapper for use in multiprocessing\n",
    "    \"\"\"\n",
    "    renderapi.client.pointMatchClient(stack=stack,\n",
    "                                      collection=collection,\n",
    "                                      tile_pairs=tile_pair_chunk,\n",
    "                                      render=render)"
   ]
  },
  {
   "cell_type": "markdown",
   "metadata": {},
   "source": [
    "Now break the tile pairs into chunks to prevent a java heap space out of memory error. Adjust `chunk_size` as necessary. For large (4k x 4k) images, `chunk_size` may have to be reduced to 1."
   ]
  },
  {
   "cell_type": "code",
   "execution_count": null,
   "metadata": {},
   "outputs": [],
   "source": [
    "chunk_size = 6\n",
    "tile_pair_chunks = {}\n",
    "\n",
    "for stack, tile_pair_list in tile_pair_lists.items():\n",
    "    tile_pair_chunks[stack] = []\n",
    "    \n",
    "    for i in range(0, len(tile_pair_list), chunk_size):\n",
    "        \n",
    "        tile_pair_chunk = tile_pair_list[i : i+chunk_size]\n",
    "        tile_pair_chunks[stack].append(tile_pair_chunk)\n",
    "        \n",
    "# Preview chunks\n",
    "tile_pair_chunks['lil_EM'][:3]"
   ]
  },
  {
   "cell_type": "markdown",
   "metadata": {},
   "source": [
    "Now run the point match client (the function that actually finds features and whatnot) over the chunks of tile pairs. Have to use `partial` with `WithPool` because otherwise it would be too easy. Adjust `N_cores` as necessary. For large (4k x 4k) images, `N_cores` may have to be reduced to ~10.\n",
    "#### \\*\\****COMPUTATIONALLY EXPENSIVE*** \\**"
   ]
  },
  {
   "cell_type": "code",
   "execution_count": null,
   "metadata": {},
   "outputs": [],
   "source": [
    "N_cores = 30\n",
    "\n",
    "for stack, tile_pair_chunk in tile_pair_chunks.items():\n",
    "    \n",
    "    point_match_client_partial = partial(run_point_match_client,\n",
    "                                         stack=stack,\n",
    "                                         collection=match_collections[stack],\n",
    "                                         render=render)\n",
    "    \n",
    "    with renderapi.client.WithPool(N_cores) as pool:\n",
    "        pool.map(point_match_client_partial, tile_pair_chunks[stack])"
   ]
  },
  {
   "cell_type": "markdown",
   "metadata": {},
   "source": [
    "## 2 Basic Point Match Analysis\n",
    "---\n",
    "### 2.1 Aggregate Point Matches"
   ]
  },
  {
   "cell_type": "code",
   "execution_count": null,
   "metadata": {},
   "outputs": [],
   "source": [
    "# Create empty dataframe in which to store results\n",
    "df = pd.DataFrame(columns=['pid', 'qid', 'N_matches', 'pc', 'pr', 'qc', 'qr'])\n",
    "\n",
    "for stack, tile_pair_list in tile_pair_lists.items():\n",
    "    \n",
    "    for i, tile_pair in enumerate(tile_pair_list):\n",
    "    \n",
    "        # Get group IDs\n",
    "        groupIds = renderapi.pointmatch.get_match_groupIds(match_collections[stack], render=render)\n",
    "\n",
    "        tile_pair_matches = renderapi.pointmatch.get_matches_from_tile_to_tile(\n",
    "                                match_collections[stack],\n",
    "                                pgroup=groupIds[0],\n",
    "                                pid=tile_pair[0],\n",
    "                                qgroup=groupIds[0],\n",
    "                                qid=tile_pair[1],\n",
    "                                render=render)\n",
    "        \n",
    "        # Suss out column and row number from tileId\n",
    "        pc, pr = [int(i) for i in re.findall('\\d+', tile_pair[0])]\n",
    "        qc, qr = [int(i) for i in re.findall('\\d+', tile_pair[1])]\n",
    "                                \n",
    "        try:\n",
    "            # Stuff matches into arrays\n",
    "            p_matches = np.array(tile_pair_matches[0]['matches']['p']).T\n",
    "            q_matches = np.array(tile_pair_matches[0]['matches']['q']).T\n",
    "            # Ensure p and q matches check out\n",
    "            assert len(p_matches) == len(q_matches)\n",
    "                        \n",
    "        except IndexError:\n",
    "            # No matches for this tile pair\n",
    "            p_matches = []\n",
    "            q_matches = []\n",
    "        \n",
    "        df.loc[i,['pid','qid']] = tile_pair\n",
    "        df.loc[i,['pc','pr','qc','qr']] = (pc, pr, qc, qr)\n",
    "        df.loc[i,'N_matches'] = len(p_matches)\n",
    "\n",
    "# Infer dtype for each column\n",
    "df = df.infer_objects()\n",
    "# Preview dataframe\n",
    "df.head()"
   ]
  },
  {
   "cell_type": "markdown",
   "metadata": {},
   "source": [
    "### 2.2 Plot East-West and North-South point matches"
   ]
  },
  {
   "cell_type": "code",
   "execution_count": null,
   "metadata": {
    "scrolled": true
   },
   "outputs": [],
   "source": [
    "Nr = int(df[['pr', 'qr']].max().max() + 1)\n",
    "Nc = int(df[['pc', 'qc']].max().max() + 1)\n",
    "EW_matches = np.zeros((Nr, Nc))\n",
    "NS_matches = np.zeros((Nr, Nc))\n",
    "# Loop over dataframe rows\n",
    "for i, row in df.iterrows():\n",
    "    if row['pr'] == row['qr']:\n",
    "        EW_matches[row['pr'], row[['pc', 'qc']].min()] = row['N_matches']\n",
    "    else:  # pc == qc\n",
    "        NS_matches[row[['pr', 'qr']].min(), row['pc']] = row['N_matches']\n",
    "\n",
    "# Plot point matches\n",
    "fig, (ax1, ax2) = plt. subplots(ncols=2, figsize=(14, 7))\n",
    "sns.heatmap(EW_matches, ax=ax1, annot=False, mask=EW_matches<7, cbar_kws={\"shrink\": 0.75},\n",
    "            annot_kws={'fontsize': 7}, fmt='.0f', robust=True, square=True);\n",
    "sns.heatmap(NS_matches, ax=ax2, annot=False, mask=NS_matches<7, cbar_kws={\"shrink\": 0.75},\n",
    "            annot_kws={'fontsize': 7}, fmt='.0f', robust=True, square=True);\n",
    "ax1.set_title('EAST-WEST Matches');\n",
    "ax2.set_title('NORTH-SOUTH Matches');"
   ]
  },
  {
   "cell_type": "markdown",
   "metadata": {},
   "source": [
    "## 3 Refine Problem Tiles\n",
    "---\n",
    "### 3.1 Examine distribution of point matches across all tile pairs"
   ]
  },
  {
   "cell_type": "code",
   "execution_count": null,
   "metadata": {},
   "outputs": [],
   "source": [
    "n_bins = 64\n",
    "hist, bins = np.histogram(df['N_matches'], bins=n_bins)\n",
    "cumsum = np.cumsum(hist)\n",
    "cumsum = np.insert(cumsum, 0, 0)\n",
    "cumsum = hist.max() * (cumsum - cumsum.min()) / (cumsum.max() - cumsum.min())\n",
    "cumsum_x = np.linspace(0, df['N_matches'].max(), n_bins+1)\n",
    "\n",
    "bars = np.percentile(df['N_matches'], [10, 25, 50, 75, 100])\n",
    "bar_heights = np.interp(bars, cumsum_x, cumsum)\n",
    "\n",
    "fig, ax = plt.subplots(figsize=(12, 5))\n",
    "sns.distplot(df['N_matches'], bins=n_bins, kde=False, rug=True, hist_kws={'rwidth': 0.9}, ax=ax);\n",
    "ax.plot(cumsum_x, cumsum);\n",
    "ax.vlines(bars, np.zeros(bars.size), bar_heights, colors='C1', linestyle='--');"
   ]
  },
  {
   "cell_type": "markdown",
   "metadata": {},
   "source": [
    "#### Bottom 10% of point matches"
   ]
  },
  {
   "cell_type": "code",
   "execution_count": null,
   "metadata": {},
   "outputs": [],
   "source": [
    "_10pct_threshold = np.percentile(df['N_matches'], 10)\n",
    "reruns = df[df['N_matches'] < _10pct_threshold]\n",
    "reruns.sort_values('N_matches')"
   ]
  },
  {
   "cell_type": "markdown",
   "metadata": {},
   "source": [
    "### 3.2 Set more stringent SIFT parameters"
   ]
  },
  {
   "cell_type": "code",
   "execution_count": null,
   "metadata": {},
   "outputs": [],
   "source": [
    "match_params = MatchDerivationParameters(matchIterations=None,\n",
    "                                         matchMaxEpsilon=25,        # maximal alignment error\n",
    "                                         matchMaxNumInliers=None,\n",
    "                                         matchMaxTrust=None,\n",
    "                                         matchMinInlierRatio=0.05,  # minimal inlier ratio\n",
    "                                         matchMinNumInliers=7,      # minimal number of inliers\n",
    "                                         matchModelType='RIGID',    # expected transformation\n",
    "                                         matchRod=0.92)             # closest/next closest ratio\n",
    "feature_params = FeatureExtractionParameters(SIFTfdSize=4,          # feature descriptor size\n",
    "                                             SIFTmaxScale=0.50,     # (width/height *) maximum image size\n",
    "                                             SIFTminScale=0.05,     # (width/height *) minimum image size\n",
    "                                             SIFTsteps=6,           # steps per scale octave\n",
    "                                             clipWidth=500,\n",
    "                                             clipHeight=500)\n",
    "\n",
    "sift_options = SiftPointMatchOptions(**{**match_params.__dict__,\n",
    "                                        **feature_params.__dict__})"
   ]
  },
  {
   "cell_type": "markdown",
   "metadata": {},
   "source": [
    "### 3.3 (Re)Run PointMatchClient on Problematic Tile Pairs"
   ]
  },
  {
   "cell_type": "code",
   "execution_count": null,
   "metadata": {},
   "outputs": [],
   "source": [
    "chunk_size = 6\n",
    "tile_pair_reruns = []\n",
    "\n",
    "for i in range(0, len(reruns), chunk_size):\n",
    "    tile_pair_chunk = reruns[['pid', 'qid']].values.tolist()[i : i+chunk_size]\n",
    "    tile_pair_reruns.append(tile_pair_chunk)\n",
    "    \n",
    "# Preview chunks\n",
    "tile_pair_reruns"
   ]
  },
  {
   "cell_type": "markdown",
   "metadata": {},
   "source": [
    "#### \\*\\****COMPUTATIONALLY EXPENSIVE*** \\**"
   ]
  },
  {
   "cell_type": "code",
   "execution_count": null,
   "metadata": {},
   "outputs": [],
   "source": [
    "point_match_client_partial = partial(run_point_match_client,\n",
    "                                     stack=stack,\n",
    "                                     collection=match_collections[stack],\n",
    "                                     sift_options=feature_params,\n",
    "                                     render=render)\n",
    "\n",
    "N_cores = 10\n",
    "with renderapi.client.WithPool(N_cores) as pool:\n",
    "    pool.map(point_match_client_partial, tile_pair_reruns)"
   ]
  },
  {
   "cell_type": "markdown",
   "metadata": {},
   "source": [
    "## 3 Align Tiles\n",
    "---\n",
    "So now all the point matches have been generated, but the tiles have not been globally aligned. To do so, we use an additional package, also developed at the Allen Institute, [EM_aligner_python](https://github.com/AllenInstitute/EM_aligner_python).\n",
    "\n",
    "### 3.1 Edit Montage json"
   ]
  },
  {
   "cell_type": "code",
   "execution_count": null,
   "metadata": {},
   "outputs": [],
   "source": [
    "with open('/home/rlane/iCAT-workflow/templates/montage.json') as json_data:\n",
    "    montage_settings = json.load(json_data)\n",
    "    \n",
    "for stack in tile_pair_lists.keys():\n",
    "    \n",
    "    # Edit input stack data\n",
    "    montage_settings['input_stack']['owner'] = owner\n",
    "    montage_settings['input_stack']['project'] = project\n",
    "    montage_settings['input_stack']['name'] = stack\n",
    "    \n",
    "    # Edit pointmatch stack data\n",
    "    montage_settings['pointmatch']['owner'] = owner\n",
    "    montage_settings['pointmatch']['name'] = match_collections[stack]\n",
    "    \n",
    "    # Edit output stack data\n",
    "    montage_settings['output_stack']['owner'] = owner\n",
    "    montage_settings['output_stack']['project'] = f'{project}_montaged'\n",
    "    montage_settings['output_stack']['name'] = f'{stack}_montaged'\n",
    "    \n",
    "    with project_dir.joinpath(f'{stack}/_montage.json').open('w') as json_data:\n",
    "        json.dump(montage_settings, json_data, indent=2)"
   ]
  },
  {
   "cell_type": "markdown",
   "metadata": {},
   "source": [
    "### 3.2 Change mongod Configuration\n",
    "Needs to be refined, but this is working for now. Involves opening mongodb to remote IPs which might be dangerous.\n",
    "\n",
    "Normal `/etc/mongod.conf` configuration\n",
    "```\n",
    "# network interfaces\n",
    "net:\n",
    "  port: 27017\n",
    "#  bindIp: 0.0.0.0\n",
    "  bindIp: 127.0.0.1 # Listen to local interface only, comment to listen on all interfaces.\n",
    "#  bindIp: 127.0.0.1 169.254.100.2 131.180.83.183 172.17.0.1\n",
    "```\n",
    "\n",
    "Make changes and restart mongod\n",
    "```\n",
    "# network interfaces\n",
    "net:\n",
    "  port: 27017\n",
    "  bindIp: 0.0.0.0\n",
    "#  bindIp: 127.0.0.1 # Listen to local interface only, comment to listen on all interfaces.\n",
    "#  bindIp: 127.0.0.1 169.254.100.2 131.180.83.183 172.17.0.1\n",
    "```\n",
    "### 3.3 Run EM Aligner"
   ]
  },
  {
   "cell_type": "code",
   "execution_count": null,
   "metadata": {},
   "outputs": [],
   "source": [
    "EM_aligner_dir = Path('/home/catmaid/EM_aligner_python/').as_posix()\n",
    "input_json = project_dir.joinpath(f'{stack}/_montage.json').as_posix()\n",
    "\n",
    "cwd = os.getcwd()\n",
    "os.chdir(EM_aligner_dir)\n",
    "subprocess.run(['python', '-m', 'EMaligner.EMaligner', '--input_json', f'{input_json}'])\n",
    "os.chdir(cwd)"
   ]
  },
  {
   "cell_type": "markdown",
   "metadata": {},
   "source": [
    "## 4 Export to CATMAID\n",
    "---\n",
    "### 4.1 Set up CATMAID Export Parameters"
   ]
  },
  {
   "cell_type": "code",
   "execution_count": null,
   "metadata": {},
   "outputs": [],
   "source": [
    "from renderapi.client import ArgumentParameters\n",
    "\n",
    "class CatmaidBoxesParameters(ArgumentParameters):\n",
    "    \"\"\"\n",
    "    \"\"\"\n",
    "    def __init__(self,\n",
    "                 stack,\n",
    "                 root_directory,\n",
    "                 height=1024,\n",
    "                 width=1024,\n",
    "                 format='png',\n",
    "                 max_level=9,\n",
    "                 host=None, port=None,\n",
    "                 baseurl=None,\n",
    "                 owner=None, project=None,\n",
    "                 render=None, **kwargs):\n",
    "        \n",
    "        super(CatmaidBoxesParameters, self).__init__(**kwargs)\n",
    "        \n",
    "        self.stack = stack\n",
    "        self.rootDirectory = root_directory\n",
    "        self.height = height\n",
    "        self.width = width\n",
    "        self.format = format\n",
    "        self.maxLevel = max_level\n",
    "        \n",
    "        render_kwargs = render.make_kwargs()\n",
    "        host = render_kwargs.get('host')\n",
    "        port = render_kwargs.get('port')\n",
    "        self.baseDataUrl = renderapi.render.format_baseurl(host, port)\n",
    "        self.owner = render_kwargs.get('owner') if owner is None else owner\n",
    "        self.project = render_kwargs.get('project') if project is None else project"
   ]
  },
  {
   "cell_type": "code",
   "execution_count": null,
   "metadata": {},
   "outputs": [],
   "source": [
    "catmaid_params = CatmaidBoxesParameters(stack=f'{stack}_montaged',\n",
    "                                        root_directory=export_dir.as_posix(),\n",
    "                                        height=1024,\n",
    "                                        width=1024,\n",
    "                                        format='png',\n",
    "                                        max_level=9,\n",
    "                                        project=f'{project}_montaged',\n",
    "                                        render=render)\n",
    "# Check java arguments\n",
    "list(catmaid_params.to_java_args())"
   ]
  },
  {
   "cell_type": "markdown",
   "metadata": {},
   "source": [
    "### 4.2 Call render script\n",
    "`render_catmaid_boxes.sh`"
   ]
  },
  {
   "cell_type": "code",
   "execution_count": null,
   "metadata": {},
   "outputs": [],
   "source": [
    "sh = Path(render_connect_params['client_scripts']) / 'render_catmaid_boxes.sh'\n",
    "p = subprocess.run([sh.as_posix(), b'0'] + list(catmaid_params.to_java_args()))"
   ]
  },
  {
   "cell_type": "markdown",
   "metadata": {},
   "source": [
    "### 4.3 Resort CATMAID tiles"
   ]
  },
  {
   "cell_type": "code",
   "execution_count": null,
   "metadata": {},
   "outputs": [],
   "source": [
    "for stack in stacks:\n",
    "    # Collect every tile in each stack\n",
    "    stack_dir = export_dir / stack\n",
    "    tiles = export_dir.glob('**/1024x1024/**/[0-9]*.png')\n",
    "    \n",
    "    # Relocate tiles in accordance with tile source convention 1\n",
    "    for tile_format_7 in tiles:\n",
    "        tile_structure = tile_format_7.as_posix().split('.')[0].split(tile_format_7.anchor)\n",
    "        zoom, z, row, col = tile_structure[-4:]\n",
    "        \n",
    "        # Move tile to new directory\n",
    "        tile_format_1 = export_dir / (f'{stack}/{z}/{row}_{col}_{zoom}.png')\n",
    "        # Make directory (and parent directory) if necessary\n",
    "        tile_format_1.parent.mkdir(parents=True, exist_ok=True)\n",
    "        tile_format_7.rename(tile_format_1)\n",
    "        \n",
    "    # Clean up directory tree by removing the now empty 1024x1024 parent folder\n",
    "    rmtree((export_dir / f'{project}_montaged').as_posix())"
   ]
  }
 ],
 "metadata": {
  "kernelspec": {
   "display_name": "Python 3",
   "language": "python",
   "name": "python3"
  },
  "language_info": {
   "codemirror_mode": {
    "name": "ipython",
    "version": 3
   },
   "file_extension": ".py",
   "mimetype": "text/x-python",
   "name": "python",
   "nbconvert_exporter": "python",
   "pygments_lexer": "ipython3",
   "version": "3.7.0"
  }
 },
 "nbformat": 4,
 "nbformat_minor": 2
}
