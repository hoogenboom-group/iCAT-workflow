{
 "cells": [
  {
   "cell_type": "markdown",
   "metadata": {},
   "source": [
    "# Stitching Map\n",
    "---\n",
    "### Imports"
   ]
  },
  {
   "cell_type": "code",
   "execution_count": null,
   "metadata": {},
   "outputs": [],
   "source": [
    "# Libraries needed\n",
    "import os\n",
    "import subprocess\n",
    "from functools import partial\n",
    "import re\n",
    "from pathlib import Path\n",
    "import json\n",
    "from pprint import pprint\n",
    "\n",
    "import numpy as np\n",
    "import matplotlib.pyplot as plt\n",
    "import seaborn as sns\n",
    "\n",
    "from skimage.io import imread\n",
    "from skimage.transform import pyramid_reduce\n",
    "\n",
    "import renderapi"
   ]
  },
  {
   "cell_type": "markdown",
   "metadata": {},
   "source": [
    "### Initialize render"
   ]
  },
  {
   "cell_type": "code",
   "execution_count": null,
   "metadata": {},
   "outputs": [],
   "source": [
    "owner = 'rlane'  # replace with your name\n",
    "project = 'iCAT_align'\n",
    "stack = 'lil_EM'\n",
    "match_collection = 'lil_EM_points'\n",
    "project_dir = Path('/long_term_storage/rlane/SECOM/iCAT_sample_data')\n",
    "\n",
    "# Create a renderapi.connect.Render object\n",
    "render_connect_params = {\n",
    "    'host': 'sonic',\n",
    "    'port': 8080,\n",
    "    'owner': owner,\n",
    "    'project': project,\n",
    "    'client_scripts': '/home/catmaid/render/render-ws-java-client/src/main/scripts',\n",
    "    'memGB': '2G'\n",
    "}\n",
    "\n",
    "render = renderapi.connect(**render_connect_params)"
   ]
  },
  {
   "cell_type": "markdown",
   "metadata": {},
   "source": [
    "### Initialize Grid"
   ]
  },
  {
   "cell_type": "code",
   "execution_count": null,
   "metadata": {},
   "outputs": [],
   "source": [
    "# Grid settings\n",
    "r0, c0 = (0, 16)  # (row, col)\n",
    "Nr, Nc = (4, 4)  # (row col)\n",
    "rows = []\n",
    "cols = []\n",
    "\n",
    "# Get all tile specs within stack\n",
    "stack_tile_specs = renderapi.tilespec.get_tile_specs_from_stack(stack, render=render)\n",
    "# Get tile width and height\n",
    "w = int(np.mean([tile_spec.width for tile_spec in stack_tile_specs]))\n",
    "h = int(np.mean([tile_spec.height for tile_spec in stack_tile_specs]))\n",
    "\n",
    "# Get tile specs within grid\n",
    "grid_tile_specs = []\n",
    "for tile_spec in stack_tile_specs:\n",
    "    # Get row, col\n",
    "    r = tile_spec.layout.imageRow; rows.append(r)\n",
    "    c = tile_spec.layout.imageCol; cols.append(c)\n",
    "    # Filter to within grid\n",
    "    if (r0 <= r <= (r0 + Nr-1)) and (c0 <= c <= (c0 + Nc-1)):\n",
    "        grid_tile_specs.append(tile_spec)"
   ]
  },
  {
   "cell_type": "markdown",
   "metadata": {},
   "source": [
    "### Show Grid"
   ]
  },
  {
   "cell_type": "code",
   "execution_count": null,
   "metadata": {},
   "outputs": [],
   "source": [
    "# Make a heatmap of the stack\n",
    "stack_map = np.zeros((max(rows), max(cols)))\n",
    "stack_map[r0:r0+(Nr-1), c0:c0+(Nc-1)] = 1\n",
    "fig, ax = plt.subplots(figsize=(7, 7))\n",
    "ax = sns.heatmap(stack_map, vmin=0, vmax=1, ax=ax);\n",
    "\n",
    "# Adjust x ticks\n",
    "xticks = [t.get_text() for t in ax.get_xticklabels()]\n",
    "plt.xticks(np.array(xticks).astype(int), ha='left');\n",
    "ax.set_xticklabels(xticks, ha='center');\n",
    "# Adjust y ticks\n",
    "yticks = [t.get_text() for t in ax.get_yticklabels()]\n",
    "plt.yticks(np.array(yticks).astype(int), va='top');\n",
    "ax.set_yticklabels(yticks, va='center');\n",
    "ax.set_aspect('equal')"
   ]
  },
  {
   "cell_type": "markdown",
   "metadata": {},
   "source": [
    "### Get Tile Pair List\n",
    "This is done by running `renderapi.client.tilePairClient` and widdling it down."
   ]
  },
  {
   "cell_type": "code",
   "execution_count": null,
   "metadata": {},
   "outputs": [],
   "source": [
    "# Get positional bounds of image stack\n",
    "stack_bounds = renderapi.stack.get_stack_bounds(stack, render=render)\n",
    "\n",
    "# Generate tile pairs for input into point match generator\n",
    "tile_pair_data = renderapi.client.tilePairClient(stack,\n",
    "                                                 minz=stack_bounds['minZ'],\n",
    "                                                 maxz=stack_bounds['maxZ'],\n",
    "                                                 render=render)\n",
    "\n",
    "# Generate list of tile pairs    \n",
    "stack_tile_pairs = [(tp['p']['id'], tp['q']['id']) for tp in tile_pair_data['neighborPairs']]\n",
    "\n",
    "# Filter tile pairs to include only those in grid\n",
    "grid_tileIds = [tile_spec.tileId for tile_spec in grid_tile_specs]\n",
    "grid_tile_pairs = []\n",
    "for tile_pair in stack_tile_pairs:\n",
    "    # Both tiles in pair must be in grid\n",
    "    if (tile_pair[0] in grid_tileIds) and (tile_pair[1] in grid_tileIds):\n",
    "        grid_tile_pairs.append(tile_pair)\n",
    "\n",
    "# Show tile pairs\n",
    "print(f'{len(grid_tile_pairs)} / {len(stack_tile_pairs)} Tile Pairs in Grid')\n",
    "grid_tile_pairs"
   ]
  },
  {
   "cell_type": "markdown",
   "metadata": {},
   "source": [
    "### Get Matches"
   ]
  },
  {
   "cell_type": "code",
   "execution_count": null,
   "metadata": {},
   "outputs": [],
   "source": [
    "p_matches = {}\n",
    "q_matches = {}\n",
    "\n",
    "for tile_pair in grid_tile_pairs:\n",
    "    \n",
    "    # Get group IDsm\n",
    "    groupIds = renderapi.pointmatch.get_match_groupIds(match_collection, render=render)\n",
    "    \n",
    "    tile_pair_matches = renderapi.pointmatch.get_matches_from_tile_to_tile(\n",
    "                            match_collection,\n",
    "                            pgroup=groupIds[0],\n",
    "                            pid=tile_pair[0],\n",
    "                            qgroup=groupIds[0],\n",
    "                            qid=tile_pair[1],\n",
    "                            render=render)\n",
    "    \n",
    "    # Suss out column and row number from tileId\n",
    "    pc, pr = [int(i) for i in re.findall('\\d+', tile_pair[0])]\n",
    "    qc, qr = [int(i) for i in re.findall('\\d+', tile_pair[1])]\n",
    "    \n",
    "    try:\n",
    "        # Stuff matches into arrays\n",
    "        p_matches_arr = np.array(tile_pair_matches[0]['matches']['p']).T\n",
    "        q_matches_arr = np.array(tile_pair_matches[0]['matches']['q']).T\n",
    "        # Ensure p and q matches check out\n",
    "        assert len(p_matches_arr) == len(q_matches_arr)\n",
    "    \n",
    "    except IndexError:\n",
    "        # No matches for this tile pair\n",
    "        print(f\"No matches for tile pair:  {tile_pair[0]} <--> {tile_pair[1]}\")\n",
    "        p_matches_arr = []\n",
    "        q_matches_arr = []\n",
    "        \n",
    "    p_matches[((pr, pc), (qr, qc))] = p_matches_arr\n",
    "    q_matches[((pr, pc), (qr, qc))] = q_matches_arr"
   ]
  },
  {
   "cell_type": "markdown",
   "metadata": {},
   "source": [
    "### Make Mosaic"
   ]
  },
  {
   "cell_type": "code",
   "execution_count": null,
   "metadata": {},
   "outputs": [],
   "source": [
    "# Down sample factor\n",
    "dsf = 2\n",
    "Npx = 2048\n",
    "\n",
    "# Initialize mosaic\n",
    "mosaic = np.full(fill_value=2**15, shape=(int(Nr*w//dsf),\n",
    "                                          int(Nc*h//dsf)))\n",
    "\n",
    "# Loop through tile specs\n",
    "for tile_spec in grid_tile_specs:\n",
    "    \n",
    "    # Get row and column of image tile\n",
    "    r = tile_spec.layout.imageRow\n",
    "    c = tile_spec.layout.imageCol\n",
    "    \n",
    "    # Create thumbnail image\n",
    "    imageUrl = tile_spec.to_dict()['mipmapLevels']['0']['imageUrl']\n",
    "    tile_img = imread(imageUrl)\n",
    "    clipped = np.clip(tile_img, a_min=tile_spec.minint, a_max=tile_spec.maxint)\n",
    "    thumb = pyramid_reduce(clipped, downscale=dsf, multichannel=False)\n",
    "    \n",
    "    # Fill in mosaic\n",
    "    ii, ji = ((r-r0) * h//dsf, (c-c0) * w//dsf)\n",
    "    ij, jj = (ii + h//dsf, ji + w//dsf)\n",
    "    mosaic[ii:ij, ji:jj] = thumb"
   ]
  },
  {
   "cell_type": "markdown",
   "metadata": {},
   "source": [
    "### Make Stitch Figure"
   ]
  },
  {
   "cell_type": "code",
   "execution_count": null,
   "metadata": {},
   "outputs": [],
   "source": [
    "# Make plot\n",
    "fig, ax = plt.subplots(figsize=(14, 11))\n",
    "ax.imshow(mosaic, cmap='Greys_r');\n",
    "\n",
    "# Reduce visible stitch lines by factor\n",
    "rf = 10 #  (1 = no reduction)\n",
    "\n",
    "# Make stitch lines\n",
    "for (((pr, pc), (qr, qc)), pms), (((pr, pc), (qr, qc)), qms) in zip(p_matches.items(), q_mxatches.items()):\n",
    "    \n",
    "    try:\n",
    "        lines = np.vstack((pms[:,0]/dsf + (pc-c0)*Npx/dsf,\n",
    "                           qms[:,0]/dsf + (qc-c0)*Npx/dsf,\n",
    "                           pms[:,1]/dsf + (pr-r0)*Npx/dsf,\n",
    "                           qms[:,1]/dsf + (qr-r0)*Npx/dsf)).T[::rf]\n",
    "        ax.plot(*lines.reshape(-1, 2), color='#00FF77');\n",
    "\n",
    "    except TypeError:\n",
    "        pass\n",
    "    \n",
    "ax.axis('off');"
   ]
  }
 ],
 "metadata": {
  "kernelspec": {
   "display_name": "Python 3",
   "language": "python",
   "name": "python3"
  },
  "language_info": {
   "codemirror_mode": {
    "name": "ipython",
    "version": 3
   },
   "file_extension": ".py",
   "mimetype": "text/x-python",
   "name": "python",
   "nbconvert_exporter": "python",
   "pygments_lexer": "ipython3",
   "version": "3.7.0"
  }
 },
 "nbformat": 4,
 "nbformat_minor": 2
}
