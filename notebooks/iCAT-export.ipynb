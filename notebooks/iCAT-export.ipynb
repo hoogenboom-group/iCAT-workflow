{
 "cells": [
  {
   "cell_type": "markdown",
   "metadata": {},
   "source": [
    "# (Quickly) Export to CATMAID\n",
    "---"
   ]
  },
  {
   "cell_type": "code",
   "execution_count": 1,
   "metadata": {},
   "outputs": [],
   "source": [
    "import os\n",
    "import sys\n",
    "import re\n",
    "import subprocess\n",
    "from pathlib import Path\n",
    "from functools import partial\n",
    "from shutil import rmtree\n",
    "\n",
    "from ruamel.yaml import YAML\n",
    "import numpy as np\n",
    "import pandas as pd\n",
    "from tqdm import tqdm_notebook\n",
    "from skimage.io import imsave\n",
    "\n",
    "import renderapi\n",
    "from renderapi.client import ArgumentParameters"
   ]
  },
  {
   "cell_type": "code",
   "execution_count": 2,
   "metadata": {},
   "outputs": [],
   "source": [
    "owner = 'rlane'\n",
    "project = '20190517_UMCG_RL005'\n",
    "\n",
    "section_thickness = 80  # nm"
   ]
  },
  {
   "cell_type": "code",
   "execution_count": 3,
   "metadata": {},
   "outputs": [
    {
     "name": "stdout",
     "output_type": "stream",
     "text": [
      "owner............... rlane\n",
      "project............. 20190517_UMCG_RL005\n",
      "project directory... /long_term_storage/rlane/SECOM/projects/20190517_UMCG_RL005\n",
      "export directory.... /long_term_storage/rlane/CATMAID/projects/20190517_UMCG_RL005\n",
      "stacks.............. ['hoechst_overlaid_correlated', 'big_EM_correlated', 'mm_EM', 'hoechst_overlaid', 'lil_EM_montaged', 'lil_EM', 'hoechst', 'big_EM']\n",
      "EM stacks........... ['big_EM_correlated', 'mm_EM', 'lil_EM_montaged', 'lil_EM', 'big_EM']\n",
      "FM stacks........... ['hoechst_overlaid_correlated', 'hoechst_overlaid', 'hoechst']\n",
      "Export stacks....... ['hoechst_overlaid_correlated', 'lil_EM_montaged']\n",
      "\n"
     ]
    }
   ],
   "source": [
    "project_dir = Path(f'/long_term_storage/{owner}/SECOM/projects/{project}/')\n",
    "export_dir = Path(f'/long_term_storage/{owner}/CATMAID/projects/{project}/')\n",
    "\n",
    "# Render parameters\n",
    "render_connect_params = {\n",
    "    'host': 'sonic',\n",
    "    'port': 8080,\n",
    "    'owner': owner,\n",
    "    'project': project,\n",
    "    'client_scripts': '/home/catmaid/render/render-ws-java-client/src/main/scripts',\n",
    "    'memGB': '2G'\n",
    "}\n",
    "# Create a renderapi.connect.Render object\n",
    "render = renderapi.connect(**render_connect_params)\n",
    "# Collect stacks\n",
    "stacks_all = renderapi.render.get_stacks_by_owner_project(render=render)\n",
    "stacks_EM = [stack for stack in stacks_all if 'EM' in stack]\n",
    "stacks_FM = [stack for stack in stacks_all if stack not in stacks_EM]\n",
    "stacks_2_export = [stack for stack in stacks_all if ('montaged' in stack) or \\\n",
    "                                                    ('overlaid_correlated' in stack)]\n",
    "\n",
    "out = f\"\"\"\\\n",
    "owner............... {owner}\n",
    "project............. {project}\n",
    "project directory... {project_dir}\n",
    "export directory.... {export_dir}\n",
    "stacks.............. {stacks_all}\n",
    "EM stacks........... {stacks_EM}\n",
    "FM stacks........... {stacks_FM}\n",
    "Export stacks....... {stacks_2_export}\n",
    "\"\"\"\n",
    "print(out)"
   ]
  },
  {
   "cell_type": "code",
   "execution_count": 4,
   "metadata": {},
   "outputs": [
    {
     "data": {
      "text/html": [
       "<div>\n",
       "<style scoped>\n",
       "    .dataframe tbody tr th:only-of-type {\n",
       "        vertical-align: middle;\n",
       "    }\n",
       "\n",
       "    .dataframe tbody tr th {\n",
       "        vertical-align: top;\n",
       "    }\n",
       "\n",
       "    .dataframe thead th {\n",
       "        text-align: right;\n",
       "    }\n",
       "</style>\n",
       "<table border=\"1\" class=\"dataframe\">\n",
       "  <thead>\n",
       "    <tr style=\"text-align: right;\">\n",
       "      <th></th>\n",
       "      <th>stack</th>\n",
       "      <th>section</th>\n",
       "      <th>z</th>\n",
       "    </tr>\n",
       "  </thead>\n",
       "  <tbody>\n",
       "    <tr>\n",
       "      <td>0</td>\n",
       "      <td>hoechst_overlaid_correlated</td>\n",
       "      <td>S001</td>\n",
       "      <td>1.0</td>\n",
       "    </tr>\n",
       "    <tr>\n",
       "      <td>1</td>\n",
       "      <td>lil_EM_montaged</td>\n",
       "      <td>S001</td>\n",
       "      <td>1.0</td>\n",
       "    </tr>\n",
       "  </tbody>\n",
       "</table>\n",
       "</div>"
      ],
      "text/plain": [
       "                         stack section    z\n",
       "0  hoechst_overlaid_correlated    S001  1.0\n",
       "1              lil_EM_montaged    S001  1.0"
      ]
     },
     "execution_count": 4,
     "metadata": {},
     "output_type": "execute_result"
    }
   ],
   "source": [
    "stack_data = pd.DataFrame(columns=['stack', 'section', 'z'])\n",
    "\n",
    "i = 0\n",
    "for stack in stacks_2_export:\n",
    "\n",
    "    # Get z values for each stack\n",
    "    z_vals = renderapi.stack.get_z_values_for_stack(stack, render=render)\n",
    "    # Loop through z values\n",
    "    for z in z_vals:\n",
    "\n",
    "        # Get sectionId for z value\n",
    "        section = renderapi.stack.get_sectionId_for_z(stack, z, render=render)\n",
    "\n",
    "        # Build up stack data\n",
    "        stack_data.loc[i, 'stack'] = stack\n",
    "        stack_data.loc[i, 'z'] = z\n",
    "        stack_data.loc[i, 'section'] = section\n",
    "\n",
    "        # Increment index\n",
    "        i += 1\n",
    "\n",
    "stack_data.infer_objects()"
   ]
  },
  {
   "cell_type": "markdown",
   "metadata": {},
   "source": [
    "#### Aggregate stack stack data"
   ]
  },
  {
   "cell_type": "code",
   "execution_count": 5,
   "metadata": {},
   "outputs": [
    {
     "data": {
      "text/html": [
       "<div>\n",
       "<style scoped>\n",
       "    .dataframe tbody tr th:only-of-type {\n",
       "        vertical-align: middle;\n",
       "    }\n",
       "\n",
       "    .dataframe tbody tr th {\n",
       "        vertical-align: top;\n",
       "    }\n",
       "\n",
       "    .dataframe thead th {\n",
       "        text-align: right;\n",
       "    }\n",
       "</style>\n",
       "<table border=\"1\" class=\"dataframe\">\n",
       "  <thead>\n",
       "    <tr style=\"text-align: right;\">\n",
       "      <th></th>\n",
       "      <th>section</th>\n",
       "      <th>z</th>\n",
       "    </tr>\n",
       "    <tr>\n",
       "      <th>stack</th>\n",
       "      <th></th>\n",
       "      <th></th>\n",
       "    </tr>\n",
       "  </thead>\n",
       "  <tbody>\n",
       "    <tr>\n",
       "      <td>hoechst_overlaid_correlated</td>\n",
       "      <td>[S001]</td>\n",
       "      <td>[1.0]</td>\n",
       "    </tr>\n",
       "    <tr>\n",
       "      <td>lil_EM_montaged</td>\n",
       "      <td>[S001]</td>\n",
       "      <td>[1.0]</td>\n",
       "    </tr>\n",
       "  </tbody>\n",
       "</table>\n",
       "</div>"
      ],
      "text/plain": [
       "                            section      z\n",
       "stack                                     \n",
       "hoechst_overlaid_correlated  [S001]  [1.0]\n",
       "lil_EM_montaged              [S001]  [1.0]"
      ]
     },
     "execution_count": 5,
     "metadata": {},
     "output_type": "execute_result"
    }
   ],
   "source": [
    "stack_data_agg = stack_data.groupby('stack').agg(list)\n",
    "stack_data_agg"
   ]
  },
  {
   "cell_type": "markdown",
   "metadata": {},
   "source": [
    "## Export to CATMAID\n",
    "---\n",
    "### Set up CATMAID export parameters"
   ]
  },
  {
   "cell_type": "code",
   "execution_count": 6,
   "metadata": {},
   "outputs": [],
   "source": [
    "class CatmaidBoxesParameters(ArgumentParameters):\n",
    "    \"\"\"\n",
    "    \"\"\"\n",
    "    def __init__(self, stack, root_directory,\n",
    "                 height=1024, width=1024, fmt='png', max_level=0,\n",
    "                 host=None, port=None, baseurl=None,\n",
    "                 owner=None, project=None, render=None, **kwargs):\n",
    "        \n",
    "        super(CatmaidBoxesParameters, self).__init__(**kwargs)\n",
    "        \n",
    "        self.stack = stack\n",
    "        self.rootDirectory = root_directory\n",
    "        self.height = height\n",
    "        self.width = width\n",
    "        self.format = fmt\n",
    "        self.maxLevel = max_level\n",
    "        \n",
    "        render_kwargs = render.make_kwargs()\n",
    "        host = render_kwargs.get('host')\n",
    "        port = render_kwargs.get('port')\n",
    "        self.baseDataUrl = renderapi.render.format_baseurl(host, port)\n",
    "        self.owner = render_kwargs.get('owner') if owner is None else owner\n",
    "        self.project = render_kwargs.get('project') if project is None else project"
   ]
  },
  {
   "cell_type": "markdown",
   "metadata": {},
   "source": [
    "Ideally `max_level` is set such that\n",
    "\n",
    "\\begin{equation}\n",
    "\\left( \\frac{w_s}{w_t \\,\\, 2^m} \\right) < 1\n",
    "\\end{equation}\n",
    "\n",
    "where $m$ is `max_level`, $w_s$ is the width of the stack and $w_t$ is the width of each tile. Then\n",
    "\n",
    "\\begin{equation}\n",
    "m = \\textrm{ceil} \\left( \\log{\\frac{w_s}{w_t}} \\times \\frac{1}{\\log{2}} \\right)\n",
    "\\end{equation}"
   ]
  },
  {
   "cell_type": "code",
   "execution_count": 8,
   "metadata": {},
   "outputs": [
    {
     "data": {
      "text/plain": [
       "['--stack',\n",
       " 'hoechst_overlaid_correlated',\n",
       " '--rootDirectory',\n",
       " '/long_term_storage/rlane/CATMAID/projects',\n",
       " '--height',\n",
       " '1024',\n",
       " '--width',\n",
       " '1024',\n",
       " '--format',\n",
       " 'png',\n",
       " '--maxLevel',\n",
       " '8',\n",
       " '--baseDataUrl',\n",
       " 'http://sonic:8080/render-ws/v1',\n",
       " '--owner',\n",
       " 'rlane',\n",
       " '--project',\n",
       " '20190517_UMCG_RL005']"
      ]
     },
     "execution_count": 8,
     "metadata": {},
     "output_type": "execute_result"
    }
   ],
   "source": [
    "stack_data_agg['export_params'] = None\n",
    "\n",
    "i = 0\n",
    "for stack in stack_data_agg.index:\n",
    "    \n",
    "    # Determine `max_level` such that the full section is in view when you fully zoom out\n",
    "    width_tile = 1024\n",
    "    height_tile = 1024\n",
    "    stack_bounds = renderapi.stack.get_stack_bounds(stack, render=render)\n",
    "    width_stack = max(stack_bounds['maxX'] - stack_bounds['minX'],\n",
    "                      stack_bounds['maxY'] - stack_bounds['minY'])\n",
    "    max_level = int(np.ceil(np.log(width_stack/width_tile) * 1/np.log(2)))\n",
    "    \n",
    "    # Set parameters for CATMAID export\n",
    "    export_params = CatmaidBoxesParameters(stack=f'{stack}',\n",
    "                                           root_directory=export_dir.parent.as_posix(),\n",
    "                                           width=width_tile,\n",
    "                                           height=height_tile,\n",
    "                                           max_level=max_level,\n",
    "                                           project=f'{project}',\n",
    "                                           render=render)\n",
    "    # Add to stack DataFrame\n",
    "    stack_data_agg.loc[stack, 'export_params'] = export_params\n",
    "    \n",
    "# Preview export parameters\n",
    "list(stack_data_agg.sample(1)['export_params'].values[0].to_java_args())"
   ]
  },
  {
   "cell_type": "markdown",
   "metadata": {},
   "source": [
    "### Call render script\n",
    "`render_catmaid_boxes.sh`\n",
    "```sh\n",
    "Usage: java -cp <render-module>-standalone.jar\n",
    "      org.janelia.render.client.BoxClient [options] Z values for layers to\n",
    "      render\n",
    "  Options:\n",
    "  * --baseDataUrl\n",
    "      Base web service URL for data (e.g. http://host[:port]/render-ws/v1)\n",
    "    --binaryMask\n",
    "      use binary mask (e.g. for DMG data)\n",
    "      Default: false\n",
    "    --createIGrid\n",
    "      create an IGrid file\n",
    "      Default: false\n",
    "    --doFilter\n",
    "      Use ad hoc filter to support alignment\n",
    "      Default: false\n",
    "    --filterListName\n",
    "      Apply this filter list to all rendering (overrides doFilter option)\n",
    "    --forceGeneration\n",
    "      Regenerate boxes even if they already exist\n",
    "      Default: false\n",
    "    --format\n",
    "      Format for rendered boxes\n",
    "      Default: png\n",
    "  * --height\n",
    "      Height of each box\n",
    "    --help\n",
    "      Display this note\n",
    "    --label\n",
    "      Generate single color tile labels instead of actual tile images\n",
    "      Default: false\n",
    "    --maxLevel\n",
    "      Maximum mipmap level to generate\n",
    "      Default: 0\n",
    "    --maxOverviewWidthAndHeight\n",
    "      Max width and height of layer overview image (omit or set to zero to\n",
    "      disable overview generation)\n",
    "    --numberOfRenderGroups\n",
    "      Total number of parallel jobs being used to render this layer (omit if\n",
    "      only one job is being used)\n",
    "  * --owner\n",
    "      Stack owner\n",
    "  * --project\n",
    "      Stack project\n",
    "    --renderGroup\n",
    "      Index (1-n) that identifies portion of layer to render (omit if only one\n",
    "      job is being used)\n",
    "  * --rootDirectory\n",
    "      Root directory for rendered tiles (e.g.\n",
    "      /tier2/flyTEM/nobackup/rendered_boxes)\n",
    "    --skipInterpolation\n",
    "      skip interpolation (e.g. for DMG data)\n",
    "      Default: false\n",
    "  * --stack\n",
    "      Stack name\n",
    "  * --width\n",
    "      Width of each box\n",
    "```"
   ]
  },
  {
   "cell_type": "code",
   "execution_count": 9,
   "metadata": {},
   "outputs": [],
   "source": [
    "def run_render_catmaid_boxes(z, path_to_script, java_args):\n",
    "    \"\"\"Wrapper for `render_catmaid_boxes` script to enable multiprocessing\"\"\"\n",
    "    p = subprocess.run([path_to_script.as_posix(), f'{z:.0f}'] + java_args)"
   ]
  },
  {
   "cell_type": "code",
   "execution_count": 10,
   "metadata": {},
   "outputs": [
    {
     "data": {
      "application/vnd.jupyter.widget-view+json": {
       "model_id": "62ed77feaedc49ffa96b3afbef5472db",
       "version_major": 2,
       "version_minor": 0
      },
      "text/plain": [
       "HBox(children=(IntProgress(value=0, max=2), HTML(value='')))"
      ]
     },
     "metadata": {},
     "output_type": "display_data"
    },
    {
     "name": "stdout",
     "output_type": "stream",
     "text": [
      "\n"
     ]
    }
   ],
   "source": [
    "# Path to `render_catmaid_boxes` shell script\n",
    "sh = Path(render_connect_params['client_scripts']) / 'render_catmaid_boxes.sh'\n",
    "# Set number of cores for multiprocessing\n",
    "N_cores = 5\n",
    "\n",
    "for stack in tqdm_notebook(stack_data_agg.index):\n",
    "\n",
    "    # Set export parameters\n",
    "    export_params = stack_data_agg.loc[stack, 'export_params']\n",
    "    java_args = list(export_params.to_java_args())\n",
    "\n",
    "    # Get z values for particular stack\n",
    "    z_values = renderapi.stack.get_z_values_for_stack(stack, \n",
    "                                                      render=render)\n",
    "\n",
    "    # Set up `render_catmaid_boxes` client\n",
    "    render_catmaid_boxes_partial = partial(run_render_catmaid_boxes,\n",
    "                                           path_to_script=sh,\n",
    "                                           java_args=java_args)\n",
    "\n",
    "    # Run `render_catmaid_boxes` across `N_cores`\n",
    "    with renderapi.client.WithPool(N_cores) as pool:\n",
    "        pool.map(render_catmaid_boxes_partial, z_values)"
   ]
  },
  {
   "cell_type": "markdown",
   "metadata": {},
   "source": [
    "### Resort CATMAID tiles\n",
    "By (unchangeable) default, `render_catmaid_boxes` exports tiles as\n",
    "\n",
    "    `root directory` / `project` / `stack` / `width`x`height` / `zoom level` / `z` / `row` / `col`.`ext`\n",
    "\n",
    "This is ok, but preferred format for importing to CATMAID is [tile source convention 1](https://catmaid.readthedocs.io/en/stable/tile_sources.html#tile-source-types) --- \"[File-based image stack](https://catmaid.readthedocs.io/en/stable/tile_sources.html#file-based-image-stack)\"\n",
    "\n",
    "    `root directory` / `project` / `stack` / `z` / `row`_`col`_`zoom level`.`ext`"
   ]
  },
  {
   "cell_type": "code",
   "execution_count": 11,
   "metadata": {},
   "outputs": [
    {
     "data": {
      "application/vnd.jupyter.widget-view+json": {
       "model_id": "b5e4372281f348f3af80a9c2e10729cd",
       "version_major": 2,
       "version_minor": 0
      },
      "text/plain": [
       "HBox(children=(IntProgress(value=0, max=2), HTML(value='')))"
      ]
     },
     "metadata": {},
     "output_type": "display_data"
    },
    {
     "name": "stdout",
     "output_type": "stream",
     "text": [
      "\n"
     ]
    }
   ],
   "source": [
    "stack_dirs = [f for f in export_dir.glob('*/') if f.is_dir()]\n",
    "for stack_dir in tqdm_notebook(stack_dirs):\n",
    "    \n",
    "    stack = stack_dir.name\n",
    "    tile_fns = stack_dir.glob('1024x1024/**/[0-9]*.png')\n",
    "    \n",
    "    for tile_fn in tile_fns:\n",
    "        \n",
    "        # Extract info from filename\n",
    "        zoom_level = int(tile_fn.parent.parent.parent.name)\n",
    "        z = int(tile_fn.parent.parent.name)\n",
    "        row = int(tile_fn.parent.name)\n",
    "        col = int(tile_fn.stem)\n",
    "        ext = tile_fn.suffix\n",
    "        \n",
    "        # Reformat tile\n",
    "        tile_format_1 = stack_dir / f'{z}/{row}_{col}_{zoom_level}{ext}'\n",
    "        \n",
    "        # Rename tile with new format\n",
    "        tile_format_1.parent.mkdir(parents=True, exist_ok=True)\n",
    "        tile_fn.rename(tile_format_1)\n",
    "        \n",
    "    # Clean up (now empty) directory tree\n",
    "    rmtree((stack_dir / '1024x1024').as_posix())"
   ]
  },
  {
   "cell_type": "markdown",
   "metadata": {},
   "source": [
    "### Make thumbnails"
   ]
  },
  {
   "cell_type": "code",
   "execution_count": 12,
   "metadata": {},
   "outputs": [
    {
     "data": {
      "application/vnd.jupyter.widget-view+json": {
       "model_id": "0a7be74169024e14b73a992b8d3a2d97",
       "version_major": 2,
       "version_minor": 0
      },
      "text/plain": [
       "HBox(children=(IntProgress(value=0, max=2), HTML(value='')))"
      ]
     },
     "metadata": {},
     "output_type": "display_data"
    },
    {
     "name": "stdout",
     "output_type": "stream",
     "text": [
      "\n"
     ]
    }
   ],
   "source": [
    "stack_dirs = [fp for fp in export_dir.glob('*/') if fp.is_dir()]\n",
    "for stack_dir in tqdm_notebook(stack_dirs):\n",
    "\n",
    "    # Get stack and z value\n",
    "    stack = stack_dir.name\n",
    "    z = int(next(stack_dir.iterdir()).name)\n",
    "    # Set proper scale for section image\n",
    "    bounds = renderapi.stack.get_bounds_from_z(stack=stack, z=z, render=render)\n",
    "    width = bounds['maxX'] - bounds['minX']\n",
    "    scale = 128 / width\n",
    "    # Render section image\n",
    "    thumb = renderapi.image.get_section_image(stack=stack,\n",
    "                                              z=z,\n",
    "                                              scale=scale,\n",
    "                                              render=render)\n",
    "\n",
    "    # Copy thumbnail to each section directory\n",
    "    for section_dir in stack_dir.glob('*/'):\n",
    "        fp = section_dir / 'small.png'\n",
    "        imsave(fp, thumb)"
   ]
  },
  {
   "cell_type": "markdown",
   "metadata": {},
   "source": [
    "## Create project yaml file\n",
    "---"
   ]
  },
  {
   "cell_type": "code",
   "execution_count": 13,
   "metadata": {},
   "outputs": [],
   "source": [
    "# Set project yaml file\n",
    "project_yaml = export_dir / 'project.yaml'\n",
    "\n",
    "stack_data = []\n",
    "for stack_dir in stack_dirs:\n",
    "    stack = stack_dir.name\n",
    "\n",
    "    # Get dimension data\n",
    "    bounds = renderapi.stack.get_stack_bounds(stack, render=render)\n",
    "    dimension = (int(bounds['maxX'] - bounds['minX'] + 1),\n",
    "                 int(bounds['maxY'] - bounds['minY'] + 1),\n",
    "                 int(bounds['maxZ'] - bounds['minZ'] + 1))\n",
    "\n",
    "    # Get resolution data\n",
    "    res_data = renderapi.stack.get_full_stack_metadata(stack, render=render)['currentVersion']\n",
    "    resolution = (np.round(res_data['stackResolutionX'], 3),\n",
    "                  np.round(res_data['stackResolutionY'], 3),\n",
    "                  np.round(res_data['stackResolutionZ'], 3))\n",
    "    \n",
    "    # Project data for output to project yaml file\n",
    "    stack_datum = {\n",
    "        \"title\": f\"{stack}\",\n",
    "        \"dimension\": f\"{dimension}\",\n",
    "        \"resolution\": f\"{resolution}\",\n",
    "        \"zoomlevels\": 7,\n",
    "        \"mirrors\": [{\n",
    "            \"title\": \"Great title\",\n",
    "            \"tile_width\": 1024,\n",
    "            \"tile_height\": 1024,\n",
    "            \"tile_source_type\": 1,\n",
    "            \"fileextension\": \"png\",\n",
    "            \"url\": f\"http://sonic{(export_dir/stack).as_posix()}\"\n",
    "        }]\n",
    "    }\n",
    "    \n",
    "    stack_data.append(stack_datum)\n",
    "\n",
    "# Aggregate stack data into project for output to project yaml file\n",
    "project_data = {\n",
    "    \"project\": {\n",
    "        \"title\": f\"{project}\",\n",
    "        \"stacks\": stack_data\n",
    "    }\n",
    "}"
   ]
  },
  {
   "cell_type": "code",
   "execution_count": 14,
   "metadata": {},
   "outputs": [
    {
     "name": "stdout",
     "output_type": "stream",
     "text": [
      "project:\n",
      "  title: 20190517_UMCG_RL005\n",
      "  stacks:\n",
      "  - title: hoechst_overlaid_correlated\n",
      "    dimension: (171078, 172300, 1)\n",
      "    resolution: (1.0, 1.0, 1.0)\n",
      "    zoomlevels: 7\n",
      "    mirrors:\n",
      "    - title: Great title\n",
      "      tile_width: 1024\n",
      "      tile_height: 1024\n",
      "      tile_source_type: 1\n",
      "      fileextension: png\n",
      "      url: http://sonic/long_term_storage/rlane/CATMAID/projects/20190517_UMCG_RL005/hoechst_overlaid_correlated\n",
      "  - title: lil_EM_montaged\n",
      "    dimension: (134316, 123126, 1)\n",
      "    resolution: (1.0, 1.0, 1.0)\n",
      "    zoomlevels: 7\n",
      "    mirrors:\n",
      "    - title: Great title\n",
      "      tile_width: 1024\n",
      "      tile_height: 1024\n",
      "      tile_source_type: 1\n",
      "      fileextension: png\n",
      "      url: http://sonic/long_term_storage/rlane/CATMAID/projects/20190517_UMCG_RL005/lil_EM_montaged\n"
     ]
    }
   ],
   "source": [
    "yaml = YAML()\n",
    "yaml.indent(mapping=2, offset=0)\n",
    "yaml.dump(project_data, project_yaml)\n",
    "yaml.dump(project_data, sys.stdout)"
   ]
  }
 ],
 "metadata": {
  "kernelspec": {
   "display_name": "Python 3",
   "language": "python",
   "name": "python3"
  },
  "language_info": {
   "codemirror_mode": {
    "name": "ipython",
    "version": 3
   },
   "file_extension": ".py",
   "mimetype": "text/x-python",
   "name": "python",
   "nbconvert_exporter": "python",
   "pygments_lexer": "ipython3",
   "version": "3.7.4"
  }
 },
 "nbformat": 4,
 "nbformat_minor": 4
}
