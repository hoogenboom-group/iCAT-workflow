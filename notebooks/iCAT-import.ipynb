{
 "cells": [
  {
   "cell_type": "markdown",
   "metadata": {},
   "source": [
    "# iCAT import\n",
    "---\n",
    "\n",
    "### Conventions\n",
    "\n",
    "#### Nomenclature\n",
    "`stack`\n",
    "`layer`\n",
    "`tileset`\n",
    "\n",
    "#### Heirarchy\n",
    "`stack` | `z` | `section`\n",
    "\n",
    "#### [TileSpec](https://github.com/fcollman/render-python/blob/master/renderapi/tilespec.py#L17) parameters\n",
    "\n",
    "| Field    | Type     | Default | Description                                |\n",
    "| -----    | ----     | ------- | -----------                                |\n",
    "| tileId   | str      | None    | Unique string specifying a tile's identity |\n",
    "| z        | float    | None    | z values this tile exists within           |\n",
    "| width    | int      | None    | Width in pixels of the raw tile            |\n",
    "| height   | int      | None    | Height in pixels of the raw tile           |\n",
    "| imageUrl | str      | None    | An image path URI                          |\n",
    "| maskUrl  | str      | None    | An image path for an alpha mask            |\n",
    "| minint   | int      | 0       | Pixel intensity value to display as black  |\n",
    "| maxint   | int      | 65535   | Pixel intensity value to display as white  |\n",
    "| layout   | `Layout` | None    | a `Layout` object for this tile            |\n",
    "| tforms   | list     | [ ]     | Transform objects                          |\n",
    "\n",
    "#### [Layout](https://github.com/fcollman/render-python/blob/master/renderapi/layout.py#L1) parameters\n",
    "\n",
    "| Field     | Type  | Default | Description                                  |\n",
    "| -----     | ----  | ------- | -----------                                  |\n",
    "| sectionId | str   | None    | sectionId this tile was taken from           |\n",
    "| scopeId   | str   | None    | What microscope this came from               |\n",
    "| cameraId  | str   | None    | Camera this was taken with                   |\n",
    "| imageRow  | int   | None    | Row from a row,col layout this was taken     |\n",
    "| imageCol  | int   | None    | Column from a row,col layout this was taken  |\n",
    "| stageX    | float | None    | X stage coordinates for where this was taken |\n",
    "| stageY    | float | None    | Y stage coordinates for where this was taken |\n",
    "| rotation  | float | None    | Angle of camera when this was taken          |\n",
    "| pixelsize | float | None    | Effective size of pixels                     |\n",
    "\n",
    "So the game plan will be to build up layouts and tile specifications from metadata and apriori knowledge we have our of our image data. Then we will import the tile specifications into `render-ws` using the appropriate `render-python` method."
   ]
  },
  {
   "cell_type": "code",
   "execution_count": 232,
   "metadata": {},
   "outputs": [],
   "source": [
    "from pathlib import Path\n",
    "from itertools import product\n",
    "from pprint import pprint\n",
    "\n",
    "from tqdm import tqdm_notebook\n",
    "from bs4 import BeautifulSoup as Soup\n",
    "import numpy as np\n",
    "import pandas as pd\n",
    "import seaborn as sns\n",
    "import altair as alt\n",
    "\n",
    "from shapely.geometry import box\n",
    "import matplotlib.pyplot as plt\n",
    "from matplotlib.patches import Polygon\n",
    "import matplotlib.ticker as mticker\n",
    "\n",
    "from skimage.external.tifffile import TiffFile, imread\n",
    "from skimage.exposure import histogram\n",
    "\n",
    "import renderapi\n",
    "from renderapi.tilespec import TileSpec\n",
    "from renderapi.layout import Layout\n",
    "from renderapi.transform import AffineModel as AffineRender\n",
    "\n",
    "from icatapi.importo import parse_metadata"
   ]
  },
  {
   "cell_type": "markdown",
   "metadata": {},
   "source": [
    "## Set up environment\n",
    "---"
   ]
  },
  {
   "cell_type": "code",
   "execution_count": 250,
   "metadata": {},
   "outputs": [
    {
     "name": "stdout",
     "output_type": "stream",
     "text": [
      "sections..... ['S001', 'S002', 'S003', 'S004', 'S005', 'S006', 'S007', 'S008', 'S009']\n",
      "all stacks... ['big_EM', 'hoechst', 'insulin', 'lil_EM']\n",
      "EM stacks.... ['big_EM', 'lil_EM']\n",
      "FM stacks.... ['hoechst', 'insulin']\n",
      "\n"
     ]
    }
   ],
   "source": [
    "# `render` project parameters\n",
    "# ---------------------------\n",
    "owner = 'rlane'  # replace with your name\n",
    "project = '20191230_RL010'\n",
    "\n",
    "# Data directories\n",
    "# ----------------\n",
    "project_dir = Path(f'/long_term_storage/{owner}/SECOM/projects/20191101_RL010')\n",
    "stack_dirs = list(project_dir.glob('[!_]*/[!_]*'))\n",
    "\n",
    "# Additional parameters\n",
    "# ---------------------\n",
    "section_thickness = 100  # nm\n",
    "\n",
    "# Infer section and stack names\n",
    "# -----------------------------\n",
    "sections = np.unique([fp.parent.name for fp in stack_dirs]).tolist()\n",
    "stacks = np.unique([fp.name for fp in stack_dirs]).tolist()\n",
    "stacks_EM = [stack for stack in stacks if 'EM' in stack]\n",
    "stacks_FM = [stack for stack in stacks if 'EM' not in stack]\n",
    "\n",
    "out = f\"\"\"\\\n",
    "sections..... {sections}\n",
    "all stacks... {stacks}\n",
    "EM stacks.... {stacks_EM}\n",
    "FM stacks.... {stacks_FM}\n",
    "\"\"\"\n",
    "print(out)"
   ]
  },
  {
   "cell_type": "markdown",
   "metadata": {},
   "source": [
    "### Create `render-ws` instance"
   ]
  },
  {
   "cell_type": "code",
   "execution_count": 251,
   "metadata": {},
   "outputs": [
    {
     "name": "stdout",
     "output_type": "stream",
     "text": [
      "{'client_script': '/home/catmaid/render/render-ws-java-client/src/main/scripts/run_ws_client.sh',\n",
      " 'client_scripts': '/home/catmaid/render/render-ws-java-client/src/main/scripts',\n",
      " 'host': 'http://sonic',\n",
      " 'memGB': '2G',\n",
      " 'owner': 'rlane',\n",
      " 'port': 8080,\n",
      " 'project': '20191230_RL010'}\n"
     ]
    }
   ],
   "source": [
    "# Create a renderapi.connect.Render object\n",
    "# ----------------------------------------\n",
    "render_connect_params = {\n",
    "    'host': 'sonic',\n",
    "    'port': 8080,\n",
    "    'owner': owner,\n",
    "    'project': project,\n",
    "    'client_scripts': '/home/catmaid/render/render-ws-java-client/src/main/scripts',\n",
    "    'memGB': '2G'\n",
    "}\n",
    "render = renderapi.connect(**render_connect_params)\n",
    "pprint(render.make_kwargs())"
   ]
  },
  {
   "cell_type": "markdown",
   "metadata": {},
   "source": [
    "## Build up image tile DataFrame\n",
    "---"
   ]
  },
  {
   "cell_type": "code",
   "execution_count": 14,
   "metadata": {},
   "outputs": [
    {
     "data": {
      "application/vnd.jupyter.widget-view+json": {
       "model_id": "8b175bffcaf948219b84c63519ebae8f",
       "version_major": 2,
       "version_minor": 0
      },
      "text/plain": [
       "HBox(children=(IntProgress(value=0, max=36), HTML(value='')))"
      ]
     },
     "metadata": {},
     "output_type": "display_data"
    },
    {
     "name": "stdout",
     "output_type": "stream",
     "text": [
      "\n"
     ]
    },
    {
     "data": {
      "text/html": [
       "<div>\n",
       "<style scoped>\n",
       "    .dataframe tbody tr th:only-of-type {\n",
       "        vertical-align: middle;\n",
       "    }\n",
       "\n",
       "    .dataframe tbody tr th {\n",
       "        vertical-align: top;\n",
       "    }\n",
       "\n",
       "    .dataframe thead th {\n",
       "        text-align: right;\n",
       "    }\n",
       "</style>\n",
       "<table border=\"1\" class=\"dataframe\">\n",
       "  <thead>\n",
       "    <tr style=\"text-align: right;\">\n",
       "      <th></th>\n",
       "      <th></th>\n",
       "      <th>z</th>\n",
       "      <th>section</th>\n",
       "      <th>imageRow</th>\n",
       "      <th>imageCol</th>\n",
       "      <th>stageX</th>\n",
       "      <th>stageY</th>\n",
       "      <th>width</th>\n",
       "      <th>height</th>\n",
       "      <th>pixelsize</th>\n",
       "      <th>tileId</th>\n",
       "      <th>acqTime</th>\n",
       "    </tr>\n",
       "    <tr>\n",
       "      <th>stack</th>\n",
       "      <th></th>\n",
       "      <th></th>\n",
       "      <th></th>\n",
       "      <th></th>\n",
       "      <th></th>\n",
       "      <th></th>\n",
       "      <th></th>\n",
       "      <th></th>\n",
       "      <th></th>\n",
       "      <th></th>\n",
       "      <th></th>\n",
       "      <th></th>\n",
       "    </tr>\n",
       "  </thead>\n",
       "  <tbody>\n",
       "    <tr>\n",
       "      <td rowspan=\"3\" valign=\"top\">big_EM</td>\n",
       "      <td>1093</td>\n",
       "      <td>4</td>\n",
       "      <td>S004</td>\n",
       "      <td>1</td>\n",
       "      <td>0</td>\n",
       "      <td>830.656000</td>\n",
       "      <td>6371.012000</td>\n",
       "      <td>4096</td>\n",
       "      <td>4096</td>\n",
       "      <td>33.566317</td>\n",
       "      <td>big_EM-S004-00000x00001</td>\n",
       "      <td>2019-11-02 15:50:28</td>\n",
       "    </tr>\n",
       "    <tr>\n",
       "      <td>1100</td>\n",
       "      <td>4</td>\n",
       "      <td>S004</td>\n",
       "      <td>0</td>\n",
       "      <td>2</td>\n",
       "      <td>1211.580000</td>\n",
       "      <td>6565.542000</td>\n",
       "      <td>4096</td>\n",
       "      <td>4096</td>\n",
       "      <td>33.566317</td>\n",
       "      <td>big_EM-S004-00002x00000</td>\n",
       "      <td>2019-11-02 15:44:58</td>\n",
       "    </tr>\n",
       "    <tr>\n",
       "      <td>740</td>\n",
       "      <td>3</td>\n",
       "      <td>S003</td>\n",
       "      <td>0</td>\n",
       "      <td>1</td>\n",
       "      <td>416.041000</td>\n",
       "      <td>6535.337000</td>\n",
       "      <td>4096</td>\n",
       "      <td>4096</td>\n",
       "      <td>33.566317</td>\n",
       "      <td>big_EM-S003-00001x00000</td>\n",
       "      <td>2019-11-02 15:03:00</td>\n",
       "    </tr>\n",
       "    <tr>\n",
       "      <td rowspan=\"3\" valign=\"top\">hoechst</td>\n",
       "      <td>358</td>\n",
       "      <td>2</td>\n",
       "      <td>S002</td>\n",
       "      <td>2</td>\n",
       "      <td>0</td>\n",
       "      <td>-361.221398</td>\n",
       "      <td>6120.696586</td>\n",
       "      <td>2048</td>\n",
       "      <td>2048</td>\n",
       "      <td>106.372739</td>\n",
       "      <td>hoechst-S002-00000x00002</td>\n",
       "      <td>2019-11-02 14:41:34</td>\n",
       "    </tr>\n",
       "    <tr>\n",
       "      <td>2857</td>\n",
       "      <td>9</td>\n",
       "      <td>S009</td>\n",
       "      <td>2</td>\n",
       "      <td>2</td>\n",
       "      <td>4213.045879</td>\n",
       "      <td>6166.919407</td>\n",
       "      <td>2048</td>\n",
       "      <td>2048</td>\n",
       "      <td>106.541082</td>\n",
       "      <td>hoechst-S009-00002x00002</td>\n",
       "      <td>2019-11-02 18:40:27</td>\n",
       "    </tr>\n",
       "    <tr>\n",
       "      <td>713</td>\n",
       "      <td>3</td>\n",
       "      <td>S003</td>\n",
       "      <td>1</td>\n",
       "      <td>0</td>\n",
       "      <td>229.148156</td>\n",
       "      <td>6340.945910</td>\n",
       "      <td>2048</td>\n",
       "      <td>2048</td>\n",
       "      <td>106.398678</td>\n",
       "      <td>hoechst-S003-00000x00001</td>\n",
       "      <td>2019-11-02 15:10:12</td>\n",
       "    </tr>\n",
       "    <tr>\n",
       "      <td rowspan=\"3\" valign=\"top\">insulin</td>\n",
       "      <td>23</td>\n",
       "      <td>1</td>\n",
       "      <td>S001</td>\n",
       "      <td>3</td>\n",
       "      <td>2</td>\n",
       "      <td>-570.443158</td>\n",
       "      <td>5905.827960</td>\n",
       "      <td>2048</td>\n",
       "      <td>2048</td>\n",
       "      <td>106.321854</td>\n",
       "      <td>insulin-S001-00002x00003</td>\n",
       "      <td>2019-11-02 14:00:47</td>\n",
       "    </tr>\n",
       "    <tr>\n",
       "      <td>2148</td>\n",
       "      <td>7</td>\n",
       "      <td>S007</td>\n",
       "      <td>1</td>\n",
       "      <td>0</td>\n",
       "      <td>2641.440178</td>\n",
       "      <td>6381.014980</td>\n",
       "      <td>2048</td>\n",
       "      <td>2048</td>\n",
       "      <td>106.477481</td>\n",
       "      <td>insulin-S007-00000x00001</td>\n",
       "      <td>2019-11-02 17:38:04</td>\n",
       "    </tr>\n",
       "    <tr>\n",
       "      <td>727</td>\n",
       "      <td>3</td>\n",
       "      <td>S003</td>\n",
       "      <td>3</td>\n",
       "      <td>0</td>\n",
       "      <td>229.834946</td>\n",
       "      <td>5951.200950</td>\n",
       "      <td>2048</td>\n",
       "      <td>2048</td>\n",
       "      <td>106.386818</td>\n",
       "      <td>insulin-S003-00000x00003</td>\n",
       "      <td>2019-11-02 15:21:16</td>\n",
       "    </tr>\n",
       "    <tr>\n",
       "      <td rowspan=\"3\" valign=\"top\">lil_EM</td>\n",
       "      <td>305</td>\n",
       "      <td>1</td>\n",
       "      <td>S001</td>\n",
       "      <td>9</td>\n",
       "      <td>13</td>\n",
       "      <td>-581.136000</td>\n",
       "      <td>6224.806000</td>\n",
       "      <td>4096</td>\n",
       "      <td>4096</td>\n",
       "      <td>4.859737</td>\n",
       "      <td>lil_EM-S001-00013x00009</td>\n",
       "      <td>2019-11-02 22:23:00</td>\n",
       "    </tr>\n",
       "    <tr>\n",
       "      <td>2908</td>\n",
       "      <td>9</td>\n",
       "      <td>S009</td>\n",
       "      <td>5</td>\n",
       "      <td>1</td>\n",
       "      <td>3975.811000</td>\n",
       "      <td>6318.003000</td>\n",
       "      <td>4096</td>\n",
       "      <td>4096</td>\n",
       "      <td>4.859506</td>\n",
       "      <td>lil_EM-S009-00001x00005</td>\n",
       "      <td>2019-11-05 19:02:10</td>\n",
       "    </tr>\n",
       "    <tr>\n",
       "      <td>2841</td>\n",
       "      <td>8</td>\n",
       "      <td>S008</td>\n",
       "      <td>14</td>\n",
       "      <td>15</td>\n",
       "      <td>3641.245000</td>\n",
       "      <td>6179.843000</td>\n",
       "      <td>4096</td>\n",
       "      <td>4096</td>\n",
       "      <td>4.859506</td>\n",
       "      <td>lil_EM-S008-00015x00014</td>\n",
       "      <td>2019-11-05 15:17:42</td>\n",
       "    </tr>\n",
       "  </tbody>\n",
       "</table>\n",
       "</div>"
      ],
      "text/plain": [
       "              z section  imageRow  imageCol       stageX       stageY  width  \\\n",
       "stack                                                                          \n",
       "big_EM  1093  4    S004         1         0   830.656000  6371.012000   4096   \n",
       "        1100  4    S004         0         2  1211.580000  6565.542000   4096   \n",
       "        740   3    S003         0         1   416.041000  6535.337000   4096   \n",
       "hoechst 358   2    S002         2         0  -361.221398  6120.696586   2048   \n",
       "        2857  9    S009         2         2  4213.045879  6166.919407   2048   \n",
       "        713   3    S003         1         0   229.148156  6340.945910   2048   \n",
       "insulin 23    1    S001         3         2  -570.443158  5905.827960   2048   \n",
       "        2148  7    S007         1         0  2641.440178  6381.014980   2048   \n",
       "        727   3    S003         3         0   229.834946  5951.200950   2048   \n",
       "lil_EM  305   1    S001         9        13  -581.136000  6224.806000   4096   \n",
       "        2908  9    S009         5         1  3975.811000  6318.003000   4096   \n",
       "        2841  8    S008        14        15  3641.245000  6179.843000   4096   \n",
       "\n",
       "              height   pixelsize                    tileId             acqTime  \n",
       "stack                                                                           \n",
       "big_EM  1093    4096   33.566317   big_EM-S004-00000x00001 2019-11-02 15:50:28  \n",
       "        1100    4096   33.566317   big_EM-S004-00002x00000 2019-11-02 15:44:58  \n",
       "        740     4096   33.566317   big_EM-S003-00001x00000 2019-11-02 15:03:00  \n",
       "hoechst 358     2048  106.372739  hoechst-S002-00000x00002 2019-11-02 14:41:34  \n",
       "        2857    2048  106.541082  hoechst-S009-00002x00002 2019-11-02 18:40:27  \n",
       "        713     2048  106.398678  hoechst-S003-00000x00001 2019-11-02 15:10:12  \n",
       "insulin 23      2048  106.321854  insulin-S001-00002x00003 2019-11-02 14:00:47  \n",
       "        2148    2048  106.477481  insulin-S007-00000x00001 2019-11-02 17:38:04  \n",
       "        727     2048  106.386818  insulin-S003-00000x00003 2019-11-02 15:21:16  \n",
       "lil_EM  305     4096    4.859737   lil_EM-S001-00013x00009 2019-11-02 22:23:00  \n",
       "        2908    4096    4.859506   lil_EM-S009-00001x00005 2019-11-05 19:02:10  \n",
       "        2841    4096    4.859506   lil_EM-S008-00015x00014 2019-11-05 15:17:42  "
      ]
     },
     "execution_count": 14,
     "metadata": {},
     "output_type": "execute_result"
    }
   ],
   "source": [
    "# Initialize DataFrame\n",
    "tile_dicts = []\n",
    "\n",
    "# Iterate through stack directories\n",
    "for fp_stack in tqdm_notebook(stack_dirs):\n",
    "\n",
    "    # Set stack and section\n",
    "    stack = fp_stack.name\n",
    "    section = fp_stack.parent.name\n",
    "\n",
    "    # Iterate through tile data\n",
    "    fps_tiles = list(fp_stack.glob('*.tif'))\n",
    "    for i, fp_tile in enumerate(fps_tiles):\n",
    "\n",
    "        # Parse metadata\n",
    "        tile_dict = parse_metadata(fp_tile, section)\n",
    "        tile_dict['stack'] = stack\n",
    "        tile_dict['section'] = section\n",
    "        tile_dicts.append(tile_dict)\n",
    "\n",
    "# Build DataFrame\n",
    "df_tiles = pd.DataFrame(tile_dicts)\n",
    "# Preview\n",
    "cols_preview = ['z', 'section', 'imageRow', 'imageCol',\n",
    "                'stageX', 'stageY', 'width', 'height',\n",
    "                'pixelsize', 'tileId', 'acqTime']\n",
    "df_tiles.groupby(['stack'])\\\n",
    "        .apply(lambda x: x.sample(3))[cols_preview]"
   ]
  },
  {
   "cell_type": "markdown",
   "metadata": {},
   "source": [
    "### Image tile count"
   ]
  },
  {
   "cell_type": "code",
   "execution_count": 15,
   "metadata": {},
   "outputs": [
    {
     "data": {
      "application/vnd.vegalite.v3+json": {
       "$schema": "https://vega.github.io/schema/vega-lite/v3.4.0.json",
       "config": {
        "mark": {
         "tooltip": null
        },
        "view": {
         "height": 300,
         "width": 400
        }
       },
       "data": {
        "name": "data-b8cc7e8cb83945ff2dc175ed00a45965"
       },
       "datasets": {
        "data-b8cc7e8cb83945ff2dc175ed00a45965": [
         {
          "section": "S001",
          "stack": "hoechst",
          "z": 1
         },
         {
          "section": "S001",
          "stack": "hoechst",
          "z": 1
         },
         {
          "section": "S001",
          "stack": "hoechst",
          "z": 1
         },
         {
          "section": "S001",
          "stack": "hoechst",
          "z": 1
         },
         {
          "section": "S001",
          "stack": "hoechst",
          "z": 1
         },
         {
          "section": "S001",
          "stack": "hoechst",
          "z": 1
         },
         {
          "section": "S001",
          "stack": "hoechst",
          "z": 1
         },
         {
          "section": "S001",
          "stack": "hoechst",
          "z": 1
         },
         {
          "section": "S001",
          "stack": "hoechst",
          "z": 1
         },
         {
          "section": "S001",
          "stack": "hoechst",
          "z": 1
         },
         {
          "section": "S001",
          "stack": "hoechst",
          "z": 1
         },
         {
          "section": "S001",
          "stack": "hoechst",
          "z": 1
         },
         {
          "section": "S001",
          "stack": "insulin",
          "z": 1
         },
         {
          "section": "S001",
          "stack": "insulin",
          "z": 1
         },
         {
          "section": "S001",
          "stack": "insulin",
          "z": 1
         },
         {
          "section": "S001",
          "stack": "insulin",
          "z": 1
         },
         {
          "section": "S001",
          "stack": "insulin",
          "z": 1
         },
         {
          "section": "S001",
          "stack": "insulin",
          "z": 1
         },
         {
          "section": "S001",
          "stack": "insulin",
          "z": 1
         },
         {
          "section": "S001",
          "stack": "insulin",
          "z": 1
         },
         {
          "section": "S001",
          "stack": "insulin",
          "z": 1
         },
         {
          "section": "S001",
          "stack": "insulin",
          "z": 1
         },
         {
          "section": "S001",
          "stack": "insulin",
          "z": 1
         },
         {
          "section": "S001",
          "stack": "insulin",
          "z": 1
         },
         {
          "section": "S001",
          "stack": "big_EM",
          "z": 1
         },
         {
          "section": "S001",
          "stack": "big_EM",
          "z": 1
         },
         {
          "section": "S001",
          "stack": "big_EM",
          "z": 1
         },
         {
          "section": "S001",
          "stack": "big_EM",
          "z": 1
         },
         {
          "section": "S001",
          "stack": "big_EM",
          "z": 1
         },
         {
          "section": "S001",
          "stack": "big_EM",
          "z": 1
         },
         {
          "section": "S001",
          "stack": "big_EM",
          "z": 1
         },
         {
          "section": "S001",
          "stack": "big_EM",
          "z": 1
         },
         {
          "section": "S001",
          "stack": "big_EM",
          "z": 1
         },
         {
          "section": "S001",
          "stack": "big_EM",
          "z": 1
         },
         {
          "section": "S001",
          "stack": "big_EM",
          "z": 1
         },
         {
          "section": "S001",
          "stack": "big_EM",
          "z": 1
         },
         {
          "section": "S001",
          "stack": "lil_EM",
          "z": 1
         },
         {
          "section": "S001",
          "stack": "lil_EM",
          "z": 1
         },
         {
          "section": "S001",
          "stack": "lil_EM",
          "z": 1
         },
         {
          "section": "S001",
          "stack": "lil_EM",
          "z": 1
         },
         {
          "section": "S001",
          "stack": "lil_EM",
          "z": 1
         },
         {
          "section": "S001",
          "stack": "lil_EM",
          "z": 1
         },
         {
          "section": "S001",
          "stack": "lil_EM",
          "z": 1
         },
         {
          "section": "S001",
          "stack": "lil_EM",
          "z": 1
         },
         {
          "section": "S001",
          "stack": "lil_EM",
          "z": 1
         },
         {
          "section": "S001",
          "stack": "lil_EM",
          "z": 1
         },
         {
          "section": "S001",
          "stack": "lil_EM",
          "z": 1
         },
         {
          "section": "S001",
          "stack": "lil_EM",
          "z": 1
         },
         {
          "section": "S001",
          "stack": "lil_EM",
          "z": 1
         },
         {
          "section": "S001",
          "stack": "lil_EM",
          "z": 1
         },
         {
          "section": "S001",
          "stack": "lil_EM",
          "z": 1
         },
         {
          "section": "S001",
          "stack": "lil_EM",
          "z": 1
         },
         {
          "section": "S001",
          "stack": "lil_EM",
          "z": 1
         },
         {
          "section": "S001",
          "stack": "lil_EM",
          "z": 1
         },
         {
          "section": "S001",
          "stack": "lil_EM",
          "z": 1
         },
         {
          "section": "S001",
          "stack": "lil_EM",
          "z": 1
         },
         {
          "section": "S001",
          "stack": "lil_EM",
          "z": 1
         },
         {
          "section": "S001",
          "stack": "lil_EM",
          "z": 1
         },
         {
          "section": "S001",
          "stack": "lil_EM",
          "z": 1
         },
         {
          "section": "S001",
          "stack": "lil_EM",
          "z": 1
         },
         {
          "section": "S001",
          "stack": "lil_EM",
          "z": 1
         },
         {
          "section": "S001",
          "stack": "lil_EM",
          "z": 1
         },
         {
          "section": "S001",
          "stack": "lil_EM",
          "z": 1
         },
         {
          "section": "S001",
          "stack": "lil_EM",
          "z": 1
         },
         {
          "section": "S001",
          "stack": "lil_EM",
          "z": 1
         },
         {
          "section": "S001",
          "stack": "lil_EM",
          "z": 1
         },
         {
          "section": "S001",
          "stack": "lil_EM",
          "z": 1
         },
         {
          "section": "S001",
          "stack": "lil_EM",
          "z": 1
         },
         {
          "section": "S001",
          "stack": "lil_EM",
          "z": 1
         },
         {
          "section": "S001",
          "stack": "lil_EM",
          "z": 1
         },
         {
          "section": "S001",
          "stack": "lil_EM",
          "z": 1
         },
         {
          "section": "S001",
          "stack": "lil_EM",
          "z": 1
         },
         {
          "section": "S001",
          "stack": "lil_EM",
          "z": 1
         },
         {
          "section": "S001",
          "stack": "lil_EM",
          "z": 1
         },
         {
          "section": "S001",
          "stack": "lil_EM",
          "z": 1
         },
         {
          "section": "S001",
          "stack": "lil_EM",
          "z": 1
         },
         {
          "section": "S001",
          "stack": "lil_EM",
          "z": 1
         },
         {
          "section": "S001",
          "stack": "lil_EM",
          "z": 1
         },
         {
          "section": "S001",
          "stack": "lil_EM",
          "z": 1
         },
         {
          "section": "S001",
          "stack": "lil_EM",
          "z": 1
         },
         {
          "section": "S001",
          "stack": "lil_EM",
          "z": 1
         },
         {
          "section": "S001",
          "stack": "lil_EM",
          "z": 1
         },
         {
          "section": "S001",
          "stack": "lil_EM",
          "z": 1
         },
         {
          "section": "S001",
          "stack": "lil_EM",
          "z": 1
         },
         {
          "section": "S001",
          "stack": "lil_EM",
          "z": 1
         },
         {
          "section": "S001",
          "stack": "lil_EM",
          "z": 1
         },
         {
          "section": "S001",
          "stack": "lil_EM",
          "z": 1
         },
         {
          "section": "S001",
          "stack": "lil_EM",
          "z": 1
         },
         {
          "section": "S001",
          "stack": "lil_EM",
          "z": 1
         },
         {
          "section": "S001",
          "stack": "lil_EM",
          "z": 1
         },
         {
          "section": "S001",
          "stack": "lil_EM",
          "z": 1
         },
         {
          "section": "S001",
          "stack": "lil_EM",
          "z": 1
         },
         {
          "section": "S001",
          "stack": "lil_EM",
          "z": 1
         },
         {
          "section": "S001",
          "stack": "lil_EM",
          "z": 1
         },
         {
          "section": "S001",
          "stack": "lil_EM",
          "z": 1
         },
         {
          "section": "S001",
          "stack": "lil_EM",
          "z": 1
         },
         {
          "section": "S001",
          "stack": "lil_EM",
          "z": 1
         },
         {
          "section": "S001",
          "stack": "lil_EM",
          "z": 1
         },
         {
          "section": "S001",
          "stack": "lil_EM",
          "z": 1
         },
         {
          "section": "S001",
          "stack": "lil_EM",
          "z": 1
         },
         {
          "section": "S001",
          "stack": "lil_EM",
          "z": 1
         },
         {
          "section": "S001",
          "stack": "lil_EM",
          "z": 1
         },
         {
          "section": "S001",
          "stack": "lil_EM",
          "z": 1
         },
         {
          "section": "S001",
          "stack": "lil_EM",
          "z": 1
         },
         {
          "section": "S001",
          "stack": "lil_EM",
          "z": 1
         },
         {
          "section": "S001",
          "stack": "lil_EM",
          "z": 1
         },
         {
          "section": "S001",
          "stack": "lil_EM",
          "z": 1
         },
         {
          "section": "S001",
          "stack": "lil_EM",
          "z": 1
         },
         {
          "section": "S001",
          "stack": "lil_EM",
          "z": 1
         },
         {
          "section": "S001",
          "stack": "lil_EM",
          "z": 1
         },
         {
          "section": "S001",
          "stack": "lil_EM",
          "z": 1
         },
         {
          "section": "S001",
          "stack": "lil_EM",
          "z": 1
         },
         {
          "section": "S001",
          "stack": "lil_EM",
          "z": 1
         },
         {
          "section": "S001",
          "stack": "lil_EM",
          "z": 1
         },
         {
          "section": "S001",
          "stack": "lil_EM",
          "z": 1
         },
         {
          "section": "S001",
          "stack": "lil_EM",
          "z": 1
         },
         {
          "section": "S001",
          "stack": "lil_EM",
          "z": 1
         },
         {
          "section": "S001",
          "stack": "lil_EM",
          "z": 1
         },
         {
          "section": "S001",
          "stack": "lil_EM",
          "z": 1
         },
         {
          "section": "S001",
          "stack": "lil_EM",
          "z": 1
         },
         {
          "section": "S001",
          "stack": "lil_EM",
          "z": 1
         },
         {
          "section": "S001",
          "stack": "lil_EM",
          "z": 1
         },
         {
          "section": "S001",
          "stack": "lil_EM",
          "z": 1
         },
         {
          "section": "S001",
          "stack": "lil_EM",
          "z": 1
         },
         {
          "section": "S001",
          "stack": "lil_EM",
          "z": 1
         },
         {
          "section": "S001",
          "stack": "lil_EM",
          "z": 1
         },
         {
          "section": "S001",
          "stack": "lil_EM",
          "z": 1
         },
         {
          "section": "S001",
          "stack": "lil_EM",
          "z": 1
         },
         {
          "section": "S001",
          "stack": "lil_EM",
          "z": 1
         },
         {
          "section": "S001",
          "stack": "lil_EM",
          "z": 1
         },
         {
          "section": "S001",
          "stack": "lil_EM",
          "z": 1
         },
         {
          "section": "S001",
          "stack": "lil_EM",
          "z": 1
         },
         {
          "section": "S001",
          "stack": "lil_EM",
          "z": 1
         },
         {
          "section": "S001",
          "stack": "lil_EM",
          "z": 1
         },
         {
          "section": "S001",
          "stack": "lil_EM",
          "z": 1
         },
         {
          "section": "S001",
          "stack": "lil_EM",
          "z": 1
         },
         {
          "section": "S001",
          "stack": "lil_EM",
          "z": 1
         },
         {
          "section": "S001",
          "stack": "lil_EM",
          "z": 1
         },
         {
          "section": "S001",
          "stack": "lil_EM",
          "z": 1
         },
         {
          "section": "S001",
          "stack": "lil_EM",
          "z": 1
         },
         {
          "section": "S001",
          "stack": "lil_EM",
          "z": 1
         },
         {
          "section": "S001",
          "stack": "lil_EM",
          "z": 1
         },
         {
          "section": "S001",
          "stack": "lil_EM",
          "z": 1
         },
         {
          "section": "S001",
          "stack": "lil_EM",
          "z": 1
         },
         {
          "section": "S001",
          "stack": "lil_EM",
          "z": 1
         },
         {
          "section": "S001",
          "stack": "lil_EM",
          "z": 1
         },
         {
          "section": "S001",
          "stack": "lil_EM",
          "z": 1
         },
         {
          "section": "S001",
          "stack": "lil_EM",
          "z": 1
         },
         {
          "section": "S001",
          "stack": "lil_EM",
          "z": 1
         },
         {
          "section": "S001",
          "stack": "lil_EM",
          "z": 1
         },
         {
          "section": "S001",
          "stack": "lil_EM",
          "z": 1
         },
         {
          "section": "S001",
          "stack": "lil_EM",
          "z": 1
         },
         {
          "section": "S001",
          "stack": "lil_EM",
          "z": 1
         },
         {
          "section": "S001",
          "stack": "lil_EM",
          "z": 1
         },
         {
          "section": "S001",
          "stack": "lil_EM",
          "z": 1
         },
         {
          "section": "S001",
          "stack": "lil_EM",
          "z": 1
         },
         {
          "section": "S001",
          "stack": "lil_EM",
          "z": 1
         },
         {
          "section": "S001",
          "stack": "lil_EM",
          "z": 1
         },
         {
          "section": "S001",
          "stack": "lil_EM",
          "z": 1
         },
         {
          "section": "S001",
          "stack": "lil_EM",
          "z": 1
         },
         {
          "section": "S001",
          "stack": "lil_EM",
          "z": 1
         },
         {
          "section": "S001",
          "stack": "lil_EM",
          "z": 1
         },
         {
          "section": "S001",
          "stack": "lil_EM",
          "z": 1
         },
         {
          "section": "S001",
          "stack": "lil_EM",
          "z": 1
         },
         {
          "section": "S001",
          "stack": "lil_EM",
          "z": 1
         },
         {
          "section": "S001",
          "stack": "lil_EM",
          "z": 1
         },
         {
          "section": "S001",
          "stack": "lil_EM",
          "z": 1
         },
         {
          "section": "S001",
          "stack": "lil_EM",
          "z": 1
         },
         {
          "section": "S001",
          "stack": "lil_EM",
          "z": 1
         },
         {
          "section": "S001",
          "stack": "lil_EM",
          "z": 1
         },
         {
          "section": "S001",
          "stack": "lil_EM",
          "z": 1
         },
         {
          "section": "S001",
          "stack": "lil_EM",
          "z": 1
         },
         {
          "section": "S001",
          "stack": "lil_EM",
          "z": 1
         },
         {
          "section": "S001",
          "stack": "lil_EM",
          "z": 1
         },
         {
          "section": "S001",
          "stack": "lil_EM",
          "z": 1
         },
         {
          "section": "S001",
          "stack": "lil_EM",
          "z": 1
         },
         {
          "section": "S001",
          "stack": "lil_EM",
          "z": 1
         },
         {
          "section": "S001",
          "stack": "lil_EM",
          "z": 1
         },
         {
          "section": "S001",
          "stack": "lil_EM",
          "z": 1
         },
         {
          "section": "S001",
          "stack": "lil_EM",
          "z": 1
         },
         {
          "section": "S001",
          "stack": "lil_EM",
          "z": 1
         },
         {
          "section": "S001",
          "stack": "lil_EM",
          "z": 1
         },
         {
          "section": "S001",
          "stack": "lil_EM",
          "z": 1
         },
         {
          "section": "S001",
          "stack": "lil_EM",
          "z": 1
         },
         {
          "section": "S001",
          "stack": "lil_EM",
          "z": 1
         },
         {
          "section": "S001",
          "stack": "lil_EM",
          "z": 1
         },
         {
          "section": "S001",
          "stack": "lil_EM",
          "z": 1
         },
         {
          "section": "S001",
          "stack": "lil_EM",
          "z": 1
         },
         {
          "section": "S001",
          "stack": "lil_EM",
          "z": 1
         },
         {
          "section": "S001",
          "stack": "lil_EM",
          "z": 1
         },
         {
          "section": "S001",
          "stack": "lil_EM",
          "z": 1
         },
         {
          "section": "S001",
          "stack": "lil_EM",
          "z": 1
         },
         {
          "section": "S001",
          "stack": "lil_EM",
          "z": 1
         },
         {
          "section": "S001",
          "stack": "lil_EM",
          "z": 1
         },
         {
          "section": "S001",
          "stack": "lil_EM",
          "z": 1
         },
         {
          "section": "S001",
          "stack": "lil_EM",
          "z": 1
         },
         {
          "section": "S001",
          "stack": "lil_EM",
          "z": 1
         },
         {
          "section": "S001",
          "stack": "lil_EM",
          "z": 1
         },
         {
          "section": "S001",
          "stack": "lil_EM",
          "z": 1
         },
         {
          "section": "S001",
          "stack": "lil_EM",
          "z": 1
         },
         {
          "section": "S001",
          "stack": "lil_EM",
          "z": 1
         },
         {
          "section": "S001",
          "stack": "lil_EM",
          "z": 1
         },
         {
          "section": "S001",
          "stack": "lil_EM",
          "z": 1
         },
         {
          "section": "S001",
          "stack": "lil_EM",
          "z": 1
         },
         {
          "section": "S001",
          "stack": "lil_EM",
          "z": 1
         },
         {
          "section": "S001",
          "stack": "lil_EM",
          "z": 1
         },
         {
          "section": "S001",
          "stack": "lil_EM",
          "z": 1
         },
         {
          "section": "S001",
          "stack": "lil_EM",
          "z": 1
         },
         {
          "section": "S001",
          "stack": "lil_EM",
          "z": 1
         },
         {
          "section": "S001",
          "stack": "lil_EM",
          "z": 1
         },
         {
          "section": "S001",
          "stack": "lil_EM",
          "z": 1
         },
         {
          "section": "S001",
          "stack": "lil_EM",
          "z": 1
         },
         {
          "section": "S001",
          "stack": "lil_EM",
          "z": 1
         },
         {
          "section": "S001",
          "stack": "lil_EM",
          "z": 1
         },
         {
          "section": "S001",
          "stack": "lil_EM",
          "z": 1
         },
         {
          "section": "S001",
          "stack": "lil_EM",
          "z": 1
         },
         {
          "section": "S001",
          "stack": "lil_EM",
          "z": 1
         },
         {
          "section": "S001",
          "stack": "lil_EM",
          "z": 1
         },
         {
          "section": "S001",
          "stack": "lil_EM",
          "z": 1
         },
         {
          "section": "S001",
          "stack": "lil_EM",
          "z": 1
         },
         {
          "section": "S001",
          "stack": "lil_EM",
          "z": 1
         },
         {
          "section": "S001",
          "stack": "lil_EM",
          "z": 1
         },
         {
          "section": "S001",
          "stack": "lil_EM",
          "z": 1
         },
         {
          "section": "S001",
          "stack": "lil_EM",
          "z": 1
         },
         {
          "section": "S001",
          "stack": "lil_EM",
          "z": 1
         },
         {
          "section": "S001",
          "stack": "lil_EM",
          "z": 1
         },
         {
          "section": "S001",
          "stack": "lil_EM",
          "z": 1
         },
         {
          "section": "S001",
          "stack": "lil_EM",
          "z": 1
         },
         {
          "section": "S001",
          "stack": "lil_EM",
          "z": 1
         },
         {
          "section": "S001",
          "stack": "lil_EM",
          "z": 1
         },
         {
          "section": "S001",
          "stack": "lil_EM",
          "z": 1
         },
         {
          "section": "S001",
          "stack": "lil_EM",
          "z": 1
         },
         {
          "section": "S001",
          "stack": "lil_EM",
          "z": 1
         },
         {
          "section": "S001",
          "stack": "lil_EM",
          "z": 1
         },
         {
          "section": "S001",
          "stack": "lil_EM",
          "z": 1
         },
         {
          "section": "S001",
          "stack": "lil_EM",
          "z": 1
         },
         {
          "section": "S001",
          "stack": "lil_EM",
          "z": 1
         },
         {
          "section": "S001",
          "stack": "lil_EM",
          "z": 1
         },
         {
          "section": "S001",
          "stack": "lil_EM",
          "z": 1
         },
         {
          "section": "S001",
          "stack": "lil_EM",
          "z": 1
         },
         {
          "section": "S001",
          "stack": "lil_EM",
          "z": 1
         },
         {
          "section": "S001",
          "stack": "lil_EM",
          "z": 1
         },
         {
          "section": "S001",
          "stack": "lil_EM",
          "z": 1
         },
         {
          "section": "S001",
          "stack": "lil_EM",
          "z": 1
         },
         {
          "section": "S001",
          "stack": "lil_EM",
          "z": 1
         },
         {
          "section": "S001",
          "stack": "lil_EM",
          "z": 1
         },
         {
          "section": "S001",
          "stack": "lil_EM",
          "z": 1
         },
         {
          "section": "S001",
          "stack": "lil_EM",
          "z": 1
         },
         {
          "section": "S001",
          "stack": "lil_EM",
          "z": 1
         },
         {
          "section": "S001",
          "stack": "lil_EM",
          "z": 1
         },
         {
          "section": "S001",
          "stack": "lil_EM",
          "z": 1
         },
         {
          "section": "S001",
          "stack": "lil_EM",
          "z": 1
         },
         {
          "section": "S001",
          "stack": "lil_EM",
          "z": 1
         },
         {
          "section": "S001",
          "stack": "lil_EM",
          "z": 1
         },
         {
          "section": "S001",
          "stack": "lil_EM",
          "z": 1
         },
         {
          "section": "S001",
          "stack": "lil_EM",
          "z": 1
         },
         {
          "section": "S001",
          "stack": "lil_EM",
          "z": 1
         },
         {
          "section": "S001",
          "stack": "lil_EM",
          "z": 1
         },
         {
          "section": "S001",
          "stack": "lil_EM",
          "z": 1
         },
         {
          "section": "S001",
          "stack": "lil_EM",
          "z": 1
         },
         {
          "section": "S001",
          "stack": "lil_EM",
          "z": 1
         },
         {
          "section": "S001",
          "stack": "lil_EM",
          "z": 1
         },
         {
          "section": "S001",
          "stack": "lil_EM",
          "z": 1
         },
         {
          "section": "S001",
          "stack": "lil_EM",
          "z": 1
         },
         {
          "section": "S001",
          "stack": "lil_EM",
          "z": 1
         },
         {
          "section": "S001",
          "stack": "lil_EM",
          "z": 1
         },
         {
          "section": "S001",
          "stack": "lil_EM",
          "z": 1
         },
         {
          "section": "S001",
          "stack": "lil_EM",
          "z": 1
         },
         {
          "section": "S001",
          "stack": "lil_EM",
          "z": 1
         },
         {
          "section": "S001",
          "stack": "lil_EM",
          "z": 1
         },
         {
          "section": "S001",
          "stack": "lil_EM",
          "z": 1
         },
         {
          "section": "S001",
          "stack": "lil_EM",
          "z": 1
         },
         {
          "section": "S001",
          "stack": "lil_EM",
          "z": 1
         },
         {
          "section": "S001",
          "stack": "lil_EM",
          "z": 1
         },
         {
          "section": "S001",
          "stack": "lil_EM",
          "z": 1
         },
         {
          "section": "S001",
          "stack": "lil_EM",
          "z": 1
         },
         {
          "section": "S001",
          "stack": "lil_EM",
          "z": 1
         },
         {
          "section": "S001",
          "stack": "lil_EM",
          "z": 1
         },
         {
          "section": "S001",
          "stack": "lil_EM",
          "z": 1
         },
         {
          "section": "S001",
          "stack": "lil_EM",
          "z": 1
         },
         {
          "section": "S001",
          "stack": "lil_EM",
          "z": 1
         },
         {
          "section": "S001",
          "stack": "lil_EM",
          "z": 1
         },
         {
          "section": "S001",
          "stack": "lil_EM",
          "z": 1
         },
         {
          "section": "S001",
          "stack": "lil_EM",
          "z": 1
         },
         {
          "section": "S001",
          "stack": "lil_EM",
          "z": 1
         },
         {
          "section": "S001",
          "stack": "lil_EM",
          "z": 1
         },
         {
          "section": "S001",
          "stack": "lil_EM",
          "z": 1
         },
         {
          "section": "S001",
          "stack": "lil_EM",
          "z": 1
         },
         {
          "section": "S001",
          "stack": "lil_EM",
          "z": 1
         },
         {
          "section": "S001",
          "stack": "lil_EM",
          "z": 1
         },
         {
          "section": "S001",
          "stack": "lil_EM",
          "z": 1
         },
         {
          "section": "S001",
          "stack": "lil_EM",
          "z": 1
         },
         {
          "section": "S001",
          "stack": "lil_EM",
          "z": 1
         },
         {
          "section": "S001",
          "stack": "lil_EM",
          "z": 1
         },
         {
          "section": "S001",
          "stack": "lil_EM",
          "z": 1
         },
         {
          "section": "S001",
          "stack": "lil_EM",
          "z": 1
         },
         {
          "section": "S001",
          "stack": "lil_EM",
          "z": 1
         },
         {
          "section": "S001",
          "stack": "lil_EM",
          "z": 1
         },
         {
          "section": "S001",
          "stack": "lil_EM",
          "z": 1
         },
         {
          "section": "S001",
          "stack": "lil_EM",
          "z": 1
         },
         {
          "section": "S001",
          "stack": "lil_EM",
          "z": 1
         },
         {
          "section": "S001",
          "stack": "lil_EM",
          "z": 1
         },
         {
          "section": "S001",
          "stack": "lil_EM",
          "z": 1
         },
         {
          "section": "S001",
          "stack": "lil_EM",
          "z": 1
         },
         {
          "section": "S001",
          "stack": "lil_EM",
          "z": 1
         },
         {
          "section": "S001",
          "stack": "lil_EM",
          "z": 1
         },
         {
          "section": "S001",
          "stack": "lil_EM",
          "z": 1
         },
         {
          "section": "S001",
          "stack": "lil_EM",
          "z": 1
         },
         {
          "section": "S001",
          "stack": "lil_EM",
          "z": 1
         },
         {
          "section": "S001",
          "stack": "lil_EM",
          "z": 1
         },
         {
          "section": "S001",
          "stack": "lil_EM",
          "z": 1
         },
         {
          "section": "S001",
          "stack": "lil_EM",
          "z": 1
         },
         {
          "section": "S001",
          "stack": "lil_EM",
          "z": 1
         },
         {
          "section": "S001",
          "stack": "lil_EM",
          "z": 1
         },
         {
          "section": "S001",
          "stack": "lil_EM",
          "z": 1
         },
         {
          "section": "S001",
          "stack": "lil_EM",
          "z": 1
         },
         {
          "section": "S001",
          "stack": "lil_EM",
          "z": 1
         },
         {
          "section": "S001",
          "stack": "lil_EM",
          "z": 1
         },
         {
          "section": "S001",
          "stack": "lil_EM",
          "z": 1
         },
         {
          "section": "S001",
          "stack": "lil_EM",
          "z": 1
         },
         {
          "section": "S001",
          "stack": "lil_EM",
          "z": 1
         },
         {
          "section": "S001",
          "stack": "lil_EM",
          "z": 1
         },
         {
          "section": "S001",
          "stack": "lil_EM",
          "z": 1
         },
         {
          "section": "S001",
          "stack": "lil_EM",
          "z": 1
         },
         {
          "section": "S001",
          "stack": "lil_EM",
          "z": 1
         },
         {
          "section": "S001",
          "stack": "lil_EM",
          "z": 1
         },
         {
          "section": "S001",
          "stack": "lil_EM",
          "z": 1
         },
         {
          "section": "S001",
          "stack": "lil_EM",
          "z": 1
         },
         {
          "section": "S001",
          "stack": "lil_EM",
          "z": 1
         },
         {
          "section": "S001",
          "stack": "lil_EM",
          "z": 1
         },
         {
          "section": "S001",
          "stack": "lil_EM",
          "z": 1
         },
         {
          "section": "S001",
          "stack": "lil_EM",
          "z": 1
         },
         {
          "section": "S001",
          "stack": "lil_EM",
          "z": 1
         },
         {
          "section": "S001",
          "stack": "lil_EM",
          "z": 1
         },
         {
          "section": "S001",
          "stack": "lil_EM",
          "z": 1
         },
         {
          "section": "S001",
          "stack": "lil_EM",
          "z": 1
         },
         {
          "section": "S001",
          "stack": "lil_EM",
          "z": 1
         },
         {
          "section": "S001",
          "stack": "lil_EM",
          "z": 1
         },
         {
          "section": "S001",
          "stack": "lil_EM",
          "z": 1
         },
         {
          "section": "S001",
          "stack": "lil_EM",
          "z": 1
         },
         {
          "section": "S001",
          "stack": "lil_EM",
          "z": 1
         },
         {
          "section": "S001",
          "stack": "lil_EM",
          "z": 1
         },
         {
          "section": "S001",
          "stack": "lil_EM",
          "z": 1
         },
         {
          "section": "S001",
          "stack": "lil_EM",
          "z": 1
         },
         {
          "section": "S001",
          "stack": "lil_EM",
          "z": 1
         },
         {
          "section": "S001",
          "stack": "lil_EM",
          "z": 1
         },
         {
          "section": "S001",
          "stack": "lil_EM",
          "z": 1
         },
         {
          "section": "S001",
          "stack": "lil_EM",
          "z": 1
         },
         {
          "section": "S001",
          "stack": "lil_EM",
          "z": 1
         },
         {
          "section": "S001",
          "stack": "lil_EM",
          "z": 1
         },
         {
          "section": "S001",
          "stack": "lil_EM",
          "z": 1
         },
         {
          "section": "S001",
          "stack": "lil_EM",
          "z": 1
         },
         {
          "section": "S001",
          "stack": "lil_EM",
          "z": 1
         },
         {
          "section": "S001",
          "stack": "lil_EM",
          "z": 1
         },
         {
          "section": "S001",
          "stack": "lil_EM",
          "z": 1
         },
         {
          "section": "S001",
          "stack": "lil_EM",
          "z": 1
         },
         {
          "section": "S002",
          "stack": "hoechst",
          "z": 2
         },
         {
          "section": "S002",
          "stack": "hoechst",
          "z": 2
         },
         {
          "section": "S002",
          "stack": "hoechst",
          "z": 2
         },
         {
          "section": "S002",
          "stack": "hoechst",
          "z": 2
         },
         {
          "section": "S002",
          "stack": "hoechst",
          "z": 2
         },
         {
          "section": "S002",
          "stack": "hoechst",
          "z": 2
         },
         {
          "section": "S002",
          "stack": "hoechst",
          "z": 2
         },
         {
          "section": "S002",
          "stack": "hoechst",
          "z": 2
         },
         {
          "section": "S002",
          "stack": "hoechst",
          "z": 2
         },
         {
          "section": "S002",
          "stack": "hoechst",
          "z": 2
         },
         {
          "section": "S002",
          "stack": "hoechst",
          "z": 2
         },
         {
          "section": "S002",
          "stack": "hoechst",
          "z": 2
         },
         {
          "section": "S002",
          "stack": "insulin",
          "z": 2
         },
         {
          "section": "S002",
          "stack": "insulin",
          "z": 2
         },
         {
          "section": "S002",
          "stack": "insulin",
          "z": 2
         },
         {
          "section": "S002",
          "stack": "insulin",
          "z": 2
         },
         {
          "section": "S002",
          "stack": "insulin",
          "z": 2
         },
         {
          "section": "S002",
          "stack": "insulin",
          "z": 2
         },
         {
          "section": "S002",
          "stack": "insulin",
          "z": 2
         },
         {
          "section": "S002",
          "stack": "insulin",
          "z": 2
         },
         {
          "section": "S002",
          "stack": "insulin",
          "z": 2
         },
         {
          "section": "S002",
          "stack": "insulin",
          "z": 2
         },
         {
          "section": "S002",
          "stack": "insulin",
          "z": 2
         },
         {
          "section": "S002",
          "stack": "insulin",
          "z": 2
         },
         {
          "section": "S002",
          "stack": "big_EM",
          "z": 2
         },
         {
          "section": "S002",
          "stack": "big_EM",
          "z": 2
         },
         {
          "section": "S002",
          "stack": "big_EM",
          "z": 2
         },
         {
          "section": "S002",
          "stack": "big_EM",
          "z": 2
         },
         {
          "section": "S002",
          "stack": "big_EM",
          "z": 2
         },
         {
          "section": "S002",
          "stack": "big_EM",
          "z": 2
         },
         {
          "section": "S002",
          "stack": "big_EM",
          "z": 2
         },
         {
          "section": "S002",
          "stack": "big_EM",
          "z": 2
         },
         {
          "section": "S002",
          "stack": "big_EM",
          "z": 2
         },
         {
          "section": "S002",
          "stack": "big_EM",
          "z": 2
         },
         {
          "section": "S002",
          "stack": "big_EM",
          "z": 2
         },
         {
          "section": "S002",
          "stack": "big_EM",
          "z": 2
         },
         {
          "section": "S002",
          "stack": "lil_EM",
          "z": 2
         },
         {
          "section": "S002",
          "stack": "lil_EM",
          "z": 2
         },
         {
          "section": "S002",
          "stack": "lil_EM",
          "z": 2
         },
         {
          "section": "S002",
          "stack": "lil_EM",
          "z": 2
         },
         {
          "section": "S002",
          "stack": "lil_EM",
          "z": 2
         },
         {
          "section": "S002",
          "stack": "lil_EM",
          "z": 2
         },
         {
          "section": "S002",
          "stack": "lil_EM",
          "z": 2
         },
         {
          "section": "S002",
          "stack": "lil_EM",
          "z": 2
         },
         {
          "section": "S002",
          "stack": "lil_EM",
          "z": 2
         },
         {
          "section": "S002",
          "stack": "lil_EM",
          "z": 2
         },
         {
          "section": "S002",
          "stack": "lil_EM",
          "z": 2
         },
         {
          "section": "S002",
          "stack": "lil_EM",
          "z": 2
         },
         {
          "section": "S002",
          "stack": "lil_EM",
          "z": 2
         },
         {
          "section": "S002",
          "stack": "lil_EM",
          "z": 2
         },
         {
          "section": "S002",
          "stack": "lil_EM",
          "z": 2
         },
         {
          "section": "S002",
          "stack": "lil_EM",
          "z": 2
         },
         {
          "section": "S002",
          "stack": "lil_EM",
          "z": 2
         },
         {
          "section": "S002",
          "stack": "lil_EM",
          "z": 2
         },
         {
          "section": "S002",
          "stack": "lil_EM",
          "z": 2
         },
         {
          "section": "S002",
          "stack": "lil_EM",
          "z": 2
         },
         {
          "section": "S002",
          "stack": "lil_EM",
          "z": 2
         },
         {
          "section": "S002",
          "stack": "lil_EM",
          "z": 2
         },
         {
          "section": "S002",
          "stack": "lil_EM",
          "z": 2
         },
         {
          "section": "S002",
          "stack": "lil_EM",
          "z": 2
         },
         {
          "section": "S002",
          "stack": "lil_EM",
          "z": 2
         },
         {
          "section": "S002",
          "stack": "lil_EM",
          "z": 2
         },
         {
          "section": "S002",
          "stack": "lil_EM",
          "z": 2
         },
         {
          "section": "S002",
          "stack": "lil_EM",
          "z": 2
         },
         {
          "section": "S002",
          "stack": "lil_EM",
          "z": 2
         },
         {
          "section": "S002",
          "stack": "lil_EM",
          "z": 2
         },
         {
          "section": "S002",
          "stack": "lil_EM",
          "z": 2
         },
         {
          "section": "S002",
          "stack": "lil_EM",
          "z": 2
         },
         {
          "section": "S002",
          "stack": "lil_EM",
          "z": 2
         },
         {
          "section": "S002",
          "stack": "lil_EM",
          "z": 2
         },
         {
          "section": "S002",
          "stack": "lil_EM",
          "z": 2
         },
         {
          "section": "S002",
          "stack": "lil_EM",
          "z": 2
         },
         {
          "section": "S002",
          "stack": "lil_EM",
          "z": 2
         },
         {
          "section": "S002",
          "stack": "lil_EM",
          "z": 2
         },
         {
          "section": "S002",
          "stack": "lil_EM",
          "z": 2
         },
         {
          "section": "S002",
          "stack": "lil_EM",
          "z": 2
         },
         {
          "section": "S002",
          "stack": "lil_EM",
          "z": 2
         },
         {
          "section": "S002",
          "stack": "lil_EM",
          "z": 2
         },
         {
          "section": "S002",
          "stack": "lil_EM",
          "z": 2
         },
         {
          "section": "S002",
          "stack": "lil_EM",
          "z": 2
         },
         {
          "section": "S002",
          "stack": "lil_EM",
          "z": 2
         },
         {
          "section": "S002",
          "stack": "lil_EM",
          "z": 2
         },
         {
          "section": "S002",
          "stack": "lil_EM",
          "z": 2
         },
         {
          "section": "S002",
          "stack": "lil_EM",
          "z": 2
         },
         {
          "section": "S002",
          "stack": "lil_EM",
          "z": 2
         },
         {
          "section": "S002",
          "stack": "lil_EM",
          "z": 2
         },
         {
          "section": "S002",
          "stack": "lil_EM",
          "z": 2
         },
         {
          "section": "S002",
          "stack": "lil_EM",
          "z": 2
         },
         {
          "section": "S002",
          "stack": "lil_EM",
          "z": 2
         },
         {
          "section": "S002",
          "stack": "lil_EM",
          "z": 2
         },
         {
          "section": "S002",
          "stack": "lil_EM",
          "z": 2
         },
         {
          "section": "S002",
          "stack": "lil_EM",
          "z": 2
         },
         {
          "section": "S002",
          "stack": "lil_EM",
          "z": 2
         },
         {
          "section": "S002",
          "stack": "lil_EM",
          "z": 2
         },
         {
          "section": "S002",
          "stack": "lil_EM",
          "z": 2
         },
         {
          "section": "S002",
          "stack": "lil_EM",
          "z": 2
         },
         {
          "section": "S002",
          "stack": "lil_EM",
          "z": 2
         },
         {
          "section": "S002",
          "stack": "lil_EM",
          "z": 2
         },
         {
          "section": "S002",
          "stack": "lil_EM",
          "z": 2
         },
         {
          "section": "S002",
          "stack": "lil_EM",
          "z": 2
         },
         {
          "section": "S002",
          "stack": "lil_EM",
          "z": 2
         },
         {
          "section": "S002",
          "stack": "lil_EM",
          "z": 2
         },
         {
          "section": "S002",
          "stack": "lil_EM",
          "z": 2
         },
         {
          "section": "S002",
          "stack": "lil_EM",
          "z": 2
         },
         {
          "section": "S002",
          "stack": "lil_EM",
          "z": 2
         },
         {
          "section": "S002",
          "stack": "lil_EM",
          "z": 2
         },
         {
          "section": "S002",
          "stack": "lil_EM",
          "z": 2
         },
         {
          "section": "S002",
          "stack": "lil_EM",
          "z": 2
         },
         {
          "section": "S002",
          "stack": "lil_EM",
          "z": 2
         },
         {
          "section": "S002",
          "stack": "lil_EM",
          "z": 2
         },
         {
          "section": "S002",
          "stack": "lil_EM",
          "z": 2
         },
         {
          "section": "S002",
          "stack": "lil_EM",
          "z": 2
         },
         {
          "section": "S002",
          "stack": "lil_EM",
          "z": 2
         },
         {
          "section": "S002",
          "stack": "lil_EM",
          "z": 2
         },
         {
          "section": "S002",
          "stack": "lil_EM",
          "z": 2
         },
         {
          "section": "S002",
          "stack": "lil_EM",
          "z": 2
         },
         {
          "section": "S002",
          "stack": "lil_EM",
          "z": 2
         },
         {
          "section": "S002",
          "stack": "lil_EM",
          "z": 2
         },
         {
          "section": "S002",
          "stack": "lil_EM",
          "z": 2
         },
         {
          "section": "S002",
          "stack": "lil_EM",
          "z": 2
         },
         {
          "section": "S002",
          "stack": "lil_EM",
          "z": 2
         },
         {
          "section": "S002",
          "stack": "lil_EM",
          "z": 2
         },
         {
          "section": "S002",
          "stack": "lil_EM",
          "z": 2
         },
         {
          "section": "S002",
          "stack": "lil_EM",
          "z": 2
         },
         {
          "section": "S002",
          "stack": "lil_EM",
          "z": 2
         },
         {
          "section": "S002",
          "stack": "lil_EM",
          "z": 2
         },
         {
          "section": "S002",
          "stack": "lil_EM",
          "z": 2
         },
         {
          "section": "S002",
          "stack": "lil_EM",
          "z": 2
         },
         {
          "section": "S002",
          "stack": "lil_EM",
          "z": 2
         },
         {
          "section": "S002",
          "stack": "lil_EM",
          "z": 2
         },
         {
          "section": "S002",
          "stack": "lil_EM",
          "z": 2
         },
         {
          "section": "S002",
          "stack": "lil_EM",
          "z": 2
         },
         {
          "section": "S002",
          "stack": "lil_EM",
          "z": 2
         },
         {
          "section": "S002",
          "stack": "lil_EM",
          "z": 2
         },
         {
          "section": "S002",
          "stack": "lil_EM",
          "z": 2
         },
         {
          "section": "S002",
          "stack": "lil_EM",
          "z": 2
         },
         {
          "section": "S002",
          "stack": "lil_EM",
          "z": 2
         },
         {
          "section": "S002",
          "stack": "lil_EM",
          "z": 2
         },
         {
          "section": "S002",
          "stack": "lil_EM",
          "z": 2
         },
         {
          "section": "S002",
          "stack": "lil_EM",
          "z": 2
         },
         {
          "section": "S002",
          "stack": "lil_EM",
          "z": 2
         },
         {
          "section": "S002",
          "stack": "lil_EM",
          "z": 2
         },
         {
          "section": "S002",
          "stack": "lil_EM",
          "z": 2
         },
         {
          "section": "S002",
          "stack": "lil_EM",
          "z": 2
         },
         {
          "section": "S002",
          "stack": "lil_EM",
          "z": 2
         },
         {
          "section": "S002",
          "stack": "lil_EM",
          "z": 2
         },
         {
          "section": "S002",
          "stack": "lil_EM",
          "z": 2
         },
         {
          "section": "S002",
          "stack": "lil_EM",
          "z": 2
         },
         {
          "section": "S002",
          "stack": "lil_EM",
          "z": 2
         },
         {
          "section": "S002",
          "stack": "lil_EM",
          "z": 2
         },
         {
          "section": "S002",
          "stack": "lil_EM",
          "z": 2
         },
         {
          "section": "S002",
          "stack": "lil_EM",
          "z": 2
         },
         {
          "section": "S002",
          "stack": "lil_EM",
          "z": 2
         },
         {
          "section": "S002",
          "stack": "lil_EM",
          "z": 2
         },
         {
          "section": "S002",
          "stack": "lil_EM",
          "z": 2
         },
         {
          "section": "S002",
          "stack": "lil_EM",
          "z": 2
         },
         {
          "section": "S002",
          "stack": "lil_EM",
          "z": 2
         },
         {
          "section": "S002",
          "stack": "lil_EM",
          "z": 2
         },
         {
          "section": "S002",
          "stack": "lil_EM",
          "z": 2
         },
         {
          "section": "S002",
          "stack": "lil_EM",
          "z": 2
         },
         {
          "section": "S002",
          "stack": "lil_EM",
          "z": 2
         },
         {
          "section": "S002",
          "stack": "lil_EM",
          "z": 2
         },
         {
          "section": "S002",
          "stack": "lil_EM",
          "z": 2
         },
         {
          "section": "S002",
          "stack": "lil_EM",
          "z": 2
         },
         {
          "section": "S002",
          "stack": "lil_EM",
          "z": 2
         },
         {
          "section": "S002",
          "stack": "lil_EM",
          "z": 2
         },
         {
          "section": "S002",
          "stack": "lil_EM",
          "z": 2
         },
         {
          "section": "S002",
          "stack": "lil_EM",
          "z": 2
         },
         {
          "section": "S002",
          "stack": "lil_EM",
          "z": 2
         },
         {
          "section": "S002",
          "stack": "lil_EM",
          "z": 2
         },
         {
          "section": "S002",
          "stack": "lil_EM",
          "z": 2
         },
         {
          "section": "S002",
          "stack": "lil_EM",
          "z": 2
         },
         {
          "section": "S002",
          "stack": "lil_EM",
          "z": 2
         },
         {
          "section": "S002",
          "stack": "lil_EM",
          "z": 2
         },
         {
          "section": "S002",
          "stack": "lil_EM",
          "z": 2
         },
         {
          "section": "S002",
          "stack": "lil_EM",
          "z": 2
         },
         {
          "section": "S002",
          "stack": "lil_EM",
          "z": 2
         },
         {
          "section": "S002",
          "stack": "lil_EM",
          "z": 2
         },
         {
          "section": "S002",
          "stack": "lil_EM",
          "z": 2
         },
         {
          "section": "S002",
          "stack": "lil_EM",
          "z": 2
         },
         {
          "section": "S002",
          "stack": "lil_EM",
          "z": 2
         },
         {
          "section": "S002",
          "stack": "lil_EM",
          "z": 2
         },
         {
          "section": "S002",
          "stack": "lil_EM",
          "z": 2
         },
         {
          "section": "S002",
          "stack": "lil_EM",
          "z": 2
         },
         {
          "section": "S002",
          "stack": "lil_EM",
          "z": 2
         },
         {
          "section": "S002",
          "stack": "lil_EM",
          "z": 2
         },
         {
          "section": "S002",
          "stack": "lil_EM",
          "z": 2
         },
         {
          "section": "S002",
          "stack": "lil_EM",
          "z": 2
         },
         {
          "section": "S002",
          "stack": "lil_EM",
          "z": 2
         },
         {
          "section": "S002",
          "stack": "lil_EM",
          "z": 2
         },
         {
          "section": "S002",
          "stack": "lil_EM",
          "z": 2
         },
         {
          "section": "S002",
          "stack": "lil_EM",
          "z": 2
         },
         {
          "section": "S002",
          "stack": "lil_EM",
          "z": 2
         },
         {
          "section": "S002",
          "stack": "lil_EM",
          "z": 2
         },
         {
          "section": "S002",
          "stack": "lil_EM",
          "z": 2
         },
         {
          "section": "S002",
          "stack": "lil_EM",
          "z": 2
         },
         {
          "section": "S002",
          "stack": "lil_EM",
          "z": 2
         },
         {
          "section": "S002",
          "stack": "lil_EM",
          "z": 2
         },
         {
          "section": "S002",
          "stack": "lil_EM",
          "z": 2
         },
         {
          "section": "S002",
          "stack": "lil_EM",
          "z": 2
         },
         {
          "section": "S002",
          "stack": "lil_EM",
          "z": 2
         },
         {
          "section": "S002",
          "stack": "lil_EM",
          "z": 2
         },
         {
          "section": "S002",
          "stack": "lil_EM",
          "z": 2
         },
         {
          "section": "S002",
          "stack": "lil_EM",
          "z": 2
         },
         {
          "section": "S002",
          "stack": "lil_EM",
          "z": 2
         },
         {
          "section": "S002",
          "stack": "lil_EM",
          "z": 2
         },
         {
          "section": "S002",
          "stack": "lil_EM",
          "z": 2
         },
         {
          "section": "S002",
          "stack": "lil_EM",
          "z": 2
         },
         {
          "section": "S002",
          "stack": "lil_EM",
          "z": 2
         },
         {
          "section": "S002",
          "stack": "lil_EM",
          "z": 2
         },
         {
          "section": "S002",
          "stack": "lil_EM",
          "z": 2
         },
         {
          "section": "S002",
          "stack": "lil_EM",
          "z": 2
         },
         {
          "section": "S002",
          "stack": "lil_EM",
          "z": 2
         },
         {
          "section": "S002",
          "stack": "lil_EM",
          "z": 2
         },
         {
          "section": "S002",
          "stack": "lil_EM",
          "z": 2
         },
         {
          "section": "S002",
          "stack": "lil_EM",
          "z": 2
         },
         {
          "section": "S002",
          "stack": "lil_EM",
          "z": 2
         },
         {
          "section": "S002",
          "stack": "lil_EM",
          "z": 2
         },
         {
          "section": "S002",
          "stack": "lil_EM",
          "z": 2
         },
         {
          "section": "S002",
          "stack": "lil_EM",
          "z": 2
         },
         {
          "section": "S002",
          "stack": "lil_EM",
          "z": 2
         },
         {
          "section": "S002",
          "stack": "lil_EM",
          "z": 2
         },
         {
          "section": "S002",
          "stack": "lil_EM",
          "z": 2
         },
         {
          "section": "S002",
          "stack": "lil_EM",
          "z": 2
         },
         {
          "section": "S002",
          "stack": "lil_EM",
          "z": 2
         },
         {
          "section": "S002",
          "stack": "lil_EM",
          "z": 2
         },
         {
          "section": "S002",
          "stack": "lil_EM",
          "z": 2
         },
         {
          "section": "S002",
          "stack": "lil_EM",
          "z": 2
         },
         {
          "section": "S002",
          "stack": "lil_EM",
          "z": 2
         },
         {
          "section": "S002",
          "stack": "lil_EM",
          "z": 2
         },
         {
          "section": "S002",
          "stack": "lil_EM",
          "z": 2
         },
         {
          "section": "S002",
          "stack": "lil_EM",
          "z": 2
         },
         {
          "section": "S002",
          "stack": "lil_EM",
          "z": 2
         },
         {
          "section": "S002",
          "stack": "lil_EM",
          "z": 2
         },
         {
          "section": "S002",
          "stack": "lil_EM",
          "z": 2
         },
         {
          "section": "S002",
          "stack": "lil_EM",
          "z": 2
         },
         {
          "section": "S002",
          "stack": "lil_EM",
          "z": 2
         },
         {
          "section": "S002",
          "stack": "lil_EM",
          "z": 2
         },
         {
          "section": "S002",
          "stack": "lil_EM",
          "z": 2
         },
         {
          "section": "S002",
          "stack": "lil_EM",
          "z": 2
         },
         {
          "section": "S002",
          "stack": "lil_EM",
          "z": 2
         },
         {
          "section": "S002",
          "stack": "lil_EM",
          "z": 2
         },
         {
          "section": "S002",
          "stack": "lil_EM",
          "z": 2
         },
         {
          "section": "S002",
          "stack": "lil_EM",
          "z": 2
         },
         {
          "section": "S002",
          "stack": "lil_EM",
          "z": 2
         },
         {
          "section": "S002",
          "stack": "lil_EM",
          "z": 2
         },
         {
          "section": "S002",
          "stack": "lil_EM",
          "z": 2
         },
         {
          "section": "S002",
          "stack": "lil_EM",
          "z": 2
         },
         {
          "section": "S002",
          "stack": "lil_EM",
          "z": 2
         },
         {
          "section": "S002",
          "stack": "lil_EM",
          "z": 2
         },
         {
          "section": "S002",
          "stack": "lil_EM",
          "z": 2
         },
         {
          "section": "S002",
          "stack": "lil_EM",
          "z": 2
         },
         {
          "section": "S002",
          "stack": "lil_EM",
          "z": 2
         },
         {
          "section": "S002",
          "stack": "lil_EM",
          "z": 2
         },
         {
          "section": "S002",
          "stack": "lil_EM",
          "z": 2
         },
         {
          "section": "S002",
          "stack": "lil_EM",
          "z": 2
         },
         {
          "section": "S002",
          "stack": "lil_EM",
          "z": 2
         },
         {
          "section": "S002",
          "stack": "lil_EM",
          "z": 2
         },
         {
          "section": "S002",
          "stack": "lil_EM",
          "z": 2
         },
         {
          "section": "S002",
          "stack": "lil_EM",
          "z": 2
         },
         {
          "section": "S002",
          "stack": "lil_EM",
          "z": 2
         },
         {
          "section": "S002",
          "stack": "lil_EM",
          "z": 2
         },
         {
          "section": "S002",
          "stack": "lil_EM",
          "z": 2
         },
         {
          "section": "S002",
          "stack": "lil_EM",
          "z": 2
         },
         {
          "section": "S002",
          "stack": "lil_EM",
          "z": 2
         },
         {
          "section": "S002",
          "stack": "lil_EM",
          "z": 2
         },
         {
          "section": "S002",
          "stack": "lil_EM",
          "z": 2
         },
         {
          "section": "S002",
          "stack": "lil_EM",
          "z": 2
         },
         {
          "section": "S002",
          "stack": "lil_EM",
          "z": 2
         },
         {
          "section": "S002",
          "stack": "lil_EM",
          "z": 2
         },
         {
          "section": "S002",
          "stack": "lil_EM",
          "z": 2
         },
         {
          "section": "S002",
          "stack": "lil_EM",
          "z": 2
         },
         {
          "section": "S002",
          "stack": "lil_EM",
          "z": 2
         },
         {
          "section": "S002",
          "stack": "lil_EM",
          "z": 2
         },
         {
          "section": "S002",
          "stack": "lil_EM",
          "z": 2
         },
         {
          "section": "S002",
          "stack": "lil_EM",
          "z": 2
         },
         {
          "section": "S002",
          "stack": "lil_EM",
          "z": 2
         },
         {
          "section": "S002",
          "stack": "lil_EM",
          "z": 2
         },
         {
          "section": "S002",
          "stack": "lil_EM",
          "z": 2
         },
         {
          "section": "S002",
          "stack": "lil_EM",
          "z": 2
         },
         {
          "section": "S002",
          "stack": "lil_EM",
          "z": 2
         },
         {
          "section": "S002",
          "stack": "lil_EM",
          "z": 2
         },
         {
          "section": "S002",
          "stack": "lil_EM",
          "z": 2
         },
         {
          "section": "S002",
          "stack": "lil_EM",
          "z": 2
         },
         {
          "section": "S002",
          "stack": "lil_EM",
          "z": 2
         },
         {
          "section": "S002",
          "stack": "lil_EM",
          "z": 2
         },
         {
          "section": "S002",
          "stack": "lil_EM",
          "z": 2
         },
         {
          "section": "S002",
          "stack": "lil_EM",
          "z": 2
         },
         {
          "section": "S002",
          "stack": "lil_EM",
          "z": 2
         },
         {
          "section": "S002",
          "stack": "lil_EM",
          "z": 2
         },
         {
          "section": "S002",
          "stack": "lil_EM",
          "z": 2
         },
         {
          "section": "S002",
          "stack": "lil_EM",
          "z": 2
         },
         {
          "section": "S002",
          "stack": "lil_EM",
          "z": 2
         },
         {
          "section": "S002",
          "stack": "lil_EM",
          "z": 2
         },
         {
          "section": "S002",
          "stack": "lil_EM",
          "z": 2
         },
         {
          "section": "S002",
          "stack": "lil_EM",
          "z": 2
         },
         {
          "section": "S002",
          "stack": "lil_EM",
          "z": 2
         },
         {
          "section": "S002",
          "stack": "lil_EM",
          "z": 2
         },
         {
          "section": "S002",
          "stack": "lil_EM",
          "z": 2
         },
         {
          "section": "S002",
          "stack": "lil_EM",
          "z": 2
         },
         {
          "section": "S002",
          "stack": "lil_EM",
          "z": 2
         },
         {
          "section": "S002",
          "stack": "lil_EM",
          "z": 2
         },
         {
          "section": "S002",
          "stack": "lil_EM",
          "z": 2
         },
         {
          "section": "S002",
          "stack": "lil_EM",
          "z": 2
         },
         {
          "section": "S002",
          "stack": "lil_EM",
          "z": 2
         },
         {
          "section": "S002",
          "stack": "lil_EM",
          "z": 2
         },
         {
          "section": "S002",
          "stack": "lil_EM",
          "z": 2
         },
         {
          "section": "S002",
          "stack": "lil_EM",
          "z": 2
         },
         {
          "section": "S002",
          "stack": "lil_EM",
          "z": 2
         },
         {
          "section": "S002",
          "stack": "lil_EM",
          "z": 2
         },
         {
          "section": "S002",
          "stack": "lil_EM",
          "z": 2
         },
         {
          "section": "S002",
          "stack": "lil_EM",
          "z": 2
         },
         {
          "section": "S002",
          "stack": "lil_EM",
          "z": 2
         },
         {
          "section": "S002",
          "stack": "lil_EM",
          "z": 2
         },
         {
          "section": "S002",
          "stack": "lil_EM",
          "z": 2
         },
         {
          "section": "S002",
          "stack": "lil_EM",
          "z": 2
         },
         {
          "section": "S002",
          "stack": "lil_EM",
          "z": 2
         },
         {
          "section": "S002",
          "stack": "lil_EM",
          "z": 2
         },
         {
          "section": "S002",
          "stack": "lil_EM",
          "z": 2
         },
         {
          "section": "S002",
          "stack": "lil_EM",
          "z": 2
         },
         {
          "section": "S002",
          "stack": "lil_EM",
          "z": 2
         },
         {
          "section": "S002",
          "stack": "lil_EM",
          "z": 2
         },
         {
          "section": "S002",
          "stack": "lil_EM",
          "z": 2
         },
         {
          "section": "S002",
          "stack": "lil_EM",
          "z": 2
         },
         {
          "section": "S002",
          "stack": "lil_EM",
          "z": 2
         },
         {
          "section": "S002",
          "stack": "lil_EM",
          "z": 2
         },
         {
          "section": "S002",
          "stack": "lil_EM",
          "z": 2
         },
         {
          "section": "S002",
          "stack": "lil_EM",
          "z": 2
         },
         {
          "section": "S002",
          "stack": "lil_EM",
          "z": 2
         },
         {
          "section": "S002",
          "stack": "lil_EM",
          "z": 2
         },
         {
          "section": "S002",
          "stack": "lil_EM",
          "z": 2
         },
         {
          "section": "S002",
          "stack": "lil_EM",
          "z": 2
         },
         {
          "section": "S002",
          "stack": "lil_EM",
          "z": 2
         },
         {
          "section": "S002",
          "stack": "lil_EM",
          "z": 2
         },
         {
          "section": "S002",
          "stack": "lil_EM",
          "z": 2
         },
         {
          "section": "S002",
          "stack": "lil_EM",
          "z": 2
         },
         {
          "section": "S002",
          "stack": "lil_EM",
          "z": 2
         },
         {
          "section": "S002",
          "stack": "lil_EM",
          "z": 2
         },
         {
          "section": "S002",
          "stack": "lil_EM",
          "z": 2
         },
         {
          "section": "S002",
          "stack": "lil_EM",
          "z": 2
         },
         {
          "section": "S002",
          "stack": "lil_EM",
          "z": 2
         },
         {
          "section": "S002",
          "stack": "lil_EM",
          "z": 2
         },
         {
          "section": "S002",
          "stack": "lil_EM",
          "z": 2
         },
         {
          "section": "S002",
          "stack": "lil_EM",
          "z": 2
         },
         {
          "section": "S002",
          "stack": "lil_EM",
          "z": 2
         },
         {
          "section": "S002",
          "stack": "lil_EM",
          "z": 2
         },
         {
          "section": "S002",
          "stack": "lil_EM",
          "z": 2
         },
         {
          "section": "S002",
          "stack": "lil_EM",
          "z": 2
         },
         {
          "section": "S002",
          "stack": "lil_EM",
          "z": 2
         },
         {
          "section": "S002",
          "stack": "lil_EM",
          "z": 2
         },
         {
          "section": "S002",
          "stack": "lil_EM",
          "z": 2
         },
         {
          "section": "S002",
          "stack": "lil_EM",
          "z": 2
         },
         {
          "section": "S002",
          "stack": "lil_EM",
          "z": 2
         },
         {
          "section": "S002",
          "stack": "lil_EM",
          "z": 2
         },
         {
          "section": "S002",
          "stack": "lil_EM",
          "z": 2
         },
         {
          "section": "S002",
          "stack": "lil_EM",
          "z": 2
         },
         {
          "section": "S003",
          "stack": "hoechst",
          "z": 3
         },
         {
          "section": "S003",
          "stack": "hoechst",
          "z": 3
         },
         {
          "section": "S003",
          "stack": "hoechst",
          "z": 3
         },
         {
          "section": "S003",
          "stack": "hoechst",
          "z": 3
         },
         {
          "section": "S003",
          "stack": "hoechst",
          "z": 3
         },
         {
          "section": "S003",
          "stack": "hoechst",
          "z": 3
         },
         {
          "section": "S003",
          "stack": "hoechst",
          "z": 3
         },
         {
          "section": "S003",
          "stack": "hoechst",
          "z": 3
         },
         {
          "section": "S003",
          "stack": "hoechst",
          "z": 3
         },
         {
          "section": "S003",
          "stack": "hoechst",
          "z": 3
         },
         {
          "section": "S003",
          "stack": "hoechst",
          "z": 3
         },
         {
          "section": "S003",
          "stack": "hoechst",
          "z": 3
         },
         {
          "section": "S003",
          "stack": "insulin",
          "z": 3
         },
         {
          "section": "S003",
          "stack": "insulin",
          "z": 3
         },
         {
          "section": "S003",
          "stack": "insulin",
          "z": 3
         },
         {
          "section": "S003",
          "stack": "insulin",
          "z": 3
         },
         {
          "section": "S003",
          "stack": "insulin",
          "z": 3
         },
         {
          "section": "S003",
          "stack": "insulin",
          "z": 3
         },
         {
          "section": "S003",
          "stack": "insulin",
          "z": 3
         },
         {
          "section": "S003",
          "stack": "insulin",
          "z": 3
         },
         {
          "section": "S003",
          "stack": "insulin",
          "z": 3
         },
         {
          "section": "S003",
          "stack": "insulin",
          "z": 3
         },
         {
          "section": "S003",
          "stack": "insulin",
          "z": 3
         },
         {
          "section": "S003",
          "stack": "insulin",
          "z": 3
         },
         {
          "section": "S003",
          "stack": "big_EM",
          "z": 3
         },
         {
          "section": "S003",
          "stack": "big_EM",
          "z": 3
         },
         {
          "section": "S003",
          "stack": "big_EM",
          "z": 3
         },
         {
          "section": "S003",
          "stack": "big_EM",
          "z": 3
         },
         {
          "section": "S003",
          "stack": "big_EM",
          "z": 3
         },
         {
          "section": "S003",
          "stack": "big_EM",
          "z": 3
         },
         {
          "section": "S003",
          "stack": "big_EM",
          "z": 3
         },
         {
          "section": "S003",
          "stack": "big_EM",
          "z": 3
         },
         {
          "section": "S003",
          "stack": "big_EM",
          "z": 3
         },
         {
          "section": "S003",
          "stack": "big_EM",
          "z": 3
         },
         {
          "section": "S003",
          "stack": "big_EM",
          "z": 3
         },
         {
          "section": "S003",
          "stack": "big_EM",
          "z": 3
         },
         {
          "section": "S003",
          "stack": "lil_EM",
          "z": 3
         },
         {
          "section": "S003",
          "stack": "lil_EM",
          "z": 3
         },
         {
          "section": "S003",
          "stack": "lil_EM",
          "z": 3
         },
         {
          "section": "S003",
          "stack": "lil_EM",
          "z": 3
         },
         {
          "section": "S003",
          "stack": "lil_EM",
          "z": 3
         },
         {
          "section": "S003",
          "stack": "lil_EM",
          "z": 3
         },
         {
          "section": "S003",
          "stack": "lil_EM",
          "z": 3
         },
         {
          "section": "S003",
          "stack": "lil_EM",
          "z": 3
         },
         {
          "section": "S003",
          "stack": "lil_EM",
          "z": 3
         },
         {
          "section": "S003",
          "stack": "lil_EM",
          "z": 3
         },
         {
          "section": "S003",
          "stack": "lil_EM",
          "z": 3
         },
         {
          "section": "S003",
          "stack": "lil_EM",
          "z": 3
         },
         {
          "section": "S003",
          "stack": "lil_EM",
          "z": 3
         },
         {
          "section": "S003",
          "stack": "lil_EM",
          "z": 3
         },
         {
          "section": "S003",
          "stack": "lil_EM",
          "z": 3
         },
         {
          "section": "S003",
          "stack": "lil_EM",
          "z": 3
         },
         {
          "section": "S003",
          "stack": "lil_EM",
          "z": 3
         },
         {
          "section": "S003",
          "stack": "lil_EM",
          "z": 3
         },
         {
          "section": "S003",
          "stack": "lil_EM",
          "z": 3
         },
         {
          "section": "S003",
          "stack": "lil_EM",
          "z": 3
         },
         {
          "section": "S003",
          "stack": "lil_EM",
          "z": 3
         },
         {
          "section": "S003",
          "stack": "lil_EM",
          "z": 3
         },
         {
          "section": "S003",
          "stack": "lil_EM",
          "z": 3
         },
         {
          "section": "S003",
          "stack": "lil_EM",
          "z": 3
         },
         {
          "section": "S003",
          "stack": "lil_EM",
          "z": 3
         },
         {
          "section": "S003",
          "stack": "lil_EM",
          "z": 3
         },
         {
          "section": "S003",
          "stack": "lil_EM",
          "z": 3
         },
         {
          "section": "S003",
          "stack": "lil_EM",
          "z": 3
         },
         {
          "section": "S003",
          "stack": "lil_EM",
          "z": 3
         },
         {
          "section": "S003",
          "stack": "lil_EM",
          "z": 3
         },
         {
          "section": "S003",
          "stack": "lil_EM",
          "z": 3
         },
         {
          "section": "S003",
          "stack": "lil_EM",
          "z": 3
         },
         {
          "section": "S003",
          "stack": "lil_EM",
          "z": 3
         },
         {
          "section": "S003",
          "stack": "lil_EM",
          "z": 3
         },
         {
          "section": "S003",
          "stack": "lil_EM",
          "z": 3
         },
         {
          "section": "S003",
          "stack": "lil_EM",
          "z": 3
         },
         {
          "section": "S003",
          "stack": "lil_EM",
          "z": 3
         },
         {
          "section": "S003",
          "stack": "lil_EM",
          "z": 3
         },
         {
          "section": "S003",
          "stack": "lil_EM",
          "z": 3
         },
         {
          "section": "S003",
          "stack": "lil_EM",
          "z": 3
         },
         {
          "section": "S003",
          "stack": "lil_EM",
          "z": 3
         },
         {
          "section": "S003",
          "stack": "lil_EM",
          "z": 3
         },
         {
          "section": "S003",
          "stack": "lil_EM",
          "z": 3
         },
         {
          "section": "S003",
          "stack": "lil_EM",
          "z": 3
         },
         {
          "section": "S003",
          "stack": "lil_EM",
          "z": 3
         },
         {
          "section": "S003",
          "stack": "lil_EM",
          "z": 3
         },
         {
          "section": "S003",
          "stack": "lil_EM",
          "z": 3
         },
         {
          "section": "S003",
          "stack": "lil_EM",
          "z": 3
         },
         {
          "section": "S003",
          "stack": "lil_EM",
          "z": 3
         },
         {
          "section": "S003",
          "stack": "lil_EM",
          "z": 3
         },
         {
          "section": "S003",
          "stack": "lil_EM",
          "z": 3
         },
         {
          "section": "S003",
          "stack": "lil_EM",
          "z": 3
         },
         {
          "section": "S003",
          "stack": "lil_EM",
          "z": 3
         },
         {
          "section": "S003",
          "stack": "lil_EM",
          "z": 3
         },
         {
          "section": "S003",
          "stack": "lil_EM",
          "z": 3
         },
         {
          "section": "S003",
          "stack": "lil_EM",
          "z": 3
         },
         {
          "section": "S003",
          "stack": "lil_EM",
          "z": 3
         },
         {
          "section": "S003",
          "stack": "lil_EM",
          "z": 3
         },
         {
          "section": "S003",
          "stack": "lil_EM",
          "z": 3
         },
         {
          "section": "S003",
          "stack": "lil_EM",
          "z": 3
         },
         {
          "section": "S003",
          "stack": "lil_EM",
          "z": 3
         },
         {
          "section": "S003",
          "stack": "lil_EM",
          "z": 3
         },
         {
          "section": "S003",
          "stack": "lil_EM",
          "z": 3
         },
         {
          "section": "S003",
          "stack": "lil_EM",
          "z": 3
         },
         {
          "section": "S003",
          "stack": "lil_EM",
          "z": 3
         },
         {
          "section": "S003",
          "stack": "lil_EM",
          "z": 3
         },
         {
          "section": "S003",
          "stack": "lil_EM",
          "z": 3
         },
         {
          "section": "S003",
          "stack": "lil_EM",
          "z": 3
         },
         {
          "section": "S003",
          "stack": "lil_EM",
          "z": 3
         },
         {
          "section": "S003",
          "stack": "lil_EM",
          "z": 3
         },
         {
          "section": "S003",
          "stack": "lil_EM",
          "z": 3
         },
         {
          "section": "S003",
          "stack": "lil_EM",
          "z": 3
         },
         {
          "section": "S003",
          "stack": "lil_EM",
          "z": 3
         },
         {
          "section": "S003",
          "stack": "lil_EM",
          "z": 3
         },
         {
          "section": "S003",
          "stack": "lil_EM",
          "z": 3
         },
         {
          "section": "S003",
          "stack": "lil_EM",
          "z": 3
         },
         {
          "section": "S003",
          "stack": "lil_EM",
          "z": 3
         },
         {
          "section": "S003",
          "stack": "lil_EM",
          "z": 3
         },
         {
          "section": "S003",
          "stack": "lil_EM",
          "z": 3
         },
         {
          "section": "S003",
          "stack": "lil_EM",
          "z": 3
         },
         {
          "section": "S003",
          "stack": "lil_EM",
          "z": 3
         },
         {
          "section": "S003",
          "stack": "lil_EM",
          "z": 3
         },
         {
          "section": "S003",
          "stack": "lil_EM",
          "z": 3
         },
         {
          "section": "S003",
          "stack": "lil_EM",
          "z": 3
         },
         {
          "section": "S003",
          "stack": "lil_EM",
          "z": 3
         },
         {
          "section": "S003",
          "stack": "lil_EM",
          "z": 3
         },
         {
          "section": "S003",
          "stack": "lil_EM",
          "z": 3
         },
         {
          "section": "S003",
          "stack": "lil_EM",
          "z": 3
         },
         {
          "section": "S003",
          "stack": "lil_EM",
          "z": 3
         },
         {
          "section": "S003",
          "stack": "lil_EM",
          "z": 3
         },
         {
          "section": "S003",
          "stack": "lil_EM",
          "z": 3
         },
         {
          "section": "S003",
          "stack": "lil_EM",
          "z": 3
         },
         {
          "section": "S003",
          "stack": "lil_EM",
          "z": 3
         },
         {
          "section": "S003",
          "stack": "lil_EM",
          "z": 3
         },
         {
          "section": "S003",
          "stack": "lil_EM",
          "z": 3
         },
         {
          "section": "S003",
          "stack": "lil_EM",
          "z": 3
         },
         {
          "section": "S003",
          "stack": "lil_EM",
          "z": 3
         },
         {
          "section": "S003",
          "stack": "lil_EM",
          "z": 3
         },
         {
          "section": "S003",
          "stack": "lil_EM",
          "z": 3
         },
         {
          "section": "S003",
          "stack": "lil_EM",
          "z": 3
         },
         {
          "section": "S003",
          "stack": "lil_EM",
          "z": 3
         },
         {
          "section": "S003",
          "stack": "lil_EM",
          "z": 3
         },
         {
          "section": "S003",
          "stack": "lil_EM",
          "z": 3
         },
         {
          "section": "S003",
          "stack": "lil_EM",
          "z": 3
         },
         {
          "section": "S003",
          "stack": "lil_EM",
          "z": 3
         },
         {
          "section": "S003",
          "stack": "lil_EM",
          "z": 3
         },
         {
          "section": "S003",
          "stack": "lil_EM",
          "z": 3
         },
         {
          "section": "S003",
          "stack": "lil_EM",
          "z": 3
         },
         {
          "section": "S003",
          "stack": "lil_EM",
          "z": 3
         },
         {
          "section": "S003",
          "stack": "lil_EM",
          "z": 3
         },
         {
          "section": "S003",
          "stack": "lil_EM",
          "z": 3
         },
         {
          "section": "S003",
          "stack": "lil_EM",
          "z": 3
         },
         {
          "section": "S003",
          "stack": "lil_EM",
          "z": 3
         },
         {
          "section": "S003",
          "stack": "lil_EM",
          "z": 3
         },
         {
          "section": "S003",
          "stack": "lil_EM",
          "z": 3
         },
         {
          "section": "S003",
          "stack": "lil_EM",
          "z": 3
         },
         {
          "section": "S003",
          "stack": "lil_EM",
          "z": 3
         },
         {
          "section": "S003",
          "stack": "lil_EM",
          "z": 3
         },
         {
          "section": "S003",
          "stack": "lil_EM",
          "z": 3
         },
         {
          "section": "S003",
          "stack": "lil_EM",
          "z": 3
         },
         {
          "section": "S003",
          "stack": "lil_EM",
          "z": 3
         },
         {
          "section": "S003",
          "stack": "lil_EM",
          "z": 3
         },
         {
          "section": "S003",
          "stack": "lil_EM",
          "z": 3
         },
         {
          "section": "S003",
          "stack": "lil_EM",
          "z": 3
         },
         {
          "section": "S003",
          "stack": "lil_EM",
          "z": 3
         },
         {
          "section": "S003",
          "stack": "lil_EM",
          "z": 3
         },
         {
          "section": "S003",
          "stack": "lil_EM",
          "z": 3
         },
         {
          "section": "S003",
          "stack": "lil_EM",
          "z": 3
         },
         {
          "section": "S003",
          "stack": "lil_EM",
          "z": 3
         },
         {
          "section": "S003",
          "stack": "lil_EM",
          "z": 3
         },
         {
          "section": "S003",
          "stack": "lil_EM",
          "z": 3
         },
         {
          "section": "S003",
          "stack": "lil_EM",
          "z": 3
         },
         {
          "section": "S003",
          "stack": "lil_EM",
          "z": 3
         },
         {
          "section": "S003",
          "stack": "lil_EM",
          "z": 3
         },
         {
          "section": "S003",
          "stack": "lil_EM",
          "z": 3
         },
         {
          "section": "S003",
          "stack": "lil_EM",
          "z": 3
         },
         {
          "section": "S003",
          "stack": "lil_EM",
          "z": 3
         },
         {
          "section": "S003",
          "stack": "lil_EM",
          "z": 3
         },
         {
          "section": "S003",
          "stack": "lil_EM",
          "z": 3
         },
         {
          "section": "S003",
          "stack": "lil_EM",
          "z": 3
         },
         {
          "section": "S003",
          "stack": "lil_EM",
          "z": 3
         },
         {
          "section": "S003",
          "stack": "lil_EM",
          "z": 3
         },
         {
          "section": "S003",
          "stack": "lil_EM",
          "z": 3
         },
         {
          "section": "S003",
          "stack": "lil_EM",
          "z": 3
         },
         {
          "section": "S003",
          "stack": "lil_EM",
          "z": 3
         },
         {
          "section": "S003",
          "stack": "lil_EM",
          "z": 3
         },
         {
          "section": "S003",
          "stack": "lil_EM",
          "z": 3
         },
         {
          "section": "S003",
          "stack": "lil_EM",
          "z": 3
         },
         {
          "section": "S003",
          "stack": "lil_EM",
          "z": 3
         },
         {
          "section": "S003",
          "stack": "lil_EM",
          "z": 3
         },
         {
          "section": "S003",
          "stack": "lil_EM",
          "z": 3
         },
         {
          "section": "S003",
          "stack": "lil_EM",
          "z": 3
         },
         {
          "section": "S003",
          "stack": "lil_EM",
          "z": 3
         },
         {
          "section": "S003",
          "stack": "lil_EM",
          "z": 3
         },
         {
          "section": "S003",
          "stack": "lil_EM",
          "z": 3
         },
         {
          "section": "S003",
          "stack": "lil_EM",
          "z": 3
         },
         {
          "section": "S003",
          "stack": "lil_EM",
          "z": 3
         },
         {
          "section": "S003",
          "stack": "lil_EM",
          "z": 3
         },
         {
          "section": "S003",
          "stack": "lil_EM",
          "z": 3
         },
         {
          "section": "S003",
          "stack": "lil_EM",
          "z": 3
         },
         {
          "section": "S003",
          "stack": "lil_EM",
          "z": 3
         },
         {
          "section": "S003",
          "stack": "lil_EM",
          "z": 3
         },
         {
          "section": "S003",
          "stack": "lil_EM",
          "z": 3
         },
         {
          "section": "S003",
          "stack": "lil_EM",
          "z": 3
         },
         {
          "section": "S003",
          "stack": "lil_EM",
          "z": 3
         },
         {
          "section": "S003",
          "stack": "lil_EM",
          "z": 3
         },
         {
          "section": "S003",
          "stack": "lil_EM",
          "z": 3
         },
         {
          "section": "S003",
          "stack": "lil_EM",
          "z": 3
         },
         {
          "section": "S003",
          "stack": "lil_EM",
          "z": 3
         },
         {
          "section": "S003",
          "stack": "lil_EM",
          "z": 3
         },
         {
          "section": "S003",
          "stack": "lil_EM",
          "z": 3
         },
         {
          "section": "S003",
          "stack": "lil_EM",
          "z": 3
         },
         {
          "section": "S003",
          "stack": "lil_EM",
          "z": 3
         },
         {
          "section": "S003",
          "stack": "lil_EM",
          "z": 3
         },
         {
          "section": "S003",
          "stack": "lil_EM",
          "z": 3
         },
         {
          "section": "S003",
          "stack": "lil_EM",
          "z": 3
         },
         {
          "section": "S003",
          "stack": "lil_EM",
          "z": 3
         },
         {
          "section": "S003",
          "stack": "lil_EM",
          "z": 3
         },
         {
          "section": "S003",
          "stack": "lil_EM",
          "z": 3
         },
         {
          "section": "S003",
          "stack": "lil_EM",
          "z": 3
         },
         {
          "section": "S003",
          "stack": "lil_EM",
          "z": 3
         },
         {
          "section": "S003",
          "stack": "lil_EM",
          "z": 3
         },
         {
          "section": "S003",
          "stack": "lil_EM",
          "z": 3
         },
         {
          "section": "S003",
          "stack": "lil_EM",
          "z": 3
         },
         {
          "section": "S003",
          "stack": "lil_EM",
          "z": 3
         },
         {
          "section": "S003",
          "stack": "lil_EM",
          "z": 3
         },
         {
          "section": "S003",
          "stack": "lil_EM",
          "z": 3
         },
         {
          "section": "S003",
          "stack": "lil_EM",
          "z": 3
         },
         {
          "section": "S003",
          "stack": "lil_EM",
          "z": 3
         },
         {
          "section": "S003",
          "stack": "lil_EM",
          "z": 3
         },
         {
          "section": "S003",
          "stack": "lil_EM",
          "z": 3
         },
         {
          "section": "S003",
          "stack": "lil_EM",
          "z": 3
         },
         {
          "section": "S003",
          "stack": "lil_EM",
          "z": 3
         },
         {
          "section": "S003",
          "stack": "lil_EM",
          "z": 3
         },
         {
          "section": "S003",
          "stack": "lil_EM",
          "z": 3
         },
         {
          "section": "S003",
          "stack": "lil_EM",
          "z": 3
         },
         {
          "section": "S003",
          "stack": "lil_EM",
          "z": 3
         },
         {
          "section": "S003",
          "stack": "lil_EM",
          "z": 3
         },
         {
          "section": "S003",
          "stack": "lil_EM",
          "z": 3
         },
         {
          "section": "S003",
          "stack": "lil_EM",
          "z": 3
         },
         {
          "section": "S003",
          "stack": "lil_EM",
          "z": 3
         },
         {
          "section": "S003",
          "stack": "lil_EM",
          "z": 3
         },
         {
          "section": "S003",
          "stack": "lil_EM",
          "z": 3
         },
         {
          "section": "S003",
          "stack": "lil_EM",
          "z": 3
         },
         {
          "section": "S003",
          "stack": "lil_EM",
          "z": 3
         },
         {
          "section": "S003",
          "stack": "lil_EM",
          "z": 3
         },
         {
          "section": "S003",
          "stack": "lil_EM",
          "z": 3
         },
         {
          "section": "S003",
          "stack": "lil_EM",
          "z": 3
         },
         {
          "section": "S003",
          "stack": "lil_EM",
          "z": 3
         },
         {
          "section": "S003",
          "stack": "lil_EM",
          "z": 3
         },
         {
          "section": "S003",
          "stack": "lil_EM",
          "z": 3
         },
         {
          "section": "S003",
          "stack": "lil_EM",
          "z": 3
         },
         {
          "section": "S003",
          "stack": "lil_EM",
          "z": 3
         },
         {
          "section": "S003",
          "stack": "lil_EM",
          "z": 3
         },
         {
          "section": "S003",
          "stack": "lil_EM",
          "z": 3
         },
         {
          "section": "S003",
          "stack": "lil_EM",
          "z": 3
         },
         {
          "section": "S003",
          "stack": "lil_EM",
          "z": 3
         },
         {
          "section": "S003",
          "stack": "lil_EM",
          "z": 3
         },
         {
          "section": "S003",
          "stack": "lil_EM",
          "z": 3
         },
         {
          "section": "S003",
          "stack": "lil_EM",
          "z": 3
         },
         {
          "section": "S003",
          "stack": "lil_EM",
          "z": 3
         },
         {
          "section": "S003",
          "stack": "lil_EM",
          "z": 3
         },
         {
          "section": "S003",
          "stack": "lil_EM",
          "z": 3
         },
         {
          "section": "S003",
          "stack": "lil_EM",
          "z": 3
         },
         {
          "section": "S003",
          "stack": "lil_EM",
          "z": 3
         },
         {
          "section": "S003",
          "stack": "lil_EM",
          "z": 3
         },
         {
          "section": "S003",
          "stack": "lil_EM",
          "z": 3
         },
         {
          "section": "S003",
          "stack": "lil_EM",
          "z": 3
         },
         {
          "section": "S003",
          "stack": "lil_EM",
          "z": 3
         },
         {
          "section": "S003",
          "stack": "lil_EM",
          "z": 3
         },
         {
          "section": "S003",
          "stack": "lil_EM",
          "z": 3
         },
         {
          "section": "S003",
          "stack": "lil_EM",
          "z": 3
         },
         {
          "section": "S003",
          "stack": "lil_EM",
          "z": 3
         },
         {
          "section": "S003",
          "stack": "lil_EM",
          "z": 3
         },
         {
          "section": "S003",
          "stack": "lil_EM",
          "z": 3
         },
         {
          "section": "S003",
          "stack": "lil_EM",
          "z": 3
         },
         {
          "section": "S003",
          "stack": "lil_EM",
          "z": 3
         },
         {
          "section": "S003",
          "stack": "lil_EM",
          "z": 3
         },
         {
          "section": "S003",
          "stack": "lil_EM",
          "z": 3
         },
         {
          "section": "S003",
          "stack": "lil_EM",
          "z": 3
         },
         {
          "section": "S003",
          "stack": "lil_EM",
          "z": 3
         },
         {
          "section": "S003",
          "stack": "lil_EM",
          "z": 3
         },
         {
          "section": "S003",
          "stack": "lil_EM",
          "z": 3
         },
         {
          "section": "S003",
          "stack": "lil_EM",
          "z": 3
         },
         {
          "section": "S003",
          "stack": "lil_EM",
          "z": 3
         },
         {
          "section": "S003",
          "stack": "lil_EM",
          "z": 3
         },
         {
          "section": "S003",
          "stack": "lil_EM",
          "z": 3
         },
         {
          "section": "S003",
          "stack": "lil_EM",
          "z": 3
         },
         {
          "section": "S003",
          "stack": "lil_EM",
          "z": 3
         },
         {
          "section": "S003",
          "stack": "lil_EM",
          "z": 3
         },
         {
          "section": "S003",
          "stack": "lil_EM",
          "z": 3
         },
         {
          "section": "S003",
          "stack": "lil_EM",
          "z": 3
         },
         {
          "section": "S003",
          "stack": "lil_EM",
          "z": 3
         },
         {
          "section": "S003",
          "stack": "lil_EM",
          "z": 3
         },
         {
          "section": "S003",
          "stack": "lil_EM",
          "z": 3
         },
         {
          "section": "S003",
          "stack": "lil_EM",
          "z": 3
         },
         {
          "section": "S003",
          "stack": "lil_EM",
          "z": 3
         },
         {
          "section": "S003",
          "stack": "lil_EM",
          "z": 3
         },
         {
          "section": "S003",
          "stack": "lil_EM",
          "z": 3
         },
         {
          "section": "S003",
          "stack": "lil_EM",
          "z": 3
         },
         {
          "section": "S003",
          "stack": "lil_EM",
          "z": 3
         },
         {
          "section": "S003",
          "stack": "lil_EM",
          "z": 3
         },
         {
          "section": "S003",
          "stack": "lil_EM",
          "z": 3
         },
         {
          "section": "S003",
          "stack": "lil_EM",
          "z": 3
         },
         {
          "section": "S003",
          "stack": "lil_EM",
          "z": 3
         },
         {
          "section": "S003",
          "stack": "lil_EM",
          "z": 3
         },
         {
          "section": "S003",
          "stack": "lil_EM",
          "z": 3
         },
         {
          "section": "S003",
          "stack": "lil_EM",
          "z": 3
         },
         {
          "section": "S003",
          "stack": "lil_EM",
          "z": 3
         },
         {
          "section": "S003",
          "stack": "lil_EM",
          "z": 3
         },
         {
          "section": "S003",
          "stack": "lil_EM",
          "z": 3
         },
         {
          "section": "S003",
          "stack": "lil_EM",
          "z": 3
         },
         {
          "section": "S003",
          "stack": "lil_EM",
          "z": 3
         },
         {
          "section": "S003",
          "stack": "lil_EM",
          "z": 3
         },
         {
          "section": "S003",
          "stack": "lil_EM",
          "z": 3
         },
         {
          "section": "S003",
          "stack": "lil_EM",
          "z": 3
         },
         {
          "section": "S003",
          "stack": "lil_EM",
          "z": 3
         },
         {
          "section": "S003",
          "stack": "lil_EM",
          "z": 3
         },
         {
          "section": "S003",
          "stack": "lil_EM",
          "z": 3
         },
         {
          "section": "S003",
          "stack": "lil_EM",
          "z": 3
         },
         {
          "section": "S003",
          "stack": "lil_EM",
          "z": 3
         },
         {
          "section": "S003",
          "stack": "lil_EM",
          "z": 3
         },
         {
          "section": "S003",
          "stack": "lil_EM",
          "z": 3
         },
         {
          "section": "S003",
          "stack": "lil_EM",
          "z": 3
         },
         {
          "section": "S003",
          "stack": "lil_EM",
          "z": 3
         },
         {
          "section": "S003",
          "stack": "lil_EM",
          "z": 3
         },
         {
          "section": "S003",
          "stack": "lil_EM",
          "z": 3
         },
         {
          "section": "S003",
          "stack": "lil_EM",
          "z": 3
         },
         {
          "section": "S003",
          "stack": "lil_EM",
          "z": 3
         },
         {
          "section": "S003",
          "stack": "lil_EM",
          "z": 3
         },
         {
          "section": "S003",
          "stack": "lil_EM",
          "z": 3
         },
         {
          "section": "S003",
          "stack": "lil_EM",
          "z": 3
         },
         {
          "section": "S003",
          "stack": "lil_EM",
          "z": 3
         },
         {
          "section": "S003",
          "stack": "lil_EM",
          "z": 3
         },
         {
          "section": "S003",
          "stack": "lil_EM",
          "z": 3
         },
         {
          "section": "S003",
          "stack": "lil_EM",
          "z": 3
         },
         {
          "section": "S003",
          "stack": "lil_EM",
          "z": 3
         },
         {
          "section": "S003",
          "stack": "lil_EM",
          "z": 3
         },
         {
          "section": "S003",
          "stack": "lil_EM",
          "z": 3
         },
         {
          "section": "S003",
          "stack": "lil_EM",
          "z": 3
         },
         {
          "section": "S003",
          "stack": "lil_EM",
          "z": 3
         },
         {
          "section": "S003",
          "stack": "lil_EM",
          "z": 3
         },
         {
          "section": "S003",
          "stack": "lil_EM",
          "z": 3
         },
         {
          "section": "S003",
          "stack": "lil_EM",
          "z": 3
         },
         {
          "section": "S003",
          "stack": "lil_EM",
          "z": 3
         },
         {
          "section": "S003",
          "stack": "lil_EM",
          "z": 3
         },
         {
          "section": "S003",
          "stack": "lil_EM",
          "z": 3
         },
         {
          "section": "S003",
          "stack": "lil_EM",
          "z": 3
         },
         {
          "section": "S003",
          "stack": "lil_EM",
          "z": 3
         },
         {
          "section": "S003",
          "stack": "lil_EM",
          "z": 3
         },
         {
          "section": "S003",
          "stack": "lil_EM",
          "z": 3
         },
         {
          "section": "S003",
          "stack": "lil_EM",
          "z": 3
         },
         {
          "section": "S003",
          "stack": "lil_EM",
          "z": 3
         },
         {
          "section": "S003",
          "stack": "lil_EM",
          "z": 3
         },
         {
          "section": "S003",
          "stack": "lil_EM",
          "z": 3
         },
         {
          "section": "S003",
          "stack": "lil_EM",
          "z": 3
         },
         {
          "section": "S003",
          "stack": "lil_EM",
          "z": 3
         },
         {
          "section": "S003",
          "stack": "lil_EM",
          "z": 3
         },
         {
          "section": "S003",
          "stack": "lil_EM",
          "z": 3
         },
         {
          "section": "S003",
          "stack": "lil_EM",
          "z": 3
         },
         {
          "section": "S004",
          "stack": "hoechst",
          "z": 4
         },
         {
          "section": "S004",
          "stack": "hoechst",
          "z": 4
         },
         {
          "section": "S004",
          "stack": "hoechst",
          "z": 4
         },
         {
          "section": "S004",
          "stack": "hoechst",
          "z": 4
         },
         {
          "section": "S004",
          "stack": "hoechst",
          "z": 4
         },
         {
          "section": "S004",
          "stack": "hoechst",
          "z": 4
         },
         {
          "section": "S004",
          "stack": "hoechst",
          "z": 4
         },
         {
          "section": "S004",
          "stack": "hoechst",
          "z": 4
         },
         {
          "section": "S004",
          "stack": "hoechst",
          "z": 4
         },
         {
          "section": "S004",
          "stack": "hoechst",
          "z": 4
         },
         {
          "section": "S004",
          "stack": "hoechst",
          "z": 4
         },
         {
          "section": "S004",
          "stack": "hoechst",
          "z": 4
         },
         {
          "section": "S004",
          "stack": "insulin",
          "z": 4
         },
         {
          "section": "S004",
          "stack": "insulin",
          "z": 4
         },
         {
          "section": "S004",
          "stack": "insulin",
          "z": 4
         },
         {
          "section": "S004",
          "stack": "insulin",
          "z": 4
         },
         {
          "section": "S004",
          "stack": "insulin",
          "z": 4
         },
         {
          "section": "S004",
          "stack": "insulin",
          "z": 4
         },
         {
          "section": "S004",
          "stack": "insulin",
          "z": 4
         },
         {
          "section": "S004",
          "stack": "insulin",
          "z": 4
         },
         {
          "section": "S004",
          "stack": "insulin",
          "z": 4
         },
         {
          "section": "S004",
          "stack": "insulin",
          "z": 4
         },
         {
          "section": "S004",
          "stack": "insulin",
          "z": 4
         },
         {
          "section": "S004",
          "stack": "insulin",
          "z": 4
         },
         {
          "section": "S004",
          "stack": "big_EM",
          "z": 4
         },
         {
          "section": "S004",
          "stack": "big_EM",
          "z": 4
         },
         {
          "section": "S004",
          "stack": "big_EM",
          "z": 4
         },
         {
          "section": "S004",
          "stack": "big_EM",
          "z": 4
         },
         {
          "section": "S004",
          "stack": "big_EM",
          "z": 4
         },
         {
          "section": "S004",
          "stack": "big_EM",
          "z": 4
         },
         {
          "section": "S004",
          "stack": "big_EM",
          "z": 4
         },
         {
          "section": "S004",
          "stack": "big_EM",
          "z": 4
         },
         {
          "section": "S004",
          "stack": "big_EM",
          "z": 4
         },
         {
          "section": "S004",
          "stack": "big_EM",
          "z": 4
         },
         {
          "section": "S004",
          "stack": "big_EM",
          "z": 4
         },
         {
          "section": "S004",
          "stack": "big_EM",
          "z": 4
         },
         {
          "section": "S004",
          "stack": "lil_EM",
          "z": 4
         },
         {
          "section": "S004",
          "stack": "lil_EM",
          "z": 4
         },
         {
          "section": "S004",
          "stack": "lil_EM",
          "z": 4
         },
         {
          "section": "S004",
          "stack": "lil_EM",
          "z": 4
         },
         {
          "section": "S004",
          "stack": "lil_EM",
          "z": 4
         },
         {
          "section": "S004",
          "stack": "lil_EM",
          "z": 4
         },
         {
          "section": "S004",
          "stack": "lil_EM",
          "z": 4
         },
         {
          "section": "S004",
          "stack": "lil_EM",
          "z": 4
         },
         {
          "section": "S004",
          "stack": "lil_EM",
          "z": 4
         },
         {
          "section": "S004",
          "stack": "lil_EM",
          "z": 4
         },
         {
          "section": "S004",
          "stack": "lil_EM",
          "z": 4
         },
         {
          "section": "S004",
          "stack": "lil_EM",
          "z": 4
         },
         {
          "section": "S004",
          "stack": "lil_EM",
          "z": 4
         },
         {
          "section": "S004",
          "stack": "lil_EM",
          "z": 4
         },
         {
          "section": "S004",
          "stack": "lil_EM",
          "z": 4
         },
         {
          "section": "S004",
          "stack": "lil_EM",
          "z": 4
         },
         {
          "section": "S004",
          "stack": "lil_EM",
          "z": 4
         },
         {
          "section": "S004",
          "stack": "lil_EM",
          "z": 4
         },
         {
          "section": "S004",
          "stack": "lil_EM",
          "z": 4
         },
         {
          "section": "S004",
          "stack": "lil_EM",
          "z": 4
         },
         {
          "section": "S004",
          "stack": "lil_EM",
          "z": 4
         },
         {
          "section": "S004",
          "stack": "lil_EM",
          "z": 4
         },
         {
          "section": "S004",
          "stack": "lil_EM",
          "z": 4
         },
         {
          "section": "S004",
          "stack": "lil_EM",
          "z": 4
         },
         {
          "section": "S004",
          "stack": "lil_EM",
          "z": 4
         },
         {
          "section": "S004",
          "stack": "lil_EM",
          "z": 4
         },
         {
          "section": "S004",
          "stack": "lil_EM",
          "z": 4
         },
         {
          "section": "S004",
          "stack": "lil_EM",
          "z": 4
         },
         {
          "section": "S004",
          "stack": "lil_EM",
          "z": 4
         },
         {
          "section": "S004",
          "stack": "lil_EM",
          "z": 4
         },
         {
          "section": "S004",
          "stack": "lil_EM",
          "z": 4
         },
         {
          "section": "S004",
          "stack": "lil_EM",
          "z": 4
         },
         {
          "section": "S004",
          "stack": "lil_EM",
          "z": 4
         },
         {
          "section": "S004",
          "stack": "lil_EM",
          "z": 4
         },
         {
          "section": "S004",
          "stack": "lil_EM",
          "z": 4
         },
         {
          "section": "S004",
          "stack": "lil_EM",
          "z": 4
         },
         {
          "section": "S004",
          "stack": "lil_EM",
          "z": 4
         },
         {
          "section": "S004",
          "stack": "lil_EM",
          "z": 4
         },
         {
          "section": "S004",
          "stack": "lil_EM",
          "z": 4
         },
         {
          "section": "S004",
          "stack": "lil_EM",
          "z": 4
         },
         {
          "section": "S004",
          "stack": "lil_EM",
          "z": 4
         },
         {
          "section": "S004",
          "stack": "lil_EM",
          "z": 4
         },
         {
          "section": "S004",
          "stack": "lil_EM",
          "z": 4
         },
         {
          "section": "S004",
          "stack": "lil_EM",
          "z": 4
         },
         {
          "section": "S004",
          "stack": "lil_EM",
          "z": 4
         },
         {
          "section": "S004",
          "stack": "lil_EM",
          "z": 4
         },
         {
          "section": "S004",
          "stack": "lil_EM",
          "z": 4
         },
         {
          "section": "S004",
          "stack": "lil_EM",
          "z": 4
         },
         {
          "section": "S004",
          "stack": "lil_EM",
          "z": 4
         },
         {
          "section": "S004",
          "stack": "lil_EM",
          "z": 4
         },
         {
          "section": "S004",
          "stack": "lil_EM",
          "z": 4
         },
         {
          "section": "S004",
          "stack": "lil_EM",
          "z": 4
         },
         {
          "section": "S004",
          "stack": "lil_EM",
          "z": 4
         },
         {
          "section": "S004",
          "stack": "lil_EM",
          "z": 4
         },
         {
          "section": "S004",
          "stack": "lil_EM",
          "z": 4
         },
         {
          "section": "S004",
          "stack": "lil_EM",
          "z": 4
         },
         {
          "section": "S004",
          "stack": "lil_EM",
          "z": 4
         },
         {
          "section": "S004",
          "stack": "lil_EM",
          "z": 4
         },
         {
          "section": "S004",
          "stack": "lil_EM",
          "z": 4
         },
         {
          "section": "S004",
          "stack": "lil_EM",
          "z": 4
         },
         {
          "section": "S004",
          "stack": "lil_EM",
          "z": 4
         },
         {
          "section": "S004",
          "stack": "lil_EM",
          "z": 4
         },
         {
          "section": "S004",
          "stack": "lil_EM",
          "z": 4
         },
         {
          "section": "S004",
          "stack": "lil_EM",
          "z": 4
         },
         {
          "section": "S004",
          "stack": "lil_EM",
          "z": 4
         },
         {
          "section": "S004",
          "stack": "lil_EM",
          "z": 4
         },
         {
          "section": "S004",
          "stack": "lil_EM",
          "z": 4
         },
         {
          "section": "S004",
          "stack": "lil_EM",
          "z": 4
         },
         {
          "section": "S004",
          "stack": "lil_EM",
          "z": 4
         },
         {
          "section": "S004",
          "stack": "lil_EM",
          "z": 4
         },
         {
          "section": "S004",
          "stack": "lil_EM",
          "z": 4
         },
         {
          "section": "S004",
          "stack": "lil_EM",
          "z": 4
         },
         {
          "section": "S004",
          "stack": "lil_EM",
          "z": 4
         },
         {
          "section": "S004",
          "stack": "lil_EM",
          "z": 4
         },
         {
          "section": "S004",
          "stack": "lil_EM",
          "z": 4
         },
         {
          "section": "S004",
          "stack": "lil_EM",
          "z": 4
         },
         {
          "section": "S004",
          "stack": "lil_EM",
          "z": 4
         },
         {
          "section": "S004",
          "stack": "lil_EM",
          "z": 4
         },
         {
          "section": "S004",
          "stack": "lil_EM",
          "z": 4
         },
         {
          "section": "S004",
          "stack": "lil_EM",
          "z": 4
         },
         {
          "section": "S004",
          "stack": "lil_EM",
          "z": 4
         },
         {
          "section": "S004",
          "stack": "lil_EM",
          "z": 4
         },
         {
          "section": "S004",
          "stack": "lil_EM",
          "z": 4
         },
         {
          "section": "S004",
          "stack": "lil_EM",
          "z": 4
         },
         {
          "section": "S004",
          "stack": "lil_EM",
          "z": 4
         },
         {
          "section": "S004",
          "stack": "lil_EM",
          "z": 4
         },
         {
          "section": "S004",
          "stack": "lil_EM",
          "z": 4
         },
         {
          "section": "S004",
          "stack": "lil_EM",
          "z": 4
         },
         {
          "section": "S004",
          "stack": "lil_EM",
          "z": 4
         },
         {
          "section": "S004",
          "stack": "lil_EM",
          "z": 4
         },
         {
          "section": "S004",
          "stack": "lil_EM",
          "z": 4
         },
         {
          "section": "S004",
          "stack": "lil_EM",
          "z": 4
         },
         {
          "section": "S004",
          "stack": "lil_EM",
          "z": 4
         },
         {
          "section": "S004",
          "stack": "lil_EM",
          "z": 4
         },
         {
          "section": "S004",
          "stack": "lil_EM",
          "z": 4
         },
         {
          "section": "S004",
          "stack": "lil_EM",
          "z": 4
         },
         {
          "section": "S004",
          "stack": "lil_EM",
          "z": 4
         },
         {
          "section": "S004",
          "stack": "lil_EM",
          "z": 4
         },
         {
          "section": "S004",
          "stack": "lil_EM",
          "z": 4
         },
         {
          "section": "S004",
          "stack": "lil_EM",
          "z": 4
         },
         {
          "section": "S004",
          "stack": "lil_EM",
          "z": 4
         },
         {
          "section": "S004",
          "stack": "lil_EM",
          "z": 4
         },
         {
          "section": "S004",
          "stack": "lil_EM",
          "z": 4
         },
         {
          "section": "S004",
          "stack": "lil_EM",
          "z": 4
         },
         {
          "section": "S004",
          "stack": "lil_EM",
          "z": 4
         },
         {
          "section": "S004",
          "stack": "lil_EM",
          "z": 4
         },
         {
          "section": "S004",
          "stack": "lil_EM",
          "z": 4
         },
         {
          "section": "S004",
          "stack": "lil_EM",
          "z": 4
         },
         {
          "section": "S004",
          "stack": "lil_EM",
          "z": 4
         },
         {
          "section": "S004",
          "stack": "lil_EM",
          "z": 4
         },
         {
          "section": "S004",
          "stack": "lil_EM",
          "z": 4
         },
         {
          "section": "S004",
          "stack": "lil_EM",
          "z": 4
         },
         {
          "section": "S004",
          "stack": "lil_EM",
          "z": 4
         },
         {
          "section": "S004",
          "stack": "lil_EM",
          "z": 4
         },
         {
          "section": "S004",
          "stack": "lil_EM",
          "z": 4
         },
         {
          "section": "S004",
          "stack": "lil_EM",
          "z": 4
         },
         {
          "section": "S004",
          "stack": "lil_EM",
          "z": 4
         },
         {
          "section": "S004",
          "stack": "lil_EM",
          "z": 4
         },
         {
          "section": "S004",
          "stack": "lil_EM",
          "z": 4
         },
         {
          "section": "S004",
          "stack": "lil_EM",
          "z": 4
         },
         {
          "section": "S004",
          "stack": "lil_EM",
          "z": 4
         },
         {
          "section": "S004",
          "stack": "lil_EM",
          "z": 4
         },
         {
          "section": "S004",
          "stack": "lil_EM",
          "z": 4
         },
         {
          "section": "S004",
          "stack": "lil_EM",
          "z": 4
         },
         {
          "section": "S004",
          "stack": "lil_EM",
          "z": 4
         },
         {
          "section": "S004",
          "stack": "lil_EM",
          "z": 4
         },
         {
          "section": "S004",
          "stack": "lil_EM",
          "z": 4
         },
         {
          "section": "S004",
          "stack": "lil_EM",
          "z": 4
         },
         {
          "section": "S004",
          "stack": "lil_EM",
          "z": 4
         },
         {
          "section": "S004",
          "stack": "lil_EM",
          "z": 4
         },
         {
          "section": "S004",
          "stack": "lil_EM",
          "z": 4
         },
         {
          "section": "S004",
          "stack": "lil_EM",
          "z": 4
         },
         {
          "section": "S004",
          "stack": "lil_EM",
          "z": 4
         },
         {
          "section": "S004",
          "stack": "lil_EM",
          "z": 4
         },
         {
          "section": "S004",
          "stack": "lil_EM",
          "z": 4
         },
         {
          "section": "S004",
          "stack": "lil_EM",
          "z": 4
         },
         {
          "section": "S004",
          "stack": "lil_EM",
          "z": 4
         },
         {
          "section": "S004",
          "stack": "lil_EM",
          "z": 4
         },
         {
          "section": "S004",
          "stack": "lil_EM",
          "z": 4
         },
         {
          "section": "S004",
          "stack": "lil_EM",
          "z": 4
         },
         {
          "section": "S004",
          "stack": "lil_EM",
          "z": 4
         },
         {
          "section": "S004",
          "stack": "lil_EM",
          "z": 4
         },
         {
          "section": "S004",
          "stack": "lil_EM",
          "z": 4
         },
         {
          "section": "S004",
          "stack": "lil_EM",
          "z": 4
         },
         {
          "section": "S004",
          "stack": "lil_EM",
          "z": 4
         },
         {
          "section": "S004",
          "stack": "lil_EM",
          "z": 4
         },
         {
          "section": "S004",
          "stack": "lil_EM",
          "z": 4
         },
         {
          "section": "S004",
          "stack": "lil_EM",
          "z": 4
         },
         {
          "section": "S004",
          "stack": "lil_EM",
          "z": 4
         },
         {
          "section": "S004",
          "stack": "lil_EM",
          "z": 4
         },
         {
          "section": "S004",
          "stack": "lil_EM",
          "z": 4
         },
         {
          "section": "S004",
          "stack": "lil_EM",
          "z": 4
         },
         {
          "section": "S004",
          "stack": "lil_EM",
          "z": 4
         },
         {
          "section": "S004",
          "stack": "lil_EM",
          "z": 4
         },
         {
          "section": "S004",
          "stack": "lil_EM",
          "z": 4
         },
         {
          "section": "S004",
          "stack": "lil_EM",
          "z": 4
         },
         {
          "section": "S004",
          "stack": "lil_EM",
          "z": 4
         },
         {
          "section": "S004",
          "stack": "lil_EM",
          "z": 4
         },
         {
          "section": "S004",
          "stack": "lil_EM",
          "z": 4
         },
         {
          "section": "S004",
          "stack": "lil_EM",
          "z": 4
         },
         {
          "section": "S004",
          "stack": "lil_EM",
          "z": 4
         },
         {
          "section": "S004",
          "stack": "lil_EM",
          "z": 4
         },
         {
          "section": "S004",
          "stack": "lil_EM",
          "z": 4
         },
         {
          "section": "S004",
          "stack": "lil_EM",
          "z": 4
         },
         {
          "section": "S004",
          "stack": "lil_EM",
          "z": 4
         },
         {
          "section": "S004",
          "stack": "lil_EM",
          "z": 4
         },
         {
          "section": "S004",
          "stack": "lil_EM",
          "z": 4
         },
         {
          "section": "S004",
          "stack": "lil_EM",
          "z": 4
         },
         {
          "section": "S004",
          "stack": "lil_EM",
          "z": 4
         },
         {
          "section": "S004",
          "stack": "lil_EM",
          "z": 4
         },
         {
          "section": "S004",
          "stack": "lil_EM",
          "z": 4
         },
         {
          "section": "S004",
          "stack": "lil_EM",
          "z": 4
         },
         {
          "section": "S004",
          "stack": "lil_EM",
          "z": 4
         },
         {
          "section": "S004",
          "stack": "lil_EM",
          "z": 4
         },
         {
          "section": "S004",
          "stack": "lil_EM",
          "z": 4
         },
         {
          "section": "S004",
          "stack": "lil_EM",
          "z": 4
         },
         {
          "section": "S004",
          "stack": "lil_EM",
          "z": 4
         },
         {
          "section": "S004",
          "stack": "lil_EM",
          "z": 4
         },
         {
          "section": "S004",
          "stack": "lil_EM",
          "z": 4
         },
         {
          "section": "S004",
          "stack": "lil_EM",
          "z": 4
         },
         {
          "section": "S004",
          "stack": "lil_EM",
          "z": 4
         },
         {
          "section": "S004",
          "stack": "lil_EM",
          "z": 4
         },
         {
          "section": "S004",
          "stack": "lil_EM",
          "z": 4
         },
         {
          "section": "S004",
          "stack": "lil_EM",
          "z": 4
         },
         {
          "section": "S004",
          "stack": "lil_EM",
          "z": 4
         },
         {
          "section": "S004",
          "stack": "lil_EM",
          "z": 4
         },
         {
          "section": "S004",
          "stack": "lil_EM",
          "z": 4
         },
         {
          "section": "S004",
          "stack": "lil_EM",
          "z": 4
         },
         {
          "section": "S004",
          "stack": "lil_EM",
          "z": 4
         },
         {
          "section": "S004",
          "stack": "lil_EM",
          "z": 4
         },
         {
          "section": "S004",
          "stack": "lil_EM",
          "z": 4
         },
         {
          "section": "S004",
          "stack": "lil_EM",
          "z": 4
         },
         {
          "section": "S004",
          "stack": "lil_EM",
          "z": 4
         },
         {
          "section": "S004",
          "stack": "lil_EM",
          "z": 4
         },
         {
          "section": "S004",
          "stack": "lil_EM",
          "z": 4
         },
         {
          "section": "S004",
          "stack": "lil_EM",
          "z": 4
         },
         {
          "section": "S004",
          "stack": "lil_EM",
          "z": 4
         },
         {
          "section": "S004",
          "stack": "lil_EM",
          "z": 4
         },
         {
          "section": "S004",
          "stack": "lil_EM",
          "z": 4
         },
         {
          "section": "S004",
          "stack": "lil_EM",
          "z": 4
         },
         {
          "section": "S004",
          "stack": "lil_EM",
          "z": 4
         },
         {
          "section": "S004",
          "stack": "lil_EM",
          "z": 4
         },
         {
          "section": "S004",
          "stack": "lil_EM",
          "z": 4
         },
         {
          "section": "S004",
          "stack": "lil_EM",
          "z": 4
         },
         {
          "section": "S004",
          "stack": "lil_EM",
          "z": 4
         },
         {
          "section": "S004",
          "stack": "lil_EM",
          "z": 4
         },
         {
          "section": "S004",
          "stack": "lil_EM",
          "z": 4
         },
         {
          "section": "S004",
          "stack": "lil_EM",
          "z": 4
         },
         {
          "section": "S004",
          "stack": "lil_EM",
          "z": 4
         },
         {
          "section": "S004",
          "stack": "lil_EM",
          "z": 4
         },
         {
          "section": "S004",
          "stack": "lil_EM",
          "z": 4
         },
         {
          "section": "S004",
          "stack": "lil_EM",
          "z": 4
         },
         {
          "section": "S004",
          "stack": "lil_EM",
          "z": 4
         },
         {
          "section": "S004",
          "stack": "lil_EM",
          "z": 4
         },
         {
          "section": "S004",
          "stack": "lil_EM",
          "z": 4
         },
         {
          "section": "S004",
          "stack": "lil_EM",
          "z": 4
         },
         {
          "section": "S004",
          "stack": "lil_EM",
          "z": 4
         },
         {
          "section": "S004",
          "stack": "lil_EM",
          "z": 4
         },
         {
          "section": "S004",
          "stack": "lil_EM",
          "z": 4
         },
         {
          "section": "S004",
          "stack": "lil_EM",
          "z": 4
         },
         {
          "section": "S004",
          "stack": "lil_EM",
          "z": 4
         },
         {
          "section": "S004",
          "stack": "lil_EM",
          "z": 4
         },
         {
          "section": "S004",
          "stack": "lil_EM",
          "z": 4
         },
         {
          "section": "S004",
          "stack": "lil_EM",
          "z": 4
         },
         {
          "section": "S004",
          "stack": "lil_EM",
          "z": 4
         },
         {
          "section": "S004",
          "stack": "lil_EM",
          "z": 4
         },
         {
          "section": "S004",
          "stack": "lil_EM",
          "z": 4
         },
         {
          "section": "S004",
          "stack": "lil_EM",
          "z": 4
         },
         {
          "section": "S004",
          "stack": "lil_EM",
          "z": 4
         },
         {
          "section": "S004",
          "stack": "lil_EM",
          "z": 4
         },
         {
          "section": "S004",
          "stack": "lil_EM",
          "z": 4
         },
         {
          "section": "S004",
          "stack": "lil_EM",
          "z": 4
         },
         {
          "section": "S004",
          "stack": "lil_EM",
          "z": 4
         },
         {
          "section": "S004",
          "stack": "lil_EM",
          "z": 4
         },
         {
          "section": "S004",
          "stack": "lil_EM",
          "z": 4
         },
         {
          "section": "S004",
          "stack": "lil_EM",
          "z": 4
         },
         {
          "section": "S004",
          "stack": "lil_EM",
          "z": 4
         },
         {
          "section": "S004",
          "stack": "lil_EM",
          "z": 4
         },
         {
          "section": "S004",
          "stack": "lil_EM",
          "z": 4
         },
         {
          "section": "S004",
          "stack": "lil_EM",
          "z": 4
         },
         {
          "section": "S004",
          "stack": "lil_EM",
          "z": 4
         },
         {
          "section": "S004",
          "stack": "lil_EM",
          "z": 4
         },
         {
          "section": "S004",
          "stack": "lil_EM",
          "z": 4
         },
         {
          "section": "S004",
          "stack": "lil_EM",
          "z": 4
         },
         {
          "section": "S004",
          "stack": "lil_EM",
          "z": 4
         },
         {
          "section": "S004",
          "stack": "lil_EM",
          "z": 4
         },
         {
          "section": "S004",
          "stack": "lil_EM",
          "z": 4
         },
         {
          "section": "S004",
          "stack": "lil_EM",
          "z": 4
         },
         {
          "section": "S004",
          "stack": "lil_EM",
          "z": 4
         },
         {
          "section": "S004",
          "stack": "lil_EM",
          "z": 4
         },
         {
          "section": "S004",
          "stack": "lil_EM",
          "z": 4
         },
         {
          "section": "S004",
          "stack": "lil_EM",
          "z": 4
         },
         {
          "section": "S004",
          "stack": "lil_EM",
          "z": 4
         },
         {
          "section": "S004",
          "stack": "lil_EM",
          "z": 4
         },
         {
          "section": "S004",
          "stack": "lil_EM",
          "z": 4
         },
         {
          "section": "S004",
          "stack": "lil_EM",
          "z": 4
         },
         {
          "section": "S004",
          "stack": "lil_EM",
          "z": 4
         },
         {
          "section": "S004",
          "stack": "lil_EM",
          "z": 4
         },
         {
          "section": "S004",
          "stack": "lil_EM",
          "z": 4
         },
         {
          "section": "S004",
          "stack": "lil_EM",
          "z": 4
         },
         {
          "section": "S004",
          "stack": "lil_EM",
          "z": 4
         },
         {
          "section": "S004",
          "stack": "lil_EM",
          "z": 4
         },
         {
          "section": "S004",
          "stack": "lil_EM",
          "z": 4
         },
         {
          "section": "S004",
          "stack": "lil_EM",
          "z": 4
         },
         {
          "section": "S004",
          "stack": "lil_EM",
          "z": 4
         },
         {
          "section": "S004",
          "stack": "lil_EM",
          "z": 4
         },
         {
          "section": "S004",
          "stack": "lil_EM",
          "z": 4
         },
         {
          "section": "S004",
          "stack": "lil_EM",
          "z": 4
         },
         {
          "section": "S004",
          "stack": "lil_EM",
          "z": 4
         },
         {
          "section": "S004",
          "stack": "lil_EM",
          "z": 4
         },
         {
          "section": "S004",
          "stack": "lil_EM",
          "z": 4
         },
         {
          "section": "S004",
          "stack": "lil_EM",
          "z": 4
         },
         {
          "section": "S004",
          "stack": "lil_EM",
          "z": 4
         },
         {
          "section": "S004",
          "stack": "lil_EM",
          "z": 4
         },
         {
          "section": "S004",
          "stack": "lil_EM",
          "z": 4
         },
         {
          "section": "S004",
          "stack": "lil_EM",
          "z": 4
         },
         {
          "section": "S004",
          "stack": "lil_EM",
          "z": 4
         },
         {
          "section": "S004",
          "stack": "lil_EM",
          "z": 4
         },
         {
          "section": "S004",
          "stack": "lil_EM",
          "z": 4
         },
         {
          "section": "S004",
          "stack": "lil_EM",
          "z": 4
         },
         {
          "section": "S004",
          "stack": "lil_EM",
          "z": 4
         },
         {
          "section": "S004",
          "stack": "lil_EM",
          "z": 4
         },
         {
          "section": "S004",
          "stack": "lil_EM",
          "z": 4
         },
         {
          "section": "S004",
          "stack": "lil_EM",
          "z": 4
         },
         {
          "section": "S004",
          "stack": "lil_EM",
          "z": 4
         },
         {
          "section": "S004",
          "stack": "lil_EM",
          "z": 4
         },
         {
          "section": "S004",
          "stack": "lil_EM",
          "z": 4
         },
         {
          "section": "S004",
          "stack": "lil_EM",
          "z": 4
         },
         {
          "section": "S004",
          "stack": "lil_EM",
          "z": 4
         },
         {
          "section": "S004",
          "stack": "lil_EM",
          "z": 4
         },
         {
          "section": "S004",
          "stack": "lil_EM",
          "z": 4
         },
         {
          "section": "S004",
          "stack": "lil_EM",
          "z": 4
         },
         {
          "section": "S004",
          "stack": "lil_EM",
          "z": 4
         },
         {
          "section": "S004",
          "stack": "lil_EM",
          "z": 4
         },
         {
          "section": "S004",
          "stack": "lil_EM",
          "z": 4
         },
         {
          "section": "S004",
          "stack": "lil_EM",
          "z": 4
         },
         {
          "section": "S004",
          "stack": "lil_EM",
          "z": 4
         },
         {
          "section": "S004",
          "stack": "lil_EM",
          "z": 4
         },
         {
          "section": "S004",
          "stack": "lil_EM",
          "z": 4
         },
         {
          "section": "S004",
          "stack": "lil_EM",
          "z": 4
         },
         {
          "section": "S004",
          "stack": "lil_EM",
          "z": 4
         },
         {
          "section": "S004",
          "stack": "lil_EM",
          "z": 4
         },
         {
          "section": "S004",
          "stack": "lil_EM",
          "z": 4
         },
         {
          "section": "S004",
          "stack": "lil_EM",
          "z": 4
         },
         {
          "section": "S004",
          "stack": "lil_EM",
          "z": 4
         },
         {
          "section": "S004",
          "stack": "lil_EM",
          "z": 4
         },
         {
          "section": "S004",
          "stack": "lil_EM",
          "z": 4
         },
         {
          "section": "S004",
          "stack": "lil_EM",
          "z": 4
         },
         {
          "section": "S004",
          "stack": "lil_EM",
          "z": 4
         },
         {
          "section": "S004",
          "stack": "lil_EM",
          "z": 4
         },
         {
          "section": "S004",
          "stack": "lil_EM",
          "z": 4
         },
         {
          "section": "S004",
          "stack": "lil_EM",
          "z": 4
         },
         {
          "section": "S004",
          "stack": "lil_EM",
          "z": 4
         },
         {
          "section": "S004",
          "stack": "lil_EM",
          "z": 4
         },
         {
          "section": "S004",
          "stack": "lil_EM",
          "z": 4
         },
         {
          "section": "S004",
          "stack": "lil_EM",
          "z": 4
         },
         {
          "section": "S004",
          "stack": "lil_EM",
          "z": 4
         },
         {
          "section": "S004",
          "stack": "lil_EM",
          "z": 4
         },
         {
          "section": "S004",
          "stack": "lil_EM",
          "z": 4
         },
         {
          "section": "S004",
          "stack": "lil_EM",
          "z": 4
         },
         {
          "section": "S005",
          "stack": "hoechst",
          "z": 5
         },
         {
          "section": "S005",
          "stack": "hoechst",
          "z": 5
         },
         {
          "section": "S005",
          "stack": "hoechst",
          "z": 5
         },
         {
          "section": "S005",
          "stack": "hoechst",
          "z": 5
         },
         {
          "section": "S005",
          "stack": "hoechst",
          "z": 5
         },
         {
          "section": "S005",
          "stack": "hoechst",
          "z": 5
         },
         {
          "section": "S005",
          "stack": "hoechst",
          "z": 5
         },
         {
          "section": "S005",
          "stack": "hoechst",
          "z": 5
         },
         {
          "section": "S005",
          "stack": "hoechst",
          "z": 5
         },
         {
          "section": "S005",
          "stack": "hoechst",
          "z": 5
         },
         {
          "section": "S005",
          "stack": "hoechst",
          "z": 5
         },
         {
          "section": "S005",
          "stack": "hoechst",
          "z": 5
         },
         {
          "section": "S005",
          "stack": "insulin",
          "z": 5
         },
         {
          "section": "S005",
          "stack": "insulin",
          "z": 5
         },
         {
          "section": "S005",
          "stack": "insulin",
          "z": 5
         },
         {
          "section": "S005",
          "stack": "insulin",
          "z": 5
         },
         {
          "section": "S005",
          "stack": "insulin",
          "z": 5
         },
         {
          "section": "S005",
          "stack": "insulin",
          "z": 5
         },
         {
          "section": "S005",
          "stack": "insulin",
          "z": 5
         },
         {
          "section": "S005",
          "stack": "insulin",
          "z": 5
         },
         {
          "section": "S005",
          "stack": "insulin",
          "z": 5
         },
         {
          "section": "S005",
          "stack": "insulin",
          "z": 5
         },
         {
          "section": "S005",
          "stack": "insulin",
          "z": 5
         },
         {
          "section": "S005",
          "stack": "insulin",
          "z": 5
         },
         {
          "section": "S005",
          "stack": "big_EM",
          "z": 5
         },
         {
          "section": "S005",
          "stack": "big_EM",
          "z": 5
         },
         {
          "section": "S005",
          "stack": "big_EM",
          "z": 5
         },
         {
          "section": "S005",
          "stack": "big_EM",
          "z": 5
         },
         {
          "section": "S005",
          "stack": "big_EM",
          "z": 5
         },
         {
          "section": "S005",
          "stack": "big_EM",
          "z": 5
         },
         {
          "section": "S005",
          "stack": "big_EM",
          "z": 5
         },
         {
          "section": "S005",
          "stack": "big_EM",
          "z": 5
         },
         {
          "section": "S005",
          "stack": "big_EM",
          "z": 5
         },
         {
          "section": "S005",
          "stack": "big_EM",
          "z": 5
         },
         {
          "section": "S005",
          "stack": "big_EM",
          "z": 5
         },
         {
          "section": "S005",
          "stack": "big_EM",
          "z": 5
         },
         {
          "section": "S005",
          "stack": "lil_EM",
          "z": 5
         },
         {
          "section": "S005",
          "stack": "lil_EM",
          "z": 5
         },
         {
          "section": "S005",
          "stack": "lil_EM",
          "z": 5
         },
         {
          "section": "S005",
          "stack": "lil_EM",
          "z": 5
         },
         {
          "section": "S005",
          "stack": "lil_EM",
          "z": 5
         },
         {
          "section": "S005",
          "stack": "lil_EM",
          "z": 5
         },
         {
          "section": "S005",
          "stack": "lil_EM",
          "z": 5
         },
         {
          "section": "S005",
          "stack": "lil_EM",
          "z": 5
         },
         {
          "section": "S005",
          "stack": "lil_EM",
          "z": 5
         },
         {
          "section": "S005",
          "stack": "lil_EM",
          "z": 5
         },
         {
          "section": "S005",
          "stack": "lil_EM",
          "z": 5
         },
         {
          "section": "S005",
          "stack": "lil_EM",
          "z": 5
         },
         {
          "section": "S005",
          "stack": "lil_EM",
          "z": 5
         },
         {
          "section": "S005",
          "stack": "lil_EM",
          "z": 5
         },
         {
          "section": "S005",
          "stack": "lil_EM",
          "z": 5
         },
         {
          "section": "S005",
          "stack": "lil_EM",
          "z": 5
         },
         {
          "section": "S005",
          "stack": "lil_EM",
          "z": 5
         },
         {
          "section": "S005",
          "stack": "lil_EM",
          "z": 5
         },
         {
          "section": "S005",
          "stack": "lil_EM",
          "z": 5
         },
         {
          "section": "S005",
          "stack": "lil_EM",
          "z": 5
         },
         {
          "section": "S005",
          "stack": "lil_EM",
          "z": 5
         },
         {
          "section": "S005",
          "stack": "lil_EM",
          "z": 5
         },
         {
          "section": "S005",
          "stack": "lil_EM",
          "z": 5
         },
         {
          "section": "S005",
          "stack": "lil_EM",
          "z": 5
         },
         {
          "section": "S005",
          "stack": "lil_EM",
          "z": 5
         },
         {
          "section": "S005",
          "stack": "lil_EM",
          "z": 5
         },
         {
          "section": "S005",
          "stack": "lil_EM",
          "z": 5
         },
         {
          "section": "S005",
          "stack": "lil_EM",
          "z": 5
         },
         {
          "section": "S005",
          "stack": "lil_EM",
          "z": 5
         },
         {
          "section": "S005",
          "stack": "lil_EM",
          "z": 5
         },
         {
          "section": "S005",
          "stack": "lil_EM",
          "z": 5
         },
         {
          "section": "S005",
          "stack": "lil_EM",
          "z": 5
         },
         {
          "section": "S005",
          "stack": "lil_EM",
          "z": 5
         },
         {
          "section": "S005",
          "stack": "lil_EM",
          "z": 5
         },
         {
          "section": "S005",
          "stack": "lil_EM",
          "z": 5
         },
         {
          "section": "S005",
          "stack": "lil_EM",
          "z": 5
         },
         {
          "section": "S005",
          "stack": "lil_EM",
          "z": 5
         },
         {
          "section": "S005",
          "stack": "lil_EM",
          "z": 5
         },
         {
          "section": "S005",
          "stack": "lil_EM",
          "z": 5
         },
         {
          "section": "S005",
          "stack": "lil_EM",
          "z": 5
         },
         {
          "section": "S005",
          "stack": "lil_EM",
          "z": 5
         },
         {
          "section": "S005",
          "stack": "lil_EM",
          "z": 5
         },
         {
          "section": "S005",
          "stack": "lil_EM",
          "z": 5
         },
         {
          "section": "S005",
          "stack": "lil_EM",
          "z": 5
         },
         {
          "section": "S005",
          "stack": "lil_EM",
          "z": 5
         },
         {
          "section": "S005",
          "stack": "lil_EM",
          "z": 5
         },
         {
          "section": "S005",
          "stack": "lil_EM",
          "z": 5
         },
         {
          "section": "S005",
          "stack": "lil_EM",
          "z": 5
         },
         {
          "section": "S005",
          "stack": "lil_EM",
          "z": 5
         },
         {
          "section": "S005",
          "stack": "lil_EM",
          "z": 5
         },
         {
          "section": "S005",
          "stack": "lil_EM",
          "z": 5
         },
         {
          "section": "S005",
          "stack": "lil_EM",
          "z": 5
         },
         {
          "section": "S005",
          "stack": "lil_EM",
          "z": 5
         },
         {
          "section": "S005",
          "stack": "lil_EM",
          "z": 5
         },
         {
          "section": "S005",
          "stack": "lil_EM",
          "z": 5
         },
         {
          "section": "S005",
          "stack": "lil_EM",
          "z": 5
         },
         {
          "section": "S005",
          "stack": "lil_EM",
          "z": 5
         },
         {
          "section": "S005",
          "stack": "lil_EM",
          "z": 5
         },
         {
          "section": "S005",
          "stack": "lil_EM",
          "z": 5
         },
         {
          "section": "S005",
          "stack": "lil_EM",
          "z": 5
         },
         {
          "section": "S005",
          "stack": "lil_EM",
          "z": 5
         },
         {
          "section": "S005",
          "stack": "lil_EM",
          "z": 5
         },
         {
          "section": "S005",
          "stack": "lil_EM",
          "z": 5
         },
         {
          "section": "S005",
          "stack": "lil_EM",
          "z": 5
         },
         {
          "section": "S005",
          "stack": "lil_EM",
          "z": 5
         },
         {
          "section": "S005",
          "stack": "lil_EM",
          "z": 5
         },
         {
          "section": "S005",
          "stack": "lil_EM",
          "z": 5
         },
         {
          "section": "S005",
          "stack": "lil_EM",
          "z": 5
         },
         {
          "section": "S005",
          "stack": "lil_EM",
          "z": 5
         },
         {
          "section": "S005",
          "stack": "lil_EM",
          "z": 5
         },
         {
          "section": "S005",
          "stack": "lil_EM",
          "z": 5
         },
         {
          "section": "S005",
          "stack": "lil_EM",
          "z": 5
         },
         {
          "section": "S005",
          "stack": "lil_EM",
          "z": 5
         },
         {
          "section": "S005",
          "stack": "lil_EM",
          "z": 5
         },
         {
          "section": "S005",
          "stack": "lil_EM",
          "z": 5
         },
         {
          "section": "S005",
          "stack": "lil_EM",
          "z": 5
         },
         {
          "section": "S005",
          "stack": "lil_EM",
          "z": 5
         },
         {
          "section": "S005",
          "stack": "lil_EM",
          "z": 5
         },
         {
          "section": "S005",
          "stack": "lil_EM",
          "z": 5
         },
         {
          "section": "S005",
          "stack": "lil_EM",
          "z": 5
         },
         {
          "section": "S005",
          "stack": "lil_EM",
          "z": 5
         },
         {
          "section": "S005",
          "stack": "lil_EM",
          "z": 5
         },
         {
          "section": "S005",
          "stack": "lil_EM",
          "z": 5
         },
         {
          "section": "S005",
          "stack": "lil_EM",
          "z": 5
         },
         {
          "section": "S005",
          "stack": "lil_EM",
          "z": 5
         },
         {
          "section": "S005",
          "stack": "lil_EM",
          "z": 5
         },
         {
          "section": "S005",
          "stack": "lil_EM",
          "z": 5
         },
         {
          "section": "S005",
          "stack": "lil_EM",
          "z": 5
         },
         {
          "section": "S005",
          "stack": "lil_EM",
          "z": 5
         },
         {
          "section": "S005",
          "stack": "lil_EM",
          "z": 5
         },
         {
          "section": "S005",
          "stack": "lil_EM",
          "z": 5
         },
         {
          "section": "S005",
          "stack": "lil_EM",
          "z": 5
         },
         {
          "section": "S005",
          "stack": "lil_EM",
          "z": 5
         },
         {
          "section": "S005",
          "stack": "lil_EM",
          "z": 5
         },
         {
          "section": "S005",
          "stack": "lil_EM",
          "z": 5
         },
         {
          "section": "S005",
          "stack": "lil_EM",
          "z": 5
         },
         {
          "section": "S005",
          "stack": "lil_EM",
          "z": 5
         },
         {
          "section": "S005",
          "stack": "lil_EM",
          "z": 5
         },
         {
          "section": "S005",
          "stack": "lil_EM",
          "z": 5
         },
         {
          "section": "S005",
          "stack": "lil_EM",
          "z": 5
         },
         {
          "section": "S005",
          "stack": "lil_EM",
          "z": 5
         },
         {
          "section": "S005",
          "stack": "lil_EM",
          "z": 5
         },
         {
          "section": "S005",
          "stack": "lil_EM",
          "z": 5
         },
         {
          "section": "S005",
          "stack": "lil_EM",
          "z": 5
         },
         {
          "section": "S005",
          "stack": "lil_EM",
          "z": 5
         },
         {
          "section": "S005",
          "stack": "lil_EM",
          "z": 5
         },
         {
          "section": "S005",
          "stack": "lil_EM",
          "z": 5
         },
         {
          "section": "S005",
          "stack": "lil_EM",
          "z": 5
         },
         {
          "section": "S005",
          "stack": "lil_EM",
          "z": 5
         },
         {
          "section": "S005",
          "stack": "lil_EM",
          "z": 5
         },
         {
          "section": "S005",
          "stack": "lil_EM",
          "z": 5
         },
         {
          "section": "S005",
          "stack": "lil_EM",
          "z": 5
         },
         {
          "section": "S005",
          "stack": "lil_EM",
          "z": 5
         },
         {
          "section": "S005",
          "stack": "lil_EM",
          "z": 5
         },
         {
          "section": "S005",
          "stack": "lil_EM",
          "z": 5
         },
         {
          "section": "S005",
          "stack": "lil_EM",
          "z": 5
         },
         {
          "section": "S005",
          "stack": "lil_EM",
          "z": 5
         },
         {
          "section": "S005",
          "stack": "lil_EM",
          "z": 5
         },
         {
          "section": "S005",
          "stack": "lil_EM",
          "z": 5
         },
         {
          "section": "S005",
          "stack": "lil_EM",
          "z": 5
         },
         {
          "section": "S005",
          "stack": "lil_EM",
          "z": 5
         },
         {
          "section": "S005",
          "stack": "lil_EM",
          "z": 5
         },
         {
          "section": "S005",
          "stack": "lil_EM",
          "z": 5
         },
         {
          "section": "S005",
          "stack": "lil_EM",
          "z": 5
         },
         {
          "section": "S005",
          "stack": "lil_EM",
          "z": 5
         },
         {
          "section": "S005",
          "stack": "lil_EM",
          "z": 5
         },
         {
          "section": "S005",
          "stack": "lil_EM",
          "z": 5
         },
         {
          "section": "S005",
          "stack": "lil_EM",
          "z": 5
         },
         {
          "section": "S005",
          "stack": "lil_EM",
          "z": 5
         },
         {
          "section": "S005",
          "stack": "lil_EM",
          "z": 5
         },
         {
          "section": "S005",
          "stack": "lil_EM",
          "z": 5
         },
         {
          "section": "S005",
          "stack": "lil_EM",
          "z": 5
         },
         {
          "section": "S005",
          "stack": "lil_EM",
          "z": 5
         },
         {
          "section": "S005",
          "stack": "lil_EM",
          "z": 5
         },
         {
          "section": "S005",
          "stack": "lil_EM",
          "z": 5
         },
         {
          "section": "S005",
          "stack": "lil_EM",
          "z": 5
         },
         {
          "section": "S005",
          "stack": "lil_EM",
          "z": 5
         },
         {
          "section": "S005",
          "stack": "lil_EM",
          "z": 5
         },
         {
          "section": "S005",
          "stack": "lil_EM",
          "z": 5
         },
         {
          "section": "S005",
          "stack": "lil_EM",
          "z": 5
         },
         {
          "section": "S005",
          "stack": "lil_EM",
          "z": 5
         },
         {
          "section": "S005",
          "stack": "lil_EM",
          "z": 5
         },
         {
          "section": "S005",
          "stack": "lil_EM",
          "z": 5
         },
         {
          "section": "S005",
          "stack": "lil_EM",
          "z": 5
         },
         {
          "section": "S005",
          "stack": "lil_EM",
          "z": 5
         },
         {
          "section": "S005",
          "stack": "lil_EM",
          "z": 5
         },
         {
          "section": "S005",
          "stack": "lil_EM",
          "z": 5
         },
         {
          "section": "S005",
          "stack": "lil_EM",
          "z": 5
         },
         {
          "section": "S005",
          "stack": "lil_EM",
          "z": 5
         },
         {
          "section": "S005",
          "stack": "lil_EM",
          "z": 5
         },
         {
          "section": "S005",
          "stack": "lil_EM",
          "z": 5
         },
         {
          "section": "S005",
          "stack": "lil_EM",
          "z": 5
         },
         {
          "section": "S005",
          "stack": "lil_EM",
          "z": 5
         },
         {
          "section": "S005",
          "stack": "lil_EM",
          "z": 5
         },
         {
          "section": "S005",
          "stack": "lil_EM",
          "z": 5
         },
         {
          "section": "S005",
          "stack": "lil_EM",
          "z": 5
         },
         {
          "section": "S005",
          "stack": "lil_EM",
          "z": 5
         },
         {
          "section": "S005",
          "stack": "lil_EM",
          "z": 5
         },
         {
          "section": "S005",
          "stack": "lil_EM",
          "z": 5
         },
         {
          "section": "S005",
          "stack": "lil_EM",
          "z": 5
         },
         {
          "section": "S005",
          "stack": "lil_EM",
          "z": 5
         },
         {
          "section": "S005",
          "stack": "lil_EM",
          "z": 5
         },
         {
          "section": "S005",
          "stack": "lil_EM",
          "z": 5
         },
         {
          "section": "S005",
          "stack": "lil_EM",
          "z": 5
         },
         {
          "section": "S005",
          "stack": "lil_EM",
          "z": 5
         },
         {
          "section": "S005",
          "stack": "lil_EM",
          "z": 5
         },
         {
          "section": "S005",
          "stack": "lil_EM",
          "z": 5
         },
         {
          "section": "S005",
          "stack": "lil_EM",
          "z": 5
         },
         {
          "section": "S005",
          "stack": "lil_EM",
          "z": 5
         },
         {
          "section": "S005",
          "stack": "lil_EM",
          "z": 5
         },
         {
          "section": "S005",
          "stack": "lil_EM",
          "z": 5
         },
         {
          "section": "S005",
          "stack": "lil_EM",
          "z": 5
         },
         {
          "section": "S005",
          "stack": "lil_EM",
          "z": 5
         },
         {
          "section": "S005",
          "stack": "lil_EM",
          "z": 5
         },
         {
          "section": "S005",
          "stack": "lil_EM",
          "z": 5
         },
         {
          "section": "S005",
          "stack": "lil_EM",
          "z": 5
         },
         {
          "section": "S005",
          "stack": "lil_EM",
          "z": 5
         },
         {
          "section": "S005",
          "stack": "lil_EM",
          "z": 5
         },
         {
          "section": "S005",
          "stack": "lil_EM",
          "z": 5
         },
         {
          "section": "S005",
          "stack": "lil_EM",
          "z": 5
         },
         {
          "section": "S005",
          "stack": "lil_EM",
          "z": 5
         },
         {
          "section": "S005",
          "stack": "lil_EM",
          "z": 5
         },
         {
          "section": "S005",
          "stack": "lil_EM",
          "z": 5
         },
         {
          "section": "S005",
          "stack": "lil_EM",
          "z": 5
         },
         {
          "section": "S005",
          "stack": "lil_EM",
          "z": 5
         },
         {
          "section": "S005",
          "stack": "lil_EM",
          "z": 5
         },
         {
          "section": "S005",
          "stack": "lil_EM",
          "z": 5
         },
         {
          "section": "S005",
          "stack": "lil_EM",
          "z": 5
         },
         {
          "section": "S005",
          "stack": "lil_EM",
          "z": 5
         },
         {
          "section": "S005",
          "stack": "lil_EM",
          "z": 5
         },
         {
          "section": "S005",
          "stack": "lil_EM",
          "z": 5
         },
         {
          "section": "S005",
          "stack": "lil_EM",
          "z": 5
         },
         {
          "section": "S005",
          "stack": "lil_EM",
          "z": 5
         },
         {
          "section": "S005",
          "stack": "lil_EM",
          "z": 5
         },
         {
          "section": "S005",
          "stack": "lil_EM",
          "z": 5
         },
         {
          "section": "S005",
          "stack": "lil_EM",
          "z": 5
         },
         {
          "section": "S005",
          "stack": "lil_EM",
          "z": 5
         },
         {
          "section": "S005",
          "stack": "lil_EM",
          "z": 5
         },
         {
          "section": "S005",
          "stack": "lil_EM",
          "z": 5
         },
         {
          "section": "S005",
          "stack": "lil_EM",
          "z": 5
         },
         {
          "section": "S005",
          "stack": "lil_EM",
          "z": 5
         },
         {
          "section": "S005",
          "stack": "lil_EM",
          "z": 5
         },
         {
          "section": "S005",
          "stack": "lil_EM",
          "z": 5
         },
         {
          "section": "S005",
          "stack": "lil_EM",
          "z": 5
         },
         {
          "section": "S005",
          "stack": "lil_EM",
          "z": 5
         },
         {
          "section": "S005",
          "stack": "lil_EM",
          "z": 5
         },
         {
          "section": "S005",
          "stack": "lil_EM",
          "z": 5
         },
         {
          "section": "S005",
          "stack": "lil_EM",
          "z": 5
         },
         {
          "section": "S005",
          "stack": "lil_EM",
          "z": 5
         },
         {
          "section": "S005",
          "stack": "lil_EM",
          "z": 5
         },
         {
          "section": "S005",
          "stack": "lil_EM",
          "z": 5
         },
         {
          "section": "S005",
          "stack": "lil_EM",
          "z": 5
         },
         {
          "section": "S005",
          "stack": "lil_EM",
          "z": 5
         },
         {
          "section": "S005",
          "stack": "lil_EM",
          "z": 5
         },
         {
          "section": "S005",
          "stack": "lil_EM",
          "z": 5
         },
         {
          "section": "S005",
          "stack": "lil_EM",
          "z": 5
         },
         {
          "section": "S005",
          "stack": "lil_EM",
          "z": 5
         },
         {
          "section": "S005",
          "stack": "lil_EM",
          "z": 5
         },
         {
          "section": "S005",
          "stack": "lil_EM",
          "z": 5
         },
         {
          "section": "S005",
          "stack": "lil_EM",
          "z": 5
         },
         {
          "section": "S005",
          "stack": "lil_EM",
          "z": 5
         },
         {
          "section": "S005",
          "stack": "lil_EM",
          "z": 5
         },
         {
          "section": "S005",
          "stack": "lil_EM",
          "z": 5
         },
         {
          "section": "S005",
          "stack": "lil_EM",
          "z": 5
         },
         {
          "section": "S005",
          "stack": "lil_EM",
          "z": 5
         },
         {
          "section": "S005",
          "stack": "lil_EM",
          "z": 5
         },
         {
          "section": "S005",
          "stack": "lil_EM",
          "z": 5
         },
         {
          "section": "S005",
          "stack": "lil_EM",
          "z": 5
         },
         {
          "section": "S005",
          "stack": "lil_EM",
          "z": 5
         },
         {
          "section": "S005",
          "stack": "lil_EM",
          "z": 5
         },
         {
          "section": "S005",
          "stack": "lil_EM",
          "z": 5
         },
         {
          "section": "S005",
          "stack": "lil_EM",
          "z": 5
         },
         {
          "section": "S005",
          "stack": "lil_EM",
          "z": 5
         },
         {
          "section": "S005",
          "stack": "lil_EM",
          "z": 5
         },
         {
          "section": "S005",
          "stack": "lil_EM",
          "z": 5
         },
         {
          "section": "S005",
          "stack": "lil_EM",
          "z": 5
         },
         {
          "section": "S005",
          "stack": "lil_EM",
          "z": 5
         },
         {
          "section": "S005",
          "stack": "lil_EM",
          "z": 5
         },
         {
          "section": "S005",
          "stack": "lil_EM",
          "z": 5
         },
         {
          "section": "S005",
          "stack": "lil_EM",
          "z": 5
         },
         {
          "section": "S005",
          "stack": "lil_EM",
          "z": 5
         },
         {
          "section": "S005",
          "stack": "lil_EM",
          "z": 5
         },
         {
          "section": "S005",
          "stack": "lil_EM",
          "z": 5
         },
         {
          "section": "S005",
          "stack": "lil_EM",
          "z": 5
         },
         {
          "section": "S005",
          "stack": "lil_EM",
          "z": 5
         },
         {
          "section": "S005",
          "stack": "lil_EM",
          "z": 5
         },
         {
          "section": "S005",
          "stack": "lil_EM",
          "z": 5
         },
         {
          "section": "S005",
          "stack": "lil_EM",
          "z": 5
         },
         {
          "section": "S005",
          "stack": "lil_EM",
          "z": 5
         },
         {
          "section": "S005",
          "stack": "lil_EM",
          "z": 5
         },
         {
          "section": "S005",
          "stack": "lil_EM",
          "z": 5
         },
         {
          "section": "S005",
          "stack": "lil_EM",
          "z": 5
         },
         {
          "section": "S005",
          "stack": "lil_EM",
          "z": 5
         },
         {
          "section": "S005",
          "stack": "lil_EM",
          "z": 5
         },
         {
          "section": "S005",
          "stack": "lil_EM",
          "z": 5
         },
         {
          "section": "S005",
          "stack": "lil_EM",
          "z": 5
         },
         {
          "section": "S005",
          "stack": "lil_EM",
          "z": 5
         },
         {
          "section": "S005",
          "stack": "lil_EM",
          "z": 5
         },
         {
          "section": "S005",
          "stack": "lil_EM",
          "z": 5
         },
         {
          "section": "S005",
          "stack": "lil_EM",
          "z": 5
         },
         {
          "section": "S005",
          "stack": "lil_EM",
          "z": 5
         },
         {
          "section": "S005",
          "stack": "lil_EM",
          "z": 5
         },
         {
          "section": "S005",
          "stack": "lil_EM",
          "z": 5
         },
         {
          "section": "S005",
          "stack": "lil_EM",
          "z": 5
         },
         {
          "section": "S005",
          "stack": "lil_EM",
          "z": 5
         },
         {
          "section": "S005",
          "stack": "lil_EM",
          "z": 5
         },
         {
          "section": "S005",
          "stack": "lil_EM",
          "z": 5
         },
         {
          "section": "S005",
          "stack": "lil_EM",
          "z": 5
         },
         {
          "section": "S005",
          "stack": "lil_EM",
          "z": 5
         },
         {
          "section": "S005",
          "stack": "lil_EM",
          "z": 5
         },
         {
          "section": "S005",
          "stack": "lil_EM",
          "z": 5
         },
         {
          "section": "S005",
          "stack": "lil_EM",
          "z": 5
         },
         {
          "section": "S005",
          "stack": "lil_EM",
          "z": 5
         },
         {
          "section": "S005",
          "stack": "lil_EM",
          "z": 5
         },
         {
          "section": "S005",
          "stack": "lil_EM",
          "z": 5
         },
         {
          "section": "S005",
          "stack": "lil_EM",
          "z": 5
         },
         {
          "section": "S005",
          "stack": "lil_EM",
          "z": 5
         },
         {
          "section": "S005",
          "stack": "lil_EM",
          "z": 5
         },
         {
          "section": "S005",
          "stack": "lil_EM",
          "z": 5
         },
         {
          "section": "S005",
          "stack": "lil_EM",
          "z": 5
         },
         {
          "section": "S005",
          "stack": "lil_EM",
          "z": 5
         },
         {
          "section": "S005",
          "stack": "lil_EM",
          "z": 5
         },
         {
          "section": "S005",
          "stack": "lil_EM",
          "z": 5
         },
         {
          "section": "S005",
          "stack": "lil_EM",
          "z": 5
         },
         {
          "section": "S005",
          "stack": "lil_EM",
          "z": 5
         },
         {
          "section": "S005",
          "stack": "lil_EM",
          "z": 5
         },
         {
          "section": "S005",
          "stack": "lil_EM",
          "z": 5
         },
         {
          "section": "S005",
          "stack": "lil_EM",
          "z": 5
         },
         {
          "section": "S005",
          "stack": "lil_EM",
          "z": 5
         },
         {
          "section": "S005",
          "stack": "lil_EM",
          "z": 5
         },
         {
          "section": "S005",
          "stack": "lil_EM",
          "z": 5
         },
         {
          "section": "S005",
          "stack": "lil_EM",
          "z": 5
         },
         {
          "section": "S005",
          "stack": "lil_EM",
          "z": 5
         },
         {
          "section": "S005",
          "stack": "lil_EM",
          "z": 5
         },
         {
          "section": "S005",
          "stack": "lil_EM",
          "z": 5
         },
         {
          "section": "S005",
          "stack": "lil_EM",
          "z": 5
         },
         {
          "section": "S005",
          "stack": "lil_EM",
          "z": 5
         },
         {
          "section": "S005",
          "stack": "lil_EM",
          "z": 5
         },
         {
          "section": "S005",
          "stack": "lil_EM",
          "z": 5
         },
         {
          "section": "S005",
          "stack": "lil_EM",
          "z": 5
         },
         {
          "section": "S005",
          "stack": "lil_EM",
          "z": 5
         },
         {
          "section": "S005",
          "stack": "lil_EM",
          "z": 5
         },
         {
          "section": "S005",
          "stack": "lil_EM",
          "z": 5
         },
         {
          "section": "S005",
          "stack": "lil_EM",
          "z": 5
         },
         {
          "section": "S005",
          "stack": "lil_EM",
          "z": 5
         },
         {
          "section": "S005",
          "stack": "lil_EM",
          "z": 5
         },
         {
          "section": "S005",
          "stack": "lil_EM",
          "z": 5
         },
         {
          "section": "S005",
          "stack": "lil_EM",
          "z": 5
         },
         {
          "section": "S005",
          "stack": "lil_EM",
          "z": 5
         },
         {
          "section": "S005",
          "stack": "lil_EM",
          "z": 5
         },
         {
          "section": "S005",
          "stack": "lil_EM",
          "z": 5
         },
         {
          "section": "S005",
          "stack": "lil_EM",
          "z": 5
         },
         {
          "section": "S005",
          "stack": "lil_EM",
          "z": 5
         },
         {
          "section": "S005",
          "stack": "lil_EM",
          "z": 5
         },
         {
          "section": "S005",
          "stack": "lil_EM",
          "z": 5
         },
         {
          "section": "S005",
          "stack": "lil_EM",
          "z": 5
         },
         {
          "section": "S005",
          "stack": "lil_EM",
          "z": 5
         },
         {
          "section": "S005",
          "stack": "lil_EM",
          "z": 5
         },
         {
          "section": "S005",
          "stack": "lil_EM",
          "z": 5
         },
         {
          "section": "S006",
          "stack": "hoechst",
          "z": 6
         },
         {
          "section": "S006",
          "stack": "hoechst",
          "z": 6
         },
         {
          "section": "S006",
          "stack": "hoechst",
          "z": 6
         },
         {
          "section": "S006",
          "stack": "hoechst",
          "z": 6
         },
         {
          "section": "S006",
          "stack": "hoechst",
          "z": 6
         },
         {
          "section": "S006",
          "stack": "hoechst",
          "z": 6
         },
         {
          "section": "S006",
          "stack": "hoechst",
          "z": 6
         },
         {
          "section": "S006",
          "stack": "hoechst",
          "z": 6
         },
         {
          "section": "S006",
          "stack": "hoechst",
          "z": 6
         },
         {
          "section": "S006",
          "stack": "hoechst",
          "z": 6
         },
         {
          "section": "S006",
          "stack": "hoechst",
          "z": 6
         },
         {
          "section": "S006",
          "stack": "hoechst",
          "z": 6
         },
         {
          "section": "S006",
          "stack": "insulin",
          "z": 6
         },
         {
          "section": "S006",
          "stack": "insulin",
          "z": 6
         },
         {
          "section": "S006",
          "stack": "insulin",
          "z": 6
         },
         {
          "section": "S006",
          "stack": "insulin",
          "z": 6
         },
         {
          "section": "S006",
          "stack": "insulin",
          "z": 6
         },
         {
          "section": "S006",
          "stack": "insulin",
          "z": 6
         },
         {
          "section": "S006",
          "stack": "insulin",
          "z": 6
         },
         {
          "section": "S006",
          "stack": "insulin",
          "z": 6
         },
         {
          "section": "S006",
          "stack": "insulin",
          "z": 6
         },
         {
          "section": "S006",
          "stack": "insulin",
          "z": 6
         },
         {
          "section": "S006",
          "stack": "insulin",
          "z": 6
         },
         {
          "section": "S006",
          "stack": "insulin",
          "z": 6
         },
         {
          "section": "S006",
          "stack": "big_EM",
          "z": 6
         },
         {
          "section": "S006",
          "stack": "big_EM",
          "z": 6
         },
         {
          "section": "S006",
          "stack": "big_EM",
          "z": 6
         },
         {
          "section": "S006",
          "stack": "big_EM",
          "z": 6
         },
         {
          "section": "S006",
          "stack": "big_EM",
          "z": 6
         },
         {
          "section": "S006",
          "stack": "big_EM",
          "z": 6
         },
         {
          "section": "S006",
          "stack": "big_EM",
          "z": 6
         },
         {
          "section": "S006",
          "stack": "big_EM",
          "z": 6
         },
         {
          "section": "S006",
          "stack": "big_EM",
          "z": 6
         },
         {
          "section": "S006",
          "stack": "big_EM",
          "z": 6
         },
         {
          "section": "S006",
          "stack": "big_EM",
          "z": 6
         },
         {
          "section": "S006",
          "stack": "big_EM",
          "z": 6
         },
         {
          "section": "S006",
          "stack": "lil_EM",
          "z": 6
         },
         {
          "section": "S006",
          "stack": "lil_EM",
          "z": 6
         },
         {
          "section": "S006",
          "stack": "lil_EM",
          "z": 6
         },
         {
          "section": "S006",
          "stack": "lil_EM",
          "z": 6
         },
         {
          "section": "S006",
          "stack": "lil_EM",
          "z": 6
         },
         {
          "section": "S006",
          "stack": "lil_EM",
          "z": 6
         },
         {
          "section": "S006",
          "stack": "lil_EM",
          "z": 6
         },
         {
          "section": "S006",
          "stack": "lil_EM",
          "z": 6
         },
         {
          "section": "S006",
          "stack": "lil_EM",
          "z": 6
         },
         {
          "section": "S006",
          "stack": "lil_EM",
          "z": 6
         },
         {
          "section": "S006",
          "stack": "lil_EM",
          "z": 6
         },
         {
          "section": "S006",
          "stack": "lil_EM",
          "z": 6
         },
         {
          "section": "S006",
          "stack": "lil_EM",
          "z": 6
         },
         {
          "section": "S006",
          "stack": "lil_EM",
          "z": 6
         },
         {
          "section": "S006",
          "stack": "lil_EM",
          "z": 6
         },
         {
          "section": "S006",
          "stack": "lil_EM",
          "z": 6
         },
         {
          "section": "S006",
          "stack": "lil_EM",
          "z": 6
         },
         {
          "section": "S006",
          "stack": "lil_EM",
          "z": 6
         },
         {
          "section": "S006",
          "stack": "lil_EM",
          "z": 6
         },
         {
          "section": "S006",
          "stack": "lil_EM",
          "z": 6
         },
         {
          "section": "S006",
          "stack": "lil_EM",
          "z": 6
         },
         {
          "section": "S006",
          "stack": "lil_EM",
          "z": 6
         },
         {
          "section": "S006",
          "stack": "lil_EM",
          "z": 6
         },
         {
          "section": "S006",
          "stack": "lil_EM",
          "z": 6
         },
         {
          "section": "S006",
          "stack": "lil_EM",
          "z": 6
         },
         {
          "section": "S006",
          "stack": "lil_EM",
          "z": 6
         },
         {
          "section": "S006",
          "stack": "lil_EM",
          "z": 6
         },
         {
          "section": "S006",
          "stack": "lil_EM",
          "z": 6
         },
         {
          "section": "S006",
          "stack": "lil_EM",
          "z": 6
         },
         {
          "section": "S006",
          "stack": "lil_EM",
          "z": 6
         },
         {
          "section": "S006",
          "stack": "lil_EM",
          "z": 6
         },
         {
          "section": "S006",
          "stack": "lil_EM",
          "z": 6
         },
         {
          "section": "S006",
          "stack": "lil_EM",
          "z": 6
         },
         {
          "section": "S006",
          "stack": "lil_EM",
          "z": 6
         },
         {
          "section": "S006",
          "stack": "lil_EM",
          "z": 6
         },
         {
          "section": "S006",
          "stack": "lil_EM",
          "z": 6
         },
         {
          "section": "S006",
          "stack": "lil_EM",
          "z": 6
         },
         {
          "section": "S006",
          "stack": "lil_EM",
          "z": 6
         },
         {
          "section": "S006",
          "stack": "lil_EM",
          "z": 6
         },
         {
          "section": "S006",
          "stack": "lil_EM",
          "z": 6
         },
         {
          "section": "S006",
          "stack": "lil_EM",
          "z": 6
         },
         {
          "section": "S006",
          "stack": "lil_EM",
          "z": 6
         },
         {
          "section": "S006",
          "stack": "lil_EM",
          "z": 6
         },
         {
          "section": "S006",
          "stack": "lil_EM",
          "z": 6
         },
         {
          "section": "S006",
          "stack": "lil_EM",
          "z": 6
         },
         {
          "section": "S006",
          "stack": "lil_EM",
          "z": 6
         },
         {
          "section": "S006",
          "stack": "lil_EM",
          "z": 6
         },
         {
          "section": "S006",
          "stack": "lil_EM",
          "z": 6
         },
         {
          "section": "S006",
          "stack": "lil_EM",
          "z": 6
         },
         {
          "section": "S006",
          "stack": "lil_EM",
          "z": 6
         },
         {
          "section": "S006",
          "stack": "lil_EM",
          "z": 6
         },
         {
          "section": "S006",
          "stack": "lil_EM",
          "z": 6
         },
         {
          "section": "S006",
          "stack": "lil_EM",
          "z": 6
         },
         {
          "section": "S006",
          "stack": "lil_EM",
          "z": 6
         },
         {
          "section": "S006",
          "stack": "lil_EM",
          "z": 6
         },
         {
          "section": "S006",
          "stack": "lil_EM",
          "z": 6
         },
         {
          "section": "S006",
          "stack": "lil_EM",
          "z": 6
         },
         {
          "section": "S006",
          "stack": "lil_EM",
          "z": 6
         },
         {
          "section": "S006",
          "stack": "lil_EM",
          "z": 6
         },
         {
          "section": "S006",
          "stack": "lil_EM",
          "z": 6
         },
         {
          "section": "S006",
          "stack": "lil_EM",
          "z": 6
         },
         {
          "section": "S006",
          "stack": "lil_EM",
          "z": 6
         },
         {
          "section": "S006",
          "stack": "lil_EM",
          "z": 6
         },
         {
          "section": "S006",
          "stack": "lil_EM",
          "z": 6
         },
         {
          "section": "S006",
          "stack": "lil_EM",
          "z": 6
         },
         {
          "section": "S006",
          "stack": "lil_EM",
          "z": 6
         },
         {
          "section": "S006",
          "stack": "lil_EM",
          "z": 6
         },
         {
          "section": "S006",
          "stack": "lil_EM",
          "z": 6
         },
         {
          "section": "S006",
          "stack": "lil_EM",
          "z": 6
         },
         {
          "section": "S006",
          "stack": "lil_EM",
          "z": 6
         },
         {
          "section": "S006",
          "stack": "lil_EM",
          "z": 6
         },
         {
          "section": "S006",
          "stack": "lil_EM",
          "z": 6
         },
         {
          "section": "S006",
          "stack": "lil_EM",
          "z": 6
         },
         {
          "section": "S006",
          "stack": "lil_EM",
          "z": 6
         },
         {
          "section": "S006",
          "stack": "lil_EM",
          "z": 6
         },
         {
          "section": "S006",
          "stack": "lil_EM",
          "z": 6
         },
         {
          "section": "S006",
          "stack": "lil_EM",
          "z": 6
         },
         {
          "section": "S006",
          "stack": "lil_EM",
          "z": 6
         },
         {
          "section": "S006",
          "stack": "lil_EM",
          "z": 6
         },
         {
          "section": "S006",
          "stack": "lil_EM",
          "z": 6
         },
         {
          "section": "S006",
          "stack": "lil_EM",
          "z": 6
         },
         {
          "section": "S006",
          "stack": "lil_EM",
          "z": 6
         },
         {
          "section": "S006",
          "stack": "lil_EM",
          "z": 6
         },
         {
          "section": "S006",
          "stack": "lil_EM",
          "z": 6
         },
         {
          "section": "S006",
          "stack": "lil_EM",
          "z": 6
         },
         {
          "section": "S006",
          "stack": "lil_EM",
          "z": 6
         },
         {
          "section": "S006",
          "stack": "lil_EM",
          "z": 6
         },
         {
          "section": "S006",
          "stack": "lil_EM",
          "z": 6
         },
         {
          "section": "S006",
          "stack": "lil_EM",
          "z": 6
         },
         {
          "section": "S006",
          "stack": "lil_EM",
          "z": 6
         },
         {
          "section": "S006",
          "stack": "lil_EM",
          "z": 6
         },
         {
          "section": "S006",
          "stack": "lil_EM",
          "z": 6
         },
         {
          "section": "S006",
          "stack": "lil_EM",
          "z": 6
         },
         {
          "section": "S006",
          "stack": "lil_EM",
          "z": 6
         },
         {
          "section": "S006",
          "stack": "lil_EM",
          "z": 6
         },
         {
          "section": "S006",
          "stack": "lil_EM",
          "z": 6
         },
         {
          "section": "S006",
          "stack": "lil_EM",
          "z": 6
         },
         {
          "section": "S006",
          "stack": "lil_EM",
          "z": 6
         },
         {
          "section": "S006",
          "stack": "lil_EM",
          "z": 6
         },
         {
          "section": "S006",
          "stack": "lil_EM",
          "z": 6
         },
         {
          "section": "S006",
          "stack": "lil_EM",
          "z": 6
         },
         {
          "section": "S006",
          "stack": "lil_EM",
          "z": 6
         },
         {
          "section": "S006",
          "stack": "lil_EM",
          "z": 6
         },
         {
          "section": "S006",
          "stack": "lil_EM",
          "z": 6
         },
         {
          "section": "S006",
          "stack": "lil_EM",
          "z": 6
         },
         {
          "section": "S006",
          "stack": "lil_EM",
          "z": 6
         },
         {
          "section": "S006",
          "stack": "lil_EM",
          "z": 6
         },
         {
          "section": "S006",
          "stack": "lil_EM",
          "z": 6
         },
         {
          "section": "S006",
          "stack": "lil_EM",
          "z": 6
         },
         {
          "section": "S006",
          "stack": "lil_EM",
          "z": 6
         },
         {
          "section": "S006",
          "stack": "lil_EM",
          "z": 6
         },
         {
          "section": "S006",
          "stack": "lil_EM",
          "z": 6
         },
         {
          "section": "S006",
          "stack": "lil_EM",
          "z": 6
         },
         {
          "section": "S006",
          "stack": "lil_EM",
          "z": 6
         },
         {
          "section": "S006",
          "stack": "lil_EM",
          "z": 6
         },
         {
          "section": "S006",
          "stack": "lil_EM",
          "z": 6
         },
         {
          "section": "S006",
          "stack": "lil_EM",
          "z": 6
         },
         {
          "section": "S006",
          "stack": "lil_EM",
          "z": 6
         },
         {
          "section": "S006",
          "stack": "lil_EM",
          "z": 6
         },
         {
          "section": "S006",
          "stack": "lil_EM",
          "z": 6
         },
         {
          "section": "S006",
          "stack": "lil_EM",
          "z": 6
         },
         {
          "section": "S006",
          "stack": "lil_EM",
          "z": 6
         },
         {
          "section": "S006",
          "stack": "lil_EM",
          "z": 6
         },
         {
          "section": "S006",
          "stack": "lil_EM",
          "z": 6
         },
         {
          "section": "S006",
          "stack": "lil_EM",
          "z": 6
         },
         {
          "section": "S006",
          "stack": "lil_EM",
          "z": 6
         },
         {
          "section": "S006",
          "stack": "lil_EM",
          "z": 6
         },
         {
          "section": "S006",
          "stack": "lil_EM",
          "z": 6
         },
         {
          "section": "S006",
          "stack": "lil_EM",
          "z": 6
         },
         {
          "section": "S006",
          "stack": "lil_EM",
          "z": 6
         },
         {
          "section": "S006",
          "stack": "lil_EM",
          "z": 6
         },
         {
          "section": "S006",
          "stack": "lil_EM",
          "z": 6
         },
         {
          "section": "S006",
          "stack": "lil_EM",
          "z": 6
         },
         {
          "section": "S006",
          "stack": "lil_EM",
          "z": 6
         },
         {
          "section": "S006",
          "stack": "lil_EM",
          "z": 6
         },
         {
          "section": "S006",
          "stack": "lil_EM",
          "z": 6
         },
         {
          "section": "S006",
          "stack": "lil_EM",
          "z": 6
         },
         {
          "section": "S006",
          "stack": "lil_EM",
          "z": 6
         },
         {
          "section": "S006",
          "stack": "lil_EM",
          "z": 6
         },
         {
          "section": "S006",
          "stack": "lil_EM",
          "z": 6
         },
         {
          "section": "S006",
          "stack": "lil_EM",
          "z": 6
         },
         {
          "section": "S006",
          "stack": "lil_EM",
          "z": 6
         },
         {
          "section": "S006",
          "stack": "lil_EM",
          "z": 6
         },
         {
          "section": "S006",
          "stack": "lil_EM",
          "z": 6
         },
         {
          "section": "S006",
          "stack": "lil_EM",
          "z": 6
         },
         {
          "section": "S006",
          "stack": "lil_EM",
          "z": 6
         },
         {
          "section": "S006",
          "stack": "lil_EM",
          "z": 6
         },
         {
          "section": "S006",
          "stack": "lil_EM",
          "z": 6
         },
         {
          "section": "S006",
          "stack": "lil_EM",
          "z": 6
         },
         {
          "section": "S006",
          "stack": "lil_EM",
          "z": 6
         },
         {
          "section": "S006",
          "stack": "lil_EM",
          "z": 6
         },
         {
          "section": "S006",
          "stack": "lil_EM",
          "z": 6
         },
         {
          "section": "S006",
          "stack": "lil_EM",
          "z": 6
         },
         {
          "section": "S006",
          "stack": "lil_EM",
          "z": 6
         },
         {
          "section": "S006",
          "stack": "lil_EM",
          "z": 6
         },
         {
          "section": "S006",
          "stack": "lil_EM",
          "z": 6
         },
         {
          "section": "S006",
          "stack": "lil_EM",
          "z": 6
         },
         {
          "section": "S006",
          "stack": "lil_EM",
          "z": 6
         },
         {
          "section": "S006",
          "stack": "lil_EM",
          "z": 6
         },
         {
          "section": "S006",
          "stack": "lil_EM",
          "z": 6
         },
         {
          "section": "S006",
          "stack": "lil_EM",
          "z": 6
         },
         {
          "section": "S006",
          "stack": "lil_EM",
          "z": 6
         },
         {
          "section": "S006",
          "stack": "lil_EM",
          "z": 6
         },
         {
          "section": "S006",
          "stack": "lil_EM",
          "z": 6
         },
         {
          "section": "S006",
          "stack": "lil_EM",
          "z": 6
         },
         {
          "section": "S006",
          "stack": "lil_EM",
          "z": 6
         },
         {
          "section": "S006",
          "stack": "lil_EM",
          "z": 6
         },
         {
          "section": "S006",
          "stack": "lil_EM",
          "z": 6
         },
         {
          "section": "S006",
          "stack": "lil_EM",
          "z": 6
         },
         {
          "section": "S006",
          "stack": "lil_EM",
          "z": 6
         },
         {
          "section": "S006",
          "stack": "lil_EM",
          "z": 6
         },
         {
          "section": "S006",
          "stack": "lil_EM",
          "z": 6
         },
         {
          "section": "S006",
          "stack": "lil_EM",
          "z": 6
         },
         {
          "section": "S006",
          "stack": "lil_EM",
          "z": 6
         },
         {
          "section": "S006",
          "stack": "lil_EM",
          "z": 6
         },
         {
          "section": "S006",
          "stack": "lil_EM",
          "z": 6
         },
         {
          "section": "S006",
          "stack": "lil_EM",
          "z": 6
         },
         {
          "section": "S006",
          "stack": "lil_EM",
          "z": 6
         },
         {
          "section": "S006",
          "stack": "lil_EM",
          "z": 6
         },
         {
          "section": "S006",
          "stack": "lil_EM",
          "z": 6
         },
         {
          "section": "S006",
          "stack": "lil_EM",
          "z": 6
         },
         {
          "section": "S006",
          "stack": "lil_EM",
          "z": 6
         },
         {
          "section": "S006",
          "stack": "lil_EM",
          "z": 6
         },
         {
          "section": "S006",
          "stack": "lil_EM",
          "z": 6
         },
         {
          "section": "S006",
          "stack": "lil_EM",
          "z": 6
         },
         {
          "section": "S006",
          "stack": "lil_EM",
          "z": 6
         },
         {
          "section": "S006",
          "stack": "lil_EM",
          "z": 6
         },
         {
          "section": "S006",
          "stack": "lil_EM",
          "z": 6
         },
         {
          "section": "S006",
          "stack": "lil_EM",
          "z": 6
         },
         {
          "section": "S006",
          "stack": "lil_EM",
          "z": 6
         },
         {
          "section": "S006",
          "stack": "lil_EM",
          "z": 6
         },
         {
          "section": "S006",
          "stack": "lil_EM",
          "z": 6
         },
         {
          "section": "S006",
          "stack": "lil_EM",
          "z": 6
         },
         {
          "section": "S006",
          "stack": "lil_EM",
          "z": 6
         },
         {
          "section": "S006",
          "stack": "lil_EM",
          "z": 6
         },
         {
          "section": "S006",
          "stack": "lil_EM",
          "z": 6
         },
         {
          "section": "S006",
          "stack": "lil_EM",
          "z": 6
         },
         {
          "section": "S006",
          "stack": "lil_EM",
          "z": 6
         },
         {
          "section": "S006",
          "stack": "lil_EM",
          "z": 6
         },
         {
          "section": "S006",
          "stack": "lil_EM",
          "z": 6
         },
         {
          "section": "S006",
          "stack": "lil_EM",
          "z": 6
         },
         {
          "section": "S006",
          "stack": "lil_EM",
          "z": 6
         },
         {
          "section": "S006",
          "stack": "lil_EM",
          "z": 6
         },
         {
          "section": "S006",
          "stack": "lil_EM",
          "z": 6
         },
         {
          "section": "S006",
          "stack": "lil_EM",
          "z": 6
         },
         {
          "section": "S006",
          "stack": "lil_EM",
          "z": 6
         },
         {
          "section": "S006",
          "stack": "lil_EM",
          "z": 6
         },
         {
          "section": "S006",
          "stack": "lil_EM",
          "z": 6
         },
         {
          "section": "S006",
          "stack": "lil_EM",
          "z": 6
         },
         {
          "section": "S006",
          "stack": "lil_EM",
          "z": 6
         },
         {
          "section": "S006",
          "stack": "lil_EM",
          "z": 6
         },
         {
          "section": "S006",
          "stack": "lil_EM",
          "z": 6
         },
         {
          "section": "S006",
          "stack": "lil_EM",
          "z": 6
         },
         {
          "section": "S006",
          "stack": "lil_EM",
          "z": 6
         },
         {
          "section": "S006",
          "stack": "lil_EM",
          "z": 6
         },
         {
          "section": "S006",
          "stack": "lil_EM",
          "z": 6
         },
         {
          "section": "S006",
          "stack": "lil_EM",
          "z": 6
         },
         {
          "section": "S006",
          "stack": "lil_EM",
          "z": 6
         },
         {
          "section": "S006",
          "stack": "lil_EM",
          "z": 6
         },
         {
          "section": "S006",
          "stack": "lil_EM",
          "z": 6
         },
         {
          "section": "S006",
          "stack": "lil_EM",
          "z": 6
         },
         {
          "section": "S006",
          "stack": "lil_EM",
          "z": 6
         },
         {
          "section": "S006",
          "stack": "lil_EM",
          "z": 6
         },
         {
          "section": "S006",
          "stack": "lil_EM",
          "z": 6
         },
         {
          "section": "S006",
          "stack": "lil_EM",
          "z": 6
         },
         {
          "section": "S006",
          "stack": "lil_EM",
          "z": 6
         },
         {
          "section": "S006",
          "stack": "lil_EM",
          "z": 6
         },
         {
          "section": "S006",
          "stack": "lil_EM",
          "z": 6
         },
         {
          "section": "S006",
          "stack": "lil_EM",
          "z": 6
         },
         {
          "section": "S006",
          "stack": "lil_EM",
          "z": 6
         },
         {
          "section": "S006",
          "stack": "lil_EM",
          "z": 6
         },
         {
          "section": "S006",
          "stack": "lil_EM",
          "z": 6
         },
         {
          "section": "S006",
          "stack": "lil_EM",
          "z": 6
         },
         {
          "section": "S006",
          "stack": "lil_EM",
          "z": 6
         },
         {
          "section": "S006",
          "stack": "lil_EM",
          "z": 6
         },
         {
          "section": "S006",
          "stack": "lil_EM",
          "z": 6
         },
         {
          "section": "S006",
          "stack": "lil_EM",
          "z": 6
         },
         {
          "section": "S006",
          "stack": "lil_EM",
          "z": 6
         },
         {
          "section": "S006",
          "stack": "lil_EM",
          "z": 6
         },
         {
          "section": "S006",
          "stack": "lil_EM",
          "z": 6
         },
         {
          "section": "S006",
          "stack": "lil_EM",
          "z": 6
         },
         {
          "section": "S006",
          "stack": "lil_EM",
          "z": 6
         },
         {
          "section": "S006",
          "stack": "lil_EM",
          "z": 6
         },
         {
          "section": "S006",
          "stack": "lil_EM",
          "z": 6
         },
         {
          "section": "S006",
          "stack": "lil_EM",
          "z": 6
         },
         {
          "section": "S006",
          "stack": "lil_EM",
          "z": 6
         },
         {
          "section": "S006",
          "stack": "lil_EM",
          "z": 6
         },
         {
          "section": "S006",
          "stack": "lil_EM",
          "z": 6
         },
         {
          "section": "S006",
          "stack": "lil_EM",
          "z": 6
         },
         {
          "section": "S006",
          "stack": "lil_EM",
          "z": 6
         },
         {
          "section": "S006",
          "stack": "lil_EM",
          "z": 6
         },
         {
          "section": "S006",
          "stack": "lil_EM",
          "z": 6
         },
         {
          "section": "S006",
          "stack": "lil_EM",
          "z": 6
         },
         {
          "section": "S006",
          "stack": "lil_EM",
          "z": 6
         },
         {
          "section": "S006",
          "stack": "lil_EM",
          "z": 6
         },
         {
          "section": "S006",
          "stack": "lil_EM",
          "z": 6
         },
         {
          "section": "S006",
          "stack": "lil_EM",
          "z": 6
         },
         {
          "section": "S006",
          "stack": "lil_EM",
          "z": 6
         },
         {
          "section": "S006",
          "stack": "lil_EM",
          "z": 6
         },
         {
          "section": "S006",
          "stack": "lil_EM",
          "z": 6
         },
         {
          "section": "S006",
          "stack": "lil_EM",
          "z": 6
         },
         {
          "section": "S006",
          "stack": "lil_EM",
          "z": 6
         },
         {
          "section": "S006",
          "stack": "lil_EM",
          "z": 6
         },
         {
          "section": "S006",
          "stack": "lil_EM",
          "z": 6
         },
         {
          "section": "S006",
          "stack": "lil_EM",
          "z": 6
         },
         {
          "section": "S006",
          "stack": "lil_EM",
          "z": 6
         },
         {
          "section": "S006",
          "stack": "lil_EM",
          "z": 6
         },
         {
          "section": "S006",
          "stack": "lil_EM",
          "z": 6
         },
         {
          "section": "S006",
          "stack": "lil_EM",
          "z": 6
         },
         {
          "section": "S006",
          "stack": "lil_EM",
          "z": 6
         },
         {
          "section": "S006",
          "stack": "lil_EM",
          "z": 6
         },
         {
          "section": "S006",
          "stack": "lil_EM",
          "z": 6
         },
         {
          "section": "S006",
          "stack": "lil_EM",
          "z": 6
         },
         {
          "section": "S006",
          "stack": "lil_EM",
          "z": 6
         },
         {
          "section": "S006",
          "stack": "lil_EM",
          "z": 6
         },
         {
          "section": "S006",
          "stack": "lil_EM",
          "z": 6
         },
         {
          "section": "S006",
          "stack": "lil_EM",
          "z": 6
         },
         {
          "section": "S006",
          "stack": "lil_EM",
          "z": 6
         },
         {
          "section": "S006",
          "stack": "lil_EM",
          "z": 6
         },
         {
          "section": "S006",
          "stack": "lil_EM",
          "z": 6
         },
         {
          "section": "S006",
          "stack": "lil_EM",
          "z": 6
         },
         {
          "section": "S006",
          "stack": "lil_EM",
          "z": 6
         },
         {
          "section": "S006",
          "stack": "lil_EM",
          "z": 6
         },
         {
          "section": "S006",
          "stack": "lil_EM",
          "z": 6
         },
         {
          "section": "S006",
          "stack": "lil_EM",
          "z": 6
         },
         {
          "section": "S006",
          "stack": "lil_EM",
          "z": 6
         },
         {
          "section": "S006",
          "stack": "lil_EM",
          "z": 6
         },
         {
          "section": "S006",
          "stack": "lil_EM",
          "z": 6
         },
         {
          "section": "S006",
          "stack": "lil_EM",
          "z": 6
         },
         {
          "section": "S006",
          "stack": "lil_EM",
          "z": 6
         },
         {
          "section": "S006",
          "stack": "lil_EM",
          "z": 6
         },
         {
          "section": "S006",
          "stack": "lil_EM",
          "z": 6
         },
         {
          "section": "S006",
          "stack": "lil_EM",
          "z": 6
         },
         {
          "section": "S006",
          "stack": "lil_EM",
          "z": 6
         },
         {
          "section": "S006",
          "stack": "lil_EM",
          "z": 6
         },
         {
          "section": "S006",
          "stack": "lil_EM",
          "z": 6
         },
         {
          "section": "S006",
          "stack": "lil_EM",
          "z": 6
         },
         {
          "section": "S006",
          "stack": "lil_EM",
          "z": 6
         },
         {
          "section": "S006",
          "stack": "lil_EM",
          "z": 6
         },
         {
          "section": "S006",
          "stack": "lil_EM",
          "z": 6
         },
         {
          "section": "S006",
          "stack": "lil_EM",
          "z": 6
         },
         {
          "section": "S006",
          "stack": "lil_EM",
          "z": 6
         },
         {
          "section": "S006",
          "stack": "lil_EM",
          "z": 6
         },
         {
          "section": "S006",
          "stack": "lil_EM",
          "z": 6
         },
         {
          "section": "S006",
          "stack": "lil_EM",
          "z": 6
         },
         {
          "section": "S006",
          "stack": "lil_EM",
          "z": 6
         },
         {
          "section": "S006",
          "stack": "lil_EM",
          "z": 6
         },
         {
          "section": "S006",
          "stack": "lil_EM",
          "z": 6
         },
         {
          "section": "S006",
          "stack": "lil_EM",
          "z": 6
         },
         {
          "section": "S006",
          "stack": "lil_EM",
          "z": 6
         },
         {
          "section": "S006",
          "stack": "lil_EM",
          "z": 6
         },
         {
          "section": "S006",
          "stack": "lil_EM",
          "z": 6
         },
         {
          "section": "S006",
          "stack": "lil_EM",
          "z": 6
         },
         {
          "section": "S006",
          "stack": "lil_EM",
          "z": 6
         },
         {
          "section": "S006",
          "stack": "lil_EM",
          "z": 6
         },
         {
          "section": "S006",
          "stack": "lil_EM",
          "z": 6
         },
         {
          "section": "S006",
          "stack": "lil_EM",
          "z": 6
         },
         {
          "section": "S006",
          "stack": "lil_EM",
          "z": 6
         },
         {
          "section": "S006",
          "stack": "lil_EM",
          "z": 6
         },
         {
          "section": "S006",
          "stack": "lil_EM",
          "z": 6
         },
         {
          "section": "S007",
          "stack": "hoechst",
          "z": 7
         },
         {
          "section": "S007",
          "stack": "hoechst",
          "z": 7
         },
         {
          "section": "S007",
          "stack": "hoechst",
          "z": 7
         },
         {
          "section": "S007",
          "stack": "hoechst",
          "z": 7
         },
         {
          "section": "S007",
          "stack": "hoechst",
          "z": 7
         },
         {
          "section": "S007",
          "stack": "hoechst",
          "z": 7
         },
         {
          "section": "S007",
          "stack": "hoechst",
          "z": 7
         },
         {
          "section": "S007",
          "stack": "hoechst",
          "z": 7
         },
         {
          "section": "S007",
          "stack": "hoechst",
          "z": 7
         },
         {
          "section": "S007",
          "stack": "hoechst",
          "z": 7
         },
         {
          "section": "S007",
          "stack": "hoechst",
          "z": 7
         },
         {
          "section": "S007",
          "stack": "hoechst",
          "z": 7
         },
         {
          "section": "S007",
          "stack": "insulin",
          "z": 7
         },
         {
          "section": "S007",
          "stack": "insulin",
          "z": 7
         },
         {
          "section": "S007",
          "stack": "insulin",
          "z": 7
         },
         {
          "section": "S007",
          "stack": "insulin",
          "z": 7
         },
         {
          "section": "S007",
          "stack": "insulin",
          "z": 7
         },
         {
          "section": "S007",
          "stack": "insulin",
          "z": 7
         },
         {
          "section": "S007",
          "stack": "insulin",
          "z": 7
         },
         {
          "section": "S007",
          "stack": "insulin",
          "z": 7
         },
         {
          "section": "S007",
          "stack": "insulin",
          "z": 7
         },
         {
          "section": "S007",
          "stack": "insulin",
          "z": 7
         },
         {
          "section": "S007",
          "stack": "insulin",
          "z": 7
         },
         {
          "section": "S007",
          "stack": "insulin",
          "z": 7
         },
         {
          "section": "S007",
          "stack": "big_EM",
          "z": 7
         },
         {
          "section": "S007",
          "stack": "big_EM",
          "z": 7
         },
         {
          "section": "S007",
          "stack": "big_EM",
          "z": 7
         },
         {
          "section": "S007",
          "stack": "big_EM",
          "z": 7
         },
         {
          "section": "S007",
          "stack": "big_EM",
          "z": 7
         },
         {
          "section": "S007",
          "stack": "big_EM",
          "z": 7
         },
         {
          "section": "S007",
          "stack": "big_EM",
          "z": 7
         },
         {
          "section": "S007",
          "stack": "big_EM",
          "z": 7
         },
         {
          "section": "S007",
          "stack": "big_EM",
          "z": 7
         },
         {
          "section": "S007",
          "stack": "big_EM",
          "z": 7
         },
         {
          "section": "S007",
          "stack": "big_EM",
          "z": 7
         },
         {
          "section": "S007",
          "stack": "big_EM",
          "z": 7
         },
         {
          "section": "S007",
          "stack": "lil_EM",
          "z": 7
         },
         {
          "section": "S007",
          "stack": "lil_EM",
          "z": 7
         },
         {
          "section": "S007",
          "stack": "lil_EM",
          "z": 7
         },
         {
          "section": "S007",
          "stack": "lil_EM",
          "z": 7
         },
         {
          "section": "S007",
          "stack": "lil_EM",
          "z": 7
         },
         {
          "section": "S007",
          "stack": "lil_EM",
          "z": 7
         },
         {
          "section": "S007",
          "stack": "lil_EM",
          "z": 7
         },
         {
          "section": "S007",
          "stack": "lil_EM",
          "z": 7
         },
         {
          "section": "S007",
          "stack": "lil_EM",
          "z": 7
         },
         {
          "section": "S007",
          "stack": "lil_EM",
          "z": 7
         },
         {
          "section": "S007",
          "stack": "lil_EM",
          "z": 7
         },
         {
          "section": "S007",
          "stack": "lil_EM",
          "z": 7
         },
         {
          "section": "S007",
          "stack": "lil_EM",
          "z": 7
         },
         {
          "section": "S007",
          "stack": "lil_EM",
          "z": 7
         },
         {
          "section": "S007",
          "stack": "lil_EM",
          "z": 7
         },
         {
          "section": "S007",
          "stack": "lil_EM",
          "z": 7
         },
         {
          "section": "S007",
          "stack": "lil_EM",
          "z": 7
         },
         {
          "section": "S007",
          "stack": "lil_EM",
          "z": 7
         },
         {
          "section": "S007",
          "stack": "lil_EM",
          "z": 7
         },
         {
          "section": "S007",
          "stack": "lil_EM",
          "z": 7
         },
         {
          "section": "S007",
          "stack": "lil_EM",
          "z": 7
         },
         {
          "section": "S007",
          "stack": "lil_EM",
          "z": 7
         },
         {
          "section": "S007",
          "stack": "lil_EM",
          "z": 7
         },
         {
          "section": "S007",
          "stack": "lil_EM",
          "z": 7
         },
         {
          "section": "S007",
          "stack": "lil_EM",
          "z": 7
         },
         {
          "section": "S007",
          "stack": "lil_EM",
          "z": 7
         },
         {
          "section": "S007",
          "stack": "lil_EM",
          "z": 7
         },
         {
          "section": "S007",
          "stack": "lil_EM",
          "z": 7
         },
         {
          "section": "S007",
          "stack": "lil_EM",
          "z": 7
         },
         {
          "section": "S007",
          "stack": "lil_EM",
          "z": 7
         },
         {
          "section": "S007",
          "stack": "lil_EM",
          "z": 7
         },
         {
          "section": "S007",
          "stack": "lil_EM",
          "z": 7
         },
         {
          "section": "S007",
          "stack": "lil_EM",
          "z": 7
         },
         {
          "section": "S007",
          "stack": "lil_EM",
          "z": 7
         },
         {
          "section": "S007",
          "stack": "lil_EM",
          "z": 7
         },
         {
          "section": "S007",
          "stack": "lil_EM",
          "z": 7
         },
         {
          "section": "S007",
          "stack": "lil_EM",
          "z": 7
         },
         {
          "section": "S007",
          "stack": "lil_EM",
          "z": 7
         },
         {
          "section": "S007",
          "stack": "lil_EM",
          "z": 7
         },
         {
          "section": "S007",
          "stack": "lil_EM",
          "z": 7
         },
         {
          "section": "S007",
          "stack": "lil_EM",
          "z": 7
         },
         {
          "section": "S007",
          "stack": "lil_EM",
          "z": 7
         },
         {
          "section": "S007",
          "stack": "lil_EM",
          "z": 7
         },
         {
          "section": "S007",
          "stack": "lil_EM",
          "z": 7
         },
         {
          "section": "S007",
          "stack": "lil_EM",
          "z": 7
         },
         {
          "section": "S007",
          "stack": "lil_EM",
          "z": 7
         },
         {
          "section": "S007",
          "stack": "lil_EM",
          "z": 7
         },
         {
          "section": "S007",
          "stack": "lil_EM",
          "z": 7
         },
         {
          "section": "S007",
          "stack": "lil_EM",
          "z": 7
         },
         {
          "section": "S007",
          "stack": "lil_EM",
          "z": 7
         },
         {
          "section": "S007",
          "stack": "lil_EM",
          "z": 7
         },
         {
          "section": "S007",
          "stack": "lil_EM",
          "z": 7
         },
         {
          "section": "S007",
          "stack": "lil_EM",
          "z": 7
         },
         {
          "section": "S007",
          "stack": "lil_EM",
          "z": 7
         },
         {
          "section": "S007",
          "stack": "lil_EM",
          "z": 7
         },
         {
          "section": "S007",
          "stack": "lil_EM",
          "z": 7
         },
         {
          "section": "S007",
          "stack": "lil_EM",
          "z": 7
         },
         {
          "section": "S007",
          "stack": "lil_EM",
          "z": 7
         },
         {
          "section": "S007",
          "stack": "lil_EM",
          "z": 7
         },
         {
          "section": "S007",
          "stack": "lil_EM",
          "z": 7
         },
         {
          "section": "S007",
          "stack": "lil_EM",
          "z": 7
         },
         {
          "section": "S007",
          "stack": "lil_EM",
          "z": 7
         },
         {
          "section": "S007",
          "stack": "lil_EM",
          "z": 7
         },
         {
          "section": "S007",
          "stack": "lil_EM",
          "z": 7
         },
         {
          "section": "S007",
          "stack": "lil_EM",
          "z": 7
         },
         {
          "section": "S007",
          "stack": "lil_EM",
          "z": 7
         },
         {
          "section": "S007",
          "stack": "lil_EM",
          "z": 7
         },
         {
          "section": "S007",
          "stack": "lil_EM",
          "z": 7
         },
         {
          "section": "S007",
          "stack": "lil_EM",
          "z": 7
         },
         {
          "section": "S007",
          "stack": "lil_EM",
          "z": 7
         },
         {
          "section": "S007",
          "stack": "lil_EM",
          "z": 7
         },
         {
          "section": "S007",
          "stack": "lil_EM",
          "z": 7
         },
         {
          "section": "S007",
          "stack": "lil_EM",
          "z": 7
         },
         {
          "section": "S007",
          "stack": "lil_EM",
          "z": 7
         },
         {
          "section": "S007",
          "stack": "lil_EM",
          "z": 7
         },
         {
          "section": "S007",
          "stack": "lil_EM",
          "z": 7
         },
         {
          "section": "S007",
          "stack": "lil_EM",
          "z": 7
         },
         {
          "section": "S007",
          "stack": "lil_EM",
          "z": 7
         },
         {
          "section": "S007",
          "stack": "lil_EM",
          "z": 7
         },
         {
          "section": "S007",
          "stack": "lil_EM",
          "z": 7
         },
         {
          "section": "S007",
          "stack": "lil_EM",
          "z": 7
         },
         {
          "section": "S007",
          "stack": "lil_EM",
          "z": 7
         },
         {
          "section": "S007",
          "stack": "lil_EM",
          "z": 7
         },
         {
          "section": "S007",
          "stack": "lil_EM",
          "z": 7
         },
         {
          "section": "S007",
          "stack": "lil_EM",
          "z": 7
         },
         {
          "section": "S007",
          "stack": "lil_EM",
          "z": 7
         },
         {
          "section": "S007",
          "stack": "lil_EM",
          "z": 7
         },
         {
          "section": "S007",
          "stack": "lil_EM",
          "z": 7
         },
         {
          "section": "S007",
          "stack": "lil_EM",
          "z": 7
         },
         {
          "section": "S007",
          "stack": "lil_EM",
          "z": 7
         },
         {
          "section": "S007",
          "stack": "lil_EM",
          "z": 7
         },
         {
          "section": "S007",
          "stack": "lil_EM",
          "z": 7
         },
         {
          "section": "S007",
          "stack": "lil_EM",
          "z": 7
         },
         {
          "section": "S007",
          "stack": "lil_EM",
          "z": 7
         },
         {
          "section": "S007",
          "stack": "lil_EM",
          "z": 7
         },
         {
          "section": "S007",
          "stack": "lil_EM",
          "z": 7
         },
         {
          "section": "S007",
          "stack": "lil_EM",
          "z": 7
         },
         {
          "section": "S007",
          "stack": "lil_EM",
          "z": 7
         },
         {
          "section": "S007",
          "stack": "lil_EM",
          "z": 7
         },
         {
          "section": "S007",
          "stack": "lil_EM",
          "z": 7
         },
         {
          "section": "S007",
          "stack": "lil_EM",
          "z": 7
         },
         {
          "section": "S007",
          "stack": "lil_EM",
          "z": 7
         },
         {
          "section": "S007",
          "stack": "lil_EM",
          "z": 7
         },
         {
          "section": "S007",
          "stack": "lil_EM",
          "z": 7
         },
         {
          "section": "S007",
          "stack": "lil_EM",
          "z": 7
         },
         {
          "section": "S007",
          "stack": "lil_EM",
          "z": 7
         },
         {
          "section": "S007",
          "stack": "lil_EM",
          "z": 7
         },
         {
          "section": "S007",
          "stack": "lil_EM",
          "z": 7
         },
         {
          "section": "S007",
          "stack": "lil_EM",
          "z": 7
         },
         {
          "section": "S007",
          "stack": "lil_EM",
          "z": 7
         },
         {
          "section": "S007",
          "stack": "lil_EM",
          "z": 7
         },
         {
          "section": "S007",
          "stack": "lil_EM",
          "z": 7
         },
         {
          "section": "S007",
          "stack": "lil_EM",
          "z": 7
         },
         {
          "section": "S007",
          "stack": "lil_EM",
          "z": 7
         },
         {
          "section": "S007",
          "stack": "lil_EM",
          "z": 7
         },
         {
          "section": "S007",
          "stack": "lil_EM",
          "z": 7
         },
         {
          "section": "S007",
          "stack": "lil_EM",
          "z": 7
         },
         {
          "section": "S007",
          "stack": "lil_EM",
          "z": 7
         },
         {
          "section": "S007",
          "stack": "lil_EM",
          "z": 7
         },
         {
          "section": "S007",
          "stack": "lil_EM",
          "z": 7
         },
         {
          "section": "S007",
          "stack": "lil_EM",
          "z": 7
         },
         {
          "section": "S007",
          "stack": "lil_EM",
          "z": 7
         },
         {
          "section": "S007",
          "stack": "lil_EM",
          "z": 7
         },
         {
          "section": "S007",
          "stack": "lil_EM",
          "z": 7
         },
         {
          "section": "S007",
          "stack": "lil_EM",
          "z": 7
         },
         {
          "section": "S007",
          "stack": "lil_EM",
          "z": 7
         },
         {
          "section": "S007",
          "stack": "lil_EM",
          "z": 7
         },
         {
          "section": "S007",
          "stack": "lil_EM",
          "z": 7
         },
         {
          "section": "S007",
          "stack": "lil_EM",
          "z": 7
         },
         {
          "section": "S007",
          "stack": "lil_EM",
          "z": 7
         },
         {
          "section": "S007",
          "stack": "lil_EM",
          "z": 7
         },
         {
          "section": "S007",
          "stack": "lil_EM",
          "z": 7
         },
         {
          "section": "S007",
          "stack": "lil_EM",
          "z": 7
         },
         {
          "section": "S007",
          "stack": "lil_EM",
          "z": 7
         },
         {
          "section": "S007",
          "stack": "lil_EM",
          "z": 7
         },
         {
          "section": "S007",
          "stack": "lil_EM",
          "z": 7
         },
         {
          "section": "S007",
          "stack": "lil_EM",
          "z": 7
         },
         {
          "section": "S007",
          "stack": "lil_EM",
          "z": 7
         },
         {
          "section": "S007",
          "stack": "lil_EM",
          "z": 7
         },
         {
          "section": "S007",
          "stack": "lil_EM",
          "z": 7
         },
         {
          "section": "S007",
          "stack": "lil_EM",
          "z": 7
         },
         {
          "section": "S007",
          "stack": "lil_EM",
          "z": 7
         },
         {
          "section": "S007",
          "stack": "lil_EM",
          "z": 7
         },
         {
          "section": "S007",
          "stack": "lil_EM",
          "z": 7
         },
         {
          "section": "S007",
          "stack": "lil_EM",
          "z": 7
         },
         {
          "section": "S007",
          "stack": "lil_EM",
          "z": 7
         },
         {
          "section": "S007",
          "stack": "lil_EM",
          "z": 7
         },
         {
          "section": "S007",
          "stack": "lil_EM",
          "z": 7
         },
         {
          "section": "S007",
          "stack": "lil_EM",
          "z": 7
         },
         {
          "section": "S007",
          "stack": "lil_EM",
          "z": 7
         },
         {
          "section": "S007",
          "stack": "lil_EM",
          "z": 7
         },
         {
          "section": "S007",
          "stack": "lil_EM",
          "z": 7
         },
         {
          "section": "S007",
          "stack": "lil_EM",
          "z": 7
         },
         {
          "section": "S007",
          "stack": "lil_EM",
          "z": 7
         },
         {
          "section": "S007",
          "stack": "lil_EM",
          "z": 7
         },
         {
          "section": "S007",
          "stack": "lil_EM",
          "z": 7
         },
         {
          "section": "S007",
          "stack": "lil_EM",
          "z": 7
         },
         {
          "section": "S007",
          "stack": "lil_EM",
          "z": 7
         },
         {
          "section": "S007",
          "stack": "lil_EM",
          "z": 7
         },
         {
          "section": "S007",
          "stack": "lil_EM",
          "z": 7
         },
         {
          "section": "S007",
          "stack": "lil_EM",
          "z": 7
         },
         {
          "section": "S007",
          "stack": "lil_EM",
          "z": 7
         },
         {
          "section": "S007",
          "stack": "lil_EM",
          "z": 7
         },
         {
          "section": "S007",
          "stack": "lil_EM",
          "z": 7
         },
         {
          "section": "S007",
          "stack": "lil_EM",
          "z": 7
         },
         {
          "section": "S007",
          "stack": "lil_EM",
          "z": 7
         },
         {
          "section": "S007",
          "stack": "lil_EM",
          "z": 7
         },
         {
          "section": "S007",
          "stack": "lil_EM",
          "z": 7
         },
         {
          "section": "S007",
          "stack": "lil_EM",
          "z": 7
         },
         {
          "section": "S007",
          "stack": "lil_EM",
          "z": 7
         },
         {
          "section": "S007",
          "stack": "lil_EM",
          "z": 7
         },
         {
          "section": "S007",
          "stack": "lil_EM",
          "z": 7
         },
         {
          "section": "S007",
          "stack": "lil_EM",
          "z": 7
         },
         {
          "section": "S007",
          "stack": "lil_EM",
          "z": 7
         },
         {
          "section": "S007",
          "stack": "lil_EM",
          "z": 7
         },
         {
          "section": "S007",
          "stack": "lil_EM",
          "z": 7
         },
         {
          "section": "S007",
          "stack": "lil_EM",
          "z": 7
         },
         {
          "section": "S007",
          "stack": "lil_EM",
          "z": 7
         },
         {
          "section": "S007",
          "stack": "lil_EM",
          "z": 7
         },
         {
          "section": "S007",
          "stack": "lil_EM",
          "z": 7
         },
         {
          "section": "S007",
          "stack": "lil_EM",
          "z": 7
         },
         {
          "section": "S007",
          "stack": "lil_EM",
          "z": 7
         },
         {
          "section": "S007",
          "stack": "lil_EM",
          "z": 7
         },
         {
          "section": "S007",
          "stack": "lil_EM",
          "z": 7
         },
         {
          "section": "S007",
          "stack": "lil_EM",
          "z": 7
         },
         {
          "section": "S007",
          "stack": "lil_EM",
          "z": 7
         },
         {
          "section": "S007",
          "stack": "lil_EM",
          "z": 7
         },
         {
          "section": "S007",
          "stack": "lil_EM",
          "z": 7
         },
         {
          "section": "S007",
          "stack": "lil_EM",
          "z": 7
         },
         {
          "section": "S007",
          "stack": "lil_EM",
          "z": 7
         },
         {
          "section": "S007",
          "stack": "lil_EM",
          "z": 7
         },
         {
          "section": "S007",
          "stack": "lil_EM",
          "z": 7
         },
         {
          "section": "S007",
          "stack": "lil_EM",
          "z": 7
         },
         {
          "section": "S007",
          "stack": "lil_EM",
          "z": 7
         },
         {
          "section": "S007",
          "stack": "lil_EM",
          "z": 7
         },
         {
          "section": "S007",
          "stack": "lil_EM",
          "z": 7
         },
         {
          "section": "S007",
          "stack": "lil_EM",
          "z": 7
         },
         {
          "section": "S007",
          "stack": "lil_EM",
          "z": 7
         },
         {
          "section": "S007",
          "stack": "lil_EM",
          "z": 7
         },
         {
          "section": "S007",
          "stack": "lil_EM",
          "z": 7
         },
         {
          "section": "S007",
          "stack": "lil_EM",
          "z": 7
         },
         {
          "section": "S007",
          "stack": "lil_EM",
          "z": 7
         },
         {
          "section": "S007",
          "stack": "lil_EM",
          "z": 7
         },
         {
          "section": "S007",
          "stack": "lil_EM",
          "z": 7
         },
         {
          "section": "S007",
          "stack": "lil_EM",
          "z": 7
         },
         {
          "section": "S007",
          "stack": "lil_EM",
          "z": 7
         },
         {
          "section": "S007",
          "stack": "lil_EM",
          "z": 7
         },
         {
          "section": "S007",
          "stack": "lil_EM",
          "z": 7
         },
         {
          "section": "S007",
          "stack": "lil_EM",
          "z": 7
         },
         {
          "section": "S007",
          "stack": "lil_EM",
          "z": 7
         },
         {
          "section": "S007",
          "stack": "lil_EM",
          "z": 7
         },
         {
          "section": "S007",
          "stack": "lil_EM",
          "z": 7
         },
         {
          "section": "S007",
          "stack": "lil_EM",
          "z": 7
         },
         {
          "section": "S007",
          "stack": "lil_EM",
          "z": 7
         },
         {
          "section": "S007",
          "stack": "lil_EM",
          "z": 7
         },
         {
          "section": "S007",
          "stack": "lil_EM",
          "z": 7
         },
         {
          "section": "S007",
          "stack": "lil_EM",
          "z": 7
         },
         {
          "section": "S007",
          "stack": "lil_EM",
          "z": 7
         },
         {
          "section": "S007",
          "stack": "lil_EM",
          "z": 7
         },
         {
          "section": "S007",
          "stack": "lil_EM",
          "z": 7
         },
         {
          "section": "S007",
          "stack": "lil_EM",
          "z": 7
         },
         {
          "section": "S007",
          "stack": "lil_EM",
          "z": 7
         },
         {
          "section": "S007",
          "stack": "lil_EM",
          "z": 7
         },
         {
          "section": "S007",
          "stack": "lil_EM",
          "z": 7
         },
         {
          "section": "S007",
          "stack": "lil_EM",
          "z": 7
         },
         {
          "section": "S007",
          "stack": "lil_EM",
          "z": 7
         },
         {
          "section": "S007",
          "stack": "lil_EM",
          "z": 7
         },
         {
          "section": "S007",
          "stack": "lil_EM",
          "z": 7
         },
         {
          "section": "S007",
          "stack": "lil_EM",
          "z": 7
         },
         {
          "section": "S007",
          "stack": "lil_EM",
          "z": 7
         },
         {
          "section": "S007",
          "stack": "lil_EM",
          "z": 7
         },
         {
          "section": "S007",
          "stack": "lil_EM",
          "z": 7
         },
         {
          "section": "S007",
          "stack": "lil_EM",
          "z": 7
         },
         {
          "section": "S007",
          "stack": "lil_EM",
          "z": 7
         },
         {
          "section": "S007",
          "stack": "lil_EM",
          "z": 7
         },
         {
          "section": "S007",
          "stack": "lil_EM",
          "z": 7
         },
         {
          "section": "S007",
          "stack": "lil_EM",
          "z": 7
         },
         {
          "section": "S007",
          "stack": "lil_EM",
          "z": 7
         },
         {
          "section": "S007",
          "stack": "lil_EM",
          "z": 7
         },
         {
          "section": "S007",
          "stack": "lil_EM",
          "z": 7
         },
         {
          "section": "S007",
          "stack": "lil_EM",
          "z": 7
         },
         {
          "section": "S007",
          "stack": "lil_EM",
          "z": 7
         },
         {
          "section": "S007",
          "stack": "lil_EM",
          "z": 7
         },
         {
          "section": "S007",
          "stack": "lil_EM",
          "z": 7
         },
         {
          "section": "S007",
          "stack": "lil_EM",
          "z": 7
         },
         {
          "section": "S007",
          "stack": "lil_EM",
          "z": 7
         },
         {
          "section": "S007",
          "stack": "lil_EM",
          "z": 7
         },
         {
          "section": "S007",
          "stack": "lil_EM",
          "z": 7
         },
         {
          "section": "S007",
          "stack": "lil_EM",
          "z": 7
         },
         {
          "section": "S007",
          "stack": "lil_EM",
          "z": 7
         },
         {
          "section": "S007",
          "stack": "lil_EM",
          "z": 7
         },
         {
          "section": "S007",
          "stack": "lil_EM",
          "z": 7
         },
         {
          "section": "S007",
          "stack": "lil_EM",
          "z": 7
         },
         {
          "section": "S007",
          "stack": "lil_EM",
          "z": 7
         },
         {
          "section": "S007",
          "stack": "lil_EM",
          "z": 7
         },
         {
          "section": "S007",
          "stack": "lil_EM",
          "z": 7
         },
         {
          "section": "S007",
          "stack": "lil_EM",
          "z": 7
         },
         {
          "section": "S007",
          "stack": "lil_EM",
          "z": 7
         },
         {
          "section": "S007",
          "stack": "lil_EM",
          "z": 7
         },
         {
          "section": "S007",
          "stack": "lil_EM",
          "z": 7
         },
         {
          "section": "S007",
          "stack": "lil_EM",
          "z": 7
         },
         {
          "section": "S007",
          "stack": "lil_EM",
          "z": 7
         },
         {
          "section": "S007",
          "stack": "lil_EM",
          "z": 7
         },
         {
          "section": "S007",
          "stack": "lil_EM",
          "z": 7
         },
         {
          "section": "S007",
          "stack": "lil_EM",
          "z": 7
         },
         {
          "section": "S007",
          "stack": "lil_EM",
          "z": 7
         },
         {
          "section": "S007",
          "stack": "lil_EM",
          "z": 7
         },
         {
          "section": "S007",
          "stack": "lil_EM",
          "z": 7
         },
         {
          "section": "S007",
          "stack": "lil_EM",
          "z": 7
         },
         {
          "section": "S007",
          "stack": "lil_EM",
          "z": 7
         },
         {
          "section": "S007",
          "stack": "lil_EM",
          "z": 7
         },
         {
          "section": "S007",
          "stack": "lil_EM",
          "z": 7
         },
         {
          "section": "S007",
          "stack": "lil_EM",
          "z": 7
         },
         {
          "section": "S007",
          "stack": "lil_EM",
          "z": 7
         },
         {
          "section": "S007",
          "stack": "lil_EM",
          "z": 7
         },
         {
          "section": "S007",
          "stack": "lil_EM",
          "z": 7
         },
         {
          "section": "S007",
          "stack": "lil_EM",
          "z": 7
         },
         {
          "section": "S007",
          "stack": "lil_EM",
          "z": 7
         },
         {
          "section": "S007",
          "stack": "lil_EM",
          "z": 7
         },
         {
          "section": "S007",
          "stack": "lil_EM",
          "z": 7
         },
         {
          "section": "S007",
          "stack": "lil_EM",
          "z": 7
         },
         {
          "section": "S007",
          "stack": "lil_EM",
          "z": 7
         },
         {
          "section": "S007",
          "stack": "lil_EM",
          "z": 7
         },
         {
          "section": "S007",
          "stack": "lil_EM",
          "z": 7
         },
         {
          "section": "S007",
          "stack": "lil_EM",
          "z": 7
         },
         {
          "section": "S007",
          "stack": "lil_EM",
          "z": 7
         },
         {
          "section": "S007",
          "stack": "lil_EM",
          "z": 7
         },
         {
          "section": "S007",
          "stack": "lil_EM",
          "z": 7
         },
         {
          "section": "S007",
          "stack": "lil_EM",
          "z": 7
         },
         {
          "section": "S007",
          "stack": "lil_EM",
          "z": 7
         },
         {
          "section": "S007",
          "stack": "lil_EM",
          "z": 7
         },
         {
          "section": "S007",
          "stack": "lil_EM",
          "z": 7
         },
         {
          "section": "S007",
          "stack": "lil_EM",
          "z": 7
         },
         {
          "section": "S007",
          "stack": "lil_EM",
          "z": 7
         },
         {
          "section": "S007",
          "stack": "lil_EM",
          "z": 7
         },
         {
          "section": "S007",
          "stack": "lil_EM",
          "z": 7
         },
         {
          "section": "S007",
          "stack": "lil_EM",
          "z": 7
         },
         {
          "section": "S007",
          "stack": "lil_EM",
          "z": 7
         },
         {
          "section": "S007",
          "stack": "lil_EM",
          "z": 7
         },
         {
          "section": "S007",
          "stack": "lil_EM",
          "z": 7
         },
         {
          "section": "S007",
          "stack": "lil_EM",
          "z": 7
         },
         {
          "section": "S007",
          "stack": "lil_EM",
          "z": 7
         },
         {
          "section": "S007",
          "stack": "lil_EM",
          "z": 7
         },
         {
          "section": "S007",
          "stack": "lil_EM",
          "z": 7
         },
         {
          "section": "S007",
          "stack": "lil_EM",
          "z": 7
         },
         {
          "section": "S007",
          "stack": "lil_EM",
          "z": 7
         },
         {
          "section": "S007",
          "stack": "lil_EM",
          "z": 7
         },
         {
          "section": "S007",
          "stack": "lil_EM",
          "z": 7
         },
         {
          "section": "S007",
          "stack": "lil_EM",
          "z": 7
         },
         {
          "section": "S007",
          "stack": "lil_EM",
          "z": 7
         },
         {
          "section": "S007",
          "stack": "lil_EM",
          "z": 7
         },
         {
          "section": "S007",
          "stack": "lil_EM",
          "z": 7
         },
         {
          "section": "S007",
          "stack": "lil_EM",
          "z": 7
         },
         {
          "section": "S007",
          "stack": "lil_EM",
          "z": 7
         },
         {
          "section": "S007",
          "stack": "lil_EM",
          "z": 7
         },
         {
          "section": "S007",
          "stack": "lil_EM",
          "z": 7
         },
         {
          "section": "S007",
          "stack": "lil_EM",
          "z": 7
         },
         {
          "section": "S007",
          "stack": "lil_EM",
          "z": 7
         },
         {
          "section": "S007",
          "stack": "lil_EM",
          "z": 7
         },
         {
          "section": "S007",
          "stack": "lil_EM",
          "z": 7
         },
         {
          "section": "S008",
          "stack": "hoechst",
          "z": 8
         },
         {
          "section": "S008",
          "stack": "hoechst",
          "z": 8
         },
         {
          "section": "S008",
          "stack": "hoechst",
          "z": 8
         },
         {
          "section": "S008",
          "stack": "hoechst",
          "z": 8
         },
         {
          "section": "S008",
          "stack": "hoechst",
          "z": 8
         },
         {
          "section": "S008",
          "stack": "hoechst",
          "z": 8
         },
         {
          "section": "S008",
          "stack": "hoechst",
          "z": 8
         },
         {
          "section": "S008",
          "stack": "hoechst",
          "z": 8
         },
         {
          "section": "S008",
          "stack": "hoechst",
          "z": 8
         },
         {
          "section": "S008",
          "stack": "hoechst",
          "z": 8
         },
         {
          "section": "S008",
          "stack": "hoechst",
          "z": 8
         },
         {
          "section": "S008",
          "stack": "hoechst",
          "z": 8
         },
         {
          "section": "S008",
          "stack": "insulin",
          "z": 8
         },
         {
          "section": "S008",
          "stack": "insulin",
          "z": 8
         },
         {
          "section": "S008",
          "stack": "insulin",
          "z": 8
         },
         {
          "section": "S008",
          "stack": "insulin",
          "z": 8
         },
         {
          "section": "S008",
          "stack": "insulin",
          "z": 8
         },
         {
          "section": "S008",
          "stack": "insulin",
          "z": 8
         },
         {
          "section": "S008",
          "stack": "insulin",
          "z": 8
         },
         {
          "section": "S008",
          "stack": "insulin",
          "z": 8
         },
         {
          "section": "S008",
          "stack": "insulin",
          "z": 8
         },
         {
          "section": "S008",
          "stack": "insulin",
          "z": 8
         },
         {
          "section": "S008",
          "stack": "insulin",
          "z": 8
         },
         {
          "section": "S008",
          "stack": "insulin",
          "z": 8
         },
         {
          "section": "S008",
          "stack": "big_EM",
          "z": 8
         },
         {
          "section": "S008",
          "stack": "big_EM",
          "z": 8
         },
         {
          "section": "S008",
          "stack": "big_EM",
          "z": 8
         },
         {
          "section": "S008",
          "stack": "big_EM",
          "z": 8
         },
         {
          "section": "S008",
          "stack": "big_EM",
          "z": 8
         },
         {
          "section": "S008",
          "stack": "big_EM",
          "z": 8
         },
         {
          "section": "S008",
          "stack": "big_EM",
          "z": 8
         },
         {
          "section": "S008",
          "stack": "big_EM",
          "z": 8
         },
         {
          "section": "S008",
          "stack": "big_EM",
          "z": 8
         },
         {
          "section": "S008",
          "stack": "big_EM",
          "z": 8
         },
         {
          "section": "S008",
          "stack": "big_EM",
          "z": 8
         },
         {
          "section": "S008",
          "stack": "big_EM",
          "z": 8
         },
         {
          "section": "S008",
          "stack": "lil_EM",
          "z": 8
         },
         {
          "section": "S008",
          "stack": "lil_EM",
          "z": 8
         },
         {
          "section": "S008",
          "stack": "lil_EM",
          "z": 8
         },
         {
          "section": "S008",
          "stack": "lil_EM",
          "z": 8
         },
         {
          "section": "S008",
          "stack": "lil_EM",
          "z": 8
         },
         {
          "section": "S008",
          "stack": "lil_EM",
          "z": 8
         },
         {
          "section": "S008",
          "stack": "lil_EM",
          "z": 8
         },
         {
          "section": "S008",
          "stack": "lil_EM",
          "z": 8
         },
         {
          "section": "S008",
          "stack": "lil_EM",
          "z": 8
         },
         {
          "section": "S008",
          "stack": "lil_EM",
          "z": 8
         },
         {
          "section": "S008",
          "stack": "lil_EM",
          "z": 8
         },
         {
          "section": "S008",
          "stack": "lil_EM",
          "z": 8
         },
         {
          "section": "S008",
          "stack": "lil_EM",
          "z": 8
         },
         {
          "section": "S008",
          "stack": "lil_EM",
          "z": 8
         },
         {
          "section": "S008",
          "stack": "lil_EM",
          "z": 8
         },
         {
          "section": "S008",
          "stack": "lil_EM",
          "z": 8
         },
         {
          "section": "S008",
          "stack": "lil_EM",
          "z": 8
         },
         {
          "section": "S008",
          "stack": "lil_EM",
          "z": 8
         },
         {
          "section": "S008",
          "stack": "lil_EM",
          "z": 8
         },
         {
          "section": "S008",
          "stack": "lil_EM",
          "z": 8
         },
         {
          "section": "S008",
          "stack": "lil_EM",
          "z": 8
         },
         {
          "section": "S008",
          "stack": "lil_EM",
          "z": 8
         },
         {
          "section": "S008",
          "stack": "lil_EM",
          "z": 8
         },
         {
          "section": "S008",
          "stack": "lil_EM",
          "z": 8
         },
         {
          "section": "S008",
          "stack": "lil_EM",
          "z": 8
         },
         {
          "section": "S008",
          "stack": "lil_EM",
          "z": 8
         },
         {
          "section": "S008",
          "stack": "lil_EM",
          "z": 8
         },
         {
          "section": "S008",
          "stack": "lil_EM",
          "z": 8
         },
         {
          "section": "S008",
          "stack": "lil_EM",
          "z": 8
         },
         {
          "section": "S008",
          "stack": "lil_EM",
          "z": 8
         },
         {
          "section": "S008",
          "stack": "lil_EM",
          "z": 8
         },
         {
          "section": "S008",
          "stack": "lil_EM",
          "z": 8
         },
         {
          "section": "S008",
          "stack": "lil_EM",
          "z": 8
         },
         {
          "section": "S008",
          "stack": "lil_EM",
          "z": 8
         },
         {
          "section": "S008",
          "stack": "lil_EM",
          "z": 8
         },
         {
          "section": "S008",
          "stack": "lil_EM",
          "z": 8
         },
         {
          "section": "S008",
          "stack": "lil_EM",
          "z": 8
         },
         {
          "section": "S008",
          "stack": "lil_EM",
          "z": 8
         },
         {
          "section": "S008",
          "stack": "lil_EM",
          "z": 8
         },
         {
          "section": "S008",
          "stack": "lil_EM",
          "z": 8
         },
         {
          "section": "S008",
          "stack": "lil_EM",
          "z": 8
         },
         {
          "section": "S008",
          "stack": "lil_EM",
          "z": 8
         },
         {
          "section": "S008",
          "stack": "lil_EM",
          "z": 8
         },
         {
          "section": "S008",
          "stack": "lil_EM",
          "z": 8
         },
         {
          "section": "S008",
          "stack": "lil_EM",
          "z": 8
         },
         {
          "section": "S008",
          "stack": "lil_EM",
          "z": 8
         },
         {
          "section": "S008",
          "stack": "lil_EM",
          "z": 8
         },
         {
          "section": "S008",
          "stack": "lil_EM",
          "z": 8
         },
         {
          "section": "S008",
          "stack": "lil_EM",
          "z": 8
         },
         {
          "section": "S008",
          "stack": "lil_EM",
          "z": 8
         },
         {
          "section": "S008",
          "stack": "lil_EM",
          "z": 8
         },
         {
          "section": "S008",
          "stack": "lil_EM",
          "z": 8
         },
         {
          "section": "S008",
          "stack": "lil_EM",
          "z": 8
         },
         {
          "section": "S008",
          "stack": "lil_EM",
          "z": 8
         },
         {
          "section": "S008",
          "stack": "lil_EM",
          "z": 8
         },
         {
          "section": "S008",
          "stack": "lil_EM",
          "z": 8
         },
         {
          "section": "S008",
          "stack": "lil_EM",
          "z": 8
         },
         {
          "section": "S008",
          "stack": "lil_EM",
          "z": 8
         },
         {
          "section": "S008",
          "stack": "lil_EM",
          "z": 8
         },
         {
          "section": "S008",
          "stack": "lil_EM",
          "z": 8
         },
         {
          "section": "S008",
          "stack": "lil_EM",
          "z": 8
         },
         {
          "section": "S008",
          "stack": "lil_EM",
          "z": 8
         },
         {
          "section": "S008",
          "stack": "lil_EM",
          "z": 8
         },
         {
          "section": "S008",
          "stack": "lil_EM",
          "z": 8
         },
         {
          "section": "S008",
          "stack": "lil_EM",
          "z": 8
         },
         {
          "section": "S008",
          "stack": "lil_EM",
          "z": 8
         },
         {
          "section": "S008",
          "stack": "lil_EM",
          "z": 8
         },
         {
          "section": "S008",
          "stack": "lil_EM",
          "z": 8
         },
         {
          "section": "S008",
          "stack": "lil_EM",
          "z": 8
         },
         {
          "section": "S008",
          "stack": "lil_EM",
          "z": 8
         },
         {
          "section": "S008",
          "stack": "lil_EM",
          "z": 8
         },
         {
          "section": "S008",
          "stack": "lil_EM",
          "z": 8
         },
         {
          "section": "S008",
          "stack": "lil_EM",
          "z": 8
         },
         {
          "section": "S008",
          "stack": "lil_EM",
          "z": 8
         },
         {
          "section": "S008",
          "stack": "lil_EM",
          "z": 8
         },
         {
          "section": "S008",
          "stack": "lil_EM",
          "z": 8
         },
         {
          "section": "S008",
          "stack": "lil_EM",
          "z": 8
         },
         {
          "section": "S008",
          "stack": "lil_EM",
          "z": 8
         },
         {
          "section": "S008",
          "stack": "lil_EM",
          "z": 8
         },
         {
          "section": "S008",
          "stack": "lil_EM",
          "z": 8
         },
         {
          "section": "S008",
          "stack": "lil_EM",
          "z": 8
         },
         {
          "section": "S008",
          "stack": "lil_EM",
          "z": 8
         },
         {
          "section": "S008",
          "stack": "lil_EM",
          "z": 8
         },
         {
          "section": "S008",
          "stack": "lil_EM",
          "z": 8
         },
         {
          "section": "S008",
          "stack": "lil_EM",
          "z": 8
         },
         {
          "section": "S008",
          "stack": "lil_EM",
          "z": 8
         },
         {
          "section": "S008",
          "stack": "lil_EM",
          "z": 8
         },
         {
          "section": "S008",
          "stack": "lil_EM",
          "z": 8
         },
         {
          "section": "S008",
          "stack": "lil_EM",
          "z": 8
         },
         {
          "section": "S008",
          "stack": "lil_EM",
          "z": 8
         },
         {
          "section": "S008",
          "stack": "lil_EM",
          "z": 8
         },
         {
          "section": "S008",
          "stack": "lil_EM",
          "z": 8
         },
         {
          "section": "S008",
          "stack": "lil_EM",
          "z": 8
         },
         {
          "section": "S008",
          "stack": "lil_EM",
          "z": 8
         },
         {
          "section": "S008",
          "stack": "lil_EM",
          "z": 8
         },
         {
          "section": "S008",
          "stack": "lil_EM",
          "z": 8
         },
         {
          "section": "S008",
          "stack": "lil_EM",
          "z": 8
         },
         {
          "section": "S008",
          "stack": "lil_EM",
          "z": 8
         },
         {
          "section": "S008",
          "stack": "lil_EM",
          "z": 8
         },
         {
          "section": "S008",
          "stack": "lil_EM",
          "z": 8
         },
         {
          "section": "S008",
          "stack": "lil_EM",
          "z": 8
         },
         {
          "section": "S008",
          "stack": "lil_EM",
          "z": 8
         },
         {
          "section": "S008",
          "stack": "lil_EM",
          "z": 8
         },
         {
          "section": "S008",
          "stack": "lil_EM",
          "z": 8
         },
         {
          "section": "S008",
          "stack": "lil_EM",
          "z": 8
         },
         {
          "section": "S008",
          "stack": "lil_EM",
          "z": 8
         },
         {
          "section": "S008",
          "stack": "lil_EM",
          "z": 8
         },
         {
          "section": "S008",
          "stack": "lil_EM",
          "z": 8
         },
         {
          "section": "S008",
          "stack": "lil_EM",
          "z": 8
         },
         {
          "section": "S008",
          "stack": "lil_EM",
          "z": 8
         },
         {
          "section": "S008",
          "stack": "lil_EM",
          "z": 8
         },
         {
          "section": "S008",
          "stack": "lil_EM",
          "z": 8
         },
         {
          "section": "S008",
          "stack": "lil_EM",
          "z": 8
         },
         {
          "section": "S008",
          "stack": "lil_EM",
          "z": 8
         },
         {
          "section": "S008",
          "stack": "lil_EM",
          "z": 8
         },
         {
          "section": "S008",
          "stack": "lil_EM",
          "z": 8
         },
         {
          "section": "S008",
          "stack": "lil_EM",
          "z": 8
         },
         {
          "section": "S008",
          "stack": "lil_EM",
          "z": 8
         },
         {
          "section": "S008",
          "stack": "lil_EM",
          "z": 8
         },
         {
          "section": "S008",
          "stack": "lil_EM",
          "z": 8
         },
         {
          "section": "S008",
          "stack": "lil_EM",
          "z": 8
         },
         {
          "section": "S008",
          "stack": "lil_EM",
          "z": 8
         },
         {
          "section": "S008",
          "stack": "lil_EM",
          "z": 8
         },
         {
          "section": "S008",
          "stack": "lil_EM",
          "z": 8
         },
         {
          "section": "S008",
          "stack": "lil_EM",
          "z": 8
         },
         {
          "section": "S008",
          "stack": "lil_EM",
          "z": 8
         },
         {
          "section": "S008",
          "stack": "lil_EM",
          "z": 8
         },
         {
          "section": "S008",
          "stack": "lil_EM",
          "z": 8
         },
         {
          "section": "S008",
          "stack": "lil_EM",
          "z": 8
         },
         {
          "section": "S008",
          "stack": "lil_EM",
          "z": 8
         },
         {
          "section": "S008",
          "stack": "lil_EM",
          "z": 8
         },
         {
          "section": "S008",
          "stack": "lil_EM",
          "z": 8
         },
         {
          "section": "S008",
          "stack": "lil_EM",
          "z": 8
         },
         {
          "section": "S008",
          "stack": "lil_EM",
          "z": 8
         },
         {
          "section": "S008",
          "stack": "lil_EM",
          "z": 8
         },
         {
          "section": "S008",
          "stack": "lil_EM",
          "z": 8
         },
         {
          "section": "S008",
          "stack": "lil_EM",
          "z": 8
         },
         {
          "section": "S008",
          "stack": "lil_EM",
          "z": 8
         },
         {
          "section": "S008",
          "stack": "lil_EM",
          "z": 8
         },
         {
          "section": "S008",
          "stack": "lil_EM",
          "z": 8
         },
         {
          "section": "S008",
          "stack": "lil_EM",
          "z": 8
         },
         {
          "section": "S008",
          "stack": "lil_EM",
          "z": 8
         },
         {
          "section": "S008",
          "stack": "lil_EM",
          "z": 8
         },
         {
          "section": "S008",
          "stack": "lil_EM",
          "z": 8
         },
         {
          "section": "S008",
          "stack": "lil_EM",
          "z": 8
         },
         {
          "section": "S008",
          "stack": "lil_EM",
          "z": 8
         },
         {
          "section": "S008",
          "stack": "lil_EM",
          "z": 8
         },
         {
          "section": "S008",
          "stack": "lil_EM",
          "z": 8
         },
         {
          "section": "S008",
          "stack": "lil_EM",
          "z": 8
         },
         {
          "section": "S008",
          "stack": "lil_EM",
          "z": 8
         },
         {
          "section": "S008",
          "stack": "lil_EM",
          "z": 8
         },
         {
          "section": "S008",
          "stack": "lil_EM",
          "z": 8
         },
         {
          "section": "S008",
          "stack": "lil_EM",
          "z": 8
         },
         {
          "section": "S008",
          "stack": "lil_EM",
          "z": 8
         },
         {
          "section": "S008",
          "stack": "lil_EM",
          "z": 8
         },
         {
          "section": "S008",
          "stack": "lil_EM",
          "z": 8
         },
         {
          "section": "S008",
          "stack": "lil_EM",
          "z": 8
         },
         {
          "section": "S008",
          "stack": "lil_EM",
          "z": 8
         },
         {
          "section": "S008",
          "stack": "lil_EM",
          "z": 8
         },
         {
          "section": "S008",
          "stack": "lil_EM",
          "z": 8
         },
         {
          "section": "S008",
          "stack": "lil_EM",
          "z": 8
         },
         {
          "section": "S008",
          "stack": "lil_EM",
          "z": 8
         },
         {
          "section": "S008",
          "stack": "lil_EM",
          "z": 8
         },
         {
          "section": "S008",
          "stack": "lil_EM",
          "z": 8
         },
         {
          "section": "S008",
          "stack": "lil_EM",
          "z": 8
         },
         {
          "section": "S008",
          "stack": "lil_EM",
          "z": 8
         },
         {
          "section": "S008",
          "stack": "lil_EM",
          "z": 8
         },
         {
          "section": "S008",
          "stack": "lil_EM",
          "z": 8
         },
         {
          "section": "S008",
          "stack": "lil_EM",
          "z": 8
         },
         {
          "section": "S008",
          "stack": "lil_EM",
          "z": 8
         },
         {
          "section": "S008",
          "stack": "lil_EM",
          "z": 8
         },
         {
          "section": "S008",
          "stack": "lil_EM",
          "z": 8
         },
         {
          "section": "S008",
          "stack": "lil_EM",
          "z": 8
         },
         {
          "section": "S008",
          "stack": "lil_EM",
          "z": 8
         },
         {
          "section": "S008",
          "stack": "lil_EM",
          "z": 8
         },
         {
          "section": "S008",
          "stack": "lil_EM",
          "z": 8
         },
         {
          "section": "S008",
          "stack": "lil_EM",
          "z": 8
         },
         {
          "section": "S008",
          "stack": "lil_EM",
          "z": 8
         },
         {
          "section": "S008",
          "stack": "lil_EM",
          "z": 8
         },
         {
          "section": "S008",
          "stack": "lil_EM",
          "z": 8
         },
         {
          "section": "S008",
          "stack": "lil_EM",
          "z": 8
         },
         {
          "section": "S008",
          "stack": "lil_EM",
          "z": 8
         },
         {
          "section": "S008",
          "stack": "lil_EM",
          "z": 8
         },
         {
          "section": "S008",
          "stack": "lil_EM",
          "z": 8
         },
         {
          "section": "S008",
          "stack": "lil_EM",
          "z": 8
         },
         {
          "section": "S008",
          "stack": "lil_EM",
          "z": 8
         },
         {
          "section": "S008",
          "stack": "lil_EM",
          "z": 8
         },
         {
          "section": "S008",
          "stack": "lil_EM",
          "z": 8
         },
         {
          "section": "S008",
          "stack": "lil_EM",
          "z": 8
         },
         {
          "section": "S008",
          "stack": "lil_EM",
          "z": 8
         },
         {
          "section": "S008",
          "stack": "lil_EM",
          "z": 8
         },
         {
          "section": "S008",
          "stack": "lil_EM",
          "z": 8
         },
         {
          "section": "S008",
          "stack": "lil_EM",
          "z": 8
         },
         {
          "section": "S008",
          "stack": "lil_EM",
          "z": 8
         },
         {
          "section": "S008",
          "stack": "lil_EM",
          "z": 8
         },
         {
          "section": "S008",
          "stack": "lil_EM",
          "z": 8
         },
         {
          "section": "S008",
          "stack": "lil_EM",
          "z": 8
         },
         {
          "section": "S008",
          "stack": "lil_EM",
          "z": 8
         },
         {
          "section": "S008",
          "stack": "lil_EM",
          "z": 8
         },
         {
          "section": "S008",
          "stack": "lil_EM",
          "z": 8
         },
         {
          "section": "S008",
          "stack": "lil_EM",
          "z": 8
         },
         {
          "section": "S008",
          "stack": "lil_EM",
          "z": 8
         },
         {
          "section": "S008",
          "stack": "lil_EM",
          "z": 8
         },
         {
          "section": "S008",
          "stack": "lil_EM",
          "z": 8
         },
         {
          "section": "S008",
          "stack": "lil_EM",
          "z": 8
         },
         {
          "section": "S008",
          "stack": "lil_EM",
          "z": 8
         },
         {
          "section": "S008",
          "stack": "lil_EM",
          "z": 8
         },
         {
          "section": "S008",
          "stack": "lil_EM",
          "z": 8
         },
         {
          "section": "S008",
          "stack": "lil_EM",
          "z": 8
         },
         {
          "section": "S008",
          "stack": "lil_EM",
          "z": 8
         },
         {
          "section": "S008",
          "stack": "lil_EM",
          "z": 8
         },
         {
          "section": "S008",
          "stack": "lil_EM",
          "z": 8
         },
         {
          "section": "S008",
          "stack": "lil_EM",
          "z": 8
         },
         {
          "section": "S008",
          "stack": "lil_EM",
          "z": 8
         },
         {
          "section": "S008",
          "stack": "lil_EM",
          "z": 8
         },
         {
          "section": "S008",
          "stack": "lil_EM",
          "z": 8
         },
         {
          "section": "S008",
          "stack": "lil_EM",
          "z": 8
         },
         {
          "section": "S008",
          "stack": "lil_EM",
          "z": 8
         },
         {
          "section": "S008",
          "stack": "lil_EM",
          "z": 8
         },
         {
          "section": "S008",
          "stack": "lil_EM",
          "z": 8
         },
         {
          "section": "S008",
          "stack": "lil_EM",
          "z": 8
         },
         {
          "section": "S008",
          "stack": "lil_EM",
          "z": 8
         },
         {
          "section": "S008",
          "stack": "lil_EM",
          "z": 8
         },
         {
          "section": "S008",
          "stack": "lil_EM",
          "z": 8
         },
         {
          "section": "S008",
          "stack": "lil_EM",
          "z": 8
         },
         {
          "section": "S008",
          "stack": "lil_EM",
          "z": 8
         },
         {
          "section": "S008",
          "stack": "lil_EM",
          "z": 8
         },
         {
          "section": "S008",
          "stack": "lil_EM",
          "z": 8
         },
         {
          "section": "S008",
          "stack": "lil_EM",
          "z": 8
         },
         {
          "section": "S008",
          "stack": "lil_EM",
          "z": 8
         },
         {
          "section": "S008",
          "stack": "lil_EM",
          "z": 8
         },
         {
          "section": "S008",
          "stack": "lil_EM",
          "z": 8
         },
         {
          "section": "S008",
          "stack": "lil_EM",
          "z": 8
         },
         {
          "section": "S008",
          "stack": "lil_EM",
          "z": 8
         },
         {
          "section": "S008",
          "stack": "lil_EM",
          "z": 8
         },
         {
          "section": "S008",
          "stack": "lil_EM",
          "z": 8
         },
         {
          "section": "S008",
          "stack": "lil_EM",
          "z": 8
         },
         {
          "section": "S008",
          "stack": "lil_EM",
          "z": 8
         },
         {
          "section": "S008",
          "stack": "lil_EM",
          "z": 8
         },
         {
          "section": "S008",
          "stack": "lil_EM",
          "z": 8
         },
         {
          "section": "S008",
          "stack": "lil_EM",
          "z": 8
         },
         {
          "section": "S008",
          "stack": "lil_EM",
          "z": 8
         },
         {
          "section": "S008",
          "stack": "lil_EM",
          "z": 8
         },
         {
          "section": "S008",
          "stack": "lil_EM",
          "z": 8
         },
         {
          "section": "S008",
          "stack": "lil_EM",
          "z": 8
         },
         {
          "section": "S008",
          "stack": "lil_EM",
          "z": 8
         },
         {
          "section": "S008",
          "stack": "lil_EM",
          "z": 8
         },
         {
          "section": "S008",
          "stack": "lil_EM",
          "z": 8
         },
         {
          "section": "S008",
          "stack": "lil_EM",
          "z": 8
         },
         {
          "section": "S008",
          "stack": "lil_EM",
          "z": 8
         },
         {
          "section": "S008",
          "stack": "lil_EM",
          "z": 8
         },
         {
          "section": "S008",
          "stack": "lil_EM",
          "z": 8
         },
         {
          "section": "S008",
          "stack": "lil_EM",
          "z": 8
         },
         {
          "section": "S008",
          "stack": "lil_EM",
          "z": 8
         },
         {
          "section": "S008",
          "stack": "lil_EM",
          "z": 8
         },
         {
          "section": "S008",
          "stack": "lil_EM",
          "z": 8
         },
         {
          "section": "S008",
          "stack": "lil_EM",
          "z": 8
         },
         {
          "section": "S008",
          "stack": "lil_EM",
          "z": 8
         },
         {
          "section": "S008",
          "stack": "lil_EM",
          "z": 8
         },
         {
          "section": "S008",
          "stack": "lil_EM",
          "z": 8
         },
         {
          "section": "S008",
          "stack": "lil_EM",
          "z": 8
         },
         {
          "section": "S008",
          "stack": "lil_EM",
          "z": 8
         },
         {
          "section": "S008",
          "stack": "lil_EM",
          "z": 8
         },
         {
          "section": "S008",
          "stack": "lil_EM",
          "z": 8
         },
         {
          "section": "S008",
          "stack": "lil_EM",
          "z": 8
         },
         {
          "section": "S008",
          "stack": "lil_EM",
          "z": 8
         },
         {
          "section": "S008",
          "stack": "lil_EM",
          "z": 8
         },
         {
          "section": "S008",
          "stack": "lil_EM",
          "z": 8
         },
         {
          "section": "S008",
          "stack": "lil_EM",
          "z": 8
         },
         {
          "section": "S008",
          "stack": "lil_EM",
          "z": 8
         },
         {
          "section": "S008",
          "stack": "lil_EM",
          "z": 8
         },
         {
          "section": "S008",
          "stack": "lil_EM",
          "z": 8
         },
         {
          "section": "S008",
          "stack": "lil_EM",
          "z": 8
         },
         {
          "section": "S008",
          "stack": "lil_EM",
          "z": 8
         },
         {
          "section": "S008",
          "stack": "lil_EM",
          "z": 8
         },
         {
          "section": "S008",
          "stack": "lil_EM",
          "z": 8
         },
         {
          "section": "S008",
          "stack": "lil_EM",
          "z": 8
         },
         {
          "section": "S008",
          "stack": "lil_EM",
          "z": 8
         },
         {
          "section": "S008",
          "stack": "lil_EM",
          "z": 8
         },
         {
          "section": "S008",
          "stack": "lil_EM",
          "z": 8
         },
         {
          "section": "S008",
          "stack": "lil_EM",
          "z": 8
         },
         {
          "section": "S008",
          "stack": "lil_EM",
          "z": 8
         },
         {
          "section": "S008",
          "stack": "lil_EM",
          "z": 8
         },
         {
          "section": "S008",
          "stack": "lil_EM",
          "z": 8
         },
         {
          "section": "S008",
          "stack": "lil_EM",
          "z": 8
         },
         {
          "section": "S008",
          "stack": "lil_EM",
          "z": 8
         },
         {
          "section": "S008",
          "stack": "lil_EM",
          "z": 8
         },
         {
          "section": "S008",
          "stack": "lil_EM",
          "z": 8
         },
         {
          "section": "S008",
          "stack": "lil_EM",
          "z": 8
         },
         {
          "section": "S008",
          "stack": "lil_EM",
          "z": 8
         },
         {
          "section": "S008",
          "stack": "lil_EM",
          "z": 8
         },
         {
          "section": "S008",
          "stack": "lil_EM",
          "z": 8
         },
         {
          "section": "S008",
          "stack": "lil_EM",
          "z": 8
         },
         {
          "section": "S008",
          "stack": "lil_EM",
          "z": 8
         },
         {
          "section": "S008",
          "stack": "lil_EM",
          "z": 8
         },
         {
          "section": "S008",
          "stack": "lil_EM",
          "z": 8
         },
         {
          "section": "S008",
          "stack": "lil_EM",
          "z": 8
         },
         {
          "section": "S008",
          "stack": "lil_EM",
          "z": 8
         },
         {
          "section": "S008",
          "stack": "lil_EM",
          "z": 8
         },
         {
          "section": "S008",
          "stack": "lil_EM",
          "z": 8
         },
         {
          "section": "S008",
          "stack": "lil_EM",
          "z": 8
         },
         {
          "section": "S008",
          "stack": "lil_EM",
          "z": 8
         },
         {
          "section": "S008",
          "stack": "lil_EM",
          "z": 8
         },
         {
          "section": "S008",
          "stack": "lil_EM",
          "z": 8
         },
         {
          "section": "S008",
          "stack": "lil_EM",
          "z": 8
         },
         {
          "section": "S008",
          "stack": "lil_EM",
          "z": 8
         },
         {
          "section": "S008",
          "stack": "lil_EM",
          "z": 8
         },
         {
          "section": "S008",
          "stack": "lil_EM",
          "z": 8
         },
         {
          "section": "S008",
          "stack": "lil_EM",
          "z": 8
         },
         {
          "section": "S008",
          "stack": "lil_EM",
          "z": 8
         },
         {
          "section": "S008",
          "stack": "lil_EM",
          "z": 8
         },
         {
          "section": "S008",
          "stack": "lil_EM",
          "z": 8
         },
         {
          "section": "S008",
          "stack": "lil_EM",
          "z": 8
         },
         {
          "section": "S008",
          "stack": "lil_EM",
          "z": 8
         },
         {
          "section": "S008",
          "stack": "lil_EM",
          "z": 8
         },
         {
          "section": "S008",
          "stack": "lil_EM",
          "z": 8
         },
         {
          "section": "S008",
          "stack": "lil_EM",
          "z": 8
         },
         {
          "section": "S008",
          "stack": "lil_EM",
          "z": 8
         },
         {
          "section": "S008",
          "stack": "lil_EM",
          "z": 8
         },
         {
          "section": "S008",
          "stack": "lil_EM",
          "z": 8
         },
         {
          "section": "S009",
          "stack": "hoechst",
          "z": 9
         },
         {
          "section": "S009",
          "stack": "hoechst",
          "z": 9
         },
         {
          "section": "S009",
          "stack": "hoechst",
          "z": 9
         },
         {
          "section": "S009",
          "stack": "hoechst",
          "z": 9
         },
         {
          "section": "S009",
          "stack": "hoechst",
          "z": 9
         },
         {
          "section": "S009",
          "stack": "hoechst",
          "z": 9
         },
         {
          "section": "S009",
          "stack": "hoechst",
          "z": 9
         },
         {
          "section": "S009",
          "stack": "hoechst",
          "z": 9
         },
         {
          "section": "S009",
          "stack": "hoechst",
          "z": 9
         },
         {
          "section": "S009",
          "stack": "hoechst",
          "z": 9
         },
         {
          "section": "S009",
          "stack": "hoechst",
          "z": 9
         },
         {
          "section": "S009",
          "stack": "hoechst",
          "z": 9
         },
         {
          "section": "S009",
          "stack": "insulin",
          "z": 9
         },
         {
          "section": "S009",
          "stack": "insulin",
          "z": 9
         },
         {
          "section": "S009",
          "stack": "insulin",
          "z": 9
         },
         {
          "section": "S009",
          "stack": "insulin",
          "z": 9
         },
         {
          "section": "S009",
          "stack": "insulin",
          "z": 9
         },
         {
          "section": "S009",
          "stack": "insulin",
          "z": 9
         },
         {
          "section": "S009",
          "stack": "insulin",
          "z": 9
         },
         {
          "section": "S009",
          "stack": "insulin",
          "z": 9
         },
         {
          "section": "S009",
          "stack": "insulin",
          "z": 9
         },
         {
          "section": "S009",
          "stack": "insulin",
          "z": 9
         },
         {
          "section": "S009",
          "stack": "insulin",
          "z": 9
         },
         {
          "section": "S009",
          "stack": "insulin",
          "z": 9
         },
         {
          "section": "S009",
          "stack": "big_EM",
          "z": 9
         },
         {
          "section": "S009",
          "stack": "big_EM",
          "z": 9
         },
         {
          "section": "S009",
          "stack": "big_EM",
          "z": 9
         },
         {
          "section": "S009",
          "stack": "big_EM",
          "z": 9
         },
         {
          "section": "S009",
          "stack": "big_EM",
          "z": 9
         },
         {
          "section": "S009",
          "stack": "big_EM",
          "z": 9
         },
         {
          "section": "S009",
          "stack": "big_EM",
          "z": 9
         },
         {
          "section": "S009",
          "stack": "big_EM",
          "z": 9
         },
         {
          "section": "S009",
          "stack": "big_EM",
          "z": 9
         },
         {
          "section": "S009",
          "stack": "big_EM",
          "z": 9
         },
         {
          "section": "S009",
          "stack": "big_EM",
          "z": 9
         },
         {
          "section": "S009",
          "stack": "big_EM",
          "z": 9
         },
         {
          "section": "S009",
          "stack": "lil_EM",
          "z": 9
         },
         {
          "section": "S009",
          "stack": "lil_EM",
          "z": 9
         },
         {
          "section": "S009",
          "stack": "lil_EM",
          "z": 9
         },
         {
          "section": "S009",
          "stack": "lil_EM",
          "z": 9
         },
         {
          "section": "S009",
          "stack": "lil_EM",
          "z": 9
         },
         {
          "section": "S009",
          "stack": "lil_EM",
          "z": 9
         },
         {
          "section": "S009",
          "stack": "lil_EM",
          "z": 9
         },
         {
          "section": "S009",
          "stack": "lil_EM",
          "z": 9
         },
         {
          "section": "S009",
          "stack": "lil_EM",
          "z": 9
         },
         {
          "section": "S009",
          "stack": "lil_EM",
          "z": 9
         },
         {
          "section": "S009",
          "stack": "lil_EM",
          "z": 9
         },
         {
          "section": "S009",
          "stack": "lil_EM",
          "z": 9
         },
         {
          "section": "S009",
          "stack": "lil_EM",
          "z": 9
         },
         {
          "section": "S009",
          "stack": "lil_EM",
          "z": 9
         },
         {
          "section": "S009",
          "stack": "lil_EM",
          "z": 9
         },
         {
          "section": "S009",
          "stack": "lil_EM",
          "z": 9
         },
         {
          "section": "S009",
          "stack": "lil_EM",
          "z": 9
         },
         {
          "section": "S009",
          "stack": "lil_EM",
          "z": 9
         },
         {
          "section": "S009",
          "stack": "lil_EM",
          "z": 9
         },
         {
          "section": "S009",
          "stack": "lil_EM",
          "z": 9
         },
         {
          "section": "S009",
          "stack": "lil_EM",
          "z": 9
         },
         {
          "section": "S009",
          "stack": "lil_EM",
          "z": 9
         },
         {
          "section": "S009",
          "stack": "lil_EM",
          "z": 9
         },
         {
          "section": "S009",
          "stack": "lil_EM",
          "z": 9
         },
         {
          "section": "S009",
          "stack": "lil_EM",
          "z": 9
         },
         {
          "section": "S009",
          "stack": "lil_EM",
          "z": 9
         },
         {
          "section": "S009",
          "stack": "lil_EM",
          "z": 9
         },
         {
          "section": "S009",
          "stack": "lil_EM",
          "z": 9
         },
         {
          "section": "S009",
          "stack": "lil_EM",
          "z": 9
         },
         {
          "section": "S009",
          "stack": "lil_EM",
          "z": 9
         },
         {
          "section": "S009",
          "stack": "lil_EM",
          "z": 9
         },
         {
          "section": "S009",
          "stack": "lil_EM",
          "z": 9
         },
         {
          "section": "S009",
          "stack": "lil_EM",
          "z": 9
         },
         {
          "section": "S009",
          "stack": "lil_EM",
          "z": 9
         },
         {
          "section": "S009",
          "stack": "lil_EM",
          "z": 9
         },
         {
          "section": "S009",
          "stack": "lil_EM",
          "z": 9
         },
         {
          "section": "S009",
          "stack": "lil_EM",
          "z": 9
         },
         {
          "section": "S009",
          "stack": "lil_EM",
          "z": 9
         },
         {
          "section": "S009",
          "stack": "lil_EM",
          "z": 9
         },
         {
          "section": "S009",
          "stack": "lil_EM",
          "z": 9
         },
         {
          "section": "S009",
          "stack": "lil_EM",
          "z": 9
         },
         {
          "section": "S009",
          "stack": "lil_EM",
          "z": 9
         },
         {
          "section": "S009",
          "stack": "lil_EM",
          "z": 9
         },
         {
          "section": "S009",
          "stack": "lil_EM",
          "z": 9
         },
         {
          "section": "S009",
          "stack": "lil_EM",
          "z": 9
         },
         {
          "section": "S009",
          "stack": "lil_EM",
          "z": 9
         },
         {
          "section": "S009",
          "stack": "lil_EM",
          "z": 9
         },
         {
          "section": "S009",
          "stack": "lil_EM",
          "z": 9
         },
         {
          "section": "S009",
          "stack": "lil_EM",
          "z": 9
         },
         {
          "section": "S009",
          "stack": "lil_EM",
          "z": 9
         },
         {
          "section": "S009",
          "stack": "lil_EM",
          "z": 9
         },
         {
          "section": "S009",
          "stack": "lil_EM",
          "z": 9
         },
         {
          "section": "S009",
          "stack": "lil_EM",
          "z": 9
         },
         {
          "section": "S009",
          "stack": "lil_EM",
          "z": 9
         },
         {
          "section": "S009",
          "stack": "lil_EM",
          "z": 9
         },
         {
          "section": "S009",
          "stack": "lil_EM",
          "z": 9
         },
         {
          "section": "S009",
          "stack": "lil_EM",
          "z": 9
         },
         {
          "section": "S009",
          "stack": "lil_EM",
          "z": 9
         },
         {
          "section": "S009",
          "stack": "lil_EM",
          "z": 9
         },
         {
          "section": "S009",
          "stack": "lil_EM",
          "z": 9
         },
         {
          "section": "S009",
          "stack": "lil_EM",
          "z": 9
         },
         {
          "section": "S009",
          "stack": "lil_EM",
          "z": 9
         },
         {
          "section": "S009",
          "stack": "lil_EM",
          "z": 9
         },
         {
          "section": "S009",
          "stack": "lil_EM",
          "z": 9
         },
         {
          "section": "S009",
          "stack": "lil_EM",
          "z": 9
         },
         {
          "section": "S009",
          "stack": "lil_EM",
          "z": 9
         },
         {
          "section": "S009",
          "stack": "lil_EM",
          "z": 9
         },
         {
          "section": "S009",
          "stack": "lil_EM",
          "z": 9
         },
         {
          "section": "S009",
          "stack": "lil_EM",
          "z": 9
         },
         {
          "section": "S009",
          "stack": "lil_EM",
          "z": 9
         },
         {
          "section": "S009",
          "stack": "lil_EM",
          "z": 9
         },
         {
          "section": "S009",
          "stack": "lil_EM",
          "z": 9
         },
         {
          "section": "S009",
          "stack": "lil_EM",
          "z": 9
         },
         {
          "section": "S009",
          "stack": "lil_EM",
          "z": 9
         },
         {
          "section": "S009",
          "stack": "lil_EM",
          "z": 9
         },
         {
          "section": "S009",
          "stack": "lil_EM",
          "z": 9
         },
         {
          "section": "S009",
          "stack": "lil_EM",
          "z": 9
         },
         {
          "section": "S009",
          "stack": "lil_EM",
          "z": 9
         },
         {
          "section": "S009",
          "stack": "lil_EM",
          "z": 9
         },
         {
          "section": "S009",
          "stack": "lil_EM",
          "z": 9
         },
         {
          "section": "S009",
          "stack": "lil_EM",
          "z": 9
         },
         {
          "section": "S009",
          "stack": "lil_EM",
          "z": 9
         },
         {
          "section": "S009",
          "stack": "lil_EM",
          "z": 9
         },
         {
          "section": "S009",
          "stack": "lil_EM",
          "z": 9
         },
         {
          "section": "S009",
          "stack": "lil_EM",
          "z": 9
         },
         {
          "section": "S009",
          "stack": "lil_EM",
          "z": 9
         },
         {
          "section": "S009",
          "stack": "lil_EM",
          "z": 9
         },
         {
          "section": "S009",
          "stack": "lil_EM",
          "z": 9
         },
         {
          "section": "S009",
          "stack": "lil_EM",
          "z": 9
         },
         {
          "section": "S009",
          "stack": "lil_EM",
          "z": 9
         },
         {
          "section": "S009",
          "stack": "lil_EM",
          "z": 9
         },
         {
          "section": "S009",
          "stack": "lil_EM",
          "z": 9
         },
         {
          "section": "S009",
          "stack": "lil_EM",
          "z": 9
         },
         {
          "section": "S009",
          "stack": "lil_EM",
          "z": 9
         },
         {
          "section": "S009",
          "stack": "lil_EM",
          "z": 9
         },
         {
          "section": "S009",
          "stack": "lil_EM",
          "z": 9
         },
         {
          "section": "S009",
          "stack": "lil_EM",
          "z": 9
         },
         {
          "section": "S009",
          "stack": "lil_EM",
          "z": 9
         },
         {
          "section": "S009",
          "stack": "lil_EM",
          "z": 9
         },
         {
          "section": "S009",
          "stack": "lil_EM",
          "z": 9
         },
         {
          "section": "S009",
          "stack": "lil_EM",
          "z": 9
         },
         {
          "section": "S009",
          "stack": "lil_EM",
          "z": 9
         },
         {
          "section": "S009",
          "stack": "lil_EM",
          "z": 9
         },
         {
          "section": "S009",
          "stack": "lil_EM",
          "z": 9
         },
         {
          "section": "S009",
          "stack": "lil_EM",
          "z": 9
         },
         {
          "section": "S009",
          "stack": "lil_EM",
          "z": 9
         },
         {
          "section": "S009",
          "stack": "lil_EM",
          "z": 9
         },
         {
          "section": "S009",
          "stack": "lil_EM",
          "z": 9
         },
         {
          "section": "S009",
          "stack": "lil_EM",
          "z": 9
         },
         {
          "section": "S009",
          "stack": "lil_EM",
          "z": 9
         },
         {
          "section": "S009",
          "stack": "lil_EM",
          "z": 9
         },
         {
          "section": "S009",
          "stack": "lil_EM",
          "z": 9
         },
         {
          "section": "S009",
          "stack": "lil_EM",
          "z": 9
         },
         {
          "section": "S009",
          "stack": "lil_EM",
          "z": 9
         },
         {
          "section": "S009",
          "stack": "lil_EM",
          "z": 9
         },
         {
          "section": "S009",
          "stack": "lil_EM",
          "z": 9
         },
         {
          "section": "S009",
          "stack": "lil_EM",
          "z": 9
         },
         {
          "section": "S009",
          "stack": "lil_EM",
          "z": 9
         },
         {
          "section": "S009",
          "stack": "lil_EM",
          "z": 9
         },
         {
          "section": "S009",
          "stack": "lil_EM",
          "z": 9
         },
         {
          "section": "S009",
          "stack": "lil_EM",
          "z": 9
         },
         {
          "section": "S009",
          "stack": "lil_EM",
          "z": 9
         },
         {
          "section": "S009",
          "stack": "lil_EM",
          "z": 9
         },
         {
          "section": "S009",
          "stack": "lil_EM",
          "z": 9
         },
         {
          "section": "S009",
          "stack": "lil_EM",
          "z": 9
         },
         {
          "section": "S009",
          "stack": "lil_EM",
          "z": 9
         },
         {
          "section": "S009",
          "stack": "lil_EM",
          "z": 9
         },
         {
          "section": "S009",
          "stack": "lil_EM",
          "z": 9
         },
         {
          "section": "S009",
          "stack": "lil_EM",
          "z": 9
         },
         {
          "section": "S009",
          "stack": "lil_EM",
          "z": 9
         },
         {
          "section": "S009",
          "stack": "lil_EM",
          "z": 9
         },
         {
          "section": "S009",
          "stack": "lil_EM",
          "z": 9
         },
         {
          "section": "S009",
          "stack": "lil_EM",
          "z": 9
         },
         {
          "section": "S009",
          "stack": "lil_EM",
          "z": 9
         },
         {
          "section": "S009",
          "stack": "lil_EM",
          "z": 9
         },
         {
          "section": "S009",
          "stack": "lil_EM",
          "z": 9
         },
         {
          "section": "S009",
          "stack": "lil_EM",
          "z": 9
         },
         {
          "section": "S009",
          "stack": "lil_EM",
          "z": 9
         },
         {
          "section": "S009",
          "stack": "lil_EM",
          "z": 9
         },
         {
          "section": "S009",
          "stack": "lil_EM",
          "z": 9
         },
         {
          "section": "S009",
          "stack": "lil_EM",
          "z": 9
         },
         {
          "section": "S009",
          "stack": "lil_EM",
          "z": 9
         },
         {
          "section": "S009",
          "stack": "lil_EM",
          "z": 9
         },
         {
          "section": "S009",
          "stack": "lil_EM",
          "z": 9
         },
         {
          "section": "S009",
          "stack": "lil_EM",
          "z": 9
         },
         {
          "section": "S009",
          "stack": "lil_EM",
          "z": 9
         },
         {
          "section": "S009",
          "stack": "lil_EM",
          "z": 9
         },
         {
          "section": "S009",
          "stack": "lil_EM",
          "z": 9
         },
         {
          "section": "S009",
          "stack": "lil_EM",
          "z": 9
         },
         {
          "section": "S009",
          "stack": "lil_EM",
          "z": 9
         },
         {
          "section": "S009",
          "stack": "lil_EM",
          "z": 9
         },
         {
          "section": "S009",
          "stack": "lil_EM",
          "z": 9
         },
         {
          "section": "S009",
          "stack": "lil_EM",
          "z": 9
         },
         {
          "section": "S009",
          "stack": "lil_EM",
          "z": 9
         },
         {
          "section": "S009",
          "stack": "lil_EM",
          "z": 9
         },
         {
          "section": "S009",
          "stack": "lil_EM",
          "z": 9
         },
         {
          "section": "S009",
          "stack": "lil_EM",
          "z": 9
         },
         {
          "section": "S009",
          "stack": "lil_EM",
          "z": 9
         },
         {
          "section": "S009",
          "stack": "lil_EM",
          "z": 9
         },
         {
          "section": "S009",
          "stack": "lil_EM",
          "z": 9
         },
         {
          "section": "S009",
          "stack": "lil_EM",
          "z": 9
         },
         {
          "section": "S009",
          "stack": "lil_EM",
          "z": 9
         },
         {
          "section": "S009",
          "stack": "lil_EM",
          "z": 9
         },
         {
          "section": "S009",
          "stack": "lil_EM",
          "z": 9
         },
         {
          "section": "S009",
          "stack": "lil_EM",
          "z": 9
         },
         {
          "section": "S009",
          "stack": "lil_EM",
          "z": 9
         },
         {
          "section": "S009",
          "stack": "lil_EM",
          "z": 9
         },
         {
          "section": "S009",
          "stack": "lil_EM",
          "z": 9
         },
         {
          "section": "S009",
          "stack": "lil_EM",
          "z": 9
         },
         {
          "section": "S009",
          "stack": "lil_EM",
          "z": 9
         },
         {
          "section": "S009",
          "stack": "lil_EM",
          "z": 9
         },
         {
          "section": "S009",
          "stack": "lil_EM",
          "z": 9
         },
         {
          "section": "S009",
          "stack": "lil_EM",
          "z": 9
         },
         {
          "section": "S009",
          "stack": "lil_EM",
          "z": 9
         },
         {
          "section": "S009",
          "stack": "lil_EM",
          "z": 9
         },
         {
          "section": "S009",
          "stack": "lil_EM",
          "z": 9
         },
         {
          "section": "S009",
          "stack": "lil_EM",
          "z": 9
         },
         {
          "section": "S009",
          "stack": "lil_EM",
          "z": 9
         },
         {
          "section": "S009",
          "stack": "lil_EM",
          "z": 9
         },
         {
          "section": "S009",
          "stack": "lil_EM",
          "z": 9
         },
         {
          "section": "S009",
          "stack": "lil_EM",
          "z": 9
         },
         {
          "section": "S009",
          "stack": "lil_EM",
          "z": 9
         },
         {
          "section": "S009",
          "stack": "lil_EM",
          "z": 9
         },
         {
          "section": "S009",
          "stack": "lil_EM",
          "z": 9
         },
         {
          "section": "S009",
          "stack": "lil_EM",
          "z": 9
         },
         {
          "section": "S009",
          "stack": "lil_EM",
          "z": 9
         },
         {
          "section": "S009",
          "stack": "lil_EM",
          "z": 9
         },
         {
          "section": "S009",
          "stack": "lil_EM",
          "z": 9
         },
         {
          "section": "S009",
          "stack": "lil_EM",
          "z": 9
         },
         {
          "section": "S009",
          "stack": "lil_EM",
          "z": 9
         },
         {
          "section": "S009",
          "stack": "lil_EM",
          "z": 9
         },
         {
          "section": "S009",
          "stack": "lil_EM",
          "z": 9
         },
         {
          "section": "S009",
          "stack": "lil_EM",
          "z": 9
         },
         {
          "section": "S009",
          "stack": "lil_EM",
          "z": 9
         },
         {
          "section": "S009",
          "stack": "lil_EM",
          "z": 9
         },
         {
          "section": "S009",
          "stack": "lil_EM",
          "z": 9
         },
         {
          "section": "S009",
          "stack": "lil_EM",
          "z": 9
         },
         {
          "section": "S009",
          "stack": "lil_EM",
          "z": 9
         },
         {
          "section": "S009",
          "stack": "lil_EM",
          "z": 9
         },
         {
          "section": "S009",
          "stack": "lil_EM",
          "z": 9
         },
         {
          "section": "S009",
          "stack": "lil_EM",
          "z": 9
         },
         {
          "section": "S009",
          "stack": "lil_EM",
          "z": 9
         },
         {
          "section": "S009",
          "stack": "lil_EM",
          "z": 9
         },
         {
          "section": "S009",
          "stack": "lil_EM",
          "z": 9
         },
         {
          "section": "S009",
          "stack": "lil_EM",
          "z": 9
         },
         {
          "section": "S009",
          "stack": "lil_EM",
          "z": 9
         },
         {
          "section": "S009",
          "stack": "lil_EM",
          "z": 9
         },
         {
          "section": "S009",
          "stack": "lil_EM",
          "z": 9
         },
         {
          "section": "S009",
          "stack": "lil_EM",
          "z": 9
         },
         {
          "section": "S009",
          "stack": "lil_EM",
          "z": 9
         },
         {
          "section": "S009",
          "stack": "lil_EM",
          "z": 9
         },
         {
          "section": "S009",
          "stack": "lil_EM",
          "z": 9
         },
         {
          "section": "S009",
          "stack": "lil_EM",
          "z": 9
         },
         {
          "section": "S009",
          "stack": "lil_EM",
          "z": 9
         },
         {
          "section": "S009",
          "stack": "lil_EM",
          "z": 9
         },
         {
          "section": "S009",
          "stack": "lil_EM",
          "z": 9
         },
         {
          "section": "S009",
          "stack": "lil_EM",
          "z": 9
         },
         {
          "section": "S009",
          "stack": "lil_EM",
          "z": 9
         },
         {
          "section": "S009",
          "stack": "lil_EM",
          "z": 9
         },
         {
          "section": "S009",
          "stack": "lil_EM",
          "z": 9
         },
         {
          "section": "S009",
          "stack": "lil_EM",
          "z": 9
         },
         {
          "section": "S009",
          "stack": "lil_EM",
          "z": 9
         },
         {
          "section": "S009",
          "stack": "lil_EM",
          "z": 9
         },
         {
          "section": "S009",
          "stack": "lil_EM",
          "z": 9
         },
         {
          "section": "S009",
          "stack": "lil_EM",
          "z": 9
         },
         {
          "section": "S009",
          "stack": "lil_EM",
          "z": 9
         },
         {
          "section": "S009",
          "stack": "lil_EM",
          "z": 9
         },
         {
          "section": "S009",
          "stack": "lil_EM",
          "z": 9
         },
         {
          "section": "S009",
          "stack": "lil_EM",
          "z": 9
         },
         {
          "section": "S009",
          "stack": "lil_EM",
          "z": 9
         },
         {
          "section": "S009",
          "stack": "lil_EM",
          "z": 9
         },
         {
          "section": "S009",
          "stack": "lil_EM",
          "z": 9
         },
         {
          "section": "S009",
          "stack": "lil_EM",
          "z": 9
         },
         {
          "section": "S009",
          "stack": "lil_EM",
          "z": 9
         },
         {
          "section": "S009",
          "stack": "lil_EM",
          "z": 9
         },
         {
          "section": "S009",
          "stack": "lil_EM",
          "z": 9
         },
         {
          "section": "S009",
          "stack": "lil_EM",
          "z": 9
         },
         {
          "section": "S009",
          "stack": "lil_EM",
          "z": 9
         },
         {
          "section": "S009",
          "stack": "lil_EM",
          "z": 9
         },
         {
          "section": "S009",
          "stack": "lil_EM",
          "z": 9
         },
         {
          "section": "S009",
          "stack": "lil_EM",
          "z": 9
         },
         {
          "section": "S009",
          "stack": "lil_EM",
          "z": 9
         },
         {
          "section": "S009",
          "stack": "lil_EM",
          "z": 9
         },
         {
          "section": "S009",
          "stack": "lil_EM",
          "z": 9
         },
         {
          "section": "S009",
          "stack": "lil_EM",
          "z": 9
         },
         {
          "section": "S009",
          "stack": "lil_EM",
          "z": 9
         },
         {
          "section": "S009",
          "stack": "lil_EM",
          "z": 9
         },
         {
          "section": "S009",
          "stack": "lil_EM",
          "z": 9
         },
         {
          "section": "S009",
          "stack": "lil_EM",
          "z": 9
         },
         {
          "section": "S009",
          "stack": "lil_EM",
          "z": 9
         },
         {
          "section": "S009",
          "stack": "lil_EM",
          "z": 9
         },
         {
          "section": "S009",
          "stack": "lil_EM",
          "z": 9
         },
         {
          "section": "S009",
          "stack": "lil_EM",
          "z": 9
         },
         {
          "section": "S009",
          "stack": "lil_EM",
          "z": 9
         },
         {
          "section": "S009",
          "stack": "lil_EM",
          "z": 9
         },
         {
          "section": "S009",
          "stack": "lil_EM",
          "z": 9
         },
         {
          "section": "S009",
          "stack": "lil_EM",
          "z": 9
         },
         {
          "section": "S009",
          "stack": "lil_EM",
          "z": 9
         },
         {
          "section": "S009",
          "stack": "lil_EM",
          "z": 9
         },
         {
          "section": "S009",
          "stack": "lil_EM",
          "z": 9
         },
         {
          "section": "S009",
          "stack": "lil_EM",
          "z": 9
         },
         {
          "section": "S009",
          "stack": "lil_EM",
          "z": 9
         },
         {
          "section": "S009",
          "stack": "lil_EM",
          "z": 9
         },
         {
          "section": "S009",
          "stack": "lil_EM",
          "z": 9
         },
         {
          "section": "S009",
          "stack": "lil_EM",
          "z": 9
         },
         {
          "section": "S009",
          "stack": "lil_EM",
          "z": 9
         },
         {
          "section": "S009",
          "stack": "lil_EM",
          "z": 9
         },
         {
          "section": "S009",
          "stack": "lil_EM",
          "z": 9
         },
         {
          "section": "S009",
          "stack": "lil_EM",
          "z": 9
         },
         {
          "section": "S009",
          "stack": "lil_EM",
          "z": 9
         },
         {
          "section": "S009",
          "stack": "lil_EM",
          "z": 9
         },
         {
          "section": "S009",
          "stack": "lil_EM",
          "z": 9
         },
         {
          "section": "S009",
          "stack": "lil_EM",
          "z": 9
         },
         {
          "section": "S009",
          "stack": "lil_EM",
          "z": 9
         },
         {
          "section": "S009",
          "stack": "lil_EM",
          "z": 9
         },
         {
          "section": "S009",
          "stack": "lil_EM",
          "z": 9
         },
         {
          "section": "S009",
          "stack": "lil_EM",
          "z": 9
         },
         {
          "section": "S009",
          "stack": "lil_EM",
          "z": 9
         },
         {
          "section": "S009",
          "stack": "lil_EM",
          "z": 9
         },
         {
          "section": "S009",
          "stack": "lil_EM",
          "z": 9
         },
         {
          "section": "S009",
          "stack": "lil_EM",
          "z": 9
         },
         {
          "section": "S009",
          "stack": "lil_EM",
          "z": 9
         },
         {
          "section": "S009",
          "stack": "lil_EM",
          "z": 9
         },
         {
          "section": "S009",
          "stack": "lil_EM",
          "z": 9
         },
         {
          "section": "S009",
          "stack": "lil_EM",
          "z": 9
         },
         {
          "section": "S009",
          "stack": "lil_EM",
          "z": 9
         },
         {
          "section": "S009",
          "stack": "lil_EM",
          "z": 9
         },
         {
          "section": "S009",
          "stack": "lil_EM",
          "z": 9
         },
         {
          "section": "S009",
          "stack": "lil_EM",
          "z": 9
         },
         {
          "section": "S009",
          "stack": "lil_EM",
          "z": 9
         },
         {
          "section": "S009",
          "stack": "lil_EM",
          "z": 9
         },
         {
          "section": "S009",
          "stack": "lil_EM",
          "z": 9
         },
         {
          "section": "S009",
          "stack": "lil_EM",
          "z": 9
         },
         {
          "section": "S009",
          "stack": "lil_EM",
          "z": 9
         },
         {
          "section": "S009",
          "stack": "lil_EM",
          "z": 9
         },
         {
          "section": "S009",
          "stack": "lil_EM",
          "z": 9
         },
         {
          "section": "S009",
          "stack": "lil_EM",
          "z": 9
         },
         {
          "section": "S009",
          "stack": "lil_EM",
          "z": 9
         },
         {
          "section": "S009",
          "stack": "lil_EM",
          "z": 9
         },
         {
          "section": "S009",
          "stack": "lil_EM",
          "z": 9
         },
         {
          "section": "S009",
          "stack": "lil_EM",
          "z": 9
         },
         {
          "section": "S009",
          "stack": "lil_EM",
          "z": 9
         },
         {
          "section": "S009",
          "stack": "lil_EM",
          "z": 9
         },
         {
          "section": "S009",
          "stack": "lil_EM",
          "z": 9
         },
         {
          "section": "S009",
          "stack": "lil_EM",
          "z": 9
         },
         {
          "section": "S009",
          "stack": "lil_EM",
          "z": 9
         },
         {
          "section": "S009",
          "stack": "lil_EM",
          "z": 9
         },
         {
          "section": "S009",
          "stack": "lil_EM",
          "z": 9
         },
         {
          "section": "S009",
          "stack": "lil_EM",
          "z": 9
         },
         {
          "section": "S009",
          "stack": "lil_EM",
          "z": 9
         },
         {
          "section": "S009",
          "stack": "lil_EM",
          "z": 9
         },
         {
          "section": "S009",
          "stack": "lil_EM",
          "z": 9
         },
         {
          "section": "S009",
          "stack": "lil_EM",
          "z": 9
         },
         {
          "section": "S009",
          "stack": "lil_EM",
          "z": 9
         },
         {
          "section": "S009",
          "stack": "lil_EM",
          "z": 9
         },
         {
          "section": "S009",
          "stack": "lil_EM",
          "z": 9
         },
         {
          "section": "S009",
          "stack": "lil_EM",
          "z": 9
         },
         {
          "section": "S009",
          "stack": "lil_EM",
          "z": 9
         },
         {
          "section": "S009",
          "stack": "lil_EM",
          "z": 9
         },
         {
          "section": "S009",
          "stack": "lil_EM",
          "z": 9
         }
        ]
       },
       "facet": {
        "column": {
         "field": "section",
         "type": "nominal"
        }
       },
       "spec": {
        "height": 150,
        "layer": [
         {
          "encoding": {
           "color": {
            "field": "stack",
            "type": "nominal"
           },
           "x": {
            "aggregate": "count",
            "type": "quantitative"
           },
           "y": {
            "field": "stack",
            "type": "nominal"
           }
          },
          "mark": "bar"
         },
         {
          "encoding": {
           "color": {
            "field": "stack",
            "type": "nominal"
           },
           "text": {
            "aggregate": "count",
            "type": "quantitative"
           },
           "x": {
            "aggregate": "count",
            "type": "quantitative"
           },
           "y": {
            "field": "stack",
            "type": "nominal"
           }
          },
          "mark": {
           "align": "left",
           "baseline": "middle",
           "type": "text"
          }
         }
        ],
        "width": 200
       }
      },
      "image/png": "[encoded data removed]",
      "text/plain": [
       "<VegaLite 3 object>\n",
       "\n",
       "If you see this message, it means the renderer has not been properly enabled\n",
       "for the frontend that you are using. For more information, see\n",
       "https://altair-viz.github.io/user_guide/troubleshooting.html\n"
      ]
     },
     "execution_count": 15,
     "metadata": {},
     "output_type": "execute_result"
    }
   ],
   "source": [
    "# Make tile count DataFrame for plotting / display purposes\n",
    "df_tilecount = df_tiles.loc[:, ['section', 'stack', 'z']]\n",
    "bars = alt.Chart(df_tilecount).mark_bar().encode(\n",
    "    x='count()',\n",
    "    y='stack:N',\n",
    "    color='stack:N',\n",
    ")\n",
    "\n",
    "text = bars.mark_text(\n",
    "    align='left',\n",
    "    baseline='middle'\n",
    ").encode(\n",
    "    text='count()'\n",
    ")\n",
    "\n",
    "alt.layer(bars, text, data=df_tilecount).properties(\n",
    "    width=200,\n",
    "    height=150,\n",
    ").facet(\n",
    "    column='section:N'\n",
    ")"
   ]
  },
  {
   "cell_type": "markdown",
   "metadata": {},
   "source": [
    "## Refine image tile DataFrame\n",
    "---"
   ]
  },
  {
   "cell_type": "markdown",
   "metadata": {},
   "source": [
    "### `tileId` - add alphanumeric prefix"
   ]
  },
  {
   "cell_type": "code",
   "execution_count": 16,
   "metadata": {},
   "outputs": [],
   "source": [
    "def gen_prefix(n=3):\n",
    "    \"\"\"Generates a sequence of length `n` characters in alphabetical order\n",
    "    e.g. for n=3 [aaa, aab, aac, ..., zzx, zzy, zzz]\n",
    "    \"\"\"\n",
    "    n = min(n, 4)\n",
    "    characters = 'abcdefghijklmnopqrstuvwxyz'\n",
    "    for s in product(characters, repeat=n):\n",
    "        yield ''.join(s)"
   ]
  },
  {
   "cell_type": "code",
   "execution_count": 17,
   "metadata": {},
   "outputs": [
    {
     "data": {
      "text/html": [
       "<div>\n",
       "<style scoped>\n",
       "    .dataframe tbody tr th:only-of-type {\n",
       "        vertical-align: middle;\n",
       "    }\n",
       "\n",
       "    .dataframe tbody tr th {\n",
       "        vertical-align: top;\n",
       "    }\n",
       "\n",
       "    .dataframe thead th {\n",
       "        text-align: right;\n",
       "    }\n",
       "</style>\n",
       "<table border=\"1\" class=\"dataframe\">\n",
       "  <thead>\n",
       "    <tr style=\"text-align: right;\">\n",
       "      <th></th>\n",
       "      <th></th>\n",
       "      <th>z</th>\n",
       "      <th>section</th>\n",
       "      <th>imageRow</th>\n",
       "      <th>imageCol</th>\n",
       "      <th>stageX</th>\n",
       "      <th>stageY</th>\n",
       "      <th>width</th>\n",
       "      <th>height</th>\n",
       "      <th>pixelsize</th>\n",
       "      <th>tileId</th>\n",
       "      <th>acqTime</th>\n",
       "    </tr>\n",
       "    <tr>\n",
       "      <th>stack</th>\n",
       "      <th></th>\n",
       "      <th></th>\n",
       "      <th></th>\n",
       "      <th></th>\n",
       "      <th></th>\n",
       "      <th></th>\n",
       "      <th></th>\n",
       "      <th></th>\n",
       "      <th></th>\n",
       "      <th></th>\n",
       "      <th></th>\n",
       "      <th></th>\n",
       "    </tr>\n",
       "  </thead>\n",
       "  <tbody>\n",
       "    <tr>\n",
       "      <td rowspan=\"3\" valign=\"top\">big_EM</td>\n",
       "      <td>0</td>\n",
       "      <td>1</td>\n",
       "      <td>S001</td>\n",
       "      <td>3</td>\n",
       "      <td>0</td>\n",
       "      <td>-954.430000</td>\n",
       "      <td>5906.398000</td>\n",
       "      <td>4096</td>\n",
       "      <td>4096</td>\n",
       "      <td>33.566317</td>\n",
       "      <td>aaa_big_EM-S001-00000x00003</td>\n",
       "      <td>2019-11-02 14:04:30</td>\n",
       "    </tr>\n",
       "    <tr>\n",
       "      <td>1</td>\n",
       "      <td>1</td>\n",
       "      <td>S001</td>\n",
       "      <td>3</td>\n",
       "      <td>1</td>\n",
       "      <td>-763.989000</td>\n",
       "      <td>5906.401000</td>\n",
       "      <td>4096</td>\n",
       "      <td>4096</td>\n",
       "      <td>33.566317</td>\n",
       "      <td>aab_big_EM-S001-00001x00003</td>\n",
       "      <td>2019-11-02 14:02:40</td>\n",
       "    </tr>\n",
       "    <tr>\n",
       "      <td>2</td>\n",
       "      <td>1</td>\n",
       "      <td>S001</td>\n",
       "      <td>3</td>\n",
       "      <td>2</td>\n",
       "      <td>-573.547000</td>\n",
       "      <td>5906.478000</td>\n",
       "      <td>4096</td>\n",
       "      <td>4096</td>\n",
       "      <td>33.566317</td>\n",
       "      <td>aac_big_EM-S001-00002x00003</td>\n",
       "      <td>2019-11-02 14:00:51</td>\n",
       "    </tr>\n",
       "    <tr>\n",
       "      <td rowspan=\"3\" valign=\"top\">hoechst</td>\n",
       "      <td>108</td>\n",
       "      <td>1</td>\n",
       "      <td>S001</td>\n",
       "      <td>3</td>\n",
       "      <td>0</td>\n",
       "      <td>-951.984544</td>\n",
       "      <td>5905.630277</td>\n",
       "      <td>2048</td>\n",
       "      <td>2048</td>\n",
       "      <td>106.356298</td>\n",
       "      <td>aaa_hoechst-S001-00000x00003</td>\n",
       "      <td>2019-11-02 14:04:22</td>\n",
       "    </tr>\n",
       "    <tr>\n",
       "      <td>109</td>\n",
       "      <td>1</td>\n",
       "      <td>S001</td>\n",
       "      <td>3</td>\n",
       "      <td>1</td>\n",
       "      <td>-761.187101</td>\n",
       "      <td>5905.677940</td>\n",
       "      <td>2048</td>\n",
       "      <td>2048</td>\n",
       "      <td>106.337112</td>\n",
       "      <td>aab_hoechst-S001-00001x00003</td>\n",
       "      <td>2019-11-02 14:02:33</td>\n",
       "    </tr>\n",
       "    <tr>\n",
       "      <td>110</td>\n",
       "      <td>1</td>\n",
       "      <td>S001</td>\n",
       "      <td>3</td>\n",
       "      <td>2</td>\n",
       "      <td>-570.443158</td>\n",
       "      <td>5905.827960</td>\n",
       "      <td>2048</td>\n",
       "      <td>2048</td>\n",
       "      <td>106.321854</td>\n",
       "      <td>aac_hoechst-S001-00002x00003</td>\n",
       "      <td>2019-11-02 14:00:43</td>\n",
       "    </tr>\n",
       "    <tr>\n",
       "      <td rowspan=\"3\" valign=\"top\">insulin</td>\n",
       "      <td>216</td>\n",
       "      <td>1</td>\n",
       "      <td>S001</td>\n",
       "      <td>3</td>\n",
       "      <td>0</td>\n",
       "      <td>-951.984544</td>\n",
       "      <td>5905.630277</td>\n",
       "      <td>2048</td>\n",
       "      <td>2048</td>\n",
       "      <td>106.356298</td>\n",
       "      <td>aaa_insulin-S001-00000x00003</td>\n",
       "      <td>2019-11-02 14:04:26</td>\n",
       "    </tr>\n",
       "    <tr>\n",
       "      <td>217</td>\n",
       "      <td>1</td>\n",
       "      <td>S001</td>\n",
       "      <td>3</td>\n",
       "      <td>1</td>\n",
       "      <td>-761.187101</td>\n",
       "      <td>5905.677940</td>\n",
       "      <td>2048</td>\n",
       "      <td>2048</td>\n",
       "      <td>106.337112</td>\n",
       "      <td>aab_insulin-S001-00001x00003</td>\n",
       "      <td>2019-11-02 14:02:37</td>\n",
       "    </tr>\n",
       "    <tr>\n",
       "      <td>218</td>\n",
       "      <td>1</td>\n",
       "      <td>S001</td>\n",
       "      <td>3</td>\n",
       "      <td>2</td>\n",
       "      <td>-570.443158</td>\n",
       "      <td>5905.827960</td>\n",
       "      <td>2048</td>\n",
       "      <td>2048</td>\n",
       "      <td>106.321854</td>\n",
       "      <td>aac_insulin-S001-00002x00003</td>\n",
       "      <td>2019-11-02 14:00:47</td>\n",
       "    </tr>\n",
       "    <tr>\n",
       "      <td rowspan=\"3\" valign=\"top\">lil_EM</td>\n",
       "      <td>324</td>\n",
       "      <td>1</td>\n",
       "      <td>S001</td>\n",
       "      <td>19</td>\n",
       "      <td>0</td>\n",
       "      <td>-809.153000</td>\n",
       "      <td>6049.631000</td>\n",
       "      <td>4096</td>\n",
       "      <td>4096</td>\n",
       "      <td>4.859737</td>\n",
       "      <td>aaa_lil_EM-S001-00000x00019</td>\n",
       "      <td>2019-11-03 01:43:53</td>\n",
       "    </tr>\n",
       "    <tr>\n",
       "      <td>325</td>\n",
       "      <td>1</td>\n",
       "      <td>S001</td>\n",
       "      <td>19</td>\n",
       "      <td>1</td>\n",
       "      <td>-791.563000</td>\n",
       "      <td>6049.626000</td>\n",
       "      <td>4096</td>\n",
       "      <td>4096</td>\n",
       "      <td>4.859737</td>\n",
       "      <td>aab_lil_EM-S001-00001x00019</td>\n",
       "      <td>2019-11-03 01:42:44</td>\n",
       "    </tr>\n",
       "    <tr>\n",
       "      <td>326</td>\n",
       "      <td>1</td>\n",
       "      <td>S001</td>\n",
       "      <td>19</td>\n",
       "      <td>2</td>\n",
       "      <td>-774.143000</td>\n",
       "      <td>6049.629000</td>\n",
       "      <td>4096</td>\n",
       "      <td>4096</td>\n",
       "      <td>4.859737</td>\n",
       "      <td>aac_lil_EM-S001-00002x00019</td>\n",
       "      <td>2019-11-03 01:41:34</td>\n",
       "    </tr>\n",
       "  </tbody>\n",
       "</table>\n",
       "</div>"
      ],
      "text/plain": [
       "             z section  imageRow  imageCol      stageX       stageY  width  \\\n",
       "stack                                                                        \n",
       "big_EM  0    1    S001         3         0 -954.430000  5906.398000   4096   \n",
       "        1    1    S001         3         1 -763.989000  5906.401000   4096   \n",
       "        2    1    S001         3         2 -573.547000  5906.478000   4096   \n",
       "hoechst 108  1    S001         3         0 -951.984544  5905.630277   2048   \n",
       "        109  1    S001         3         1 -761.187101  5905.677940   2048   \n",
       "        110  1    S001         3         2 -570.443158  5905.827960   2048   \n",
       "insulin 216  1    S001         3         0 -951.984544  5905.630277   2048   \n",
       "        217  1    S001         3         1 -761.187101  5905.677940   2048   \n",
       "        218  1    S001         3         2 -570.443158  5905.827960   2048   \n",
       "lil_EM  324  1    S001        19         0 -809.153000  6049.631000   4096   \n",
       "        325  1    S001        19         1 -791.563000  6049.626000   4096   \n",
       "        326  1    S001        19         2 -774.143000  6049.629000   4096   \n",
       "\n",
       "             height   pixelsize                        tileId  \\\n",
       "stack                                                           \n",
       "big_EM  0      4096   33.566317   aaa_big_EM-S001-00000x00003   \n",
       "        1      4096   33.566317   aab_big_EM-S001-00001x00003   \n",
       "        2      4096   33.566317   aac_big_EM-S001-00002x00003   \n",
       "hoechst 108    2048  106.356298  aaa_hoechst-S001-00000x00003   \n",
       "        109    2048  106.337112  aab_hoechst-S001-00001x00003   \n",
       "        110    2048  106.321854  aac_hoechst-S001-00002x00003   \n",
       "insulin 216    2048  106.356298  aaa_insulin-S001-00000x00003   \n",
       "        217    2048  106.337112  aab_insulin-S001-00001x00003   \n",
       "        218    2048  106.321854  aac_insulin-S001-00002x00003   \n",
       "lil_EM  324    4096    4.859737   aaa_lil_EM-S001-00000x00019   \n",
       "        325    4096    4.859737   aab_lil_EM-S001-00001x00019   \n",
       "        326    4096    4.859737   aac_lil_EM-S001-00002x00019   \n",
       "\n",
       "                        acqTime  \n",
       "stack                            \n",
       "big_EM  0   2019-11-02 14:04:30  \n",
       "        1   2019-11-02 14:02:40  \n",
       "        2   2019-11-02 14:00:51  \n",
       "hoechst 108 2019-11-02 14:04:22  \n",
       "        109 2019-11-02 14:02:33  \n",
       "        110 2019-11-02 14:00:43  \n",
       "insulin 216 2019-11-02 14:04:26  \n",
       "        217 2019-11-02 14:02:37  \n",
       "        218 2019-11-02 14:00:47  \n",
       "lil_EM  324 2019-11-03 01:43:53  \n",
       "        325 2019-11-03 01:42:44  \n",
       "        326 2019-11-03 01:41:34  "
      ]
     },
     "execution_count": 17,
     "metadata": {},
     "output_type": "execute_result"
    }
   ],
   "source": [
    "# Group by tileset\n",
    "tilesets = []\n",
    "for (stack, z), tileset in df_tiles.groupby(['stack', 'z']):\n",
    "    \n",
    "    # Sort by acquisition time such that top entry is last acquired\n",
    "    tileset = tileset.sort_values('acqTime', ascending=False)\\\n",
    "                     .reset_index(drop=True).copy()\n",
    "    \n",
    "    # Prepend alphanumeric prefix to each tileId\n",
    "    prefixes = pd.Series(gen_prefix())[:len(tileset)]\n",
    "    tileset['tileId'] = prefixes + '_' + tileset['tileId']\n",
    "    tilesets.append(tileset)\n",
    "    \n",
    "# Update image tile DataFrame\n",
    "df_tiles = pd.concat(tilesets).reset_index(drop=True)\n",
    "# Preview\n",
    "df_tiles.groupby(['stack'])\\\n",
    "        .apply(lambda x: x.head(3))[cols_preview]"
   ]
  },
  {
   "cell_type": "markdown",
   "metadata": {},
   "source": [
    "### Stage coordinates"
   ]
  },
  {
   "cell_type": "code",
   "execution_count": null,
   "metadata": {},
   "outputs": [],
   "source": []
  },
  {
   "cell_type": "markdown",
   "metadata": {},
   "source": [
    "### `tforms` - set affine transformations"
   ]
  },
  {
   "cell_type": "code",
   "execution_count": null,
   "metadata": {},
   "outputs": [],
   "source": []
  },
  {
   "cell_type": "markdown",
   "metadata": {},
   "source": [
    "### `minint`, `maxint` - set min, max intensity levels "
   ]
  },
  {
   "cell_type": "markdown",
   "metadata": {},
   "source": [
    "#### FM channels\n",
    "Sample `N` FM image tiles (per section), take histogram and assign min, max intensity levels according to min and max percentile specified"
   ]
  },
  {
   "cell_type": "code",
   "execution_count": 223,
   "metadata": {},
   "outputs": [
    {
     "data": {
      "application/vnd.jupyter.widget-view+json": {
       "model_id": "c77c4a5007b142d899d60bd644f51eb4",
       "version_major": 2,
       "version_minor": 0
      },
      "text/plain": [
       "HBox(children=(IntProgress(value=0, max=18), HTML(value='')))"
      ]
     },
     "metadata": {},
     "output_type": "display_data"
    },
    {
     "name": "stdout",
     "output_type": "stream",
     "text": [
      "\n"
     ]
    },
    {
     "data": {
      "image/png": "[encoded data removed]",
      "text/plain": [
       "<Figure size 3240x288 with 9 Axes>"
      ]
     },
     "metadata": {
      "needs_background": "light"
     },
     "output_type": "display_data"
    }
   ],
   "source": [
    "# Parameters\n",
    "# ----------\n",
    "N = 10     # Sample size\n",
    "pct1 = 20  # min %ile\n",
    "pct2 = 95  # max %ile\n",
    "\n",
    "# Set up figure\n",
    "ncols=len(sections)\n",
    "fig, axes = plt.subplots(ncols=ncols, sharex=True, sharey=True,\n",
    "                         figsize=(ncols*5, 4))\n",
    "\n",
    "# Loop through FM stacks\n",
    "total = len(stacks_FM) * len(sections)\n",
    "axes_map = {k: v for k, v in zip(sections, axes.flat)}\n",
    "cmap = {k: v for k, v in zip(stacks_FM, sns.color_palette(n_colors=len(stacks_FM)))}\n",
    "for i, ((stack, section), tileset) in tqdm_notebook(enumerate(df_tiles.loc[df_tiles['stack'].isin(stacks_FM)]\\\n",
    "                                                                      .groupby(['stack', 'section'])), total=total):\n",
    "    # Choose random sample\n",
    "    fps = tileset.sample(n=min(N, len(tileset)))['imageUrl']\n",
    "\n",
    "    # Loop through sample image tiles\n",
    "    images = []\n",
    "    for fp in fps:\n",
    "\n",
    "        # Accumulate images\n",
    "        image = imread(fp.split('://')[1])\n",
    "        images.append(image)\n",
    "\n",
    "    # Take histograms\n",
    "    mean = np.mean(images, axis=0)\n",
    "    hist, bin_centers = histogram(mean)\n",
    "    p1, p2 = np.percentile(mean, (pct1, pct2))\n",
    "\n",
    "    # Set min, max intensity\n",
    "    df_tiles.loc[(df_tiles['stack'] == stack) &\\\n",
    "                 (df_tiles['section'] == section),\n",
    "                 ['minint', 'maxint']] = int(p1), int(p2)\n",
    "\n",
    "    # Plot\n",
    "    ax = axes_map[section]\n",
    "    color = cmap[stack]\n",
    "    ax.plot(bin_centers, hist, color=color, label=stack)\n",
    "    [ax.axvline(p, ymin=0.05, ymax=0.25, color=color) for p in [p1, p2]]\n",
    "    # Aesthetics\n",
    "    ax.set_title(section)\n",
    "    ax.set_xscale('symlog', basex=2)\n",
    "    ax.xaxis.set_major_formatter(mticker.ScalarFormatter())\n",
    "    ax.legend()\n",
    "    ax.grid(ls=':')"
   ]
  },
  {
   "cell_type": "markdown",
   "metadata": {},
   "source": [
    "#### EM channels\n",
    "Sample `N` FM image tiles (per section), take histogram and assign min, max intensity levels according to min and max percentile specified"
   ]
  },
  {
   "cell_type": "code",
   "execution_count": 226,
   "metadata": {},
   "outputs": [
    {
     "data": {
      "application/vnd.jupyter.widget-view+json": {
       "model_id": "84ac04a8542840b18128439f44ba4f88",
       "version_major": 2,
       "version_minor": 0
      },
      "text/plain": [
       "HBox(children=(IntProgress(value=0, max=18), HTML(value='')))"
      ]
     },
     "metadata": {},
     "output_type": "display_data"
    },
    {
     "name": "stdout",
     "output_type": "stream",
     "text": [
      "\n"
     ]
    },
    {
     "data": {
      "image/png": "[encoded data removed]",
      "text/plain": [
       "<Figure size 3240x288 with 9 Axes>"
      ]
     },
     "metadata": {
      "needs_background": "light"
     },
     "output_type": "display_data"
    }
   ],
   "source": [
    "# Parameters\n",
    "# ----------\n",
    "N = 10     # Sample size\n",
    "pct1 = 1   # min %ile\n",
    "pct2 = 99  # max %ile\n",
    "\n",
    "# Set up figure\n",
    "ncols=len(sections)\n",
    "fig, axes = plt.subplots(ncols=ncols, sharex=True, sharey=True,\n",
    "                         figsize=(ncols*5, 4))\n",
    "\n",
    "# Loop through EM stacks\n",
    "total = len(stacks_EM) * len(sections)\n",
    "axes_map = {k: v for k, v in zip(sections, axes.flat)}\n",
    "cmap = {k: v for k, v in zip(stacks_EM, sns.color_palette(n_colors=len(stacks_EM)))}\n",
    "for i, ((stack, section), tileset) in tqdm_notebook(enumerate(df_tiles.loc[df_tiles['stack'].isin(stacks_EM)]\\\n",
    "                                                                      .groupby(['stack', 'section'])), total=total):\n",
    "    # Choose random sample\n",
    "    fps = tileset.sample(n=min(N, len(tileset)))['imageUrl']\n",
    "\n",
    "    # Loop through sample image tiles\n",
    "    images = []\n",
    "    for fp in fps:\n",
    "\n",
    "        # Accumulate images\n",
    "        image = imread(fp.split('://')[1])\n",
    "        images.append(image)\n",
    "\n",
    "    # Take histograms\n",
    "    mean = np.mean(images, axis=0)\n",
    "    hist, bin_centers = histogram(mean)\n",
    "    p1, p2 = np.percentile(mean, (pct1, pct2))\n",
    "\n",
    "    # Set min, max intensity\n",
    "    df_tiles.loc[(df_tiles['stack'] == stack) &\\\n",
    "                 (df_tiles['section'] == section),\n",
    "                 ['minint', 'maxint']] = int(p1), int(p2)\n",
    "\n",
    "    # Plot\n",
    "    ax = axes_map[section]\n",
    "    color = cmap[stack]\n",
    "    ax.plot(bin_centers, hist, color=color, label=stack)\n",
    "    [ax.axvline(p, ymin=0.05, ymax=0.25, color=color) for p in [p1, p2]]\n",
    "    # Aesthetics\n",
    "    ax.set_title(section)\n",
    "    ax.legend()\n",
    "    ax.grid(ls=':')"
   ]
  },
  {
   "cell_type": "markdown",
   "metadata": {},
   "source": [
    "#### Optionally overwrite min, max intensity levels"
   ]
  },
  {
   "cell_type": "code",
   "execution_count": 216,
   "metadata": {},
   "outputs": [],
   "source": [
    "# # Specify stack and section(s)\n",
    "# stack_ = 'insulin'\n",
    "# sections_ = ['S002', 'S003', 'S005']\n",
    "\n",
    "# df_tiles.loc[(df_tiles['stack'] == stack_) &\\\n",
    "#              (df_tiles['section'].isin(sections_)),\n",
    "#              ['minint', 'maxint']] = 0, 65535"
   ]
  },
  {
   "cell_type": "code",
   "execution_count": 217,
   "metadata": {},
   "outputs": [
    {
     "data": {
      "text/html": [
       "<div>\n",
       "<style scoped>\n",
       "    .dataframe tbody tr th:only-of-type {\n",
       "        vertical-align: middle;\n",
       "    }\n",
       "\n",
       "    .dataframe tbody tr th {\n",
       "        vertical-align: top;\n",
       "    }\n",
       "\n",
       "    .dataframe thead th {\n",
       "        text-align: right;\n",
       "    }\n",
       "</style>\n",
       "<table border=\"1\" class=\"dataframe\">\n",
       "  <thead>\n",
       "    <tr style=\"text-align: right;\">\n",
       "      <th></th>\n",
       "      <th></th>\n",
       "      <th>z</th>\n",
       "      <th>section</th>\n",
       "      <th>imageRow</th>\n",
       "      <th>imageCol</th>\n",
       "      <th>stageX</th>\n",
       "      <th>stageY</th>\n",
       "      <th>width</th>\n",
       "      <th>height</th>\n",
       "      <th>pixelsize</th>\n",
       "      <th>tileId</th>\n",
       "      <th>acqTime</th>\n",
       "      <th>minint</th>\n",
       "      <th>maxint</th>\n",
       "    </tr>\n",
       "    <tr>\n",
       "      <th>stack</th>\n",
       "      <th></th>\n",
       "      <th></th>\n",
       "      <th></th>\n",
       "      <th></th>\n",
       "      <th></th>\n",
       "      <th></th>\n",
       "      <th></th>\n",
       "      <th></th>\n",
       "      <th></th>\n",
       "      <th></th>\n",
       "      <th></th>\n",
       "      <th></th>\n",
       "      <th></th>\n",
       "      <th></th>\n",
       "    </tr>\n",
       "  </thead>\n",
       "  <tbody>\n",
       "    <tr>\n",
       "      <td rowspan=\"3\" valign=\"top\">big_EM</td>\n",
       "      <td>15</td>\n",
       "      <td>2</td>\n",
       "      <td>S002</td>\n",
       "      <td>2</td>\n",
       "      <td>2</td>\n",
       "      <td>16.428000</td>\n",
       "      <td>6120.927000</td>\n",
       "      <td>4096</td>\n",
       "      <td>4096</td>\n",
       "      <td>33.566317</td>\n",
       "      <td>aad_big_EM-S002-00002x00002</td>\n",
       "      <td>2019-11-02 14:45:21</td>\n",
       "      <td>32594.0</td>\n",
       "      <td>33347.0</td>\n",
       "    </tr>\n",
       "    <tr>\n",
       "      <td>23</td>\n",
       "      <td>2</td>\n",
       "      <td>S002</td>\n",
       "      <td>0</td>\n",
       "      <td>0</td>\n",
       "      <td>-364.426000</td>\n",
       "      <td>6510.063000</td>\n",
       "      <td>4096</td>\n",
       "      <td>4096</td>\n",
       "      <td>33.566317</td>\n",
       "      <td>aal_big_EM-S002-00000x00000</td>\n",
       "      <td>2019-11-02 14:30:43</td>\n",
       "      <td>32594.0</td>\n",
       "      <td>33347.0</td>\n",
       "    </tr>\n",
       "    <tr>\n",
       "      <td>16</td>\n",
       "      <td>2</td>\n",
       "      <td>S002</td>\n",
       "      <td>2</td>\n",
       "      <td>1</td>\n",
       "      <td>-174.005000</td>\n",
       "      <td>6120.914000</td>\n",
       "      <td>4096</td>\n",
       "      <td>4096</td>\n",
       "      <td>33.566317</td>\n",
       "      <td>aae_big_EM-S002-00001x00002</td>\n",
       "      <td>2019-11-02 14:43:31</td>\n",
       "      <td>32594.0</td>\n",
       "      <td>33347.0</td>\n",
       "    </tr>\n",
       "    <tr>\n",
       "      <td rowspan=\"3\" valign=\"top\">hoechst</td>\n",
       "      <td>138</td>\n",
       "      <td>3</td>\n",
       "      <td>S003</td>\n",
       "      <td>1</td>\n",
       "      <td>0</td>\n",
       "      <td>229.148156</td>\n",
       "      <td>6340.945910</td>\n",
       "      <td>2048</td>\n",
       "      <td>2048</td>\n",
       "      <td>106.398678</td>\n",
       "      <td>aag_hoechst-S003-00000x00001</td>\n",
       "      <td>2019-11-02 15:10:12</td>\n",
       "      <td>772.0</td>\n",
       "      <td>1197.0</td>\n",
       "    </tr>\n",
       "    <tr>\n",
       "      <td>136</td>\n",
       "      <td>3</td>\n",
       "      <td>S003</td>\n",
       "      <td>2</td>\n",
       "      <td>1</td>\n",
       "      <td>420.167882</td>\n",
       "      <td>6146.126249</td>\n",
       "      <td>2048</td>\n",
       "      <td>2048</td>\n",
       "      <td>106.387415</td>\n",
       "      <td>aae_hoechst-S003-00001x00002</td>\n",
       "      <td>2019-11-02 15:13:52</td>\n",
       "      <td>772.0</td>\n",
       "      <td>1197.0</td>\n",
       "    </tr>\n",
       "    <tr>\n",
       "      <td>187</td>\n",
       "      <td>7</td>\n",
       "      <td>S007</td>\n",
       "      <td>1</td>\n",
       "      <td>1</td>\n",
       "      <td>2832.009499</td>\n",
       "      <td>6381.316683</td>\n",
       "      <td>2048</td>\n",
       "      <td>2048</td>\n",
       "      <td>106.467145</td>\n",
       "      <td>aah_hoechst-S007-00001x00001</td>\n",
       "      <td>2019-11-02 17:36:11</td>\n",
       "      <td>797.0</td>\n",
       "      <td>1234.0</td>\n",
       "    </tr>\n",
       "    <tr>\n",
       "      <td rowspan=\"3\" valign=\"top\">insulin</td>\n",
       "      <td>309</td>\n",
       "      <td>8</td>\n",
       "      <td>S008</td>\n",
       "      <td>0</td>\n",
       "      <td>2</td>\n",
       "      <td>3637.263123</td>\n",
       "      <td>6577.241090</td>\n",
       "      <td>2048</td>\n",
       "      <td>2048</td>\n",
       "      <td>106.532374</td>\n",
       "      <td>aaj_insulin-S008-00002x00000</td>\n",
       "      <td>2019-11-02 18:00:57</td>\n",
       "      <td>416.0</td>\n",
       "      <td>1059.0</td>\n",
       "    </tr>\n",
       "    <tr>\n",
       "      <td>292</td>\n",
       "      <td>7</td>\n",
       "      <td>S007</td>\n",
       "      <td>2</td>\n",
       "      <td>1</td>\n",
       "      <td>2832.251922</td>\n",
       "      <td>6186.423544</td>\n",
       "      <td>2048</td>\n",
       "      <td>2048</td>\n",
       "      <td>106.446226</td>\n",
       "      <td>aae_insulin-S007-00001x00002</td>\n",
       "      <td>2019-11-02 17:41:43</td>\n",
       "      <td>415.0</td>\n",
       "      <td>588.0</td>\n",
       "    </tr>\n",
       "    <tr>\n",
       "      <td>279</td>\n",
       "      <td>6</td>\n",
       "      <td>S006</td>\n",
       "      <td>2</td>\n",
       "      <td>2</td>\n",
       "      <td>2418.660329</td>\n",
       "      <td>6186.761886</td>\n",
       "      <td>2048</td>\n",
       "      <td>2048</td>\n",
       "      <td>106.439378</td>\n",
       "      <td>aad_insulin-S006-00002x00002</td>\n",
       "      <td>2019-11-02 17:01:01</td>\n",
       "      <td>418.0</td>\n",
       "      <td>594.0</td>\n",
       "    </tr>\n",
       "    <tr>\n",
       "      <td rowspan=\"3\" valign=\"top\">lil_EM</td>\n",
       "      <td>1330</td>\n",
       "      <td>4</td>\n",
       "      <td>S004</td>\n",
       "      <td>17</td>\n",
       "      <td>14</td>\n",
       "      <td>1219.387000</td>\n",
       "      <td>6142.948000</td>\n",
       "      <td>4096</td>\n",
       "      <td>4096</td>\n",
       "      <td>4.859506</td>\n",
       "      <td>abu_lil_EM-S004-00014x00017</td>\n",
       "      <td>2019-11-04 03:03:39</td>\n",
       "      <td>31868.0</td>\n",
       "      <td>32525.0</td>\n",
       "    </tr>\n",
       "    <tr>\n",
       "      <td>2469</td>\n",
       "      <td>7</td>\n",
       "      <td>S007</td>\n",
       "      <td>5</td>\n",
       "      <td>2</td>\n",
       "      <td>2804.843000</td>\n",
       "      <td>6347.775000</td>\n",
       "      <td>4096</td>\n",
       "      <td>4096</td>\n",
       "      <td>4.859506</td>\n",
       "      <td>ais_lil_EM-S007-00002x00005</td>\n",
       "      <td>2019-11-04 23:43:02</td>\n",
       "      <td>31807.0</td>\n",
       "      <td>32388.0</td>\n",
       "    </tr>\n",
       "    <tr>\n",
       "      <td>2958</td>\n",
       "      <td>9</td>\n",
       "      <td>S009</td>\n",
       "      <td>15</td>\n",
       "      <td>11</td>\n",
       "      <td>4151.002000</td>\n",
       "      <td>6143.086000</td>\n",
       "      <td>4096</td>\n",
       "      <td>4096</td>\n",
       "      <td>4.859506</td>\n",
       "      <td>acx_lil_EM-S009-00011x00015</td>\n",
       "      <td>2019-11-05 21:56:27</td>\n",
       "      <td>31766.0</td>\n",
       "      <td>32393.0</td>\n",
       "    </tr>\n",
       "  </tbody>\n",
       "</table>\n",
       "</div>"
      ],
      "text/plain": [
       "              z section  imageRow  imageCol       stageX       stageY  width  \\\n",
       "stack                                                                          \n",
       "big_EM  15    2    S002         2         2    16.428000  6120.927000   4096   \n",
       "        23    2    S002         0         0  -364.426000  6510.063000   4096   \n",
       "        16    2    S002         2         1  -174.005000  6120.914000   4096   \n",
       "hoechst 138   3    S003         1         0   229.148156  6340.945910   2048   \n",
       "        136   3    S003         2         1   420.167882  6146.126249   2048   \n",
       "        187   7    S007         1         1  2832.009499  6381.316683   2048   \n",
       "insulin 309   8    S008         0         2  3637.263123  6577.241090   2048   \n",
       "        292   7    S007         2         1  2832.251922  6186.423544   2048   \n",
       "        279   6    S006         2         2  2418.660329  6186.761886   2048   \n",
       "lil_EM  1330  4    S004        17        14  1219.387000  6142.948000   4096   \n",
       "        2469  7    S007         5         2  2804.843000  6347.775000   4096   \n",
       "        2958  9    S009        15        11  4151.002000  6143.086000   4096   \n",
       "\n",
       "              height   pixelsize                        tileId  \\\n",
       "stack                                                            \n",
       "big_EM  15      4096   33.566317   aad_big_EM-S002-00002x00002   \n",
       "        23      4096   33.566317   aal_big_EM-S002-00000x00000   \n",
       "        16      4096   33.566317   aae_big_EM-S002-00001x00002   \n",
       "hoechst 138     2048  106.398678  aag_hoechst-S003-00000x00001   \n",
       "        136     2048  106.387415  aae_hoechst-S003-00001x00002   \n",
       "        187     2048  106.467145  aah_hoechst-S007-00001x00001   \n",
       "insulin 309     2048  106.532374  aaj_insulin-S008-00002x00000   \n",
       "        292     2048  106.446226  aae_insulin-S007-00001x00002   \n",
       "        279     2048  106.439378  aad_insulin-S006-00002x00002   \n",
       "lil_EM  1330    4096    4.859506   abu_lil_EM-S004-00014x00017   \n",
       "        2469    4096    4.859506   ais_lil_EM-S007-00002x00005   \n",
       "        2958    4096    4.859506   acx_lil_EM-S009-00011x00015   \n",
       "\n",
       "                         acqTime   minint   maxint  \n",
       "stack                                               \n",
       "big_EM  15   2019-11-02 14:45:21  32594.0  33347.0  \n",
       "        23   2019-11-02 14:30:43  32594.0  33347.0  \n",
       "        16   2019-11-02 14:43:31  32594.0  33347.0  \n",
       "hoechst 138  2019-11-02 15:10:12    772.0   1197.0  \n",
       "        136  2019-11-02 15:13:52    772.0   1197.0  \n",
       "        187  2019-11-02 17:36:11    797.0   1234.0  \n",
       "insulin 309  2019-11-02 18:00:57    416.0   1059.0  \n",
       "        292  2019-11-02 17:41:43    415.0    588.0  \n",
       "        279  2019-11-02 17:01:01    418.0    594.0  \n",
       "lil_EM  1330 2019-11-04 03:03:39  31868.0  32525.0  \n",
       "        2469 2019-11-04 23:43:02  31807.0  32388.0  \n",
       "        2958 2019-11-05 21:56:27  31766.0  32393.0  "
      ]
     },
     "execution_count": 217,
     "metadata": {},
     "output_type": "execute_result"
    }
   ],
   "source": [
    "# Preview\n",
    "df_tiles.groupby('stack')\\\n",
    "        .apply(lambda x: x.sample(3))[cols_preview + ['minint', 'maxint']]"
   ]
  },
  {
   "cell_type": "markdown",
   "metadata": {},
   "source": [
    "## Import image tiles to `render-ws`\n",
    "---"
   ]
  },
  {
   "cell_type": "markdown",
   "metadata": {},
   "source": [
    "### Create stacks"
   ]
  },
  {
   "cell_type": "code",
   "execution_count": 246,
   "metadata": {},
   "outputs": [
    {
     "data": {
      "application/vnd.jupyter.widget-view+json": {
       "model_id": "71ee4399d4224184be6d57ec09bec3a7",
       "version_major": 2,
       "version_minor": 0
      },
      "text/plain": [
       "HBox(children=(IntProgress(value=0, max=4), HTML(value='')))"
      ]
     },
     "metadata": {},
     "output_type": "display_data"
    },
    {
     "name": "stdout",
     "output_type": "stream",
     "text": [
      "\n"
     ]
    }
   ],
   "source": [
    "# Iterate through stacks\n",
    "for stack, df_stack in tqdm_notebook(df_tiles.groupby('stack')):\n",
    "\n",
    "    # Create `TileSpec`s\n",
    "    tile_specs = []\n",
    "    for i, tile in df_stack.iterrows():\n",
    "        ts = TileSpec(**tile.to_dict())\n",
    "        tile_specs.append(ts)\n",
    "\n",
    "    # Set stack resolution\n",
    "    Rx = df_stack['pixelsize'].iloc[0]\n",
    "    Ry = df_stack['pixelsize'].iloc[0]\n",
    "    Rz = section_thickness\n",
    "\n",
    "    # Create stack\n",
    "    renderapi.stack.create_stack(stack,\n",
    "                                 stackResolutionX=Rx,\n",
    "                                 stackResolutionY=Ry,\n",
    "                                 stackResolutionZ=Rz,\n",
    "                                 render=render)\n",
    "\n",
    "    # Import TileSpecs to render\n",
    "    renderapi.client.import_tilespecs(stack,\n",
    "                                      tile_specs,\n",
    "                                      render=render)\n",
    "\n",
    "    # Set stack state to complete\n",
    "    renderapi.stack.set_stack_state(stack, 'COMPLETE', render=render)"
   ]
  }
 ],
 "metadata": {
  "kernelspec": {
   "display_name": "Python 3",
   "language": "python",
   "name": "python3"
  },
  "language_info": {
   "codemirror_mode": {
    "name": "ipython",
    "version": 3
   },
   "file_extension": ".py",
   "mimetype": "text/x-python",
   "name": "python",
   "nbconvert_exporter": "python",
   "pygments_lexer": "ipython3",
   "version": "3.7.4"
  }
 },
 "nbformat": 4,
 "nbformat_minor": 4
}
