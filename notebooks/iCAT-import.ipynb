{
 "cells": [
  {
   "cell_type": "markdown",
   "metadata": {},
   "source": [
    "# iCAT import\n",
    "---\n",
    "\n",
    "### Conventions\n",
    "\n",
    "#### Nomenclature\n",
    "`stack`\n",
    "`layer`\n",
    "`tileset`\n",
    "\n",
    "#### Heirarchy\n",
    "`stack` | `z` | `section`\n",
    "\n",
    "#### [TileSpec](https://github.com/fcollman/render-python/blob/master/renderapi/tilespec.py#L17) parameters\n",
    "\n",
    "| Field    | Type     | Default | Description                                |\n",
    "| -----    | ----     | ------- | -----------                                |\n",
    "| tileId   | str      | None    | Unique string specifying a tile's identity |\n",
    "| z        | float    | None    | z values this tile exists within           |\n",
    "| width    | int      | None    | Width in pixels of the raw tile            |\n",
    "| height   | int      | None    | Height in pixels of the raw tile           |\n",
    "| imageUrl | str      | None    | An image path URI                          |\n",
    "| maskUrl  | str      | None    | An image path for an alpha mask            |\n",
    "| minint   | int      | 0       | Pixel intensity value to display as black  |\n",
    "| maxint   | int      | 65535   | Pixel intensity value to display as white  |\n",
    "| layout   | `Layout` | None    | a `Layout` object for this tile            |\n",
    "| tforms   | list     | [ ]     | Transform objects                          |\n",
    "\n",
    "#### [Layout](https://github.com/fcollman/render-python/blob/master/renderapi/layout.py#L1) parameters\n",
    "\n",
    "| Field     | Type  | Default | Description                                  |\n",
    "| -----     | ----  | ------- | -----------                                  |\n",
    "| sectionId | str   | None    | sectionId this tile was taken from           |\n",
    "| scopeId   | str   | None    | What microscope this came from               |\n",
    "| cameraId  | str   | None    | Camera this was taken with                   |\n",
    "| imageRow  | int   | None    | Row from a row,col layout this was taken     |\n",
    "| imageCol  | int   | None    | Column from a row,col layout this was taken  |\n",
    "| stageX    | float | None    | X stage coordinates for where this was taken |\n",
    "| stageY    | float | None    | Y stage coordinates for where this was taken |\n",
    "| rotation  | float | None    | Angle of camera when this was taken          |\n",
    "| pixelsize | float | None    | Effective size of pixels                     |\n",
    "\n",
    "So the game plan will be to build up layouts and tile specifications from metadata and apriori knowledge we have our of our image data. Then we will import the tile specifications into `render-ws` using the appropriate `render-python` method."
   ]
  },
  {
   "cell_type": "code",
   "execution_count": 1,
   "metadata": {},
   "outputs": [],
   "source": [
    "from pathlib import Path\n",
    "from itertools import product\n",
    "from pprint import pprint\n",
    "\n",
    "from tqdm import tqdm_notebook\n",
    "from bs4 import BeautifulSoup as Soup\n",
    "import numpy as np\n",
    "import pandas as pd\n",
    "import seaborn as sns\n",
    "import altair as alt\n",
    "\n",
    "from shapely.geometry import box\n",
    "from shapely import affinity\n",
    "import matplotlib.pyplot as plt\n",
    "from matplotlib.patches import Polygon\n",
    "import matplotlib.ticker as mticker\n",
    "from matplotlib.transforms import Affine2D\n",
    "\n",
    "from skimage.external.tifffile import TiffFile, imread\n",
    "from skimage.exposure import histogram\n",
    "\n",
    "import renderapi\n",
    "from renderapi.tilespec import TileSpec\n",
    "from renderapi.layout import Layout\n",
    "from renderapi.transform import AffineModel as AffineRender\n",
    "\n",
    "from icatapi.importo import parse_metadata\n",
    "from icatapi.render_pandas import *"
   ]
  },
  {
   "cell_type": "markdown",
   "metadata": {},
   "source": [
    "#### `pandas` display settings"
   ]
  },
  {
   "cell_type": "code",
   "execution_count": 2,
   "metadata": {},
   "outputs": [],
   "source": [
    "pd.set_option('display.max_rows', 20)\n",
    "pd.set_option('display.width', None)\n",
    "pd.set_option('display.max_colwidth', 20)"
   ]
  },
  {
   "cell_type": "markdown",
   "metadata": {},
   "source": [
    "## Set up environment\n",
    "---"
   ]
  },
  {
   "cell_type": "code",
   "execution_count": 3,
   "metadata": {},
   "outputs": [
    {
     "name": "stdout",
     "output_type": "stream",
     "text": [
      "sections..... ['S001', 'S002', 'S003', 'S004', 'S005', 'S006', 'S007', 'S008', 'S009']\n",
      "all stacks... ['big_EM', 'hoechst', 'insulin', 'lil_EM']\n",
      "EM stacks.... ['big_EM', 'lil_EM']\n",
      "FM stacks.... ['hoechst', 'insulin']\n",
      "\n"
     ]
    }
   ],
   "source": [
    "# `render` project parameters\n",
    "# ---------------------------\n",
    "owner = 'rlane'  # replace with your name\n",
    "project = '20191230_RL010'\n",
    "\n",
    "# Data directories\n",
    "# ----------------\n",
    "project_dir = Path(f'/long_term_storage/{owner}/SECOM/projects/20191101_RL010')\n",
    "stack_dirs = list(project_dir.glob('[!_]*/[!_]*'))\n",
    "\n",
    "# Additional parameters\n",
    "# ---------------------\n",
    "section_thickness = 100  # nm\n",
    "\n",
    "# Infer section and stack names\n",
    "# -----------------------------\n",
    "sections = np.unique([fp.parent.name for fp in stack_dirs]).tolist()\n",
    "stacks = np.unique([fp.name for fp in stack_dirs]).tolist()\n",
    "stacks_EM = [stack for stack in stacks if 'EM' in stack]\n",
    "stacks_FM = [stack for stack in stacks if 'EM' not in stack]\n",
    "\n",
    "out = f\"\"\"\\\n",
    "sections..... {sections}\n",
    "all stacks... {stacks}\n",
    "EM stacks.... {stacks_EM}\n",
    "FM stacks.... {stacks_FM}\n",
    "\"\"\"\n",
    "print(out)"
   ]
  },
  {
   "cell_type": "markdown",
   "metadata": {},
   "source": [
    "### Create `render-ws` instance"
   ]
  },
  {
   "cell_type": "code",
   "execution_count": 4,
   "metadata": {},
   "outputs": [
    {
     "name": "stdout",
     "output_type": "stream",
     "text": [
      "{'client_script': '/home/catmaid/render/render-ws-java-client/src/main/scripts/run_ws_client.sh',\n",
      " 'client_scripts': '/home/catmaid/render/render-ws-java-client/src/main/scripts',\n",
      " 'host': 'http://sonic',\n",
      " 'memGB': '2G',\n",
      " 'owner': 'rlane',\n",
      " 'port': 8080,\n",
      " 'project': '20191230_RL010'}\n"
     ]
    }
   ],
   "source": [
    "# Create a renderapi.connect.Render object\n",
    "# ----------------------------------------\n",
    "render_connect_params = {\n",
    "    'host': 'sonic',\n",
    "    'port': 8080,\n",
    "    'owner': owner,\n",
    "    'project': project,\n",
    "    'client_scripts': '/home/catmaid/render/render-ws-java-client/src/main/scripts',\n",
    "    'memGB': '2G'\n",
    "}\n",
    "render = renderapi.connect(**render_connect_params)\n",
    "pprint(render.make_kwargs())"
   ]
  },
  {
   "cell_type": "markdown",
   "metadata": {},
   "source": [
    "## Build up image tile DataFrame\n",
    "---"
   ]
  },
  {
   "cell_type": "code",
   "execution_count": 5,
   "metadata": {},
   "outputs": [
    {
     "data": {
      "application/vnd.jupyter.widget-view+json": {
       "model_id": "8c266883a4564a058c4643cc05dd7be0",
       "version_major": 2,
       "version_minor": 0
      },
      "text/plain": [
       "HBox(children=(IntProgress(value=0, max=36), HTML(value='')))"
      ]
     },
     "metadata": {},
     "output_type": "display_data"
    },
    {
     "name": "stdout",
     "output_type": "stream",
     "text": [
      "\n"
     ]
    },
    {
     "data": {
      "text/html": [
       "<div>\n",
       "<style scoped>\n",
       "    .dataframe tbody tr th:only-of-type {\n",
       "        vertical-align: middle;\n",
       "    }\n",
       "\n",
       "    .dataframe tbody tr th {\n",
       "        vertical-align: top;\n",
       "    }\n",
       "\n",
       "    .dataframe thead th {\n",
       "        text-align: right;\n",
       "    }\n",
       "</style>\n",
       "<table border=\"1\" class=\"dataframe\">\n",
       "  <thead>\n",
       "    <tr style=\"text-align: right;\">\n",
       "      <th></th>\n",
       "      <th></th>\n",
       "      <th>z</th>\n",
       "      <th>section</th>\n",
       "      <th>imageRow</th>\n",
       "      <th>imageCol</th>\n",
       "      <th>stageX</th>\n",
       "      <th>stageY</th>\n",
       "      <th>width</th>\n",
       "      <th>height</th>\n",
       "      <th>pixelsize</th>\n",
       "      <th>tileId</th>\n",
       "      <th>acqTime</th>\n",
       "    </tr>\n",
       "    <tr>\n",
       "      <th>stack</th>\n",
       "      <th></th>\n",
       "      <th></th>\n",
       "      <th></th>\n",
       "      <th></th>\n",
       "      <th></th>\n",
       "      <th></th>\n",
       "      <th></th>\n",
       "      <th></th>\n",
       "      <th></th>\n",
       "      <th></th>\n",
       "      <th></th>\n",
       "      <th></th>\n",
       "    </tr>\n",
       "  </thead>\n",
       "  <tbody>\n",
       "    <tr>\n",
       "      <td rowspan=\"3\" valign=\"top\">big_EM</td>\n",
       "      <td>33</td>\n",
       "      <td>1</td>\n",
       "      <td>S001</td>\n",
       "      <td>1</td>\n",
       "      <td>2</td>\n",
       "      <td>-573.418000</td>\n",
       "      <td>6295.522000</td>\n",
       "      <td>4096</td>\n",
       "      <td>4096</td>\n",
       "      <td>33.566317</td>\n",
       "      <td>big_EM-S001-0000...</td>\n",
       "      <td>2019-11-02 13:49:53</td>\n",
       "    </tr>\n",
       "    <tr>\n",
       "      <td>34</td>\n",
       "      <td>1</td>\n",
       "      <td>S001</td>\n",
       "      <td>2</td>\n",
       "      <td>2</td>\n",
       "      <td>-573.538000</td>\n",
       "      <td>6100.985000</td>\n",
       "      <td>4096</td>\n",
       "      <td>4096</td>\n",
       "      <td>33.566317</td>\n",
       "      <td>big_EM-S001-0000...</td>\n",
       "      <td>2019-11-02 13:59:01</td>\n",
       "    </tr>\n",
       "    <tr>\n",
       "      <td>1448</td>\n",
       "      <td>5</td>\n",
       "      <td>S005</td>\n",
       "      <td>0</td>\n",
       "      <td>0</td>\n",
       "      <td>1430.713000</td>\n",
       "      <td>6575.684000</td>\n",
       "      <td>4096</td>\n",
       "      <td>4096</td>\n",
       "      <td>33.566317</td>\n",
       "      <td>big_EM-S005-0000...</td>\n",
       "      <td>2019-11-02 16:19:07</td>\n",
       "    </tr>\n",
       "    <tr>\n",
       "      <td rowspan=\"3\" valign=\"top\">hoechst</td>\n",
       "      <td>1788</td>\n",
       "      <td>6</td>\n",
       "      <td>S006</td>\n",
       "      <td>1</td>\n",
       "      <td>2</td>\n",
       "      <td>2418.445519</td>\n",
       "      <td>6381.907801</td>\n",
       "      <td>2048</td>\n",
       "      <td>2048</td>\n",
       "      <td>106.446381</td>\n",
       "      <td>hoechst-S006-000...</td>\n",
       "      <td>2019-11-02 16:51:49</td>\n",
       "    </tr>\n",
       "    <tr>\n",
       "      <td>2146</td>\n",
       "      <td>7</td>\n",
       "      <td>S007</td>\n",
       "      <td>3</td>\n",
       "      <td>2</td>\n",
       "      <td>3023.065589</td>\n",
       "      <td>5991.602648</td>\n",
       "      <td>2048</td>\n",
       "      <td>2048</td>\n",
       "      <td>106.434809</td>\n",
       "      <td>hoechst-S007-000...</td>\n",
       "      <td>2019-11-02 17:45:19</td>\n",
       "    </tr>\n",
       "    <tr>\n",
       "      <td>1432</td>\n",
       "      <td>5</td>\n",
       "      <td>S005</td>\n",
       "      <td>0</td>\n",
       "      <td>2</td>\n",
       "      <td>1812.362680</td>\n",
       "      <td>6576.145417</td>\n",
       "      <td>2048</td>\n",
       "      <td>2048</td>\n",
       "      <td>106.447137</td>\n",
       "      <td>hoechst-S005-000...</td>\n",
       "      <td>2019-11-02 16:22:39</td>\n",
       "    </tr>\n",
       "    <tr>\n",
       "      <td rowspan=\"3\" valign=\"top\">insulin</td>\n",
       "      <td>368</td>\n",
       "      <td>2</td>\n",
       "      <td>S002</td>\n",
       "      <td>0</td>\n",
       "      <td>0</td>\n",
       "      <td>-362.093916</td>\n",
       "      <td>6510.366598</td>\n",
       "      <td>2048</td>\n",
       "      <td>2048</td>\n",
       "      <td>106.379171</td>\n",
       "      <td>insulin-S002-000...</td>\n",
       "      <td>2019-11-02 14:30:39</td>\n",
       "    </tr>\n",
       "    <tr>\n",
       "      <td>730</td>\n",
       "      <td>3</td>\n",
       "      <td>S003</td>\n",
       "      <td>2</td>\n",
       "      <td>1</td>\n",
       "      <td>420.167882</td>\n",
       "      <td>6146.126249</td>\n",
       "      <td>2048</td>\n",
       "      <td>2048</td>\n",
       "      <td>106.387415</td>\n",
       "      <td>insulin-S003-000...</td>\n",
       "      <td>2019-11-02 15:13:56</td>\n",
       "    </tr>\n",
       "    <tr>\n",
       "      <td>2508</td>\n",
       "      <td>8</td>\n",
       "      <td>S008</td>\n",
       "      <td>1</td>\n",
       "      <td>1</td>\n",
       "      <td>3446.818962</td>\n",
       "      <td>6381.510675</td>\n",
       "      <td>2048</td>\n",
       "      <td>2048</td>\n",
       "      <td>106.504975</td>\n",
       "      <td>insulin-S008-000...</td>\n",
       "      <td>2019-11-02 18:04:37</td>\n",
       "    </tr>\n",
       "    <tr>\n",
       "      <td rowspan=\"3\" valign=\"top\">lil_EM</td>\n",
       "      <td>147</td>\n",
       "      <td>1</td>\n",
       "      <td>S001</td>\n",
       "      <td>11</td>\n",
       "      <td>5</td>\n",
       "      <td>-721.360000</td>\n",
       "      <td>6189.751000</td>\n",
       "      <td>4096</td>\n",
       "      <td>4096</td>\n",
       "      <td>4.859737</td>\n",
       "      <td>lil_EM-S001-0000...</td>\n",
       "      <td>2019-11-02 23:09:27</td>\n",
       "    </tr>\n",
       "    <tr>\n",
       "      <td>1236</td>\n",
       "      <td>4</td>\n",
       "      <td>S004</td>\n",
       "      <td>12</td>\n",
       "      <td>6</td>\n",
       "      <td>1078.492000</td>\n",
       "      <td>6230.457000</td>\n",
       "      <td>4096</td>\n",
       "      <td>4096</td>\n",
       "      <td>4.859506</td>\n",
       "      <td>lil_EM-S004-0000...</td>\n",
       "      <td>2019-11-04 01:36:21</td>\n",
       "    </tr>\n",
       "    <tr>\n",
       "      <td>1394</td>\n",
       "      <td>4</td>\n",
       "      <td>S004</td>\n",
       "      <td>10</td>\n",
       "      <td>14</td>\n",
       "      <td>1218.623000</td>\n",
       "      <td>6265.814000</td>\n",
       "      <td>4096</td>\n",
       "      <td>4096</td>\n",
       "      <td>4.859506</td>\n",
       "      <td>lil_EM-S004-0001...</td>\n",
       "      <td>2019-11-04 01:08:30</td>\n",
       "    </tr>\n",
       "  </tbody>\n",
       "</table>\n",
       "</div>"
      ],
      "text/plain": [
       "              z section  imageRow  imageCol       stageX       stageY  width  \\\n",
       "stack                                                                          \n",
       "big_EM  33    1    S001         1         2  -573.418000  6295.522000   4096   \n",
       "        34    1    S001         2         2  -573.538000  6100.985000   4096   \n",
       "        1448  5    S005         0         0  1430.713000  6575.684000   4096   \n",
       "hoechst 1788  6    S006         1         2  2418.445519  6381.907801   2048   \n",
       "        2146  7    S007         3         2  3023.065589  5991.602648   2048   \n",
       "        1432  5    S005         0         2  1812.362680  6576.145417   2048   \n",
       "insulin 368   2    S002         0         0  -362.093916  6510.366598   2048   \n",
       "        730   3    S003         2         1   420.167882  6146.126249   2048   \n",
       "        2508  8    S008         1         1  3446.818962  6381.510675   2048   \n",
       "lil_EM  147   1    S001        11         5  -721.360000  6189.751000   4096   \n",
       "        1236  4    S004        12         6  1078.492000  6230.457000   4096   \n",
       "        1394  4    S004        10        14  1218.623000  6265.814000   4096   \n",
       "\n",
       "              height   pixelsize               tileId             acqTime  \n",
       "stack                                                                      \n",
       "big_EM  33      4096   33.566317  big_EM-S001-0000... 2019-11-02 13:49:53  \n",
       "        34      4096   33.566317  big_EM-S001-0000... 2019-11-02 13:59:01  \n",
       "        1448    4096   33.566317  big_EM-S005-0000... 2019-11-02 16:19:07  \n",
       "hoechst 1788    2048  106.446381  hoechst-S006-000... 2019-11-02 16:51:49  \n",
       "        2146    2048  106.434809  hoechst-S007-000... 2019-11-02 17:45:19  \n",
       "        1432    2048  106.447137  hoechst-S005-000... 2019-11-02 16:22:39  \n",
       "insulin 368     2048  106.379171  insulin-S002-000... 2019-11-02 14:30:39  \n",
       "        730     2048  106.387415  insulin-S003-000... 2019-11-02 15:13:56  \n",
       "        2508    2048  106.504975  insulin-S008-000... 2019-11-02 18:04:37  \n",
       "lil_EM  147     4096    4.859737  lil_EM-S001-0000... 2019-11-02 23:09:27  \n",
       "        1236    4096    4.859506  lil_EM-S004-0000... 2019-11-04 01:36:21  \n",
       "        1394    4096    4.859506  lil_EM-S004-0001... 2019-11-04 01:08:30  "
      ]
     },
     "execution_count": 5,
     "metadata": {},
     "output_type": "execute_result"
    }
   ],
   "source": [
    "# Initialize DataFrame\n",
    "tile_dicts = []\n",
    "\n",
    "# Iterate through stack directories\n",
    "for fp_stack in tqdm_notebook(stack_dirs):\n",
    "\n",
    "    # Set stack and section\n",
    "    stack = fp_stack.name\n",
    "    section = fp_stack.parent.name\n",
    "\n",
    "    # Iterate through tile data\n",
    "    fps_tiles = list(fp_stack.glob('*.tif'))\n",
    "    for i, fp_tile in enumerate(fps_tiles):\n",
    "\n",
    "        # Parse metadata\n",
    "        tile_dict = parse_metadata(fp_tile, section)\n",
    "        tile_dict['stack'] = stack\n",
    "        tile_dict['section'] = section\n",
    "        tile_dicts.append(tile_dict)\n",
    "\n",
    "# Build DataFrame\n",
    "df_tiles = pd.DataFrame(tile_dicts)\n",
    "# Preview\n",
    "preview_cols = ['z', 'section', 'imageRow', 'imageCol',\n",
    "                'stageX', 'stageY', 'width', 'height',\n",
    "                'pixelsize', 'tileId', 'acqTime']\n",
    "df_tiles.groupby(['stack'])\\\n",
    "        .apply(lambda x: x.sample(3))[preview_cols]"
   ]
  },
  {
   "cell_type": "markdown",
   "metadata": {},
   "source": [
    "### Image tile count"
   ]
  },
  {
   "cell_type": "code",
   "execution_count": 6,
   "metadata": {},
   "outputs": [
    {
     "data": {
      "application/vnd.vegalite.v3+json": {
       "$schema": "https://vega.github.io/schema/vega-lite/v3.4.0.json",
       "config": {
        "mark": {
         "tooltip": null
        },
        "view": {
         "height": 300,
         "width": 400
        }
       },
       "data": {
        "name": "data-b8cc7e8cb83945ff2dc175ed00a45965"
       },
       "datasets": {
        "data-b8cc7e8cb83945ff2dc175ed00a45965": [
         {
          "section": "S001",
          "stack": "hoechst",
          "z": 1
         },
         {
          "section": "S001",
          "stack": "hoechst",
          "z": 1
         },
         {
          "section": "S001",
          "stack": "hoechst",
          "z": 1
         },
         {
          "section": "S001",
          "stack": "hoechst",
          "z": 1
         },
         {
          "section": "S001",
          "stack": "hoechst",
          "z": 1
         },
         {
          "section": "S001",
          "stack": "hoechst",
          "z": 1
         },
         {
          "section": "S001",
          "stack": "hoechst",
          "z": 1
         },
         {
          "section": "S001",
          "stack": "hoechst",
          "z": 1
         },
         {
          "section": "S001",
          "stack": "hoechst",
          "z": 1
         },
         {
          "section": "S001",
          "stack": "hoechst",
          "z": 1
         },
         {
          "section": "S001",
          "stack": "hoechst",
          "z": 1
         },
         {
          "section": "S001",
          "stack": "hoechst",
          "z": 1
         },
         {
          "section": "S001",
          "stack": "insulin",
          "z": 1
         },
         {
          "section": "S001",
          "stack": "insulin",
          "z": 1
         },
         {
          "section": "S001",
          "stack": "insulin",
          "z": 1
         },
         {
          "section": "S001",
          "stack": "insulin",
          "z": 1
         },
         {
          "section": "S001",
          "stack": "insulin",
          "z": 1
         },
         {
          "section": "S001",
          "stack": "insulin",
          "z": 1
         },
         {
          "section": "S001",
          "stack": "insulin",
          "z": 1
         },
         {
          "section": "S001",
          "stack": "insulin",
          "z": 1
         },
         {
          "section": "S001",
          "stack": "insulin",
          "z": 1
         },
         {
          "section": "S001",
          "stack": "insulin",
          "z": 1
         },
         {
          "section": "S001",
          "stack": "insulin",
          "z": 1
         },
         {
          "section": "S001",
          "stack": "insulin",
          "z": 1
         },
         {
          "section": "S001",
          "stack": "big_EM",
          "z": 1
         },
         {
          "section": "S001",
          "stack": "big_EM",
          "z": 1
         },
         {
          "section": "S001",
          "stack": "big_EM",
          "z": 1
         },
         {
          "section": "S001",
          "stack": "big_EM",
          "z": 1
         },
         {
          "section": "S001",
          "stack": "big_EM",
          "z": 1
         },
         {
          "section": "S001",
          "stack": "big_EM",
          "z": 1
         },
         {
          "section": "S001",
          "stack": "big_EM",
          "z": 1
         },
         {
          "section": "S001",
          "stack": "big_EM",
          "z": 1
         },
         {
          "section": "S001",
          "stack": "big_EM",
          "z": 1
         },
         {
          "section": "S001",
          "stack": "big_EM",
          "z": 1
         },
         {
          "section": "S001",
          "stack": "big_EM",
          "z": 1
         },
         {
          "section": "S001",
          "stack": "big_EM",
          "z": 1
         },
         {
          "section": "S001",
          "stack": "lil_EM",
          "z": 1
         },
         {
          "section": "S001",
          "stack": "lil_EM",
          "z": 1
         },
         {
          "section": "S001",
          "stack": "lil_EM",
          "z": 1
         },
         {
          "section": "S001",
          "stack": "lil_EM",
          "z": 1
         },
         {
          "section": "S001",
          "stack": "lil_EM",
          "z": 1
         },
         {
          "section": "S001",
          "stack": "lil_EM",
          "z": 1
         },
         {
          "section": "S001",
          "stack": "lil_EM",
          "z": 1
         },
         {
          "section": "S001",
          "stack": "lil_EM",
          "z": 1
         },
         {
          "section": "S001",
          "stack": "lil_EM",
          "z": 1
         },
         {
          "section": "S001",
          "stack": "lil_EM",
          "z": 1
         },
         {
          "section": "S001",
          "stack": "lil_EM",
          "z": 1
         },
         {
          "section": "S001",
          "stack": "lil_EM",
          "z": 1
         },
         {
          "section": "S001",
          "stack": "lil_EM",
          "z": 1
         },
         {
          "section": "S001",
          "stack": "lil_EM",
          "z": 1
         },
         {
          "section": "S001",
          "stack": "lil_EM",
          "z": 1
         },
         {
          "section": "S001",
          "stack": "lil_EM",
          "z": 1
         },
         {
          "section": "S001",
          "stack": "lil_EM",
          "z": 1
         },
         {
          "section": "S001",
          "stack": "lil_EM",
          "z": 1
         },
         {
          "section": "S001",
          "stack": "lil_EM",
          "z": 1
         },
         {
          "section": "S001",
          "stack": "lil_EM",
          "z": 1
         },
         {
          "section": "S001",
          "stack": "lil_EM",
          "z": 1
         },
         {
          "section": "S001",
          "stack": "lil_EM",
          "z": 1
         },
         {
          "section": "S001",
          "stack": "lil_EM",
          "z": 1
         },
         {
          "section": "S001",
          "stack": "lil_EM",
          "z": 1
         },
         {
          "section": "S001",
          "stack": "lil_EM",
          "z": 1
         },
         {
          "section": "S001",
          "stack": "lil_EM",
          "z": 1
         },
         {
          "section": "S001",
          "stack": "lil_EM",
          "z": 1
         },
         {
          "section": "S001",
          "stack": "lil_EM",
          "z": 1
         },
         {
          "section": "S001",
          "stack": "lil_EM",
          "z": 1
         },
         {
          "section": "S001",
          "stack": "lil_EM",
          "z": 1
         },
         {
          "section": "S001",
          "stack": "lil_EM",
          "z": 1
         },
         {
          "section": "S001",
          "stack": "lil_EM",
          "z": 1
         },
         {
          "section": "S001",
          "stack": "lil_EM",
          "z": 1
         },
         {
          "section": "S001",
          "stack": "lil_EM",
          "z": 1
         },
         {
          "section": "S001",
          "stack": "lil_EM",
          "z": 1
         },
         {
          "section": "S001",
          "stack": "lil_EM",
          "z": 1
         },
         {
          "section": "S001",
          "stack": "lil_EM",
          "z": 1
         },
         {
          "section": "S001",
          "stack": "lil_EM",
          "z": 1
         },
         {
          "section": "S001",
          "stack": "lil_EM",
          "z": 1
         },
         {
          "section": "S001",
          "stack": "lil_EM",
          "z": 1
         },
         {
          "section": "S001",
          "stack": "lil_EM",
          "z": 1
         },
         {
          "section": "S001",
          "stack": "lil_EM",
          "z": 1
         },
         {
          "section": "S001",
          "stack": "lil_EM",
          "z": 1
         },
         {
          "section": "S001",
          "stack": "lil_EM",
          "z": 1
         },
         {
          "section": "S001",
          "stack": "lil_EM",
          "z": 1
         },
         {
          "section": "S001",
          "stack": "lil_EM",
          "z": 1
         },
         {
          "section": "S001",
          "stack": "lil_EM",
          "z": 1
         },
         {
          "section": "S001",
          "stack": "lil_EM",
          "z": 1
         },
         {
          "section": "S001",
          "stack": "lil_EM",
          "z": 1
         },
         {
          "section": "S001",
          "stack": "lil_EM",
          "z": 1
         },
         {
          "section": "S001",
          "stack": "lil_EM",
          "z": 1
         },
         {
          "section": "S001",
          "stack": "lil_EM",
          "z": 1
         },
         {
          "section": "S001",
          "stack": "lil_EM",
          "z": 1
         },
         {
          "section": "S001",
          "stack": "lil_EM",
          "z": 1
         },
         {
          "section": "S001",
          "stack": "lil_EM",
          "z": 1
         },
         {
          "section": "S001",
          "stack": "lil_EM",
          "z": 1
         },
         {
          "section": "S001",
          "stack": "lil_EM",
          "z": 1
         },
         {
          "section": "S001",
          "stack": "lil_EM",
          "z": 1
         },
         {
          "section": "S001",
          "stack": "lil_EM",
          "z": 1
         },
         {
          "section": "S001",
          "stack": "lil_EM",
          "z": 1
         },
         {
          "section": "S001",
          "stack": "lil_EM",
          "z": 1
         },
         {
          "section": "S001",
          "stack": "lil_EM",
          "z": 1
         },
         {
          "section": "S001",
          "stack": "lil_EM",
          "z": 1
         },
         {
          "section": "S001",
          "stack": "lil_EM",
          "z": 1
         },
         {
          "section": "S001",
          "stack": "lil_EM",
          "z": 1
         },
         {
          "section": "S001",
          "stack": "lil_EM",
          "z": 1
         },
         {
          "section": "S001",
          "stack": "lil_EM",
          "z": 1
         },
         {
          "section": "S001",
          "stack": "lil_EM",
          "z": 1
         },
         {
          "section": "S001",
          "stack": "lil_EM",
          "z": 1
         },
         {
          "section": "S001",
          "stack": "lil_EM",
          "z": 1
         },
         {
          "section": "S001",
          "stack": "lil_EM",
          "z": 1
         },
         {
          "section": "S001",
          "stack": "lil_EM",
          "z": 1
         },
         {
          "section": "S001",
          "stack": "lil_EM",
          "z": 1
         },
         {
          "section": "S001",
          "stack": "lil_EM",
          "z": 1
         },
         {
          "section": "S001",
          "stack": "lil_EM",
          "z": 1
         },
         {
          "section": "S001",
          "stack": "lil_EM",
          "z": 1
         },
         {
          "section": "S001",
          "stack": "lil_EM",
          "z": 1
         },
         {
          "section": "S001",
          "stack": "lil_EM",
          "z": 1
         },
         {
          "section": "S001",
          "stack": "lil_EM",
          "z": 1
         },
         {
          "section": "S001",
          "stack": "lil_EM",
          "z": 1
         },
         {
          "section": "S001",
          "stack": "lil_EM",
          "z": 1
         },
         {
          "section": "S001",
          "stack": "lil_EM",
          "z": 1
         },
         {
          "section": "S001",
          "stack": "lil_EM",
          "z": 1
         },
         {
          "section": "S001",
          "stack": "lil_EM",
          "z": 1
         },
         {
          "section": "S001",
          "stack": "lil_EM",
          "z": 1
         },
         {
          "section": "S001",
          "stack": "lil_EM",
          "z": 1
         },
         {
          "section": "S001",
          "stack": "lil_EM",
          "z": 1
         },
         {
          "section": "S001",
          "stack": "lil_EM",
          "z": 1
         },
         {
          "section": "S001",
          "stack": "lil_EM",
          "z": 1
         },
         {
          "section": "S001",
          "stack": "lil_EM",
          "z": 1
         },
         {
          "section": "S001",
          "stack": "lil_EM",
          "z": 1
         },
         {
          "section": "S001",
          "stack": "lil_EM",
          "z": 1
         },
         {
          "section": "S001",
          "stack": "lil_EM",
          "z": 1
         },
         {
          "section": "S001",
          "stack": "lil_EM",
          "z": 1
         },
         {
          "section": "S001",
          "stack": "lil_EM",
          "z": 1
         },
         {
          "section": "S001",
          "stack": "lil_EM",
          "z": 1
         },
         {
          "section": "S001",
          "stack": "lil_EM",
          "z": 1
         },
         {
          "section": "S001",
          "stack": "lil_EM",
          "z": 1
         },
         {
          "section": "S001",
          "stack": "lil_EM",
          "z": 1
         },
         {
          "section": "S001",
          "stack": "lil_EM",
          "z": 1
         },
         {
          "section": "S001",
          "stack": "lil_EM",
          "z": 1
         },
         {
          "section": "S001",
          "stack": "lil_EM",
          "z": 1
         },
         {
          "section": "S001",
          "stack": "lil_EM",
          "z": 1
         },
         {
          "section": "S001",
          "stack": "lil_EM",
          "z": 1
         },
         {
          "section": "S001",
          "stack": "lil_EM",
          "z": 1
         },
         {
          "section": "S001",
          "stack": "lil_EM",
          "z": 1
         },
         {
          "section": "S001",
          "stack": "lil_EM",
          "z": 1
         },
         {
          "section": "S001",
          "stack": "lil_EM",
          "z": 1
         },
         {
          "section": "S001",
          "stack": "lil_EM",
          "z": 1
         },
         {
          "section": "S001",
          "stack": "lil_EM",
          "z": 1
         },
         {
          "section": "S001",
          "stack": "lil_EM",
          "z": 1
         },
         {
          "section": "S001",
          "stack": "lil_EM",
          "z": 1
         },
         {
          "section": "S001",
          "stack": "lil_EM",
          "z": 1
         },
         {
          "section": "S001",
          "stack": "lil_EM",
          "z": 1
         },
         {
          "section": "S001",
          "stack": "lil_EM",
          "z": 1
         },
         {
          "section": "S001",
          "stack": "lil_EM",
          "z": 1
         },
         {
          "section": "S001",
          "stack": "lil_EM",
          "z": 1
         },
         {
          "section": "S001",
          "stack": "lil_EM",
          "z": 1
         },
         {
          "section": "S001",
          "stack": "lil_EM",
          "z": 1
         },
         {
          "section": "S001",
          "stack": "lil_EM",
          "z": 1
         },
         {
          "section": "S001",
          "stack": "lil_EM",
          "z": 1
         },
         {
          "section": "S001",
          "stack": "lil_EM",
          "z": 1
         },
         {
          "section": "S001",
          "stack": "lil_EM",
          "z": 1
         },
         {
          "section": "S001",
          "stack": "lil_EM",
          "z": 1
         },
         {
          "section": "S001",
          "stack": "lil_EM",
          "z": 1
         },
         {
          "section": "S001",
          "stack": "lil_EM",
          "z": 1
         },
         {
          "section": "S001",
          "stack": "lil_EM",
          "z": 1
         },
         {
          "section": "S001",
          "stack": "lil_EM",
          "z": 1
         },
         {
          "section": "S001",
          "stack": "lil_EM",
          "z": 1
         },
         {
          "section": "S001",
          "stack": "lil_EM",
          "z": 1
         },
         {
          "section": "S001",
          "stack": "lil_EM",
          "z": 1
         },
         {
          "section": "S001",
          "stack": "lil_EM",
          "z": 1
         },
         {
          "section": "S001",
          "stack": "lil_EM",
          "z": 1
         },
         {
          "section": "S001",
          "stack": "lil_EM",
          "z": 1
         },
         {
          "section": "S001",
          "stack": "lil_EM",
          "z": 1
         },
         {
          "section": "S001",
          "stack": "lil_EM",
          "z": 1
         },
         {
          "section": "S001",
          "stack": "lil_EM",
          "z": 1
         },
         {
          "section": "S001",
          "stack": "lil_EM",
          "z": 1
         },
         {
          "section": "S001",
          "stack": "lil_EM",
          "z": 1
         },
         {
          "section": "S001",
          "stack": "lil_EM",
          "z": 1
         },
         {
          "section": "S001",
          "stack": "lil_EM",
          "z": 1
         },
         {
          "section": "S001",
          "stack": "lil_EM",
          "z": 1
         },
         {
          "section": "S001",
          "stack": "lil_EM",
          "z": 1
         },
         {
          "section": "S001",
          "stack": "lil_EM",
          "z": 1
         },
         {
          "section": "S001",
          "stack": "lil_EM",
          "z": 1
         },
         {
          "section": "S001",
          "stack": "lil_EM",
          "z": 1
         },
         {
          "section": "S001",
          "stack": "lil_EM",
          "z": 1
         },
         {
          "section": "S001",
          "stack": "lil_EM",
          "z": 1
         },
         {
          "section": "S001",
          "stack": "lil_EM",
          "z": 1
         },
         {
          "section": "S001",
          "stack": "lil_EM",
          "z": 1
         },
         {
          "section": "S001",
          "stack": "lil_EM",
          "z": 1
         },
         {
          "section": "S001",
          "stack": "lil_EM",
          "z": 1
         },
         {
          "section": "S001",
          "stack": "lil_EM",
          "z": 1
         },
         {
          "section": "S001",
          "stack": "lil_EM",
          "z": 1
         },
         {
          "section": "S001",
          "stack": "lil_EM",
          "z": 1
         },
         {
          "section": "S001",
          "stack": "lil_EM",
          "z": 1
         },
         {
          "section": "S001",
          "stack": "lil_EM",
          "z": 1
         },
         {
          "section": "S001",
          "stack": "lil_EM",
          "z": 1
         },
         {
          "section": "S001",
          "stack": "lil_EM",
          "z": 1
         },
         {
          "section": "S001",
          "stack": "lil_EM",
          "z": 1
         },
         {
          "section": "S001",
          "stack": "lil_EM",
          "z": 1
         },
         {
          "section": "S001",
          "stack": "lil_EM",
          "z": 1
         },
         {
          "section": "S001",
          "stack": "lil_EM",
          "z": 1
         },
         {
          "section": "S001",
          "stack": "lil_EM",
          "z": 1
         },
         {
          "section": "S001",
          "stack": "lil_EM",
          "z": 1
         },
         {
          "section": "S001",
          "stack": "lil_EM",
          "z": 1
         },
         {
          "section": "S001",
          "stack": "lil_EM",
          "z": 1
         },
         {
          "section": "S001",
          "stack": "lil_EM",
          "z": 1
         },
         {
          "section": "S001",
          "stack": "lil_EM",
          "z": 1
         },
         {
          "section": "S001",
          "stack": "lil_EM",
          "z": 1
         },
         {
          "section": "S001",
          "stack": "lil_EM",
          "z": 1
         },
         {
          "section": "S001",
          "stack": "lil_EM",
          "z": 1
         },
         {
          "section": "S001",
          "stack": "lil_EM",
          "z": 1
         },
         {
          "section": "S001",
          "stack": "lil_EM",
          "z": 1
         },
         {
          "section": "S001",
          "stack": "lil_EM",
          "z": 1
         },
         {
          "section": "S001",
          "stack": "lil_EM",
          "z": 1
         },
         {
          "section": "S001",
          "stack": "lil_EM",
          "z": 1
         },
         {
          "section": "S001",
          "stack": "lil_EM",
          "z": 1
         },
         {
          "section": "S001",
          "stack": "lil_EM",
          "z": 1
         },
         {
          "section": "S001",
          "stack": "lil_EM",
          "z": 1
         },
         {
          "section": "S001",
          "stack": "lil_EM",
          "z": 1
         },
         {
          "section": "S001",
          "stack": "lil_EM",
          "z": 1
         },
         {
          "section": "S001",
          "stack": "lil_EM",
          "z": 1
         },
         {
          "section": "S001",
          "stack": "lil_EM",
          "z": 1
         },
         {
          "section": "S001",
          "stack": "lil_EM",
          "z": 1
         },
         {
          "section": "S001",
          "stack": "lil_EM",
          "z": 1
         },
         {
          "section": "S001",
          "stack": "lil_EM",
          "z": 1
         },
         {
          "section": "S001",
          "stack": "lil_EM",
          "z": 1
         },
         {
          "section": "S001",
          "stack": "lil_EM",
          "z": 1
         },
         {
          "section": "S001",
          "stack": "lil_EM",
          "z": 1
         },
         {
          "section": "S001",
          "stack": "lil_EM",
          "z": 1
         },
         {
          "section": "S001",
          "stack": "lil_EM",
          "z": 1
         },
         {
          "section": "S001",
          "stack": "lil_EM",
          "z": 1
         },
         {
          "section": "S001",
          "stack": "lil_EM",
          "z": 1
         },
         {
          "section": "S001",
          "stack": "lil_EM",
          "z": 1
         },
         {
          "section": "S001",
          "stack": "lil_EM",
          "z": 1
         },
         {
          "section": "S001",
          "stack": "lil_EM",
          "z": 1
         },
         {
          "section": "S001",
          "stack": "lil_EM",
          "z": 1
         },
         {
          "section": "S001",
          "stack": "lil_EM",
          "z": 1
         },
         {
          "section": "S001",
          "stack": "lil_EM",
          "z": 1
         },
         {
          "section": "S001",
          "stack": "lil_EM",
          "z": 1
         },
         {
          "section": "S001",
          "stack": "lil_EM",
          "z": 1
         },
         {
          "section": "S001",
          "stack": "lil_EM",
          "z": 1
         },
         {
          "section": "S001",
          "stack": "lil_EM",
          "z": 1
         },
         {
          "section": "S001",
          "stack": "lil_EM",
          "z": 1
         },
         {
          "section": "S001",
          "stack": "lil_EM",
          "z": 1
         },
         {
          "section": "S001",
          "stack": "lil_EM",
          "z": 1
         },
         {
          "section": "S001",
          "stack": "lil_EM",
          "z": 1
         },
         {
          "section": "S001",
          "stack": "lil_EM",
          "z": 1
         },
         {
          "section": "S001",
          "stack": "lil_EM",
          "z": 1
         },
         {
          "section": "S001",
          "stack": "lil_EM",
          "z": 1
         },
         {
          "section": "S001",
          "stack": "lil_EM",
          "z": 1
         },
         {
          "section": "S001",
          "stack": "lil_EM",
          "z": 1
         },
         {
          "section": "S001",
          "stack": "lil_EM",
          "z": 1
         },
         {
          "section": "S001",
          "stack": "lil_EM",
          "z": 1
         },
         {
          "section": "S001",
          "stack": "lil_EM",
          "z": 1
         },
         {
          "section": "S001",
          "stack": "lil_EM",
          "z": 1
         },
         {
          "section": "S001",
          "stack": "lil_EM",
          "z": 1
         },
         {
          "section": "S001",
          "stack": "lil_EM",
          "z": 1
         },
         {
          "section": "S001",
          "stack": "lil_EM",
          "z": 1
         },
         {
          "section": "S001",
          "stack": "lil_EM",
          "z": 1
         },
         {
          "section": "S001",
          "stack": "lil_EM",
          "z": 1
         },
         {
          "section": "S001",
          "stack": "lil_EM",
          "z": 1
         },
         {
          "section": "S001",
          "stack": "lil_EM",
          "z": 1
         },
         {
          "section": "S001",
          "stack": "lil_EM",
          "z": 1
         },
         {
          "section": "S001",
          "stack": "lil_EM",
          "z": 1
         },
         {
          "section": "S001",
          "stack": "lil_EM",
          "z": 1
         },
         {
          "section": "S001",
          "stack": "lil_EM",
          "z": 1
         },
         {
          "section": "S001",
          "stack": "lil_EM",
          "z": 1
         },
         {
          "section": "S001",
          "stack": "lil_EM",
          "z": 1
         },
         {
          "section": "S001",
          "stack": "lil_EM",
          "z": 1
         },
         {
          "section": "S001",
          "stack": "lil_EM",
          "z": 1
         },
         {
          "section": "S001",
          "stack": "lil_EM",
          "z": 1
         },
         {
          "section": "S001",
          "stack": "lil_EM",
          "z": 1
         },
         {
          "section": "S001",
          "stack": "lil_EM",
          "z": 1
         },
         {
          "section": "S001",
          "stack": "lil_EM",
          "z": 1
         },
         {
          "section": "S001",
          "stack": "lil_EM",
          "z": 1
         },
         {
          "section": "S001",
          "stack": "lil_EM",
          "z": 1
         },
         {
          "section": "S001",
          "stack": "lil_EM",
          "z": 1
         },
         {
          "section": "S001",
          "stack": "lil_EM",
          "z": 1
         },
         {
          "section": "S001",
          "stack": "lil_EM",
          "z": 1
         },
         {
          "section": "S001",
          "stack": "lil_EM",
          "z": 1
         },
         {
          "section": "S001",
          "stack": "lil_EM",
          "z": 1
         },
         {
          "section": "S001",
          "stack": "lil_EM",
          "z": 1
         },
         {
          "section": "S001",
          "stack": "lil_EM",
          "z": 1
         },
         {
          "section": "S001",
          "stack": "lil_EM",
          "z": 1
         },
         {
          "section": "S001",
          "stack": "lil_EM",
          "z": 1
         },
         {
          "section": "S001",
          "stack": "lil_EM",
          "z": 1
         },
         {
          "section": "S001",
          "stack": "lil_EM",
          "z": 1
         },
         {
          "section": "S001",
          "stack": "lil_EM",
          "z": 1
         },
         {
          "section": "S001",
          "stack": "lil_EM",
          "z": 1
         },
         {
          "section": "S001",
          "stack": "lil_EM",
          "z": 1
         },
         {
          "section": "S001",
          "stack": "lil_EM",
          "z": 1
         },
         {
          "section": "S001",
          "stack": "lil_EM",
          "z": 1
         },
         {
          "section": "S001",
          "stack": "lil_EM",
          "z": 1
         },
         {
          "section": "S001",
          "stack": "lil_EM",
          "z": 1
         },
         {
          "section": "S001",
          "stack": "lil_EM",
          "z": 1
         },
         {
          "section": "S001",
          "stack": "lil_EM",
          "z": 1
         },
         {
          "section": "S001",
          "stack": "lil_EM",
          "z": 1
         },
         {
          "section": "S001",
          "stack": "lil_EM",
          "z": 1
         },
         {
          "section": "S001",
          "stack": "lil_EM",
          "z": 1
         },
         {
          "section": "S001",
          "stack": "lil_EM",
          "z": 1
         },
         {
          "section": "S001",
          "stack": "lil_EM",
          "z": 1
         },
         {
          "section": "S001",
          "stack": "lil_EM",
          "z": 1
         },
         {
          "section": "S001",
          "stack": "lil_EM",
          "z": 1
         },
         {
          "section": "S001",
          "stack": "lil_EM",
          "z": 1
         },
         {
          "section": "S001",
          "stack": "lil_EM",
          "z": 1
         },
         {
          "section": "S001",
          "stack": "lil_EM",
          "z": 1
         },
         {
          "section": "S001",
          "stack": "lil_EM",
          "z": 1
         },
         {
          "section": "S001",
          "stack": "lil_EM",
          "z": 1
         },
         {
          "section": "S001",
          "stack": "lil_EM",
          "z": 1
         },
         {
          "section": "S001",
          "stack": "lil_EM",
          "z": 1
         },
         {
          "section": "S001",
          "stack": "lil_EM",
          "z": 1
         },
         {
          "section": "S001",
          "stack": "lil_EM",
          "z": 1
         },
         {
          "section": "S001",
          "stack": "lil_EM",
          "z": 1
         },
         {
          "section": "S001",
          "stack": "lil_EM",
          "z": 1
         },
         {
          "section": "S001",
          "stack": "lil_EM",
          "z": 1
         },
         {
          "section": "S001",
          "stack": "lil_EM",
          "z": 1
         },
         {
          "section": "S001",
          "stack": "lil_EM",
          "z": 1
         },
         {
          "section": "S001",
          "stack": "lil_EM",
          "z": 1
         },
         {
          "section": "S001",
          "stack": "lil_EM",
          "z": 1
         },
         {
          "section": "S001",
          "stack": "lil_EM",
          "z": 1
         },
         {
          "section": "S001",
          "stack": "lil_EM",
          "z": 1
         },
         {
          "section": "S001",
          "stack": "lil_EM",
          "z": 1
         },
         {
          "section": "S001",
          "stack": "lil_EM",
          "z": 1
         },
         {
          "section": "S001",
          "stack": "lil_EM",
          "z": 1
         },
         {
          "section": "S001",
          "stack": "lil_EM",
          "z": 1
         },
         {
          "section": "S001",
          "stack": "lil_EM",
          "z": 1
         },
         {
          "section": "S001",
          "stack": "lil_EM",
          "z": 1
         },
         {
          "section": "S001",
          "stack": "lil_EM",
          "z": 1
         },
         {
          "section": "S001",
          "stack": "lil_EM",
          "z": 1
         },
         {
          "section": "S001",
          "stack": "lil_EM",
          "z": 1
         },
         {
          "section": "S001",
          "stack": "lil_EM",
          "z": 1
         },
         {
          "section": "S001",
          "stack": "lil_EM",
          "z": 1
         },
         {
          "section": "S001",
          "stack": "lil_EM",
          "z": 1
         },
         {
          "section": "S001",
          "stack": "lil_EM",
          "z": 1
         },
         {
          "section": "S001",
          "stack": "lil_EM",
          "z": 1
         },
         {
          "section": "S001",
          "stack": "lil_EM",
          "z": 1
         },
         {
          "section": "S001",
          "stack": "lil_EM",
          "z": 1
         },
         {
          "section": "S001",
          "stack": "lil_EM",
          "z": 1
         },
         {
          "section": "S001",
          "stack": "lil_EM",
          "z": 1
         },
         {
          "section": "S001",
          "stack": "lil_EM",
          "z": 1
         },
         {
          "section": "S001",
          "stack": "lil_EM",
          "z": 1
         },
         {
          "section": "S001",
          "stack": "lil_EM",
          "z": 1
         },
         {
          "section": "S001",
          "stack": "lil_EM",
          "z": 1
         },
         {
          "section": "S001",
          "stack": "lil_EM",
          "z": 1
         },
         {
          "section": "S001",
          "stack": "lil_EM",
          "z": 1
         },
         {
          "section": "S001",
          "stack": "lil_EM",
          "z": 1
         },
         {
          "section": "S001",
          "stack": "lil_EM",
          "z": 1
         },
         {
          "section": "S001",
          "stack": "lil_EM",
          "z": 1
         },
         {
          "section": "S001",
          "stack": "lil_EM",
          "z": 1
         },
         {
          "section": "S001",
          "stack": "lil_EM",
          "z": 1
         },
         {
          "section": "S001",
          "stack": "lil_EM",
          "z": 1
         },
         {
          "section": "S001",
          "stack": "lil_EM",
          "z": 1
         },
         {
          "section": "S001",
          "stack": "lil_EM",
          "z": 1
         },
         {
          "section": "S001",
          "stack": "lil_EM",
          "z": 1
         },
         {
          "section": "S001",
          "stack": "lil_EM",
          "z": 1
         },
         {
          "section": "S001",
          "stack": "lil_EM",
          "z": 1
         },
         {
          "section": "S001",
          "stack": "lil_EM",
          "z": 1
         },
         {
          "section": "S001",
          "stack": "lil_EM",
          "z": 1
         },
         {
          "section": "S002",
          "stack": "hoechst",
          "z": 2
         },
         {
          "section": "S002",
          "stack": "hoechst",
          "z": 2
         },
         {
          "section": "S002",
          "stack": "hoechst",
          "z": 2
         },
         {
          "section": "S002",
          "stack": "hoechst",
          "z": 2
         },
         {
          "section": "S002",
          "stack": "hoechst",
          "z": 2
         },
         {
          "section": "S002",
          "stack": "hoechst",
          "z": 2
         },
         {
          "section": "S002",
          "stack": "hoechst",
          "z": 2
         },
         {
          "section": "S002",
          "stack": "hoechst",
          "z": 2
         },
         {
          "section": "S002",
          "stack": "hoechst",
          "z": 2
         },
         {
          "section": "S002",
          "stack": "hoechst",
          "z": 2
         },
         {
          "section": "S002",
          "stack": "hoechst",
          "z": 2
         },
         {
          "section": "S002",
          "stack": "hoechst",
          "z": 2
         },
         {
          "section": "S002",
          "stack": "insulin",
          "z": 2
         },
         {
          "section": "S002",
          "stack": "insulin",
          "z": 2
         },
         {
          "section": "S002",
          "stack": "insulin",
          "z": 2
         },
         {
          "section": "S002",
          "stack": "insulin",
          "z": 2
         },
         {
          "section": "S002",
          "stack": "insulin",
          "z": 2
         },
         {
          "section": "S002",
          "stack": "insulin",
          "z": 2
         },
         {
          "section": "S002",
          "stack": "insulin",
          "z": 2
         },
         {
          "section": "S002",
          "stack": "insulin",
          "z": 2
         },
         {
          "section": "S002",
          "stack": "insulin",
          "z": 2
         },
         {
          "section": "S002",
          "stack": "insulin",
          "z": 2
         },
         {
          "section": "S002",
          "stack": "insulin",
          "z": 2
         },
         {
          "section": "S002",
          "stack": "insulin",
          "z": 2
         },
         {
          "section": "S002",
          "stack": "big_EM",
          "z": 2
         },
         {
          "section": "S002",
          "stack": "big_EM",
          "z": 2
         },
         {
          "section": "S002",
          "stack": "big_EM",
          "z": 2
         },
         {
          "section": "S002",
          "stack": "big_EM",
          "z": 2
         },
         {
          "section": "S002",
          "stack": "big_EM",
          "z": 2
         },
         {
          "section": "S002",
          "stack": "big_EM",
          "z": 2
         },
         {
          "section": "S002",
          "stack": "big_EM",
          "z": 2
         },
         {
          "section": "S002",
          "stack": "big_EM",
          "z": 2
         },
         {
          "section": "S002",
          "stack": "big_EM",
          "z": 2
         },
         {
          "section": "S002",
          "stack": "big_EM",
          "z": 2
         },
         {
          "section": "S002",
          "stack": "big_EM",
          "z": 2
         },
         {
          "section": "S002",
          "stack": "big_EM",
          "z": 2
         },
         {
          "section": "S002",
          "stack": "lil_EM",
          "z": 2
         },
         {
          "section": "S002",
          "stack": "lil_EM",
          "z": 2
         },
         {
          "section": "S002",
          "stack": "lil_EM",
          "z": 2
         },
         {
          "section": "S002",
          "stack": "lil_EM",
          "z": 2
         },
         {
          "section": "S002",
          "stack": "lil_EM",
          "z": 2
         },
         {
          "section": "S002",
          "stack": "lil_EM",
          "z": 2
         },
         {
          "section": "S002",
          "stack": "lil_EM",
          "z": 2
         },
         {
          "section": "S002",
          "stack": "lil_EM",
          "z": 2
         },
         {
          "section": "S002",
          "stack": "lil_EM",
          "z": 2
         },
         {
          "section": "S002",
          "stack": "lil_EM",
          "z": 2
         },
         {
          "section": "S002",
          "stack": "lil_EM",
          "z": 2
         },
         {
          "section": "S002",
          "stack": "lil_EM",
          "z": 2
         },
         {
          "section": "S002",
          "stack": "lil_EM",
          "z": 2
         },
         {
          "section": "S002",
          "stack": "lil_EM",
          "z": 2
         },
         {
          "section": "S002",
          "stack": "lil_EM",
          "z": 2
         },
         {
          "section": "S002",
          "stack": "lil_EM",
          "z": 2
         },
         {
          "section": "S002",
          "stack": "lil_EM",
          "z": 2
         },
         {
          "section": "S002",
          "stack": "lil_EM",
          "z": 2
         },
         {
          "section": "S002",
          "stack": "lil_EM",
          "z": 2
         },
         {
          "section": "S002",
          "stack": "lil_EM",
          "z": 2
         },
         {
          "section": "S002",
          "stack": "lil_EM",
          "z": 2
         },
         {
          "section": "S002",
          "stack": "lil_EM",
          "z": 2
         },
         {
          "section": "S002",
          "stack": "lil_EM",
          "z": 2
         },
         {
          "section": "S002",
          "stack": "lil_EM",
          "z": 2
         },
         {
          "section": "S002",
          "stack": "lil_EM",
          "z": 2
         },
         {
          "section": "S002",
          "stack": "lil_EM",
          "z": 2
         },
         {
          "section": "S002",
          "stack": "lil_EM",
          "z": 2
         },
         {
          "section": "S002",
          "stack": "lil_EM",
          "z": 2
         },
         {
          "section": "S002",
          "stack": "lil_EM",
          "z": 2
         },
         {
          "section": "S002",
          "stack": "lil_EM",
          "z": 2
         },
         {
          "section": "S002",
          "stack": "lil_EM",
          "z": 2
         },
         {
          "section": "S002",
          "stack": "lil_EM",
          "z": 2
         },
         {
          "section": "S002",
          "stack": "lil_EM",
          "z": 2
         },
         {
          "section": "S002",
          "stack": "lil_EM",
          "z": 2
         },
         {
          "section": "S002",
          "stack": "lil_EM",
          "z": 2
         },
         {
          "section": "S002",
          "stack": "lil_EM",
          "z": 2
         },
         {
          "section": "S002",
          "stack": "lil_EM",
          "z": 2
         },
         {
          "section": "S002",
          "stack": "lil_EM",
          "z": 2
         },
         {
          "section": "S002",
          "stack": "lil_EM",
          "z": 2
         },
         {
          "section": "S002",
          "stack": "lil_EM",
          "z": 2
         },
         {
          "section": "S002",
          "stack": "lil_EM",
          "z": 2
         },
         {
          "section": "S002",
          "stack": "lil_EM",
          "z": 2
         },
         {
          "section": "S002",
          "stack": "lil_EM",
          "z": 2
         },
         {
          "section": "S002",
          "stack": "lil_EM",
          "z": 2
         },
         {
          "section": "S002",
          "stack": "lil_EM",
          "z": 2
         },
         {
          "section": "S002",
          "stack": "lil_EM",
          "z": 2
         },
         {
          "section": "S002",
          "stack": "lil_EM",
          "z": 2
         },
         {
          "section": "S002",
          "stack": "lil_EM",
          "z": 2
         },
         {
          "section": "S002",
          "stack": "lil_EM",
          "z": 2
         },
         {
          "section": "S002",
          "stack": "lil_EM",
          "z": 2
         },
         {
          "section": "S002",
          "stack": "lil_EM",
          "z": 2
         },
         {
          "section": "S002",
          "stack": "lil_EM",
          "z": 2
         },
         {
          "section": "S002",
          "stack": "lil_EM",
          "z": 2
         },
         {
          "section": "S002",
          "stack": "lil_EM",
          "z": 2
         },
         {
          "section": "S002",
          "stack": "lil_EM",
          "z": 2
         },
         {
          "section": "S002",
          "stack": "lil_EM",
          "z": 2
         },
         {
          "section": "S002",
          "stack": "lil_EM",
          "z": 2
         },
         {
          "section": "S002",
          "stack": "lil_EM",
          "z": 2
         },
         {
          "section": "S002",
          "stack": "lil_EM",
          "z": 2
         },
         {
          "section": "S002",
          "stack": "lil_EM",
          "z": 2
         },
         {
          "section": "S002",
          "stack": "lil_EM",
          "z": 2
         },
         {
          "section": "S002",
          "stack": "lil_EM",
          "z": 2
         },
         {
          "section": "S002",
          "stack": "lil_EM",
          "z": 2
         },
         {
          "section": "S002",
          "stack": "lil_EM",
          "z": 2
         },
         {
          "section": "S002",
          "stack": "lil_EM",
          "z": 2
         },
         {
          "section": "S002",
          "stack": "lil_EM",
          "z": 2
         },
         {
          "section": "S002",
          "stack": "lil_EM",
          "z": 2
         },
         {
          "section": "S002",
          "stack": "lil_EM",
          "z": 2
         },
         {
          "section": "S002",
          "stack": "lil_EM",
          "z": 2
         },
         {
          "section": "S002",
          "stack": "lil_EM",
          "z": 2
         },
         {
          "section": "S002",
          "stack": "lil_EM",
          "z": 2
         },
         {
          "section": "S002",
          "stack": "lil_EM",
          "z": 2
         },
         {
          "section": "S002",
          "stack": "lil_EM",
          "z": 2
         },
         {
          "section": "S002",
          "stack": "lil_EM",
          "z": 2
         },
         {
          "section": "S002",
          "stack": "lil_EM",
          "z": 2
         },
         {
          "section": "S002",
          "stack": "lil_EM",
          "z": 2
         },
         {
          "section": "S002",
          "stack": "lil_EM",
          "z": 2
         },
         {
          "section": "S002",
          "stack": "lil_EM",
          "z": 2
         },
         {
          "section": "S002",
          "stack": "lil_EM",
          "z": 2
         },
         {
          "section": "S002",
          "stack": "lil_EM",
          "z": 2
         },
         {
          "section": "S002",
          "stack": "lil_EM",
          "z": 2
         },
         {
          "section": "S002",
          "stack": "lil_EM",
          "z": 2
         },
         {
          "section": "S002",
          "stack": "lil_EM",
          "z": 2
         },
         {
          "section": "S002",
          "stack": "lil_EM",
          "z": 2
         },
         {
          "section": "S002",
          "stack": "lil_EM",
          "z": 2
         },
         {
          "section": "S002",
          "stack": "lil_EM",
          "z": 2
         },
         {
          "section": "S002",
          "stack": "lil_EM",
          "z": 2
         },
         {
          "section": "S002",
          "stack": "lil_EM",
          "z": 2
         },
         {
          "section": "S002",
          "stack": "lil_EM",
          "z": 2
         },
         {
          "section": "S002",
          "stack": "lil_EM",
          "z": 2
         },
         {
          "section": "S002",
          "stack": "lil_EM",
          "z": 2
         },
         {
          "section": "S002",
          "stack": "lil_EM",
          "z": 2
         },
         {
          "section": "S002",
          "stack": "lil_EM",
          "z": 2
         },
         {
          "section": "S002",
          "stack": "lil_EM",
          "z": 2
         },
         {
          "section": "S002",
          "stack": "lil_EM",
          "z": 2
         },
         {
          "section": "S002",
          "stack": "lil_EM",
          "z": 2
         },
         {
          "section": "S002",
          "stack": "lil_EM",
          "z": 2
         },
         {
          "section": "S002",
          "stack": "lil_EM",
          "z": 2
         },
         {
          "section": "S002",
          "stack": "lil_EM",
          "z": 2
         },
         {
          "section": "S002",
          "stack": "lil_EM",
          "z": 2
         },
         {
          "section": "S002",
          "stack": "lil_EM",
          "z": 2
         },
         {
          "section": "S002",
          "stack": "lil_EM",
          "z": 2
         },
         {
          "section": "S002",
          "stack": "lil_EM",
          "z": 2
         },
         {
          "section": "S002",
          "stack": "lil_EM",
          "z": 2
         },
         {
          "section": "S002",
          "stack": "lil_EM",
          "z": 2
         },
         {
          "section": "S002",
          "stack": "lil_EM",
          "z": 2
         },
         {
          "section": "S002",
          "stack": "lil_EM",
          "z": 2
         },
         {
          "section": "S002",
          "stack": "lil_EM",
          "z": 2
         },
         {
          "section": "S002",
          "stack": "lil_EM",
          "z": 2
         },
         {
          "section": "S002",
          "stack": "lil_EM",
          "z": 2
         },
         {
          "section": "S002",
          "stack": "lil_EM",
          "z": 2
         },
         {
          "section": "S002",
          "stack": "lil_EM",
          "z": 2
         },
         {
          "section": "S002",
          "stack": "lil_EM",
          "z": 2
         },
         {
          "section": "S002",
          "stack": "lil_EM",
          "z": 2
         },
         {
          "section": "S002",
          "stack": "lil_EM",
          "z": 2
         },
         {
          "section": "S002",
          "stack": "lil_EM",
          "z": 2
         },
         {
          "section": "S002",
          "stack": "lil_EM",
          "z": 2
         },
         {
          "section": "S002",
          "stack": "lil_EM",
          "z": 2
         },
         {
          "section": "S002",
          "stack": "lil_EM",
          "z": 2
         },
         {
          "section": "S002",
          "stack": "lil_EM",
          "z": 2
         },
         {
          "section": "S002",
          "stack": "lil_EM",
          "z": 2
         },
         {
          "section": "S002",
          "stack": "lil_EM",
          "z": 2
         },
         {
          "section": "S002",
          "stack": "lil_EM",
          "z": 2
         },
         {
          "section": "S002",
          "stack": "lil_EM",
          "z": 2
         },
         {
          "section": "S002",
          "stack": "lil_EM",
          "z": 2
         },
         {
          "section": "S002",
          "stack": "lil_EM",
          "z": 2
         },
         {
          "section": "S002",
          "stack": "lil_EM",
          "z": 2
         },
         {
          "section": "S002",
          "stack": "lil_EM",
          "z": 2
         },
         {
          "section": "S002",
          "stack": "lil_EM",
          "z": 2
         },
         {
          "section": "S002",
          "stack": "lil_EM",
          "z": 2
         },
         {
          "section": "S002",
          "stack": "lil_EM",
          "z": 2
         },
         {
          "section": "S002",
          "stack": "lil_EM",
          "z": 2
         },
         {
          "section": "S002",
          "stack": "lil_EM",
          "z": 2
         },
         {
          "section": "S002",
          "stack": "lil_EM",
          "z": 2
         },
         {
          "section": "S002",
          "stack": "lil_EM",
          "z": 2
         },
         {
          "section": "S002",
          "stack": "lil_EM",
          "z": 2
         },
         {
          "section": "S002",
          "stack": "lil_EM",
          "z": 2
         },
         {
          "section": "S002",
          "stack": "lil_EM",
          "z": 2
         },
         {
          "section": "S002",
          "stack": "lil_EM",
          "z": 2
         },
         {
          "section": "S002",
          "stack": "lil_EM",
          "z": 2
         },
         {
          "section": "S002",
          "stack": "lil_EM",
          "z": 2
         },
         {
          "section": "S002",
          "stack": "lil_EM",
          "z": 2
         },
         {
          "section": "S002",
          "stack": "lil_EM",
          "z": 2
         },
         {
          "section": "S002",
          "stack": "lil_EM",
          "z": 2
         },
         {
          "section": "S002",
          "stack": "lil_EM",
          "z": 2
         },
         {
          "section": "S002",
          "stack": "lil_EM",
          "z": 2
         },
         {
          "section": "S002",
          "stack": "lil_EM",
          "z": 2
         },
         {
          "section": "S002",
          "stack": "lil_EM",
          "z": 2
         },
         {
          "section": "S002",
          "stack": "lil_EM",
          "z": 2
         },
         {
          "section": "S002",
          "stack": "lil_EM",
          "z": 2
         },
         {
          "section": "S002",
          "stack": "lil_EM",
          "z": 2
         },
         {
          "section": "S002",
          "stack": "lil_EM",
          "z": 2
         },
         {
          "section": "S002",
          "stack": "lil_EM",
          "z": 2
         },
         {
          "section": "S002",
          "stack": "lil_EM",
          "z": 2
         },
         {
          "section": "S002",
          "stack": "lil_EM",
          "z": 2
         },
         {
          "section": "S002",
          "stack": "lil_EM",
          "z": 2
         },
         {
          "section": "S002",
          "stack": "lil_EM",
          "z": 2
         },
         {
          "section": "S002",
          "stack": "lil_EM",
          "z": 2
         },
         {
          "section": "S002",
          "stack": "lil_EM",
          "z": 2
         },
         {
          "section": "S002",
          "stack": "lil_EM",
          "z": 2
         },
         {
          "section": "S002",
          "stack": "lil_EM",
          "z": 2
         },
         {
          "section": "S002",
          "stack": "lil_EM",
          "z": 2
         },
         {
          "section": "S002",
          "stack": "lil_EM",
          "z": 2
         },
         {
          "section": "S002",
          "stack": "lil_EM",
          "z": 2
         },
         {
          "section": "S002",
          "stack": "lil_EM",
          "z": 2
         },
         {
          "section": "S002",
          "stack": "lil_EM",
          "z": 2
         },
         {
          "section": "S002",
          "stack": "lil_EM",
          "z": 2
         },
         {
          "section": "S002",
          "stack": "lil_EM",
          "z": 2
         },
         {
          "section": "S002",
          "stack": "lil_EM",
          "z": 2
         },
         {
          "section": "S002",
          "stack": "lil_EM",
          "z": 2
         },
         {
          "section": "S002",
          "stack": "lil_EM",
          "z": 2
         },
         {
          "section": "S002",
          "stack": "lil_EM",
          "z": 2
         },
         {
          "section": "S002",
          "stack": "lil_EM",
          "z": 2
         },
         {
          "section": "S002",
          "stack": "lil_EM",
          "z": 2
         },
         {
          "section": "S002",
          "stack": "lil_EM",
          "z": 2
         },
         {
          "section": "S002",
          "stack": "lil_EM",
          "z": 2
         },
         {
          "section": "S002",
          "stack": "lil_EM",
          "z": 2
         },
         {
          "section": "S002",
          "stack": "lil_EM",
          "z": 2
         },
         {
          "section": "S002",
          "stack": "lil_EM",
          "z": 2
         },
         {
          "section": "S002",
          "stack": "lil_EM",
          "z": 2
         },
         {
          "section": "S002",
          "stack": "lil_EM",
          "z": 2
         },
         {
          "section": "S002",
          "stack": "lil_EM",
          "z": 2
         },
         {
          "section": "S002",
          "stack": "lil_EM",
          "z": 2
         },
         {
          "section": "S002",
          "stack": "lil_EM",
          "z": 2
         },
         {
          "section": "S002",
          "stack": "lil_EM",
          "z": 2
         },
         {
          "section": "S002",
          "stack": "lil_EM",
          "z": 2
         },
         {
          "section": "S002",
          "stack": "lil_EM",
          "z": 2
         },
         {
          "section": "S002",
          "stack": "lil_EM",
          "z": 2
         },
         {
          "section": "S002",
          "stack": "lil_EM",
          "z": 2
         },
         {
          "section": "S002",
          "stack": "lil_EM",
          "z": 2
         },
         {
          "section": "S002",
          "stack": "lil_EM",
          "z": 2
         },
         {
          "section": "S002",
          "stack": "lil_EM",
          "z": 2
         },
         {
          "section": "S002",
          "stack": "lil_EM",
          "z": 2
         },
         {
          "section": "S002",
          "stack": "lil_EM",
          "z": 2
         },
         {
          "section": "S002",
          "stack": "lil_EM",
          "z": 2
         },
         {
          "section": "S002",
          "stack": "lil_EM",
          "z": 2
         },
         {
          "section": "S002",
          "stack": "lil_EM",
          "z": 2
         },
         {
          "section": "S002",
          "stack": "lil_EM",
          "z": 2
         },
         {
          "section": "S002",
          "stack": "lil_EM",
          "z": 2
         },
         {
          "section": "S002",
          "stack": "lil_EM",
          "z": 2
         },
         {
          "section": "S002",
          "stack": "lil_EM",
          "z": 2
         },
         {
          "section": "S002",
          "stack": "lil_EM",
          "z": 2
         },
         {
          "section": "S002",
          "stack": "lil_EM",
          "z": 2
         },
         {
          "section": "S002",
          "stack": "lil_EM",
          "z": 2
         },
         {
          "section": "S002",
          "stack": "lil_EM",
          "z": 2
         },
         {
          "section": "S002",
          "stack": "lil_EM",
          "z": 2
         },
         {
          "section": "S002",
          "stack": "lil_EM",
          "z": 2
         },
         {
          "section": "S002",
          "stack": "lil_EM",
          "z": 2
         },
         {
          "section": "S002",
          "stack": "lil_EM",
          "z": 2
         },
         {
          "section": "S002",
          "stack": "lil_EM",
          "z": 2
         },
         {
          "section": "S002",
          "stack": "lil_EM",
          "z": 2
         },
         {
          "section": "S002",
          "stack": "lil_EM",
          "z": 2
         },
         {
          "section": "S002",
          "stack": "lil_EM",
          "z": 2
         },
         {
          "section": "S002",
          "stack": "lil_EM",
          "z": 2
         },
         {
          "section": "S002",
          "stack": "lil_EM",
          "z": 2
         },
         {
          "section": "S002",
          "stack": "lil_EM",
          "z": 2
         },
         {
          "section": "S002",
          "stack": "lil_EM",
          "z": 2
         },
         {
          "section": "S002",
          "stack": "lil_EM",
          "z": 2
         },
         {
          "section": "S002",
          "stack": "lil_EM",
          "z": 2
         },
         {
          "section": "S002",
          "stack": "lil_EM",
          "z": 2
         },
         {
          "section": "S002",
          "stack": "lil_EM",
          "z": 2
         },
         {
          "section": "S002",
          "stack": "lil_EM",
          "z": 2
         },
         {
          "section": "S002",
          "stack": "lil_EM",
          "z": 2
         },
         {
          "section": "S002",
          "stack": "lil_EM",
          "z": 2
         },
         {
          "section": "S002",
          "stack": "lil_EM",
          "z": 2
         },
         {
          "section": "S002",
          "stack": "lil_EM",
          "z": 2
         },
         {
          "section": "S002",
          "stack": "lil_EM",
          "z": 2
         },
         {
          "section": "S002",
          "stack": "lil_EM",
          "z": 2
         },
         {
          "section": "S002",
          "stack": "lil_EM",
          "z": 2
         },
         {
          "section": "S002",
          "stack": "lil_EM",
          "z": 2
         },
         {
          "section": "S002",
          "stack": "lil_EM",
          "z": 2
         },
         {
          "section": "S002",
          "stack": "lil_EM",
          "z": 2
         },
         {
          "section": "S002",
          "stack": "lil_EM",
          "z": 2
         },
         {
          "section": "S002",
          "stack": "lil_EM",
          "z": 2
         },
         {
          "section": "S002",
          "stack": "lil_EM",
          "z": 2
         },
         {
          "section": "S002",
          "stack": "lil_EM",
          "z": 2
         },
         {
          "section": "S002",
          "stack": "lil_EM",
          "z": 2
         },
         {
          "section": "S002",
          "stack": "lil_EM",
          "z": 2
         },
         {
          "section": "S002",
          "stack": "lil_EM",
          "z": 2
         },
         {
          "section": "S002",
          "stack": "lil_EM",
          "z": 2
         },
         {
          "section": "S002",
          "stack": "lil_EM",
          "z": 2
         },
         {
          "section": "S002",
          "stack": "lil_EM",
          "z": 2
         },
         {
          "section": "S002",
          "stack": "lil_EM",
          "z": 2
         },
         {
          "section": "S002",
          "stack": "lil_EM",
          "z": 2
         },
         {
          "section": "S002",
          "stack": "lil_EM",
          "z": 2
         },
         {
          "section": "S002",
          "stack": "lil_EM",
          "z": 2
         },
         {
          "section": "S002",
          "stack": "lil_EM",
          "z": 2
         },
         {
          "section": "S002",
          "stack": "lil_EM",
          "z": 2
         },
         {
          "section": "S002",
          "stack": "lil_EM",
          "z": 2
         },
         {
          "section": "S002",
          "stack": "lil_EM",
          "z": 2
         },
         {
          "section": "S002",
          "stack": "lil_EM",
          "z": 2
         },
         {
          "section": "S002",
          "stack": "lil_EM",
          "z": 2
         },
         {
          "section": "S002",
          "stack": "lil_EM",
          "z": 2
         },
         {
          "section": "S002",
          "stack": "lil_EM",
          "z": 2
         },
         {
          "section": "S002",
          "stack": "lil_EM",
          "z": 2
         },
         {
          "section": "S002",
          "stack": "lil_EM",
          "z": 2
         },
         {
          "section": "S002",
          "stack": "lil_EM",
          "z": 2
         },
         {
          "section": "S002",
          "stack": "lil_EM",
          "z": 2
         },
         {
          "section": "S002",
          "stack": "lil_EM",
          "z": 2
         },
         {
          "section": "S002",
          "stack": "lil_EM",
          "z": 2
         },
         {
          "section": "S002",
          "stack": "lil_EM",
          "z": 2
         },
         {
          "section": "S002",
          "stack": "lil_EM",
          "z": 2
         },
         {
          "section": "S002",
          "stack": "lil_EM",
          "z": 2
         },
         {
          "section": "S002",
          "stack": "lil_EM",
          "z": 2
         },
         {
          "section": "S002",
          "stack": "lil_EM",
          "z": 2
         },
         {
          "section": "S002",
          "stack": "lil_EM",
          "z": 2
         },
         {
          "section": "S002",
          "stack": "lil_EM",
          "z": 2
         },
         {
          "section": "S002",
          "stack": "lil_EM",
          "z": 2
         },
         {
          "section": "S002",
          "stack": "lil_EM",
          "z": 2
         },
         {
          "section": "S002",
          "stack": "lil_EM",
          "z": 2
         },
         {
          "section": "S002",
          "stack": "lil_EM",
          "z": 2
         },
         {
          "section": "S002",
          "stack": "lil_EM",
          "z": 2
         },
         {
          "section": "S002",
          "stack": "lil_EM",
          "z": 2
         },
         {
          "section": "S002",
          "stack": "lil_EM",
          "z": 2
         },
         {
          "section": "S002",
          "stack": "lil_EM",
          "z": 2
         },
         {
          "section": "S002",
          "stack": "lil_EM",
          "z": 2
         },
         {
          "section": "S002",
          "stack": "lil_EM",
          "z": 2
         },
         {
          "section": "S002",
          "stack": "lil_EM",
          "z": 2
         },
         {
          "section": "S002",
          "stack": "lil_EM",
          "z": 2
         },
         {
          "section": "S002",
          "stack": "lil_EM",
          "z": 2
         },
         {
          "section": "S002",
          "stack": "lil_EM",
          "z": 2
         },
         {
          "section": "S002",
          "stack": "lil_EM",
          "z": 2
         },
         {
          "section": "S002",
          "stack": "lil_EM",
          "z": 2
         },
         {
          "section": "S002",
          "stack": "lil_EM",
          "z": 2
         },
         {
          "section": "S002",
          "stack": "lil_EM",
          "z": 2
         },
         {
          "section": "S002",
          "stack": "lil_EM",
          "z": 2
         },
         {
          "section": "S002",
          "stack": "lil_EM",
          "z": 2
         },
         {
          "section": "S002",
          "stack": "lil_EM",
          "z": 2
         },
         {
          "section": "S002",
          "stack": "lil_EM",
          "z": 2
         },
         {
          "section": "S002",
          "stack": "lil_EM",
          "z": 2
         },
         {
          "section": "S002",
          "stack": "lil_EM",
          "z": 2
         },
         {
          "section": "S002",
          "stack": "lil_EM",
          "z": 2
         },
         {
          "section": "S002",
          "stack": "lil_EM",
          "z": 2
         },
         {
          "section": "S002",
          "stack": "lil_EM",
          "z": 2
         },
         {
          "section": "S002",
          "stack": "lil_EM",
          "z": 2
         },
         {
          "section": "S002",
          "stack": "lil_EM",
          "z": 2
         },
         {
          "section": "S002",
          "stack": "lil_EM",
          "z": 2
         },
         {
          "section": "S002",
          "stack": "lil_EM",
          "z": 2
         },
         {
          "section": "S002",
          "stack": "lil_EM",
          "z": 2
         },
         {
          "section": "S002",
          "stack": "lil_EM",
          "z": 2
         },
         {
          "section": "S002",
          "stack": "lil_EM",
          "z": 2
         },
         {
          "section": "S002",
          "stack": "lil_EM",
          "z": 2
         },
         {
          "section": "S002",
          "stack": "lil_EM",
          "z": 2
         },
         {
          "section": "S002",
          "stack": "lil_EM",
          "z": 2
         },
         {
          "section": "S002",
          "stack": "lil_EM",
          "z": 2
         },
         {
          "section": "S002",
          "stack": "lil_EM",
          "z": 2
         },
         {
          "section": "S002",
          "stack": "lil_EM",
          "z": 2
         },
         {
          "section": "S002",
          "stack": "lil_EM",
          "z": 2
         },
         {
          "section": "S002",
          "stack": "lil_EM",
          "z": 2
         },
         {
          "section": "S002",
          "stack": "lil_EM",
          "z": 2
         },
         {
          "section": "S002",
          "stack": "lil_EM",
          "z": 2
         },
         {
          "section": "S002",
          "stack": "lil_EM",
          "z": 2
         },
         {
          "section": "S002",
          "stack": "lil_EM",
          "z": 2
         },
         {
          "section": "S002",
          "stack": "lil_EM",
          "z": 2
         },
         {
          "section": "S002",
          "stack": "lil_EM",
          "z": 2
         },
         {
          "section": "S002",
          "stack": "lil_EM",
          "z": 2
         },
         {
          "section": "S002",
          "stack": "lil_EM",
          "z": 2
         },
         {
          "section": "S002",
          "stack": "lil_EM",
          "z": 2
         },
         {
          "section": "S002",
          "stack": "lil_EM",
          "z": 2
         },
         {
          "section": "S002",
          "stack": "lil_EM",
          "z": 2
         },
         {
          "section": "S003",
          "stack": "hoechst",
          "z": 3
         },
         {
          "section": "S003",
          "stack": "hoechst",
          "z": 3
         },
         {
          "section": "S003",
          "stack": "hoechst",
          "z": 3
         },
         {
          "section": "S003",
          "stack": "hoechst",
          "z": 3
         },
         {
          "section": "S003",
          "stack": "hoechst",
          "z": 3
         },
         {
          "section": "S003",
          "stack": "hoechst",
          "z": 3
         },
         {
          "section": "S003",
          "stack": "hoechst",
          "z": 3
         },
         {
          "section": "S003",
          "stack": "hoechst",
          "z": 3
         },
         {
          "section": "S003",
          "stack": "hoechst",
          "z": 3
         },
         {
          "section": "S003",
          "stack": "hoechst",
          "z": 3
         },
         {
          "section": "S003",
          "stack": "hoechst",
          "z": 3
         },
         {
          "section": "S003",
          "stack": "hoechst",
          "z": 3
         },
         {
          "section": "S003",
          "stack": "insulin",
          "z": 3
         },
         {
          "section": "S003",
          "stack": "insulin",
          "z": 3
         },
         {
          "section": "S003",
          "stack": "insulin",
          "z": 3
         },
         {
          "section": "S003",
          "stack": "insulin",
          "z": 3
         },
         {
          "section": "S003",
          "stack": "insulin",
          "z": 3
         },
         {
          "section": "S003",
          "stack": "insulin",
          "z": 3
         },
         {
          "section": "S003",
          "stack": "insulin",
          "z": 3
         },
         {
          "section": "S003",
          "stack": "insulin",
          "z": 3
         },
         {
          "section": "S003",
          "stack": "insulin",
          "z": 3
         },
         {
          "section": "S003",
          "stack": "insulin",
          "z": 3
         },
         {
          "section": "S003",
          "stack": "insulin",
          "z": 3
         },
         {
          "section": "S003",
          "stack": "insulin",
          "z": 3
         },
         {
          "section": "S003",
          "stack": "big_EM",
          "z": 3
         },
         {
          "section": "S003",
          "stack": "big_EM",
          "z": 3
         },
         {
          "section": "S003",
          "stack": "big_EM",
          "z": 3
         },
         {
          "section": "S003",
          "stack": "big_EM",
          "z": 3
         },
         {
          "section": "S003",
          "stack": "big_EM",
          "z": 3
         },
         {
          "section": "S003",
          "stack": "big_EM",
          "z": 3
         },
         {
          "section": "S003",
          "stack": "big_EM",
          "z": 3
         },
         {
          "section": "S003",
          "stack": "big_EM",
          "z": 3
         },
         {
          "section": "S003",
          "stack": "big_EM",
          "z": 3
         },
         {
          "section": "S003",
          "stack": "big_EM",
          "z": 3
         },
         {
          "section": "S003",
          "stack": "big_EM",
          "z": 3
         },
         {
          "section": "S003",
          "stack": "big_EM",
          "z": 3
         },
         {
          "section": "S003",
          "stack": "lil_EM",
          "z": 3
         },
         {
          "section": "S003",
          "stack": "lil_EM",
          "z": 3
         },
         {
          "section": "S003",
          "stack": "lil_EM",
          "z": 3
         },
         {
          "section": "S003",
          "stack": "lil_EM",
          "z": 3
         },
         {
          "section": "S003",
          "stack": "lil_EM",
          "z": 3
         },
         {
          "section": "S003",
          "stack": "lil_EM",
          "z": 3
         },
         {
          "section": "S003",
          "stack": "lil_EM",
          "z": 3
         },
         {
          "section": "S003",
          "stack": "lil_EM",
          "z": 3
         },
         {
          "section": "S003",
          "stack": "lil_EM",
          "z": 3
         },
         {
          "section": "S003",
          "stack": "lil_EM",
          "z": 3
         },
         {
          "section": "S003",
          "stack": "lil_EM",
          "z": 3
         },
         {
          "section": "S003",
          "stack": "lil_EM",
          "z": 3
         },
         {
          "section": "S003",
          "stack": "lil_EM",
          "z": 3
         },
         {
          "section": "S003",
          "stack": "lil_EM",
          "z": 3
         },
         {
          "section": "S003",
          "stack": "lil_EM",
          "z": 3
         },
         {
          "section": "S003",
          "stack": "lil_EM",
          "z": 3
         },
         {
          "section": "S003",
          "stack": "lil_EM",
          "z": 3
         },
         {
          "section": "S003",
          "stack": "lil_EM",
          "z": 3
         },
         {
          "section": "S003",
          "stack": "lil_EM",
          "z": 3
         },
         {
          "section": "S003",
          "stack": "lil_EM",
          "z": 3
         },
         {
          "section": "S003",
          "stack": "lil_EM",
          "z": 3
         },
         {
          "section": "S003",
          "stack": "lil_EM",
          "z": 3
         },
         {
          "section": "S003",
          "stack": "lil_EM",
          "z": 3
         },
         {
          "section": "S003",
          "stack": "lil_EM",
          "z": 3
         },
         {
          "section": "S003",
          "stack": "lil_EM",
          "z": 3
         },
         {
          "section": "S003",
          "stack": "lil_EM",
          "z": 3
         },
         {
          "section": "S003",
          "stack": "lil_EM",
          "z": 3
         },
         {
          "section": "S003",
          "stack": "lil_EM",
          "z": 3
         },
         {
          "section": "S003",
          "stack": "lil_EM",
          "z": 3
         },
         {
          "section": "S003",
          "stack": "lil_EM",
          "z": 3
         },
         {
          "section": "S003",
          "stack": "lil_EM",
          "z": 3
         },
         {
          "section": "S003",
          "stack": "lil_EM",
          "z": 3
         },
         {
          "section": "S003",
          "stack": "lil_EM",
          "z": 3
         },
         {
          "section": "S003",
          "stack": "lil_EM",
          "z": 3
         },
         {
          "section": "S003",
          "stack": "lil_EM",
          "z": 3
         },
         {
          "section": "S003",
          "stack": "lil_EM",
          "z": 3
         },
         {
          "section": "S003",
          "stack": "lil_EM",
          "z": 3
         },
         {
          "section": "S003",
          "stack": "lil_EM",
          "z": 3
         },
         {
          "section": "S003",
          "stack": "lil_EM",
          "z": 3
         },
         {
          "section": "S003",
          "stack": "lil_EM",
          "z": 3
         },
         {
          "section": "S003",
          "stack": "lil_EM",
          "z": 3
         },
         {
          "section": "S003",
          "stack": "lil_EM",
          "z": 3
         },
         {
          "section": "S003",
          "stack": "lil_EM",
          "z": 3
         },
         {
          "section": "S003",
          "stack": "lil_EM",
          "z": 3
         },
         {
          "section": "S003",
          "stack": "lil_EM",
          "z": 3
         },
         {
          "section": "S003",
          "stack": "lil_EM",
          "z": 3
         },
         {
          "section": "S003",
          "stack": "lil_EM",
          "z": 3
         },
         {
          "section": "S003",
          "stack": "lil_EM",
          "z": 3
         },
         {
          "section": "S003",
          "stack": "lil_EM",
          "z": 3
         },
         {
          "section": "S003",
          "stack": "lil_EM",
          "z": 3
         },
         {
          "section": "S003",
          "stack": "lil_EM",
          "z": 3
         },
         {
          "section": "S003",
          "stack": "lil_EM",
          "z": 3
         },
         {
          "section": "S003",
          "stack": "lil_EM",
          "z": 3
         },
         {
          "section": "S003",
          "stack": "lil_EM",
          "z": 3
         },
         {
          "section": "S003",
          "stack": "lil_EM",
          "z": 3
         },
         {
          "section": "S003",
          "stack": "lil_EM",
          "z": 3
         },
         {
          "section": "S003",
          "stack": "lil_EM",
          "z": 3
         },
         {
          "section": "S003",
          "stack": "lil_EM",
          "z": 3
         },
         {
          "section": "S003",
          "stack": "lil_EM",
          "z": 3
         },
         {
          "section": "S003",
          "stack": "lil_EM",
          "z": 3
         },
         {
          "section": "S003",
          "stack": "lil_EM",
          "z": 3
         },
         {
          "section": "S003",
          "stack": "lil_EM",
          "z": 3
         },
         {
          "section": "S003",
          "stack": "lil_EM",
          "z": 3
         },
         {
          "section": "S003",
          "stack": "lil_EM",
          "z": 3
         },
         {
          "section": "S003",
          "stack": "lil_EM",
          "z": 3
         },
         {
          "section": "S003",
          "stack": "lil_EM",
          "z": 3
         },
         {
          "section": "S003",
          "stack": "lil_EM",
          "z": 3
         },
         {
          "section": "S003",
          "stack": "lil_EM",
          "z": 3
         },
         {
          "section": "S003",
          "stack": "lil_EM",
          "z": 3
         },
         {
          "section": "S003",
          "stack": "lil_EM",
          "z": 3
         },
         {
          "section": "S003",
          "stack": "lil_EM",
          "z": 3
         },
         {
          "section": "S003",
          "stack": "lil_EM",
          "z": 3
         },
         {
          "section": "S003",
          "stack": "lil_EM",
          "z": 3
         },
         {
          "section": "S003",
          "stack": "lil_EM",
          "z": 3
         },
         {
          "section": "S003",
          "stack": "lil_EM",
          "z": 3
         },
         {
          "section": "S003",
          "stack": "lil_EM",
          "z": 3
         },
         {
          "section": "S003",
          "stack": "lil_EM",
          "z": 3
         },
         {
          "section": "S003",
          "stack": "lil_EM",
          "z": 3
         },
         {
          "section": "S003",
          "stack": "lil_EM",
          "z": 3
         },
         {
          "section": "S003",
          "stack": "lil_EM",
          "z": 3
         },
         {
          "section": "S003",
          "stack": "lil_EM",
          "z": 3
         },
         {
          "section": "S003",
          "stack": "lil_EM",
          "z": 3
         },
         {
          "section": "S003",
          "stack": "lil_EM",
          "z": 3
         },
         {
          "section": "S003",
          "stack": "lil_EM",
          "z": 3
         },
         {
          "section": "S003",
          "stack": "lil_EM",
          "z": 3
         },
         {
          "section": "S003",
          "stack": "lil_EM",
          "z": 3
         },
         {
          "section": "S003",
          "stack": "lil_EM",
          "z": 3
         },
         {
          "section": "S003",
          "stack": "lil_EM",
          "z": 3
         },
         {
          "section": "S003",
          "stack": "lil_EM",
          "z": 3
         },
         {
          "section": "S003",
          "stack": "lil_EM",
          "z": 3
         },
         {
          "section": "S003",
          "stack": "lil_EM",
          "z": 3
         },
         {
          "section": "S003",
          "stack": "lil_EM",
          "z": 3
         },
         {
          "section": "S003",
          "stack": "lil_EM",
          "z": 3
         },
         {
          "section": "S003",
          "stack": "lil_EM",
          "z": 3
         },
         {
          "section": "S003",
          "stack": "lil_EM",
          "z": 3
         },
         {
          "section": "S003",
          "stack": "lil_EM",
          "z": 3
         },
         {
          "section": "S003",
          "stack": "lil_EM",
          "z": 3
         },
         {
          "section": "S003",
          "stack": "lil_EM",
          "z": 3
         },
         {
          "section": "S003",
          "stack": "lil_EM",
          "z": 3
         },
         {
          "section": "S003",
          "stack": "lil_EM",
          "z": 3
         },
         {
          "section": "S003",
          "stack": "lil_EM",
          "z": 3
         },
         {
          "section": "S003",
          "stack": "lil_EM",
          "z": 3
         },
         {
          "section": "S003",
          "stack": "lil_EM",
          "z": 3
         },
         {
          "section": "S003",
          "stack": "lil_EM",
          "z": 3
         },
         {
          "section": "S003",
          "stack": "lil_EM",
          "z": 3
         },
         {
          "section": "S003",
          "stack": "lil_EM",
          "z": 3
         },
         {
          "section": "S003",
          "stack": "lil_EM",
          "z": 3
         },
         {
          "section": "S003",
          "stack": "lil_EM",
          "z": 3
         },
         {
          "section": "S003",
          "stack": "lil_EM",
          "z": 3
         },
         {
          "section": "S003",
          "stack": "lil_EM",
          "z": 3
         },
         {
          "section": "S003",
          "stack": "lil_EM",
          "z": 3
         },
         {
          "section": "S003",
          "stack": "lil_EM",
          "z": 3
         },
         {
          "section": "S003",
          "stack": "lil_EM",
          "z": 3
         },
         {
          "section": "S003",
          "stack": "lil_EM",
          "z": 3
         },
         {
          "section": "S003",
          "stack": "lil_EM",
          "z": 3
         },
         {
          "section": "S003",
          "stack": "lil_EM",
          "z": 3
         },
         {
          "section": "S003",
          "stack": "lil_EM",
          "z": 3
         },
         {
          "section": "S003",
          "stack": "lil_EM",
          "z": 3
         },
         {
          "section": "S003",
          "stack": "lil_EM",
          "z": 3
         },
         {
          "section": "S003",
          "stack": "lil_EM",
          "z": 3
         },
         {
          "section": "S003",
          "stack": "lil_EM",
          "z": 3
         },
         {
          "section": "S003",
          "stack": "lil_EM",
          "z": 3
         },
         {
          "section": "S003",
          "stack": "lil_EM",
          "z": 3
         },
         {
          "section": "S003",
          "stack": "lil_EM",
          "z": 3
         },
         {
          "section": "S003",
          "stack": "lil_EM",
          "z": 3
         },
         {
          "section": "S003",
          "stack": "lil_EM",
          "z": 3
         },
         {
          "section": "S003",
          "stack": "lil_EM",
          "z": 3
         },
         {
          "section": "S003",
          "stack": "lil_EM",
          "z": 3
         },
         {
          "section": "S003",
          "stack": "lil_EM",
          "z": 3
         },
         {
          "section": "S003",
          "stack": "lil_EM",
          "z": 3
         },
         {
          "section": "S003",
          "stack": "lil_EM",
          "z": 3
         },
         {
          "section": "S003",
          "stack": "lil_EM",
          "z": 3
         },
         {
          "section": "S003",
          "stack": "lil_EM",
          "z": 3
         },
         {
          "section": "S003",
          "stack": "lil_EM",
          "z": 3
         },
         {
          "section": "S003",
          "stack": "lil_EM",
          "z": 3
         },
         {
          "section": "S003",
          "stack": "lil_EM",
          "z": 3
         },
         {
          "section": "S003",
          "stack": "lil_EM",
          "z": 3
         },
         {
          "section": "S003",
          "stack": "lil_EM",
          "z": 3
         },
         {
          "section": "S003",
          "stack": "lil_EM",
          "z": 3
         },
         {
          "section": "S003",
          "stack": "lil_EM",
          "z": 3
         },
         {
          "section": "S003",
          "stack": "lil_EM",
          "z": 3
         },
         {
          "section": "S003",
          "stack": "lil_EM",
          "z": 3
         },
         {
          "section": "S003",
          "stack": "lil_EM",
          "z": 3
         },
         {
          "section": "S003",
          "stack": "lil_EM",
          "z": 3
         },
         {
          "section": "S003",
          "stack": "lil_EM",
          "z": 3
         },
         {
          "section": "S003",
          "stack": "lil_EM",
          "z": 3
         },
         {
          "section": "S003",
          "stack": "lil_EM",
          "z": 3
         },
         {
          "section": "S003",
          "stack": "lil_EM",
          "z": 3
         },
         {
          "section": "S003",
          "stack": "lil_EM",
          "z": 3
         },
         {
          "section": "S003",
          "stack": "lil_EM",
          "z": 3
         },
         {
          "section": "S003",
          "stack": "lil_EM",
          "z": 3
         },
         {
          "section": "S003",
          "stack": "lil_EM",
          "z": 3
         },
         {
          "section": "S003",
          "stack": "lil_EM",
          "z": 3
         },
         {
          "section": "S003",
          "stack": "lil_EM",
          "z": 3
         },
         {
          "section": "S003",
          "stack": "lil_EM",
          "z": 3
         },
         {
          "section": "S003",
          "stack": "lil_EM",
          "z": 3
         },
         {
          "section": "S003",
          "stack": "lil_EM",
          "z": 3
         },
         {
          "section": "S003",
          "stack": "lil_EM",
          "z": 3
         },
         {
          "section": "S003",
          "stack": "lil_EM",
          "z": 3
         },
         {
          "section": "S003",
          "stack": "lil_EM",
          "z": 3
         },
         {
          "section": "S003",
          "stack": "lil_EM",
          "z": 3
         },
         {
          "section": "S003",
          "stack": "lil_EM",
          "z": 3
         },
         {
          "section": "S003",
          "stack": "lil_EM",
          "z": 3
         },
         {
          "section": "S003",
          "stack": "lil_EM",
          "z": 3
         },
         {
          "section": "S003",
          "stack": "lil_EM",
          "z": 3
         },
         {
          "section": "S003",
          "stack": "lil_EM",
          "z": 3
         },
         {
          "section": "S003",
          "stack": "lil_EM",
          "z": 3
         },
         {
          "section": "S003",
          "stack": "lil_EM",
          "z": 3
         },
         {
          "section": "S003",
          "stack": "lil_EM",
          "z": 3
         },
         {
          "section": "S003",
          "stack": "lil_EM",
          "z": 3
         },
         {
          "section": "S003",
          "stack": "lil_EM",
          "z": 3
         },
         {
          "section": "S003",
          "stack": "lil_EM",
          "z": 3
         },
         {
          "section": "S003",
          "stack": "lil_EM",
          "z": 3
         },
         {
          "section": "S003",
          "stack": "lil_EM",
          "z": 3
         },
         {
          "section": "S003",
          "stack": "lil_EM",
          "z": 3
         },
         {
          "section": "S003",
          "stack": "lil_EM",
          "z": 3
         },
         {
          "section": "S003",
          "stack": "lil_EM",
          "z": 3
         },
         {
          "section": "S003",
          "stack": "lil_EM",
          "z": 3
         },
         {
          "section": "S003",
          "stack": "lil_EM",
          "z": 3
         },
         {
          "section": "S003",
          "stack": "lil_EM",
          "z": 3
         },
         {
          "section": "S003",
          "stack": "lil_EM",
          "z": 3
         },
         {
          "section": "S003",
          "stack": "lil_EM",
          "z": 3
         },
         {
          "section": "S003",
          "stack": "lil_EM",
          "z": 3
         },
         {
          "section": "S003",
          "stack": "lil_EM",
          "z": 3
         },
         {
          "section": "S003",
          "stack": "lil_EM",
          "z": 3
         },
         {
          "section": "S003",
          "stack": "lil_EM",
          "z": 3
         },
         {
          "section": "S003",
          "stack": "lil_EM",
          "z": 3
         },
         {
          "section": "S003",
          "stack": "lil_EM",
          "z": 3
         },
         {
          "section": "S003",
          "stack": "lil_EM",
          "z": 3
         },
         {
          "section": "S003",
          "stack": "lil_EM",
          "z": 3
         },
         {
          "section": "S003",
          "stack": "lil_EM",
          "z": 3
         },
         {
          "section": "S003",
          "stack": "lil_EM",
          "z": 3
         },
         {
          "section": "S003",
          "stack": "lil_EM",
          "z": 3
         },
         {
          "section": "S003",
          "stack": "lil_EM",
          "z": 3
         },
         {
          "section": "S003",
          "stack": "lil_EM",
          "z": 3
         },
         {
          "section": "S003",
          "stack": "lil_EM",
          "z": 3
         },
         {
          "section": "S003",
          "stack": "lil_EM",
          "z": 3
         },
         {
          "section": "S003",
          "stack": "lil_EM",
          "z": 3
         },
         {
          "section": "S003",
          "stack": "lil_EM",
          "z": 3
         },
         {
          "section": "S003",
          "stack": "lil_EM",
          "z": 3
         },
         {
          "section": "S003",
          "stack": "lil_EM",
          "z": 3
         },
         {
          "section": "S003",
          "stack": "lil_EM",
          "z": 3
         },
         {
          "section": "S003",
          "stack": "lil_EM",
          "z": 3
         },
         {
          "section": "S003",
          "stack": "lil_EM",
          "z": 3
         },
         {
          "section": "S003",
          "stack": "lil_EM",
          "z": 3
         },
         {
          "section": "S003",
          "stack": "lil_EM",
          "z": 3
         },
         {
          "section": "S003",
          "stack": "lil_EM",
          "z": 3
         },
         {
          "section": "S003",
          "stack": "lil_EM",
          "z": 3
         },
         {
          "section": "S003",
          "stack": "lil_EM",
          "z": 3
         },
         {
          "section": "S003",
          "stack": "lil_EM",
          "z": 3
         },
         {
          "section": "S003",
          "stack": "lil_EM",
          "z": 3
         },
         {
          "section": "S003",
          "stack": "lil_EM",
          "z": 3
         },
         {
          "section": "S003",
          "stack": "lil_EM",
          "z": 3
         },
         {
          "section": "S003",
          "stack": "lil_EM",
          "z": 3
         },
         {
          "section": "S003",
          "stack": "lil_EM",
          "z": 3
         },
         {
          "section": "S003",
          "stack": "lil_EM",
          "z": 3
         },
         {
          "section": "S003",
          "stack": "lil_EM",
          "z": 3
         },
         {
          "section": "S003",
          "stack": "lil_EM",
          "z": 3
         },
         {
          "section": "S003",
          "stack": "lil_EM",
          "z": 3
         },
         {
          "section": "S003",
          "stack": "lil_EM",
          "z": 3
         },
         {
          "section": "S003",
          "stack": "lil_EM",
          "z": 3
         },
         {
          "section": "S003",
          "stack": "lil_EM",
          "z": 3
         },
         {
          "section": "S003",
          "stack": "lil_EM",
          "z": 3
         },
         {
          "section": "S003",
          "stack": "lil_EM",
          "z": 3
         },
         {
          "section": "S003",
          "stack": "lil_EM",
          "z": 3
         },
         {
          "section": "S003",
          "stack": "lil_EM",
          "z": 3
         },
         {
          "section": "S003",
          "stack": "lil_EM",
          "z": 3
         },
         {
          "section": "S003",
          "stack": "lil_EM",
          "z": 3
         },
         {
          "section": "S003",
          "stack": "lil_EM",
          "z": 3
         },
         {
          "section": "S003",
          "stack": "lil_EM",
          "z": 3
         },
         {
          "section": "S003",
          "stack": "lil_EM",
          "z": 3
         },
         {
          "section": "S003",
          "stack": "lil_EM",
          "z": 3
         },
         {
          "section": "S003",
          "stack": "lil_EM",
          "z": 3
         },
         {
          "section": "S003",
          "stack": "lil_EM",
          "z": 3
         },
         {
          "section": "S003",
          "stack": "lil_EM",
          "z": 3
         },
         {
          "section": "S003",
          "stack": "lil_EM",
          "z": 3
         },
         {
          "section": "S003",
          "stack": "lil_EM",
          "z": 3
         },
         {
          "section": "S003",
          "stack": "lil_EM",
          "z": 3
         },
         {
          "section": "S003",
          "stack": "lil_EM",
          "z": 3
         },
         {
          "section": "S003",
          "stack": "lil_EM",
          "z": 3
         },
         {
          "section": "S003",
          "stack": "lil_EM",
          "z": 3
         },
         {
          "section": "S003",
          "stack": "lil_EM",
          "z": 3
         },
         {
          "section": "S003",
          "stack": "lil_EM",
          "z": 3
         },
         {
          "section": "S003",
          "stack": "lil_EM",
          "z": 3
         },
         {
          "section": "S003",
          "stack": "lil_EM",
          "z": 3
         },
         {
          "section": "S003",
          "stack": "lil_EM",
          "z": 3
         },
         {
          "section": "S003",
          "stack": "lil_EM",
          "z": 3
         },
         {
          "section": "S003",
          "stack": "lil_EM",
          "z": 3
         },
         {
          "section": "S003",
          "stack": "lil_EM",
          "z": 3
         },
         {
          "section": "S003",
          "stack": "lil_EM",
          "z": 3
         },
         {
          "section": "S003",
          "stack": "lil_EM",
          "z": 3
         },
         {
          "section": "S003",
          "stack": "lil_EM",
          "z": 3
         },
         {
          "section": "S003",
          "stack": "lil_EM",
          "z": 3
         },
         {
          "section": "S003",
          "stack": "lil_EM",
          "z": 3
         },
         {
          "section": "S003",
          "stack": "lil_EM",
          "z": 3
         },
         {
          "section": "S003",
          "stack": "lil_EM",
          "z": 3
         },
         {
          "section": "S003",
          "stack": "lil_EM",
          "z": 3
         },
         {
          "section": "S003",
          "stack": "lil_EM",
          "z": 3
         },
         {
          "section": "S003",
          "stack": "lil_EM",
          "z": 3
         },
         {
          "section": "S003",
          "stack": "lil_EM",
          "z": 3
         },
         {
          "section": "S003",
          "stack": "lil_EM",
          "z": 3
         },
         {
          "section": "S003",
          "stack": "lil_EM",
          "z": 3
         },
         {
          "section": "S003",
          "stack": "lil_EM",
          "z": 3
         },
         {
          "section": "S003",
          "stack": "lil_EM",
          "z": 3
         },
         {
          "section": "S003",
          "stack": "lil_EM",
          "z": 3
         },
         {
          "section": "S003",
          "stack": "lil_EM",
          "z": 3
         },
         {
          "section": "S003",
          "stack": "lil_EM",
          "z": 3
         },
         {
          "section": "S003",
          "stack": "lil_EM",
          "z": 3
         },
         {
          "section": "S003",
          "stack": "lil_EM",
          "z": 3
         },
         {
          "section": "S003",
          "stack": "lil_EM",
          "z": 3
         },
         {
          "section": "S003",
          "stack": "lil_EM",
          "z": 3
         },
         {
          "section": "S003",
          "stack": "lil_EM",
          "z": 3
         },
         {
          "section": "S003",
          "stack": "lil_EM",
          "z": 3
         },
         {
          "section": "S003",
          "stack": "lil_EM",
          "z": 3
         },
         {
          "section": "S003",
          "stack": "lil_EM",
          "z": 3
         },
         {
          "section": "S003",
          "stack": "lil_EM",
          "z": 3
         },
         {
          "section": "S003",
          "stack": "lil_EM",
          "z": 3
         },
         {
          "section": "S003",
          "stack": "lil_EM",
          "z": 3
         },
         {
          "section": "S003",
          "stack": "lil_EM",
          "z": 3
         },
         {
          "section": "S003",
          "stack": "lil_EM",
          "z": 3
         },
         {
          "section": "S003",
          "stack": "lil_EM",
          "z": 3
         },
         {
          "section": "S003",
          "stack": "lil_EM",
          "z": 3
         },
         {
          "section": "S003",
          "stack": "lil_EM",
          "z": 3
         },
         {
          "section": "S003",
          "stack": "lil_EM",
          "z": 3
         },
         {
          "section": "S003",
          "stack": "lil_EM",
          "z": 3
         },
         {
          "section": "S003",
          "stack": "lil_EM",
          "z": 3
         },
         {
          "section": "S003",
          "stack": "lil_EM",
          "z": 3
         },
         {
          "section": "S003",
          "stack": "lil_EM",
          "z": 3
         },
         {
          "section": "S003",
          "stack": "lil_EM",
          "z": 3
         },
         {
          "section": "S003",
          "stack": "lil_EM",
          "z": 3
         },
         {
          "section": "S003",
          "stack": "lil_EM",
          "z": 3
         },
         {
          "section": "S003",
          "stack": "lil_EM",
          "z": 3
         },
         {
          "section": "S003",
          "stack": "lil_EM",
          "z": 3
         },
         {
          "section": "S003",
          "stack": "lil_EM",
          "z": 3
         },
         {
          "section": "S003",
          "stack": "lil_EM",
          "z": 3
         },
         {
          "section": "S003",
          "stack": "lil_EM",
          "z": 3
         },
         {
          "section": "S003",
          "stack": "lil_EM",
          "z": 3
         },
         {
          "section": "S003",
          "stack": "lil_EM",
          "z": 3
         },
         {
          "section": "S003",
          "stack": "lil_EM",
          "z": 3
         },
         {
          "section": "S003",
          "stack": "lil_EM",
          "z": 3
         },
         {
          "section": "S003",
          "stack": "lil_EM",
          "z": 3
         },
         {
          "section": "S003",
          "stack": "lil_EM",
          "z": 3
         },
         {
          "section": "S003",
          "stack": "lil_EM",
          "z": 3
         },
         {
          "section": "S003",
          "stack": "lil_EM",
          "z": 3
         },
         {
          "section": "S003",
          "stack": "lil_EM",
          "z": 3
         },
         {
          "section": "S003",
          "stack": "lil_EM",
          "z": 3
         },
         {
          "section": "S003",
          "stack": "lil_EM",
          "z": 3
         },
         {
          "section": "S003",
          "stack": "lil_EM",
          "z": 3
         },
         {
          "section": "S003",
          "stack": "lil_EM",
          "z": 3
         },
         {
          "section": "S003",
          "stack": "lil_EM",
          "z": 3
         },
         {
          "section": "S003",
          "stack": "lil_EM",
          "z": 3
         },
         {
          "section": "S003",
          "stack": "lil_EM",
          "z": 3
         },
         {
          "section": "S003",
          "stack": "lil_EM",
          "z": 3
         },
         {
          "section": "S003",
          "stack": "lil_EM",
          "z": 3
         },
         {
          "section": "S003",
          "stack": "lil_EM",
          "z": 3
         },
         {
          "section": "S003",
          "stack": "lil_EM",
          "z": 3
         },
         {
          "section": "S003",
          "stack": "lil_EM",
          "z": 3
         },
         {
          "section": "S003",
          "stack": "lil_EM",
          "z": 3
         },
         {
          "section": "S003",
          "stack": "lil_EM",
          "z": 3
         },
         {
          "section": "S003",
          "stack": "lil_EM",
          "z": 3
         },
         {
          "section": "S004",
          "stack": "hoechst",
          "z": 4
         },
         {
          "section": "S004",
          "stack": "hoechst",
          "z": 4
         },
         {
          "section": "S004",
          "stack": "hoechst",
          "z": 4
         },
         {
          "section": "S004",
          "stack": "hoechst",
          "z": 4
         },
         {
          "section": "S004",
          "stack": "hoechst",
          "z": 4
         },
         {
          "section": "S004",
          "stack": "hoechst",
          "z": 4
         },
         {
          "section": "S004",
          "stack": "hoechst",
          "z": 4
         },
         {
          "section": "S004",
          "stack": "hoechst",
          "z": 4
         },
         {
          "section": "S004",
          "stack": "hoechst",
          "z": 4
         },
         {
          "section": "S004",
          "stack": "hoechst",
          "z": 4
         },
         {
          "section": "S004",
          "stack": "hoechst",
          "z": 4
         },
         {
          "section": "S004",
          "stack": "hoechst",
          "z": 4
         },
         {
          "section": "S004",
          "stack": "insulin",
          "z": 4
         },
         {
          "section": "S004",
          "stack": "insulin",
          "z": 4
         },
         {
          "section": "S004",
          "stack": "insulin",
          "z": 4
         },
         {
          "section": "S004",
          "stack": "insulin",
          "z": 4
         },
         {
          "section": "S004",
          "stack": "insulin",
          "z": 4
         },
         {
          "section": "S004",
          "stack": "insulin",
          "z": 4
         },
         {
          "section": "S004",
          "stack": "insulin",
          "z": 4
         },
         {
          "section": "S004",
          "stack": "insulin",
          "z": 4
         },
         {
          "section": "S004",
          "stack": "insulin",
          "z": 4
         },
         {
          "section": "S004",
          "stack": "insulin",
          "z": 4
         },
         {
          "section": "S004",
          "stack": "insulin",
          "z": 4
         },
         {
          "section": "S004",
          "stack": "insulin",
          "z": 4
         },
         {
          "section": "S004",
          "stack": "big_EM",
          "z": 4
         },
         {
          "section": "S004",
          "stack": "big_EM",
          "z": 4
         },
         {
          "section": "S004",
          "stack": "big_EM",
          "z": 4
         },
         {
          "section": "S004",
          "stack": "big_EM",
          "z": 4
         },
         {
          "section": "S004",
          "stack": "big_EM",
          "z": 4
         },
         {
          "section": "S004",
          "stack": "big_EM",
          "z": 4
         },
         {
          "section": "S004",
          "stack": "big_EM",
          "z": 4
         },
         {
          "section": "S004",
          "stack": "big_EM",
          "z": 4
         },
         {
          "section": "S004",
          "stack": "big_EM",
          "z": 4
         },
         {
          "section": "S004",
          "stack": "big_EM",
          "z": 4
         },
         {
          "section": "S004",
          "stack": "big_EM",
          "z": 4
         },
         {
          "section": "S004",
          "stack": "big_EM",
          "z": 4
         },
         {
          "section": "S004",
          "stack": "lil_EM",
          "z": 4
         },
         {
          "section": "S004",
          "stack": "lil_EM",
          "z": 4
         },
         {
          "section": "S004",
          "stack": "lil_EM",
          "z": 4
         },
         {
          "section": "S004",
          "stack": "lil_EM",
          "z": 4
         },
         {
          "section": "S004",
          "stack": "lil_EM",
          "z": 4
         },
         {
          "section": "S004",
          "stack": "lil_EM",
          "z": 4
         },
         {
          "section": "S004",
          "stack": "lil_EM",
          "z": 4
         },
         {
          "section": "S004",
          "stack": "lil_EM",
          "z": 4
         },
         {
          "section": "S004",
          "stack": "lil_EM",
          "z": 4
         },
         {
          "section": "S004",
          "stack": "lil_EM",
          "z": 4
         },
         {
          "section": "S004",
          "stack": "lil_EM",
          "z": 4
         },
         {
          "section": "S004",
          "stack": "lil_EM",
          "z": 4
         },
         {
          "section": "S004",
          "stack": "lil_EM",
          "z": 4
         },
         {
          "section": "S004",
          "stack": "lil_EM",
          "z": 4
         },
         {
          "section": "S004",
          "stack": "lil_EM",
          "z": 4
         },
         {
          "section": "S004",
          "stack": "lil_EM",
          "z": 4
         },
         {
          "section": "S004",
          "stack": "lil_EM",
          "z": 4
         },
         {
          "section": "S004",
          "stack": "lil_EM",
          "z": 4
         },
         {
          "section": "S004",
          "stack": "lil_EM",
          "z": 4
         },
         {
          "section": "S004",
          "stack": "lil_EM",
          "z": 4
         },
         {
          "section": "S004",
          "stack": "lil_EM",
          "z": 4
         },
         {
          "section": "S004",
          "stack": "lil_EM",
          "z": 4
         },
         {
          "section": "S004",
          "stack": "lil_EM",
          "z": 4
         },
         {
          "section": "S004",
          "stack": "lil_EM",
          "z": 4
         },
         {
          "section": "S004",
          "stack": "lil_EM",
          "z": 4
         },
         {
          "section": "S004",
          "stack": "lil_EM",
          "z": 4
         },
         {
          "section": "S004",
          "stack": "lil_EM",
          "z": 4
         },
         {
          "section": "S004",
          "stack": "lil_EM",
          "z": 4
         },
         {
          "section": "S004",
          "stack": "lil_EM",
          "z": 4
         },
         {
          "section": "S004",
          "stack": "lil_EM",
          "z": 4
         },
         {
          "section": "S004",
          "stack": "lil_EM",
          "z": 4
         },
         {
          "section": "S004",
          "stack": "lil_EM",
          "z": 4
         },
         {
          "section": "S004",
          "stack": "lil_EM",
          "z": 4
         },
         {
          "section": "S004",
          "stack": "lil_EM",
          "z": 4
         },
         {
          "section": "S004",
          "stack": "lil_EM",
          "z": 4
         },
         {
          "section": "S004",
          "stack": "lil_EM",
          "z": 4
         },
         {
          "section": "S004",
          "stack": "lil_EM",
          "z": 4
         },
         {
          "section": "S004",
          "stack": "lil_EM",
          "z": 4
         },
         {
          "section": "S004",
          "stack": "lil_EM",
          "z": 4
         },
         {
          "section": "S004",
          "stack": "lil_EM",
          "z": 4
         },
         {
          "section": "S004",
          "stack": "lil_EM",
          "z": 4
         },
         {
          "section": "S004",
          "stack": "lil_EM",
          "z": 4
         },
         {
          "section": "S004",
          "stack": "lil_EM",
          "z": 4
         },
         {
          "section": "S004",
          "stack": "lil_EM",
          "z": 4
         },
         {
          "section": "S004",
          "stack": "lil_EM",
          "z": 4
         },
         {
          "section": "S004",
          "stack": "lil_EM",
          "z": 4
         },
         {
          "section": "S004",
          "stack": "lil_EM",
          "z": 4
         },
         {
          "section": "S004",
          "stack": "lil_EM",
          "z": 4
         },
         {
          "section": "S004",
          "stack": "lil_EM",
          "z": 4
         },
         {
          "section": "S004",
          "stack": "lil_EM",
          "z": 4
         },
         {
          "section": "S004",
          "stack": "lil_EM",
          "z": 4
         },
         {
          "section": "S004",
          "stack": "lil_EM",
          "z": 4
         },
         {
          "section": "S004",
          "stack": "lil_EM",
          "z": 4
         },
         {
          "section": "S004",
          "stack": "lil_EM",
          "z": 4
         },
         {
          "section": "S004",
          "stack": "lil_EM",
          "z": 4
         },
         {
          "section": "S004",
          "stack": "lil_EM",
          "z": 4
         },
         {
          "section": "S004",
          "stack": "lil_EM",
          "z": 4
         },
         {
          "section": "S004",
          "stack": "lil_EM",
          "z": 4
         },
         {
          "section": "S004",
          "stack": "lil_EM",
          "z": 4
         },
         {
          "section": "S004",
          "stack": "lil_EM",
          "z": 4
         },
         {
          "section": "S004",
          "stack": "lil_EM",
          "z": 4
         },
         {
          "section": "S004",
          "stack": "lil_EM",
          "z": 4
         },
         {
          "section": "S004",
          "stack": "lil_EM",
          "z": 4
         },
         {
          "section": "S004",
          "stack": "lil_EM",
          "z": 4
         },
         {
          "section": "S004",
          "stack": "lil_EM",
          "z": 4
         },
         {
          "section": "S004",
          "stack": "lil_EM",
          "z": 4
         },
         {
          "section": "S004",
          "stack": "lil_EM",
          "z": 4
         },
         {
          "section": "S004",
          "stack": "lil_EM",
          "z": 4
         },
         {
          "section": "S004",
          "stack": "lil_EM",
          "z": 4
         },
         {
          "section": "S004",
          "stack": "lil_EM",
          "z": 4
         },
         {
          "section": "S004",
          "stack": "lil_EM",
          "z": 4
         },
         {
          "section": "S004",
          "stack": "lil_EM",
          "z": 4
         },
         {
          "section": "S004",
          "stack": "lil_EM",
          "z": 4
         },
         {
          "section": "S004",
          "stack": "lil_EM",
          "z": 4
         },
         {
          "section": "S004",
          "stack": "lil_EM",
          "z": 4
         },
         {
          "section": "S004",
          "stack": "lil_EM",
          "z": 4
         },
         {
          "section": "S004",
          "stack": "lil_EM",
          "z": 4
         },
         {
          "section": "S004",
          "stack": "lil_EM",
          "z": 4
         },
         {
          "section": "S004",
          "stack": "lil_EM",
          "z": 4
         },
         {
          "section": "S004",
          "stack": "lil_EM",
          "z": 4
         },
         {
          "section": "S004",
          "stack": "lil_EM",
          "z": 4
         },
         {
          "section": "S004",
          "stack": "lil_EM",
          "z": 4
         },
         {
          "section": "S004",
          "stack": "lil_EM",
          "z": 4
         },
         {
          "section": "S004",
          "stack": "lil_EM",
          "z": 4
         },
         {
          "section": "S004",
          "stack": "lil_EM",
          "z": 4
         },
         {
          "section": "S004",
          "stack": "lil_EM",
          "z": 4
         },
         {
          "section": "S004",
          "stack": "lil_EM",
          "z": 4
         },
         {
          "section": "S004",
          "stack": "lil_EM",
          "z": 4
         },
         {
          "section": "S004",
          "stack": "lil_EM",
          "z": 4
         },
         {
          "section": "S004",
          "stack": "lil_EM",
          "z": 4
         },
         {
          "section": "S004",
          "stack": "lil_EM",
          "z": 4
         },
         {
          "section": "S004",
          "stack": "lil_EM",
          "z": 4
         },
         {
          "section": "S004",
          "stack": "lil_EM",
          "z": 4
         },
         {
          "section": "S004",
          "stack": "lil_EM",
          "z": 4
         },
         {
          "section": "S004",
          "stack": "lil_EM",
          "z": 4
         },
         {
          "section": "S004",
          "stack": "lil_EM",
          "z": 4
         },
         {
          "section": "S004",
          "stack": "lil_EM",
          "z": 4
         },
         {
          "section": "S004",
          "stack": "lil_EM",
          "z": 4
         },
         {
          "section": "S004",
          "stack": "lil_EM",
          "z": 4
         },
         {
          "section": "S004",
          "stack": "lil_EM",
          "z": 4
         },
         {
          "section": "S004",
          "stack": "lil_EM",
          "z": 4
         },
         {
          "section": "S004",
          "stack": "lil_EM",
          "z": 4
         },
         {
          "section": "S004",
          "stack": "lil_EM",
          "z": 4
         },
         {
          "section": "S004",
          "stack": "lil_EM",
          "z": 4
         },
         {
          "section": "S004",
          "stack": "lil_EM",
          "z": 4
         },
         {
          "section": "S004",
          "stack": "lil_EM",
          "z": 4
         },
         {
          "section": "S004",
          "stack": "lil_EM",
          "z": 4
         },
         {
          "section": "S004",
          "stack": "lil_EM",
          "z": 4
         },
         {
          "section": "S004",
          "stack": "lil_EM",
          "z": 4
         },
         {
          "section": "S004",
          "stack": "lil_EM",
          "z": 4
         },
         {
          "section": "S004",
          "stack": "lil_EM",
          "z": 4
         },
         {
          "section": "S004",
          "stack": "lil_EM",
          "z": 4
         },
         {
          "section": "S004",
          "stack": "lil_EM",
          "z": 4
         },
         {
          "section": "S004",
          "stack": "lil_EM",
          "z": 4
         },
         {
          "section": "S004",
          "stack": "lil_EM",
          "z": 4
         },
         {
          "section": "S004",
          "stack": "lil_EM",
          "z": 4
         },
         {
          "section": "S004",
          "stack": "lil_EM",
          "z": 4
         },
         {
          "section": "S004",
          "stack": "lil_EM",
          "z": 4
         },
         {
          "section": "S004",
          "stack": "lil_EM",
          "z": 4
         },
         {
          "section": "S004",
          "stack": "lil_EM",
          "z": 4
         },
         {
          "section": "S004",
          "stack": "lil_EM",
          "z": 4
         },
         {
          "section": "S004",
          "stack": "lil_EM",
          "z": 4
         },
         {
          "section": "S004",
          "stack": "lil_EM",
          "z": 4
         },
         {
          "section": "S004",
          "stack": "lil_EM",
          "z": 4
         },
         {
          "section": "S004",
          "stack": "lil_EM",
          "z": 4
         },
         {
          "section": "S004",
          "stack": "lil_EM",
          "z": 4
         },
         {
          "section": "S004",
          "stack": "lil_EM",
          "z": 4
         },
         {
          "section": "S004",
          "stack": "lil_EM",
          "z": 4
         },
         {
          "section": "S004",
          "stack": "lil_EM",
          "z": 4
         },
         {
          "section": "S004",
          "stack": "lil_EM",
          "z": 4
         },
         {
          "section": "S004",
          "stack": "lil_EM",
          "z": 4
         },
         {
          "section": "S004",
          "stack": "lil_EM",
          "z": 4
         },
         {
          "section": "S004",
          "stack": "lil_EM",
          "z": 4
         },
         {
          "section": "S004",
          "stack": "lil_EM",
          "z": 4
         },
         {
          "section": "S004",
          "stack": "lil_EM",
          "z": 4
         },
         {
          "section": "S004",
          "stack": "lil_EM",
          "z": 4
         },
         {
          "section": "S004",
          "stack": "lil_EM",
          "z": 4
         },
         {
          "section": "S004",
          "stack": "lil_EM",
          "z": 4
         },
         {
          "section": "S004",
          "stack": "lil_EM",
          "z": 4
         },
         {
          "section": "S004",
          "stack": "lil_EM",
          "z": 4
         },
         {
          "section": "S004",
          "stack": "lil_EM",
          "z": 4
         },
         {
          "section": "S004",
          "stack": "lil_EM",
          "z": 4
         },
         {
          "section": "S004",
          "stack": "lil_EM",
          "z": 4
         },
         {
          "section": "S004",
          "stack": "lil_EM",
          "z": 4
         },
         {
          "section": "S004",
          "stack": "lil_EM",
          "z": 4
         },
         {
          "section": "S004",
          "stack": "lil_EM",
          "z": 4
         },
         {
          "section": "S004",
          "stack": "lil_EM",
          "z": 4
         },
         {
          "section": "S004",
          "stack": "lil_EM",
          "z": 4
         },
         {
          "section": "S004",
          "stack": "lil_EM",
          "z": 4
         },
         {
          "section": "S004",
          "stack": "lil_EM",
          "z": 4
         },
         {
          "section": "S004",
          "stack": "lil_EM",
          "z": 4
         },
         {
          "section": "S004",
          "stack": "lil_EM",
          "z": 4
         },
         {
          "section": "S004",
          "stack": "lil_EM",
          "z": 4
         },
         {
          "section": "S004",
          "stack": "lil_EM",
          "z": 4
         },
         {
          "section": "S004",
          "stack": "lil_EM",
          "z": 4
         },
         {
          "section": "S004",
          "stack": "lil_EM",
          "z": 4
         },
         {
          "section": "S004",
          "stack": "lil_EM",
          "z": 4
         },
         {
          "section": "S004",
          "stack": "lil_EM",
          "z": 4
         },
         {
          "section": "S004",
          "stack": "lil_EM",
          "z": 4
         },
         {
          "section": "S004",
          "stack": "lil_EM",
          "z": 4
         },
         {
          "section": "S004",
          "stack": "lil_EM",
          "z": 4
         },
         {
          "section": "S004",
          "stack": "lil_EM",
          "z": 4
         },
         {
          "section": "S004",
          "stack": "lil_EM",
          "z": 4
         },
         {
          "section": "S004",
          "stack": "lil_EM",
          "z": 4
         },
         {
          "section": "S004",
          "stack": "lil_EM",
          "z": 4
         },
         {
          "section": "S004",
          "stack": "lil_EM",
          "z": 4
         },
         {
          "section": "S004",
          "stack": "lil_EM",
          "z": 4
         },
         {
          "section": "S004",
          "stack": "lil_EM",
          "z": 4
         },
         {
          "section": "S004",
          "stack": "lil_EM",
          "z": 4
         },
         {
          "section": "S004",
          "stack": "lil_EM",
          "z": 4
         },
         {
          "section": "S004",
          "stack": "lil_EM",
          "z": 4
         },
         {
          "section": "S004",
          "stack": "lil_EM",
          "z": 4
         },
         {
          "section": "S004",
          "stack": "lil_EM",
          "z": 4
         },
         {
          "section": "S004",
          "stack": "lil_EM",
          "z": 4
         },
         {
          "section": "S004",
          "stack": "lil_EM",
          "z": 4
         },
         {
          "section": "S004",
          "stack": "lil_EM",
          "z": 4
         },
         {
          "section": "S004",
          "stack": "lil_EM",
          "z": 4
         },
         {
          "section": "S004",
          "stack": "lil_EM",
          "z": 4
         },
         {
          "section": "S004",
          "stack": "lil_EM",
          "z": 4
         },
         {
          "section": "S004",
          "stack": "lil_EM",
          "z": 4
         },
         {
          "section": "S004",
          "stack": "lil_EM",
          "z": 4
         },
         {
          "section": "S004",
          "stack": "lil_EM",
          "z": 4
         },
         {
          "section": "S004",
          "stack": "lil_EM",
          "z": 4
         },
         {
          "section": "S004",
          "stack": "lil_EM",
          "z": 4
         },
         {
          "section": "S004",
          "stack": "lil_EM",
          "z": 4
         },
         {
          "section": "S004",
          "stack": "lil_EM",
          "z": 4
         },
         {
          "section": "S004",
          "stack": "lil_EM",
          "z": 4
         },
         {
          "section": "S004",
          "stack": "lil_EM",
          "z": 4
         },
         {
          "section": "S004",
          "stack": "lil_EM",
          "z": 4
         },
         {
          "section": "S004",
          "stack": "lil_EM",
          "z": 4
         },
         {
          "section": "S004",
          "stack": "lil_EM",
          "z": 4
         },
         {
          "section": "S004",
          "stack": "lil_EM",
          "z": 4
         },
         {
          "section": "S004",
          "stack": "lil_EM",
          "z": 4
         },
         {
          "section": "S004",
          "stack": "lil_EM",
          "z": 4
         },
         {
          "section": "S004",
          "stack": "lil_EM",
          "z": 4
         },
         {
          "section": "S004",
          "stack": "lil_EM",
          "z": 4
         },
         {
          "section": "S004",
          "stack": "lil_EM",
          "z": 4
         },
         {
          "section": "S004",
          "stack": "lil_EM",
          "z": 4
         },
         {
          "section": "S004",
          "stack": "lil_EM",
          "z": 4
         },
         {
          "section": "S004",
          "stack": "lil_EM",
          "z": 4
         },
         {
          "section": "S004",
          "stack": "lil_EM",
          "z": 4
         },
         {
          "section": "S004",
          "stack": "lil_EM",
          "z": 4
         },
         {
          "section": "S004",
          "stack": "lil_EM",
          "z": 4
         },
         {
          "section": "S004",
          "stack": "lil_EM",
          "z": 4
         },
         {
          "section": "S004",
          "stack": "lil_EM",
          "z": 4
         },
         {
          "section": "S004",
          "stack": "lil_EM",
          "z": 4
         },
         {
          "section": "S004",
          "stack": "lil_EM",
          "z": 4
         },
         {
          "section": "S004",
          "stack": "lil_EM",
          "z": 4
         },
         {
          "section": "S004",
          "stack": "lil_EM",
          "z": 4
         },
         {
          "section": "S004",
          "stack": "lil_EM",
          "z": 4
         },
         {
          "section": "S004",
          "stack": "lil_EM",
          "z": 4
         },
         {
          "section": "S004",
          "stack": "lil_EM",
          "z": 4
         },
         {
          "section": "S004",
          "stack": "lil_EM",
          "z": 4
         },
         {
          "section": "S004",
          "stack": "lil_EM",
          "z": 4
         },
         {
          "section": "S004",
          "stack": "lil_EM",
          "z": 4
         },
         {
          "section": "S004",
          "stack": "lil_EM",
          "z": 4
         },
         {
          "section": "S004",
          "stack": "lil_EM",
          "z": 4
         },
         {
          "section": "S004",
          "stack": "lil_EM",
          "z": 4
         },
         {
          "section": "S004",
          "stack": "lil_EM",
          "z": 4
         },
         {
          "section": "S004",
          "stack": "lil_EM",
          "z": 4
         },
         {
          "section": "S004",
          "stack": "lil_EM",
          "z": 4
         },
         {
          "section": "S004",
          "stack": "lil_EM",
          "z": 4
         },
         {
          "section": "S004",
          "stack": "lil_EM",
          "z": 4
         },
         {
          "section": "S004",
          "stack": "lil_EM",
          "z": 4
         },
         {
          "section": "S004",
          "stack": "lil_EM",
          "z": 4
         },
         {
          "section": "S004",
          "stack": "lil_EM",
          "z": 4
         },
         {
          "section": "S004",
          "stack": "lil_EM",
          "z": 4
         },
         {
          "section": "S004",
          "stack": "lil_EM",
          "z": 4
         },
         {
          "section": "S004",
          "stack": "lil_EM",
          "z": 4
         },
         {
          "section": "S004",
          "stack": "lil_EM",
          "z": 4
         },
         {
          "section": "S004",
          "stack": "lil_EM",
          "z": 4
         },
         {
          "section": "S004",
          "stack": "lil_EM",
          "z": 4
         },
         {
          "section": "S004",
          "stack": "lil_EM",
          "z": 4
         },
         {
          "section": "S004",
          "stack": "lil_EM",
          "z": 4
         },
         {
          "section": "S004",
          "stack": "lil_EM",
          "z": 4
         },
         {
          "section": "S004",
          "stack": "lil_EM",
          "z": 4
         },
         {
          "section": "S004",
          "stack": "lil_EM",
          "z": 4
         },
         {
          "section": "S004",
          "stack": "lil_EM",
          "z": 4
         },
         {
          "section": "S004",
          "stack": "lil_EM",
          "z": 4
         },
         {
          "section": "S004",
          "stack": "lil_EM",
          "z": 4
         },
         {
          "section": "S004",
          "stack": "lil_EM",
          "z": 4
         },
         {
          "section": "S004",
          "stack": "lil_EM",
          "z": 4
         },
         {
          "section": "S004",
          "stack": "lil_EM",
          "z": 4
         },
         {
          "section": "S004",
          "stack": "lil_EM",
          "z": 4
         },
         {
          "section": "S004",
          "stack": "lil_EM",
          "z": 4
         },
         {
          "section": "S004",
          "stack": "lil_EM",
          "z": 4
         },
         {
          "section": "S004",
          "stack": "lil_EM",
          "z": 4
         },
         {
          "section": "S004",
          "stack": "lil_EM",
          "z": 4
         },
         {
          "section": "S004",
          "stack": "lil_EM",
          "z": 4
         },
         {
          "section": "S004",
          "stack": "lil_EM",
          "z": 4
         },
         {
          "section": "S004",
          "stack": "lil_EM",
          "z": 4
         },
         {
          "section": "S004",
          "stack": "lil_EM",
          "z": 4
         },
         {
          "section": "S004",
          "stack": "lil_EM",
          "z": 4
         },
         {
          "section": "S004",
          "stack": "lil_EM",
          "z": 4
         },
         {
          "section": "S004",
          "stack": "lil_EM",
          "z": 4
         },
         {
          "section": "S004",
          "stack": "lil_EM",
          "z": 4
         },
         {
          "section": "S004",
          "stack": "lil_EM",
          "z": 4
         },
         {
          "section": "S004",
          "stack": "lil_EM",
          "z": 4
         },
         {
          "section": "S004",
          "stack": "lil_EM",
          "z": 4
         },
         {
          "section": "S004",
          "stack": "lil_EM",
          "z": 4
         },
         {
          "section": "S004",
          "stack": "lil_EM",
          "z": 4
         },
         {
          "section": "S004",
          "stack": "lil_EM",
          "z": 4
         },
         {
          "section": "S004",
          "stack": "lil_EM",
          "z": 4
         },
         {
          "section": "S004",
          "stack": "lil_EM",
          "z": 4
         },
         {
          "section": "S004",
          "stack": "lil_EM",
          "z": 4
         },
         {
          "section": "S004",
          "stack": "lil_EM",
          "z": 4
         },
         {
          "section": "S004",
          "stack": "lil_EM",
          "z": 4
         },
         {
          "section": "S004",
          "stack": "lil_EM",
          "z": 4
         },
         {
          "section": "S004",
          "stack": "lil_EM",
          "z": 4
         },
         {
          "section": "S004",
          "stack": "lil_EM",
          "z": 4
         },
         {
          "section": "S004",
          "stack": "lil_EM",
          "z": 4
         },
         {
          "section": "S004",
          "stack": "lil_EM",
          "z": 4
         },
         {
          "section": "S004",
          "stack": "lil_EM",
          "z": 4
         },
         {
          "section": "S004",
          "stack": "lil_EM",
          "z": 4
         },
         {
          "section": "S004",
          "stack": "lil_EM",
          "z": 4
         },
         {
          "section": "S004",
          "stack": "lil_EM",
          "z": 4
         },
         {
          "section": "S004",
          "stack": "lil_EM",
          "z": 4
         },
         {
          "section": "S004",
          "stack": "lil_EM",
          "z": 4
         },
         {
          "section": "S004",
          "stack": "lil_EM",
          "z": 4
         },
         {
          "section": "S004",
          "stack": "lil_EM",
          "z": 4
         },
         {
          "section": "S004",
          "stack": "lil_EM",
          "z": 4
         },
         {
          "section": "S004",
          "stack": "lil_EM",
          "z": 4
         },
         {
          "section": "S004",
          "stack": "lil_EM",
          "z": 4
         },
         {
          "section": "S004",
          "stack": "lil_EM",
          "z": 4
         },
         {
          "section": "S004",
          "stack": "lil_EM",
          "z": 4
         },
         {
          "section": "S004",
          "stack": "lil_EM",
          "z": 4
         },
         {
          "section": "S004",
          "stack": "lil_EM",
          "z": 4
         },
         {
          "section": "S004",
          "stack": "lil_EM",
          "z": 4
         },
         {
          "section": "S004",
          "stack": "lil_EM",
          "z": 4
         },
         {
          "section": "S004",
          "stack": "lil_EM",
          "z": 4
         },
         {
          "section": "S004",
          "stack": "lil_EM",
          "z": 4
         },
         {
          "section": "S004",
          "stack": "lil_EM",
          "z": 4
         },
         {
          "section": "S004",
          "stack": "lil_EM",
          "z": 4
         },
         {
          "section": "S004",
          "stack": "lil_EM",
          "z": 4
         },
         {
          "section": "S004",
          "stack": "lil_EM",
          "z": 4
         },
         {
          "section": "S004",
          "stack": "lil_EM",
          "z": 4
         },
         {
          "section": "S004",
          "stack": "lil_EM",
          "z": 4
         },
         {
          "section": "S004",
          "stack": "lil_EM",
          "z": 4
         },
         {
          "section": "S004",
          "stack": "lil_EM",
          "z": 4
         },
         {
          "section": "S004",
          "stack": "lil_EM",
          "z": 4
         },
         {
          "section": "S004",
          "stack": "lil_EM",
          "z": 4
         },
         {
          "section": "S004",
          "stack": "lil_EM",
          "z": 4
         },
         {
          "section": "S004",
          "stack": "lil_EM",
          "z": 4
         },
         {
          "section": "S004",
          "stack": "lil_EM",
          "z": 4
         },
         {
          "section": "S004",
          "stack": "lil_EM",
          "z": 4
         },
         {
          "section": "S004",
          "stack": "lil_EM",
          "z": 4
         },
         {
          "section": "S004",
          "stack": "lil_EM",
          "z": 4
         },
         {
          "section": "S004",
          "stack": "lil_EM",
          "z": 4
         },
         {
          "section": "S004",
          "stack": "lil_EM",
          "z": 4
         },
         {
          "section": "S004",
          "stack": "lil_EM",
          "z": 4
         },
         {
          "section": "S004",
          "stack": "lil_EM",
          "z": 4
         },
         {
          "section": "S004",
          "stack": "lil_EM",
          "z": 4
         },
         {
          "section": "S004",
          "stack": "lil_EM",
          "z": 4
         },
         {
          "section": "S004",
          "stack": "lil_EM",
          "z": 4
         },
         {
          "section": "S004",
          "stack": "lil_EM",
          "z": 4
         },
         {
          "section": "S004",
          "stack": "lil_EM",
          "z": 4
         },
         {
          "section": "S004",
          "stack": "lil_EM",
          "z": 4
         },
         {
          "section": "S004",
          "stack": "lil_EM",
          "z": 4
         },
         {
          "section": "S004",
          "stack": "lil_EM",
          "z": 4
         },
         {
          "section": "S004",
          "stack": "lil_EM",
          "z": 4
         },
         {
          "section": "S005",
          "stack": "hoechst",
          "z": 5
         },
         {
          "section": "S005",
          "stack": "hoechst",
          "z": 5
         },
         {
          "section": "S005",
          "stack": "hoechst",
          "z": 5
         },
         {
          "section": "S005",
          "stack": "hoechst",
          "z": 5
         },
         {
          "section": "S005",
          "stack": "hoechst",
          "z": 5
         },
         {
          "section": "S005",
          "stack": "hoechst",
          "z": 5
         },
         {
          "section": "S005",
          "stack": "hoechst",
          "z": 5
         },
         {
          "section": "S005",
          "stack": "hoechst",
          "z": 5
         },
         {
          "section": "S005",
          "stack": "hoechst",
          "z": 5
         },
         {
          "section": "S005",
          "stack": "hoechst",
          "z": 5
         },
         {
          "section": "S005",
          "stack": "hoechst",
          "z": 5
         },
         {
          "section": "S005",
          "stack": "hoechst",
          "z": 5
         },
         {
          "section": "S005",
          "stack": "insulin",
          "z": 5
         },
         {
          "section": "S005",
          "stack": "insulin",
          "z": 5
         },
         {
          "section": "S005",
          "stack": "insulin",
          "z": 5
         },
         {
          "section": "S005",
          "stack": "insulin",
          "z": 5
         },
         {
          "section": "S005",
          "stack": "insulin",
          "z": 5
         },
         {
          "section": "S005",
          "stack": "insulin",
          "z": 5
         },
         {
          "section": "S005",
          "stack": "insulin",
          "z": 5
         },
         {
          "section": "S005",
          "stack": "insulin",
          "z": 5
         },
         {
          "section": "S005",
          "stack": "insulin",
          "z": 5
         },
         {
          "section": "S005",
          "stack": "insulin",
          "z": 5
         },
         {
          "section": "S005",
          "stack": "insulin",
          "z": 5
         },
         {
          "section": "S005",
          "stack": "insulin",
          "z": 5
         },
         {
          "section": "S005",
          "stack": "big_EM",
          "z": 5
         },
         {
          "section": "S005",
          "stack": "big_EM",
          "z": 5
         },
         {
          "section": "S005",
          "stack": "big_EM",
          "z": 5
         },
         {
          "section": "S005",
          "stack": "big_EM",
          "z": 5
         },
         {
          "section": "S005",
          "stack": "big_EM",
          "z": 5
         },
         {
          "section": "S005",
          "stack": "big_EM",
          "z": 5
         },
         {
          "section": "S005",
          "stack": "big_EM",
          "z": 5
         },
         {
          "section": "S005",
          "stack": "big_EM",
          "z": 5
         },
         {
          "section": "S005",
          "stack": "big_EM",
          "z": 5
         },
         {
          "section": "S005",
          "stack": "big_EM",
          "z": 5
         },
         {
          "section": "S005",
          "stack": "big_EM",
          "z": 5
         },
         {
          "section": "S005",
          "stack": "big_EM",
          "z": 5
         },
         {
          "section": "S005",
          "stack": "lil_EM",
          "z": 5
         },
         {
          "section": "S005",
          "stack": "lil_EM",
          "z": 5
         },
         {
          "section": "S005",
          "stack": "lil_EM",
          "z": 5
         },
         {
          "section": "S005",
          "stack": "lil_EM",
          "z": 5
         },
         {
          "section": "S005",
          "stack": "lil_EM",
          "z": 5
         },
         {
          "section": "S005",
          "stack": "lil_EM",
          "z": 5
         },
         {
          "section": "S005",
          "stack": "lil_EM",
          "z": 5
         },
         {
          "section": "S005",
          "stack": "lil_EM",
          "z": 5
         },
         {
          "section": "S005",
          "stack": "lil_EM",
          "z": 5
         },
         {
          "section": "S005",
          "stack": "lil_EM",
          "z": 5
         },
         {
          "section": "S005",
          "stack": "lil_EM",
          "z": 5
         },
         {
          "section": "S005",
          "stack": "lil_EM",
          "z": 5
         },
         {
          "section": "S005",
          "stack": "lil_EM",
          "z": 5
         },
         {
          "section": "S005",
          "stack": "lil_EM",
          "z": 5
         },
         {
          "section": "S005",
          "stack": "lil_EM",
          "z": 5
         },
         {
          "section": "S005",
          "stack": "lil_EM",
          "z": 5
         },
         {
          "section": "S005",
          "stack": "lil_EM",
          "z": 5
         },
         {
          "section": "S005",
          "stack": "lil_EM",
          "z": 5
         },
         {
          "section": "S005",
          "stack": "lil_EM",
          "z": 5
         },
         {
          "section": "S005",
          "stack": "lil_EM",
          "z": 5
         },
         {
          "section": "S005",
          "stack": "lil_EM",
          "z": 5
         },
         {
          "section": "S005",
          "stack": "lil_EM",
          "z": 5
         },
         {
          "section": "S005",
          "stack": "lil_EM",
          "z": 5
         },
         {
          "section": "S005",
          "stack": "lil_EM",
          "z": 5
         },
         {
          "section": "S005",
          "stack": "lil_EM",
          "z": 5
         },
         {
          "section": "S005",
          "stack": "lil_EM",
          "z": 5
         },
         {
          "section": "S005",
          "stack": "lil_EM",
          "z": 5
         },
         {
          "section": "S005",
          "stack": "lil_EM",
          "z": 5
         },
         {
          "section": "S005",
          "stack": "lil_EM",
          "z": 5
         },
         {
          "section": "S005",
          "stack": "lil_EM",
          "z": 5
         },
         {
          "section": "S005",
          "stack": "lil_EM",
          "z": 5
         },
         {
          "section": "S005",
          "stack": "lil_EM",
          "z": 5
         },
         {
          "section": "S005",
          "stack": "lil_EM",
          "z": 5
         },
         {
          "section": "S005",
          "stack": "lil_EM",
          "z": 5
         },
         {
          "section": "S005",
          "stack": "lil_EM",
          "z": 5
         },
         {
          "section": "S005",
          "stack": "lil_EM",
          "z": 5
         },
         {
          "section": "S005",
          "stack": "lil_EM",
          "z": 5
         },
         {
          "section": "S005",
          "stack": "lil_EM",
          "z": 5
         },
         {
          "section": "S005",
          "stack": "lil_EM",
          "z": 5
         },
         {
          "section": "S005",
          "stack": "lil_EM",
          "z": 5
         },
         {
          "section": "S005",
          "stack": "lil_EM",
          "z": 5
         },
         {
          "section": "S005",
          "stack": "lil_EM",
          "z": 5
         },
         {
          "section": "S005",
          "stack": "lil_EM",
          "z": 5
         },
         {
          "section": "S005",
          "stack": "lil_EM",
          "z": 5
         },
         {
          "section": "S005",
          "stack": "lil_EM",
          "z": 5
         },
         {
          "section": "S005",
          "stack": "lil_EM",
          "z": 5
         },
         {
          "section": "S005",
          "stack": "lil_EM",
          "z": 5
         },
         {
          "section": "S005",
          "stack": "lil_EM",
          "z": 5
         },
         {
          "section": "S005",
          "stack": "lil_EM",
          "z": 5
         },
         {
          "section": "S005",
          "stack": "lil_EM",
          "z": 5
         },
         {
          "section": "S005",
          "stack": "lil_EM",
          "z": 5
         },
         {
          "section": "S005",
          "stack": "lil_EM",
          "z": 5
         },
         {
          "section": "S005",
          "stack": "lil_EM",
          "z": 5
         },
         {
          "section": "S005",
          "stack": "lil_EM",
          "z": 5
         },
         {
          "section": "S005",
          "stack": "lil_EM",
          "z": 5
         },
         {
          "section": "S005",
          "stack": "lil_EM",
          "z": 5
         },
         {
          "section": "S005",
          "stack": "lil_EM",
          "z": 5
         },
         {
          "section": "S005",
          "stack": "lil_EM",
          "z": 5
         },
         {
          "section": "S005",
          "stack": "lil_EM",
          "z": 5
         },
         {
          "section": "S005",
          "stack": "lil_EM",
          "z": 5
         },
         {
          "section": "S005",
          "stack": "lil_EM",
          "z": 5
         },
         {
          "section": "S005",
          "stack": "lil_EM",
          "z": 5
         },
         {
          "section": "S005",
          "stack": "lil_EM",
          "z": 5
         },
         {
          "section": "S005",
          "stack": "lil_EM",
          "z": 5
         },
         {
          "section": "S005",
          "stack": "lil_EM",
          "z": 5
         },
         {
          "section": "S005",
          "stack": "lil_EM",
          "z": 5
         },
         {
          "section": "S005",
          "stack": "lil_EM",
          "z": 5
         },
         {
          "section": "S005",
          "stack": "lil_EM",
          "z": 5
         },
         {
          "section": "S005",
          "stack": "lil_EM",
          "z": 5
         },
         {
          "section": "S005",
          "stack": "lil_EM",
          "z": 5
         },
         {
          "section": "S005",
          "stack": "lil_EM",
          "z": 5
         },
         {
          "section": "S005",
          "stack": "lil_EM",
          "z": 5
         },
         {
          "section": "S005",
          "stack": "lil_EM",
          "z": 5
         },
         {
          "section": "S005",
          "stack": "lil_EM",
          "z": 5
         },
         {
          "section": "S005",
          "stack": "lil_EM",
          "z": 5
         },
         {
          "section": "S005",
          "stack": "lil_EM",
          "z": 5
         },
         {
          "section": "S005",
          "stack": "lil_EM",
          "z": 5
         },
         {
          "section": "S005",
          "stack": "lil_EM",
          "z": 5
         },
         {
          "section": "S005",
          "stack": "lil_EM",
          "z": 5
         },
         {
          "section": "S005",
          "stack": "lil_EM",
          "z": 5
         },
         {
          "section": "S005",
          "stack": "lil_EM",
          "z": 5
         },
         {
          "section": "S005",
          "stack": "lil_EM",
          "z": 5
         },
         {
          "section": "S005",
          "stack": "lil_EM",
          "z": 5
         },
         {
          "section": "S005",
          "stack": "lil_EM",
          "z": 5
         },
         {
          "section": "S005",
          "stack": "lil_EM",
          "z": 5
         },
         {
          "section": "S005",
          "stack": "lil_EM",
          "z": 5
         },
         {
          "section": "S005",
          "stack": "lil_EM",
          "z": 5
         },
         {
          "section": "S005",
          "stack": "lil_EM",
          "z": 5
         },
         {
          "section": "S005",
          "stack": "lil_EM",
          "z": 5
         },
         {
          "section": "S005",
          "stack": "lil_EM",
          "z": 5
         },
         {
          "section": "S005",
          "stack": "lil_EM",
          "z": 5
         },
         {
          "section": "S005",
          "stack": "lil_EM",
          "z": 5
         },
         {
          "section": "S005",
          "stack": "lil_EM",
          "z": 5
         },
         {
          "section": "S005",
          "stack": "lil_EM",
          "z": 5
         },
         {
          "section": "S005",
          "stack": "lil_EM",
          "z": 5
         },
         {
          "section": "S005",
          "stack": "lil_EM",
          "z": 5
         },
         {
          "section": "S005",
          "stack": "lil_EM",
          "z": 5
         },
         {
          "section": "S005",
          "stack": "lil_EM",
          "z": 5
         },
         {
          "section": "S005",
          "stack": "lil_EM",
          "z": 5
         },
         {
          "section": "S005",
          "stack": "lil_EM",
          "z": 5
         },
         {
          "section": "S005",
          "stack": "lil_EM",
          "z": 5
         },
         {
          "section": "S005",
          "stack": "lil_EM",
          "z": 5
         },
         {
          "section": "S005",
          "stack": "lil_EM",
          "z": 5
         },
         {
          "section": "S005",
          "stack": "lil_EM",
          "z": 5
         },
         {
          "section": "S005",
          "stack": "lil_EM",
          "z": 5
         },
         {
          "section": "S005",
          "stack": "lil_EM",
          "z": 5
         },
         {
          "section": "S005",
          "stack": "lil_EM",
          "z": 5
         },
         {
          "section": "S005",
          "stack": "lil_EM",
          "z": 5
         },
         {
          "section": "S005",
          "stack": "lil_EM",
          "z": 5
         },
         {
          "section": "S005",
          "stack": "lil_EM",
          "z": 5
         },
         {
          "section": "S005",
          "stack": "lil_EM",
          "z": 5
         },
         {
          "section": "S005",
          "stack": "lil_EM",
          "z": 5
         },
         {
          "section": "S005",
          "stack": "lil_EM",
          "z": 5
         },
         {
          "section": "S005",
          "stack": "lil_EM",
          "z": 5
         },
         {
          "section": "S005",
          "stack": "lil_EM",
          "z": 5
         },
         {
          "section": "S005",
          "stack": "lil_EM",
          "z": 5
         },
         {
          "section": "S005",
          "stack": "lil_EM",
          "z": 5
         },
         {
          "section": "S005",
          "stack": "lil_EM",
          "z": 5
         },
         {
          "section": "S005",
          "stack": "lil_EM",
          "z": 5
         },
         {
          "section": "S005",
          "stack": "lil_EM",
          "z": 5
         },
         {
          "section": "S005",
          "stack": "lil_EM",
          "z": 5
         },
         {
          "section": "S005",
          "stack": "lil_EM",
          "z": 5
         },
         {
          "section": "S005",
          "stack": "lil_EM",
          "z": 5
         },
         {
          "section": "S005",
          "stack": "lil_EM",
          "z": 5
         },
         {
          "section": "S005",
          "stack": "lil_EM",
          "z": 5
         },
         {
          "section": "S005",
          "stack": "lil_EM",
          "z": 5
         },
         {
          "section": "S005",
          "stack": "lil_EM",
          "z": 5
         },
         {
          "section": "S005",
          "stack": "lil_EM",
          "z": 5
         },
         {
          "section": "S005",
          "stack": "lil_EM",
          "z": 5
         },
         {
          "section": "S005",
          "stack": "lil_EM",
          "z": 5
         },
         {
          "section": "S005",
          "stack": "lil_EM",
          "z": 5
         },
         {
          "section": "S005",
          "stack": "lil_EM",
          "z": 5
         },
         {
          "section": "S005",
          "stack": "lil_EM",
          "z": 5
         },
         {
          "section": "S005",
          "stack": "lil_EM",
          "z": 5
         },
         {
          "section": "S005",
          "stack": "lil_EM",
          "z": 5
         },
         {
          "section": "S005",
          "stack": "lil_EM",
          "z": 5
         },
         {
          "section": "S005",
          "stack": "lil_EM",
          "z": 5
         },
         {
          "section": "S005",
          "stack": "lil_EM",
          "z": 5
         },
         {
          "section": "S005",
          "stack": "lil_EM",
          "z": 5
         },
         {
          "section": "S005",
          "stack": "lil_EM",
          "z": 5
         },
         {
          "section": "S005",
          "stack": "lil_EM",
          "z": 5
         },
         {
          "section": "S005",
          "stack": "lil_EM",
          "z": 5
         },
         {
          "section": "S005",
          "stack": "lil_EM",
          "z": 5
         },
         {
          "section": "S005",
          "stack": "lil_EM",
          "z": 5
         },
         {
          "section": "S005",
          "stack": "lil_EM",
          "z": 5
         },
         {
          "section": "S005",
          "stack": "lil_EM",
          "z": 5
         },
         {
          "section": "S005",
          "stack": "lil_EM",
          "z": 5
         },
         {
          "section": "S005",
          "stack": "lil_EM",
          "z": 5
         },
         {
          "section": "S005",
          "stack": "lil_EM",
          "z": 5
         },
         {
          "section": "S005",
          "stack": "lil_EM",
          "z": 5
         },
         {
          "section": "S005",
          "stack": "lil_EM",
          "z": 5
         },
         {
          "section": "S005",
          "stack": "lil_EM",
          "z": 5
         },
         {
          "section": "S005",
          "stack": "lil_EM",
          "z": 5
         },
         {
          "section": "S005",
          "stack": "lil_EM",
          "z": 5
         },
         {
          "section": "S005",
          "stack": "lil_EM",
          "z": 5
         },
         {
          "section": "S005",
          "stack": "lil_EM",
          "z": 5
         },
         {
          "section": "S005",
          "stack": "lil_EM",
          "z": 5
         },
         {
          "section": "S005",
          "stack": "lil_EM",
          "z": 5
         },
         {
          "section": "S005",
          "stack": "lil_EM",
          "z": 5
         },
         {
          "section": "S005",
          "stack": "lil_EM",
          "z": 5
         },
         {
          "section": "S005",
          "stack": "lil_EM",
          "z": 5
         },
         {
          "section": "S005",
          "stack": "lil_EM",
          "z": 5
         },
         {
          "section": "S005",
          "stack": "lil_EM",
          "z": 5
         },
         {
          "section": "S005",
          "stack": "lil_EM",
          "z": 5
         },
         {
          "section": "S005",
          "stack": "lil_EM",
          "z": 5
         },
         {
          "section": "S005",
          "stack": "lil_EM",
          "z": 5
         },
         {
          "section": "S005",
          "stack": "lil_EM",
          "z": 5
         },
         {
          "section": "S005",
          "stack": "lil_EM",
          "z": 5
         },
         {
          "section": "S005",
          "stack": "lil_EM",
          "z": 5
         },
         {
          "section": "S005",
          "stack": "lil_EM",
          "z": 5
         },
         {
          "section": "S005",
          "stack": "lil_EM",
          "z": 5
         },
         {
          "section": "S005",
          "stack": "lil_EM",
          "z": 5
         },
         {
          "section": "S005",
          "stack": "lil_EM",
          "z": 5
         },
         {
          "section": "S005",
          "stack": "lil_EM",
          "z": 5
         },
         {
          "section": "S005",
          "stack": "lil_EM",
          "z": 5
         },
         {
          "section": "S005",
          "stack": "lil_EM",
          "z": 5
         },
         {
          "section": "S005",
          "stack": "lil_EM",
          "z": 5
         },
         {
          "section": "S005",
          "stack": "lil_EM",
          "z": 5
         },
         {
          "section": "S005",
          "stack": "lil_EM",
          "z": 5
         },
         {
          "section": "S005",
          "stack": "lil_EM",
          "z": 5
         },
         {
          "section": "S005",
          "stack": "lil_EM",
          "z": 5
         },
         {
          "section": "S005",
          "stack": "lil_EM",
          "z": 5
         },
         {
          "section": "S005",
          "stack": "lil_EM",
          "z": 5
         },
         {
          "section": "S005",
          "stack": "lil_EM",
          "z": 5
         },
         {
          "section": "S005",
          "stack": "lil_EM",
          "z": 5
         },
         {
          "section": "S005",
          "stack": "lil_EM",
          "z": 5
         },
         {
          "section": "S005",
          "stack": "lil_EM",
          "z": 5
         },
         {
          "section": "S005",
          "stack": "lil_EM",
          "z": 5
         },
         {
          "section": "S005",
          "stack": "lil_EM",
          "z": 5
         },
         {
          "section": "S005",
          "stack": "lil_EM",
          "z": 5
         },
         {
          "section": "S005",
          "stack": "lil_EM",
          "z": 5
         },
         {
          "section": "S005",
          "stack": "lil_EM",
          "z": 5
         },
         {
          "section": "S005",
          "stack": "lil_EM",
          "z": 5
         },
         {
          "section": "S005",
          "stack": "lil_EM",
          "z": 5
         },
         {
          "section": "S005",
          "stack": "lil_EM",
          "z": 5
         },
         {
          "section": "S005",
          "stack": "lil_EM",
          "z": 5
         },
         {
          "section": "S005",
          "stack": "lil_EM",
          "z": 5
         },
         {
          "section": "S005",
          "stack": "lil_EM",
          "z": 5
         },
         {
          "section": "S005",
          "stack": "lil_EM",
          "z": 5
         },
         {
          "section": "S005",
          "stack": "lil_EM",
          "z": 5
         },
         {
          "section": "S005",
          "stack": "lil_EM",
          "z": 5
         },
         {
          "section": "S005",
          "stack": "lil_EM",
          "z": 5
         },
         {
          "section": "S005",
          "stack": "lil_EM",
          "z": 5
         },
         {
          "section": "S005",
          "stack": "lil_EM",
          "z": 5
         },
         {
          "section": "S005",
          "stack": "lil_EM",
          "z": 5
         },
         {
          "section": "S005",
          "stack": "lil_EM",
          "z": 5
         },
         {
          "section": "S005",
          "stack": "lil_EM",
          "z": 5
         },
         {
          "section": "S005",
          "stack": "lil_EM",
          "z": 5
         },
         {
          "section": "S005",
          "stack": "lil_EM",
          "z": 5
         },
         {
          "section": "S005",
          "stack": "lil_EM",
          "z": 5
         },
         {
          "section": "S005",
          "stack": "lil_EM",
          "z": 5
         },
         {
          "section": "S005",
          "stack": "lil_EM",
          "z": 5
         },
         {
          "section": "S005",
          "stack": "lil_EM",
          "z": 5
         },
         {
          "section": "S005",
          "stack": "lil_EM",
          "z": 5
         },
         {
          "section": "S005",
          "stack": "lil_EM",
          "z": 5
         },
         {
          "section": "S005",
          "stack": "lil_EM",
          "z": 5
         },
         {
          "section": "S005",
          "stack": "lil_EM",
          "z": 5
         },
         {
          "section": "S005",
          "stack": "lil_EM",
          "z": 5
         },
         {
          "section": "S005",
          "stack": "lil_EM",
          "z": 5
         },
         {
          "section": "S005",
          "stack": "lil_EM",
          "z": 5
         },
         {
          "section": "S005",
          "stack": "lil_EM",
          "z": 5
         },
         {
          "section": "S005",
          "stack": "lil_EM",
          "z": 5
         },
         {
          "section": "S005",
          "stack": "lil_EM",
          "z": 5
         },
         {
          "section": "S005",
          "stack": "lil_EM",
          "z": 5
         },
         {
          "section": "S005",
          "stack": "lil_EM",
          "z": 5
         },
         {
          "section": "S005",
          "stack": "lil_EM",
          "z": 5
         },
         {
          "section": "S005",
          "stack": "lil_EM",
          "z": 5
         },
         {
          "section": "S005",
          "stack": "lil_EM",
          "z": 5
         },
         {
          "section": "S005",
          "stack": "lil_EM",
          "z": 5
         },
         {
          "section": "S005",
          "stack": "lil_EM",
          "z": 5
         },
         {
          "section": "S005",
          "stack": "lil_EM",
          "z": 5
         },
         {
          "section": "S005",
          "stack": "lil_EM",
          "z": 5
         },
         {
          "section": "S005",
          "stack": "lil_EM",
          "z": 5
         },
         {
          "section": "S005",
          "stack": "lil_EM",
          "z": 5
         },
         {
          "section": "S005",
          "stack": "lil_EM",
          "z": 5
         },
         {
          "section": "S005",
          "stack": "lil_EM",
          "z": 5
         },
         {
          "section": "S005",
          "stack": "lil_EM",
          "z": 5
         },
         {
          "section": "S005",
          "stack": "lil_EM",
          "z": 5
         },
         {
          "section": "S005",
          "stack": "lil_EM",
          "z": 5
         },
         {
          "section": "S005",
          "stack": "lil_EM",
          "z": 5
         },
         {
          "section": "S005",
          "stack": "lil_EM",
          "z": 5
         },
         {
          "section": "S005",
          "stack": "lil_EM",
          "z": 5
         },
         {
          "section": "S005",
          "stack": "lil_EM",
          "z": 5
         },
         {
          "section": "S005",
          "stack": "lil_EM",
          "z": 5
         },
         {
          "section": "S005",
          "stack": "lil_EM",
          "z": 5
         },
         {
          "section": "S005",
          "stack": "lil_EM",
          "z": 5
         },
         {
          "section": "S005",
          "stack": "lil_EM",
          "z": 5
         },
         {
          "section": "S005",
          "stack": "lil_EM",
          "z": 5
         },
         {
          "section": "S005",
          "stack": "lil_EM",
          "z": 5
         },
         {
          "section": "S005",
          "stack": "lil_EM",
          "z": 5
         },
         {
          "section": "S005",
          "stack": "lil_EM",
          "z": 5
         },
         {
          "section": "S005",
          "stack": "lil_EM",
          "z": 5
         },
         {
          "section": "S005",
          "stack": "lil_EM",
          "z": 5
         },
         {
          "section": "S005",
          "stack": "lil_EM",
          "z": 5
         },
         {
          "section": "S005",
          "stack": "lil_EM",
          "z": 5
         },
         {
          "section": "S005",
          "stack": "lil_EM",
          "z": 5
         },
         {
          "section": "S005",
          "stack": "lil_EM",
          "z": 5
         },
         {
          "section": "S005",
          "stack": "lil_EM",
          "z": 5
         },
         {
          "section": "S005",
          "stack": "lil_EM",
          "z": 5
         },
         {
          "section": "S005",
          "stack": "lil_EM",
          "z": 5
         },
         {
          "section": "S005",
          "stack": "lil_EM",
          "z": 5
         },
         {
          "section": "S005",
          "stack": "lil_EM",
          "z": 5
         },
         {
          "section": "S005",
          "stack": "lil_EM",
          "z": 5
         },
         {
          "section": "S005",
          "stack": "lil_EM",
          "z": 5
         },
         {
          "section": "S005",
          "stack": "lil_EM",
          "z": 5
         },
         {
          "section": "S005",
          "stack": "lil_EM",
          "z": 5
         },
         {
          "section": "S005",
          "stack": "lil_EM",
          "z": 5
         },
         {
          "section": "S005",
          "stack": "lil_EM",
          "z": 5
         },
         {
          "section": "S005",
          "stack": "lil_EM",
          "z": 5
         },
         {
          "section": "S005",
          "stack": "lil_EM",
          "z": 5
         },
         {
          "section": "S005",
          "stack": "lil_EM",
          "z": 5
         },
         {
          "section": "S005",
          "stack": "lil_EM",
          "z": 5
         },
         {
          "section": "S005",
          "stack": "lil_EM",
          "z": 5
         },
         {
          "section": "S005",
          "stack": "lil_EM",
          "z": 5
         },
         {
          "section": "S005",
          "stack": "lil_EM",
          "z": 5
         },
         {
          "section": "S005",
          "stack": "lil_EM",
          "z": 5
         },
         {
          "section": "S005",
          "stack": "lil_EM",
          "z": 5
         },
         {
          "section": "S005",
          "stack": "lil_EM",
          "z": 5
         },
         {
          "section": "S005",
          "stack": "lil_EM",
          "z": 5
         },
         {
          "section": "S005",
          "stack": "lil_EM",
          "z": 5
         },
         {
          "section": "S005",
          "stack": "lil_EM",
          "z": 5
         },
         {
          "section": "S005",
          "stack": "lil_EM",
          "z": 5
         },
         {
          "section": "S005",
          "stack": "lil_EM",
          "z": 5
         },
         {
          "section": "S005",
          "stack": "lil_EM",
          "z": 5
         },
         {
          "section": "S005",
          "stack": "lil_EM",
          "z": 5
         },
         {
          "section": "S005",
          "stack": "lil_EM",
          "z": 5
         },
         {
          "section": "S005",
          "stack": "lil_EM",
          "z": 5
         },
         {
          "section": "S005",
          "stack": "lil_EM",
          "z": 5
         },
         {
          "section": "S005",
          "stack": "lil_EM",
          "z": 5
         },
         {
          "section": "S005",
          "stack": "lil_EM",
          "z": 5
         },
         {
          "section": "S005",
          "stack": "lil_EM",
          "z": 5
         },
         {
          "section": "S005",
          "stack": "lil_EM",
          "z": 5
         },
         {
          "section": "S005",
          "stack": "lil_EM",
          "z": 5
         },
         {
          "section": "S005",
          "stack": "lil_EM",
          "z": 5
         },
         {
          "section": "S005",
          "stack": "lil_EM",
          "z": 5
         },
         {
          "section": "S005",
          "stack": "lil_EM",
          "z": 5
         },
         {
          "section": "S005",
          "stack": "lil_EM",
          "z": 5
         },
         {
          "section": "S005",
          "stack": "lil_EM",
          "z": 5
         },
         {
          "section": "S005",
          "stack": "lil_EM",
          "z": 5
         },
         {
          "section": "S005",
          "stack": "lil_EM",
          "z": 5
         },
         {
          "section": "S005",
          "stack": "lil_EM",
          "z": 5
         },
         {
          "section": "S005",
          "stack": "lil_EM",
          "z": 5
         },
         {
          "section": "S005",
          "stack": "lil_EM",
          "z": 5
         },
         {
          "section": "S005",
          "stack": "lil_EM",
          "z": 5
         },
         {
          "section": "S005",
          "stack": "lil_EM",
          "z": 5
         },
         {
          "section": "S005",
          "stack": "lil_EM",
          "z": 5
         },
         {
          "section": "S005",
          "stack": "lil_EM",
          "z": 5
         },
         {
          "section": "S005",
          "stack": "lil_EM",
          "z": 5
         },
         {
          "section": "S005",
          "stack": "lil_EM",
          "z": 5
         },
         {
          "section": "S005",
          "stack": "lil_EM",
          "z": 5
         },
         {
          "section": "S005",
          "stack": "lil_EM",
          "z": 5
         },
         {
          "section": "S005",
          "stack": "lil_EM",
          "z": 5
         },
         {
          "section": "S005",
          "stack": "lil_EM",
          "z": 5
         },
         {
          "section": "S005",
          "stack": "lil_EM",
          "z": 5
         },
         {
          "section": "S005",
          "stack": "lil_EM",
          "z": 5
         },
         {
          "section": "S005",
          "stack": "lil_EM",
          "z": 5
         },
         {
          "section": "S005",
          "stack": "lil_EM",
          "z": 5
         },
         {
          "section": "S005",
          "stack": "lil_EM",
          "z": 5
         },
         {
          "section": "S005",
          "stack": "lil_EM",
          "z": 5
         },
         {
          "section": "S006",
          "stack": "hoechst",
          "z": 6
         },
         {
          "section": "S006",
          "stack": "hoechst",
          "z": 6
         },
         {
          "section": "S006",
          "stack": "hoechst",
          "z": 6
         },
         {
          "section": "S006",
          "stack": "hoechst",
          "z": 6
         },
         {
          "section": "S006",
          "stack": "hoechst",
          "z": 6
         },
         {
          "section": "S006",
          "stack": "hoechst",
          "z": 6
         },
         {
          "section": "S006",
          "stack": "hoechst",
          "z": 6
         },
         {
          "section": "S006",
          "stack": "hoechst",
          "z": 6
         },
         {
          "section": "S006",
          "stack": "hoechst",
          "z": 6
         },
         {
          "section": "S006",
          "stack": "hoechst",
          "z": 6
         },
         {
          "section": "S006",
          "stack": "hoechst",
          "z": 6
         },
         {
          "section": "S006",
          "stack": "hoechst",
          "z": 6
         },
         {
          "section": "S006",
          "stack": "insulin",
          "z": 6
         },
         {
          "section": "S006",
          "stack": "insulin",
          "z": 6
         },
         {
          "section": "S006",
          "stack": "insulin",
          "z": 6
         },
         {
          "section": "S006",
          "stack": "insulin",
          "z": 6
         },
         {
          "section": "S006",
          "stack": "insulin",
          "z": 6
         },
         {
          "section": "S006",
          "stack": "insulin",
          "z": 6
         },
         {
          "section": "S006",
          "stack": "insulin",
          "z": 6
         },
         {
          "section": "S006",
          "stack": "insulin",
          "z": 6
         },
         {
          "section": "S006",
          "stack": "insulin",
          "z": 6
         },
         {
          "section": "S006",
          "stack": "insulin",
          "z": 6
         },
         {
          "section": "S006",
          "stack": "insulin",
          "z": 6
         },
         {
          "section": "S006",
          "stack": "insulin",
          "z": 6
         },
         {
          "section": "S006",
          "stack": "big_EM",
          "z": 6
         },
         {
          "section": "S006",
          "stack": "big_EM",
          "z": 6
         },
         {
          "section": "S006",
          "stack": "big_EM",
          "z": 6
         },
         {
          "section": "S006",
          "stack": "big_EM",
          "z": 6
         },
         {
          "section": "S006",
          "stack": "big_EM",
          "z": 6
         },
         {
          "section": "S006",
          "stack": "big_EM",
          "z": 6
         },
         {
          "section": "S006",
          "stack": "big_EM",
          "z": 6
         },
         {
          "section": "S006",
          "stack": "big_EM",
          "z": 6
         },
         {
          "section": "S006",
          "stack": "big_EM",
          "z": 6
         },
         {
          "section": "S006",
          "stack": "big_EM",
          "z": 6
         },
         {
          "section": "S006",
          "stack": "big_EM",
          "z": 6
         },
         {
          "section": "S006",
          "stack": "big_EM",
          "z": 6
         },
         {
          "section": "S006",
          "stack": "lil_EM",
          "z": 6
         },
         {
          "section": "S006",
          "stack": "lil_EM",
          "z": 6
         },
         {
          "section": "S006",
          "stack": "lil_EM",
          "z": 6
         },
         {
          "section": "S006",
          "stack": "lil_EM",
          "z": 6
         },
         {
          "section": "S006",
          "stack": "lil_EM",
          "z": 6
         },
         {
          "section": "S006",
          "stack": "lil_EM",
          "z": 6
         },
         {
          "section": "S006",
          "stack": "lil_EM",
          "z": 6
         },
         {
          "section": "S006",
          "stack": "lil_EM",
          "z": 6
         },
         {
          "section": "S006",
          "stack": "lil_EM",
          "z": 6
         },
         {
          "section": "S006",
          "stack": "lil_EM",
          "z": 6
         },
         {
          "section": "S006",
          "stack": "lil_EM",
          "z": 6
         },
         {
          "section": "S006",
          "stack": "lil_EM",
          "z": 6
         },
         {
          "section": "S006",
          "stack": "lil_EM",
          "z": 6
         },
         {
          "section": "S006",
          "stack": "lil_EM",
          "z": 6
         },
         {
          "section": "S006",
          "stack": "lil_EM",
          "z": 6
         },
         {
          "section": "S006",
          "stack": "lil_EM",
          "z": 6
         },
         {
          "section": "S006",
          "stack": "lil_EM",
          "z": 6
         },
         {
          "section": "S006",
          "stack": "lil_EM",
          "z": 6
         },
         {
          "section": "S006",
          "stack": "lil_EM",
          "z": 6
         },
         {
          "section": "S006",
          "stack": "lil_EM",
          "z": 6
         },
         {
          "section": "S006",
          "stack": "lil_EM",
          "z": 6
         },
         {
          "section": "S006",
          "stack": "lil_EM",
          "z": 6
         },
         {
          "section": "S006",
          "stack": "lil_EM",
          "z": 6
         },
         {
          "section": "S006",
          "stack": "lil_EM",
          "z": 6
         },
         {
          "section": "S006",
          "stack": "lil_EM",
          "z": 6
         },
         {
          "section": "S006",
          "stack": "lil_EM",
          "z": 6
         },
         {
          "section": "S006",
          "stack": "lil_EM",
          "z": 6
         },
         {
          "section": "S006",
          "stack": "lil_EM",
          "z": 6
         },
         {
          "section": "S006",
          "stack": "lil_EM",
          "z": 6
         },
         {
          "section": "S006",
          "stack": "lil_EM",
          "z": 6
         },
         {
          "section": "S006",
          "stack": "lil_EM",
          "z": 6
         },
         {
          "section": "S006",
          "stack": "lil_EM",
          "z": 6
         },
         {
          "section": "S006",
          "stack": "lil_EM",
          "z": 6
         },
         {
          "section": "S006",
          "stack": "lil_EM",
          "z": 6
         },
         {
          "section": "S006",
          "stack": "lil_EM",
          "z": 6
         },
         {
          "section": "S006",
          "stack": "lil_EM",
          "z": 6
         },
         {
          "section": "S006",
          "stack": "lil_EM",
          "z": 6
         },
         {
          "section": "S006",
          "stack": "lil_EM",
          "z": 6
         },
         {
          "section": "S006",
          "stack": "lil_EM",
          "z": 6
         },
         {
          "section": "S006",
          "stack": "lil_EM",
          "z": 6
         },
         {
          "section": "S006",
          "stack": "lil_EM",
          "z": 6
         },
         {
          "section": "S006",
          "stack": "lil_EM",
          "z": 6
         },
         {
          "section": "S006",
          "stack": "lil_EM",
          "z": 6
         },
         {
          "section": "S006",
          "stack": "lil_EM",
          "z": 6
         },
         {
          "section": "S006",
          "stack": "lil_EM",
          "z": 6
         },
         {
          "section": "S006",
          "stack": "lil_EM",
          "z": 6
         },
         {
          "section": "S006",
          "stack": "lil_EM",
          "z": 6
         },
         {
          "section": "S006",
          "stack": "lil_EM",
          "z": 6
         },
         {
          "section": "S006",
          "stack": "lil_EM",
          "z": 6
         },
         {
          "section": "S006",
          "stack": "lil_EM",
          "z": 6
         },
         {
          "section": "S006",
          "stack": "lil_EM",
          "z": 6
         },
         {
          "section": "S006",
          "stack": "lil_EM",
          "z": 6
         },
         {
          "section": "S006",
          "stack": "lil_EM",
          "z": 6
         },
         {
          "section": "S006",
          "stack": "lil_EM",
          "z": 6
         },
         {
          "section": "S006",
          "stack": "lil_EM",
          "z": 6
         },
         {
          "section": "S006",
          "stack": "lil_EM",
          "z": 6
         },
         {
          "section": "S006",
          "stack": "lil_EM",
          "z": 6
         },
         {
          "section": "S006",
          "stack": "lil_EM",
          "z": 6
         },
         {
          "section": "S006",
          "stack": "lil_EM",
          "z": 6
         },
         {
          "section": "S006",
          "stack": "lil_EM",
          "z": 6
         },
         {
          "section": "S006",
          "stack": "lil_EM",
          "z": 6
         },
         {
          "section": "S006",
          "stack": "lil_EM",
          "z": 6
         },
         {
          "section": "S006",
          "stack": "lil_EM",
          "z": 6
         },
         {
          "section": "S006",
          "stack": "lil_EM",
          "z": 6
         },
         {
          "section": "S006",
          "stack": "lil_EM",
          "z": 6
         },
         {
          "section": "S006",
          "stack": "lil_EM",
          "z": 6
         },
         {
          "section": "S006",
          "stack": "lil_EM",
          "z": 6
         },
         {
          "section": "S006",
          "stack": "lil_EM",
          "z": 6
         },
         {
          "section": "S006",
          "stack": "lil_EM",
          "z": 6
         },
         {
          "section": "S006",
          "stack": "lil_EM",
          "z": 6
         },
         {
          "section": "S006",
          "stack": "lil_EM",
          "z": 6
         },
         {
          "section": "S006",
          "stack": "lil_EM",
          "z": 6
         },
         {
          "section": "S006",
          "stack": "lil_EM",
          "z": 6
         },
         {
          "section": "S006",
          "stack": "lil_EM",
          "z": 6
         },
         {
          "section": "S006",
          "stack": "lil_EM",
          "z": 6
         },
         {
          "section": "S006",
          "stack": "lil_EM",
          "z": 6
         },
         {
          "section": "S006",
          "stack": "lil_EM",
          "z": 6
         },
         {
          "section": "S006",
          "stack": "lil_EM",
          "z": 6
         },
         {
          "section": "S006",
          "stack": "lil_EM",
          "z": 6
         },
         {
          "section": "S006",
          "stack": "lil_EM",
          "z": 6
         },
         {
          "section": "S006",
          "stack": "lil_EM",
          "z": 6
         },
         {
          "section": "S006",
          "stack": "lil_EM",
          "z": 6
         },
         {
          "section": "S006",
          "stack": "lil_EM",
          "z": 6
         },
         {
          "section": "S006",
          "stack": "lil_EM",
          "z": 6
         },
         {
          "section": "S006",
          "stack": "lil_EM",
          "z": 6
         },
         {
          "section": "S006",
          "stack": "lil_EM",
          "z": 6
         },
         {
          "section": "S006",
          "stack": "lil_EM",
          "z": 6
         },
         {
          "section": "S006",
          "stack": "lil_EM",
          "z": 6
         },
         {
          "section": "S006",
          "stack": "lil_EM",
          "z": 6
         },
         {
          "section": "S006",
          "stack": "lil_EM",
          "z": 6
         },
         {
          "section": "S006",
          "stack": "lil_EM",
          "z": 6
         },
         {
          "section": "S006",
          "stack": "lil_EM",
          "z": 6
         },
         {
          "section": "S006",
          "stack": "lil_EM",
          "z": 6
         },
         {
          "section": "S006",
          "stack": "lil_EM",
          "z": 6
         },
         {
          "section": "S006",
          "stack": "lil_EM",
          "z": 6
         },
         {
          "section": "S006",
          "stack": "lil_EM",
          "z": 6
         },
         {
          "section": "S006",
          "stack": "lil_EM",
          "z": 6
         },
         {
          "section": "S006",
          "stack": "lil_EM",
          "z": 6
         },
         {
          "section": "S006",
          "stack": "lil_EM",
          "z": 6
         },
         {
          "section": "S006",
          "stack": "lil_EM",
          "z": 6
         },
         {
          "section": "S006",
          "stack": "lil_EM",
          "z": 6
         },
         {
          "section": "S006",
          "stack": "lil_EM",
          "z": 6
         },
         {
          "section": "S006",
          "stack": "lil_EM",
          "z": 6
         },
         {
          "section": "S006",
          "stack": "lil_EM",
          "z": 6
         },
         {
          "section": "S006",
          "stack": "lil_EM",
          "z": 6
         },
         {
          "section": "S006",
          "stack": "lil_EM",
          "z": 6
         },
         {
          "section": "S006",
          "stack": "lil_EM",
          "z": 6
         },
         {
          "section": "S006",
          "stack": "lil_EM",
          "z": 6
         },
         {
          "section": "S006",
          "stack": "lil_EM",
          "z": 6
         },
         {
          "section": "S006",
          "stack": "lil_EM",
          "z": 6
         },
         {
          "section": "S006",
          "stack": "lil_EM",
          "z": 6
         },
         {
          "section": "S006",
          "stack": "lil_EM",
          "z": 6
         },
         {
          "section": "S006",
          "stack": "lil_EM",
          "z": 6
         },
         {
          "section": "S006",
          "stack": "lil_EM",
          "z": 6
         },
         {
          "section": "S006",
          "stack": "lil_EM",
          "z": 6
         },
         {
          "section": "S006",
          "stack": "lil_EM",
          "z": 6
         },
         {
          "section": "S006",
          "stack": "lil_EM",
          "z": 6
         },
         {
          "section": "S006",
          "stack": "lil_EM",
          "z": 6
         },
         {
          "section": "S006",
          "stack": "lil_EM",
          "z": 6
         },
         {
          "section": "S006",
          "stack": "lil_EM",
          "z": 6
         },
         {
          "section": "S006",
          "stack": "lil_EM",
          "z": 6
         },
         {
          "section": "S006",
          "stack": "lil_EM",
          "z": 6
         },
         {
          "section": "S006",
          "stack": "lil_EM",
          "z": 6
         },
         {
          "section": "S006",
          "stack": "lil_EM",
          "z": 6
         },
         {
          "section": "S006",
          "stack": "lil_EM",
          "z": 6
         },
         {
          "section": "S006",
          "stack": "lil_EM",
          "z": 6
         },
         {
          "section": "S006",
          "stack": "lil_EM",
          "z": 6
         },
         {
          "section": "S006",
          "stack": "lil_EM",
          "z": 6
         },
         {
          "section": "S006",
          "stack": "lil_EM",
          "z": 6
         },
         {
          "section": "S006",
          "stack": "lil_EM",
          "z": 6
         },
         {
          "section": "S006",
          "stack": "lil_EM",
          "z": 6
         },
         {
          "section": "S006",
          "stack": "lil_EM",
          "z": 6
         },
         {
          "section": "S006",
          "stack": "lil_EM",
          "z": 6
         },
         {
          "section": "S006",
          "stack": "lil_EM",
          "z": 6
         },
         {
          "section": "S006",
          "stack": "lil_EM",
          "z": 6
         },
         {
          "section": "S006",
          "stack": "lil_EM",
          "z": 6
         },
         {
          "section": "S006",
          "stack": "lil_EM",
          "z": 6
         },
         {
          "section": "S006",
          "stack": "lil_EM",
          "z": 6
         },
         {
          "section": "S006",
          "stack": "lil_EM",
          "z": 6
         },
         {
          "section": "S006",
          "stack": "lil_EM",
          "z": 6
         },
         {
          "section": "S006",
          "stack": "lil_EM",
          "z": 6
         },
         {
          "section": "S006",
          "stack": "lil_EM",
          "z": 6
         },
         {
          "section": "S006",
          "stack": "lil_EM",
          "z": 6
         },
         {
          "section": "S006",
          "stack": "lil_EM",
          "z": 6
         },
         {
          "section": "S006",
          "stack": "lil_EM",
          "z": 6
         },
         {
          "section": "S006",
          "stack": "lil_EM",
          "z": 6
         },
         {
          "section": "S006",
          "stack": "lil_EM",
          "z": 6
         },
         {
          "section": "S006",
          "stack": "lil_EM",
          "z": 6
         },
         {
          "section": "S006",
          "stack": "lil_EM",
          "z": 6
         },
         {
          "section": "S006",
          "stack": "lil_EM",
          "z": 6
         },
         {
          "section": "S006",
          "stack": "lil_EM",
          "z": 6
         },
         {
          "section": "S006",
          "stack": "lil_EM",
          "z": 6
         },
         {
          "section": "S006",
          "stack": "lil_EM",
          "z": 6
         },
         {
          "section": "S006",
          "stack": "lil_EM",
          "z": 6
         },
         {
          "section": "S006",
          "stack": "lil_EM",
          "z": 6
         },
         {
          "section": "S006",
          "stack": "lil_EM",
          "z": 6
         },
         {
          "section": "S006",
          "stack": "lil_EM",
          "z": 6
         },
         {
          "section": "S006",
          "stack": "lil_EM",
          "z": 6
         },
         {
          "section": "S006",
          "stack": "lil_EM",
          "z": 6
         },
         {
          "section": "S006",
          "stack": "lil_EM",
          "z": 6
         },
         {
          "section": "S006",
          "stack": "lil_EM",
          "z": 6
         },
         {
          "section": "S006",
          "stack": "lil_EM",
          "z": 6
         },
         {
          "section": "S006",
          "stack": "lil_EM",
          "z": 6
         },
         {
          "section": "S006",
          "stack": "lil_EM",
          "z": 6
         },
         {
          "section": "S006",
          "stack": "lil_EM",
          "z": 6
         },
         {
          "section": "S006",
          "stack": "lil_EM",
          "z": 6
         },
         {
          "section": "S006",
          "stack": "lil_EM",
          "z": 6
         },
         {
          "section": "S006",
          "stack": "lil_EM",
          "z": 6
         },
         {
          "section": "S006",
          "stack": "lil_EM",
          "z": 6
         },
         {
          "section": "S006",
          "stack": "lil_EM",
          "z": 6
         },
         {
          "section": "S006",
          "stack": "lil_EM",
          "z": 6
         },
         {
          "section": "S006",
          "stack": "lil_EM",
          "z": 6
         },
         {
          "section": "S006",
          "stack": "lil_EM",
          "z": 6
         },
         {
          "section": "S006",
          "stack": "lil_EM",
          "z": 6
         },
         {
          "section": "S006",
          "stack": "lil_EM",
          "z": 6
         },
         {
          "section": "S006",
          "stack": "lil_EM",
          "z": 6
         },
         {
          "section": "S006",
          "stack": "lil_EM",
          "z": 6
         },
         {
          "section": "S006",
          "stack": "lil_EM",
          "z": 6
         },
         {
          "section": "S006",
          "stack": "lil_EM",
          "z": 6
         },
         {
          "section": "S006",
          "stack": "lil_EM",
          "z": 6
         },
         {
          "section": "S006",
          "stack": "lil_EM",
          "z": 6
         },
         {
          "section": "S006",
          "stack": "lil_EM",
          "z": 6
         },
         {
          "section": "S006",
          "stack": "lil_EM",
          "z": 6
         },
         {
          "section": "S006",
          "stack": "lil_EM",
          "z": 6
         },
         {
          "section": "S006",
          "stack": "lil_EM",
          "z": 6
         },
         {
          "section": "S006",
          "stack": "lil_EM",
          "z": 6
         },
         {
          "section": "S006",
          "stack": "lil_EM",
          "z": 6
         },
         {
          "section": "S006",
          "stack": "lil_EM",
          "z": 6
         },
         {
          "section": "S006",
          "stack": "lil_EM",
          "z": 6
         },
         {
          "section": "S006",
          "stack": "lil_EM",
          "z": 6
         },
         {
          "section": "S006",
          "stack": "lil_EM",
          "z": 6
         },
         {
          "section": "S006",
          "stack": "lil_EM",
          "z": 6
         },
         {
          "section": "S006",
          "stack": "lil_EM",
          "z": 6
         },
         {
          "section": "S006",
          "stack": "lil_EM",
          "z": 6
         },
         {
          "section": "S006",
          "stack": "lil_EM",
          "z": 6
         },
         {
          "section": "S006",
          "stack": "lil_EM",
          "z": 6
         },
         {
          "section": "S006",
          "stack": "lil_EM",
          "z": 6
         },
         {
          "section": "S006",
          "stack": "lil_EM",
          "z": 6
         },
         {
          "section": "S006",
          "stack": "lil_EM",
          "z": 6
         },
         {
          "section": "S006",
          "stack": "lil_EM",
          "z": 6
         },
         {
          "section": "S006",
          "stack": "lil_EM",
          "z": 6
         },
         {
          "section": "S006",
          "stack": "lil_EM",
          "z": 6
         },
         {
          "section": "S006",
          "stack": "lil_EM",
          "z": 6
         },
         {
          "section": "S006",
          "stack": "lil_EM",
          "z": 6
         },
         {
          "section": "S006",
          "stack": "lil_EM",
          "z": 6
         },
         {
          "section": "S006",
          "stack": "lil_EM",
          "z": 6
         },
         {
          "section": "S006",
          "stack": "lil_EM",
          "z": 6
         },
         {
          "section": "S006",
          "stack": "lil_EM",
          "z": 6
         },
         {
          "section": "S006",
          "stack": "lil_EM",
          "z": 6
         },
         {
          "section": "S006",
          "stack": "lil_EM",
          "z": 6
         },
         {
          "section": "S006",
          "stack": "lil_EM",
          "z": 6
         },
         {
          "section": "S006",
          "stack": "lil_EM",
          "z": 6
         },
         {
          "section": "S006",
          "stack": "lil_EM",
          "z": 6
         },
         {
          "section": "S006",
          "stack": "lil_EM",
          "z": 6
         },
         {
          "section": "S006",
          "stack": "lil_EM",
          "z": 6
         },
         {
          "section": "S006",
          "stack": "lil_EM",
          "z": 6
         },
         {
          "section": "S006",
          "stack": "lil_EM",
          "z": 6
         },
         {
          "section": "S006",
          "stack": "lil_EM",
          "z": 6
         },
         {
          "section": "S006",
          "stack": "lil_EM",
          "z": 6
         },
         {
          "section": "S006",
          "stack": "lil_EM",
          "z": 6
         },
         {
          "section": "S006",
          "stack": "lil_EM",
          "z": 6
         },
         {
          "section": "S006",
          "stack": "lil_EM",
          "z": 6
         },
         {
          "section": "S006",
          "stack": "lil_EM",
          "z": 6
         },
         {
          "section": "S006",
          "stack": "lil_EM",
          "z": 6
         },
         {
          "section": "S006",
          "stack": "lil_EM",
          "z": 6
         },
         {
          "section": "S006",
          "stack": "lil_EM",
          "z": 6
         },
         {
          "section": "S006",
          "stack": "lil_EM",
          "z": 6
         },
         {
          "section": "S006",
          "stack": "lil_EM",
          "z": 6
         },
         {
          "section": "S006",
          "stack": "lil_EM",
          "z": 6
         },
         {
          "section": "S006",
          "stack": "lil_EM",
          "z": 6
         },
         {
          "section": "S006",
          "stack": "lil_EM",
          "z": 6
         },
         {
          "section": "S006",
          "stack": "lil_EM",
          "z": 6
         },
         {
          "section": "S006",
          "stack": "lil_EM",
          "z": 6
         },
         {
          "section": "S006",
          "stack": "lil_EM",
          "z": 6
         },
         {
          "section": "S006",
          "stack": "lil_EM",
          "z": 6
         },
         {
          "section": "S006",
          "stack": "lil_EM",
          "z": 6
         },
         {
          "section": "S006",
          "stack": "lil_EM",
          "z": 6
         },
         {
          "section": "S006",
          "stack": "lil_EM",
          "z": 6
         },
         {
          "section": "S006",
          "stack": "lil_EM",
          "z": 6
         },
         {
          "section": "S006",
          "stack": "lil_EM",
          "z": 6
         },
         {
          "section": "S006",
          "stack": "lil_EM",
          "z": 6
         },
         {
          "section": "S006",
          "stack": "lil_EM",
          "z": 6
         },
         {
          "section": "S006",
          "stack": "lil_EM",
          "z": 6
         },
         {
          "section": "S006",
          "stack": "lil_EM",
          "z": 6
         },
         {
          "section": "S006",
          "stack": "lil_EM",
          "z": 6
         },
         {
          "section": "S006",
          "stack": "lil_EM",
          "z": 6
         },
         {
          "section": "S006",
          "stack": "lil_EM",
          "z": 6
         },
         {
          "section": "S006",
          "stack": "lil_EM",
          "z": 6
         },
         {
          "section": "S006",
          "stack": "lil_EM",
          "z": 6
         },
         {
          "section": "S006",
          "stack": "lil_EM",
          "z": 6
         },
         {
          "section": "S006",
          "stack": "lil_EM",
          "z": 6
         },
         {
          "section": "S006",
          "stack": "lil_EM",
          "z": 6
         },
         {
          "section": "S006",
          "stack": "lil_EM",
          "z": 6
         },
         {
          "section": "S006",
          "stack": "lil_EM",
          "z": 6
         },
         {
          "section": "S006",
          "stack": "lil_EM",
          "z": 6
         },
         {
          "section": "S006",
          "stack": "lil_EM",
          "z": 6
         },
         {
          "section": "S006",
          "stack": "lil_EM",
          "z": 6
         },
         {
          "section": "S006",
          "stack": "lil_EM",
          "z": 6
         },
         {
          "section": "S006",
          "stack": "lil_EM",
          "z": 6
         },
         {
          "section": "S006",
          "stack": "lil_EM",
          "z": 6
         },
         {
          "section": "S006",
          "stack": "lil_EM",
          "z": 6
         },
         {
          "section": "S006",
          "stack": "lil_EM",
          "z": 6
         },
         {
          "section": "S006",
          "stack": "lil_EM",
          "z": 6
         },
         {
          "section": "S006",
          "stack": "lil_EM",
          "z": 6
         },
         {
          "section": "S006",
          "stack": "lil_EM",
          "z": 6
         },
         {
          "section": "S006",
          "stack": "lil_EM",
          "z": 6
         },
         {
          "section": "S006",
          "stack": "lil_EM",
          "z": 6
         },
         {
          "section": "S006",
          "stack": "lil_EM",
          "z": 6
         },
         {
          "section": "S006",
          "stack": "lil_EM",
          "z": 6
         },
         {
          "section": "S006",
          "stack": "lil_EM",
          "z": 6
         },
         {
          "section": "S006",
          "stack": "lil_EM",
          "z": 6
         },
         {
          "section": "S006",
          "stack": "lil_EM",
          "z": 6
         },
         {
          "section": "S006",
          "stack": "lil_EM",
          "z": 6
         },
         {
          "section": "S006",
          "stack": "lil_EM",
          "z": 6
         },
         {
          "section": "S006",
          "stack": "lil_EM",
          "z": 6
         },
         {
          "section": "S006",
          "stack": "lil_EM",
          "z": 6
         },
         {
          "section": "S006",
          "stack": "lil_EM",
          "z": 6
         },
         {
          "section": "S006",
          "stack": "lil_EM",
          "z": 6
         },
         {
          "section": "S006",
          "stack": "lil_EM",
          "z": 6
         },
         {
          "section": "S006",
          "stack": "lil_EM",
          "z": 6
         },
         {
          "section": "S006",
          "stack": "lil_EM",
          "z": 6
         },
         {
          "section": "S006",
          "stack": "lil_EM",
          "z": 6
         },
         {
          "section": "S006",
          "stack": "lil_EM",
          "z": 6
         },
         {
          "section": "S006",
          "stack": "lil_EM",
          "z": 6
         },
         {
          "section": "S006",
          "stack": "lil_EM",
          "z": 6
         },
         {
          "section": "S006",
          "stack": "lil_EM",
          "z": 6
         },
         {
          "section": "S006",
          "stack": "lil_EM",
          "z": 6
         },
         {
          "section": "S006",
          "stack": "lil_EM",
          "z": 6
         },
         {
          "section": "S006",
          "stack": "lil_EM",
          "z": 6
         },
         {
          "section": "S006",
          "stack": "lil_EM",
          "z": 6
         },
         {
          "section": "S006",
          "stack": "lil_EM",
          "z": 6
         },
         {
          "section": "S006",
          "stack": "lil_EM",
          "z": 6
         },
         {
          "section": "S006",
          "stack": "lil_EM",
          "z": 6
         },
         {
          "section": "S006",
          "stack": "lil_EM",
          "z": 6
         },
         {
          "section": "S006",
          "stack": "lil_EM",
          "z": 6
         },
         {
          "section": "S006",
          "stack": "lil_EM",
          "z": 6
         },
         {
          "section": "S006",
          "stack": "lil_EM",
          "z": 6
         },
         {
          "section": "S006",
          "stack": "lil_EM",
          "z": 6
         },
         {
          "section": "S006",
          "stack": "lil_EM",
          "z": 6
         },
         {
          "section": "S006",
          "stack": "lil_EM",
          "z": 6
         },
         {
          "section": "S006",
          "stack": "lil_EM",
          "z": 6
         },
         {
          "section": "S006",
          "stack": "lil_EM",
          "z": 6
         },
         {
          "section": "S006",
          "stack": "lil_EM",
          "z": 6
         },
         {
          "section": "S006",
          "stack": "lil_EM",
          "z": 6
         },
         {
          "section": "S006",
          "stack": "lil_EM",
          "z": 6
         },
         {
          "section": "S006",
          "stack": "lil_EM",
          "z": 6
         },
         {
          "section": "S006",
          "stack": "lil_EM",
          "z": 6
         },
         {
          "section": "S006",
          "stack": "lil_EM",
          "z": 6
         },
         {
          "section": "S006",
          "stack": "lil_EM",
          "z": 6
         },
         {
          "section": "S006",
          "stack": "lil_EM",
          "z": 6
         },
         {
          "section": "S006",
          "stack": "lil_EM",
          "z": 6
         },
         {
          "section": "S006",
          "stack": "lil_EM",
          "z": 6
         },
         {
          "section": "S006",
          "stack": "lil_EM",
          "z": 6
         },
         {
          "section": "S006",
          "stack": "lil_EM",
          "z": 6
         },
         {
          "section": "S006",
          "stack": "lil_EM",
          "z": 6
         },
         {
          "section": "S006",
          "stack": "lil_EM",
          "z": 6
         },
         {
          "section": "S006",
          "stack": "lil_EM",
          "z": 6
         },
         {
          "section": "S006",
          "stack": "lil_EM",
          "z": 6
         },
         {
          "section": "S006",
          "stack": "lil_EM",
          "z": 6
         },
         {
          "section": "S006",
          "stack": "lil_EM",
          "z": 6
         },
         {
          "section": "S007",
          "stack": "hoechst",
          "z": 7
         },
         {
          "section": "S007",
          "stack": "hoechst",
          "z": 7
         },
         {
          "section": "S007",
          "stack": "hoechst",
          "z": 7
         },
         {
          "section": "S007",
          "stack": "hoechst",
          "z": 7
         },
         {
          "section": "S007",
          "stack": "hoechst",
          "z": 7
         },
         {
          "section": "S007",
          "stack": "hoechst",
          "z": 7
         },
         {
          "section": "S007",
          "stack": "hoechst",
          "z": 7
         },
         {
          "section": "S007",
          "stack": "hoechst",
          "z": 7
         },
         {
          "section": "S007",
          "stack": "hoechst",
          "z": 7
         },
         {
          "section": "S007",
          "stack": "hoechst",
          "z": 7
         },
         {
          "section": "S007",
          "stack": "hoechst",
          "z": 7
         },
         {
          "section": "S007",
          "stack": "hoechst",
          "z": 7
         },
         {
          "section": "S007",
          "stack": "insulin",
          "z": 7
         },
         {
          "section": "S007",
          "stack": "insulin",
          "z": 7
         },
         {
          "section": "S007",
          "stack": "insulin",
          "z": 7
         },
         {
          "section": "S007",
          "stack": "insulin",
          "z": 7
         },
         {
          "section": "S007",
          "stack": "insulin",
          "z": 7
         },
         {
          "section": "S007",
          "stack": "insulin",
          "z": 7
         },
         {
          "section": "S007",
          "stack": "insulin",
          "z": 7
         },
         {
          "section": "S007",
          "stack": "insulin",
          "z": 7
         },
         {
          "section": "S007",
          "stack": "insulin",
          "z": 7
         },
         {
          "section": "S007",
          "stack": "insulin",
          "z": 7
         },
         {
          "section": "S007",
          "stack": "insulin",
          "z": 7
         },
         {
          "section": "S007",
          "stack": "insulin",
          "z": 7
         },
         {
          "section": "S007",
          "stack": "big_EM",
          "z": 7
         },
         {
          "section": "S007",
          "stack": "big_EM",
          "z": 7
         },
         {
          "section": "S007",
          "stack": "big_EM",
          "z": 7
         },
         {
          "section": "S007",
          "stack": "big_EM",
          "z": 7
         },
         {
          "section": "S007",
          "stack": "big_EM",
          "z": 7
         },
         {
          "section": "S007",
          "stack": "big_EM",
          "z": 7
         },
         {
          "section": "S007",
          "stack": "big_EM",
          "z": 7
         },
         {
          "section": "S007",
          "stack": "big_EM",
          "z": 7
         },
         {
          "section": "S007",
          "stack": "big_EM",
          "z": 7
         },
         {
          "section": "S007",
          "stack": "big_EM",
          "z": 7
         },
         {
          "section": "S007",
          "stack": "big_EM",
          "z": 7
         },
         {
          "section": "S007",
          "stack": "big_EM",
          "z": 7
         },
         {
          "section": "S007",
          "stack": "lil_EM",
          "z": 7
         },
         {
          "section": "S007",
          "stack": "lil_EM",
          "z": 7
         },
         {
          "section": "S007",
          "stack": "lil_EM",
          "z": 7
         },
         {
          "section": "S007",
          "stack": "lil_EM",
          "z": 7
         },
         {
          "section": "S007",
          "stack": "lil_EM",
          "z": 7
         },
         {
          "section": "S007",
          "stack": "lil_EM",
          "z": 7
         },
         {
          "section": "S007",
          "stack": "lil_EM",
          "z": 7
         },
         {
          "section": "S007",
          "stack": "lil_EM",
          "z": 7
         },
         {
          "section": "S007",
          "stack": "lil_EM",
          "z": 7
         },
         {
          "section": "S007",
          "stack": "lil_EM",
          "z": 7
         },
         {
          "section": "S007",
          "stack": "lil_EM",
          "z": 7
         },
         {
          "section": "S007",
          "stack": "lil_EM",
          "z": 7
         },
         {
          "section": "S007",
          "stack": "lil_EM",
          "z": 7
         },
         {
          "section": "S007",
          "stack": "lil_EM",
          "z": 7
         },
         {
          "section": "S007",
          "stack": "lil_EM",
          "z": 7
         },
         {
          "section": "S007",
          "stack": "lil_EM",
          "z": 7
         },
         {
          "section": "S007",
          "stack": "lil_EM",
          "z": 7
         },
         {
          "section": "S007",
          "stack": "lil_EM",
          "z": 7
         },
         {
          "section": "S007",
          "stack": "lil_EM",
          "z": 7
         },
         {
          "section": "S007",
          "stack": "lil_EM",
          "z": 7
         },
         {
          "section": "S007",
          "stack": "lil_EM",
          "z": 7
         },
         {
          "section": "S007",
          "stack": "lil_EM",
          "z": 7
         },
         {
          "section": "S007",
          "stack": "lil_EM",
          "z": 7
         },
         {
          "section": "S007",
          "stack": "lil_EM",
          "z": 7
         },
         {
          "section": "S007",
          "stack": "lil_EM",
          "z": 7
         },
         {
          "section": "S007",
          "stack": "lil_EM",
          "z": 7
         },
         {
          "section": "S007",
          "stack": "lil_EM",
          "z": 7
         },
         {
          "section": "S007",
          "stack": "lil_EM",
          "z": 7
         },
         {
          "section": "S007",
          "stack": "lil_EM",
          "z": 7
         },
         {
          "section": "S007",
          "stack": "lil_EM",
          "z": 7
         },
         {
          "section": "S007",
          "stack": "lil_EM",
          "z": 7
         },
         {
          "section": "S007",
          "stack": "lil_EM",
          "z": 7
         },
         {
          "section": "S007",
          "stack": "lil_EM",
          "z": 7
         },
         {
          "section": "S007",
          "stack": "lil_EM",
          "z": 7
         },
         {
          "section": "S007",
          "stack": "lil_EM",
          "z": 7
         },
         {
          "section": "S007",
          "stack": "lil_EM",
          "z": 7
         },
         {
          "section": "S007",
          "stack": "lil_EM",
          "z": 7
         },
         {
          "section": "S007",
          "stack": "lil_EM",
          "z": 7
         },
         {
          "section": "S007",
          "stack": "lil_EM",
          "z": 7
         },
         {
          "section": "S007",
          "stack": "lil_EM",
          "z": 7
         },
         {
          "section": "S007",
          "stack": "lil_EM",
          "z": 7
         },
         {
          "section": "S007",
          "stack": "lil_EM",
          "z": 7
         },
         {
          "section": "S007",
          "stack": "lil_EM",
          "z": 7
         },
         {
          "section": "S007",
          "stack": "lil_EM",
          "z": 7
         },
         {
          "section": "S007",
          "stack": "lil_EM",
          "z": 7
         },
         {
          "section": "S007",
          "stack": "lil_EM",
          "z": 7
         },
         {
          "section": "S007",
          "stack": "lil_EM",
          "z": 7
         },
         {
          "section": "S007",
          "stack": "lil_EM",
          "z": 7
         },
         {
          "section": "S007",
          "stack": "lil_EM",
          "z": 7
         },
         {
          "section": "S007",
          "stack": "lil_EM",
          "z": 7
         },
         {
          "section": "S007",
          "stack": "lil_EM",
          "z": 7
         },
         {
          "section": "S007",
          "stack": "lil_EM",
          "z": 7
         },
         {
          "section": "S007",
          "stack": "lil_EM",
          "z": 7
         },
         {
          "section": "S007",
          "stack": "lil_EM",
          "z": 7
         },
         {
          "section": "S007",
          "stack": "lil_EM",
          "z": 7
         },
         {
          "section": "S007",
          "stack": "lil_EM",
          "z": 7
         },
         {
          "section": "S007",
          "stack": "lil_EM",
          "z": 7
         },
         {
          "section": "S007",
          "stack": "lil_EM",
          "z": 7
         },
         {
          "section": "S007",
          "stack": "lil_EM",
          "z": 7
         },
         {
          "section": "S007",
          "stack": "lil_EM",
          "z": 7
         },
         {
          "section": "S007",
          "stack": "lil_EM",
          "z": 7
         },
         {
          "section": "S007",
          "stack": "lil_EM",
          "z": 7
         },
         {
          "section": "S007",
          "stack": "lil_EM",
          "z": 7
         },
         {
          "section": "S007",
          "stack": "lil_EM",
          "z": 7
         },
         {
          "section": "S007",
          "stack": "lil_EM",
          "z": 7
         },
         {
          "section": "S007",
          "stack": "lil_EM",
          "z": 7
         },
         {
          "section": "S007",
          "stack": "lil_EM",
          "z": 7
         },
         {
          "section": "S007",
          "stack": "lil_EM",
          "z": 7
         },
         {
          "section": "S007",
          "stack": "lil_EM",
          "z": 7
         },
         {
          "section": "S007",
          "stack": "lil_EM",
          "z": 7
         },
         {
          "section": "S007",
          "stack": "lil_EM",
          "z": 7
         },
         {
          "section": "S007",
          "stack": "lil_EM",
          "z": 7
         },
         {
          "section": "S007",
          "stack": "lil_EM",
          "z": 7
         },
         {
          "section": "S007",
          "stack": "lil_EM",
          "z": 7
         },
         {
          "section": "S007",
          "stack": "lil_EM",
          "z": 7
         },
         {
          "section": "S007",
          "stack": "lil_EM",
          "z": 7
         },
         {
          "section": "S007",
          "stack": "lil_EM",
          "z": 7
         },
         {
          "section": "S007",
          "stack": "lil_EM",
          "z": 7
         },
         {
          "section": "S007",
          "stack": "lil_EM",
          "z": 7
         },
         {
          "section": "S007",
          "stack": "lil_EM",
          "z": 7
         },
         {
          "section": "S007",
          "stack": "lil_EM",
          "z": 7
         },
         {
          "section": "S007",
          "stack": "lil_EM",
          "z": 7
         },
         {
          "section": "S007",
          "stack": "lil_EM",
          "z": 7
         },
         {
          "section": "S007",
          "stack": "lil_EM",
          "z": 7
         },
         {
          "section": "S007",
          "stack": "lil_EM",
          "z": 7
         },
         {
          "section": "S007",
          "stack": "lil_EM",
          "z": 7
         },
         {
          "section": "S007",
          "stack": "lil_EM",
          "z": 7
         },
         {
          "section": "S007",
          "stack": "lil_EM",
          "z": 7
         },
         {
          "section": "S007",
          "stack": "lil_EM",
          "z": 7
         },
         {
          "section": "S007",
          "stack": "lil_EM",
          "z": 7
         },
         {
          "section": "S007",
          "stack": "lil_EM",
          "z": 7
         },
         {
          "section": "S007",
          "stack": "lil_EM",
          "z": 7
         },
         {
          "section": "S007",
          "stack": "lil_EM",
          "z": 7
         },
         {
          "section": "S007",
          "stack": "lil_EM",
          "z": 7
         },
         {
          "section": "S007",
          "stack": "lil_EM",
          "z": 7
         },
         {
          "section": "S007",
          "stack": "lil_EM",
          "z": 7
         },
         {
          "section": "S007",
          "stack": "lil_EM",
          "z": 7
         },
         {
          "section": "S007",
          "stack": "lil_EM",
          "z": 7
         },
         {
          "section": "S007",
          "stack": "lil_EM",
          "z": 7
         },
         {
          "section": "S007",
          "stack": "lil_EM",
          "z": 7
         },
         {
          "section": "S007",
          "stack": "lil_EM",
          "z": 7
         },
         {
          "section": "S007",
          "stack": "lil_EM",
          "z": 7
         },
         {
          "section": "S007",
          "stack": "lil_EM",
          "z": 7
         },
         {
          "section": "S007",
          "stack": "lil_EM",
          "z": 7
         },
         {
          "section": "S007",
          "stack": "lil_EM",
          "z": 7
         },
         {
          "section": "S007",
          "stack": "lil_EM",
          "z": 7
         },
         {
          "section": "S007",
          "stack": "lil_EM",
          "z": 7
         },
         {
          "section": "S007",
          "stack": "lil_EM",
          "z": 7
         },
         {
          "section": "S007",
          "stack": "lil_EM",
          "z": 7
         },
         {
          "section": "S007",
          "stack": "lil_EM",
          "z": 7
         },
         {
          "section": "S007",
          "stack": "lil_EM",
          "z": 7
         },
         {
          "section": "S007",
          "stack": "lil_EM",
          "z": 7
         },
         {
          "section": "S007",
          "stack": "lil_EM",
          "z": 7
         },
         {
          "section": "S007",
          "stack": "lil_EM",
          "z": 7
         },
         {
          "section": "S007",
          "stack": "lil_EM",
          "z": 7
         },
         {
          "section": "S007",
          "stack": "lil_EM",
          "z": 7
         },
         {
          "section": "S007",
          "stack": "lil_EM",
          "z": 7
         },
         {
          "section": "S007",
          "stack": "lil_EM",
          "z": 7
         },
         {
          "section": "S007",
          "stack": "lil_EM",
          "z": 7
         },
         {
          "section": "S007",
          "stack": "lil_EM",
          "z": 7
         },
         {
          "section": "S007",
          "stack": "lil_EM",
          "z": 7
         },
         {
          "section": "S007",
          "stack": "lil_EM",
          "z": 7
         },
         {
          "section": "S007",
          "stack": "lil_EM",
          "z": 7
         },
         {
          "section": "S007",
          "stack": "lil_EM",
          "z": 7
         },
         {
          "section": "S007",
          "stack": "lil_EM",
          "z": 7
         },
         {
          "section": "S007",
          "stack": "lil_EM",
          "z": 7
         },
         {
          "section": "S007",
          "stack": "lil_EM",
          "z": 7
         },
         {
          "section": "S007",
          "stack": "lil_EM",
          "z": 7
         },
         {
          "section": "S007",
          "stack": "lil_EM",
          "z": 7
         },
         {
          "section": "S007",
          "stack": "lil_EM",
          "z": 7
         },
         {
          "section": "S007",
          "stack": "lil_EM",
          "z": 7
         },
         {
          "section": "S007",
          "stack": "lil_EM",
          "z": 7
         },
         {
          "section": "S007",
          "stack": "lil_EM",
          "z": 7
         },
         {
          "section": "S007",
          "stack": "lil_EM",
          "z": 7
         },
         {
          "section": "S007",
          "stack": "lil_EM",
          "z": 7
         },
         {
          "section": "S007",
          "stack": "lil_EM",
          "z": 7
         },
         {
          "section": "S007",
          "stack": "lil_EM",
          "z": 7
         },
         {
          "section": "S007",
          "stack": "lil_EM",
          "z": 7
         },
         {
          "section": "S007",
          "stack": "lil_EM",
          "z": 7
         },
         {
          "section": "S007",
          "stack": "lil_EM",
          "z": 7
         },
         {
          "section": "S007",
          "stack": "lil_EM",
          "z": 7
         },
         {
          "section": "S007",
          "stack": "lil_EM",
          "z": 7
         },
         {
          "section": "S007",
          "stack": "lil_EM",
          "z": 7
         },
         {
          "section": "S007",
          "stack": "lil_EM",
          "z": 7
         },
         {
          "section": "S007",
          "stack": "lil_EM",
          "z": 7
         },
         {
          "section": "S007",
          "stack": "lil_EM",
          "z": 7
         },
         {
          "section": "S007",
          "stack": "lil_EM",
          "z": 7
         },
         {
          "section": "S007",
          "stack": "lil_EM",
          "z": 7
         },
         {
          "section": "S007",
          "stack": "lil_EM",
          "z": 7
         },
         {
          "section": "S007",
          "stack": "lil_EM",
          "z": 7
         },
         {
          "section": "S007",
          "stack": "lil_EM",
          "z": 7
         },
         {
          "section": "S007",
          "stack": "lil_EM",
          "z": 7
         },
         {
          "section": "S007",
          "stack": "lil_EM",
          "z": 7
         },
         {
          "section": "S007",
          "stack": "lil_EM",
          "z": 7
         },
         {
          "section": "S007",
          "stack": "lil_EM",
          "z": 7
         },
         {
          "section": "S007",
          "stack": "lil_EM",
          "z": 7
         },
         {
          "section": "S007",
          "stack": "lil_EM",
          "z": 7
         },
         {
          "section": "S007",
          "stack": "lil_EM",
          "z": 7
         },
         {
          "section": "S007",
          "stack": "lil_EM",
          "z": 7
         },
         {
          "section": "S007",
          "stack": "lil_EM",
          "z": 7
         },
         {
          "section": "S007",
          "stack": "lil_EM",
          "z": 7
         },
         {
          "section": "S007",
          "stack": "lil_EM",
          "z": 7
         },
         {
          "section": "S007",
          "stack": "lil_EM",
          "z": 7
         },
         {
          "section": "S007",
          "stack": "lil_EM",
          "z": 7
         },
         {
          "section": "S007",
          "stack": "lil_EM",
          "z": 7
         },
         {
          "section": "S007",
          "stack": "lil_EM",
          "z": 7
         },
         {
          "section": "S007",
          "stack": "lil_EM",
          "z": 7
         },
         {
          "section": "S007",
          "stack": "lil_EM",
          "z": 7
         },
         {
          "section": "S007",
          "stack": "lil_EM",
          "z": 7
         },
         {
          "section": "S007",
          "stack": "lil_EM",
          "z": 7
         },
         {
          "section": "S007",
          "stack": "lil_EM",
          "z": 7
         },
         {
          "section": "S007",
          "stack": "lil_EM",
          "z": 7
         },
         {
          "section": "S007",
          "stack": "lil_EM",
          "z": 7
         },
         {
          "section": "S007",
          "stack": "lil_EM",
          "z": 7
         },
         {
          "section": "S007",
          "stack": "lil_EM",
          "z": 7
         },
         {
          "section": "S007",
          "stack": "lil_EM",
          "z": 7
         },
         {
          "section": "S007",
          "stack": "lil_EM",
          "z": 7
         },
         {
          "section": "S007",
          "stack": "lil_EM",
          "z": 7
         },
         {
          "section": "S007",
          "stack": "lil_EM",
          "z": 7
         },
         {
          "section": "S007",
          "stack": "lil_EM",
          "z": 7
         },
         {
          "section": "S007",
          "stack": "lil_EM",
          "z": 7
         },
         {
          "section": "S007",
          "stack": "lil_EM",
          "z": 7
         },
         {
          "section": "S007",
          "stack": "lil_EM",
          "z": 7
         },
         {
          "section": "S007",
          "stack": "lil_EM",
          "z": 7
         },
         {
          "section": "S007",
          "stack": "lil_EM",
          "z": 7
         },
         {
          "section": "S007",
          "stack": "lil_EM",
          "z": 7
         },
         {
          "section": "S007",
          "stack": "lil_EM",
          "z": 7
         },
         {
          "section": "S007",
          "stack": "lil_EM",
          "z": 7
         },
         {
          "section": "S007",
          "stack": "lil_EM",
          "z": 7
         },
         {
          "section": "S007",
          "stack": "lil_EM",
          "z": 7
         },
         {
          "section": "S007",
          "stack": "lil_EM",
          "z": 7
         },
         {
          "section": "S007",
          "stack": "lil_EM",
          "z": 7
         },
         {
          "section": "S007",
          "stack": "lil_EM",
          "z": 7
         },
         {
          "section": "S007",
          "stack": "lil_EM",
          "z": 7
         },
         {
          "section": "S007",
          "stack": "lil_EM",
          "z": 7
         },
         {
          "section": "S007",
          "stack": "lil_EM",
          "z": 7
         },
         {
          "section": "S007",
          "stack": "lil_EM",
          "z": 7
         },
         {
          "section": "S007",
          "stack": "lil_EM",
          "z": 7
         },
         {
          "section": "S007",
          "stack": "lil_EM",
          "z": 7
         },
         {
          "section": "S007",
          "stack": "lil_EM",
          "z": 7
         },
         {
          "section": "S007",
          "stack": "lil_EM",
          "z": 7
         },
         {
          "section": "S007",
          "stack": "lil_EM",
          "z": 7
         },
         {
          "section": "S007",
          "stack": "lil_EM",
          "z": 7
         },
         {
          "section": "S007",
          "stack": "lil_EM",
          "z": 7
         },
         {
          "section": "S007",
          "stack": "lil_EM",
          "z": 7
         },
         {
          "section": "S007",
          "stack": "lil_EM",
          "z": 7
         },
         {
          "section": "S007",
          "stack": "lil_EM",
          "z": 7
         },
         {
          "section": "S007",
          "stack": "lil_EM",
          "z": 7
         },
         {
          "section": "S007",
          "stack": "lil_EM",
          "z": 7
         },
         {
          "section": "S007",
          "stack": "lil_EM",
          "z": 7
         },
         {
          "section": "S007",
          "stack": "lil_EM",
          "z": 7
         },
         {
          "section": "S007",
          "stack": "lil_EM",
          "z": 7
         },
         {
          "section": "S007",
          "stack": "lil_EM",
          "z": 7
         },
         {
          "section": "S007",
          "stack": "lil_EM",
          "z": 7
         },
         {
          "section": "S007",
          "stack": "lil_EM",
          "z": 7
         },
         {
          "section": "S007",
          "stack": "lil_EM",
          "z": 7
         },
         {
          "section": "S007",
          "stack": "lil_EM",
          "z": 7
         },
         {
          "section": "S007",
          "stack": "lil_EM",
          "z": 7
         },
         {
          "section": "S007",
          "stack": "lil_EM",
          "z": 7
         },
         {
          "section": "S007",
          "stack": "lil_EM",
          "z": 7
         },
         {
          "section": "S007",
          "stack": "lil_EM",
          "z": 7
         },
         {
          "section": "S007",
          "stack": "lil_EM",
          "z": 7
         },
         {
          "section": "S007",
          "stack": "lil_EM",
          "z": 7
         },
         {
          "section": "S007",
          "stack": "lil_EM",
          "z": 7
         },
         {
          "section": "S007",
          "stack": "lil_EM",
          "z": 7
         },
         {
          "section": "S007",
          "stack": "lil_EM",
          "z": 7
         },
         {
          "section": "S007",
          "stack": "lil_EM",
          "z": 7
         },
         {
          "section": "S007",
          "stack": "lil_EM",
          "z": 7
         },
         {
          "section": "S007",
          "stack": "lil_EM",
          "z": 7
         },
         {
          "section": "S007",
          "stack": "lil_EM",
          "z": 7
         },
         {
          "section": "S007",
          "stack": "lil_EM",
          "z": 7
         },
         {
          "section": "S007",
          "stack": "lil_EM",
          "z": 7
         },
         {
          "section": "S007",
          "stack": "lil_EM",
          "z": 7
         },
         {
          "section": "S007",
          "stack": "lil_EM",
          "z": 7
         },
         {
          "section": "S007",
          "stack": "lil_EM",
          "z": 7
         },
         {
          "section": "S007",
          "stack": "lil_EM",
          "z": 7
         },
         {
          "section": "S007",
          "stack": "lil_EM",
          "z": 7
         },
         {
          "section": "S007",
          "stack": "lil_EM",
          "z": 7
         },
         {
          "section": "S007",
          "stack": "lil_EM",
          "z": 7
         },
         {
          "section": "S007",
          "stack": "lil_EM",
          "z": 7
         },
         {
          "section": "S007",
          "stack": "lil_EM",
          "z": 7
         },
         {
          "section": "S007",
          "stack": "lil_EM",
          "z": 7
         },
         {
          "section": "S007",
          "stack": "lil_EM",
          "z": 7
         },
         {
          "section": "S007",
          "stack": "lil_EM",
          "z": 7
         },
         {
          "section": "S007",
          "stack": "lil_EM",
          "z": 7
         },
         {
          "section": "S007",
          "stack": "lil_EM",
          "z": 7
         },
         {
          "section": "S007",
          "stack": "lil_EM",
          "z": 7
         },
         {
          "section": "S007",
          "stack": "lil_EM",
          "z": 7
         },
         {
          "section": "S007",
          "stack": "lil_EM",
          "z": 7
         },
         {
          "section": "S007",
          "stack": "lil_EM",
          "z": 7
         },
         {
          "section": "S007",
          "stack": "lil_EM",
          "z": 7
         },
         {
          "section": "S007",
          "stack": "lil_EM",
          "z": 7
         },
         {
          "section": "S007",
          "stack": "lil_EM",
          "z": 7
         },
         {
          "section": "S007",
          "stack": "lil_EM",
          "z": 7
         },
         {
          "section": "S007",
          "stack": "lil_EM",
          "z": 7
         },
         {
          "section": "S007",
          "stack": "lil_EM",
          "z": 7
         },
         {
          "section": "S007",
          "stack": "lil_EM",
          "z": 7
         },
         {
          "section": "S007",
          "stack": "lil_EM",
          "z": 7
         },
         {
          "section": "S007",
          "stack": "lil_EM",
          "z": 7
         },
         {
          "section": "S007",
          "stack": "lil_EM",
          "z": 7
         },
         {
          "section": "S007",
          "stack": "lil_EM",
          "z": 7
         },
         {
          "section": "S007",
          "stack": "lil_EM",
          "z": 7
         },
         {
          "section": "S007",
          "stack": "lil_EM",
          "z": 7
         },
         {
          "section": "S007",
          "stack": "lil_EM",
          "z": 7
         },
         {
          "section": "S007",
          "stack": "lil_EM",
          "z": 7
         },
         {
          "section": "S007",
          "stack": "lil_EM",
          "z": 7
         },
         {
          "section": "S007",
          "stack": "lil_EM",
          "z": 7
         },
         {
          "section": "S007",
          "stack": "lil_EM",
          "z": 7
         },
         {
          "section": "S007",
          "stack": "lil_EM",
          "z": 7
         },
         {
          "section": "S007",
          "stack": "lil_EM",
          "z": 7
         },
         {
          "section": "S007",
          "stack": "lil_EM",
          "z": 7
         },
         {
          "section": "S007",
          "stack": "lil_EM",
          "z": 7
         },
         {
          "section": "S007",
          "stack": "lil_EM",
          "z": 7
         },
         {
          "section": "S007",
          "stack": "lil_EM",
          "z": 7
         },
         {
          "section": "S007",
          "stack": "lil_EM",
          "z": 7
         },
         {
          "section": "S007",
          "stack": "lil_EM",
          "z": 7
         },
         {
          "section": "S007",
          "stack": "lil_EM",
          "z": 7
         },
         {
          "section": "S007",
          "stack": "lil_EM",
          "z": 7
         },
         {
          "section": "S007",
          "stack": "lil_EM",
          "z": 7
         },
         {
          "section": "S007",
          "stack": "lil_EM",
          "z": 7
         },
         {
          "section": "S007",
          "stack": "lil_EM",
          "z": 7
         },
         {
          "section": "S007",
          "stack": "lil_EM",
          "z": 7
         },
         {
          "section": "S007",
          "stack": "lil_EM",
          "z": 7
         },
         {
          "section": "S007",
          "stack": "lil_EM",
          "z": 7
         },
         {
          "section": "S007",
          "stack": "lil_EM",
          "z": 7
         },
         {
          "section": "S007",
          "stack": "lil_EM",
          "z": 7
         },
         {
          "section": "S007",
          "stack": "lil_EM",
          "z": 7
         },
         {
          "section": "S007",
          "stack": "lil_EM",
          "z": 7
         },
         {
          "section": "S007",
          "stack": "lil_EM",
          "z": 7
         },
         {
          "section": "S007",
          "stack": "lil_EM",
          "z": 7
         },
         {
          "section": "S007",
          "stack": "lil_EM",
          "z": 7
         },
         {
          "section": "S007",
          "stack": "lil_EM",
          "z": 7
         },
         {
          "section": "S007",
          "stack": "lil_EM",
          "z": 7
         },
         {
          "section": "S007",
          "stack": "lil_EM",
          "z": 7
         },
         {
          "section": "S007",
          "stack": "lil_EM",
          "z": 7
         },
         {
          "section": "S007",
          "stack": "lil_EM",
          "z": 7
         },
         {
          "section": "S007",
          "stack": "lil_EM",
          "z": 7
         },
         {
          "section": "S007",
          "stack": "lil_EM",
          "z": 7
         },
         {
          "section": "S007",
          "stack": "lil_EM",
          "z": 7
         },
         {
          "section": "S007",
          "stack": "lil_EM",
          "z": 7
         },
         {
          "section": "S007",
          "stack": "lil_EM",
          "z": 7
         },
         {
          "section": "S007",
          "stack": "lil_EM",
          "z": 7
         },
         {
          "section": "S007",
          "stack": "lil_EM",
          "z": 7
         },
         {
          "section": "S007",
          "stack": "lil_EM",
          "z": 7
         },
         {
          "section": "S007",
          "stack": "lil_EM",
          "z": 7
         },
         {
          "section": "S007",
          "stack": "lil_EM",
          "z": 7
         },
         {
          "section": "S007",
          "stack": "lil_EM",
          "z": 7
         },
         {
          "section": "S007",
          "stack": "lil_EM",
          "z": 7
         },
         {
          "section": "S007",
          "stack": "lil_EM",
          "z": 7
         },
         {
          "section": "S007",
          "stack": "lil_EM",
          "z": 7
         },
         {
          "section": "S007",
          "stack": "lil_EM",
          "z": 7
         },
         {
          "section": "S007",
          "stack": "lil_EM",
          "z": 7
         },
         {
          "section": "S007",
          "stack": "lil_EM",
          "z": 7
         },
         {
          "section": "S007",
          "stack": "lil_EM",
          "z": 7
         },
         {
          "section": "S007",
          "stack": "lil_EM",
          "z": 7
         },
         {
          "section": "S007",
          "stack": "lil_EM",
          "z": 7
         },
         {
          "section": "S007",
          "stack": "lil_EM",
          "z": 7
         },
         {
          "section": "S007",
          "stack": "lil_EM",
          "z": 7
         },
         {
          "section": "S007",
          "stack": "lil_EM",
          "z": 7
         },
         {
          "section": "S007",
          "stack": "lil_EM",
          "z": 7
         },
         {
          "section": "S008",
          "stack": "hoechst",
          "z": 8
         },
         {
          "section": "S008",
          "stack": "hoechst",
          "z": 8
         },
         {
          "section": "S008",
          "stack": "hoechst",
          "z": 8
         },
         {
          "section": "S008",
          "stack": "hoechst",
          "z": 8
         },
         {
          "section": "S008",
          "stack": "hoechst",
          "z": 8
         },
         {
          "section": "S008",
          "stack": "hoechst",
          "z": 8
         },
         {
          "section": "S008",
          "stack": "hoechst",
          "z": 8
         },
         {
          "section": "S008",
          "stack": "hoechst",
          "z": 8
         },
         {
          "section": "S008",
          "stack": "hoechst",
          "z": 8
         },
         {
          "section": "S008",
          "stack": "hoechst",
          "z": 8
         },
         {
          "section": "S008",
          "stack": "hoechst",
          "z": 8
         },
         {
          "section": "S008",
          "stack": "hoechst",
          "z": 8
         },
         {
          "section": "S008",
          "stack": "insulin",
          "z": 8
         },
         {
          "section": "S008",
          "stack": "insulin",
          "z": 8
         },
         {
          "section": "S008",
          "stack": "insulin",
          "z": 8
         },
         {
          "section": "S008",
          "stack": "insulin",
          "z": 8
         },
         {
          "section": "S008",
          "stack": "insulin",
          "z": 8
         },
         {
          "section": "S008",
          "stack": "insulin",
          "z": 8
         },
         {
          "section": "S008",
          "stack": "insulin",
          "z": 8
         },
         {
          "section": "S008",
          "stack": "insulin",
          "z": 8
         },
         {
          "section": "S008",
          "stack": "insulin",
          "z": 8
         },
         {
          "section": "S008",
          "stack": "insulin",
          "z": 8
         },
         {
          "section": "S008",
          "stack": "insulin",
          "z": 8
         },
         {
          "section": "S008",
          "stack": "insulin",
          "z": 8
         },
         {
          "section": "S008",
          "stack": "big_EM",
          "z": 8
         },
         {
          "section": "S008",
          "stack": "big_EM",
          "z": 8
         },
         {
          "section": "S008",
          "stack": "big_EM",
          "z": 8
         },
         {
          "section": "S008",
          "stack": "big_EM",
          "z": 8
         },
         {
          "section": "S008",
          "stack": "big_EM",
          "z": 8
         },
         {
          "section": "S008",
          "stack": "big_EM",
          "z": 8
         },
         {
          "section": "S008",
          "stack": "big_EM",
          "z": 8
         },
         {
          "section": "S008",
          "stack": "big_EM",
          "z": 8
         },
         {
          "section": "S008",
          "stack": "big_EM",
          "z": 8
         },
         {
          "section": "S008",
          "stack": "big_EM",
          "z": 8
         },
         {
          "section": "S008",
          "stack": "big_EM",
          "z": 8
         },
         {
          "section": "S008",
          "stack": "big_EM",
          "z": 8
         },
         {
          "section": "S008",
          "stack": "lil_EM",
          "z": 8
         },
         {
          "section": "S008",
          "stack": "lil_EM",
          "z": 8
         },
         {
          "section": "S008",
          "stack": "lil_EM",
          "z": 8
         },
         {
          "section": "S008",
          "stack": "lil_EM",
          "z": 8
         },
         {
          "section": "S008",
          "stack": "lil_EM",
          "z": 8
         },
         {
          "section": "S008",
          "stack": "lil_EM",
          "z": 8
         },
         {
          "section": "S008",
          "stack": "lil_EM",
          "z": 8
         },
         {
          "section": "S008",
          "stack": "lil_EM",
          "z": 8
         },
         {
          "section": "S008",
          "stack": "lil_EM",
          "z": 8
         },
         {
          "section": "S008",
          "stack": "lil_EM",
          "z": 8
         },
         {
          "section": "S008",
          "stack": "lil_EM",
          "z": 8
         },
         {
          "section": "S008",
          "stack": "lil_EM",
          "z": 8
         },
         {
          "section": "S008",
          "stack": "lil_EM",
          "z": 8
         },
         {
          "section": "S008",
          "stack": "lil_EM",
          "z": 8
         },
         {
          "section": "S008",
          "stack": "lil_EM",
          "z": 8
         },
         {
          "section": "S008",
          "stack": "lil_EM",
          "z": 8
         },
         {
          "section": "S008",
          "stack": "lil_EM",
          "z": 8
         },
         {
          "section": "S008",
          "stack": "lil_EM",
          "z": 8
         },
         {
          "section": "S008",
          "stack": "lil_EM",
          "z": 8
         },
         {
          "section": "S008",
          "stack": "lil_EM",
          "z": 8
         },
         {
          "section": "S008",
          "stack": "lil_EM",
          "z": 8
         },
         {
          "section": "S008",
          "stack": "lil_EM",
          "z": 8
         },
         {
          "section": "S008",
          "stack": "lil_EM",
          "z": 8
         },
         {
          "section": "S008",
          "stack": "lil_EM",
          "z": 8
         },
         {
          "section": "S008",
          "stack": "lil_EM",
          "z": 8
         },
         {
          "section": "S008",
          "stack": "lil_EM",
          "z": 8
         },
         {
          "section": "S008",
          "stack": "lil_EM",
          "z": 8
         },
         {
          "section": "S008",
          "stack": "lil_EM",
          "z": 8
         },
         {
          "section": "S008",
          "stack": "lil_EM",
          "z": 8
         },
         {
          "section": "S008",
          "stack": "lil_EM",
          "z": 8
         },
         {
          "section": "S008",
          "stack": "lil_EM",
          "z": 8
         },
         {
          "section": "S008",
          "stack": "lil_EM",
          "z": 8
         },
         {
          "section": "S008",
          "stack": "lil_EM",
          "z": 8
         },
         {
          "section": "S008",
          "stack": "lil_EM",
          "z": 8
         },
         {
          "section": "S008",
          "stack": "lil_EM",
          "z": 8
         },
         {
          "section": "S008",
          "stack": "lil_EM",
          "z": 8
         },
         {
          "section": "S008",
          "stack": "lil_EM",
          "z": 8
         },
         {
          "section": "S008",
          "stack": "lil_EM",
          "z": 8
         },
         {
          "section": "S008",
          "stack": "lil_EM",
          "z": 8
         },
         {
          "section": "S008",
          "stack": "lil_EM",
          "z": 8
         },
         {
          "section": "S008",
          "stack": "lil_EM",
          "z": 8
         },
         {
          "section": "S008",
          "stack": "lil_EM",
          "z": 8
         },
         {
          "section": "S008",
          "stack": "lil_EM",
          "z": 8
         },
         {
          "section": "S008",
          "stack": "lil_EM",
          "z": 8
         },
         {
          "section": "S008",
          "stack": "lil_EM",
          "z": 8
         },
         {
          "section": "S008",
          "stack": "lil_EM",
          "z": 8
         },
         {
          "section": "S008",
          "stack": "lil_EM",
          "z": 8
         },
         {
          "section": "S008",
          "stack": "lil_EM",
          "z": 8
         },
         {
          "section": "S008",
          "stack": "lil_EM",
          "z": 8
         },
         {
          "section": "S008",
          "stack": "lil_EM",
          "z": 8
         },
         {
          "section": "S008",
          "stack": "lil_EM",
          "z": 8
         },
         {
          "section": "S008",
          "stack": "lil_EM",
          "z": 8
         },
         {
          "section": "S008",
          "stack": "lil_EM",
          "z": 8
         },
         {
          "section": "S008",
          "stack": "lil_EM",
          "z": 8
         },
         {
          "section": "S008",
          "stack": "lil_EM",
          "z": 8
         },
         {
          "section": "S008",
          "stack": "lil_EM",
          "z": 8
         },
         {
          "section": "S008",
          "stack": "lil_EM",
          "z": 8
         },
         {
          "section": "S008",
          "stack": "lil_EM",
          "z": 8
         },
         {
          "section": "S008",
          "stack": "lil_EM",
          "z": 8
         },
         {
          "section": "S008",
          "stack": "lil_EM",
          "z": 8
         },
         {
          "section": "S008",
          "stack": "lil_EM",
          "z": 8
         },
         {
          "section": "S008",
          "stack": "lil_EM",
          "z": 8
         },
         {
          "section": "S008",
          "stack": "lil_EM",
          "z": 8
         },
         {
          "section": "S008",
          "stack": "lil_EM",
          "z": 8
         },
         {
          "section": "S008",
          "stack": "lil_EM",
          "z": 8
         },
         {
          "section": "S008",
          "stack": "lil_EM",
          "z": 8
         },
         {
          "section": "S008",
          "stack": "lil_EM",
          "z": 8
         },
         {
          "section": "S008",
          "stack": "lil_EM",
          "z": 8
         },
         {
          "section": "S008",
          "stack": "lil_EM",
          "z": 8
         },
         {
          "section": "S008",
          "stack": "lil_EM",
          "z": 8
         },
         {
          "section": "S008",
          "stack": "lil_EM",
          "z": 8
         },
         {
          "section": "S008",
          "stack": "lil_EM",
          "z": 8
         },
         {
          "section": "S008",
          "stack": "lil_EM",
          "z": 8
         },
         {
          "section": "S008",
          "stack": "lil_EM",
          "z": 8
         },
         {
          "section": "S008",
          "stack": "lil_EM",
          "z": 8
         },
         {
          "section": "S008",
          "stack": "lil_EM",
          "z": 8
         },
         {
          "section": "S008",
          "stack": "lil_EM",
          "z": 8
         },
         {
          "section": "S008",
          "stack": "lil_EM",
          "z": 8
         },
         {
          "section": "S008",
          "stack": "lil_EM",
          "z": 8
         },
         {
          "section": "S008",
          "stack": "lil_EM",
          "z": 8
         },
         {
          "section": "S008",
          "stack": "lil_EM",
          "z": 8
         },
         {
          "section": "S008",
          "stack": "lil_EM",
          "z": 8
         },
         {
          "section": "S008",
          "stack": "lil_EM",
          "z": 8
         },
         {
          "section": "S008",
          "stack": "lil_EM",
          "z": 8
         },
         {
          "section": "S008",
          "stack": "lil_EM",
          "z": 8
         },
         {
          "section": "S008",
          "stack": "lil_EM",
          "z": 8
         },
         {
          "section": "S008",
          "stack": "lil_EM",
          "z": 8
         },
         {
          "section": "S008",
          "stack": "lil_EM",
          "z": 8
         },
         {
          "section": "S008",
          "stack": "lil_EM",
          "z": 8
         },
         {
          "section": "S008",
          "stack": "lil_EM",
          "z": 8
         },
         {
          "section": "S008",
          "stack": "lil_EM",
          "z": 8
         },
         {
          "section": "S008",
          "stack": "lil_EM",
          "z": 8
         },
         {
          "section": "S008",
          "stack": "lil_EM",
          "z": 8
         },
         {
          "section": "S008",
          "stack": "lil_EM",
          "z": 8
         },
         {
          "section": "S008",
          "stack": "lil_EM",
          "z": 8
         },
         {
          "section": "S008",
          "stack": "lil_EM",
          "z": 8
         },
         {
          "section": "S008",
          "stack": "lil_EM",
          "z": 8
         },
         {
          "section": "S008",
          "stack": "lil_EM",
          "z": 8
         },
         {
          "section": "S008",
          "stack": "lil_EM",
          "z": 8
         },
         {
          "section": "S008",
          "stack": "lil_EM",
          "z": 8
         },
         {
          "section": "S008",
          "stack": "lil_EM",
          "z": 8
         },
         {
          "section": "S008",
          "stack": "lil_EM",
          "z": 8
         },
         {
          "section": "S008",
          "stack": "lil_EM",
          "z": 8
         },
         {
          "section": "S008",
          "stack": "lil_EM",
          "z": 8
         },
         {
          "section": "S008",
          "stack": "lil_EM",
          "z": 8
         },
         {
          "section": "S008",
          "stack": "lil_EM",
          "z": 8
         },
         {
          "section": "S008",
          "stack": "lil_EM",
          "z": 8
         },
         {
          "section": "S008",
          "stack": "lil_EM",
          "z": 8
         },
         {
          "section": "S008",
          "stack": "lil_EM",
          "z": 8
         },
         {
          "section": "S008",
          "stack": "lil_EM",
          "z": 8
         },
         {
          "section": "S008",
          "stack": "lil_EM",
          "z": 8
         },
         {
          "section": "S008",
          "stack": "lil_EM",
          "z": 8
         },
         {
          "section": "S008",
          "stack": "lil_EM",
          "z": 8
         },
         {
          "section": "S008",
          "stack": "lil_EM",
          "z": 8
         },
         {
          "section": "S008",
          "stack": "lil_EM",
          "z": 8
         },
         {
          "section": "S008",
          "stack": "lil_EM",
          "z": 8
         },
         {
          "section": "S008",
          "stack": "lil_EM",
          "z": 8
         },
         {
          "section": "S008",
          "stack": "lil_EM",
          "z": 8
         },
         {
          "section": "S008",
          "stack": "lil_EM",
          "z": 8
         },
         {
          "section": "S008",
          "stack": "lil_EM",
          "z": 8
         },
         {
          "section": "S008",
          "stack": "lil_EM",
          "z": 8
         },
         {
          "section": "S008",
          "stack": "lil_EM",
          "z": 8
         },
         {
          "section": "S008",
          "stack": "lil_EM",
          "z": 8
         },
         {
          "section": "S008",
          "stack": "lil_EM",
          "z": 8
         },
         {
          "section": "S008",
          "stack": "lil_EM",
          "z": 8
         },
         {
          "section": "S008",
          "stack": "lil_EM",
          "z": 8
         },
         {
          "section": "S008",
          "stack": "lil_EM",
          "z": 8
         },
         {
          "section": "S008",
          "stack": "lil_EM",
          "z": 8
         },
         {
          "section": "S008",
          "stack": "lil_EM",
          "z": 8
         },
         {
          "section": "S008",
          "stack": "lil_EM",
          "z": 8
         },
         {
          "section": "S008",
          "stack": "lil_EM",
          "z": 8
         },
         {
          "section": "S008",
          "stack": "lil_EM",
          "z": 8
         },
         {
          "section": "S008",
          "stack": "lil_EM",
          "z": 8
         },
         {
          "section": "S008",
          "stack": "lil_EM",
          "z": 8
         },
         {
          "section": "S008",
          "stack": "lil_EM",
          "z": 8
         },
         {
          "section": "S008",
          "stack": "lil_EM",
          "z": 8
         },
         {
          "section": "S008",
          "stack": "lil_EM",
          "z": 8
         },
         {
          "section": "S008",
          "stack": "lil_EM",
          "z": 8
         },
         {
          "section": "S008",
          "stack": "lil_EM",
          "z": 8
         },
         {
          "section": "S008",
          "stack": "lil_EM",
          "z": 8
         },
         {
          "section": "S008",
          "stack": "lil_EM",
          "z": 8
         },
         {
          "section": "S008",
          "stack": "lil_EM",
          "z": 8
         },
         {
          "section": "S008",
          "stack": "lil_EM",
          "z": 8
         },
         {
          "section": "S008",
          "stack": "lil_EM",
          "z": 8
         },
         {
          "section": "S008",
          "stack": "lil_EM",
          "z": 8
         },
         {
          "section": "S008",
          "stack": "lil_EM",
          "z": 8
         },
         {
          "section": "S008",
          "stack": "lil_EM",
          "z": 8
         },
         {
          "section": "S008",
          "stack": "lil_EM",
          "z": 8
         },
         {
          "section": "S008",
          "stack": "lil_EM",
          "z": 8
         },
         {
          "section": "S008",
          "stack": "lil_EM",
          "z": 8
         },
         {
          "section": "S008",
          "stack": "lil_EM",
          "z": 8
         },
         {
          "section": "S008",
          "stack": "lil_EM",
          "z": 8
         },
         {
          "section": "S008",
          "stack": "lil_EM",
          "z": 8
         },
         {
          "section": "S008",
          "stack": "lil_EM",
          "z": 8
         },
         {
          "section": "S008",
          "stack": "lil_EM",
          "z": 8
         },
         {
          "section": "S008",
          "stack": "lil_EM",
          "z": 8
         },
         {
          "section": "S008",
          "stack": "lil_EM",
          "z": 8
         },
         {
          "section": "S008",
          "stack": "lil_EM",
          "z": 8
         },
         {
          "section": "S008",
          "stack": "lil_EM",
          "z": 8
         },
         {
          "section": "S008",
          "stack": "lil_EM",
          "z": 8
         },
         {
          "section": "S008",
          "stack": "lil_EM",
          "z": 8
         },
         {
          "section": "S008",
          "stack": "lil_EM",
          "z": 8
         },
         {
          "section": "S008",
          "stack": "lil_EM",
          "z": 8
         },
         {
          "section": "S008",
          "stack": "lil_EM",
          "z": 8
         },
         {
          "section": "S008",
          "stack": "lil_EM",
          "z": 8
         },
         {
          "section": "S008",
          "stack": "lil_EM",
          "z": 8
         },
         {
          "section": "S008",
          "stack": "lil_EM",
          "z": 8
         },
         {
          "section": "S008",
          "stack": "lil_EM",
          "z": 8
         },
         {
          "section": "S008",
          "stack": "lil_EM",
          "z": 8
         },
         {
          "section": "S008",
          "stack": "lil_EM",
          "z": 8
         },
         {
          "section": "S008",
          "stack": "lil_EM",
          "z": 8
         },
         {
          "section": "S008",
          "stack": "lil_EM",
          "z": 8
         },
         {
          "section": "S008",
          "stack": "lil_EM",
          "z": 8
         },
         {
          "section": "S008",
          "stack": "lil_EM",
          "z": 8
         },
         {
          "section": "S008",
          "stack": "lil_EM",
          "z": 8
         },
         {
          "section": "S008",
          "stack": "lil_EM",
          "z": 8
         },
         {
          "section": "S008",
          "stack": "lil_EM",
          "z": 8
         },
         {
          "section": "S008",
          "stack": "lil_EM",
          "z": 8
         },
         {
          "section": "S008",
          "stack": "lil_EM",
          "z": 8
         },
         {
          "section": "S008",
          "stack": "lil_EM",
          "z": 8
         },
         {
          "section": "S008",
          "stack": "lil_EM",
          "z": 8
         },
         {
          "section": "S008",
          "stack": "lil_EM",
          "z": 8
         },
         {
          "section": "S008",
          "stack": "lil_EM",
          "z": 8
         },
         {
          "section": "S008",
          "stack": "lil_EM",
          "z": 8
         },
         {
          "section": "S008",
          "stack": "lil_EM",
          "z": 8
         },
         {
          "section": "S008",
          "stack": "lil_EM",
          "z": 8
         },
         {
          "section": "S008",
          "stack": "lil_EM",
          "z": 8
         },
         {
          "section": "S008",
          "stack": "lil_EM",
          "z": 8
         },
         {
          "section": "S008",
          "stack": "lil_EM",
          "z": 8
         },
         {
          "section": "S008",
          "stack": "lil_EM",
          "z": 8
         },
         {
          "section": "S008",
          "stack": "lil_EM",
          "z": 8
         },
         {
          "section": "S008",
          "stack": "lil_EM",
          "z": 8
         },
         {
          "section": "S008",
          "stack": "lil_EM",
          "z": 8
         },
         {
          "section": "S008",
          "stack": "lil_EM",
          "z": 8
         },
         {
          "section": "S008",
          "stack": "lil_EM",
          "z": 8
         },
         {
          "section": "S008",
          "stack": "lil_EM",
          "z": 8
         },
         {
          "section": "S008",
          "stack": "lil_EM",
          "z": 8
         },
         {
          "section": "S008",
          "stack": "lil_EM",
          "z": 8
         },
         {
          "section": "S008",
          "stack": "lil_EM",
          "z": 8
         },
         {
          "section": "S008",
          "stack": "lil_EM",
          "z": 8
         },
         {
          "section": "S008",
          "stack": "lil_EM",
          "z": 8
         },
         {
          "section": "S008",
          "stack": "lil_EM",
          "z": 8
         },
         {
          "section": "S008",
          "stack": "lil_EM",
          "z": 8
         },
         {
          "section": "S008",
          "stack": "lil_EM",
          "z": 8
         },
         {
          "section": "S008",
          "stack": "lil_EM",
          "z": 8
         },
         {
          "section": "S008",
          "stack": "lil_EM",
          "z": 8
         },
         {
          "section": "S008",
          "stack": "lil_EM",
          "z": 8
         },
         {
          "section": "S008",
          "stack": "lil_EM",
          "z": 8
         },
         {
          "section": "S008",
          "stack": "lil_EM",
          "z": 8
         },
         {
          "section": "S008",
          "stack": "lil_EM",
          "z": 8
         },
         {
          "section": "S008",
          "stack": "lil_EM",
          "z": 8
         },
         {
          "section": "S008",
          "stack": "lil_EM",
          "z": 8
         },
         {
          "section": "S008",
          "stack": "lil_EM",
          "z": 8
         },
         {
          "section": "S008",
          "stack": "lil_EM",
          "z": 8
         },
         {
          "section": "S008",
          "stack": "lil_EM",
          "z": 8
         },
         {
          "section": "S008",
          "stack": "lil_EM",
          "z": 8
         },
         {
          "section": "S008",
          "stack": "lil_EM",
          "z": 8
         },
         {
          "section": "S008",
          "stack": "lil_EM",
          "z": 8
         },
         {
          "section": "S008",
          "stack": "lil_EM",
          "z": 8
         },
         {
          "section": "S008",
          "stack": "lil_EM",
          "z": 8
         },
         {
          "section": "S008",
          "stack": "lil_EM",
          "z": 8
         },
         {
          "section": "S008",
          "stack": "lil_EM",
          "z": 8
         },
         {
          "section": "S008",
          "stack": "lil_EM",
          "z": 8
         },
         {
          "section": "S008",
          "stack": "lil_EM",
          "z": 8
         },
         {
          "section": "S008",
          "stack": "lil_EM",
          "z": 8
         },
         {
          "section": "S008",
          "stack": "lil_EM",
          "z": 8
         },
         {
          "section": "S008",
          "stack": "lil_EM",
          "z": 8
         },
         {
          "section": "S008",
          "stack": "lil_EM",
          "z": 8
         },
         {
          "section": "S008",
          "stack": "lil_EM",
          "z": 8
         },
         {
          "section": "S008",
          "stack": "lil_EM",
          "z": 8
         },
         {
          "section": "S008",
          "stack": "lil_EM",
          "z": 8
         },
         {
          "section": "S008",
          "stack": "lil_EM",
          "z": 8
         },
         {
          "section": "S008",
          "stack": "lil_EM",
          "z": 8
         },
         {
          "section": "S008",
          "stack": "lil_EM",
          "z": 8
         },
         {
          "section": "S008",
          "stack": "lil_EM",
          "z": 8
         },
         {
          "section": "S008",
          "stack": "lil_EM",
          "z": 8
         },
         {
          "section": "S008",
          "stack": "lil_EM",
          "z": 8
         },
         {
          "section": "S008",
          "stack": "lil_EM",
          "z": 8
         },
         {
          "section": "S008",
          "stack": "lil_EM",
          "z": 8
         },
         {
          "section": "S008",
          "stack": "lil_EM",
          "z": 8
         },
         {
          "section": "S008",
          "stack": "lil_EM",
          "z": 8
         },
         {
          "section": "S008",
          "stack": "lil_EM",
          "z": 8
         },
         {
          "section": "S008",
          "stack": "lil_EM",
          "z": 8
         },
         {
          "section": "S008",
          "stack": "lil_EM",
          "z": 8
         },
         {
          "section": "S008",
          "stack": "lil_EM",
          "z": 8
         },
         {
          "section": "S008",
          "stack": "lil_EM",
          "z": 8
         },
         {
          "section": "S008",
          "stack": "lil_EM",
          "z": 8
         },
         {
          "section": "S008",
          "stack": "lil_EM",
          "z": 8
         },
         {
          "section": "S008",
          "stack": "lil_EM",
          "z": 8
         },
         {
          "section": "S008",
          "stack": "lil_EM",
          "z": 8
         },
         {
          "section": "S008",
          "stack": "lil_EM",
          "z": 8
         },
         {
          "section": "S008",
          "stack": "lil_EM",
          "z": 8
         },
         {
          "section": "S008",
          "stack": "lil_EM",
          "z": 8
         },
         {
          "section": "S008",
          "stack": "lil_EM",
          "z": 8
         },
         {
          "section": "S008",
          "stack": "lil_EM",
          "z": 8
         },
         {
          "section": "S008",
          "stack": "lil_EM",
          "z": 8
         },
         {
          "section": "S008",
          "stack": "lil_EM",
          "z": 8
         },
         {
          "section": "S008",
          "stack": "lil_EM",
          "z": 8
         },
         {
          "section": "S008",
          "stack": "lil_EM",
          "z": 8
         },
         {
          "section": "S008",
          "stack": "lil_EM",
          "z": 8
         },
         {
          "section": "S008",
          "stack": "lil_EM",
          "z": 8
         },
         {
          "section": "S008",
          "stack": "lil_EM",
          "z": 8
         },
         {
          "section": "S008",
          "stack": "lil_EM",
          "z": 8
         },
         {
          "section": "S008",
          "stack": "lil_EM",
          "z": 8
         },
         {
          "section": "S008",
          "stack": "lil_EM",
          "z": 8
         },
         {
          "section": "S008",
          "stack": "lil_EM",
          "z": 8
         },
         {
          "section": "S008",
          "stack": "lil_EM",
          "z": 8
         },
         {
          "section": "S008",
          "stack": "lil_EM",
          "z": 8
         },
         {
          "section": "S008",
          "stack": "lil_EM",
          "z": 8
         },
         {
          "section": "S008",
          "stack": "lil_EM",
          "z": 8
         },
         {
          "section": "S008",
          "stack": "lil_EM",
          "z": 8
         },
         {
          "section": "S008",
          "stack": "lil_EM",
          "z": 8
         },
         {
          "section": "S008",
          "stack": "lil_EM",
          "z": 8
         },
         {
          "section": "S008",
          "stack": "lil_EM",
          "z": 8
         },
         {
          "section": "S008",
          "stack": "lil_EM",
          "z": 8
         },
         {
          "section": "S008",
          "stack": "lil_EM",
          "z": 8
         },
         {
          "section": "S008",
          "stack": "lil_EM",
          "z": 8
         },
         {
          "section": "S008",
          "stack": "lil_EM",
          "z": 8
         },
         {
          "section": "S008",
          "stack": "lil_EM",
          "z": 8
         },
         {
          "section": "S008",
          "stack": "lil_EM",
          "z": 8
         },
         {
          "section": "S008",
          "stack": "lil_EM",
          "z": 8
         },
         {
          "section": "S008",
          "stack": "lil_EM",
          "z": 8
         },
         {
          "section": "S008",
          "stack": "lil_EM",
          "z": 8
         },
         {
          "section": "S008",
          "stack": "lil_EM",
          "z": 8
         },
         {
          "section": "S008",
          "stack": "lil_EM",
          "z": 8
         },
         {
          "section": "S008",
          "stack": "lil_EM",
          "z": 8
         },
         {
          "section": "S008",
          "stack": "lil_EM",
          "z": 8
         },
         {
          "section": "S008",
          "stack": "lil_EM",
          "z": 8
         },
         {
          "section": "S008",
          "stack": "lil_EM",
          "z": 8
         },
         {
          "section": "S008",
          "stack": "lil_EM",
          "z": 8
         },
         {
          "section": "S008",
          "stack": "lil_EM",
          "z": 8
         },
         {
          "section": "S008",
          "stack": "lil_EM",
          "z": 8
         },
         {
          "section": "S008",
          "stack": "lil_EM",
          "z": 8
         },
         {
          "section": "S008",
          "stack": "lil_EM",
          "z": 8
         },
         {
          "section": "S008",
          "stack": "lil_EM",
          "z": 8
         },
         {
          "section": "S008",
          "stack": "lil_EM",
          "z": 8
         },
         {
          "section": "S008",
          "stack": "lil_EM",
          "z": 8
         },
         {
          "section": "S008",
          "stack": "lil_EM",
          "z": 8
         },
         {
          "section": "S008",
          "stack": "lil_EM",
          "z": 8
         },
         {
          "section": "S008",
          "stack": "lil_EM",
          "z": 8
         },
         {
          "section": "S008",
          "stack": "lil_EM",
          "z": 8
         },
         {
          "section": "S008",
          "stack": "lil_EM",
          "z": 8
         },
         {
          "section": "S008",
          "stack": "lil_EM",
          "z": 8
         },
         {
          "section": "S008",
          "stack": "lil_EM",
          "z": 8
         },
         {
          "section": "S008",
          "stack": "lil_EM",
          "z": 8
         },
         {
          "section": "S008",
          "stack": "lil_EM",
          "z": 8
         },
         {
          "section": "S008",
          "stack": "lil_EM",
          "z": 8
         },
         {
          "section": "S008",
          "stack": "lil_EM",
          "z": 8
         },
         {
          "section": "S008",
          "stack": "lil_EM",
          "z": 8
         },
         {
          "section": "S008",
          "stack": "lil_EM",
          "z": 8
         },
         {
          "section": "S008",
          "stack": "lil_EM",
          "z": 8
         },
         {
          "section": "S008",
          "stack": "lil_EM",
          "z": 8
         },
         {
          "section": "S008",
          "stack": "lil_EM",
          "z": 8
         },
         {
          "section": "S008",
          "stack": "lil_EM",
          "z": 8
         },
         {
          "section": "S008",
          "stack": "lil_EM",
          "z": 8
         },
         {
          "section": "S008",
          "stack": "lil_EM",
          "z": 8
         },
         {
          "section": "S008",
          "stack": "lil_EM",
          "z": 8
         },
         {
          "section": "S008",
          "stack": "lil_EM",
          "z": 8
         },
         {
          "section": "S008",
          "stack": "lil_EM",
          "z": 8
         },
         {
          "section": "S008",
          "stack": "lil_EM",
          "z": 8
         },
         {
          "section": "S009",
          "stack": "hoechst",
          "z": 9
         },
         {
          "section": "S009",
          "stack": "hoechst",
          "z": 9
         },
         {
          "section": "S009",
          "stack": "hoechst",
          "z": 9
         },
         {
          "section": "S009",
          "stack": "hoechst",
          "z": 9
         },
         {
          "section": "S009",
          "stack": "hoechst",
          "z": 9
         },
         {
          "section": "S009",
          "stack": "hoechst",
          "z": 9
         },
         {
          "section": "S009",
          "stack": "hoechst",
          "z": 9
         },
         {
          "section": "S009",
          "stack": "hoechst",
          "z": 9
         },
         {
          "section": "S009",
          "stack": "hoechst",
          "z": 9
         },
         {
          "section": "S009",
          "stack": "hoechst",
          "z": 9
         },
         {
          "section": "S009",
          "stack": "hoechst",
          "z": 9
         },
         {
          "section": "S009",
          "stack": "hoechst",
          "z": 9
         },
         {
          "section": "S009",
          "stack": "insulin",
          "z": 9
         },
         {
          "section": "S009",
          "stack": "insulin",
          "z": 9
         },
         {
          "section": "S009",
          "stack": "insulin",
          "z": 9
         },
         {
          "section": "S009",
          "stack": "insulin",
          "z": 9
         },
         {
          "section": "S009",
          "stack": "insulin",
          "z": 9
         },
         {
          "section": "S009",
          "stack": "insulin",
          "z": 9
         },
         {
          "section": "S009",
          "stack": "insulin",
          "z": 9
         },
         {
          "section": "S009",
          "stack": "insulin",
          "z": 9
         },
         {
          "section": "S009",
          "stack": "insulin",
          "z": 9
         },
         {
          "section": "S009",
          "stack": "insulin",
          "z": 9
         },
         {
          "section": "S009",
          "stack": "insulin",
          "z": 9
         },
         {
          "section": "S009",
          "stack": "insulin",
          "z": 9
         },
         {
          "section": "S009",
          "stack": "big_EM",
          "z": 9
         },
         {
          "section": "S009",
          "stack": "big_EM",
          "z": 9
         },
         {
          "section": "S009",
          "stack": "big_EM",
          "z": 9
         },
         {
          "section": "S009",
          "stack": "big_EM",
          "z": 9
         },
         {
          "section": "S009",
          "stack": "big_EM",
          "z": 9
         },
         {
          "section": "S009",
          "stack": "big_EM",
          "z": 9
         },
         {
          "section": "S009",
          "stack": "big_EM",
          "z": 9
         },
         {
          "section": "S009",
          "stack": "big_EM",
          "z": 9
         },
         {
          "section": "S009",
          "stack": "big_EM",
          "z": 9
         },
         {
          "section": "S009",
          "stack": "big_EM",
          "z": 9
         },
         {
          "section": "S009",
          "stack": "big_EM",
          "z": 9
         },
         {
          "section": "S009",
          "stack": "big_EM",
          "z": 9
         },
         {
          "section": "S009",
          "stack": "lil_EM",
          "z": 9
         },
         {
          "section": "S009",
          "stack": "lil_EM",
          "z": 9
         },
         {
          "section": "S009",
          "stack": "lil_EM",
          "z": 9
         },
         {
          "section": "S009",
          "stack": "lil_EM",
          "z": 9
         },
         {
          "section": "S009",
          "stack": "lil_EM",
          "z": 9
         },
         {
          "section": "S009",
          "stack": "lil_EM",
          "z": 9
         },
         {
          "section": "S009",
          "stack": "lil_EM",
          "z": 9
         },
         {
          "section": "S009",
          "stack": "lil_EM",
          "z": 9
         },
         {
          "section": "S009",
          "stack": "lil_EM",
          "z": 9
         },
         {
          "section": "S009",
          "stack": "lil_EM",
          "z": 9
         },
         {
          "section": "S009",
          "stack": "lil_EM",
          "z": 9
         },
         {
          "section": "S009",
          "stack": "lil_EM",
          "z": 9
         },
         {
          "section": "S009",
          "stack": "lil_EM",
          "z": 9
         },
         {
          "section": "S009",
          "stack": "lil_EM",
          "z": 9
         },
         {
          "section": "S009",
          "stack": "lil_EM",
          "z": 9
         },
         {
          "section": "S009",
          "stack": "lil_EM",
          "z": 9
         },
         {
          "section": "S009",
          "stack": "lil_EM",
          "z": 9
         },
         {
          "section": "S009",
          "stack": "lil_EM",
          "z": 9
         },
         {
          "section": "S009",
          "stack": "lil_EM",
          "z": 9
         },
         {
          "section": "S009",
          "stack": "lil_EM",
          "z": 9
         },
         {
          "section": "S009",
          "stack": "lil_EM",
          "z": 9
         },
         {
          "section": "S009",
          "stack": "lil_EM",
          "z": 9
         },
         {
          "section": "S009",
          "stack": "lil_EM",
          "z": 9
         },
         {
          "section": "S009",
          "stack": "lil_EM",
          "z": 9
         },
         {
          "section": "S009",
          "stack": "lil_EM",
          "z": 9
         },
         {
          "section": "S009",
          "stack": "lil_EM",
          "z": 9
         },
         {
          "section": "S009",
          "stack": "lil_EM",
          "z": 9
         },
         {
          "section": "S009",
          "stack": "lil_EM",
          "z": 9
         },
         {
          "section": "S009",
          "stack": "lil_EM",
          "z": 9
         },
         {
          "section": "S009",
          "stack": "lil_EM",
          "z": 9
         },
         {
          "section": "S009",
          "stack": "lil_EM",
          "z": 9
         },
         {
          "section": "S009",
          "stack": "lil_EM",
          "z": 9
         },
         {
          "section": "S009",
          "stack": "lil_EM",
          "z": 9
         },
         {
          "section": "S009",
          "stack": "lil_EM",
          "z": 9
         },
         {
          "section": "S009",
          "stack": "lil_EM",
          "z": 9
         },
         {
          "section": "S009",
          "stack": "lil_EM",
          "z": 9
         },
         {
          "section": "S009",
          "stack": "lil_EM",
          "z": 9
         },
         {
          "section": "S009",
          "stack": "lil_EM",
          "z": 9
         },
         {
          "section": "S009",
          "stack": "lil_EM",
          "z": 9
         },
         {
          "section": "S009",
          "stack": "lil_EM",
          "z": 9
         },
         {
          "section": "S009",
          "stack": "lil_EM",
          "z": 9
         },
         {
          "section": "S009",
          "stack": "lil_EM",
          "z": 9
         },
         {
          "section": "S009",
          "stack": "lil_EM",
          "z": 9
         },
         {
          "section": "S009",
          "stack": "lil_EM",
          "z": 9
         },
         {
          "section": "S009",
          "stack": "lil_EM",
          "z": 9
         },
         {
          "section": "S009",
          "stack": "lil_EM",
          "z": 9
         },
         {
          "section": "S009",
          "stack": "lil_EM",
          "z": 9
         },
         {
          "section": "S009",
          "stack": "lil_EM",
          "z": 9
         },
         {
          "section": "S009",
          "stack": "lil_EM",
          "z": 9
         },
         {
          "section": "S009",
          "stack": "lil_EM",
          "z": 9
         },
         {
          "section": "S009",
          "stack": "lil_EM",
          "z": 9
         },
         {
          "section": "S009",
          "stack": "lil_EM",
          "z": 9
         },
         {
          "section": "S009",
          "stack": "lil_EM",
          "z": 9
         },
         {
          "section": "S009",
          "stack": "lil_EM",
          "z": 9
         },
         {
          "section": "S009",
          "stack": "lil_EM",
          "z": 9
         },
         {
          "section": "S009",
          "stack": "lil_EM",
          "z": 9
         },
         {
          "section": "S009",
          "stack": "lil_EM",
          "z": 9
         },
         {
          "section": "S009",
          "stack": "lil_EM",
          "z": 9
         },
         {
          "section": "S009",
          "stack": "lil_EM",
          "z": 9
         },
         {
          "section": "S009",
          "stack": "lil_EM",
          "z": 9
         },
         {
          "section": "S009",
          "stack": "lil_EM",
          "z": 9
         },
         {
          "section": "S009",
          "stack": "lil_EM",
          "z": 9
         },
         {
          "section": "S009",
          "stack": "lil_EM",
          "z": 9
         },
         {
          "section": "S009",
          "stack": "lil_EM",
          "z": 9
         },
         {
          "section": "S009",
          "stack": "lil_EM",
          "z": 9
         },
         {
          "section": "S009",
          "stack": "lil_EM",
          "z": 9
         },
         {
          "section": "S009",
          "stack": "lil_EM",
          "z": 9
         },
         {
          "section": "S009",
          "stack": "lil_EM",
          "z": 9
         },
         {
          "section": "S009",
          "stack": "lil_EM",
          "z": 9
         },
         {
          "section": "S009",
          "stack": "lil_EM",
          "z": 9
         },
         {
          "section": "S009",
          "stack": "lil_EM",
          "z": 9
         },
         {
          "section": "S009",
          "stack": "lil_EM",
          "z": 9
         },
         {
          "section": "S009",
          "stack": "lil_EM",
          "z": 9
         },
         {
          "section": "S009",
          "stack": "lil_EM",
          "z": 9
         },
         {
          "section": "S009",
          "stack": "lil_EM",
          "z": 9
         },
         {
          "section": "S009",
          "stack": "lil_EM",
          "z": 9
         },
         {
          "section": "S009",
          "stack": "lil_EM",
          "z": 9
         },
         {
          "section": "S009",
          "stack": "lil_EM",
          "z": 9
         },
         {
          "section": "S009",
          "stack": "lil_EM",
          "z": 9
         },
         {
          "section": "S009",
          "stack": "lil_EM",
          "z": 9
         },
         {
          "section": "S009",
          "stack": "lil_EM",
          "z": 9
         },
         {
          "section": "S009",
          "stack": "lil_EM",
          "z": 9
         },
         {
          "section": "S009",
          "stack": "lil_EM",
          "z": 9
         },
         {
          "section": "S009",
          "stack": "lil_EM",
          "z": 9
         },
         {
          "section": "S009",
          "stack": "lil_EM",
          "z": 9
         },
         {
          "section": "S009",
          "stack": "lil_EM",
          "z": 9
         },
         {
          "section": "S009",
          "stack": "lil_EM",
          "z": 9
         },
         {
          "section": "S009",
          "stack": "lil_EM",
          "z": 9
         },
         {
          "section": "S009",
          "stack": "lil_EM",
          "z": 9
         },
         {
          "section": "S009",
          "stack": "lil_EM",
          "z": 9
         },
         {
          "section": "S009",
          "stack": "lil_EM",
          "z": 9
         },
         {
          "section": "S009",
          "stack": "lil_EM",
          "z": 9
         },
         {
          "section": "S009",
          "stack": "lil_EM",
          "z": 9
         },
         {
          "section": "S009",
          "stack": "lil_EM",
          "z": 9
         },
         {
          "section": "S009",
          "stack": "lil_EM",
          "z": 9
         },
         {
          "section": "S009",
          "stack": "lil_EM",
          "z": 9
         },
         {
          "section": "S009",
          "stack": "lil_EM",
          "z": 9
         },
         {
          "section": "S009",
          "stack": "lil_EM",
          "z": 9
         },
         {
          "section": "S009",
          "stack": "lil_EM",
          "z": 9
         },
         {
          "section": "S009",
          "stack": "lil_EM",
          "z": 9
         },
         {
          "section": "S009",
          "stack": "lil_EM",
          "z": 9
         },
         {
          "section": "S009",
          "stack": "lil_EM",
          "z": 9
         },
         {
          "section": "S009",
          "stack": "lil_EM",
          "z": 9
         },
         {
          "section": "S009",
          "stack": "lil_EM",
          "z": 9
         },
         {
          "section": "S009",
          "stack": "lil_EM",
          "z": 9
         },
         {
          "section": "S009",
          "stack": "lil_EM",
          "z": 9
         },
         {
          "section": "S009",
          "stack": "lil_EM",
          "z": 9
         },
         {
          "section": "S009",
          "stack": "lil_EM",
          "z": 9
         },
         {
          "section": "S009",
          "stack": "lil_EM",
          "z": 9
         },
         {
          "section": "S009",
          "stack": "lil_EM",
          "z": 9
         },
         {
          "section": "S009",
          "stack": "lil_EM",
          "z": 9
         },
         {
          "section": "S009",
          "stack": "lil_EM",
          "z": 9
         },
         {
          "section": "S009",
          "stack": "lil_EM",
          "z": 9
         },
         {
          "section": "S009",
          "stack": "lil_EM",
          "z": 9
         },
         {
          "section": "S009",
          "stack": "lil_EM",
          "z": 9
         },
         {
          "section": "S009",
          "stack": "lil_EM",
          "z": 9
         },
         {
          "section": "S009",
          "stack": "lil_EM",
          "z": 9
         },
         {
          "section": "S009",
          "stack": "lil_EM",
          "z": 9
         },
         {
          "section": "S009",
          "stack": "lil_EM",
          "z": 9
         },
         {
          "section": "S009",
          "stack": "lil_EM",
          "z": 9
         },
         {
          "section": "S009",
          "stack": "lil_EM",
          "z": 9
         },
         {
          "section": "S009",
          "stack": "lil_EM",
          "z": 9
         },
         {
          "section": "S009",
          "stack": "lil_EM",
          "z": 9
         },
         {
          "section": "S009",
          "stack": "lil_EM",
          "z": 9
         },
         {
          "section": "S009",
          "stack": "lil_EM",
          "z": 9
         },
         {
          "section": "S009",
          "stack": "lil_EM",
          "z": 9
         },
         {
          "section": "S009",
          "stack": "lil_EM",
          "z": 9
         },
         {
          "section": "S009",
          "stack": "lil_EM",
          "z": 9
         },
         {
          "section": "S009",
          "stack": "lil_EM",
          "z": 9
         },
         {
          "section": "S009",
          "stack": "lil_EM",
          "z": 9
         },
         {
          "section": "S009",
          "stack": "lil_EM",
          "z": 9
         },
         {
          "section": "S009",
          "stack": "lil_EM",
          "z": 9
         },
         {
          "section": "S009",
          "stack": "lil_EM",
          "z": 9
         },
         {
          "section": "S009",
          "stack": "lil_EM",
          "z": 9
         },
         {
          "section": "S009",
          "stack": "lil_EM",
          "z": 9
         },
         {
          "section": "S009",
          "stack": "lil_EM",
          "z": 9
         },
         {
          "section": "S009",
          "stack": "lil_EM",
          "z": 9
         },
         {
          "section": "S009",
          "stack": "lil_EM",
          "z": 9
         },
         {
          "section": "S009",
          "stack": "lil_EM",
          "z": 9
         },
         {
          "section": "S009",
          "stack": "lil_EM",
          "z": 9
         },
         {
          "section": "S009",
          "stack": "lil_EM",
          "z": 9
         },
         {
          "section": "S009",
          "stack": "lil_EM",
          "z": 9
         },
         {
          "section": "S009",
          "stack": "lil_EM",
          "z": 9
         },
         {
          "section": "S009",
          "stack": "lil_EM",
          "z": 9
         },
         {
          "section": "S009",
          "stack": "lil_EM",
          "z": 9
         },
         {
          "section": "S009",
          "stack": "lil_EM",
          "z": 9
         },
         {
          "section": "S009",
          "stack": "lil_EM",
          "z": 9
         },
         {
          "section": "S009",
          "stack": "lil_EM",
          "z": 9
         },
         {
          "section": "S009",
          "stack": "lil_EM",
          "z": 9
         },
         {
          "section": "S009",
          "stack": "lil_EM",
          "z": 9
         },
         {
          "section": "S009",
          "stack": "lil_EM",
          "z": 9
         },
         {
          "section": "S009",
          "stack": "lil_EM",
          "z": 9
         },
         {
          "section": "S009",
          "stack": "lil_EM",
          "z": 9
         },
         {
          "section": "S009",
          "stack": "lil_EM",
          "z": 9
         },
         {
          "section": "S009",
          "stack": "lil_EM",
          "z": 9
         },
         {
          "section": "S009",
          "stack": "lil_EM",
          "z": 9
         },
         {
          "section": "S009",
          "stack": "lil_EM",
          "z": 9
         },
         {
          "section": "S009",
          "stack": "lil_EM",
          "z": 9
         },
         {
          "section": "S009",
          "stack": "lil_EM",
          "z": 9
         },
         {
          "section": "S009",
          "stack": "lil_EM",
          "z": 9
         },
         {
          "section": "S009",
          "stack": "lil_EM",
          "z": 9
         },
         {
          "section": "S009",
          "stack": "lil_EM",
          "z": 9
         },
         {
          "section": "S009",
          "stack": "lil_EM",
          "z": 9
         },
         {
          "section": "S009",
          "stack": "lil_EM",
          "z": 9
         },
         {
          "section": "S009",
          "stack": "lil_EM",
          "z": 9
         },
         {
          "section": "S009",
          "stack": "lil_EM",
          "z": 9
         },
         {
          "section": "S009",
          "stack": "lil_EM",
          "z": 9
         },
         {
          "section": "S009",
          "stack": "lil_EM",
          "z": 9
         },
         {
          "section": "S009",
          "stack": "lil_EM",
          "z": 9
         },
         {
          "section": "S009",
          "stack": "lil_EM",
          "z": 9
         },
         {
          "section": "S009",
          "stack": "lil_EM",
          "z": 9
         },
         {
          "section": "S009",
          "stack": "lil_EM",
          "z": 9
         },
         {
          "section": "S009",
          "stack": "lil_EM",
          "z": 9
         },
         {
          "section": "S009",
          "stack": "lil_EM",
          "z": 9
         },
         {
          "section": "S009",
          "stack": "lil_EM",
          "z": 9
         },
         {
          "section": "S009",
          "stack": "lil_EM",
          "z": 9
         },
         {
          "section": "S009",
          "stack": "lil_EM",
          "z": 9
         },
         {
          "section": "S009",
          "stack": "lil_EM",
          "z": 9
         },
         {
          "section": "S009",
          "stack": "lil_EM",
          "z": 9
         },
         {
          "section": "S009",
          "stack": "lil_EM",
          "z": 9
         },
         {
          "section": "S009",
          "stack": "lil_EM",
          "z": 9
         },
         {
          "section": "S009",
          "stack": "lil_EM",
          "z": 9
         },
         {
          "section": "S009",
          "stack": "lil_EM",
          "z": 9
         },
         {
          "section": "S009",
          "stack": "lil_EM",
          "z": 9
         },
         {
          "section": "S009",
          "stack": "lil_EM",
          "z": 9
         },
         {
          "section": "S009",
          "stack": "lil_EM",
          "z": 9
         },
         {
          "section": "S009",
          "stack": "lil_EM",
          "z": 9
         },
         {
          "section": "S009",
          "stack": "lil_EM",
          "z": 9
         },
         {
          "section": "S009",
          "stack": "lil_EM",
          "z": 9
         },
         {
          "section": "S009",
          "stack": "lil_EM",
          "z": 9
         },
         {
          "section": "S009",
          "stack": "lil_EM",
          "z": 9
         },
         {
          "section": "S009",
          "stack": "lil_EM",
          "z": 9
         },
         {
          "section": "S009",
          "stack": "lil_EM",
          "z": 9
         },
         {
          "section": "S009",
          "stack": "lil_EM",
          "z": 9
         },
         {
          "section": "S009",
          "stack": "lil_EM",
          "z": 9
         },
         {
          "section": "S009",
          "stack": "lil_EM",
          "z": 9
         },
         {
          "section": "S009",
          "stack": "lil_EM",
          "z": 9
         },
         {
          "section": "S009",
          "stack": "lil_EM",
          "z": 9
         },
         {
          "section": "S009",
          "stack": "lil_EM",
          "z": 9
         },
         {
          "section": "S009",
          "stack": "lil_EM",
          "z": 9
         },
         {
          "section": "S009",
          "stack": "lil_EM",
          "z": 9
         },
         {
          "section": "S009",
          "stack": "lil_EM",
          "z": 9
         },
         {
          "section": "S009",
          "stack": "lil_EM",
          "z": 9
         },
         {
          "section": "S009",
          "stack": "lil_EM",
          "z": 9
         },
         {
          "section": "S009",
          "stack": "lil_EM",
          "z": 9
         },
         {
          "section": "S009",
          "stack": "lil_EM",
          "z": 9
         },
         {
          "section": "S009",
          "stack": "lil_EM",
          "z": 9
         },
         {
          "section": "S009",
          "stack": "lil_EM",
          "z": 9
         },
         {
          "section": "S009",
          "stack": "lil_EM",
          "z": 9
         },
         {
          "section": "S009",
          "stack": "lil_EM",
          "z": 9
         },
         {
          "section": "S009",
          "stack": "lil_EM",
          "z": 9
         },
         {
          "section": "S009",
          "stack": "lil_EM",
          "z": 9
         },
         {
          "section": "S009",
          "stack": "lil_EM",
          "z": 9
         },
         {
          "section": "S009",
          "stack": "lil_EM",
          "z": 9
         },
         {
          "section": "S009",
          "stack": "lil_EM",
          "z": 9
         },
         {
          "section": "S009",
          "stack": "lil_EM",
          "z": 9
         },
         {
          "section": "S009",
          "stack": "lil_EM",
          "z": 9
         },
         {
          "section": "S009",
          "stack": "lil_EM",
          "z": 9
         },
         {
          "section": "S009",
          "stack": "lil_EM",
          "z": 9
         },
         {
          "section": "S009",
          "stack": "lil_EM",
          "z": 9
         },
         {
          "section": "S009",
          "stack": "lil_EM",
          "z": 9
         },
         {
          "section": "S009",
          "stack": "lil_EM",
          "z": 9
         },
         {
          "section": "S009",
          "stack": "lil_EM",
          "z": 9
         },
         {
          "section": "S009",
          "stack": "lil_EM",
          "z": 9
         },
         {
          "section": "S009",
          "stack": "lil_EM",
          "z": 9
         },
         {
          "section": "S009",
          "stack": "lil_EM",
          "z": 9
         },
         {
          "section": "S009",
          "stack": "lil_EM",
          "z": 9
         },
         {
          "section": "S009",
          "stack": "lil_EM",
          "z": 9
         },
         {
          "section": "S009",
          "stack": "lil_EM",
          "z": 9
         },
         {
          "section": "S009",
          "stack": "lil_EM",
          "z": 9
         },
         {
          "section": "S009",
          "stack": "lil_EM",
          "z": 9
         },
         {
          "section": "S009",
          "stack": "lil_EM",
          "z": 9
         },
         {
          "section": "S009",
          "stack": "lil_EM",
          "z": 9
         },
         {
          "section": "S009",
          "stack": "lil_EM",
          "z": 9
         },
         {
          "section": "S009",
          "stack": "lil_EM",
          "z": 9
         },
         {
          "section": "S009",
          "stack": "lil_EM",
          "z": 9
         },
         {
          "section": "S009",
          "stack": "lil_EM",
          "z": 9
         },
         {
          "section": "S009",
          "stack": "lil_EM",
          "z": 9
         },
         {
          "section": "S009",
          "stack": "lil_EM",
          "z": 9
         },
         {
          "section": "S009",
          "stack": "lil_EM",
          "z": 9
         },
         {
          "section": "S009",
          "stack": "lil_EM",
          "z": 9
         },
         {
          "section": "S009",
          "stack": "lil_EM",
          "z": 9
         },
         {
          "section": "S009",
          "stack": "lil_EM",
          "z": 9
         },
         {
          "section": "S009",
          "stack": "lil_EM",
          "z": 9
         },
         {
          "section": "S009",
          "stack": "lil_EM",
          "z": 9
         },
         {
          "section": "S009",
          "stack": "lil_EM",
          "z": 9
         },
         {
          "section": "S009",
          "stack": "lil_EM",
          "z": 9
         },
         {
          "section": "S009",
          "stack": "lil_EM",
          "z": 9
         },
         {
          "section": "S009",
          "stack": "lil_EM",
          "z": 9
         },
         {
          "section": "S009",
          "stack": "lil_EM",
          "z": 9
         },
         {
          "section": "S009",
          "stack": "lil_EM",
          "z": 9
         },
         {
          "section": "S009",
          "stack": "lil_EM",
          "z": 9
         },
         {
          "section": "S009",
          "stack": "lil_EM",
          "z": 9
         },
         {
          "section": "S009",
          "stack": "lil_EM",
          "z": 9
         },
         {
          "section": "S009",
          "stack": "lil_EM",
          "z": 9
         },
         {
          "section": "S009",
          "stack": "lil_EM",
          "z": 9
         },
         {
          "section": "S009",
          "stack": "lil_EM",
          "z": 9
         },
         {
          "section": "S009",
          "stack": "lil_EM",
          "z": 9
         },
         {
          "section": "S009",
          "stack": "lil_EM",
          "z": 9
         },
         {
          "section": "S009",
          "stack": "lil_EM",
          "z": 9
         },
         {
          "section": "S009",
          "stack": "lil_EM",
          "z": 9
         },
         {
          "section": "S009",
          "stack": "lil_EM",
          "z": 9
         },
         {
          "section": "S009",
          "stack": "lil_EM",
          "z": 9
         },
         {
          "section": "S009",
          "stack": "lil_EM",
          "z": 9
         },
         {
          "section": "S009",
          "stack": "lil_EM",
          "z": 9
         },
         {
          "section": "S009",
          "stack": "lil_EM",
          "z": 9
         },
         {
          "section": "S009",
          "stack": "lil_EM",
          "z": 9
         },
         {
          "section": "S009",
          "stack": "lil_EM",
          "z": 9
         },
         {
          "section": "S009",
          "stack": "lil_EM",
          "z": 9
         },
         {
          "section": "S009",
          "stack": "lil_EM",
          "z": 9
         },
         {
          "section": "S009",
          "stack": "lil_EM",
          "z": 9
         },
         {
          "section": "S009",
          "stack": "lil_EM",
          "z": 9
         },
         {
          "section": "S009",
          "stack": "lil_EM",
          "z": 9
         },
         {
          "section": "S009",
          "stack": "lil_EM",
          "z": 9
         },
         {
          "section": "S009",
          "stack": "lil_EM",
          "z": 9
         },
         {
          "section": "S009",
          "stack": "lil_EM",
          "z": 9
         },
         {
          "section": "S009",
          "stack": "lil_EM",
          "z": 9
         },
         {
          "section": "S009",
          "stack": "lil_EM",
          "z": 9
         },
         {
          "section": "S009",
          "stack": "lil_EM",
          "z": 9
         },
         {
          "section": "S009",
          "stack": "lil_EM",
          "z": 9
         },
         {
          "section": "S009",
          "stack": "lil_EM",
          "z": 9
         },
         {
          "section": "S009",
          "stack": "lil_EM",
          "z": 9
         },
         {
          "section": "S009",
          "stack": "lil_EM",
          "z": 9
         },
         {
          "section": "S009",
          "stack": "lil_EM",
          "z": 9
         },
         {
          "section": "S009",
          "stack": "lil_EM",
          "z": 9
         },
         {
          "section": "S009",
          "stack": "lil_EM",
          "z": 9
         },
         {
          "section": "S009",
          "stack": "lil_EM",
          "z": 9
         },
         {
          "section": "S009",
          "stack": "lil_EM",
          "z": 9
         },
         {
          "section": "S009",
          "stack": "lil_EM",
          "z": 9
         },
         {
          "section": "S009",
          "stack": "lil_EM",
          "z": 9
         },
         {
          "section": "S009",
          "stack": "lil_EM",
          "z": 9
         },
         {
          "section": "S009",
          "stack": "lil_EM",
          "z": 9
         },
         {
          "section": "S009",
          "stack": "lil_EM",
          "z": 9
         },
         {
          "section": "S009",
          "stack": "lil_EM",
          "z": 9
         },
         {
          "section": "S009",
          "stack": "lil_EM",
          "z": 9
         },
         {
          "section": "S009",
          "stack": "lil_EM",
          "z": 9
         },
         {
          "section": "S009",
          "stack": "lil_EM",
          "z": 9
         },
         {
          "section": "S009",
          "stack": "lil_EM",
          "z": 9
         },
         {
          "section": "S009",
          "stack": "lil_EM",
          "z": 9
         },
         {
          "section": "S009",
          "stack": "lil_EM",
          "z": 9
         },
         {
          "section": "S009",
          "stack": "lil_EM",
          "z": 9
         },
         {
          "section": "S009",
          "stack": "lil_EM",
          "z": 9
         },
         {
          "section": "S009",
          "stack": "lil_EM",
          "z": 9
         },
         {
          "section": "S009",
          "stack": "lil_EM",
          "z": 9
         },
         {
          "section": "S009",
          "stack": "lil_EM",
          "z": 9
         },
         {
          "section": "S009",
          "stack": "lil_EM",
          "z": 9
         },
         {
          "section": "S009",
          "stack": "lil_EM",
          "z": 9
         },
         {
          "section": "S009",
          "stack": "lil_EM",
          "z": 9
         },
         {
          "section": "S009",
          "stack": "lil_EM",
          "z": 9
         },
         {
          "section": "S009",
          "stack": "lil_EM",
          "z": 9
         },
         {
          "section": "S009",
          "stack": "lil_EM",
          "z": 9
         },
         {
          "section": "S009",
          "stack": "lil_EM",
          "z": 9
         },
         {
          "section": "S009",
          "stack": "lil_EM",
          "z": 9
         },
         {
          "section": "S009",
          "stack": "lil_EM",
          "z": 9
         },
         {
          "section": "S009",
          "stack": "lil_EM",
          "z": 9
         },
         {
          "section": "S009",
          "stack": "lil_EM",
          "z": 9
         },
         {
          "section": "S009",
          "stack": "lil_EM",
          "z": 9
         },
         {
          "section": "S009",
          "stack": "lil_EM",
          "z": 9
         },
         {
          "section": "S009",
          "stack": "lil_EM",
          "z": 9
         },
         {
          "section": "S009",
          "stack": "lil_EM",
          "z": 9
         }
        ]
       },
       "facet": {
        "column": {
         "field": "section",
         "type": "nominal"
        }
       },
       "spec": {
        "height": 150,
        "layer": [
         {
          "encoding": {
           "color": {
            "field": "stack",
            "type": "nominal"
           },
           "x": {
            "aggregate": "count",
            "type": "quantitative"
           },
           "y": {
            "field": "stack",
            "type": "nominal"
           }
          },
          "mark": "bar"
         },
         {
          "encoding": {
           "color": {
            "field": "stack",
            "type": "nominal"
           },
           "text": {
            "aggregate": "count",
            "type": "quantitative"
           },
           "x": {
            "aggregate": "count",
            "type": "quantitative"
           },
           "y": {
            "field": "stack",
            "type": "nominal"
           }
          },
          "mark": {
           "align": "left",
           "baseline": "middle",
           "type": "text"
          }
         }
        ],
        "width": 200
       }
      },
      "image/png": "[encoded data removed]",
      "text/plain": [
       "<VegaLite 3 object>\n",
       "\n",
       "If you see this message, it means the renderer has not been properly enabled\n",
       "for the frontend that you are using. For more information, see\n",
       "https://altair-viz.github.io/user_guide/troubleshooting.html\n"
      ]
     },
     "execution_count": 6,
     "metadata": {},
     "output_type": "execute_result"
    }
   ],
   "source": [
    "# Make tile count DataFrame for plotting / display purposes\n",
    "df_tilecount = df_tiles.loc[:, ['section', 'stack', 'z']]\n",
    "bars = alt.Chart(df_tilecount).mark_bar().encode(\n",
    "    x='count()',\n",
    "    y='stack:N',\n",
    "    color='stack:N',\n",
    ")\n",
    "\n",
    "text = bars.mark_text(\n",
    "    align='left',\n",
    "    baseline='middle'\n",
    ").encode(\n",
    "    text='count()'\n",
    ")\n",
    "\n",
    "alt.layer(bars, text, data=df_tilecount).properties(\n",
    "    width=200,\n",
    "    height=150,\n",
    ").facet(\n",
    "    column='section:N'\n",
    ")"
   ]
  },
  {
   "cell_type": "markdown",
   "metadata": {},
   "source": [
    "## Refine image tile DataFrame\n",
    "---"
   ]
  },
  {
   "cell_type": "markdown",
   "metadata": {},
   "source": [
    "### `tileId` - add alphanumeric prefix"
   ]
  },
  {
   "cell_type": "code",
   "execution_count": 7,
   "metadata": {},
   "outputs": [],
   "source": [
    "def gen_prefix(n=3):\n",
    "    \"\"\"Generates a sequence of length `n` characters in alphabetical order\n",
    "    e.g. for n=3 [aaa, aab, aac, ..., zzx, zzy, zzz]\n",
    "    \"\"\"\n",
    "    n = min(n, 4)\n",
    "    characters = 'abcdefghijklmnopqrstuvwxyz'\n",
    "    for s in product(characters, repeat=n):\n",
    "        yield ''.join(s)"
   ]
  },
  {
   "cell_type": "code",
   "execution_count": 8,
   "metadata": {},
   "outputs": [
    {
     "data": {
      "text/html": [
       "<div>\n",
       "<style scoped>\n",
       "    .dataframe tbody tr th:only-of-type {\n",
       "        vertical-align: middle;\n",
       "    }\n",
       "\n",
       "    .dataframe tbody tr th {\n",
       "        vertical-align: top;\n",
       "    }\n",
       "\n",
       "    .dataframe thead th {\n",
       "        text-align: right;\n",
       "    }\n",
       "</style>\n",
       "<table border=\"1\" class=\"dataframe\">\n",
       "  <thead>\n",
       "    <tr style=\"text-align: right;\">\n",
       "      <th></th>\n",
       "      <th></th>\n",
       "      <th>z</th>\n",
       "      <th>section</th>\n",
       "      <th>imageRow</th>\n",
       "      <th>imageCol</th>\n",
       "      <th>stageX</th>\n",
       "      <th>stageY</th>\n",
       "      <th>width</th>\n",
       "      <th>height</th>\n",
       "      <th>pixelsize</th>\n",
       "      <th>tileId</th>\n",
       "      <th>acqTime</th>\n",
       "    </tr>\n",
       "    <tr>\n",
       "      <th>stack</th>\n",
       "      <th></th>\n",
       "      <th></th>\n",
       "      <th></th>\n",
       "      <th></th>\n",
       "      <th></th>\n",
       "      <th></th>\n",
       "      <th></th>\n",
       "      <th></th>\n",
       "      <th></th>\n",
       "      <th></th>\n",
       "      <th></th>\n",
       "      <th></th>\n",
       "    </tr>\n",
       "  </thead>\n",
       "  <tbody>\n",
       "    <tr>\n",
       "      <td rowspan=\"3\" valign=\"top\">big_EM</td>\n",
       "      <td>0</td>\n",
       "      <td>1</td>\n",
       "      <td>S001</td>\n",
       "      <td>3</td>\n",
       "      <td>0</td>\n",
       "      <td>-954.430000</td>\n",
       "      <td>5906.398000</td>\n",
       "      <td>4096</td>\n",
       "      <td>4096</td>\n",
       "      <td>33.566317</td>\n",
       "      <td>aaa_big_EM-S001-...</td>\n",
       "      <td>2019-11-02 14:04:30</td>\n",
       "    </tr>\n",
       "    <tr>\n",
       "      <td>1</td>\n",
       "      <td>1</td>\n",
       "      <td>S001</td>\n",
       "      <td>3</td>\n",
       "      <td>1</td>\n",
       "      <td>-763.989000</td>\n",
       "      <td>5906.401000</td>\n",
       "      <td>4096</td>\n",
       "      <td>4096</td>\n",
       "      <td>33.566317</td>\n",
       "      <td>aab_big_EM-S001-...</td>\n",
       "      <td>2019-11-02 14:02:40</td>\n",
       "    </tr>\n",
       "    <tr>\n",
       "      <td>2</td>\n",
       "      <td>1</td>\n",
       "      <td>S001</td>\n",
       "      <td>3</td>\n",
       "      <td>2</td>\n",
       "      <td>-573.547000</td>\n",
       "      <td>5906.478000</td>\n",
       "      <td>4096</td>\n",
       "      <td>4096</td>\n",
       "      <td>33.566317</td>\n",
       "      <td>aac_big_EM-S001-...</td>\n",
       "      <td>2019-11-02 14:00:51</td>\n",
       "    </tr>\n",
       "    <tr>\n",
       "      <td rowspan=\"3\" valign=\"top\">hoechst</td>\n",
       "      <td>108</td>\n",
       "      <td>1</td>\n",
       "      <td>S001</td>\n",
       "      <td>3</td>\n",
       "      <td>0</td>\n",
       "      <td>-951.984544</td>\n",
       "      <td>5905.630277</td>\n",
       "      <td>2048</td>\n",
       "      <td>2048</td>\n",
       "      <td>106.356298</td>\n",
       "      <td>aaa_hoechst-S001...</td>\n",
       "      <td>2019-11-02 14:04:22</td>\n",
       "    </tr>\n",
       "    <tr>\n",
       "      <td>109</td>\n",
       "      <td>1</td>\n",
       "      <td>S001</td>\n",
       "      <td>3</td>\n",
       "      <td>1</td>\n",
       "      <td>-761.187101</td>\n",
       "      <td>5905.677940</td>\n",
       "      <td>2048</td>\n",
       "      <td>2048</td>\n",
       "      <td>106.337112</td>\n",
       "      <td>aab_hoechst-S001...</td>\n",
       "      <td>2019-11-02 14:02:33</td>\n",
       "    </tr>\n",
       "    <tr>\n",
       "      <td>110</td>\n",
       "      <td>1</td>\n",
       "      <td>S001</td>\n",
       "      <td>3</td>\n",
       "      <td>2</td>\n",
       "      <td>-570.443158</td>\n",
       "      <td>5905.827960</td>\n",
       "      <td>2048</td>\n",
       "      <td>2048</td>\n",
       "      <td>106.321854</td>\n",
       "      <td>aac_hoechst-S001...</td>\n",
       "      <td>2019-11-02 14:00:43</td>\n",
       "    </tr>\n",
       "    <tr>\n",
       "      <td rowspan=\"3\" valign=\"top\">insulin</td>\n",
       "      <td>216</td>\n",
       "      <td>1</td>\n",
       "      <td>S001</td>\n",
       "      <td>3</td>\n",
       "      <td>0</td>\n",
       "      <td>-951.984544</td>\n",
       "      <td>5905.630277</td>\n",
       "      <td>2048</td>\n",
       "      <td>2048</td>\n",
       "      <td>106.356298</td>\n",
       "      <td>aaa_insulin-S001...</td>\n",
       "      <td>2019-11-02 14:04:26</td>\n",
       "    </tr>\n",
       "    <tr>\n",
       "      <td>217</td>\n",
       "      <td>1</td>\n",
       "      <td>S001</td>\n",
       "      <td>3</td>\n",
       "      <td>1</td>\n",
       "      <td>-761.187101</td>\n",
       "      <td>5905.677940</td>\n",
       "      <td>2048</td>\n",
       "      <td>2048</td>\n",
       "      <td>106.337112</td>\n",
       "      <td>aab_insulin-S001...</td>\n",
       "      <td>2019-11-02 14:02:37</td>\n",
       "    </tr>\n",
       "    <tr>\n",
       "      <td>218</td>\n",
       "      <td>1</td>\n",
       "      <td>S001</td>\n",
       "      <td>3</td>\n",
       "      <td>2</td>\n",
       "      <td>-570.443158</td>\n",
       "      <td>5905.827960</td>\n",
       "      <td>2048</td>\n",
       "      <td>2048</td>\n",
       "      <td>106.321854</td>\n",
       "      <td>aac_insulin-S001...</td>\n",
       "      <td>2019-11-02 14:00:47</td>\n",
       "    </tr>\n",
       "    <tr>\n",
       "      <td rowspan=\"3\" valign=\"top\">lil_EM</td>\n",
       "      <td>324</td>\n",
       "      <td>1</td>\n",
       "      <td>S001</td>\n",
       "      <td>19</td>\n",
       "      <td>0</td>\n",
       "      <td>-809.153000</td>\n",
       "      <td>6049.631000</td>\n",
       "      <td>4096</td>\n",
       "      <td>4096</td>\n",
       "      <td>4.859737</td>\n",
       "      <td>aaa_lil_EM-S001-...</td>\n",
       "      <td>2019-11-03 01:43:53</td>\n",
       "    </tr>\n",
       "    <tr>\n",
       "      <td>325</td>\n",
       "      <td>1</td>\n",
       "      <td>S001</td>\n",
       "      <td>19</td>\n",
       "      <td>1</td>\n",
       "      <td>-791.563000</td>\n",
       "      <td>6049.626000</td>\n",
       "      <td>4096</td>\n",
       "      <td>4096</td>\n",
       "      <td>4.859737</td>\n",
       "      <td>aab_lil_EM-S001-...</td>\n",
       "      <td>2019-11-03 01:42:44</td>\n",
       "    </tr>\n",
       "    <tr>\n",
       "      <td>326</td>\n",
       "      <td>1</td>\n",
       "      <td>S001</td>\n",
       "      <td>19</td>\n",
       "      <td>2</td>\n",
       "      <td>-774.143000</td>\n",
       "      <td>6049.629000</td>\n",
       "      <td>4096</td>\n",
       "      <td>4096</td>\n",
       "      <td>4.859737</td>\n",
       "      <td>aac_lil_EM-S001-...</td>\n",
       "      <td>2019-11-03 01:41:34</td>\n",
       "    </tr>\n",
       "  </tbody>\n",
       "</table>\n",
       "</div>"
      ],
      "text/plain": [
       "             z section  imageRow  imageCol      stageX       stageY  width  \\\n",
       "stack                                                                        \n",
       "big_EM  0    1    S001         3         0 -954.430000  5906.398000   4096   \n",
       "        1    1    S001         3         1 -763.989000  5906.401000   4096   \n",
       "        2    1    S001         3         2 -573.547000  5906.478000   4096   \n",
       "hoechst 108  1    S001         3         0 -951.984544  5905.630277   2048   \n",
       "        109  1    S001         3         1 -761.187101  5905.677940   2048   \n",
       "        110  1    S001         3         2 -570.443158  5905.827960   2048   \n",
       "insulin 216  1    S001         3         0 -951.984544  5905.630277   2048   \n",
       "        217  1    S001         3         1 -761.187101  5905.677940   2048   \n",
       "        218  1    S001         3         2 -570.443158  5905.827960   2048   \n",
       "lil_EM  324  1    S001        19         0 -809.153000  6049.631000   4096   \n",
       "        325  1    S001        19         1 -791.563000  6049.626000   4096   \n",
       "        326  1    S001        19         2 -774.143000  6049.629000   4096   \n",
       "\n",
       "             height   pixelsize               tileId             acqTime  \n",
       "stack                                                                     \n",
       "big_EM  0      4096   33.566317  aaa_big_EM-S001-... 2019-11-02 14:04:30  \n",
       "        1      4096   33.566317  aab_big_EM-S001-... 2019-11-02 14:02:40  \n",
       "        2      4096   33.566317  aac_big_EM-S001-... 2019-11-02 14:00:51  \n",
       "hoechst 108    2048  106.356298  aaa_hoechst-S001... 2019-11-02 14:04:22  \n",
       "        109    2048  106.337112  aab_hoechst-S001... 2019-11-02 14:02:33  \n",
       "        110    2048  106.321854  aac_hoechst-S001... 2019-11-02 14:00:43  \n",
       "insulin 216    2048  106.356298  aaa_insulin-S001... 2019-11-02 14:04:26  \n",
       "        217    2048  106.337112  aab_insulin-S001... 2019-11-02 14:02:37  \n",
       "        218    2048  106.321854  aac_insulin-S001... 2019-11-02 14:00:47  \n",
       "lil_EM  324    4096    4.859737  aaa_lil_EM-S001-... 2019-11-03 01:43:53  \n",
       "        325    4096    4.859737  aab_lil_EM-S001-... 2019-11-03 01:42:44  \n",
       "        326    4096    4.859737  aac_lil_EM-S001-... 2019-11-03 01:41:34  "
      ]
     },
     "execution_count": 8,
     "metadata": {},
     "output_type": "execute_result"
    }
   ],
   "source": [
    "# Group by tileset\n",
    "tilesets = []\n",
    "for (stack, z), tileset in df_tiles.groupby(['stack', 'z']):\n",
    "    \n",
    "    # Sort by acquisition time such that top entry is last acquired\n",
    "    tileset = tileset.sort_values('acqTime', ascending=False)\\\n",
    "                     .reset_index(drop=True).copy()\n",
    "    \n",
    "    # Prepend alphanumeric prefix to each tileId\n",
    "    prefixes = pd.Series(gen_prefix())[:len(tileset)]\n",
    "    tileset['tileId'] = prefixes + '_' + tileset['tileId']\n",
    "    tilesets.append(tileset)\n",
    "    \n",
    "# Update image tile DataFrame\n",
    "df_tiles = pd.concat(tilesets).reset_index(drop=True)\n",
    "# Preview\n",
    "df_tiles.groupby(['stack'])\\\n",
    "        .apply(lambda x: x.head(3))[preview_cols]"
   ]
  },
  {
   "cell_type": "markdown",
   "metadata": {},
   "source": [
    "### `tforms` - set affine transformations\n",
    "Place image tiles in `render` coordinate space (aka pixel space) such that top left image tile in each tileset has its center at (0, 0). This requires 2 (translation-only) transformations\n",
    "1. Offset by ($-\\frac{1}{2}$ `width`, $-\\frac{1}{2}$ `height`)\n",
    "1. Offset by (`stageX`, `stageY`) (stage position converted to pixel space by dividing by pixelsize)"
   ]
  },
  {
   "cell_type": "code",
   "execution_count": 10,
   "metadata": {},
   "outputs": [
    {
     "data": {
      "text/html": [
       "<div>\n",
       "<style scoped>\n",
       "    .dataframe tbody tr th:only-of-type {\n",
       "        vertical-align: middle;\n",
       "    }\n",
       "\n",
       "    .dataframe tbody tr th {\n",
       "        vertical-align: top;\n",
       "    }\n",
       "\n",
       "    .dataframe thead th {\n",
       "        text-align: right;\n",
       "    }\n",
       "</style>\n",
       "<table border=\"1\" class=\"dataframe\">\n",
       "  <thead>\n",
       "    <tr style=\"text-align: right;\">\n",
       "      <th></th>\n",
       "      <th></th>\n",
       "      <th>z</th>\n",
       "      <th>section</th>\n",
       "      <th>imageRow</th>\n",
       "      <th>imageCol</th>\n",
       "      <th>stageX</th>\n",
       "      <th>stageY</th>\n",
       "      <th>width</th>\n",
       "      <th>height</th>\n",
       "      <th>pixelsize</th>\n",
       "      <th>tileId</th>\n",
       "      <th>acqTime</th>\n",
       "      <th>tforms</th>\n",
       "    </tr>\n",
       "    <tr>\n",
       "      <th>stack</th>\n",
       "      <th></th>\n",
       "      <th></th>\n",
       "      <th></th>\n",
       "      <th></th>\n",
       "      <th></th>\n",
       "      <th></th>\n",
       "      <th></th>\n",
       "      <th></th>\n",
       "      <th></th>\n",
       "      <th></th>\n",
       "      <th></th>\n",
       "      <th></th>\n",
       "      <th></th>\n",
       "    </tr>\n",
       "  </thead>\n",
       "  <tbody>\n",
       "    <tr>\n",
       "      <td rowspan=\"3\" valign=\"top\">big_EM</td>\n",
       "      <td>103</td>\n",
       "      <td>9</td>\n",
       "      <td>S009</td>\n",
       "      <td>1</td>\n",
       "      <td>1</td>\n",
       "      <td>4021.493000</td>\n",
       "      <td>6361.587000</td>\n",
       "      <td>4096</td>\n",
       "      <td>4096</td>\n",
       "      <td>33.566317</td>\n",
       "      <td>aah_big_EM-S009-...</td>\n",
       "      <td>2019-11-02 18:33:15</td>\n",
       "      <td>[M=[[1.000000,0....</td>\n",
       "    </tr>\n",
       "    <tr>\n",
       "      <td>32</td>\n",
       "      <td>3</td>\n",
       "      <td>S003</td>\n",
       "      <td>1</td>\n",
       "      <td>2</td>\n",
       "      <td>606.511000</td>\n",
       "      <td>6340.792000</td>\n",
       "      <td>4096</td>\n",
       "      <td>4096</td>\n",
       "      <td>33.566317</td>\n",
       "      <td>aai_big_EM-S003-...</td>\n",
       "      <td>2019-11-02 15:06:40</td>\n",
       "      <td>[M=[[1.000000,0....</td>\n",
       "    </tr>\n",
       "    <tr>\n",
       "      <td>8</td>\n",
       "      <td>1</td>\n",
       "      <td>S001</td>\n",
       "      <td>1</td>\n",
       "      <td>2</td>\n",
       "      <td>-573.418000</td>\n",
       "      <td>6295.522000</td>\n",
       "      <td>4096</td>\n",
       "      <td>4096</td>\n",
       "      <td>33.566317</td>\n",
       "      <td>aai_big_EM-S001-...</td>\n",
       "      <td>2019-11-02 13:49:53</td>\n",
       "      <td>[M=[[1.000000,0....</td>\n",
       "    </tr>\n",
       "    <tr>\n",
       "      <td rowspan=\"3\" valign=\"top\">hoechst</td>\n",
       "      <td>164</td>\n",
       "      <td>5</td>\n",
       "      <td>S005</td>\n",
       "      <td>1</td>\n",
       "      <td>2</td>\n",
       "      <td>1811.578000</td>\n",
       "      <td>6381.133000</td>\n",
       "      <td>2048</td>\n",
       "      <td>2048</td>\n",
       "      <td>106.469770</td>\n",
       "      <td>aai_hoechst-S005...</td>\n",
       "      <td>2019-11-02 16:24:29</td>\n",
       "      <td>[M=[[1.000000,0....</td>\n",
       "    </tr>\n",
       "    <tr>\n",
       "      <td>205</td>\n",
       "      <td>9</td>\n",
       "      <td>S009</td>\n",
       "      <td>3</td>\n",
       "      <td>1</td>\n",
       "      <td>4022.510491</td>\n",
       "      <td>5971.246754</td>\n",
       "      <td>2048</td>\n",
       "      <td>2048</td>\n",
       "      <td>106.511225</td>\n",
       "      <td>aab_hoechst-S009...</td>\n",
       "      <td>2019-11-02 18:44:06</td>\n",
       "      <td>[M=[[1.000000,0....</td>\n",
       "    </tr>\n",
       "    <tr>\n",
       "      <td>157</td>\n",
       "      <td>5</td>\n",
       "      <td>S005</td>\n",
       "      <td>3</td>\n",
       "      <td>1</td>\n",
       "      <td>1622.734120</td>\n",
       "      <td>5991.236088</td>\n",
       "      <td>2048</td>\n",
       "      <td>2048</td>\n",
       "      <td>106.404108</td>\n",
       "      <td>aab_hoechst-S005...</td>\n",
       "      <td>2019-11-02 16:37:16</td>\n",
       "      <td>[M=[[1.000000,0....</td>\n",
       "    </tr>\n",
       "    <tr>\n",
       "      <td rowspan=\"3\" valign=\"top\">insulin</td>\n",
       "      <td>238</td>\n",
       "      <td>2</td>\n",
       "      <td>S002</td>\n",
       "      <td>0</td>\n",
       "      <td>1</td>\n",
       "      <td>-171.356556</td>\n",
       "      <td>6510.427212</td>\n",
       "      <td>2048</td>\n",
       "      <td>2048</td>\n",
       "      <td>106.379264</td>\n",
       "      <td>aak_insulin-S002...</td>\n",
       "      <td>2019-11-02 14:32:29</td>\n",
       "      <td>[M=[[1.000000,0....</td>\n",
       "    </tr>\n",
       "    <tr>\n",
       "      <td>269</td>\n",
       "      <td>5</td>\n",
       "      <td>S005</td>\n",
       "      <td>2</td>\n",
       "      <td>0</td>\n",
       "      <td>1431.650257</td>\n",
       "      <td>6186.026784</td>\n",
       "      <td>2048</td>\n",
       "      <td>2048</td>\n",
       "      <td>106.413272</td>\n",
       "      <td>aaf_insulin-S005...</td>\n",
       "      <td>2019-11-02 16:30:02</td>\n",
       "      <td>[M=[[1.000000,0....</td>\n",
       "    </tr>\n",
       "    <tr>\n",
       "      <td>297</td>\n",
       "      <td>7</td>\n",
       "      <td>S007</td>\n",
       "      <td>0</td>\n",
       "      <td>2</td>\n",
       "      <td>3022.404175</td>\n",
       "      <td>6576.811589</td>\n",
       "      <td>2048</td>\n",
       "      <td>2048</td>\n",
       "      <td>106.484682</td>\n",
       "      <td>aaj_insulin-S007...</td>\n",
       "      <td>2019-11-02 17:32:35</td>\n",
       "      <td>[M=[[1.000000,0....</td>\n",
       "    </tr>\n",
       "    <tr>\n",
       "      <td rowspan=\"3\" valign=\"top\">lil_EM</td>\n",
       "      <td>2959</td>\n",
       "      <td>9</td>\n",
       "      <td>S009</td>\n",
       "      <td>15</td>\n",
       "      <td>12</td>\n",
       "      <td>4168.422000</td>\n",
       "      <td>6143.087000</td>\n",
       "      <td>4096</td>\n",
       "      <td>4096</td>\n",
       "      <td>4.859506</td>\n",
       "      <td>acy_lil_EM-S009-...</td>\n",
       "      <td>2019-11-05 21:55:17</td>\n",
       "      <td>[M=[[1.000000,0....</td>\n",
       "    </tr>\n",
       "    <tr>\n",
       "      <td>1155</td>\n",
       "      <td>3</td>\n",
       "      <td>S003</td>\n",
       "      <td>8</td>\n",
       "      <td>0</td>\n",
       "      <td>372.316000</td>\n",
       "      <td>6280.227000</td>\n",
       "      <td>4096</td>\n",
       "      <td>4096</td>\n",
       "      <td>4.859506</td>\n",
       "      <td>ahj_lil_EM-S003-...</td>\n",
       "      <td>2019-11-03 17:04:19</td>\n",
       "      <td>[M=[[1.000000,0....</td>\n",
       "    </tr>\n",
       "    <tr>\n",
       "      <td>2829</td>\n",
       "      <td>8</td>\n",
       "      <td>S008</td>\n",
       "      <td>3</td>\n",
       "      <td>10</td>\n",
       "      <td>3554.392000</td>\n",
       "      <td>6372.406000</td>\n",
       "      <td>4096</td>\n",
       "      <td>4096</td>\n",
       "      <td>4.859506</td>\n",
       "      <td>akg_lil_EM-S008-...</td>\n",
       "      <td>2019-11-05 11:40:16</td>\n",
       "      <td>[M=[[1.000000,0....</td>\n",
       "    </tr>\n",
       "  </tbody>\n",
       "</table>\n",
       "</div>"
      ],
      "text/plain": [
       "              z section  imageRow  imageCol       stageX       stageY  width  \\\n",
       "stack                                                                          \n",
       "big_EM  103   9    S009         1         1  4021.493000  6361.587000   4096   \n",
       "        32    3    S003         1         2   606.511000  6340.792000   4096   \n",
       "        8     1    S001         1         2  -573.418000  6295.522000   4096   \n",
       "hoechst 164   5    S005         1         2  1811.578000  6381.133000   2048   \n",
       "        205   9    S009         3         1  4022.510491  5971.246754   2048   \n",
       "        157   5    S005         3         1  1622.734120  5991.236088   2048   \n",
       "insulin 238   2    S002         0         1  -171.356556  6510.427212   2048   \n",
       "        269   5    S005         2         0  1431.650257  6186.026784   2048   \n",
       "        297   7    S007         0         2  3022.404175  6576.811589   2048   \n",
       "lil_EM  2959  9    S009        15        12  4168.422000  6143.087000   4096   \n",
       "        1155  3    S003         8         0   372.316000  6280.227000   4096   \n",
       "        2829  8    S008         3        10  3554.392000  6372.406000   4096   \n",
       "\n",
       "              height   pixelsize               tileId             acqTime  \\\n",
       "stack                                                                       \n",
       "big_EM  103     4096   33.566317  aah_big_EM-S009-... 2019-11-02 18:33:15   \n",
       "        32      4096   33.566317  aai_big_EM-S003-... 2019-11-02 15:06:40   \n",
       "        8       4096   33.566317  aai_big_EM-S001-... 2019-11-02 13:49:53   \n",
       "hoechst 164     2048  106.469770  aai_hoechst-S005... 2019-11-02 16:24:29   \n",
       "        205     2048  106.511225  aab_hoechst-S009... 2019-11-02 18:44:06   \n",
       "        157     2048  106.404108  aab_hoechst-S005... 2019-11-02 16:37:16   \n",
       "insulin 238     2048  106.379264  aak_insulin-S002... 2019-11-02 14:32:29   \n",
       "        269     2048  106.413272  aaf_insulin-S005... 2019-11-02 16:30:02   \n",
       "        297     2048  106.484682  aaj_insulin-S007... 2019-11-02 17:32:35   \n",
       "lil_EM  2959    4096    4.859506  acy_lil_EM-S009-... 2019-11-05 21:55:17   \n",
       "        1155    4096    4.859506  ahj_lil_EM-S003-... 2019-11-03 17:04:19   \n",
       "        2829    4096    4.859506  akg_lil_EM-S008-... 2019-11-05 11:40:16   \n",
       "\n",
       "                           tforms  \n",
       "stack                              \n",
       "big_EM  103   [M=[[1.000000,0....  \n",
       "        32    [M=[[1.000000,0....  \n",
       "        8     [M=[[1.000000,0....  \n",
       "hoechst 164   [M=[[1.000000,0....  \n",
       "        205   [M=[[1.000000,0....  \n",
       "        157   [M=[[1.000000,0....  \n",
       "insulin 238   [M=[[1.000000,0....  \n",
       "        269   [M=[[1.000000,0....  \n",
       "        297   [M=[[1.000000,0....  \n",
       "lil_EM  2959  [M=[[1.000000,0....  \n",
       "        1155  [M=[[1.000000,0....  \n",
       "        2829  [M=[[1.000000,0....  "
      ]
     },
     "execution_count": 10,
     "metadata": {},
     "output_type": "execute_result"
    }
   ],
   "source": [
    "# Iterate through tilesets\n",
    "for (stack, z), tileset in df_tiles.groupby(['stack', 'z']):\n",
    "\n",
    "    # 1) Offset by (-1/2 width, -1/2 height)\n",
    "    # --------------------------------------\n",
    "    x1 = -tileset['width'] / 2\n",
    "    y1 = -tileset['height'] / 2    \n",
    "\n",
    "    # 2) Offset by stage position\n",
    "    # ---------------------------\n",
    "    # Normalize to (0, 0) since Odemis stage position is basically random\n",
    "    x2 = tileset['stageX'] - tileset['stageX'].min()\n",
    "    y2 = tileset['stageY'] - tileset['stageY'].min()\n",
    "    # Divide by pixelsize and flip y axis\n",
    "    x2 =  x2 / (tileset['pixelsize']/1e3)  # um / (um/px) = px\n",
    "    y2 = -y2 / (tileset['pixelsize']/1e3)  # um / (um/px) = px\n",
    "    # Shift y translation up so that it's all positivo\n",
    "    y2 -= y2.min()\n",
    "\n",
    "    # Add `render` affine transformations to DataFrame\n",
    "    # ------------------------------------------------\n",
    "    # Create `render` affine transformations\n",
    "    T1 = [[AffineRender(B0=x, B1=y)] for x, y in zip(x1, y1)]\n",
    "    T2 = [[AffineRender(B0=x, B1=y)] for x, y in zip(x2, y2)]\n",
    "    # Add to DataFrame\n",
    "    df_tiles.loc[(df_tiles['stack'] == stack) &\\\n",
    "                 (df_tiles['z'] == z),\n",
    "                 'tforms'] = list(zip(T1, T2))\n",
    "\n",
    "# Unpack tforms\n",
    "df_tiles['tforms'] = df_tiles['tforms'].apply(lambda x: [x[i][0] for i in range(len(x))])\n",
    "# Preview\n",
    "df_tiles.groupby('stack')\\\n",
    "        .apply(lambda x: x.sample(3))[preview_cols + ['tforms']]"
   ]
  },
  {
   "cell_type": "markdown",
   "metadata": {},
   "source": [
    "### `minint`, `maxint` - set min, max intensity levels "
   ]
  },
  {
   "cell_type": "markdown",
   "metadata": {},
   "source": [
    "#### FM channels\n",
    "Sample `N` FM image tiles (per section), take histogram and assign min, max intensity levels according to min and max percentile specified"
   ]
  },
  {
   "cell_type": "code",
   "execution_count": 11,
   "metadata": {},
   "outputs": [
    {
     "data": {
      "application/vnd.jupyter.widget-view+json": {
       "model_id": "1ceb04885031476786fd3dc775c14bcd",
       "version_major": 2,
       "version_minor": 0
      },
      "text/plain": [
       "HBox(children=(IntProgress(value=0, max=18), HTML(value='')))"
      ]
     },
     "metadata": {},
     "output_type": "display_data"
    },
    {
     "name": "stdout",
     "output_type": "stream",
     "text": [
      "\n"
     ]
    },
    {
     "data": {
      "image/png": "[encoded data removed]",
      "text/plain": [
       "<Figure size 3240x288 with 9 Axes>"
      ]
     },
     "metadata": {
      "needs_background": "light"
     },
     "output_type": "display_data"
    }
   ],
   "source": [
    "# Parameters\n",
    "# ----------\n",
    "N = 10     # Sample size\n",
    "pct1 = 25  # min %ile\n",
    "pct2 = 99  # max %ile\n",
    "\n",
    "# Set up figure\n",
    "ncols=len(sections)\n",
    "fig, axes = plt.subplots(ncols=ncols, sharex=True, sharey=True,\n",
    "                         figsize=(ncols*5, 4))\n",
    "\n",
    "# Loop through FM stacks\n",
    "total = len(stacks_FM) * len(sections)\n",
    "axes_map = {k: v for k, v in zip(sections, axes.flat)}\n",
    "cmap = {k: v for k, v in zip(stacks_FM, sns.color_palette(n_colors=len(stacks_FM)))}\n",
    "for i, ((stack, section), tileset) in tqdm_notebook(enumerate(df_tiles.loc[df_tiles['stack'].isin(stacks_FM)]\\\n",
    "                                                                      .groupby(['stack', 'section'])), total=total):\n",
    "    # Choose random sample\n",
    "    fps = tileset.sample(n=min(N, len(tileset)))['imageUrl']\n",
    "\n",
    "    # Loop through sample image tiles\n",
    "    images = []\n",
    "    for fp in fps:\n",
    "\n",
    "        # Accumulate images\n",
    "        image = imread(fp.split('://')[1])\n",
    "        images.append(image)\n",
    "\n",
    "    # Take histograms\n",
    "    mean = np.mean(images, axis=0)\n",
    "    hist, bin_centers = histogram(mean)\n",
    "    p1, p2 = np.percentile(mean, (pct1, pct2))\n",
    "\n",
    "    # Set min, max intensity\n",
    "    df_tiles.loc[(df_tiles['stack'] == stack) &\\\n",
    "                 (df_tiles['section'] == section),\n",
    "                 ['minint', 'maxint']] = int(p1), 2*int(p1)\n",
    "\n",
    "    # Plot\n",
    "    ax = axes_map[section]\n",
    "    color = cmap[stack]\n",
    "    ax.plot(bin_centers, hist, color=color, label=stack)\n",
    "    [ax.axvline(p, ymin=0.05, ymax=0.25, color=color) for p in [p1, p2]]\n",
    "    # Aesthetics\n",
    "    ax.set_title(section)\n",
    "    ax.set_xscale('symlog', basex=2)\n",
    "    ax.xaxis.set_major_formatter(mticker.ScalarFormatter())\n",
    "    ax.legend()\n",
    "    ax.grid(ls=':')"
   ]
  },
  {
   "cell_type": "markdown",
   "metadata": {},
   "source": [
    "#### EM channels\n",
    "Sample `N` FM image tiles (per section), take histogram and assign min, max intensity levels according to min and max percentile specified"
   ]
  },
  {
   "cell_type": "code",
   "execution_count": 12,
   "metadata": {},
   "outputs": [
    {
     "data": {
      "application/vnd.jupyter.widget-view+json": {
       "model_id": "b749594a04404fd69759b13eb96b7dbd",
       "version_major": 2,
       "version_minor": 0
      },
      "text/plain": [
       "HBox(children=(IntProgress(value=0, max=18), HTML(value='')))"
      ]
     },
     "metadata": {},
     "output_type": "display_data"
    },
    {
     "name": "stdout",
     "output_type": "stream",
     "text": [
      "\n"
     ]
    },
    {
     "data": {
      "image/png": "[encoded data removed]",
      "text/plain": [
       "<Figure size 3240x288 with 9 Axes>"
      ]
     },
     "metadata": {
      "needs_background": "light"
     },
     "output_type": "display_data"
    }
   ],
   "source": [
    "# Parameters\n",
    "# ----------\n",
    "N = 3     # Sample size\n",
    "pct1 = 1   # min %ile\n",
    "pct2 = 99  # max %ile\n",
    "\n",
    "# Set up figure\n",
    "ncols=len(sections)\n",
    "fig, axes = plt.subplots(ncols=ncols, sharex=True, sharey=True,\n",
    "                         figsize=(ncols*5, 4))\n",
    "\n",
    "# Loop through EM stacks\n",
    "total = len(stacks_EM) * len(sections)\n",
    "axes_map = {k: v for k, v in zip(sections, axes.flat)}\n",
    "cmap = {k: v for k, v in zip(stacks_EM, sns.color_palette(n_colors=len(stacks_EM)))}\n",
    "for i, ((stack, section), tileset) in tqdm_notebook(enumerate(df_tiles.loc[df_tiles['stack'].isin(stacks_EM)]\\\n",
    "                                                                      .groupby(['stack', 'section'])), total=total):\n",
    "    # Choose random sample\n",
    "    fps = tileset.sample(n=min(N, len(tileset)))['imageUrl']\n",
    "\n",
    "    # Loop through sample image tiles\n",
    "    images = []\n",
    "    for fp in fps:\n",
    "\n",
    "        # Accumulate images\n",
    "        image = imread(fp.split('://')[1])\n",
    "        images.append(image)\n",
    "\n",
    "    # Take histograms\n",
    "    mean = np.mean(images, axis=0)\n",
    "    hist, bin_centers = histogram(mean)\n",
    "    p1, p2 = np.percentile(mean, (pct1, pct2))\n",
    "\n",
    "    # Set min, max intensity\n",
    "    df_tiles.loc[(df_tiles['stack'] == stack) &\\\n",
    "                 (df_tiles['section'] == section),\n",
    "                 ['minint', 'maxint']] = int(p1), int(p2)\n",
    "\n",
    "    # Plot\n",
    "    ax = axes_map[section]\n",
    "    color = cmap[stack]\n",
    "    ax.plot(bin_centers, hist, color=color, label=stack)\n",
    "    [ax.axvline(p, ymin=0.05, ymax=0.25, color=color) for p in [p1, p2]]\n",
    "    # Aesthetics\n",
    "    ax.set_title(section)\n",
    "    ax.legend()\n",
    "    ax.grid(ls=':')"
   ]
  },
  {
   "cell_type": "markdown",
   "metadata": {},
   "source": [
    "#### Optionally overwrite min, max intensity levels"
   ]
  },
  {
   "cell_type": "code",
   "execution_count": 13,
   "metadata": {},
   "outputs": [],
   "source": [
    "# # Specify stack and section(s)\n",
    "# stack_ = 'insulin'\n",
    "# sections_ = sections\n",
    "\n",
    "# df_tiles.loc[(df_tiles['stack'] == stack_) &\\\n",
    "#              (df_tiles['section'].isin(sections_)),\n",
    "#              ['minint', 'maxint']] = 500, 1000"
   ]
  },
  {
   "cell_type": "code",
   "execution_count": 14,
   "metadata": {},
   "outputs": [
    {
     "data": {
      "text/html": [
       "<div>\n",
       "<style scoped>\n",
       "    .dataframe tbody tr th:only-of-type {\n",
       "        vertical-align: middle;\n",
       "    }\n",
       "\n",
       "    .dataframe tbody tr th {\n",
       "        vertical-align: top;\n",
       "    }\n",
       "\n",
       "    .dataframe thead th {\n",
       "        text-align: right;\n",
       "    }\n",
       "</style>\n",
       "<table border=\"1\" class=\"dataframe\">\n",
       "  <thead>\n",
       "    <tr style=\"text-align: right;\">\n",
       "      <th></th>\n",
       "      <th></th>\n",
       "      <th>z</th>\n",
       "      <th>section</th>\n",
       "      <th>imageRow</th>\n",
       "      <th>imageCol</th>\n",
       "      <th>stageX</th>\n",
       "      <th>stageY</th>\n",
       "      <th>width</th>\n",
       "      <th>height</th>\n",
       "      <th>pixelsize</th>\n",
       "      <th>tileId</th>\n",
       "      <th>acqTime</th>\n",
       "      <th>minint</th>\n",
       "      <th>maxint</th>\n",
       "    </tr>\n",
       "    <tr>\n",
       "      <th>stack</th>\n",
       "      <th></th>\n",
       "      <th></th>\n",
       "      <th></th>\n",
       "      <th></th>\n",
       "      <th></th>\n",
       "      <th></th>\n",
       "      <th></th>\n",
       "      <th></th>\n",
       "      <th></th>\n",
       "      <th></th>\n",
       "      <th></th>\n",
       "      <th></th>\n",
       "      <th></th>\n",
       "      <th></th>\n",
       "    </tr>\n",
       "  </thead>\n",
       "  <tbody>\n",
       "    <tr>\n",
       "      <td rowspan=\"3\" valign=\"top\">big_EM</td>\n",
       "      <td>103</td>\n",
       "      <td>9</td>\n",
       "      <td>S009</td>\n",
       "      <td>1</td>\n",
       "      <td>1</td>\n",
       "      <td>4021.493000</td>\n",
       "      <td>6361.587000</td>\n",
       "      <td>4096</td>\n",
       "      <td>4096</td>\n",
       "      <td>33.566317</td>\n",
       "      <td>aah_big_EM-S009-...</td>\n",
       "      <td>2019-11-02 18:33:15</td>\n",
       "      <td>32113</td>\n",
       "      <td>34037</td>\n",
       "    </tr>\n",
       "    <tr>\n",
       "      <td>15</td>\n",
       "      <td>2</td>\n",
       "      <td>S002</td>\n",
       "      <td>2</td>\n",
       "      <td>2</td>\n",
       "      <td>16.428000</td>\n",
       "      <td>6120.927000</td>\n",
       "      <td>4096</td>\n",
       "      <td>4096</td>\n",
       "      <td>33.566317</td>\n",
       "      <td>aad_big_EM-S002-...</td>\n",
       "      <td>2019-11-02 14:45:21</td>\n",
       "      <td>32196</td>\n",
       "      <td>34256</td>\n",
       "    </tr>\n",
       "    <tr>\n",
       "      <td>73</td>\n",
       "      <td>7</td>\n",
       "      <td>S007</td>\n",
       "      <td>3</td>\n",
       "      <td>1</td>\n",
       "      <td>2831.410000</td>\n",
       "      <td>5992.228000</td>\n",
       "      <td>4096</td>\n",
       "      <td>4096</td>\n",
       "      <td>33.566317</td>\n",
       "      <td>aab_big_EM-S007-...</td>\n",
       "      <td>2019-11-02 17:47:16</td>\n",
       "      <td>32193</td>\n",
       "      <td>33620</td>\n",
       "    </tr>\n",
       "    <tr>\n",
       "      <td rowspan=\"3\" valign=\"top\">hoechst</td>\n",
       "      <td>183</td>\n",
       "      <td>7</td>\n",
       "      <td>S007</td>\n",
       "      <td>2</td>\n",
       "      <td>2</td>\n",
       "      <td>3022.835602</td>\n",
       "      <td>6186.680021</td>\n",
       "      <td>2048</td>\n",
       "      <td>2048</td>\n",
       "      <td>106.452477</td>\n",
       "      <td>aad_hoechst-S007...</td>\n",
       "      <td>2019-11-02 17:43:29</td>\n",
       "      <td>817</td>\n",
       "      <td>1634</td>\n",
       "    </tr>\n",
       "    <tr>\n",
       "      <td>120</td>\n",
       "      <td>2</td>\n",
       "      <td>S002</td>\n",
       "      <td>3</td>\n",
       "      <td>0</td>\n",
       "      <td>-360.917125</td>\n",
       "      <td>5925.803454</td>\n",
       "      <td>2048</td>\n",
       "      <td>2048</td>\n",
       "      <td>106.356062</td>\n",
       "      <td>aaa_hoechst-S002...</td>\n",
       "      <td>2019-11-02 14:50:42</td>\n",
       "      <td>844</td>\n",
       "      <td>1688</td>\n",
       "    </tr>\n",
       "    <tr>\n",
       "      <td>203</td>\n",
       "      <td>8</td>\n",
       "      <td>S008</td>\n",
       "      <td>0</td>\n",
       "      <td>0</td>\n",
       "      <td>3256.032445</td>\n",
       "      <td>6576.371986</td>\n",
       "      <td>2048</td>\n",
       "      <td>2048</td>\n",
       "      <td>106.496025</td>\n",
       "      <td>aal_hoechst-S008...</td>\n",
       "      <td>2019-11-02 17:57:14</td>\n",
       "      <td>865</td>\n",
       "      <td>1730</td>\n",
       "    </tr>\n",
       "    <tr>\n",
       "      <td rowspan=\"3\" valign=\"top\">insulin</td>\n",
       "      <td>267</td>\n",
       "      <td>5</td>\n",
       "      <td>S005</td>\n",
       "      <td>2</td>\n",
       "      <td>2</td>\n",
       "      <td>1812.938401</td>\n",
       "      <td>6186.266924</td>\n",
       "      <td>2048</td>\n",
       "      <td>2048</td>\n",
       "      <td>106.412358</td>\n",
       "      <td>aad_insulin-S005...</td>\n",
       "      <td>2019-11-02 16:33:41</td>\n",
       "      <td>429</td>\n",
       "      <td>858</td>\n",
       "    </tr>\n",
       "    <tr>\n",
       "      <td>323</td>\n",
       "      <td>9</td>\n",
       "      <td>S009</td>\n",
       "      <td>0</td>\n",
       "      <td>0</td>\n",
       "      <td>3831.261353</td>\n",
       "      <td>6556.466992</td>\n",
       "      <td>2048</td>\n",
       "      <td>2048</td>\n",
       "      <td>106.547846</td>\n",
       "      <td>aal_insulin-S009...</td>\n",
       "      <td>2019-11-02 18:25:53</td>\n",
       "      <td>445</td>\n",
       "      <td>890</td>\n",
       "    </tr>\n",
       "    <tr>\n",
       "      <td>219</td>\n",
       "      <td>1</td>\n",
       "      <td>S001</td>\n",
       "      <td>2</td>\n",
       "      <td>2</td>\n",
       "      <td>-570.832426</td>\n",
       "      <td>6100.562355</td>\n",
       "      <td>2048</td>\n",
       "      <td>2048</td>\n",
       "      <td>106.348664</td>\n",
       "      <td>aad_insulin-S001...</td>\n",
       "      <td>2019-11-02 13:58:57</td>\n",
       "      <td>432</td>\n",
       "      <td>864</td>\n",
       "    </tr>\n",
       "    <tr>\n",
       "      <td rowspan=\"3\" valign=\"top\">lil_EM</td>\n",
       "      <td>1839</td>\n",
       "      <td>5</td>\n",
       "      <td>S005</td>\n",
       "      <td>5</td>\n",
       "      <td>12</td>\n",
       "      <td>1781.337000</td>\n",
       "      <td>6360.815000</td>\n",
       "      <td>4096</td>\n",
       "      <td>4096</td>\n",
       "      <td>4.859506</td>\n",
       "      <td>ajb_lil_EM-S005-...</td>\n",
       "      <td>2019-11-04 10:07:55</td>\n",
       "      <td>30764</td>\n",
       "      <td>32772</td>\n",
       "    </tr>\n",
       "    <tr>\n",
       "      <td>2645</td>\n",
       "      <td>8</td>\n",
       "      <td>S008</td>\n",
       "      <td>14</td>\n",
       "      <td>13</td>\n",
       "      <td>3606.342000</td>\n",
       "      <td>6179.838000</td>\n",
       "      <td>4096</td>\n",
       "      <td>4096</td>\n",
       "      <td>4.859506</td>\n",
       "      <td>ade_lil_EM-S008-...</td>\n",
       "      <td>2019-11-05 15:15:22</td>\n",
       "      <td>31278</td>\n",
       "      <td>33263</td>\n",
       "    </tr>\n",
       "    <tr>\n",
       "      <td>3161</td>\n",
       "      <td>9</td>\n",
       "      <td>S009</td>\n",
       "      <td>2</td>\n",
       "      <td>9</td>\n",
       "      <td>4115.254000</td>\n",
       "      <td>6370.767000</td>\n",
       "      <td>4096</td>\n",
       "      <td>4096</td>\n",
       "      <td>4.859506</td>\n",
       "      <td>aks_lil_EM-S009-...</td>\n",
       "      <td>2019-11-05 17:59:26</td>\n",
       "      <td>31408</td>\n",
       "      <td>33425</td>\n",
       "    </tr>\n",
       "  </tbody>\n",
       "</table>\n",
       "</div>"
      ],
      "text/plain": [
       "              z section  imageRow  imageCol       stageX       stageY  width  \\\n",
       "stack                                                                          \n",
       "big_EM  103   9    S009         1         1  4021.493000  6361.587000   4096   \n",
       "        15    2    S002         2         2    16.428000  6120.927000   4096   \n",
       "        73    7    S007         3         1  2831.410000  5992.228000   4096   \n",
       "hoechst 183   7    S007         2         2  3022.835602  6186.680021   2048   \n",
       "        120   2    S002         3         0  -360.917125  5925.803454   2048   \n",
       "        203   8    S008         0         0  3256.032445  6576.371986   2048   \n",
       "insulin 267   5    S005         2         2  1812.938401  6186.266924   2048   \n",
       "        323   9    S009         0         0  3831.261353  6556.466992   2048   \n",
       "        219   1    S001         2         2  -570.832426  6100.562355   2048   \n",
       "lil_EM  1839  5    S005         5        12  1781.337000  6360.815000   4096   \n",
       "        2645  8    S008        14        13  3606.342000  6179.838000   4096   \n",
       "        3161  9    S009         2         9  4115.254000  6370.767000   4096   \n",
       "\n",
       "              height   pixelsize               tileId             acqTime  \\\n",
       "stack                                                                       \n",
       "big_EM  103     4096   33.566317  aah_big_EM-S009-... 2019-11-02 18:33:15   \n",
       "        15      4096   33.566317  aad_big_EM-S002-... 2019-11-02 14:45:21   \n",
       "        73      4096   33.566317  aab_big_EM-S007-... 2019-11-02 17:47:16   \n",
       "hoechst 183     2048  106.452477  aad_hoechst-S007... 2019-11-02 17:43:29   \n",
       "        120     2048  106.356062  aaa_hoechst-S002... 2019-11-02 14:50:42   \n",
       "        203     2048  106.496025  aal_hoechst-S008... 2019-11-02 17:57:14   \n",
       "insulin 267     2048  106.412358  aad_insulin-S005... 2019-11-02 16:33:41   \n",
       "        323     2048  106.547846  aal_insulin-S009... 2019-11-02 18:25:53   \n",
       "        219     2048  106.348664  aad_insulin-S001... 2019-11-02 13:58:57   \n",
       "lil_EM  1839    4096    4.859506  ajb_lil_EM-S005-... 2019-11-04 10:07:55   \n",
       "        2645    4096    4.859506  ade_lil_EM-S008-... 2019-11-05 15:15:22   \n",
       "        3161    4096    4.859506  aks_lil_EM-S009-... 2019-11-05 17:59:26   \n",
       "\n",
       "              minint  maxint  \n",
       "stack                         \n",
       "big_EM  103    32113   34037  \n",
       "        15     32196   34256  \n",
       "        73     32193   33620  \n",
       "hoechst 183      817    1634  \n",
       "        120      844    1688  \n",
       "        203      865    1730  \n",
       "insulin 267      429     858  \n",
       "        323      445     890  \n",
       "        219      432     864  \n",
       "lil_EM  1839   30764   32772  \n",
       "        2645   31278   33263  \n",
       "        3161   31408   33425  "
      ]
     },
     "execution_count": 14,
     "metadata": {},
     "output_type": "execute_result"
    }
   ],
   "source": [
    "# Preview\n",
    "df_tiles.groupby('stack')\\\n",
    "        .apply(lambda x: x.sample(3))[preview_cols + ['minint', 'maxint']]"
   ]
  },
  {
   "cell_type": "markdown",
   "metadata": {},
   "source": [
    "## Import image tiles to `render-ws`\n",
    "---"
   ]
  },
  {
   "cell_type": "markdown",
   "metadata": {},
   "source": [
    "### Create stacks"
   ]
  },
  {
   "cell_type": "code",
   "execution_count": 15,
   "metadata": {},
   "outputs": [
    {
     "data": {
      "application/vnd.jupyter.widget-view+json": {
       "model_id": "2f9cc4586503407194317609bc55232b",
       "version_major": 2,
       "version_minor": 0
      },
      "text/plain": [
       "HBox(children=(IntProgress(value=0, max=4), HTML(value='')))"
      ]
     },
     "metadata": {},
     "output_type": "display_data"
    },
    {
     "name": "stdout",
     "output_type": "stream",
     "text": [
      "\n"
     ]
    }
   ],
   "source": [
    "# Iterate through stacks\n",
    "for stack, df_stack in tqdm_notebook(df_tiles.groupby('stack')):\n",
    "\n",
    "    # Create `TileSpec`s\n",
    "    tile_specs = []\n",
    "    for i, tile in df_stack.iterrows():\n",
    "        ts = TileSpec(**tile.to_dict())\n",
    "        tile_specs.append(ts)\n",
    "\n",
    "    # Set stack resolution\n",
    "    Rx = df_stack['pixelsize'].iloc[0]\n",
    "    Ry = df_stack['pixelsize'].iloc[0]\n",
    "    Rz = section_thickness\n",
    "\n",
    "    # Create stack\n",
    "    renderapi.stack.create_stack(stack,\n",
    "                                 stackResolutionX=Rx,\n",
    "                                 stackResolutionY=Ry,\n",
    "                                 stackResolutionZ=Rz,\n",
    "                                 render=render)\n",
    "\n",
    "    # Import TileSpecs to render\n",
    "    renderapi.client.import_tilespecs(stack,\n",
    "                                      tile_specs,\n",
    "                                      render=render)\n",
    "\n",
    "    # Set stack state to complete\n",
    "    renderapi.stack.set_stack_state(stack, 'COMPLETE', render=render)"
   ]
  },
  {
   "cell_type": "markdown",
   "metadata": {},
   "source": [
    "## Inspect stacks\n",
    "---"
   ]
  },
  {
   "cell_type": "markdown",
   "metadata": {},
   "source": [
    "### Project DataFrame"
   ]
  },
  {
   "cell_type": "code",
   "execution_count": 16,
   "metadata": {},
   "outputs": [
    {
     "data": {
      "text/html": [
       "<div>\n",
       "<style scoped>\n",
       "    .dataframe tbody tr th:only-of-type {\n",
       "        vertical-align: middle;\n",
       "    }\n",
       "\n",
       "    .dataframe tbody tr th {\n",
       "        vertical-align: top;\n",
       "    }\n",
       "\n",
       "    .dataframe thead th {\n",
       "        text-align: right;\n",
       "    }\n",
       "</style>\n",
       "<table border=\"1\" class=\"dataframe\">\n",
       "  <thead>\n",
       "    <tr style=\"text-align: right;\">\n",
       "      <th></th>\n",
       "      <th></th>\n",
       "      <th>tileId</th>\n",
       "      <th>z</th>\n",
       "      <th>width</th>\n",
       "      <th>height</th>\n",
       "      <th>minIntensity</th>\n",
       "      <th>maxIntensity</th>\n",
       "      <th>stack</th>\n",
       "      <th>sectionId</th>\n",
       "      <th>camera</th>\n",
       "      <th>imageRow</th>\n",
       "      <th>imageCol</th>\n",
       "      <th>stageX</th>\n",
       "      <th>stageY</th>\n",
       "      <th>imageUrl</th>\n",
       "      <th>temca</th>\n",
       "    </tr>\n",
       "    <tr>\n",
       "      <th>stack</th>\n",
       "      <th></th>\n",
       "      <th></th>\n",
       "      <th></th>\n",
       "      <th></th>\n",
       "      <th></th>\n",
       "      <th></th>\n",
       "      <th></th>\n",
       "      <th></th>\n",
       "      <th></th>\n",
       "      <th></th>\n",
       "      <th></th>\n",
       "      <th></th>\n",
       "      <th></th>\n",
       "      <th></th>\n",
       "      <th></th>\n",
       "      <th></th>\n",
       "    </tr>\n",
       "  </thead>\n",
       "  <tbody>\n",
       "    <tr>\n",
       "      <td rowspan=\"3\" valign=\"top\">big_EM</td>\n",
       "      <td>96</td>\n",
       "      <td>aaa_big_EM-S009-...</td>\n",
       "      <td>9.0</td>\n",
       "      <td>4096.0</td>\n",
       "      <td>4096.0</td>\n",
       "      <td>32113.0</td>\n",
       "      <td>34037.0</td>\n",
       "      <td>big_EM</td>\n",
       "      <td>S009</td>\n",
       "      <td>pcie-6251</td>\n",
       "      <td>3</td>\n",
       "      <td>0</td>\n",
       "      <td>3831.122000</td>\n",
       "      <td>5972.378000</td>\n",
       "      <td>file:///long_ter...</td>\n",
       "      <td>SECOM</td>\n",
       "    </tr>\n",
       "    <tr>\n",
       "      <td>107</td>\n",
       "      <td>aal_big_EM-S009-...</td>\n",
       "      <td>9.0</td>\n",
       "      <td>4096.0</td>\n",
       "      <td>4096.0</td>\n",
       "      <td>32113.0</td>\n",
       "      <td>34037.0</td>\n",
       "      <td>big_EM</td>\n",
       "      <td>S009</td>\n",
       "      <td>pcie-6251</td>\n",
       "      <td>0</td>\n",
       "      <td>0</td>\n",
       "      <td>3831.134000</td>\n",
       "      <td>6556.207000</td>\n",
       "      <td>file:///long_ter...</td>\n",
       "      <td>SECOM</td>\n",
       "    </tr>\n",
       "    <tr>\n",
       "      <td>38</td>\n",
       "      <td>aac_big_EM-S004-...</td>\n",
       "      <td>4.0</td>\n",
       "      <td>4096.0</td>\n",
       "      <td>4096.0</td>\n",
       "      <td>32127.0</td>\n",
       "      <td>33182.0</td>\n",
       "      <td>big_EM</td>\n",
       "      <td>S004</td>\n",
       "      <td>pcie-6251</td>\n",
       "      <td>3</td>\n",
       "      <td>2</td>\n",
       "      <td>1211.599000</td>\n",
       "      <td>5981.998000</td>\n",
       "      <td>file:///long_ter...</td>\n",
       "      <td>SECOM</td>\n",
       "    </tr>\n",
       "    <tr>\n",
       "      <td rowspan=\"3\" valign=\"top\">hoechst</td>\n",
       "      <td>11</td>\n",
       "      <td>aal_hoechst-S001...</td>\n",
       "      <td>1.0</td>\n",
       "      <td>2048.0</td>\n",
       "      <td>2048.0</td>\n",
       "      <td>891.0</td>\n",
       "      <td>1782.0</td>\n",
       "      <td>hoechst</td>\n",
       "      <td>S001</td>\n",
       "      <td>Andor ZYLA-4.2P-...</td>\n",
       "      <td>0</td>\n",
       "      <td>0</td>\n",
       "      <td>-953.470160</td>\n",
       "      <td>6490.093887</td>\n",
       "      <td>file:///long_ter...</td>\n",
       "      <td>SECOM</td>\n",
       "    </tr>\n",
       "    <tr>\n",
       "      <td>67</td>\n",
       "      <td>aah_hoechst-S006...</td>\n",
       "      <td>6.0</td>\n",
       "      <td>2048.0</td>\n",
       "      <td>2048.0</td>\n",
       "      <td>836.0</td>\n",
       "      <td>1672.0</td>\n",
       "      <td>hoechst</td>\n",
       "      <td>S006</td>\n",
       "      <td>Andor ZYLA-4.2P-...</td>\n",
       "      <td>1</td>\n",
       "      <td>1</td>\n",
       "      <td>2227.808609</td>\n",
       "      <td>6381.567861</td>\n",
       "      <td>file:///long_ter...</td>\n",
       "      <td>SECOM</td>\n",
       "    </tr>\n",
       "    <tr>\n",
       "      <td>80</td>\n",
       "      <td>aai_hoechst-S007...</td>\n",
       "      <td>7.0</td>\n",
       "      <td>2048.0</td>\n",
       "      <td>2048.0</td>\n",
       "      <td>817.0</td>\n",
       "      <td>1634.0</td>\n",
       "      <td>hoechst</td>\n",
       "      <td>S007</td>\n",
       "      <td>Andor ZYLA-4.2P-...</td>\n",
       "      <td>1</td>\n",
       "      <td>2</td>\n",
       "      <td>3022.650149</td>\n",
       "      <td>6381.736834</td>\n",
       "      <td>file:///long_ter...</td>\n",
       "      <td>SECOM</td>\n",
       "    </tr>\n",
       "    <tr>\n",
       "      <td rowspan=\"3\" valign=\"top\">insulin</td>\n",
       "      <td>69</td>\n",
       "      <td>aaj_insulin-S006...</td>\n",
       "      <td>6.0</td>\n",
       "      <td>2048.0</td>\n",
       "      <td>2048.0</td>\n",
       "      <td>433.0</td>\n",
       "      <td>866.0</td>\n",
       "      <td>insulin</td>\n",
       "      <td>S006</td>\n",
       "      <td>Andor ZYLA-4.2P-...</td>\n",
       "      <td>0</td>\n",
       "      <td>2</td>\n",
       "      <td>2418.121563</td>\n",
       "      <td>6576.879485</td>\n",
       "      <td>file:///long_ter...</td>\n",
       "      <td>SECOM</td>\n",
       "    </tr>\n",
       "    <tr>\n",
       "      <td>12</td>\n",
       "      <td>aaa_insulin-S002...</td>\n",
       "      <td>2.0</td>\n",
       "      <td>2048.0</td>\n",
       "      <td>2048.0</td>\n",
       "      <td>423.0</td>\n",
       "      <td>846.0</td>\n",
       "      <td>insulin</td>\n",
       "      <td>S002</td>\n",
       "      <td>Andor ZYLA-4.2P-...</td>\n",
       "      <td>3</td>\n",
       "      <td>0</td>\n",
       "      <td>-360.917125</td>\n",
       "      <td>5925.803454</td>\n",
       "      <td>file:///long_ter...</td>\n",
       "      <td>SECOM</td>\n",
       "    </tr>\n",
       "    <tr>\n",
       "      <td>66</td>\n",
       "      <td>aag_insulin-S006...</td>\n",
       "      <td>6.0</td>\n",
       "      <td>2048.0</td>\n",
       "      <td>2048.0</td>\n",
       "      <td>433.0</td>\n",
       "      <td>866.0</td>\n",
       "      <td>insulin</td>\n",
       "      <td>S006</td>\n",
       "      <td>Andor ZYLA-4.2P-...</td>\n",
       "      <td>1</td>\n",
       "      <td>0</td>\n",
       "      <td>2037.222002</td>\n",
       "      <td>6381.338217</td>\n",
       "      <td>file:///long_ter...</td>\n",
       "      <td>SECOM</td>\n",
       "    </tr>\n",
       "    <tr>\n",
       "      <td rowspan=\"3\" valign=\"top\">lil_EM</td>\n",
       "      <td>2308</td>\n",
       "      <td>acr_lil_EM-S008-...</td>\n",
       "      <td>8.0</td>\n",
       "      <td>4096.0</td>\n",
       "      <td>4096.0</td>\n",
       "      <td>31278.0</td>\n",
       "      <td>33263.0</td>\n",
       "      <td>lil_EM</td>\n",
       "      <td>S008</td>\n",
       "      <td>pcie-6251</td>\n",
       "      <td>15</td>\n",
       "      <td>5</td>\n",
       "      <td>3466.851000</td>\n",
       "      <td>6162.399000</td>\n",
       "      <td>file:///long_ter...</td>\n",
       "      <td>NaN</td>\n",
       "    </tr>\n",
       "    <tr>\n",
       "      <td>900</td>\n",
       "      <td>aka_lil_EM-S003-...</td>\n",
       "      <td>3.0</td>\n",
       "      <td>4096.0</td>\n",
       "      <td>4096.0</td>\n",
       "      <td>30990.0</td>\n",
       "      <td>32930.0</td>\n",
       "      <td>lil_EM</td>\n",
       "      <td>S003</td>\n",
       "      <td>pcie-6251</td>\n",
       "      <td>3</td>\n",
       "      <td>4</td>\n",
       "      <td>442.643000</td>\n",
       "      <td>6367.457000</td>\n",
       "      <td>file:///long_ter...</td>\n",
       "      <td>NaN</td>\n",
       "    </tr>\n",
       "    <tr>\n",
       "      <td>1870</td>\n",
       "      <td>akl_lil_EM-S006-...</td>\n",
       "      <td>6.0</td>\n",
       "      <td>4096.0</td>\n",
       "      <td>4096.0</td>\n",
       "      <td>31108.0</td>\n",
       "      <td>33227.0</td>\n",
       "      <td>lil_EM</td>\n",
       "      <td>S006</td>\n",
       "      <td>pcie-6251</td>\n",
       "      <td>3</td>\n",
       "      <td>15</td>\n",
       "      <td>2443.196000</td>\n",
       "      <td>6398.953000</td>\n",
       "      <td>file:///long_ter...</td>\n",
       "      <td>NaN</td>\n",
       "    </tr>\n",
       "  </tbody>\n",
       "</table>\n",
       "</div>"
      ],
      "text/plain": [
       "                           tileId    z   width  height  minIntensity  \\\n",
       "stack                                                                  \n",
       "big_EM  96    aaa_big_EM-S009-...  9.0  4096.0  4096.0       32113.0   \n",
       "        107   aal_big_EM-S009-...  9.0  4096.0  4096.0       32113.0   \n",
       "        38    aac_big_EM-S004-...  4.0  4096.0  4096.0       32127.0   \n",
       "hoechst 11    aal_hoechst-S001...  1.0  2048.0  2048.0         891.0   \n",
       "        67    aah_hoechst-S006...  6.0  2048.0  2048.0         836.0   \n",
       "        80    aai_hoechst-S007...  7.0  2048.0  2048.0         817.0   \n",
       "insulin 69    aaj_insulin-S006...  6.0  2048.0  2048.0         433.0   \n",
       "        12    aaa_insulin-S002...  2.0  2048.0  2048.0         423.0   \n",
       "        66    aag_insulin-S006...  6.0  2048.0  2048.0         433.0   \n",
       "lil_EM  2308  acr_lil_EM-S008-...  8.0  4096.0  4096.0       31278.0   \n",
       "        900   aka_lil_EM-S003-...  3.0  4096.0  4096.0       30990.0   \n",
       "        1870  akl_lil_EM-S006-...  6.0  4096.0  4096.0       31108.0   \n",
       "\n",
       "              maxIntensity    stack sectionId               camera  imageRow  \\\n",
       "stack                                                                          \n",
       "big_EM  96         34037.0   big_EM      S009            pcie-6251         3   \n",
       "        107        34037.0   big_EM      S009            pcie-6251         0   \n",
       "        38         33182.0   big_EM      S004            pcie-6251         3   \n",
       "hoechst 11          1782.0  hoechst      S001  Andor ZYLA-4.2P-...         0   \n",
       "        67          1672.0  hoechst      S006  Andor ZYLA-4.2P-...         1   \n",
       "        80          1634.0  hoechst      S007  Andor ZYLA-4.2P-...         1   \n",
       "insulin 69           866.0  insulin      S006  Andor ZYLA-4.2P-...         0   \n",
       "        12           846.0  insulin      S002  Andor ZYLA-4.2P-...         3   \n",
       "        66           866.0  insulin      S006  Andor ZYLA-4.2P-...         1   \n",
       "lil_EM  2308       33263.0   lil_EM      S008            pcie-6251        15   \n",
       "        900        32930.0   lil_EM      S003            pcie-6251         3   \n",
       "        1870       33227.0   lil_EM      S006            pcie-6251         3   \n",
       "\n",
       "              imageCol       stageX       stageY             imageUrl  temca  \n",
       "stack                                                                         \n",
       "big_EM  96           0  3831.122000  5972.378000  file:///long_ter...  SECOM  \n",
       "        107          0  3831.134000  6556.207000  file:///long_ter...  SECOM  \n",
       "        38           2  1211.599000  5981.998000  file:///long_ter...  SECOM  \n",
       "hoechst 11           0  -953.470160  6490.093887  file:///long_ter...  SECOM  \n",
       "        67           1  2227.808609  6381.567861  file:///long_ter...  SECOM  \n",
       "        80           2  3022.650149  6381.736834  file:///long_ter...  SECOM  \n",
       "insulin 69           2  2418.121563  6576.879485  file:///long_ter...  SECOM  \n",
       "        12           0  -360.917125  5925.803454  file:///long_ter...  SECOM  \n",
       "        66           0  2037.222002  6381.338217  file:///long_ter...  SECOM  \n",
       "lil_EM  2308         5  3466.851000  6162.399000  file:///long_ter...    NaN  \n",
       "        900          4   442.643000  6367.457000  file:///long_ter...    NaN  \n",
       "        1870        15  2443.196000  6398.953000  file:///long_ter...    NaN  "
      ]
     },
     "execution_count": 16,
     "metadata": {},
     "output_type": "execute_result"
    }
   ],
   "source": [
    "# Project DataFrame\n",
    "df_project = create_project_DataFrame(render=render)\n",
    "# Preview\n",
    "df_project.groupby('stack').apply(lambda x: x.sample(3))"
   ]
  },
  {
   "cell_type": "markdown",
   "metadata": {},
   "source": [
    "### Map out tiles"
   ]
  },
  {
   "cell_type": "code",
   "execution_count": 17,
   "metadata": {},
   "outputs": [
    {
     "data": {
      "image/png": "[encoded data removed]",
      "text/plain": [
       "<Figure size 5184x576 with 9 Axes>"
      ]
     },
     "metadata": {
      "needs_background": "light"
     },
     "output_type": "display_data"
    }
   ],
   "source": [
    "# Create tilemap DataFrame\n",
    "# ------------------------\n",
    "df_tilemap = create_tilemap_DataFrame(render=render)\n",
    "\n",
    "# Set up figure\n",
    "# -------------\n",
    "ncols = len(sections)\n",
    "fig, axes = plt.subplots(ncols=ncols, figsize=(8*ncols, 8))\n",
    "axes_map = {k: v for k, v in zip(sections, axes.flat)}\n",
    "cmap = {k: v for k, v in zip(stacks, sns.color_palette(n_colors=len(stacks)))}\n",
    "\n",
    "# Iterate through layers\n",
    "for sectionId, layer in df_tilemap.groupby('sectionId'):\n",
    "    # Collect all tiles in each layer to determine bounds\n",
    "    boxes = []\n",
    "    # Set axis\n",
    "    ax = axes_map[sectionId]\n",
    "\n",
    "    # Loop through tilesets within each layer\n",
    "    for stack, tileset in layer.groupby('stack'):\n",
    "\n",
    "        # Loop through each tile\n",
    "        for i, tile in tileset.iterrows():\n",
    "\n",
    "            # Create `shapely.box` resembling raw image tile\n",
    "            b = box(0, 0, tile['width'], tile['height'])\n",
    "            # Apply transforms to `shapely.box`\n",
    "            b = affinity.affine_transform(b, tile['T0'])\n",
    "            b = affinity.affine_transform(b, tile['T1'])\n",
    "            boxes.append(b)\n",
    "            # Get coordinates of `shapely.box` to plot matplotlib polygon patch\n",
    "            xy = np.array(b.exterior.xy).T\n",
    "            p = Polygon(xy, color=cmap[stack], alpha=0.2)\n",
    "            ax.add_patch(p)\n",
    "\n",
    "    # Axis aesthetics\n",
    "    ax.set_title(sectionId)\n",
    "    ax.set_xlabel('X [px]')\n",
    "    ax.set_ylabel('Y [px]')\n",
    "    # Determine bounds\n",
    "    bounds = np.swapaxes([b.exterior.xy for b in boxes], 1, 2).reshape(-1, 2)\n",
    "    ax.set_xlim(bounds[:, 0].min(), bounds[:, 0].max())\n",
    "    ax.set_ylim(bounds[:, 1].min(), bounds[:, 1].max())\n",
    "    ax.invert_yaxis()\n",
    "    ax.set_aspect('equal')"
   ]
  },
  {
   "cell_type": "markdown",
   "metadata": {},
   "source": [
    "### Render images"
   ]
  },
  {
   "cell_type": "code",
   "execution_count": null,
   "metadata": {},
   "outputs": [],
   "source": []
  }
 ],
 "metadata": {
  "kernelspec": {
   "display_name": "Python 3",
   "language": "python",
   "name": "python3"
  },
  "language_info": {
   "codemirror_mode": {
    "name": "ipython",
    "version": 3
   },
   "file_extension": ".py",
   "mimetype": "text/x-python",
   "name": "python",
   "nbconvert_exporter": "python",
   "pygments_lexer": "ipython3",
   "version": "3.7.4"
  }
 },
 "nbformat": 4,
 "nbformat_minor": 4
}
