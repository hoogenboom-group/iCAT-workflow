{
 "cells": [
  {
   "cell_type": "markdown",
   "metadata": {},
   "source": [
    "# iCAT Overlay\n",
    "---"
   ]
  },
  {
   "cell_type": "markdown",
   "metadata": {},
   "source": [
    "#### Packages"
   ]
  },
  {
   "cell_type": "code",
   "execution_count": null,
   "metadata": {},
   "outputs": [],
   "source": [
    "from pathlib import Path\n",
    "from itertools import product\n",
    "from pprint import pprint\n",
    "\n",
    "from tqdm.notebook import tqdm\n",
    "import numpy as np\n",
    "import pandas as pd\n",
    "import seaborn as sns\n",
    "import altair as alt\n",
    "\n",
    "from shapely.geometry import box\n",
    "from shapely import affinity\n",
    "import matplotlib.pyplot as plt\n",
    "from matplotlib.patches import Polygon\n",
    "\n",
    "import renderapi\n",
    "from renderapi.tilespec import TileSpec\n",
    "from renderapi.transform import AffineModel as AffineRender\n",
    "\n",
    "from icatapi.render_pandas import *\n",
    "from icatapi.overlay import *"
   ]
  },
  {
   "cell_type": "markdown",
   "metadata": {},
   "source": [
    "#### Settings"
   ]
  },
  {
   "cell_type": "code",
   "execution_count": null,
   "metadata": {},
   "outputs": [],
   "source": [
    "# pandas display settings\n",
    "# -----------------------\n",
    "pd.set_option('display.max_rows', 20)\n",
    "pd.set_option('display.width', None)\n",
    "pd.set_option('display.max_colwidth', 20)"
   ]
  },
  {
   "cell_type": "markdown",
   "metadata": {},
   "source": [
    "## Set up `render-ws` environment\n",
    "---"
   ]
  },
  {
   "cell_type": "code",
   "execution_count": null,
   "metadata": {},
   "outputs": [],
   "source": [
    "# `render` project parameters\n",
    "# ---------------------------\n",
    "owner = 'rlane'  # replace with your name\n",
    "project = '20191230_RL010'\n",
    "\n",
    "# Create a renderapi.connect.Render object\n",
    "# ----------------------------------------\n",
    "render_connect_params = {\n",
    "    'host': 'sonic',\n",
    "    'port': 8080,\n",
    "    'owner': owner,\n",
    "    'project': project,\n",
    "    'client_scripts': '/home/catmaid/render/render-ws-java-client/src/main/scripts',\n",
    "    'memGB': '2G'\n",
    "}\n",
    "render = renderapi.connect(**render_connect_params)\n",
    "\n",
    "# Infer stack and section info\n",
    "# ----------------------------\n",
    "stacks = renderapi.render.get_stacks_by_owner_project(render=render)\n",
    "stacks_EM = [stack for stack in stacks if 'EM' in stack]\n",
    "stacks_FM = [stack for stack in stacks if 'EM' not in stack]\n",
    "stacks_2_overlay = stacks_FM\n",
    "stack_underneath = 'big_EM'\n",
    "\n",
    "# Output\n",
    "# ------\n",
    "out = f\"\"\"\\\n",
    "all stacks.......... {stacks}\n",
    "EM stacks........... {stacks_EM}\n",
    "FM stacks........... {stacks_FM}\n",
    "stacks to overlay... {stacks_2_overlay}\n",
    "stack underneath.... {stack_underneath}\n",
    "...\n",
    "\"\"\"\n",
    "print(out)\n",
    "\n",
    "# Create project DataFrame\n",
    "# ------------------------\n",
    "df_project = create_project_DataFrame(render=render)\n",
    "df_project.groupby('stack')\\\n",
    "          .apply(lambda x: x.sample(3))\\\n",
    "          .drop(['camera', 'temca'], axis=1)"
   ]
  },
  {
   "cell_type": "markdown",
   "metadata": {},
   "source": [
    "## Compute overlay transforms\n",
    "---"
   ]
  },
  {
   "cell_type": "markdown",
   "metadata": {},
   "source": [
    "### Sample overlay transform"
   ]
  },
  {
   "cell_type": "code",
   "execution_count": null,
   "metadata": {},
   "outputs": [],
   "source": [
    "# Choose random FM image tile filepath\n",
    "fp = Path(df_project.loc[df_project['stack'].isin(stacks_FM + [stack_underneath])]\\\n",
    "                    .sample(1)['imageUrl']\\\n",
    "                    .str.split('://')\\\n",
    "                    .iloc[0][1])\n",
    "\n",
    "# Test parser\n",
    "(psx, psy), ro, sh, (trx, try_) = get_transform_metadata(fp)\n",
    "\n",
    "# Output\n",
    "out = f\"\"\"\\\n",
    "File.......... {fp.parent.name}/{fp.name}\n",
    "Pixel size.... ({1e9*psx:.1f}nm, {1e9*psy:.1f}nm)\n",
    "Rotation...... {np.rad2deg(ro):.1f}°\n",
    "Shear......... {sh:.2e}\n",
    "Translation... ({1e6*trx:.1f}um, {1e6*try_:.1f}um)\n",
    "\"\"\"\n",
    "print(out)"
   ]
  },
  {
   "cell_type": "markdown",
   "metadata": {},
   "source": [
    "### Compile transform data"
   ]
  },
  {
   "cell_type": "code",
   "execution_count": null,
   "metadata": {},
   "outputs": [],
   "source": [
    "# Create multiindex\n",
    "overlay_cols = ['stack', 'z', 'sectionId',\n",
    "                'tileId', 'imageRow', 'imageCol',\n",
    "                'width', 'height',\n",
    "                'imageUrl', 'transforms',\n",
    "                'ps', 'ro', 'sh', 'tr',\n",
    "                'overlay_transforms']\n",
    "multiindex = np.array(list(product(overlay_cols,\n",
    "                                   ['EM', 'FM']))).T.tolist()\n",
    "# Initialize overlay DataFrame\n",
    "df_overlay = pd.DataFrame(columns=multiindex)\n",
    "\n",
    "# Loop through overlay stacks\n",
    "for stack in stacks_2_overlay:\n",
    "    # Filter to stack DataFrame\n",
    "    df_stack = df_project.loc[(df_project['stack'] == stack)].copy()\n",
    "\n",
    "    # Loop through FM tiles\n",
    "    for i, FM_tile in df_stack.iterrows():\n",
    "\n",
    "        # Find correlative EM tile\n",
    "        EM_tile = df_project.loc[(df_project['stack'] == stack_underneath) &\\\n",
    "                                 (df_project['z'] == FM_tile['z']) &\\\n",
    "                                 (df_project['imageRow'] == FM_tile['imageRow']) &\\\n",
    "                                 (df_project['imageCol'] == FM_tile['imageCol'])].iloc[0]\n",
    "\n",
    "        # Parse tif for transform metadata\n",
    "        fp_EM = Path(EM_tile['imageUrl'].split('://')[1])\n",
    "        fp_FM = Path(FM_tile['imageUrl'].split('://')[1])\n",
    "        ps_EM, ro_EM, sh_EM, tr_EM = get_transform_metadata(fp_EM)\n",
    "        ps_FM, ro_FM, sh_FM, tr_FM = get_transform_metadata(fp_FM)\n",
    "\n",
    "        # Build up overlay DataFrame one FM tile at a time\n",
    "        df_overlay.loc[i, 'stack'] = EM_tile['stack'], FM_tile['stack']\n",
    "        df_overlay.loc[i, 'z'] = EM_tile['z'], FM_tile['z']\n",
    "        df_overlay.loc[i, 'sectionId'] = EM_tile['sectionId'], FM_tile['sectionId']\n",
    "        df_overlay.loc[i, 'tileId'] = EM_tile['tileId'], FM_tile['tileId']\n",
    "        df_overlay.loc[i, 'imageRow'] = EM_tile['imageRow'], FM_tile['imageRow']\n",
    "        df_overlay.loc[i, 'imageCol'] = EM_tile['imageCol'], FM_tile['imageCol']\n",
    "        df_overlay.loc[i, 'width'] = EM_tile['width'], FM_tile['width']\n",
    "        df_overlay.loc[i, 'height'] = EM_tile['height'], FM_tile['height']\n",
    "        df_overlay.loc[i, 'imageUrl'] = EM_tile['imageUrl'], FM_tile['imageUrl']\n",
    "        df_overlay.loc[i, 'transforms'] = [EM_tile['transforms']], [FM_tile['transforms']]\n",
    "        # Transform metadata\n",
    "        df_overlay.loc[i, 'ps'] = ps_EM, ps_FM\n",
    "        df_overlay.loc[i, 'ro'] = ro_EM, ro_FM\n",
    "        df_overlay.loc[i, 'sh'] = sh_EM, sh_FM\n",
    "        df_overlay.loc[i, 'tr'] = tr_EM, tr_FM\n",
    "\n",
    "# Unpack nested transforms\n",
    "df_overlay[('transforms', 'EM')] = df_overlay[('transforms', 'EM')].apply(lambda x: x[0])\n",
    "df_overlay[('transforms', 'FM')] = df_overlay[('transforms', 'FM')].apply(lambda x: x[0])\n",
    "\n",
    "# Preview tile data\n",
    "pd.set_option('display.max_colwidth', 15)\n",
    "df_overlay.groupby(('stack', 'FM'))\\\n",
    "          .apply(lambda x: x.sample(4))\\\n",
    "          .drop(['ps', 'ro', 'sh', 'tr',\n",
    "                 'overlay_transforms'], level=0, axis=1)"
   ]
  },
  {
   "cell_type": "code",
   "execution_count": null,
   "metadata": {},
   "outputs": [],
   "source": [
    "# Preview transform data\n",
    "pd.set_option('display.max_colwidth', 15)\n",
    "df_overlay.groupby(('stack', 'FM'))\\\n",
    "          .apply(lambda x: x.sample(4))\\\n",
    "          .drop(['tileId', 'width', 'height', 'imageUrl',\n",
    "                 'transforms', 'overlay_transforms'], level=0, axis=1)"
   ]
  },
  {
   "cell_type": "markdown",
   "metadata": {},
   "source": [
    "### Compute overlay transforms"
   ]
  },
  {
   "cell_type": "code",
   "execution_count": null,
   "metadata": {},
   "outputs": [],
   "source": [
    "# Iterate through CLEM tiles\n",
    "for i, tile in df_overlay.iterrows():\n",
    "\n",
    "    # Initial translation derived from stage position\n",
    "    T0_EM = tile[('transforms', 'EM')][-1]\n",
    "    T0_FM = tile[('transforms', 'FM')][-1]\n",
    "\n",
    "    # Overlay translation to center tiles\n",
    "    C0_EM = AffineRender(B0=-tile[('width', 'EM')]/2,\n",
    "                         B1=-tile[('height', 'EM')]/2)\n",
    "    C0_FM = AffineRender(B0=-tile[('width', 'FM')]/2,\n",
    "                         B1=-tile[('height', 'FM')]/2)\n",
    "\n",
    "    # Compute relative transform\n",
    "    A = AffineRender()\n",
    "    A.M = compute_relative_transform(*np.array(tile['ps'].tolist()).T,\n",
    "                                     *np.array(tile['ro'].tolist()),\n",
    "                                     *np.array(tile['sh'].tolist()),\n",
    "                                     *np.array(tile['tr'].tolist()).T)\n",
    "\n",
    "    # Set overlay transforms\n",
    "    df_overlay.loc[i, 'overlay_transforms'] = [C0_EM, T0_EM], [C0_FM, A, T0_EM]\n",
    "\n",
    "# Preview sample overlay transform\n",
    "sample = df_overlay.sample(1)\n",
    "out = f\"\"\"\\\n",
    "{sample[('tileId', 'EM')].iloc[0]} | \\\n",
    "{sample[('tileId', 'FM')].iloc[0]}\n",
    "\"\"\"\n",
    "print(out)\n",
    "sample['overlay_transforms'].values.tolist()"
   ]
  },
  {
   "cell_type": "markdown",
   "metadata": {},
   "source": [
    "## Upload overlaid stacks to `render-ws`\n",
    "---"
   ]
  },
  {
   "cell_type": "markdown",
   "metadata": {},
   "source": [
    "### Create overlaid stacks"
   ]
  },
  {
   "cell_type": "code",
   "execution_count": null,
   "metadata": {},
   "outputs": [],
   "source": [
    "# Collect overlay stacks\n",
    "stacks_overlaid = []\n",
    "\n",
    "# Iterate through stacks\n",
    "for stack in tqdm(stacks_2_overlay + [stack_underneath]):\n",
    "\n",
    "    # Set overlay stack name\n",
    "    stack_overlaid = f\"{stack}_overlaid\"\n",
    "    stacks_overlaid.append(stack_overlaid)\n",
    "\n",
    "    # Get stack DataFrame\n",
    "    df_stack = df_project.loc[(df_project['stack'] == stack)].copy()\n",
    "    df_stack.rename(columns={'minIntensity': 'minint',\n",
    "                             'maxIntensity': 'maxint'}, inplace=True)\n",
    "\n",
    "    # Create `TileSpec`s\n",
    "    tile_specs = []\n",
    "    for i, tile in df_stack.iterrows():\n",
    "\n",
    "        # Get overlay transforms for each tile from overlay DataFrame\n",
    "        k = 'FM' if stack in stacks_FM else 'EM' \n",
    "        tile['tforms'] = df_overlay.loc[(df_overlay[('stack', k)] == tile['stack']) &\\\n",
    "                                        (df_overlay[('z', k)] == tile['z']) &\\\n",
    "                                        (df_overlay[('imageRow', k)] == tile['imageRow']) &\\\n",
    "                                        (df_overlay[('imageCol', k)] == tile['imageCol']),\n",
    "                                        ('overlay_transforms', k)].iloc[0]\n",
    "\n",
    "        # Create `TileSpec\n",
    "        ts = TileSpec(**tile.to_dict())\n",
    "        tile_specs.append(ts)\n",
    "\n",
    "    # Create stack\n",
    "    renderapi.stack.create_stack(stack_overlaid,\n",
    "                                 render=render)\n",
    "\n",
    "    # Import TileSpecs to render\n",
    "    renderapi.client.import_tilespecs(stack_overlaid,\n",
    "                                      tile_specs,\n",
    "                                      render=render)\n",
    "\n",
    "    # Set stack state to complete\n",
    "    renderapi.stack.set_stack_state(stack_overlaid,\n",
    "                                    'COMPLETE',\n",
    "                                    render=render)"
   ]
  },
  {
   "cell_type": "markdown",
   "metadata": {},
   "source": [
    "## Inspect overlaid stacks\n",
    "---"
   ]
  },
  {
   "cell_type": "markdown",
   "metadata": {},
   "source": [
    "### Tile map"
   ]
  },
  {
   "cell_type": "code",
   "execution_count": null,
   "metadata": {},
   "outputs": [],
   "source": [
    "# Specify stacks and sections\n",
    "stacks_2_plot = stacks_overlaid\n",
    "sections_2_plot = df_project['sectionId'].unique().tolist()\n",
    "\n",
    "# Set up figure\n",
    "ncols = len(sections_2_plot)\n",
    "fig, axes = plt.subplots(ncols=ncols, figsize=(8*ncols, 8))\n",
    "axmap = {k: v for k, v in zip(sections_2_plot, axes.flat)}\n",
    "cmap = {k: v for k, v in zip(stacks_2_plot, sns.color_palette(n_colors=len(stacks_2_plot)))}\n",
    "\n",
    "# Iterate through layers\n",
    "df_stacks = create_stacks_DataFrame(stacks_2_plot,\n",
    "                                    render=render)\n",
    "for sectionId, layer in tqdm(df_stacks.groupby('sectionId')):\n",
    "    # Collect all tiles in each layer to determine bounds\n",
    "    boxes = []\n",
    "    # Set axis\n",
    "    ax = axmap[sectionId]\n",
    "\n",
    "    # Loop through tilesets within each layer\n",
    "    for stack, tileset in layer.groupby('stack'):\n",
    "\n",
    "        # Loop through each tile\n",
    "        for i, tile in tileset.iterrows():\n",
    "\n",
    "            # Create `shapely.box` resembling raw image tile\n",
    "            b = box(0, 0, tile['width'], tile['height'])\n",
    "            # Apply transforms to `shapely.box`\n",
    "            for tform in tile['transforms']:\n",
    "                A = (tform.M[:2, :2].ravel().tolist() +\n",
    "                     tform.M[:2,  2].ravel().tolist())\n",
    "                b = affinity.affine_transform(b, A)\n",
    "            boxes.append(b)\n",
    "            # Get coordinates of `shapely.box` to plot matplotlib polygon patch\n",
    "            xy = np.array(b.exterior.xy).T\n",
    "            p = Polygon(xy, color=cmap[stack], alpha=0.2)\n",
    "            ax.add_patch(p)\n",
    "\n",
    "    # Axis aesthetics\n",
    "    ax.set_title(sectionId)\n",
    "    ax.set_xlabel('X [px]')\n",
    "    ax.set_ylabel('Y [px]')\n",
    "    # Determine bounds\n",
    "    bounds = np.swapaxes([b.exterior.xy for b in boxes], 1, 2).reshape(-1, 2)\n",
    "    ax.set_xlim(bounds[:, 0].min(), bounds[:, 0].max())\n",
    "    ax.set_ylim(bounds[:, 1].min(), bounds[:, 1].max())\n",
    "    ax.invert_yaxis()\n",
    "    ax.set_aspect('equal')"
   ]
  },
  {
   "cell_type": "markdown",
   "metadata": {},
   "source": [
    "### Render images"
   ]
  },
  {
   "cell_type": "code",
   "execution_count": null,
   "metadata": {},
   "outputs": [],
   "source": [
    "# Specify stacks and sections\n",
    "stacks_2_plot = stacks_overlaid\n",
    "sections_2_plot = df_project['sectionId'].unique().tolist()\n",
    "\n",
    "# Set up figure\n",
    "nrows = len(stacks_2_plot)\n",
    "ncols = len(sections_2_plot)\n",
    "fig, axes = plt.subplots(nrows, ncols, figsize=(8*ncols, 8*nrows))\n",
    "axmap = {k: v for k, v in zip(product(stacks_2_plot, sections_2_plot), axes.flat)}\n",
    "cmap = {k: v for k, v in zip(stacks_2_plot, sns.color_palette(n_colors=len(stacks_2_plot)))}\n",
    "\n",
    "# Iterate through layers\n",
    "df_stacks = create_stacks_DataFrame(stacks_2_plot,\n",
    "                                    render=render)\n",
    "for (stack, sectionId), tileset in tqdm(df_stacks.groupby(['stack', 'sectionId'])):\n",
    "\n",
    "    # Set axis\n",
    "    ax = axmap[(stack, sectionId)]\n",
    "    # Fetch tileset image\n",
    "    z = tileset['z'].iloc[0]\n",
    "    bounds = renderapi.stack.get_bounds_from_z(stack=stack,\n",
    "                                               z=z,\n",
    "                                               render=render)\n",
    "    scale = 1024 / np.max([bounds['maxX'] - bounds['minX'],\n",
    "                           bounds['maxY'] - bounds['minY']])\n",
    "    image = renderapi.image.get_section_image(stack=stack,\n",
    "                                              z=z,\n",
    "                                              scale=scale,\n",
    "                                              maxTileSpecsToRender=30,\n",
    "                                              render=render)\n",
    "    # Plot\n",
    "    extent = [bounds['minX'],  # left\n",
    "              bounds['maxX'],  # right\n",
    "              bounds['minY'],  # bottom\n",
    "              bounds['maxY']]  # top\n",
    "    ax.imshow(image, extent=extent, origin='lower')\n",
    "    # Axis aesthetics\n",
    "    ax.set_title(f\"{stack} | {sectionId}\")\n",
    "    ax.set_xlabel('X [px]')\n",
    "    ax.set_ylabel('Y [px]')\n",
    "    ax.set_xlim()\n",
    "    ax.invert_yaxis()"
   ]
  }
 ],
 "metadata": {
  "kernelspec": {
   "display_name": "Python 3",
   "language": "python",
   "name": "python3"
  },
  "language_info": {
   "codemirror_mode": {
    "name": "ipython",
    "version": 3
   },
   "file_extension": ".py",
   "mimetype": "text/x-python",
   "name": "python",
   "nbconvert_exporter": "python",
   "pygments_lexer": "ipython3",
   "version": "3.7.4"
  }
 },
 "nbformat": 4,
 "nbformat_minor": 4
}
