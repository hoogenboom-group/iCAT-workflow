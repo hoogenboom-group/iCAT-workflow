{
 "cells": [
  {
   "cell_type": "markdown",
   "metadata": {},
   "source": [
    "# iCAT Workflow\n",
    "---\n",
    "A walkthrough for getting started with the iCAT post-processing workflow on the sonic server. This walkthrough assumes that both `render-ws` and CATMAID are up and running successfully and that you have gone through the [`iCAT-startup`](https://github.com/lanery/iCAT-workflow/blob/master/docs/iCAT-startup.md) guide (or that someone else has on your behalf).\n",
    "\n",
    "First, check that both `render-ws` and CATMAID are running.\n",
    "```\n",
    "systemctl status render\n",
    "systemctl status catmaid\n",
    "```\n",
    "And if you get the green light, go to the homepages for `render-ws` and CATMAID\n",
    "\n",
    "| Service     | Homepage                                      |\n",
    "| ----------: | --------------------------------------------- |\n",
    "| `render-ws` | http://sonic:8080/render-ws/view/index.html   |\n",
    "| CATMAID     | http://sonic/catmaid/                         |\n",
    "\n",
    "Also make sure that the `icat` conda environment is the active environment.\n",
    "\n",
    "---\n",
    "## 1 Clone this repository\n",
    "This repository contains sample data and scripts helpful for running through an introductory iCAT workflow/project. Assuming you are somewhere in your home directory\n",
    "```\n",
    "git clone https://github.com/lanery/iCAT-workflow.git\n",
    "```\n",
    "\n",
    "#### Sample Data\n",
    "The sample data is organized such that each \"stack\" of images is stored in its own directory. A \"stack\" is a key concept within the `render-ws` + CATMAID ecosystem that will be expanded upon later. But basically, a stack can be thought of a collection of **one or more** *images* at **one or more** *layers in z* from **one** *imaging channel*. Hence, all of the small EM tiles will belong to one stack as will the large EM tiles, as will each fluorescence channel. It is perhaps easiest to grasp this organization scheme by looking at the directory tree of the sample data (`iCAT-workflow/iCAT_sample_data`)\n",
    "```\n",
    "iCAT-workflow\n",
    "└───┬ iCAT_sample_data\n",
    "    ├───┬ amylase\n",
    "    │   └─── amylase-00000x00000.ome.tif\n",
    "    ├───┬ big_EM\n",
    "    │   └──── big_EM-00000x00000.ome.tif\n",
    "    ├───┬ hoechst\n",
    "    │   └──── hoechst-00000x00000.ome.tif\n",
    "    ├───┬ insulin\n",
    "    │   └──── insulin-00000x00000.ome.tif\n",
    "    └───┬ lil_EM\n",
    "        ├──── lil_EM-00008x00011.ome.tif\n",
    "        ├──── lil_EM-00008x00012.ome.tif\n",
    "        ├──── ...\n",
    "        ├──── lil_EM-00012x00015.ome.tif\n",
    "        └──── lil_EM-00012x00016.ome.tif\n",
    "\n",
    "```\n",
    "This is (at least for now) the optimal organization scheme for working with image data in the workflow. Unfortunately, it is not how raw data is output by Odemis. How to go from raw Odemis data to nicely organized, iCAT-friendly data will be covered later.\n",
    "\n",
    "It is assumed that if you are going to be viewing your data in CATMAID, then it is worthy of long term storage. Even though this is just sample data, we will treat it as if it were a real project. Thus, copy the sample data to your long term storage folder.\n",
    "```\n",
    "cd ./iCAT-workflow/\n",
    "cp -a ./iCAT_sample_data/ /long_term_storage/<user>/<data storage folder>/\n",
    "```"
   ]
  },
  {
   "cell_type": "markdown",
   "metadata": {},
   "source": [
    "---\n",
    "## 2 First render-python project\n",
    "#### Documentation\n",
    "* http://render-python.readthedocs.io/en/latest/\n",
    "* https://github.com/saalfeldlab/render\n",
    "\n",
    "A project can have multiple stacks and each stack can contain multiple z layers with each layer containing multiple image tiles. The organizational structure of each stack, its layers, and its layers' tiles are all stored as metadata in a database accessed via http requests. Or something like that. We will now go through an interactive `render-python` session to get a feeling for what working with `render-ws` is like. Note that `render-python` is essentially just a regular python package (one that happens to make a lot of calls to a java library) and so it is not inherently interactive. You could instead run `render-python` with scripts, a package of your own, or make use of the Allen Institute's [`render-python-apps`](https://github.com/AllenInstitute/render-python-apps/tree/master/renderapps) repository.\n",
    "\n",
    "### 2.0 Imports\n",
    "Import the `render-python` api as well as some other useful libraries"
   ]
  },
  {
   "cell_type": "code",
   "execution_count": 1,
   "metadata": {},
   "outputs": [],
   "source": [
    "# Libraries needed\n",
    "import re\n",
    "import subprocess\n",
    "import shutil\n",
    "from pathlib import Path\n",
    "import renderapi\n",
    "from renderapi.layout import Layout\n",
    "from renderapi.transform import AffineModel\n",
    "from renderapi.tilespec import TileSpec"
   ]
  },
  {
   "cell_type": "markdown",
   "metadata": {},
   "source": [
    "### 2.1 Stack Data\n",
    "Practically speaking, this is not really how you would store data about your stack. `<Future documentation>` goes over good practices for both generating the necessary stack data as well as importing stacks to `render`. But since this is the first time, we'll keep things simple and pretend it is this easy in practice. Anyway, skim through `stack_data` to get a feel for what information a stack contains. But note that we infer additional information about a stack from these basic parameters, and that the data below is just that which is difficult to infer without parsing the metadata.\n",
    "\n",
    "Change `<user>` to your username."
   ]
  },
  {
   "cell_type": "code",
   "execution_count": 2,
   "metadata": {},
   "outputs": [],
   "source": [
    "user = '<user>'\n",
    "\n",
    "stack_data = {\n",
    "    'data_dir': Path(f'/long_term_storage/{user}/SECOM/iCAT_sample_data'),\n",
    "    'tile_convention': '{stack}/{stack}-{c}x{r}.ome.tif',\n",
    "    'width': 2048,\n",
    "    'height': 2048,\n",
    "    'N_sections': 1,\n",
    "    'lil_EM': {\n",
    "        'px_size': 4.829,  # nm/px\n",
    "        'overlap': 20,  # %\n",
    "        'intensity_range': (31800, 35200),\n",
    "        'scopeId': 'Verios',\n",
    "        'cameraId': 'TLD',\n",
    "    },\n",
    "    'big_EM': {\n",
    "        'px_size': 84.9,  # nm/px\n",
    "        'overlap': 20,  # %\n",
    "        'intensity_range': (30400, 32100),\n",
    "        'scopeId': 'Verios',\n",
    "        'cameraId': 'TLD',\n",
    "    },\n",
    "    'hoechst': {\n",
    "        'px_size': 99.6,  # nm/px\n",
    "        'overlap': 20,  # %\n",
    "        'intensity_range': (2500, 15400),\n",
    "        'scopeId': 'SECOM',\n",
    "        'cameraId': 'Andor',\n",
    "    },\n",
    "    'amylase': {\n",
    "        'px_size': 99.6,  # nm/px\n",
    "        'overlap': 20,  # %\n",
    "        'intensity_range': (2000, 8000),\n",
    "        'scopeId': 'SECOM',\n",
    "        'cameraId': 'Andor',\n",
    "    },\n",
    "    'insulin': {\n",
    "        'px_size': 99.6,  # nm/px\n",
    "        'overlap': 20,  # %\n",
    "        'intensity_range': (1200, 5000),\n",
    "        'scopeId': 'SECOM',\n",
    "        'cameraId': 'Andor',\n",
    "    }\n",
    "}"
   ]
  },
  {
   "cell_type": "markdown",
   "metadata": {},
   "source": [
    "### 2.2 Create (Empty) render Stacks\n",
    "Next we will create empty stacks within `render`. To do so, we first have to supply `render-python` with some configuration info."
   ]
  },
  {
   "cell_type": "code",
   "execution_count": 3,
   "metadata": {},
   "outputs": [],
   "source": [
    "# Create a renderapi.connect.Render object\n",
    "render_connect_params = {\n",
    "    'host': 'sonic',\n",
    "    'port': 8080,\n",
    "    'owner': user,\n",
    "    'project': 'iCAT_demo',\n",
    "    'client_scripts': '/home/catmaid/render/render-ws-java-client/src/main/scripts',\n",
    "    'memGB': '2G'\n",
    "}\n",
    "render = renderapi.connect(**render_connect_params)\n",
    "\n",
    "# Create (empty) stacks\n",
    "stacks = ['lil_EM',\n",
    "          'big_EM',\n",
    "          'hoechst',\n",
    "          'amylase',\n",
    "          'insulin']\n",
    "\n",
    "for stack in stacks:\n",
    "    renderapi.stack.create_stack(stack, render=render)"
   ]
  },
  {
   "cell_type": "markdown",
   "metadata": {},
   "source": [
    "Now go to the `render-ws` [homepage](http://sonic:8080/render-ws/view/index.html) and click on `Render Project Dashboard`. This will open a new tab and you should see a table with the names of the stacks in the script all in the `LOADING` state. You can view information about each stack by clicking on `View --> Metadata` (or by going to `http://sonic:8080/render-ws/v1/owner/<user>/project/iCAT_demo/stack/<stack>`)."
   ]
  },
  {
   "cell_type": "markdown",
   "metadata": {},
   "source": [
    "### 2.3 Generate Tile Specifications\n",
    "Here we define a helper function to help generate a list of what are called `TileSpecs`. A `TileSpec` (short for tile specification) is a `render-python` object with many of the same properties/parameters written out in the `stack_data`, but each individual image tile has its own specifications."
   ]
  },
  {
   "cell_type": "code",
   "execution_count": 4,
   "metadata": {},
   "outputs": [],
   "source": [
    "def gen_tile_specs(stack, stack_data):\n",
    "    \"\"\"\n",
    "    Helper function for generating TileSpecs\n",
    "    \n",
    "    Reads in stack data and then loops through all the image tiles in a\n",
    "    stack directory to populate the list of TileSpecs\n",
    "    \"\"\"\n",
    "    # Get input from stack_data\n",
    "    data_dir = stack_data['data_dir']\n",
    "    N_sections = stack_data.get('N_sections', 1)\n",
    "    width = stack_data['width']\n",
    "    height = stack_data['height']\n",
    "    overlap = stack_data.get('overlap', 20)\n",
    "    px_size = stack_data[stack]['px_size']\n",
    "    intensity_range = stack_data[stack].get('intensity_range', (0, 65535))\n",
    "\n",
    "    # TODO: use tile_convention instead\n",
    "    tiles = list(data_dir.glob(f'{stack}/*.ome.tif'))\n",
    "    tile_specs = []\n",
    "    for z in range(N_sections):\n",
    "        for tile in tiles:\n",
    "\n",
    "            # TODO: use tile_convention instead\n",
    "            c, r = [int(i) for i in re.findall('\\d+', tile.name)]\n",
    "            x_pos = c * width * (1 - overlap/100) * px_size\n",
    "            y_pos = r * height * (1 - overlap/100) * px_size\n",
    "\n",
    "            layout = Layout(sectionId=f'{z:05d}',\n",
    "                            scopeId=stack_data.get('scopeId'),\n",
    "                            cameraId=stack_data.get('cameraId'),\n",
    "                            imageRow=r,\n",
    "                            imageCol=c,\n",
    "                            stageX=x_pos,\n",
    "                            stageY=y_pos,\n",
    "                            rotation=0.0,\n",
    "                            pixelsize=px_size)\n",
    "\n",
    "            at = AffineModel(B0=layout.stageX/layout.pixelsize,\n",
    "                             B1=layout.stageY/layout.pixelsize)\n",
    "\n",
    "            tileId = tile.name.split('.')[0]\n",
    "            imageUrl = tile.as_uri()\n",
    "            tile_spec = TileSpec(tileId=tileId,\n",
    "                                 z=z,\n",
    "                                 width=width,\n",
    "                                 height=height,\n",
    "                                 minint=intensity_range[0],\n",
    "                                 maxint=intensity_range[1],\n",
    "                                 imageUrl=imageUrl,\n",
    "                                 maskUrl=None,\n",
    "                                 layout=layout,\n",
    "                                 tforms=[at])\n",
    "\n",
    "            tile_specs.append(tile_spec)\n",
    "\n",
    "    return tile_specs"
   ]
  },
  {
   "cell_type": "markdown",
   "metadata": {},
   "source": [
    "Now we use the `gen_tile_specs` function we just defined to generate the tile specifications."
   ]
  },
  {
   "cell_type": "code",
   "execution_count": 5,
   "metadata": {},
   "outputs": [
    {
     "name": "stdout",
     "output_type": "stream",
     "text": [
      "Generating lil_EM stack tile specifications...\n",
      "Generating big_EM stack tile specifications...\n",
      "Generating hoechst stack tile specifications...\n",
      "Generating amylase stack tile specifications...\n",
      "Generating insulin stack tile specifications...\n",
      "Tile specifications generated successfully.\n"
     ]
    }
   ],
   "source": [
    "# Use gen_tile_specs to generate TileSpecs\n",
    "tile_specs = {}\n",
    "for stack in stacks:\n",
    "    \n",
    "    print(f'Generating {stack} stack tile specifications...')\n",
    "    # Get TileSpecs from stack_data\n",
    "    tile_specs[stack] = gen_tile_specs(stack, stack_data)\n",
    "\n",
    "print('Tile specifications generated successfully.')"
   ]
  },
  {
   "cell_type": "markdown",
   "metadata": {},
   "source": [
    "Now that we have generated all of the tile specifications, lets take a look at what a tile specification actually looks like. You can replace `'big_EM'` with `'hoechst'`, `'insulin'`, `'amylase'`, or `'lil_EM'` to see what a `TileSpec` in each of these respective stacks looks like."
   ]
  },
  {
   "cell_type": "code",
   "execution_count": 6,
   "metadata": {},
   "outputs": [
    {
     "data": {
      "text/plain": [
       "{'tileId': 'lil_EM-00000x00005',\n",
       " 'z': 0,\n",
       " 'width': 2048,\n",
       " 'height': 2048,\n",
       " 'minIntensity': 31800,\n",
       " 'maxIntensity': 35200,\n",
       " 'layout': {'sectionId': '00000',\n",
       "  'imageRow': 5,\n",
       "  'imageCol': 0,\n",
       "  'stageX': 0.0,\n",
       "  'stageY': 39559.168,\n",
       "  'rotation': 0.0,\n",
       "  'pixelsize': 4.829},\n",
       " 'mipmapLevels': {'0': {'imageUrl': 'file:///long_term_storage/rlane/SECOM/iCAT_sample_data/lil_EM/lil_EM-00000x00005.ome.tif'}},\n",
       " 'transforms': {'type': 'list',\n",
       "  'specList': [{'type': 'leaf',\n",
       "    'className': 'mpicbg.trakem2.transform.AffineModel2D',\n",
       "    'dataString': '1.0000000000 0.0000000000 0.0000000000 1.0000000000 0.0000000000 8192.0000000000'}]}}"
      ]
     },
     "execution_count": 6,
     "metadata": {},
     "output_type": "execute_result"
    }
   ],
   "source": [
    "tile_specs['lil_EM'][0].to_dict()"
   ]
  },
  {
   "cell_type": "markdown",
   "metadata": {},
   "source": [
    "Tile specifications can also be viewed natively through `render-ws` at  \n",
    "`http://sonic:8080/render-ws/v1/owner/<user>/project/iCAT_demo/stack/<stack>/tile/<tileId>`  \n",
    "e.g. \n",
    "`http://sonic:8080/render-ws/v1/owner/<user>/project/iCAT_demo/stack/lil_EM/tile/lil_EM-00003x00002`\n",
    "\n",
    "### 2.4 Import Tile Specifications to render\n",
    "Now we have created the `render-python` `TileSpec` objects, but they still have to be imported into `render-ws`. Thankfully, `render-python` makes this very easy and takes care of it behind the scenes. We will also change the stack state from `LOADING` to `COMPLETE` to tell `render-ws` we are done modifying these stacks."
   ]
  },
  {
   "cell_type": "code",
   "execution_count": 7,
   "metadata": {},
   "outputs": [
    {
     "name": "stdout",
     "output_type": "stream",
     "text": [
      "Importing lil_EM tile specifications to render...\n",
      "Importing big_EM tile specifications to render...\n",
      "Importing hoechst tile specifications to render...\n",
      "Importing amylase tile specifications to render...\n",
      "Importing insulin tile specifications to render...\n",
      "Tile specifications imported successfully.\n"
     ]
    }
   ],
   "source": [
    "for stack in stacks:\n",
    "    print(f'Importing {stack} tile specifications to render...')\n",
    "\n",
    "    # Import TileSpecs to render\n",
    "    renderapi.client.import_tilespecs(stack,\n",
    "                                      tile_specs[stack],\n",
    "                                      close_stack=True,\n",
    "                                      render=render)\n",
    "\n",
    "    # Set stack state to complete\n",
    "    renderapi.stack.set_stack_state(stack, 'COMPLETE', render=render)\n",
    "    \n",
    "print('Tile specifications imported successfully.')"
   ]
  },
  {
   "cell_type": "markdown",
   "metadata": {},
   "source": [
    "### 2.5 View Stacks in render\n",
    "Now we can see the same TileSpec information via a `render-ws` http request:  \n",
    "`http://sonic:8080/render-ws/v1/owner/<user>/project/iCAT_demo/stack/big_EM/tile/big_EM-00000x00000`  \n",
    "(again replace `<user>` with your username)\n",
    "\n",
    "Even cooler (hard-to-believe, I know), you can view the sample image data with another http request  \n",
    "`http://sonic:8080/render-ws/v1/owner/<user>/project/iCAT_demo/stack/big_EM/z/0/box/0,0,2200,2200,0.5/jpeg-image` or  \n",
    "`http://sonic:8080/render-ws/v1/owner/<user>/project/iCAT_demo/stack/lil_EM/z/0/box/0,0,10000,10000,0.1/jpeg-image`\n",
    "where you specify a bounding box over the stack. You can replace the stack and the width, height, and zoom of the bounding box to render other views of stacks.\n",
    "\n",
    "#### For a full, interactive list of the `render-ws` api, go to http://sonic:8080/swagger-ui/"
   ]
  },
  {
   "cell_type": "markdown",
   "metadata": {},
   "source": [
    "---\n",
    "## 3 CATMAID\n",
    "#### Documentation\n",
    "* http://catmaid.readthedocs.io/en/stable/\n",
    "\n",
    "### 3.1 Export Tiles to CATMAID\n",
    "\n",
    "All right, so now your stacks are loaded into render and you can look at rendered images. But it's still just static images. Now we will export our rendered images to tiles that can be reimported to CATMAID. Not ideal, I know. We are currently working on supporting \"dynamic rendering\" between `render` and CATMAID. But this is what we have to do for the time being.\n",
    "\n",
    "On the plus side, it's fairly straightforward to export tiles out of `render`. There is no `render-python` wrapper for the export function (to my knowledge), but we can make a direct call to the shell script (`render_catmaid_boxes.sh`) that does this automatically. We first suppply the script with the necessary arguments and then execute for each stack."
   ]
  },
  {
   "cell_type": "code",
   "execution_count": 8,
   "metadata": {},
   "outputs": [
    {
     "name": "stdout",
     "output_type": "stream",
     "text": [
      "Exporting lil_EM tiles to CATMAID...\n",
      "Exporting big_EM tiles to CATMAID...\n",
      "Exporting hoechst tiles to CATMAID...\n",
      "Exporting amylase tiles to CATMAID...\n",
      "Exporting insulin tiles to CATMAID...\n",
      "Tiles exported successfully.\n"
     ]
    }
   ],
   "source": [
    "catmaid_export_args = {\n",
    "    'export_dir': Path(f'/long_term_storage/{user}/CATMAID/projects/'),\n",
    "    'height': 1024,\n",
    "    'width': 1024,\n",
    "    'format': 'png',\n",
    "    'max_level': 4,\n",
    "    'base_data_url': 'http://sonic:8080/render-ws/v1',\n",
    "}\n",
    "\n",
    "for stack in stacks:\n",
    "    print(f'Exporting {stack} tiles to CATMAID...')\n",
    "    subprocess.run([f\"{render_connect_params['client_scripts']}/render_catmaid_boxes.sh\",\n",
    "                    f\"--stack {stack}\",\n",
    "                    f\"--rootDirectory {catmaid_export_args['export_dir']}\",\n",
    "                    f\"--height {catmaid_export_args['height']}\",\n",
    "                    f\"--width {catmaid_export_args['width']}\",\n",
    "                    f\"--format {catmaid_export_args['format']}\",\n",
    "                    f\"--maxLevel {catmaid_export_args['max_level']}\",\n",
    "                    f\"--owner {render_connect_params['owner']}\",\n",
    "                    f\"--project {render_connect_params['project']}\",\n",
    "                    f\"--baseDataUrl {catmaid_export_args['base_data_url']}\",\n",
    "                    f\"0\"])\n",
    "print('Tiles exported successfully.')"
   ]
  },
  {
   "cell_type": "markdown",
   "metadata": {},
   "source": [
    "### 3.2 Change Tile Format\n",
    "#### Documentation\n",
    "* http://catmaid.readthedocs.io/en/stable/tile_sources.html\n",
    "\n",
    "Navigate to your long term CATMAID projects storage folder. There should now be a new folder there, `iCAT_demo` with the stacks as subdirectories. Super. If only this was it. The tile images are now stored according to the [(7/10) render-ws convention](http://catmaid.readthedocs.io/en/stable/tile_sources.html#render-service), one of many possible tiling conventions. For some unfortunate and slightly ironic reason, CATMAID doesn't seem to like this convention very much... So we will reformat how the tiles are stored to the [(1/10) file-based image stack](http://catmaid.readthedocs.io/en/stable/tile_sources.html#file-based-image-stack).\n",
    "\n",
    "So go from this convention  \n",
    "`<sourceBaseURL>largeDataTileSource/<tileWidth>/<tileHeight>/<zoomLevel>/<pixelPosition.z>/<row>/<col>.<fileExtension>\n",
    "`  \n",
    "e.g. `.../iCAT_demo/lil_EM/1024x1024/2/0/5/4.png`  \n",
    "\n",
    "to this convention  \n",
    "`<sourceBaseUrl><pixelPosition.z>/<row>_<col>_<zoomLevel>.<fileExtension>`  \n",
    "e.g. `.../iCAT_demo/lil_EM/0/5_4_2.png`\n",
    "\n",
    "Basically, this just boils down to renaming the tiles."
   ]
  },
  {
   "cell_type": "code",
   "execution_count": 9,
   "metadata": {},
   "outputs": [],
   "source": [
    "# Set directory to export to (/long_term_storage/<user>/CATMAID/projects/iCAT_demo/)\n",
    "export_dir = catmaid_export_args['export_dir'].joinpath(render_connect_params['project'])\n",
    "\n",
    "for stack in stacks:\n",
    "    # Collect every tile in each stack\n",
    "    stack_dir = export_dir.joinpath(stack)\n",
    "    tiles = stack_dir.glob('1024x1024/**/[0-9]*.png')\n",
    "    \n",
    "    # Relocate tiles in accordance with tile source convention 1\n",
    "    for tile_format_7 in tiles:\n",
    "        tile_structure = tile_format_7.as_posix().split('.')[0].split(tile_format_7.anchor)\n",
    "        zoom, z, row, col = tile_structure[-4:]\n",
    "        \n",
    "        # Move tile to new directory\n",
    "        tile_format_1 = export_dir.joinpath(f'{stack}/{z}/{row}_{col}_{zoom}.png')\n",
    "        # Make directory (and parent directory) if necessary\n",
    "        tile_format_1.parent.mkdir(parents=True, exist_ok=True)\n",
    "        tile_format_7.rename(tile_format_1)\n",
    "        \n",
    "    # Clean up directory tree by removing the now empty 1024x1024 parent folder\n",
    "    shutil.rmtree(stack_dir.joinpath('1024x1024').as_posix())"
   ]
  },
  {
   "cell_type": "markdown",
   "metadata": {},
   "source": [
    "### 3.3 Import Stacks into CATMAID\n",
    "#### Documentation\n",
    "* http://catmaid.readthedocs.io/en/stable/importing_data.html#importing-project-and-stack-information\n",
    "\n",
    "Now that the CATMAID tiles have been relocated to fit tile source convention 1, we can import them into CATMAID. CATMAID has a very similar organization scheme as `render` in that owners own projects, which contain stacks, which are made up of image tiles.\n",
    "\n",
    "While it is possible to conveniently import stacks using a `project.yaml` file, the importer seems to still have some kinks in it. So we will instead go over how to import stacks manually. It's not that difficult anyway. Open the `project.yaml` file (inside the sample data directory) in a text editor anyhow, as it will be useful for filling in the stack information.\n",
    "\n",
    "Go to the CATMAID admin page: http://sonic/catmaid/admin/. Choose `Projects` which will return the list of current projects. Now click on the add project button in the upper right. Projects are easy to add because they only need a name and the names of the stacks to contain. Name the project `iCAT_demo` and click save at the bottom of the page since at the moment there are no stacks to add.\n",
    "\n",
    "Now go back to the admin page and click on `Stacks`, which brings you to a list of the current stacks, and click on the add stack button in the upper right. Now add stacks following the information in the `project.yaml` file. When finished, your project should appear in the project list on the CATMAID homepage http://sonic/catmaid/."
   ]
  }
 ],
 "metadata": {
  "kernelspec": {
   "display_name": "Python 3",
   "language": "python",
   "name": "python3"
  },
  "language_info": {
   "codemirror_mode": {
    "name": "ipython",
    "version": 3
   },
   "file_extension": ".py",
   "mimetype": "text/x-python",
   "name": "python",
   "nbconvert_exporter": "python",
   "pygments_lexer": "ipython3",
   "version": "3.6.6"
  }
 },
 "nbformat": 4,
 "nbformat_minor": 2
}
